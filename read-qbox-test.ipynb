{
 "cells": [
  {
   "cell_type": "markdown",
   "metadata": {
    "deletable": true,
    "editable": true
   },
   "source": [
    "# Read the Forces from a QBOX Output\n",
    "Just to make sure the ASE parser is working"
   ]
  },
  {
   "cell_type": "code",
   "execution_count": 1,
   "metadata": {
    "collapsed": false,
    "deletable": true,
    "editable": true
   },
   "outputs": [],
   "source": [
    "%matplotlib inline\n",
    "from ase.io import qbox, cube\n",
    "from matplotlib import pyplot as plt\n",
    "from numpy.linalg import norm\n",
    "from scipy.interpolate import RegularGridInterpolator\n",
    "import numpy as np\n",
    "import itertools\n",
    "import os"
   ]
  },
  {
   "cell_type": "markdown",
   "metadata": {
    "deletable": true,
    "editable": true
   },
   "source": [
    "## Read in an OUTPUT file\n",
    "Pick one at random"
   ]
  },
  {
   "cell_type": "code",
   "execution_count": 2,
   "metadata": {
    "collapsed": false,
    "deletable": true,
    "editable": true
   },
   "outputs": [],
   "source": [
    "data = qbox.read_out(os.path.join('256_Al', 'kpgenlong_sd_psd_combo_r17_111_cutoff_50_3.out'), slice(None))"
   ]
  },
  {
   "cell_type": "code",
   "execution_count": 3,
   "metadata": {
    "collapsed": false,
    "deletable": true,
    "editable": true
   },
   "outputs": [
    {
     "name": "stdout",
     "output_type": "stream",
     "text": [
      "Read 800 frames\n"
     ]
    }
   ],
   "source": [
    "print('Read %d frames'%len(data))"
   ]
  },
  {
   "cell_type": "markdown",
   "metadata": {
    "deletable": true,
    "editable": true
   },
   "source": [
    "## Plot Energy as a Function of Frame\n",
    "Simple plot"
   ]
  },
  {
   "cell_type": "code",
   "execution_count": 4,
   "metadata": {
    "collapsed": false,
    "deletable": true,
    "editable": true
   },
   "outputs": [
    {
     "data": {
      "text/plain": [
       "[<matplotlib.lines.Line2D at 0x2328010d5c0>]"
      ]
     },
     "execution_count": 4,
     "metadata": {},
     "output_type": "execute_result"
    },
    {
     "data": {
      "image/png": "[encoded data removed]",
      "text/plain": [
       "<matplotlib.figure.Figure at 0x2328010d630>"
      ]
     },
     "metadata": {},
     "output_type": "display_data"
    }
   ],
   "source": [
    "fig, ax = plt.subplots()\n",
    "\n",
    "ax.plot(range(len(data)), [frame.get_total_energy() for frame in data])"
   ]
  },
  {
   "cell_type": "markdown",
   "metadata": {
    "deletable": true,
    "editable": true
   },
   "source": [
    "## Plot Force on H as a function of position\n",
    "This should be equivalent to the plot in the paper"
   ]
  },
  {
   "cell_type": "code",
   "execution_count": 5,
   "metadata": {
    "collapsed": false,
    "deletable": true,
    "editable": true
   },
   "outputs": [],
   "source": [
    "forces = [frame.get_forces()[-1] for frame in data]\n",
    "position = [frame[-1].position for frame in data]"
   ]
  },
  {
   "cell_type": "markdown",
   "metadata": {
    "deletable": true,
    "editable": true
   },
   "source": [
    "Compute the displacement and magnitude of force"
   ]
  },
  {
   "cell_type": "code",
   "execution_count": 6,
   "metadata": {
    "collapsed": true,
    "deletable": true,
    "editable": true
   },
   "outputs": [],
   "source": [
    "force_mag = [x[0] for x in forces]\n",
    "displacement = [norm(x-position[0]) for x in position]"
   ]
  },
  {
   "cell_type": "code",
   "execution_count": 7,
   "metadata": {
    "collapsed": false,
    "deletable": true,
    "editable": true
   },
   "outputs": [
    {
     "data": {
      "text/plain": [
       "[<matplotlib.lines.Line2D at 0x2328010db70>]"
      ]
     },
     "execution_count": 7,
     "metadata": {},
     "output_type": "execute_result"
    },
    {
     "data": {
      "image/png": "[encoded data removed]",
      "text/plain": [
       "<matplotlib.figure.Figure at 0x2328010d860>"
      ]
     },
     "metadata": {},
     "output_type": "display_data"
    }
   ],
   "source": [
    "fig, ax = plt.subplots()\n",
    "\n",
    "ax.plot(displacement, force_mag)"
   ]
  },
  {
   "cell_type": "markdown",
   "metadata": {
    "deletable": true,
    "editable": true
   },
   "source": [
    "## Read the CUBE file\n",
    "Load in the file using `ase`, make in an interpolator"
   ]
  },
  {
   "cell_type": "code",
   "execution_count": 8,
   "metadata": {
    "collapsed": false,
    "deletable": true,
    "editable": true
   },
   "outputs": [],
   "source": [
    "density, cube_atoms = cube.read_cube_data(os.path.join('256_Al', 'Al_semi_core_gs.cube'))"
   ]
  },
  {
   "cell_type": "markdown",
   "metadata": {
    "deletable": true,
    "editable": true
   },
   "source": [
    "Plot the yz plane"
   ]
  },
  {
   "cell_type": "code",
   "execution_count": 9,
   "metadata": {
    "collapsed": false,
    "deletable": true,
    "editable": true
   },
   "outputs": [
    {
     "data": {
      "text/plain": [
       "<matplotlib.colorbar.Colorbar at 0x2328a806c88>"
      ]
     },
     "execution_count": 9,
     "metadata": {},
     "output_type": "execute_result"
    },
    {
     "data": {
      "image/png": "[encoded data removed]",
      "text/plain": [
       "<matplotlib.figure.Figure at 0x2328449ddd8>"
      ]
     },
     "metadata": {},
     "output_type": "display_data"
    }
   ],
   "source": [
    "fig, ax = plt.subplots()\n",
    "\n",
    "cbdata = ax.imshow(density[0,:60,:60], cmap='Blues', vmin=0, vmax=density.max(), origin='lower')\n",
    "\n",
    "fig.colorbar(cbdata, label='Electron Density')"
   ]
  },
  {
   "cell_type": "markdown",
   "metadata": {
    "deletable": true,
    "editable": true
   },
   "source": [
    "Functions for getting an interpolator (from `b2-test`)"
   ]
  },
  {
   "cell_type": "code",
   "execution_count": 10,
   "metadata": {
    "collapsed": false,
    "deletable": true,
    "editable": true
   },
   "outputs": [],
   "source": [
    "def expand_density(rho):\n",
    "    \"\"\"Density from CUBE is on range [0,1) along each axis, make it go from [0,1]\n",
    "    \n",
    "    Do so by appending the data at '0' to that at 1 (periodic boundary conditions)\"\"\"\n",
    "    \n",
    "    # Make a slightly larger array\n",
    "    rho_new = np.zeros(np.array(rho.shape)+1)\n",
    "    \n",
    "    # Copy over the data\n",
    "    rho_new[:rho.shape[0], :rho.shape[1], :rho.shape[2]] = rho # Bulk of the data\n",
    "    \n",
    "    rho_new[:rho.shape[0], :rho.shape[1], rho.shape[2]] = rho[:,:,0] # Faces\n",
    "    rho_new[:rho.shape[0], rho.shape[1], :rho.shape[2]] = rho[:,0,:]\n",
    "    rho_new[rho.shape[0], :rho.shape[1], :rho.shape[2]] = rho[0,:,:]\n",
    "    \n",
    "    rho_new[:rho.shape[0], rho.shape[1], rho.shape[2]] = rho[:,0,0] # Edges\n",
    "    rho_new[rho.shape[0], :rho.shape[1], rho.shape[2]] = rho[0,:,0] \n",
    "    rho_new[rho.shape[0], rho.shape[1], :rho.shape[2]] = rho[0,0,:]\n",
    "    \n",
    "    rho_new[rho.shape[0], rho.shape[1], rho.shape[2]] = rho[0,0,0] # Point\n",
    "    \n",
    "    return rho_new\n",
    "def get_interpolator(cd):\n",
    "    \"\"\"Downsample a charge car to a certain number of samples. \n",
    "    \n",
    "    :return: ndarray with the requested number of samples\"\"\"\n",
    "    \n",
    "    # Expand the array to go between zero and one\n",
    "    charge = expand_density(cd)\n",
    "    \n",
    "    # Grid varies between [0,1)\n",
    "    return RegularGridInterpolator([list(np.linspace(0,1,x)) for x in charge.shape], charge)"
   ]
  },
  {
   "cell_type": "code",
   "execution_count": 11,
   "metadata": {
    "collapsed": false,
    "deletable": true,
    "editable": true
   },
   "outputs": [],
   "source": [
    "density_inter = get_interpolator(density)"
   ]
  },
  {
   "cell_type": "markdown",
   "metadata": {
    "deletable": true,
    "editable": true
   },
   "source": [
    "## Plot force vs local density\n",
    "Just to see if the two are indeed correlated"
   ]
  },
  {
   "cell_type": "code",
   "execution_count": 12,
   "metadata": {
    "collapsed": true,
    "deletable": true,
    "editable": true
   },
   "outputs": [],
   "source": [
    "scaled_pos = [frame.get_scaled_positions()[-1] for frame in data]"
   ]
  },
  {
   "cell_type": "code",
   "execution_count": 13,
   "metadata": {
    "collapsed": true,
    "deletable": true,
    "editable": true
   },
   "outputs": [],
   "source": [
    "path_density = density_inter(scaled_pos)"
   ]
  },
  {
   "cell_type": "code",
   "execution_count": 14,
   "metadata": {
    "collapsed": false,
    "deletable": true,
    "editable": true
   },
   "outputs": [
    {
     "data": {
      "text/plain": [
       "<matplotlib.text.Text at 0x2328c519c18>"
      ]
     },
     "execution_count": 14,
     "metadata": {},
     "output_type": "execute_result"
    },
    {
     "data": {
      "image/png": "[encoded data removed]",
      "text/plain": [
       "<matplotlib.figure.Figure at 0x2328ada7dd8>"
      ]
     },
     "metadata": {},
     "output_type": "display_data"
    }
   ],
   "source": [
    "fig, ax = plt.subplots()\n",
    "\n",
    "cbdata = ax.scatter(path_density, force_mag, c=displacement, vmax=5)\n",
    "\n",
    "fig.colorbar(cbdata, label='Displacement ($\\AA$)')\n",
    "\n",
    "ax.set_xlabel('Charge Density')\n",
    "ax.set_ylabel('Force')"
   ]
  }
 ],
 "metadata": {
  "kernelspec": {
   "display_name": "Python 3",
   "language": "python",
   "name": "python3"
  },
  "language_info": {
   "codemirror_mode": {
    "name": "ipython",
    "version": 3
   },
   "file_extension": ".py",
   "mimetype": "text/x-python",
   "name": "python",
   "nbconvert_exporter": "python",
   "pygments_lexer": "ipython3",
   "version": "3.6.0"
  }
 },
 "nbformat": 4,
 "nbformat_minor": 2
}
