{
 "cells": [
  {
   "cell_type": "markdown",
   "metadata": {
    "deletable": true,
    "editable": true
   },
   "source": [
    "# Testing Different ML Algorithms\n",
    "Just getting an idea for what would be effective with this dataset"
   ]
  },
  {
   "cell_type": "code",
   "execution_count": 1,
   "metadata": {
    "collapsed": false,
    "deletable": true,
    "editable": true
   },
   "outputs": [],
   "source": [
    "%matplotlib inline\n",
    "from copy import deepcopy\n",
    "from glob import glob\n",
    "from matplotlib import pyplot as plt\n",
    "from sklearn.dummy import DummyRegressor\n",
    "from sklearn.neural_network import MLPRegressor\n",
    "from sklearn.gaussian_process import GaussianProcessRegressor\n",
    "from sklearn.gaussian_process.kernels import RBF, ConstantKernel as C\n",
    "from sklearn.model_selection import cross_validate, cross_val_predict, RepeatedKFold, GridSearchCV\n",
    "from sklearn.linear_model import BayesianRidge, ARDRegression, Lasso\n",
    "from sklearn.preprocessing import PolynomialFeatures\n",
    "from sklearn.pipeline import Pipeline\n",
    "from stopping_power_ml.io import load_qbox_data\n",
    "import pandas as pd\n",
    "import numpy as np\n",
    "import pickle as pkl"
   ]
  },
  {
   "cell_type": "code",
   "execution_count": 2,
   "metadata": {
    "collapsed": true,
    "deletable": true,
    "editable": true
   },
   "outputs": [],
   "source": [
    "import warnings; warnings.simplefilter('ignore')"
   ]
  },
  {
   "cell_type": "markdown",
   "metadata": {
    "deletable": true,
    "editable": true
   },
   "source": [
    "## Load in the Dataset\n",
    "This was created by a different notebook"
   ]
  },
  {
   "cell_type": "code",
   "execution_count": 3,
   "metadata": {
    "collapsed": false,
    "deletable": true,
    "editable": true
   },
   "outputs": [],
   "source": [
    "data = pd.read_csv('training_set.csv')"
   ]
  },
  {
   "cell_type": "markdown",
   "metadata": {
    "deletable": true,
    "editable": true
   },
   "source": [
    "Determine which columns are inputs"
   ]
  },
  {
   "cell_type": "code",
   "execution_count": 4,
   "metadata": {
    "collapsed": false,
    "deletable": true,
    "editable": true
   },
   "outputs": [],
   "source": [
    "charge_attrs = [x for x in data.columns if x.startswith('density')]"
   ]
  },
  {
   "cell_type": "code",
   "execution_count": 5,
   "metadata": {
    "collapsed": true,
    "deletable": true,
    "editable": true
   },
   "outputs": [],
   "source": [
    "agni_attrs = [x for x in data.columns if x.startswith('AGNI')]"
   ]
  },
  {
   "cell_type": "code",
   "execution_count": 6,
   "metadata": {
    "collapsed": false,
    "deletable": true,
    "editable": true
   },
   "outputs": [],
   "source": [
    "ewald_attrs = ['ion-ion repulsion',]"
   ]
  },
  {
   "cell_type": "code",
   "execution_count": 7,
   "metadata": {
    "collapsed": true,
    "deletable": true,
    "editable": true
   },
   "outputs": [],
   "source": [
    "y_col = 'force'"
   ]
  },
  {
   "cell_type": "code",
   "execution_count": 8,
   "metadata": {
    "collapsed": true,
    "deletable": true,
    "editable": true
   },
   "outputs": [],
   "source": [
    "X_cols = charge_attrs + agni_attrs + ewald_attrs"
   ]
  },
  {
   "cell_type": "markdown",
   "metadata": {
    "deletable": true,
    "editable": true
   },
   "source": [
    "## Test out Some ML Models\n",
    "Trying out various differentiable ML algorithms:\n",
    "\n",
    "- `DummyRegressor`: \n",
    "- `BayesianRidge`: Ridge regression that sets the hyperparameters for you\n",
    "- ~~`ARDRegression`: Sparser BayesianRidge~~ [Too slow]\n",
    "- `MLPRegressor`: Simple NN, annoying to tune\n",
    "- ~~`GuassianProcessRegressor`: Nonlinear continuous model~~ [Too slow]\n",
    "- `Lasso`: Sparse linear model, fast to train"
   ]
  },
  {
   "cell_type": "markdown",
   "metadata": {
    "deletable": true,
    "editable": true
   },
   "source": [
    "### Create Testing Routines\n",
    "Some tools used to test this model"
   ]
  },
  {
   "cell_type": "code",
   "execution_count": 9,
   "metadata": {
    "collapsed": true,
    "deletable": true,
    "editable": true
   },
   "outputs": [],
   "source": [
    "kfold = RepeatedKFold(n_splits=10, n_repeats=1, random_state=1) # 10x10-fold CV"
   ]
  },
  {
   "cell_type": "code",
   "execution_count": 10,
   "metadata": {
    "collapsed": false,
    "deletable": true,
    "editable": true
   },
   "outputs": [],
   "source": [
    "def train_over_time(model, data, steps=None):\n",
    "    \"\"\"Train the model on increasingly-larger amounts of data\n",
    "    \n",
    "    :param model: model to be tested\n",
    "    :param data: training/test data\n",
    "    :param steps: increments to test at. Model is trained at all entries before this timestep\n",
    "    :return: \n",
    "        - train_size: Number of training points\n",
    "        - average_force: Average force (i.e., stopping power) as at each step\n",
    "        - trajectory: Full trajectory\n",
    "        - step: timestep\n",
    "    \"\"\"\n",
    "    \n",
    "    # Get the default steps\n",
    "    if steps is None:\n",
    "        steps = np.linspace(data['timestep'].min(), data['timestep'].max(), 31, dtype=np.int)[1:]\n",
    "        \n",
    "    # Test the models\n",
    "    mean_forces = []\n",
    "    trajs = []\n",
    "    force_errors = []\n",
    "    train_size = []\n",
    "    for step in steps:\n",
    "        # Train model on all timesteps before current\n",
    "        train_data = data.query('timestep <= %d'%step)\n",
    "        train_size.append(len(train_data))\n",
    "        model.fit(train_data[X_cols], train_data[y_col])\n",
    "        \n",
    "        \n",
    "        # Predict on all timesteps\n",
    "        traj = model.predict(data[X_cols])\n",
    "        \n",
    "        # Store results\n",
    "        mean_forces.append(traj.mean())\n",
    "        trajs.append(traj)\n",
    "        force_errors.append((traj - data[y_col]).mean())\n",
    "    \n",
    "    return train_size, mean_forces, trajs, steps"
   ]
  },
  {
   "cell_type": "code",
   "execution_count": 11,
   "metadata": {
    "collapsed": false,
    "deletable": true,
    "editable": true
   },
   "outputs": [],
   "source": [
    "test_results = dict()\n",
    "def run_tests(model, name, verbose=False):\n",
    "    \"\"\"Evaluate a model, store results in test_results variable\n",
    "    \n",
    "    :param model: model to test\n",
    "    :param name: name of results to store\"\"\"\n",
    "    \n",
    "    # Standard cross-validation\n",
    "    k_fold = cross_validate(model, data[charge_attrs+agni_attrs+ewald_attrs].values, data[y_col].values,\n",
    "               scoring='neg_mean_squared_error', cv=kfold)\n",
    "    if verbose:\n",
    "        print('Model: %s - K-fold error: mean=%.2e max=%.2e'%(name, -k_fold['test_score'].mean(), -k_fold['test_score'].min()))\n",
    "        \n",
    "    # Increase time CV\n",
    "    step, mean_forces, traj, steps = train_over_time(model, data)\n",
    "    \n",
    "    if verbose:\n",
    "        print('Model: %s - Stopping power after half simulation: predicted=%.2f actual=%.2f'%(name,\n",
    "                                                                                              mean_forces[int(len(mean_forces)/2)],\n",
    "                                                                                             data[y_col].mean()))\n",
    "        \n",
    "    # Train model on whole dataset\n",
    "    model.fit(data[charge_attrs+agni_attrs+ewald_attrs].values, data[y_col].values)\n",
    "    \n",
    "    test_results[name] = {\n",
    "        'k_fold':k_fold,\n",
    "        'over_time': {'training_size': step, 'mean_force': mean_forces, 'traj': traj, 'step':steps},\n",
    "        'model': deepcopy(model)\n",
    "    }"
   ]
  },
  {
   "cell_type": "markdown",
   "metadata": {
    "deletable": true,
    "editable": true
   },
   "source": [
    "### Run a dummy model\n",
    "Get a \"non-ML\" baseline"
   ]
  },
  {
   "cell_type": "code",
   "execution_count": 12,
   "metadata": {
    "collapsed": true,
    "deletable": true,
    "editable": true
   },
   "outputs": [],
   "source": [
    "model = DummyRegressor()"
   ]
  },
  {
   "cell_type": "code",
   "execution_count": 13,
   "metadata": {
    "collapsed": false,
    "deletable": true,
    "editable": true
   },
   "outputs": [
    {
     "name": "stdout",
     "output_type": "stream",
     "text": [
      "Model: dummy - K-fold error: mean=2.25e+01 max=5.38e+01\n",
      "Model: dummy - Stopping power after half simulation: predicted=0.24 actual=0.24\n",
      "CPU times: user 153 ms, sys: 13 ms, total: 166 ms\n",
      "Wall time: 165 ms\n"
     ]
    }
   ],
   "source": [
    "%%time\n",
    "run_tests(model, 'dummy', True)"
   ]
  },
  {
   "cell_type": "markdown",
   "metadata": {
    "deletable": true,
    "editable": true
   },
   "source": [
    "### Test default NN\n",
    "Get a baseline for the later tuning"
   ]
  },
  {
   "cell_type": "code",
   "execution_count": 14,
   "metadata": {
    "collapsed": false,
    "deletable": true,
    "editable": true
   },
   "outputs": [],
   "source": [
    "model = MLPRegressor(activation='tanh', hidden_layer_sizes=(16,))"
   ]
  },
  {
   "cell_type": "code",
   "execution_count": 15,
   "metadata": {
    "collapsed": false,
    "deletable": true,
    "editable": true
   },
   "outputs": [
    {
     "data": {
      "text/plain": [
       "MLPRegressor(activation='tanh', alpha=0.0001, batch_size='auto', beta_1=0.9,\n",
       "       beta_2=0.999, early_stopping=False, epsilon=1e-08,\n",
       "       hidden_layer_sizes=(16,), learning_rate='constant',\n",
       "       learning_rate_init=0.001, max_iter=200, momentum=0.9,\n",
       "       nesterovs_momentum=True, power_t=0.5, random_state=None,\n",
       "       shuffle=True, solver='adam', tol=0.0001, validation_fraction=0.1,\n",
       "       verbose=False, warm_start=False)"
      ]
     },
     "execution_count": 15,
     "metadata": {},
     "output_type": "execute_result"
    }
   ],
   "source": [
    "model"
   ]
  },
  {
   "cell_type": "code",
   "execution_count": 16,
   "metadata": {
    "collapsed": false,
    "deletable": true,
    "editable": true
   },
   "outputs": [
    {
     "name": "stdout",
     "output_type": "stream",
     "text": [
      "Model: baseline_nn - K-fold error: mean=1.60e-01 max=5.88e-01\n",
      "Model: baseline_nn - Stopping power after half simulation: predicted=0.22 actual=0.24\n",
      "CPU times: user 9min 14s, sys: 12.7 s, total: 9min 26s\n",
      "Wall time: 1min 30s\n"
     ]
    }
   ],
   "source": [
    "%%time\n",
    "run_tests(model, 'baseline_nn', True)"
   ]
  },
  {
   "cell_type": "markdown",
   "metadata": {
    "deletable": true,
    "editable": true
   },
   "source": [
    "### Test Bayesian Ridge\n"
   ]
  },
  {
   "cell_type": "code",
   "execution_count": 17,
   "metadata": {
    "collapsed": true,
    "deletable": true,
    "editable": true
   },
   "outputs": [],
   "source": [
    "model = BayesianRidge(normalize=True)"
   ]
  },
  {
   "cell_type": "code",
   "execution_count": 18,
   "metadata": {
    "collapsed": false,
    "deletable": true,
    "editable": true
   },
   "outputs": [
    {
     "name": "stdout",
     "output_type": "stream",
     "text": [
      "Model: bayes - K-fold error: mean=2.16e-03 max=2.47e-03\n",
      "Model: bayes - Stopping power after half simulation: predicted=0.24 actual=0.24\n",
      "CPU times: user 3.4 s, sys: 137 ms, total: 3.54 s\n",
      "Wall time: 369 ms\n"
     ]
    }
   ],
   "source": [
    "%%time\n",
    "run_tests(model, 'bayes', True)"
   ]
  },
  {
   "cell_type": "markdown",
   "metadata": {
    "deletable": true,
    "editable": true
   },
   "source": [
    "#### Measure Feature Importances"
   ]
  },
  {
   "cell_type": "code",
   "execution_count": 19,
   "metadata": {
    "collapsed": false,
    "deletable": true,
    "editable": true
   },
   "outputs": [
    {
     "data": {
      "text/plain": [
       "BayesianRidge(alpha_1=1e-06, alpha_2=1e-06, compute_score=False, copy_X=True,\n",
       "       fit_intercept=True, lambda_1=1e-06, lambda_2=1e-06, n_iter=300,\n",
       "       normalize=True, tol=0.001, verbose=False)"
      ]
     },
     "execution_count": 19,
     "metadata": {},
     "output_type": "execute_result"
    }
   ],
   "source": [
    "model.fit(data[X_cols], data[y_col])"
   ]
  },
  {
   "cell_type": "code",
   "execution_count": 20,
   "metadata": {
    "collapsed": false,
    "deletable": true,
    "editable": true
   },
   "outputs": [
    {
     "data": {
      "text/html": [
       "<div>\n",
       "<style>\n",
       "    .dataframe thead tr:only-child th {\n",
       "        text-align: right;\n",
       "    }\n",
       "\n",
       "    .dataframe thead th {\n",
       "        text-align: left;\n",
       "    }\n",
       "\n",
       "    .dataframe tbody tr th {\n",
       "        vertical-align: top;\n",
       "    }\n",
       "</style>\n",
       "<table border=\"1\" class=\"dataframe\">\n",
       "  <thead>\n",
       "    <tr style=\"text-align: right;\">\n",
       "      <th></th>\n",
       "      <th>feature</th>\n",
       "      <th>weight</th>\n",
       "    </tr>\n",
       "  </thead>\n",
       "  <tbody>\n",
       "    <tr>\n",
       "      <th>0</th>\n",
       "      <td>density t=-1.000000</td>\n",
       "      <td>-0.037006</td>\n",
       "    </tr>\n",
       "    <tr>\n",
       "      <th>1</th>\n",
       "      <td>density t=-2.000000</td>\n",
       "      <td>-0.002881</td>\n",
       "    </tr>\n",
       "    <tr>\n",
       "      <th>2</th>\n",
       "      <td>density t=-3.000000</td>\n",
       "      <td>0.030122</td>\n",
       "    </tr>\n",
       "    <tr>\n",
       "      <th>3</th>\n",
       "      <td>density t=-4.000000</td>\n",
       "      <td>0.015651</td>\n",
       "    </tr>\n",
       "    <tr>\n",
       "      <th>4</th>\n",
       "      <td>density t=-5.000000</td>\n",
       "      <td>0.013172</td>\n",
       "    </tr>\n",
       "    <tr>\n",
       "      <th>5</th>\n",
       "      <td>density t=0.000000</td>\n",
       "      <td>-0.016046</td>\n",
       "    </tr>\n",
       "    <tr>\n",
       "      <th>6</th>\n",
       "      <td>density t=1.000000</td>\n",
       "      <td>0.007187</td>\n",
       "    </tr>\n",
       "    <tr>\n",
       "      <th>7</th>\n",
       "      <td>AGNI eta=1.04e+01</td>\n",
       "      <td>8012.755852</td>\n",
       "    </tr>\n",
       "    <tr>\n",
       "      <th>8</th>\n",
       "      <td>AGNI eta=1.23e+00</td>\n",
       "      <td>43.073962</td>\n",
       "    </tr>\n",
       "    <tr>\n",
       "      <th>9</th>\n",
       "      <td>AGNI eta=1.60e+01</td>\n",
       "      <td>-3793.554066</td>\n",
       "    </tr>\n",
       "    <tr>\n",
       "      <th>10</th>\n",
       "      <td>AGNI eta=1.88e+00</td>\n",
       "      <td>129.533178</td>\n",
       "    </tr>\n",
       "    <tr>\n",
       "      <th>11</th>\n",
       "      <td>AGNI eta=2.89e+00</td>\n",
       "      <td>-399.270952</td>\n",
       "    </tr>\n",
       "    <tr>\n",
       "      <th>12</th>\n",
       "      <td>AGNI eta=4.43e+00</td>\n",
       "      <td>2423.426630</td>\n",
       "    </tr>\n",
       "    <tr>\n",
       "      <th>13</th>\n",
       "      <td>AGNI eta=6.80e+00</td>\n",
       "      <td>-6462.380307</td>\n",
       "    </tr>\n",
       "    <tr>\n",
       "      <th>14</th>\n",
       "      <td>AGNI eta=8.00e-01</td>\n",
       "      <td>23.328778</td>\n",
       "    </tr>\n",
       "    <tr>\n",
       "      <th>15</th>\n",
       "      <td>ion-ion repulsion</td>\n",
       "      <td>0.428442</td>\n",
       "    </tr>\n",
       "  </tbody>\n",
       "</table>\n",
       "</div>"
      ],
      "text/plain": [
       "                feature       weight\n",
       "0   density t=-1.000000    -0.037006\n",
       "1   density t=-2.000000    -0.002881\n",
       "2   density t=-3.000000     0.030122\n",
       "3   density t=-4.000000     0.015651\n",
       "4   density t=-5.000000     0.013172\n",
       "5    density t=0.000000    -0.016046\n",
       "6    density t=1.000000     0.007187\n",
       "7     AGNI eta=1.04e+01  8012.755852\n",
       "8     AGNI eta=1.23e+00    43.073962\n",
       "9     AGNI eta=1.60e+01 -3793.554066\n",
       "10    AGNI eta=1.88e+00   129.533178\n",
       "11    AGNI eta=2.89e+00  -399.270952\n",
       "12    AGNI eta=4.43e+00  2423.426630\n",
       "13    AGNI eta=6.80e+00 -6462.380307\n",
       "14    AGNI eta=8.00e-01    23.328778\n",
       "15    ion-ion repulsion     0.428442"
      ]
     },
     "execution_count": 20,
     "metadata": {},
     "output_type": "execute_result"
    }
   ],
   "source": [
    "pd.DataFrame({'feature':X_cols, 'weight':model.coef_})"
   ]
  },
  {
   "cell_type": "markdown",
   "metadata": {
    "deletable": true,
    "editable": true
   },
   "source": [
    "### Test Bayesian Ridge w/ Poly Features"
   ]
  },
  {
   "cell_type": "code",
   "execution_count": 21,
   "metadata": {
    "collapsed": true,
    "deletable": true,
    "editable": true
   },
   "outputs": [],
   "source": [
    "model = Pipeline([\n",
    "    ('poly', PolynomialFeatures(degree=2)),\n",
    "    ('model', BayesianRidge())\n",
    "])"
   ]
  },
  {
   "cell_type": "code",
   "execution_count": 22,
   "metadata": {
    "collapsed": false,
    "deletable": true,
    "editable": true
   },
   "outputs": [
    {
     "name": "stdout",
     "output_type": "stream",
     "text": [
      "Model: bayes_poly - K-fold error: mean=1.48e-04 max=1.88e-04\n",
      "Model: bayes_poly - Stopping power after half simulation: predicted=0.26 actual=0.24\n",
      "CPU times: user 57.1 s, sys: 1.33 s, total: 58.4 s\n",
      "Wall time: 5.93 s\n"
     ]
    }
   ],
   "source": [
    "%%time\n",
    "run_tests(model, 'bayes_poly', True)"
   ]
  },
  {
   "cell_type": "markdown",
   "metadata": {
    "deletable": true,
    "editable": true
   },
   "source": [
    "### Lasso"
   ]
  },
  {
   "cell_type": "code",
   "execution_count": 23,
   "metadata": {
    "collapsed": false,
    "deletable": true,
    "editable": true
   },
   "outputs": [],
   "source": [
    "model = GridSearchCV(Lasso(normalize=True, max_iter=5000, fit_intercept=True), {'alpha':np.logspace(-7,-1,20)}, cv=2)"
   ]
  },
  {
   "cell_type": "code",
   "execution_count": 24,
   "metadata": {
    "collapsed": false,
    "deletable": true,
    "editable": true
   },
   "outputs": [
    {
     "name": "stdout",
     "output_type": "stream",
     "text": [
      "Model: lasso - K-fold error: mean=9.17e-03 max=1.29e-02\n",
      "Model: lasso - Stopping power after half simulation: predicted=0.24 actual=0.24\n",
      "CPU times: user 13min 57s, sys: 15.6 s, total: 14min 12s\n",
      "Wall time: 2min 4s\n"
     ]
    }
   ],
   "source": [
    "%%time\n",
    "run_tests(model, 'lasso', True)"
   ]
  },
  {
   "cell_type": "markdown",
   "metadata": {
    "deletable": true,
    "editable": true
   },
   "source": [
    "#### Measure Feature Importances"
   ]
  },
  {
   "cell_type": "code",
   "execution_count": 25,
   "metadata": {
    "collapsed": false,
    "deletable": true,
    "editable": true
   },
   "outputs": [
    {
     "data": {
      "text/plain": [
       "GridSearchCV(cv=2, error_score='raise',\n",
       "       estimator=Lasso(alpha=1.0, copy_X=True, fit_intercept=True, max_iter=5000,\n",
       "   normalize=True, positive=False, precompute=False, random_state=None,\n",
       "   selection='cyclic', tol=0.0001, warm_start=False),\n",
       "       fit_params=None, iid=True, n_jobs=1,\n",
       "       param_grid={'alpha': array([  1.00000e-07,   2.06914e-07,   4.28133e-07,   8.85867e-07,\n",
       "         1.83298e-06,   3.79269e-06,   7.84760e-06,   1.62378e-05,\n",
       "         3.35982e-05,   6.95193e-05,   1.43845e-04,   2.97635e-04,\n",
       "         6.15848e-04,   1.27427e-03,   2.63665e-03,   5.45559e-03,\n",
       "         1.12884e-02,   2.33572e-02,   4.83293e-02,   1.00000e-01])},\n",
       "       pre_dispatch='2*n_jobs', refit=True, return_train_score=True,\n",
       "       scoring=None, verbose=0)"
      ]
     },
     "execution_count": 25,
     "metadata": {},
     "output_type": "execute_result"
    }
   ],
   "source": [
    "model.fit(data[X_cols], data[y_col])"
   ]
  },
  {
   "cell_type": "code",
   "execution_count": 26,
   "metadata": {
    "collapsed": false,
    "deletable": true,
    "editable": true
   },
   "outputs": [
    {
     "data": {
      "text/plain": [
       "3.3598182862837813e-05"
      ]
     },
     "execution_count": 26,
     "metadata": {},
     "output_type": "execute_result"
    }
   ],
   "source": [
    "model.best_estimator_.alpha"
   ]
  },
  {
   "cell_type": "code",
   "execution_count": 27,
   "metadata": {
    "collapsed": false,
    "deletable": true,
    "editable": true
   },
   "outputs": [
    {
     "data": {
      "text/html": [
       "<div>\n",
       "<style>\n",
       "    .dataframe thead tr:only-child th {\n",
       "        text-align: right;\n",
       "    }\n",
       "\n",
       "    .dataframe thead th {\n",
       "        text-align: left;\n",
       "    }\n",
       "\n",
       "    .dataframe tbody tr th {\n",
       "        vertical-align: top;\n",
       "    }\n",
       "</style>\n",
       "<table border=\"1\" class=\"dataframe\">\n",
       "  <thead>\n",
       "    <tr style=\"text-align: right;\">\n",
       "      <th></th>\n",
       "      <th>feature</th>\n",
       "      <th>weight</th>\n",
       "    </tr>\n",
       "  </thead>\n",
       "  <tbody>\n",
       "    <tr>\n",
       "      <th>0</th>\n",
       "      <td>density t=-1.000000</td>\n",
       "      <td>0.036338</td>\n",
       "    </tr>\n",
       "    <tr>\n",
       "      <th>1</th>\n",
       "      <td>density t=-2.000000</td>\n",
       "      <td>-0.022177</td>\n",
       "    </tr>\n",
       "    <tr>\n",
       "      <th>2</th>\n",
       "      <td>density t=-3.000000</td>\n",
       "      <td>0.031001</td>\n",
       "    </tr>\n",
       "    <tr>\n",
       "      <th>3</th>\n",
       "      <td>density t=-4.000000</td>\n",
       "      <td>0.014495</td>\n",
       "    </tr>\n",
       "    <tr>\n",
       "      <th>4</th>\n",
       "      <td>density t=-5.000000</td>\n",
       "      <td>0.000000</td>\n",
       "    </tr>\n",
       "    <tr>\n",
       "      <th>5</th>\n",
       "      <td>density t=0.000000</td>\n",
       "      <td>-0.006832</td>\n",
       "    </tr>\n",
       "    <tr>\n",
       "      <th>6</th>\n",
       "      <td>density t=1.000000</td>\n",
       "      <td>-0.066837</td>\n",
       "    </tr>\n",
       "    <tr>\n",
       "      <th>7</th>\n",
       "      <td>AGNI eta=1.04e+01</td>\n",
       "      <td>0.000000</td>\n",
       "    </tr>\n",
       "    <tr>\n",
       "      <th>8</th>\n",
       "      <td>AGNI eta=1.23e+00</td>\n",
       "      <td>10.138283</td>\n",
       "    </tr>\n",
       "    <tr>\n",
       "      <th>9</th>\n",
       "      <td>AGNI eta=1.60e+01</td>\n",
       "      <td>0.000000</td>\n",
       "    </tr>\n",
       "    <tr>\n",
       "      <th>10</th>\n",
       "      <td>AGNI eta=1.88e+00</td>\n",
       "      <td>0.000000</td>\n",
       "    </tr>\n",
       "    <tr>\n",
       "      <th>11</th>\n",
       "      <td>AGNI eta=2.89e+00</td>\n",
       "      <td>1.689671</td>\n",
       "    </tr>\n",
       "    <tr>\n",
       "      <th>12</th>\n",
       "      <td>AGNI eta=4.43e+00</td>\n",
       "      <td>0.745104</td>\n",
       "    </tr>\n",
       "    <tr>\n",
       "      <th>13</th>\n",
       "      <td>AGNI eta=6.80e+00</td>\n",
       "      <td>0.000000</td>\n",
       "    </tr>\n",
       "    <tr>\n",
       "      <th>14</th>\n",
       "      <td>AGNI eta=8.00e-01</td>\n",
       "      <td>-0.808364</td>\n",
       "    </tr>\n",
       "    <tr>\n",
       "      <th>15</th>\n",
       "      <td>ion-ion repulsion</td>\n",
       "      <td>0.474315</td>\n",
       "    </tr>\n",
       "  </tbody>\n",
       "</table>\n",
       "</div>"
      ],
      "text/plain": [
       "                feature     weight\n",
       "0   density t=-1.000000   0.036338\n",
       "1   density t=-2.000000  -0.022177\n",
       "2   density t=-3.000000   0.031001\n",
       "3   density t=-4.000000   0.014495\n",
       "4   density t=-5.000000   0.000000\n",
       "5    density t=0.000000  -0.006832\n",
       "6    density t=1.000000  -0.066837\n",
       "7     AGNI eta=1.04e+01   0.000000\n",
       "8     AGNI eta=1.23e+00  10.138283\n",
       "9     AGNI eta=1.60e+01   0.000000\n",
       "10    AGNI eta=1.88e+00   0.000000\n",
       "11    AGNI eta=2.89e+00   1.689671\n",
       "12    AGNI eta=4.43e+00   0.745104\n",
       "13    AGNI eta=6.80e+00   0.000000\n",
       "14    AGNI eta=8.00e-01  -0.808364\n",
       "15    ion-ion repulsion   0.474315"
      ]
     },
     "execution_count": 27,
     "metadata": {},
     "output_type": "execute_result"
    }
   ],
   "source": [
    "pd.DataFrame({'feature':X_cols, 'weight':model.best_estimator_.coef_})"
   ]
  },
  {
   "cell_type": "markdown",
   "metadata": {
    "deletable": true,
    "editable": true
   },
   "source": [
    "*Finding*: Charge density is not important. Also, AGNI fingerprints do not carry velocity information"
   ]
  },
  {
   "cell_type": "markdown",
   "metadata": {
    "deletable": true,
    "editable": true
   },
   "source": [
    "## Plot the Results"
   ]
  },
  {
   "cell_type": "markdown",
   "metadata": {
    "deletable": true,
    "editable": true
   },
   "source": [
    "Mean absolute error of the force averaged across the entire trajectory"
   ]
  },
  {
   "cell_type": "code",
   "execution_count": 28,
   "metadata": {
    "collapsed": false,
    "deletable": true,
    "editable": true
   },
   "outputs": [
    {
     "name": "stdout",
     "output_type": "stream",
     "text": [
      "Training set size:  4725\n"
     ]
    },
    {
     "data": {
      "text/html": [
       "<div>\n",
       "<style>\n",
       "    .dataframe thead tr:only-child th {\n",
       "        text-align: right;\n",
       "    }\n",
       "\n",
       "    .dataframe thead th {\n",
       "        text-align: left;\n",
       "    }\n",
       "\n",
       "    .dataframe tbody tr th {\n",
       "        vertical-align: top;\n",
       "    }\n",
       "</style>\n",
       "<table border=\"1\" class=\"dataframe\">\n",
       "  <thead>\n",
       "    <tr style=\"text-align: right;\">\n",
       "      <th></th>\n",
       "      <th>force_mae</th>\n",
       "      <th>mean_force_error</th>\n",
       "    </tr>\n",
       "  </thead>\n",
       "  <tbody>\n",
       "    <tr>\n",
       "      <th>baseline_nn</th>\n",
       "      <td>0.164150</td>\n",
       "      <td>-0.005359</td>\n",
       "    </tr>\n",
       "    <tr>\n",
       "      <th>bayes</th>\n",
       "      <td>0.034764</td>\n",
       "      <td>0.002897</td>\n",
       "    </tr>\n",
       "    <tr>\n",
       "      <th>bayes_poly</th>\n",
       "      <td>0.065925</td>\n",
       "      <td>-0.020107</td>\n",
       "    </tr>\n",
       "    <tr>\n",
       "      <th>dummy</th>\n",
       "      <td>0.715687</td>\n",
       "      <td>0.001903</td>\n",
       "    </tr>\n",
       "    <tr>\n",
       "      <th>lasso</th>\n",
       "      <td>0.047276</td>\n",
       "      <td>0.002371</td>\n",
       "    </tr>\n",
       "  </tbody>\n",
       "</table>\n",
       "</div>"
      ],
      "text/plain": [
       "             force_mae  mean_force_error\n",
       "baseline_nn   0.164150         -0.005359\n",
       "bayes         0.034764          0.002897\n",
       "bayes_poly    0.065925         -0.020107\n",
       "dummy         0.715687          0.001903\n",
       "lasso         0.047276          0.002371"
      ]
     },
     "execution_count": 28,
     "metadata": {},
     "output_type": "execute_result"
    }
   ],
   "source": [
    "experiment_number = 14\n",
    "\n",
    "print('Training set size: ', test_results['dummy']['over_time']['training_size'][experiment_number])\n",
    "results = dict([\n",
    "    (name, {'force_mae': np.abs(data[y_col] - my_data['over_time']['traj'][experiment_number]).mean(),\n",
    "            'mean_force_error': data[y_col].mean() - my_data['over_time']['mean_force'][experiment_number]})\n",
    "    for name, my_data in test_results.items()\n",
    "])\n",
    "over_time_results = pd.DataFrame(results).T\n",
    "over_time_results"
   ]
  },
  {
   "cell_type": "code",
   "execution_count": 29,
   "metadata": {
    "collapsed": false,
    "deletable": true,
    "editable": true
   },
   "outputs": [
    {
     "data": {
      "image/png": "[encoded data removed]",
      "text/plain": [
       "<matplotlib.figure.Figure at 0x7fc660bf3e48>"
      ]
     },
     "metadata": {},
     "output_type": "display_data"
    }
   ],
   "source": [
    "fig, ax = plt.subplots()\n",
    "\n",
    "ax.bar(range(len(over_time_results)), over_time_results['force_mae'])\n",
    "\n",
    "ax.set_xticks(range(len(over_time_results)))\n",
    "ax.set_xticklabels(list(over_time_results.index), fontsize=10, rotation=-45);\n",
    "\n",
    "ax.set_ylabel('Force Error')\n",
    "ax.set_xlabel('Algorithm', fontsize=10)\n",
    "\n",
    "fig.set_size_inches(2.9, 3)\n",
    "fig.tight_layout()\n",
    "\n",
    "fig.savefig('ml_algorithm_error.pdf')\n",
    "fig.savefig('ml_algorithm_error.png', dpi=320)"
   ]
  },
  {
   "cell_type": "markdown",
   "metadata": {
    "deletable": true,
    "editable": true
   },
   "source": [
    "Stopping power as a function of training set size. Black line is the known average"
   ]
  },
  {
   "cell_type": "code",
   "execution_count": 30,
   "metadata": {
    "collapsed": false,
    "deletable": true,
    "editable": true
   },
   "outputs": [
    {
     "data": {
      "text/plain": [
       "<matplotlib.text.Text at 0x7fc660a4ea20>"
      ]
     },
     "execution_count": 30,
     "metadata": {},
     "output_type": "execute_result"
    },
    {
     "data": {
      "image/png": "[encoded data removed]",
      "text/plain": [
       "<matplotlib.figure.Figure at 0x7fc660bf37f0>"
      ]
     },
     "metadata": {},
     "output_type": "display_data"
    }
   ],
   "source": [
    "fig, ax = plt.subplots()\n",
    "\n",
    "ax.plot([0,data['timestep'].max() - data['timestep'].min()], [data['force'].mean(),]*2, 'k--')\n",
    "\n",
    "for name, my_data in test_results.items():\n",
    "    ax.plot(my_data['over_time']['training_size'], my_data['over_time']['mean_force'], marker='o', label=name, alpha=0.7)\n",
    "    \n",
    "ax.set_ylim(data['force'].mean() * 0.9, data['force'].mean() * 1.1)\n",
    "\n",
    "ax.legend()\n",
    "\n",
    "ax.set_xlabel('Training Set Size')\n",
    "ax.set_ylabel('Stopping Power')"
   ]
  },
  {
   "cell_type": "markdown",
   "metadata": {
    "deletable": true,
    "editable": true
   },
   "source": [
    "*Finding*: Bayesian linear regression seems to work the best\n",
    "\n",
    "*To Do*: \n",
    "- Get Bayesian linear regression confidence intervals\n",
    "- Incorporate velocity-dependent attributes. Only charge density is dependent\n",
    "    - Or, switch to use recurrant models\n",
    "- Figure out scaling on ARDRegression (want Lasso with confidence intervals)"
   ]
  },
  {
   "cell_type": "markdown",
   "metadata": {
    "deletable": true,
    "editable": true
   },
   "source": [
    "## Plot just the best one: BayesRidge"
   ]
  },
  {
   "cell_type": "code",
   "execution_count": 31,
   "metadata": {
    "collapsed": false,
    "deletable": true,
    "editable": true
   },
   "outputs": [],
   "source": [
    "def scale_force(x, exag=3):\n",
    "    return np.sign(x) * np.power(np.abs(x), 1./exag) \n",
    "def unscale_force(x, exag=3):\n",
    "    return np.sign(x) * np.abs(np.power(x, exag))"
   ]
  },
  {
   "cell_type": "code",
   "execution_count": 32,
   "metadata": {
    "collapsed": true,
    "deletable": true,
    "editable": true
   },
   "outputs": [],
   "source": [
    "best_results = test_results['bayes']\n",
    "num_tests = len(best_results['over_time']['traj'])"
   ]
  },
  {
   "cell_type": "markdown",
   "metadata": {
    "deletable": true,
    "editable": true
   },
   "source": [
    "Plot the convergence of the stopping power"
   ]
  },
  {
   "cell_type": "code",
   "execution_count": 33,
   "metadata": {
    "collapsed": false,
    "deletable": true,
    "editable": true
   },
   "outputs": [
    {
     "data": {
      "image/png": "[encoded data removed]",
      "text/plain": [
       "<matplotlib.figure.Figure at 0x7fc6909f7160>"
      ]
     },
     "metadata": {},
     "output_type": "display_data"
    }
   ],
   "source": [
    "fig, ax = plt.subplots()\n",
    "\n",
    "ax.plot([0,data['timestep'].max() - data['timestep'].min()], [data['force'].mean(),]*2, 'k--')#, label='Known Value')\n",
    "\n",
    "ax.fill_between([0, data['timestep'].max() - data['timestep'].min()],\n",
    "                [data['force'].mean() * 1.01, data['force'].mean() * 1.01],\n",
    "                [data['force'].mean() * 0.99, data['force'].mean() * 0.99], color='k', alpha=0.5)\n",
    "\n",
    "ax.plot(test_results['dummy']['over_time']['training_size'],\n",
    "        test_results['dummy']['over_time']['mean_force'], marker='s', ms=2, alpha=0.7, label='No ML')\n",
    "ax.plot(best_results['over_time']['training_size'], best_results['over_time']['mean_force'], \n",
    "        marker='o', ms=2, alpha=0.7, label='ML')\n",
    "    \n",
    "ax.set_ylim(data['force'].mean() * 0.9, data['force'].mean() * 1.1)\n",
    "\n",
    "ax.legend()\n",
    "\n",
    "ax.set_xlabel('Training Set Size')\n",
    "ax.set_ylabel('Stopping Power ($E_H/a_B$)')\n",
    "\n",
    "fig.set_size_inches(3, 2)\n",
    "\n",
    "fig.tight_layout()\n",
    "fig.savefig('stopping_power_bayes.pdf')\n",
    "fig.savefig('stopping_power_bayes.png', dpi=320)"
   ]
  },
  {
   "cell_type": "markdown",
   "metadata": {
    "deletable": true,
    "editable": true
   },
   "source": [
    "Plot the force error as a function of training set size"
   ]
  },
  {
   "cell_type": "code",
   "execution_count": 34,
   "metadata": {
    "collapsed": false,
    "deletable": true,
    "editable": true
   },
   "outputs": [
    {
     "data": {
      "image/png": "[encoded data removed]",
      "text/plain": [
       "<matplotlib.figure.Figure at 0x7fc660aee278>"
      ]
     },
     "metadata": {},
     "output_type": "display_data"
    }
   ],
   "source": [
    "fig, ax = plt.subplots()\n",
    "\n",
    "\n",
    "mae = [ np.abs(data['force'] - t).mean() for t in best_results['over_time']['traj'] ] \n",
    "\n",
    "ax.semilogy(best_results['over_time']['training_size'], mae)\n",
    "    \n",
    "    \n",
    "ax.set_xlabel('Training Set Size')\n",
    "ax.set_ylabel('Force MAE ($E_H/a_B$)')\n",
    "\n",
    "fig.set_size_inches(3, 2)\n",
    "\n",
    "fig.tight_layout()\n",
    "fig.savefig('mae_training_size.pdf')\n",
    "fig.savefig('mae_training_size.png', dpi=320)"
   ]
  },
  {
   "cell_type": "markdown",
   "metadata": {
    "deletable": true,
    "editable": true
   },
   "source": [
    "Plot how well the algorithm forecasts stopping force"
   ]
  },
  {
   "cell_type": "code",
   "execution_count": 35,
   "metadata": {
    "collapsed": false,
    "deletable": true,
    "editable": true
   },
   "outputs": [
    {
     "data": {
      "image/png": "[encoded data removed]",
      "text/plain": [
       "<matplotlib.figure.Figure at 0x7fc64ef2c550>"
      ]
     },
     "metadata": {},
     "output_type": "display_data"
    }
   ],
   "source": [
    "fig, axs = plt.subplots(2, 2, sharex=True, sharey=True)\n",
    "\n",
    "\n",
    "for f,ax in zip([0,int(0.25*num_tests),int(0.5*num_tests),int(0.75*num_tests)],axs.flatten()):\n",
    "    \n",
    "    ax.plot(data['timestep'], scale_force(data['force']), 'k--')\n",
    "    ax.set_ylim(ax.get_ylim()) # Make sure the scales stay appropriate\n",
    "    \n",
    "    traj = best_results['over_time']['traj'][f]\n",
    "    ax.plot(data['timestep'], scale_force(traj), 'r-', alpha=0.7)\n",
    "    traj_error = np.abs(traj - data['force']).mean()\n",
    "    \n",
    "    ax.text(4200, scale_force(30), 'MAE: %.3f $E_H/a_B$'%traj_error, fontsize=8,\n",
    "           bbox=dict(edgecolor='k', facecolor='w'))\n",
    "    \n",
    "    ax.text(4000, -4, 'Training size: %d'%best_results['over_time']['training_size'][f],\n",
    "            fontsize=8,\n",
    "           bbox=dict(edgecolor='k', facecolor='w'))\n",
    "    \n",
    "    ax.plot([best_results['over_time']['step'][f],]*2, ax.get_ylim(), 'b--')\n",
    "\n",
    "axs[1,0].set_xlabel('Timestep')\n",
    "axs[1,1].set_xlabel('Timestep')\n",
    "axs[0,0].set_ylabel('Force ($E_H/a_B$)')\n",
    "axs[1,0].set_ylabel('Force ($E_H/a_B$)')\n",
    "\n",
    "# Unscale force\n",
    "y_ticks = [-100, -20, 0, 20, 100]\n",
    "axs[0,0].set_yticks(scale_force(y_ticks))\n",
    "axs[0,0].set_yticklabels(['%.1f'%f for f in y_ticks])\n",
    "axs[1,0].set_yticks(scale_force(y_ticks))\n",
    "axs[1,0].set_yticklabels(['%.1f'%f for f in y_ticks])\n",
    "\n",
    "fig.set_size_inches(6.5,3)\n",
    "fig.tight_layout()\n",
    "fig.savefig('ml_over_time.pdf')\n",
    "fig.savefig('ml_over_time.png', dpi=320)"
   ]
  },
  {
   "cell_type": "markdown",
   "metadata": {
    "deletable": true,
    "editable": true
   },
   "source": [
    "## Compute Stopping Power on Different Path\n",
    "Read in the files from another Al trajectory. `Al_256_channel` is a simulation at the same velocity as what we have trained this model on, but along a different path in the crystal."
   ]
  },
  {
   "cell_type": "markdown",
   "metadata": {},
   "source": [
    "Read in the data"
   ]
  },
  {
   "cell_type": "code",
   "execution_count": 36,
   "metadata": {
    "collapsed": false,
    "deletable": true,
    "editable": true
   },
   "outputs": [
    {
     "name": "stdout",
     "output_type": "stream",
     "text": [
      "Read in 2000 training points\n",
      "CPU times: user 1min 8s, sys: 474 ms, total: 1min 8s\n",
      "Wall time: 1min 8s\n"
     ]
    }
   ],
   "source": [
    "%%time\n",
    "new_data = []\n",
    "for file in glob('Al_256_channel/kpg*.out'):\n",
    "    frame = load_qbox_data(file)\n",
    "    frame['file'] = file\n",
    "    new_data.append(frame)\n",
    "new_data = pd.concat(new_data)\n",
    "print('Read in %d training points'%len(new_data))"
   ]
  },
  {
   "cell_type": "code",
   "execution_count": 37,
   "metadata": {
    "collapsed": true
   },
   "outputs": [],
   "source": [
    "new_data.sort_values(['file_id', 'frame_id'], ascending=True, inplace=True)\n",
    "new_data['timestep'] = list(range(len(new_data)))\n",
    "new_data.set_index('timestep', inplace=True, drop=False)\n",
    "new_data['displacement'] = (new_data['position'] - new_data['position'][0]).apply(np.linalg.norm)"
   ]
  },
  {
   "cell_type": "markdown",
   "metadata": {},
   "source": [
    "Read in the feature calculators"
   ]
  },
  {
   "cell_type": "code",
   "execution_count": 38,
   "metadata": {
    "collapsed": true
   },
   "outputs": [],
   "source": [
    "featurizers = pkl.load(open('featurizers.pkl', 'rb'))"
   ]
  },
  {
   "cell_type": "code",
   "execution_count": 39,
   "metadata": {
    "collapsed": false
   },
   "outputs": [
    {
     "name": "stdout",
     "output_type": "stream",
     "text": [
      "CPU times: user 22min 49s, sys: 193 ms, total: 22min 49s\n",
      "Wall time: 22min 49s\n"
     ]
    }
   ],
   "source": [
    "%%time\n",
    "for f in featurizers:\n",
    "    new_data = f.featurize_dataframe(new_data, 'atoms')"
   ]
  },
  {
   "cell_type": "markdown",
   "metadata": {},
   "source": [
    "Compute the lattice spacing"
   ]
  },
  {
   "cell_type": "code",
   "execution_count": 40,
   "metadata": {
    "collapsed": false
   },
   "outputs": [],
   "source": [
    "lat_spacing = new_data['atoms'][0].cell[0,0] / 4"
   ]
  },
  {
   "cell_type": "markdown",
   "metadata": {},
   "source": [
    "Plot the results"
   ]
  },
  {
   "cell_type": "code",
   "execution_count": 41,
   "metadata": {
    "collapsed": false
   },
   "outputs": [
    {
     "data": {
      "image/png": "[encoded data removed]",
      "text/plain": [
       "<matplotlib.figure.Figure at 0x7fc64d9e9940>"
      ]
     },
     "metadata": {},
     "output_type": "display_data"
    }
   ],
   "source": [
    "fig, ax = plt.subplots()\n",
    "\n",
    "# Plot the true result\n",
    "ax.plot(new_data['displacement'], new_data['force'], 'k--', label='TD-DFT')\n",
    "\n",
    "# Plot the ML predictions\n",
    "fmean, fstd = best_results['model'].predict(new_data[X_cols], True)\n",
    "ax.fill_between(new_data['displacement'], fmean + fstd, fmean - fstd, color='r', alpha=0.5)\n",
    "ax.plot(new_data['displacement'], fmean, 'r-', alpha=0.7, label='ML')\n",
    "\n",
    "# Plot the sample range\n",
    "ax.set_ylim(ax.get_ylim())\n",
    "\n",
    "ax.plot([lat_spacing,] * 2, ax.get_ylim(), 'k--', lw=0.8)\n",
    "ax.plot([lat_spacing * 3,] * 2, ax.get_ylim(), 'k--', lw=0.8)\n",
    "\n",
    "ax.legend(ncol=2)\n",
    "\n",
    "ax.set_xlabel('Displacement ($a_B$)')\n",
    "ax.set_ylabel('Force ($E_H / a_B$)')\n",
    "\n",
    "fig.set_size_inches(6, 3)\n",
    "fig.tight_layout()"
   ]
  },
  {
   "cell_type": "markdown",
   "metadata": {},
   "source": [
    "Compute the stopping power with each ML algorithm"
   ]
  },
  {
   "cell_type": "code",
   "execution_count": 42,
   "metadata": {
    "collapsed": false
   },
   "outputs": [],
   "source": [
    "new_data_subset = data.query('displacement >= %f and displacement <= %f'%(lat_spacing, lat_spacing * 3))\n",
    "\n",
    "actual_stopping_power = new_data_subset['force'].mean()\n",
    "\n",
    "names = []\n",
    "stopping_powers = []\n",
    "for k,d in test_results.items():\n",
    "    names.append(k)\n",
    "    stopping_powers.append(np.mean(d['model'].predict(new_data_subset[X_cols])))\n",
    "    \n",
    "errors = [(x - actual_stopping_power) / actual_stopping_power for x in stopping_powers]"
   ]
  },
  {
   "cell_type": "code",
   "execution_count": 43,
   "metadata": {
    "collapsed": false
   },
   "outputs": [
    {
     "data": {
      "image/png": "[encoded data removed]",
      "text/plain": [
       "<matplotlib.figure.Figure at 0x7fc628438dd8>"
      ]
     },
     "metadata": {},
     "output_type": "display_data"
    }
   ],
   "source": [
    "fig, ax = plt.subplots()\n",
    "\n",
    "# Plot the ML results\n",
    "ax.bar(list(range(len(names))), stopping_powers)\n",
    "ax.set_xticklabels(['',] + names)\n",
    "\n",
    "for i,e in enumerate(errors):\n",
    "    ax.text(i, 0.245, '%.1f%%'%(e* 100), ha='center', bbox={'facecolor': 'w', 'edgecolor': 'k'})\n",
    "\n",
    "# Plot the actual result\n",
    "ax.set_xlim(ax.get_xlim())\n",
    "ax.plot(ax.get_xlim(), [actual_stopping_power,] * 2, 'k--')\n",
    "\n",
    "# Make it pretty\n",
    "ax.set_ylim(0.2, 0.25)\n",
    "\n",
    "ax.set_xlabel('Method')\n",
    "ax.set_ylabel('Stopping Power ($E_H / a_B$)')\n",
    "\n",
    "fig.set_size_inches(6, 3)\n",
    "fig.tight_layout()"
   ]
  },
  {
   "cell_type": "code",
   "execution_count": 44,
   "metadata": {
    "collapsed": true
   },
   "outputs": [],
   "source": []
  }
 ],
 "metadata": {
  "kernelspec": {
   "display_name": "Python 3",
   "language": "python",
   "name": "python3"
  },
  "language_info": {
   "codemirror_mode": {
    "name": "ipython",
    "version": 3
   },
   "file_extension": ".py",
   "mimetype": "text/x-python",
   "name": "python",
   "nbconvert_exporter": "python",
   "pygments_lexer": "ipython3",
   "version": "3.6.0"
  }
 },
 "nbformat": 4,
 "nbformat_minor": 2
}
