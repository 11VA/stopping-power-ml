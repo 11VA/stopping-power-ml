{
 "cells": [
  {
   "cell_type": "markdown",
   "metadata": {},
   "source": [
    "# Select ML Algorithm\n",
    "Determine which algorithm works best for this dataset, validate the algorithm"
   ]
  },
  {
   "cell_type": "code",
   "execution_count": 1,
   "metadata": {
    "collapsed": true
   },
   "outputs": [],
   "source": [
    "%matplotlib inline\n",
    "from copy import deepcopy\n",
    "from glob import glob\n",
    "from matplotlib import pyplot as plt\n",
    "from scipy import stats\n",
    "from sklearn.dummy import DummyRegressor\n",
    "from sklearn.neural_network import MLPRegressor\n",
    "from sklearn.feature_selection import SelectFromModel\n",
    "from sklearn.gaussian_process import GaussianProcessRegressor\n",
    "from sklearn.gaussian_process.kernels import RBF, ConstantKernel as C\n",
    "from sklearn.model_selection import cross_validate, cross_val_predict, RepeatedKFold, GridSearchCV\n",
    "from sklearn.linear_model import BayesianRidge, ARDRegression, Lasso, LassoLars\n",
    "from sklearn.preprocessing import PolynomialFeatures\n",
    "from sklearn.pipeline import Pipeline\n",
    "from stopping_power_ml.io import load_qbox_data\n",
    "import pandas as pd\n",
    "import numpy as np\n",
    "import pickle as pkl"
   ]
  },
  {
   "cell_type": "code",
   "execution_count": 2,
   "metadata": {
    "collapsed": true
   },
   "outputs": [],
   "source": [
    "import warnings; warnings.simplefilter('ignore')"
   ]
  },
  {
   "cell_type": "markdown",
   "metadata": {},
   "source": [
    "## Load in the Dataset\n",
    "This was created by a different notebook"
   ]
  },
  {
   "cell_type": "code",
   "execution_count": 3,
   "metadata": {},
   "outputs": [
    {
     "name": "stdout",
     "output_type": "stream",
     "text": [
      "Training set size: 9449\n"
     ]
    }
   ],
   "source": [
    "data = pd.read_csv('training_set.csv')\n",
    "print('Training set size:', len(data))"
   ]
  },
  {
   "cell_type": "markdown",
   "metadata": {},
   "source": [
    "Determine which columns are inputs"
   ]
  },
  {
   "cell_type": "code",
   "execution_count": 4,
   "metadata": {
    "collapsed": true
   },
   "outputs": [],
   "source": [
    "charge_attrs = [x for x in data.columns if x.startswith('density')]"
   ]
  },
  {
   "cell_type": "code",
   "execution_count": 5,
   "metadata": {
    "collapsed": true
   },
   "outputs": [],
   "source": [
    "agni_attrs = [x for x in data.columns if x.startswith('AGNI')]"
   ]
  },
  {
   "cell_type": "code",
   "execution_count": 6,
   "metadata": {
    "collapsed": true
   },
   "outputs": [],
   "source": [
    "ewald_attrs = ['ion-ion repulsion',]"
   ]
  },
  {
   "cell_type": "code",
   "execution_count": 7,
   "metadata": {
    "collapsed": true
   },
   "outputs": [],
   "source": [
    "y_col = 'force'"
   ]
  },
  {
   "cell_type": "code",
   "execution_count": 8,
   "metadata": {
    "collapsed": true
   },
   "outputs": [],
   "source": [
    "X_cols = charge_attrs + agni_attrs + ewald_attrs"
   ]
  },
  {
   "cell_type": "markdown",
   "metadata": {},
   "source": [
    "## Test out Some ML Models\n",
    "Trying out various differentiable ML algorithms:\n",
    "\n",
    "- `DummyRegressor`: \n",
    "- `BayesianRidge`: Ridge regression that sets the hyperparameters for you\n",
    "- ~~`ARDRegression`: Sparser BayesianRidge~~ [Too slow]\n",
    "- `MLPRegressor`: Simple NN, annoying to tune\n",
    "- ~~`GuassianProcessRegressor`: Nonlinear continuous model~~ [Too slow]\n",
    "- `Lasso`: Sparse linear model, fast to train\n",
    "\n",
    "Also throw in some feature expansion and feature selection"
   ]
  },
  {
   "cell_type": "markdown",
   "metadata": {},
   "source": [
    "### Create Testing Routines\n",
    "Some tools used to test this model"
   ]
  },
  {
   "cell_type": "code",
   "execution_count": 9,
   "metadata": {
    "collapsed": true
   },
   "outputs": [],
   "source": [
    "kfold = RepeatedKFold(n_splits=10, n_repeats=1, random_state=1) # 10x10-fold CV"
   ]
  },
  {
   "cell_type": "code",
   "execution_count": 10,
   "metadata": {
    "collapsed": true
   },
   "outputs": [],
   "source": [
    "def train_over_time(model, data, steps=None):\n",
    "    \"\"\"Train the model on increasingly-larger amounts of data\n",
    "    \n",
    "    :param model: model to be tested\n",
    "    :param data: training/test data\n",
    "    :param steps: increments to test at. Model is trained at all entries before this timestep\n",
    "    :return: \n",
    "        - train_size: Number of training points\n",
    "        - average_force: Average force (i.e., stopping power) as at each step\n",
    "        - trajectory: Full trajectory\n",
    "        - step: timestep\n",
    "    \"\"\"\n",
    "    \n",
    "    # Get the default steps\n",
    "    if steps is None:\n",
    "        steps = np.linspace(data['timestep'].min(), data['timestep'].max(), 31, dtype=np.int)[1:]\n",
    "        \n",
    "    # Test the models\n",
    "    mean_forces = []\n",
    "    trajs = []\n",
    "    force_errors = []\n",
    "    train_size = []\n",
    "    for step in steps:\n",
    "        # Train model on all timesteps before current\n",
    "        train_data = data.query('timestep <= %d'%step)\n",
    "        train_size.append(len(train_data))\n",
    "        model.fit(train_data[X_cols], train_data[y_col])\n",
    "        \n",
    "        \n",
    "        # Predict on all timesteps\n",
    "        traj = model.predict(data[X_cols])\n",
    "        \n",
    "        # Store results\n",
    "        mean_forces.append(traj.mean())\n",
    "        trajs.append(traj)\n",
    "        force_errors.append((traj - data[y_col]).mean())\n",
    "    \n",
    "    return train_size, mean_forces, trajs, steps"
   ]
  },
  {
   "cell_type": "code",
   "execution_count": 11,
   "metadata": {
    "collapsed": true
   },
   "outputs": [],
   "source": [
    "test_results = dict()\n",
    "def run_tests(model, name, verbose=False):\n",
    "    \"\"\"Evaluate a model, store results in test_results variable\n",
    "    \n",
    "    :param model: model to test\n",
    "    :param name: name of results to store\"\"\"\n",
    "    \n",
    "    # Standard cross-validation\n",
    "    k_fold = cross_validate(model, data[charge_attrs+agni_attrs+ewald_attrs].values, data[y_col].values,\n",
    "               scoring='neg_mean_squared_error', cv=kfold)\n",
    "    if verbose:\n",
    "        print('Model: %s - K-fold error: mean=%.2e max=%.2e'%(name, -k_fold['test_score'].mean(), -k_fold['test_score'].min()))\n",
    "        \n",
    "    # Increase time CV\n",
    "    step, mean_forces, traj, steps = train_over_time(model, data)\n",
    "    \n",
    "    if verbose:\n",
    "        print('Model: %s - Stopping power after half simulation: predicted=%.2f actual=%.2f'%(name,\n",
    "                                                                                              mean_forces[int(len(mean_forces)/2)],\n",
    "                                                                                             data[y_col].mean()))\n",
    "        \n",
    "    # Train model on whole dataset\n",
    "    model.fit(data[charge_attrs+agni_attrs+ewald_attrs].values, data[y_col].values)\n",
    "    \n",
    "    test_results[name] = {\n",
    "        'k_fold':k_fold,\n",
    "        'over_time': {'training_size': step, 'mean_force': mean_forces, 'traj': traj, 'step':steps},\n",
    "        'model': deepcopy(model.best_estimator_ if isinstance(model, GridSearchCV) else model)\n",
    "    }"
   ]
  },
  {
   "cell_type": "markdown",
   "metadata": {},
   "source": [
    "### Run a dummy model\n",
    "Get a \"non-ML\" baseline"
   ]
  },
  {
   "cell_type": "code",
   "execution_count": 12,
   "metadata": {
    "collapsed": true
   },
   "outputs": [],
   "source": [
    "model = DummyRegressor()"
   ]
  },
  {
   "cell_type": "code",
   "execution_count": 13,
   "metadata": {},
   "outputs": [
    {
     "name": "stdout",
     "output_type": "stream",
     "text": [
      "Model: dummy - K-fold error: mean=2.25e+01 max=5.38e+01\n",
      "Model: dummy - Stopping power after half simulation: predicted=0.24 actual=0.24\n",
      "CPU times: user 174 ms, sys: 10 ms, total: 184 ms\n",
      "Wall time: 183 ms\n"
     ]
    }
   ],
   "source": [
    "%%time\n",
    "run_tests(model, 'dummy', True)"
   ]
  },
  {
   "cell_type": "markdown",
   "metadata": {},
   "source": [
    "### Test default NN\n",
    "Get a baseline for the later tuning"
   ]
  },
  {
   "cell_type": "code",
   "execution_count": 14,
   "metadata": {
    "collapsed": true
   },
   "outputs": [],
   "source": [
    "model = MLPRegressor(activation='tanh', hidden_layer_sizes=(16,))"
   ]
  },
  {
   "cell_type": "code",
   "execution_count": 15,
   "metadata": {},
   "outputs": [
    {
     "data": {
      "text/plain": [
       "MLPRegressor(activation='tanh', alpha=0.0001, batch_size='auto', beta_1=0.9,\n",
       "       beta_2=0.999, early_stopping=False, epsilon=1e-08,\n",
       "       hidden_layer_sizes=(16,), learning_rate='constant',\n",
       "       learning_rate_init=0.001, max_iter=200, momentum=0.9,\n",
       "       nesterovs_momentum=True, power_t=0.5, random_state=None,\n",
       "       shuffle=True, solver='adam', tol=0.0001, validation_fraction=0.1,\n",
       "       verbose=False, warm_start=False)"
      ]
     },
     "execution_count": 15,
     "metadata": {},
     "output_type": "execute_result"
    }
   ],
   "source": [
    "model"
   ]
  },
  {
   "cell_type": "code",
   "execution_count": 16,
   "metadata": {},
   "outputs": [
    {
     "name": "stdout",
     "output_type": "stream",
     "text": [
      "Model: baseline_nn - K-fold error: mean=1.53e-01 max=5.32e-01\n",
      "Model: baseline_nn - Stopping power after half simulation: predicted=0.22 actual=0.24\n",
      "CPU times: user 9min 41s, sys: 16.5 s, total: 9min 58s\n",
      "Wall time: 1min 35s\n"
     ]
    }
   ],
   "source": [
    "%%time\n",
    "run_tests(model, 'baseline_nn', True)"
   ]
  },
  {
   "cell_type": "markdown",
   "metadata": {},
   "source": [
    "### Test Bayesian Ridge\n"
   ]
  },
  {
   "cell_type": "code",
   "execution_count": 17,
   "metadata": {
    "collapsed": true
   },
   "outputs": [],
   "source": [
    "model = BayesianRidge(normalize=True)"
   ]
  },
  {
   "cell_type": "code",
   "execution_count": 18,
   "metadata": {},
   "outputs": [
    {
     "name": "stdout",
     "output_type": "stream",
     "text": [
      "Model: bayes - K-fold error: mean=2.16e-03 max=2.47e-03\n",
      "Model: bayes - Stopping power after half simulation: predicted=0.24 actual=0.24\n",
      "CPU times: user 3.18 s, sys: 120 ms, total: 3.3 s\n",
      "Wall time: 333 ms\n"
     ]
    }
   ],
   "source": [
    "%%time\n",
    "run_tests(model, 'bayes', True)"
   ]
  },
  {
   "cell_type": "markdown",
   "metadata": {},
   "source": [
    "### Test Bayesian Ridge w/ Poly Features"
   ]
  },
  {
   "cell_type": "code",
   "execution_count": 19,
   "metadata": {
    "collapsed": true
   },
   "outputs": [],
   "source": [
    "model = Pipeline([\n",
    "    ('poly', PolynomialFeatures(degree=2)),\n",
    "    ('model', BayesianRidge())\n",
    "])"
   ]
  },
  {
   "cell_type": "code",
   "execution_count": 20,
   "metadata": {},
   "outputs": [
    {
     "name": "stdout",
     "output_type": "stream",
     "text": [
      "Model: bayes_poly - K-fold error: mean=1.44e-04 max=1.68e-04\n",
      "Model: bayes_poly - Stopping power after half simulation: predicted=0.26 actual=0.24\n",
      "CPU times: user 59.8 s, sys: 1.81 s, total: 1min 1s\n",
      "Wall time: 6.22 s\n"
     ]
    }
   ],
   "source": [
    "%%time\n",
    "run_tests(model, 'bayes_poly', True)"
   ]
  },
  {
   "cell_type": "markdown",
   "metadata": {},
   "source": [
    "### Lasso"
   ]
  },
  {
   "cell_type": "code",
   "execution_count": 21,
   "metadata": {
    "collapsed": true
   },
   "outputs": [],
   "source": [
    "model = GridSearchCV(Lasso(normalize=True, max_iter=5000, fit_intercept=True), {'alpha':np.logspace(-7,-1,20)}, cv=2)"
   ]
  },
  {
   "cell_type": "code",
   "execution_count": 22,
   "metadata": {},
   "outputs": [
    {
     "name": "stdout",
     "output_type": "stream",
     "text": [
      "Model: lasso - K-fold error: mean=9.17e-03 max=1.29e-02\n",
      "Model: lasso - Stopping power after half simulation: predicted=0.24 actual=0.24\n",
      "CPU times: user 14min 26s, sys: 20.2 s, total: 14min 46s\n",
      "Wall time: 2min 10s\n"
     ]
    }
   ],
   "source": [
    "%%time\n",
    "run_tests(model, 'lasso', True)"
   ]
  },
  {
   "cell_type": "markdown",
   "metadata": {},
   "source": [
    "### Lasso+BayesianRidge"
   ]
  },
  {
   "cell_type": "code",
   "execution_count": 23,
   "metadata": {},
   "outputs": [],
   "source": [
    "model = GridSearchCV(Pipeline([\n",
    "    ('lasso_rfe', SelectFromModel(\n",
    "        LassoLars(normalize=True, max_iter=22, fit_intercept=True, alpha=1e-10))\n",
    "    ),\n",
    "    ('model', BayesianRidge())\n",
    "]), {'lasso_rfe__estimator__max_iter':range(5,22)})"
   ]
  },
  {
   "cell_type": "code",
   "execution_count": 24,
   "metadata": {},
   "outputs": [
    {
     "name": "stdout",
     "output_type": "stream",
     "text": [
      "Model: lasso+bayes - K-fold error: mean=8.12e-03 max=1.32e-02\n",
      "Model: lasso+bayes - Stopping power after half simulation: predicted=0.24 actual=0.24\n",
      "CPU times: user 3min 18s, sys: 7.36 s, total: 3min 25s\n",
      "Wall time: 20.7 s\n"
     ]
    }
   ],
   "source": [
    "%%time\n",
    "run_tests(model, 'lasso+bayes', True)"
   ]
  },
  {
   "cell_type": "markdown",
   "metadata": {},
   "source": [
    "### Test Bayesian Ridge w/ Poly Features"
   ]
  },
  {
   "cell_type": "code",
   "execution_count": 25,
   "metadata": {
    "collapsed": true
   },
   "outputs": [],
   "source": [
    "model = GridSearchCV(Pipeline([\n",
    "    ('poly', PolynomialFeatures(degree=2)),\n",
    "    ('lasso_rfe', SelectFromModel(\n",
    "        LassoLars(normalize=True, max_iter=22, fit_intercept=True, alpha=1e-10))\n",
    "    ),\n",
    "    ('model', BayesianRidge())\n",
    "]), {'lasso_rfe__estimator__max_iter':range(15,30)})"
   ]
  },
  {
   "cell_type": "code",
   "execution_count": 26,
   "metadata": {},
   "outputs": [
    {
     "name": "stdout",
     "output_type": "stream",
     "text": [
      "Model: lasso+bayes_poly - K-fold error: mean=2.66e-03 max=3.98e-03\n",
      "Model: lasso+bayes_poly - Stopping power after half simulation: predicted=0.24 actual=0.24\n",
      "CPU times: user 11min 38s, sys: 25.8 s, total: 12min 4s\n",
      "Wall time: 1min 12s\n"
     ]
    }
   ],
   "source": [
    "%%time\n",
    "run_tests(model, 'lasso+bayes_poly', True)"
   ]
  },
  {
   "cell_type": "markdown",
   "metadata": {},
   "source": [
    "## Determine the best algorithm\n",
    "As the force acting on a particle varies by several orders of magnitude and changes sign, I will use the Spearman's correlation coefficient to determine the optimal algorithm. Usually, I like to use MAE. Given the large range of forces, small variations in the very large forces have a greater impact on the MAE than relatively similar changes on the small forces. I could also use the MRE or fit to the log of the error, but the sign change makes those routes impractical. So, I choose the Spearman's correlation coefficient "
   ]
  },
  {
   "cell_type": "code",
   "execution_count": 27,
   "metadata": {},
   "outputs": [
    {
     "name": "stdout",
     "output_type": "stream",
     "text": [
      "Training set size:  4725\n"
     ]
    },
    {
     "data": {
      "text/html": [
       "<div>\n",
       "<style>\n",
       "    .dataframe thead tr:only-child th {\n",
       "        text-align: right;\n",
       "    }\n",
       "\n",
       "    .dataframe thead th {\n",
       "        text-align: left;\n",
       "    }\n",
       "\n",
       "    .dataframe tbody tr th {\n",
       "        vertical-align: top;\n",
       "    }\n",
       "</style>\n",
       "<table border=\"1\" class=\"dataframe\">\n",
       "  <thead>\n",
       "    <tr style=\"text-align: right;\">\n",
       "      <th></th>\n",
       "      <th>force_mae</th>\n",
       "      <th>force_spearman</th>\n",
       "      <th>mean_force_error</th>\n",
       "    </tr>\n",
       "  </thead>\n",
       "  <tbody>\n",
       "    <tr>\n",
       "      <th>lasso+bayes_poly</th>\n",
       "      <td>0.028167</td>\n",
       "      <td>0.990911</td>\n",
       "      <td>0.001010</td>\n",
       "    </tr>\n",
       "    <tr>\n",
       "      <th>lasso+bayes</th>\n",
       "      <td>0.041379</td>\n",
       "      <td>0.990173</td>\n",
       "      <td>0.002040</td>\n",
       "    </tr>\n",
       "    <tr>\n",
       "      <th>lasso</th>\n",
       "      <td>0.047276</td>\n",
       "      <td>0.988471</td>\n",
       "      <td>0.002371</td>\n",
       "    </tr>\n",
       "    <tr>\n",
       "      <th>bayes_poly</th>\n",
       "      <td>0.065740</td>\n",
       "      <td>0.970315</td>\n",
       "      <td>-0.019941</td>\n",
       "    </tr>\n",
       "    <tr>\n",
       "      <th>bayes</th>\n",
       "      <td>0.034764</td>\n",
       "      <td>0.969425</td>\n",
       "      <td>0.002897</td>\n",
       "    </tr>\n",
       "    <tr>\n",
       "      <th>baseline_nn</th>\n",
       "      <td>0.150049</td>\n",
       "      <td>0.924253</td>\n",
       "      <td>0.005981</td>\n",
       "    </tr>\n",
       "    <tr>\n",
       "      <th>dummy</th>\n",
       "      <td>0.715687</td>\n",
       "      <td>NaN</td>\n",
       "      <td>0.001903</td>\n",
       "    </tr>\n",
       "  </tbody>\n",
       "</table>\n",
       "</div>"
      ],
      "text/plain": [
       "                  force_mae  force_spearman  mean_force_error\n",
       "lasso+bayes_poly   0.028167        0.990911          0.001010\n",
       "lasso+bayes        0.041379        0.990173          0.002040\n",
       "lasso              0.047276        0.988471          0.002371\n",
       "bayes_poly         0.065740        0.970315         -0.019941\n",
       "bayes              0.034764        0.969425          0.002897\n",
       "baseline_nn        0.150049        0.924253          0.005981\n",
       "dummy              0.715687             NaN          0.001903"
      ]
     },
     "execution_count": 27,
     "metadata": {},
     "output_type": "execute_result"
    }
   ],
   "source": [
    "experiment_number = 14\n",
    "\n",
    "print('Training set size: ', test_results['lasso']['over_time']['training_size'][experiment_number])\n",
    "results = dict([\n",
    "    (name, {'force_mae': np.abs(data[y_col] - my_data['over_time']['traj'][experiment_number]).mean(),\n",
    "            'force_spearman': stats.spearmanr(data[y_col], my_data['over_time']['traj'][experiment_number])[0],\n",
    "            'mean_force_error': data[y_col].mean() - my_data['over_time']['mean_force'][experiment_number]})\n",
    "    for name, my_data in test_results.items()\n",
    "])\n",
    "over_time_results = pd.DataFrame(results).T\n",
    "over_time_results.sort_values('force_spearman', ascending=False)"
   ]
  },
  {
   "cell_type": "code",
   "execution_count": 28,
   "metadata": {},
   "outputs": [
    {
     "data": {
      "image/png": "[encoded data removed]",
      "text/plain": [
       "<matplotlib.figure.Figure at 0x7f4ee0105b38>"
      ]
     },
     "metadata": {},
     "output_type": "display_data"
    }
   ],
   "source": [
    "fig, ax = plt.subplots()\n",
    "\n",
    "ax.bar(range(len(over_time_results)), over_time_results['force_spearman'])\n",
    "\n",
    "ax.set_xticks(range(len(over_time_results)))\n",
    "ax.set_xticklabels(list(over_time_results.index), fontsize=10, rotation=-45);\n",
    "\n",
    "ax.set_ylim(0.9, 1)\n",
    "ax.set_ylabel('Spearman Correlation')\n",
    "ax.set_xlabel('Algorithm', fontsize=10)\n",
    "\n",
    "fig.set_size_inches(2.9, 3)\n",
    "fig.tight_layout()\n",
    "\n",
    "fig.savefig('figures/ml_algorithm_error.pdf')\n",
    "fig.savefig('figures/ml_algorithm_error.png', dpi=320)"
   ]
  },
  {
   "cell_type": "markdown",
   "metadata": {},
   "source": [
    "Get the best model"
   ]
  },
  {
   "cell_type": "code",
   "execution_count": 29,
   "metadata": {},
   "outputs": [],
   "source": [
    "best_model = over_time_results.iloc[-1].name\n",
    "assert best_model == 'lasso+bayes_poly' # Make sure it doesn't change when re-running"
   ]
  },
  {
   "cell_type": "markdown",
   "metadata": {},
   "source": [
    "Stopping power as a function of training set size. Black line is the known average"
   ]
  },
  {
   "cell_type": "code",
   "execution_count": 30,
   "metadata": {},
   "outputs": [
    {
     "data": {
      "text/plain": [
       "<matplotlib.text.Text at 0x7f4ed5f64208>"
      ]
     },
     "execution_count": 30,
     "metadata": {},
     "output_type": "execute_result"
    },
    {
     "data": {
      "image/png": "[encoded data removed]",
      "text/plain": [
       "<matplotlib.figure.Figure at 0x7f4ee01059e8>"
      ]
     },
     "metadata": {},
     "output_type": "display_data"
    }
   ],
   "source": [
    "fig, ax = plt.subplots()\n",
    "\n",
    "ax.plot([0,data['timestep'].max() - data['timestep'].min()], [data['force'].mean(),]*2, 'k--')\n",
    "\n",
    "for name, my_data in test_results.items():\n",
    "    ax.plot(my_data['over_time']['training_size'], my_data['over_time']['mean_force'], marker='o', label=name, alpha=0.7)\n",
    "    \n",
    "ax.set_ylim(data['force'].mean() * 0.9, data['force'].mean() * 1.1)\n",
    "\n",
    "ax.legend()\n",
    "\n",
    "ax.set_xlabel('Training Set Size')\n",
    "ax.set_ylabel('Stopping Power')"
   ]
  },
  {
   "cell_type": "markdown",
   "metadata": {},
   "source": [
    "*Finding*: Bayesian linear regression with feature selection using LASSO seems to work the best. It has the highest Spearman R, and the MAE is not bad either"
   ]
  },
  {
   "cell_type": "markdown",
   "metadata": {},
   "source": [
    "## Effect of Fe"
   ]
  },
  {
   "cell_type": "markdown",
   "metadata": {},
   "source": [
    "## Plot just the best one\n",
    "Show the model performance"
   ]
  },
  {
   "cell_type": "code",
   "execution_count": 31,
   "metadata": {
    "collapsed": true
   },
   "outputs": [],
   "source": [
    "def scale_force(x, exag=3):\n",
    "    return np.sign(x) * np.power(np.abs(x), 1./exag) \n",
    "def unscale_force(x, exag=3):\n",
    "    return np.sign(x) * np.abs(np.power(x, exag))"
   ]
  },
  {
   "cell_type": "code",
   "execution_count": 32,
   "metadata": {
    "collapsed": true
   },
   "outputs": [],
   "source": [
    "best_results = test_results[best_model]\n",
    "num_tests = len(best_results['over_time']['traj'])"
   ]
  },
  {
   "cell_type": "code",
   "execution_count": 33,
   "metadata": {},
   "outputs": [],
   "source": [
    "pkl.dump(best_results['model'], open('best_model.pkl', 'wb'))"
   ]
  },
  {
   "cell_type": "markdown",
   "metadata": {},
   "source": [
    "Plot the convergence of the stopping power"
   ]
  },
  {
   "cell_type": "code",
   "execution_count": 34,
   "metadata": {},
   "outputs": [
    {
     "data": {
      "image/png": "[encoded data removed]",
      "text/plain": [
       "<matplotlib.figure.Figure at 0x7f4ee00139e8>"
      ]
     },
     "metadata": {},
     "output_type": "display_data"
    }
   ],
   "source": [
    "fig, ax = plt.subplots()\n",
    "\n",
    "ax.plot([0,data['timestep'].max() - data['timestep'].min()], [data['force'].mean(),]*2, 'k--')#, label='Known Value')\n",
    "\n",
    "ax.fill_between([0, data['timestep'].max() - data['timestep'].min()],\n",
    "                [data['force'].mean() * 1.01, data['force'].mean() * 1.01],\n",
    "                [data['force'].mean() * 0.99, data['force'].mean() * 0.99], color='k', alpha=0.5)\n",
    "\n",
    "ax.plot(best_results['over_time']['training_size'], best_results['over_time']['mean_force'], \n",
    "        marker='o', ms=2, alpha=0.7, label='ML')\n",
    "    \n",
    "ax.set_ylim(data['force'].mean() * 0.9, data['force'].mean() * 1.1)\n",
    "\n",
    "ax.legend()\n",
    "\n",
    "ax.set_xlabel('Training Set Size')\n",
    "ax.set_ylabel('Stopping Power ($E_H/a_B$)')\n",
    "\n",
    "fig.set_size_inches(3, 2)\n",
    "\n",
    "fig.tight_layout()\n",
    "fig.savefig('figures/stopping_power_bayes.pdf')\n",
    "fig.savefig('figures/stopping_power_bayes.png', dpi=320)"
   ]
  },
  {
   "cell_type": "markdown",
   "metadata": {},
   "source": [
    "Plot the force error as a function of training set size"
   ]
  },
  {
   "cell_type": "code",
   "execution_count": 35,
   "metadata": {},
   "outputs": [
    {
     "data": {
      "image/png": "[encoded data removed]",
      "text/plain": [
       "<matplotlib.figure.Figure at 0x7f4ed5ef0b70>"
      ]
     },
     "metadata": {},
     "output_type": "display_data"
    }
   ],
   "source": [
    "fig, ax = plt.subplots()\n",
    "\n",
    "\n",
    "mae = [ np.abs(data['force'] - t).mean() for t in best_results['over_time']['traj'] ] \n",
    "\n",
    "ax.semilogy(best_results['over_time']['training_size'], mae)\n",
    "    \n",
    "    \n",
    "ax.set_xlabel('Training Set Size')\n",
    "ax.set_ylabel('Force MAE ($E_H/a_B$)')\n",
    "\n",
    "fig.set_size_inches(3, 2)\n",
    "\n",
    "fig.tight_layout()\n",
    "fig.savefig('figures/mae_training_size.pdf')\n",
    "fig.savefig('figures/mae_training_size.png', dpi=320)"
   ]
  },
  {
   "cell_type": "markdown",
   "metadata": {},
   "source": [
    "Plot how well the algorithm forecasts stopping force"
   ]
  },
  {
   "cell_type": "code",
   "execution_count": 36,
   "metadata": {},
   "outputs": [
    {
     "data": {
      "image/png": "[encoded data removed]",
      "text/plain": [
       "<matplotlib.figure.Figure at 0x7f4ed441f1d0>"
      ]
     },
     "metadata": {},
     "output_type": "display_data"
    }
   ],
   "source": [
    "fig, axs = plt.subplots(2, 2, sharex=True, sharey=True)\n",
    "\n",
    "\n",
    "for f,ax in zip([0,int(0.25*num_tests),int(0.5*num_tests),int(0.75*num_tests)],axs.flatten()):\n",
    "    \n",
    "    ax.plot(data['timestep'], scale_force(data['force']), 'k--')\n",
    "    ax.set_ylim(ax.get_ylim()) # Make sure the scales stay appropriate\n",
    "    \n",
    "    traj = best_results['over_time']['traj'][f]\n",
    "    ax.plot(data['timestep'], scale_force(traj), 'r-', alpha=0.7)\n",
    "    traj_error = np.abs(traj - data['force']).mean()\n",
    "    \n",
    "    ax.text(4200, scale_force(30), 'MAE: %.3f $E_H/a_B$'%traj_error, fontsize=8,\n",
    "           bbox=dict(edgecolor='k', facecolor='w'))\n",
    "    \n",
    "    ax.text(4000, -4, 'Training size: %d'%best_results['over_time']['training_size'][f],\n",
    "            fontsize=8,\n",
    "           bbox=dict(edgecolor='k', facecolor='w'))\n",
    "    \n",
    "    ax.plot([best_results['over_time']['step'][f],]*2, ax.get_ylim(), 'b--')\n",
    "\n",
    "axs[1,0].set_xlabel('Timestep')\n",
    "axs[1,1].set_xlabel('Timestep')\n",
    "axs[0,0].set_ylabel('Force ($E_H/a_B$)')\n",
    "axs[1,0].set_ylabel('Force ($E_H/a_B$)')\n",
    "\n",
    "# Unscale force\n",
    "y_ticks = [-100, -20, 0, 20, 100]\n",
    "axs[0,0].set_yticks(scale_force(y_ticks))\n",
    "axs[0,0].set_yticklabels(['%.1f'%f for f in y_ticks])\n",
    "axs[1,0].set_yticks(scale_force(y_ticks))\n",
    "axs[1,0].set_yticklabels(['%.1f'%f for f in y_ticks])\n",
    "\n",
    "fig.set_size_inches(6.5,3)\n",
    "fig.tight_layout()\n",
    "fig.savefig('figures/ml_over_time.pdf')\n",
    "fig.savefig('figures/ml_over_time.png', dpi=320)"
   ]
  },
  {
   "cell_type": "code",
   "execution_count": 37,
   "metadata": {},
   "outputs": [
    {
     "data": {
      "image/png": "[encoded data removed]",
      "text/plain": [
       "<matplotlib.figure.Figure at 0x7f4ed4578940>"
      ]
     },
     "metadata": {},
     "output_type": "display_data"
    }
   ],
   "source": [
    "fig, axs = plt.subplots(2, 2, sharex=True, sharey=True)\n",
    "\n",
    "\n",
    "for f,ax in zip([0,1,2,10],axs.flatten()):\n",
    "    \n",
    "    ax.plot(data['timestep'], data['force'], 'k--')\n",
    "    ax.set_ylim(0, 0.5) # Make sure the scales stay appropriate\n",
    "    ax.set_xlim(8000, 9000)\n",
    "    \n",
    "    traj = best_results['over_time']['traj'][f]\n",
    "    ax.plot(data['timestep'], traj, 'r-', alpha=0.7)\n",
    "    traj_error = np.abs(traj - data['force']).mean()\n",
    "    \n",
    "    ax.text(0.2, 0.9, 'MAE: %.3f $E_H/a_B$'%traj_error, fontsize=8,\n",
    "           bbox=dict(edgecolor='k', facecolor='w'), transform=ax.transAxes)\n",
    "    \n",
    "    ax.text(0.2, 0, 'Training size: %d'%best_results['over_time']['training_size'][f],\n",
    "            fontsize=8, transform=ax.transAxes,\n",
    "           bbox=dict(edgecolor='k', facecolor='w'))\n",
    "    \n",
    "    ax.plot([best_results['over_time']['step'][f],]*2, ax.get_ylim(), 'b--')\n",
    "\n",
    "axs[1,0].set_xlabel('Timestep')\n",
    "axs[1,1].set_xlabel('Timestep')\n",
    "axs[0,0].set_ylabel('Force ($E_H/a_B$)')\n",
    "axs[1,0].set_ylabel('Force ($E_H/a_B$)')\n",
    "\n",
    "\n",
    "fig.set_size_inches(6.5,3)\n",
    "fig.tight_layout()\n",
    "fig.savefig('figures/ml_over_time-small_forces.pdf')\n",
    "fig.savefig('figures/ml_over_time-small_forces.png', dpi=320)"
   ]
  },
  {
   "cell_type": "markdown",
   "metadata": {},
   "source": [
    "## Effect of Feature Selection\n",
    "Demonstrate the effect of feature selection on the predictions of our models."
   ]
  },
  {
   "cell_type": "code",
   "execution_count": 38,
   "metadata": {},
   "outputs": [],
   "source": [
    "force_no_fs = BayesianRidge().fit(data[X_cols], data[y_col]).predict(data[X_cols])"
   ]
  },
  {
   "cell_type": "code",
   "execution_count": 39,
   "metadata": {
    "collapsed": true
   },
   "outputs": [],
   "source": [
    "force_with_fs = Pipeline([\n",
    "    ('lasso_rfe', SelectFromModel(\n",
    "        LassoLars(normalize=True, max_iter=8, fit_intercept=True, alpha=1e-10))\n",
    "    ),\n",
    "    ('model', BayesianRidge())\n",
    "]).fit(data[X_cols], data[y_col]).predict(data[X_cols])"
   ]
  },
  {
   "cell_type": "code",
   "execution_count": 40,
   "metadata": {},
   "outputs": [
    {
     "data": {
      "image/png": "[encoded data removed]",
      "text/plain": [
       "<matplotlib.figure.Figure at 0x7f4ed42b0da0>"
      ]
     },
     "metadata": {},
     "output_type": "display_data"
    }
   ],
   "source": [
    "fig, ax = plt.subplots()\n",
    "\n",
    "ax.plot(data['timestep'], data['force'], 'k--', label='TD-DFT')\n",
    "ax.plot(data['timestep'], force_with_fs, 'r', label='Selection')\n",
    "ax.plot(data['timestep'], force_no_fs, 'b', label='No Selection')\n",
    "\n",
    "ax.set_xlabel('Timestep')\n",
    "ax.set_ylabel('Force ($E_H / a_B$)')\n",
    "\n",
    "ax.legend(fontsize=8, loc=2, ncol=2)\n",
    "\n",
    "ax.set_xlim(7500, 9000)\n",
    "ax.set_ylim(0, 0.7)\n",
    "\n",
    "fig.set_size_inches(3.5, 2)\n",
    "fig.tight_layout()\n",
    "fig.savefig('figures/feature_selection.png', dpi=320)\n",
    "fig.savefig('figures/feature_selection.pdf')"
   ]
  },
  {
   "cell_type": "markdown",
   "metadata": {},
   "source": [
    "## Compute Stopping Power on Different Path\n",
    "Read in the files from another Al trajectory. `Al_256_channel` is a simulation at the same velocity as what we have trained this model on, but along a different path in the crystal."
   ]
  },
  {
   "cell_type": "markdown",
   "metadata": {},
   "source": [
    "Read in the data"
   ]
  },
  {
   "cell_type": "code",
   "execution_count": 41,
   "metadata": {},
   "outputs": [
    {
     "name": "stdout",
     "output_type": "stream",
     "text": [
      "Read in 2000 training points\n",
      "CPU times: user 1min 7s, sys: 467 ms, total: 1min 8s\n",
      "Wall time: 1min 8s\n"
     ]
    }
   ],
   "source": [
    "%%time\n",
    "new_data = []\n",
    "for file in glob('Al_256_channel/kpg*.out'):\n",
    "    frame = load_qbox_data(file)\n",
    "    frame['file'] = file\n",
    "    new_data.append(frame)\n",
    "new_data = pd.concat(new_data)\n",
    "print('Read in %d training points'%len(new_data))"
   ]
  },
  {
   "cell_type": "code",
   "execution_count": 42,
   "metadata": {
    "collapsed": true
   },
   "outputs": [],
   "source": [
    "new_data.sort_values(['file_id', 'frame_id'], ascending=True, inplace=True)\n",
    "new_data['timestep'] = list(range(len(new_data)))\n",
    "new_data.set_index('timestep', inplace=True, drop=False)\n",
    "new_data['displacement'] = (new_data['position'] - new_data['position'][0]).apply(np.linalg.norm)"
   ]
  },
  {
   "cell_type": "markdown",
   "metadata": {},
   "source": [
    "Read in the feature calculators"
   ]
  },
  {
   "cell_type": "code",
   "execution_count": 43,
   "metadata": {
    "collapsed": true
   },
   "outputs": [],
   "source": [
    "featurizers = pkl.load(open('featurizers.pkl', 'rb'))"
   ]
  },
  {
   "cell_type": "code",
   "execution_count": 44,
   "metadata": {},
   "outputs": [
    {
     "name": "stdout",
     "output_type": "stream",
     "text": [
      "CPU times: user 1.75 s, sys: 1.29 s, total: 3.04 s\n",
      "Wall time: 2min 33s\n"
     ]
    }
   ],
   "source": [
    "%%time\n",
    "for f in featurizers:\n",
    "    new_data = f.featurize_dataframe(new_data, 'atoms', n_jobs=None)"
   ]
  },
  {
   "cell_type": "code",
   "execution_count": 45,
   "metadata": {},
   "outputs": [],
   "source": [
    "new_data.drop('atoms', 'columns').to_csv('Al_channel.csv')\n",
    "new_data.to_pickle('Al_channel.pkl')"
   ]
  },
  {
   "cell_type": "markdown",
   "metadata": {},
   "source": [
    "Compute the lattice spacing"
   ]
  },
  {
   "cell_type": "code",
   "execution_count": 46,
   "metadata": {
    "collapsed": true
   },
   "outputs": [],
   "source": [
    "lat_spacing = new_data['atoms'][0].cell[0,0] / 4"
   ]
  },
  {
   "cell_type": "markdown",
   "metadata": {},
   "source": [
    "Plot the results"
   ]
  },
  {
   "cell_type": "code",
   "execution_count": 47,
   "metadata": {},
   "outputs": [
    {
     "data": {
      "image/png": "[encoded data removed]",
      "text/plain": [
       "<matplotlib.figure.Figure at 0x7f4e9d81a630>"
      ]
     },
     "metadata": {},
     "output_type": "display_data"
    }
   ],
   "source": [
    "fig, ax = plt.subplots()\n",
    "\n",
    "# Plot the true result\n",
    "ax.plot(new_data['displacement'], new_data['force'], 'k--', label='TD-DFT')\n",
    "\n",
    "# Plot the ML predictions\n",
    "fmean, fstd = best_results['model'].predict(new_data[X_cols], return_std=True)\n",
    "ax.fill_between(new_data['displacement'], fmean + fstd, fmean - fstd, color='r', alpha=0.5)\n",
    "ax.plot(new_data['displacement'], fmean, 'r-', alpha=0.7, label='ML')\n",
    "\n",
    "# Plot the sample range\n",
    "ax.set_ylim(ax.get_ylim())\n",
    "\n",
    "ax.plot([lat_spacing,] * 2, ax.get_ylim(), 'k--', lw=0.8)\n",
    "ax.plot([lat_spacing * 3,] * 2, ax.get_ylim(), 'k--', lw=0.8)\n",
    "\n",
    "ax.legend(ncol=2)\n",
    "\n",
    "ax.set_xlabel('Displacement ($a_B$)')\n",
    "ax.set_ylabel('Force ($E_H / a_B$)')\n",
    "\n",
    "fig.set_size_inches(6, 3)\n",
    "fig.tight_layout()\n",
    "\n",
    "fig.savefig('figures/stopping_power_Al[001]-trajectory.png', dpi=320)\n",
    "fig.savefig('figures/stopping_power_Al[001]-trajectory.pdf')"
   ]
  },
  {
   "cell_type": "markdown",
   "metadata": {},
   "source": [
    "Compute the stopping power with each ML algorithm"
   ]
  },
  {
   "cell_type": "code",
   "execution_count": 48,
   "metadata": {},
   "outputs": [
    {
     "name": "stdout",
     "output_type": "stream",
     "text": [
      "Actual Stopping Power: 0.223856302433\n"
     ]
    }
   ],
   "source": [
    "new_data_subset = data.query('displacement >= %f and displacement <= %f'%(lat_spacing, lat_spacing * 3))\n",
    "\n",
    "actual_stopping_power = new_data_subset['force'].mean()\n",
    "print('Actual Stopping Power:', actual_stopping_power)\n",
    "\n",
    "names = []\n",
    "stopping_powers = []\n",
    "for k,d in test_results.items():\n",
    "    names.append(k)\n",
    "    stopping_powers.append(np.mean(d['model'].predict(new_data_subset[X_cols])))\n",
    "    \n",
    "errors = [(x - actual_stopping_power) / actual_stopping_power for x in stopping_powers]"
   ]
  },
  {
   "cell_type": "code",
   "execution_count": 49,
   "metadata": {},
   "outputs": [
    {
     "data": {
      "text/html": [
       "<div>\n",
       "<style>\n",
       "    .dataframe thead tr:only-child th {\n",
       "        text-align: right;\n",
       "    }\n",
       "\n",
       "    .dataframe thead th {\n",
       "        text-align: left;\n",
       "    }\n",
       "\n",
       "    .dataframe tbody tr th {\n",
       "        vertical-align: top;\n",
       "    }\n",
       "</style>\n",
       "<table border=\"1\" class=\"dataframe\">\n",
       "  <thead>\n",
       "    <tr style=\"text-align: right;\">\n",
       "      <th></th>\n",
       "      <th>S</th>\n",
       "      <th>error</th>\n",
       "      <th>names</th>\n",
       "    </tr>\n",
       "  </thead>\n",
       "  <tbody>\n",
       "    <tr>\n",
       "      <th>5</th>\n",
       "      <td>0.228863</td>\n",
       "      <td>0.022366</td>\n",
       "      <td>lasso+bayes</td>\n",
       "    </tr>\n",
       "    <tr>\n",
       "      <th>3</th>\n",
       "      <td>0.229533</td>\n",
       "      <td>0.025361</td>\n",
       "      <td>bayes_poly</td>\n",
       "    </tr>\n",
       "    <tr>\n",
       "      <th>2</th>\n",
       "      <td>0.230750</td>\n",
       "      <td>0.030794</td>\n",
       "      <td>bayes</td>\n",
       "    </tr>\n",
       "    <tr>\n",
       "      <th>4</th>\n",
       "      <td>0.231713</td>\n",
       "      <td>0.035099</td>\n",
       "      <td>lasso</td>\n",
       "    </tr>\n",
       "    <tr>\n",
       "      <th>6</th>\n",
       "      <td>0.232412</td>\n",
       "      <td>0.038220</td>\n",
       "      <td>lasso+bayes_poly</td>\n",
       "    </tr>\n",
       "    <tr>\n",
       "      <th>1</th>\n",
       "      <td>0.239991</td>\n",
       "      <td>0.072077</td>\n",
       "      <td>baseline_nn</td>\n",
       "    </tr>\n",
       "    <tr>\n",
       "      <th>0</th>\n",
       "      <td>0.240551</td>\n",
       "      <td>0.074579</td>\n",
       "      <td>dummy</td>\n",
       "    </tr>\n",
       "  </tbody>\n",
       "</table>\n",
       "</div>"
      ],
      "text/plain": [
       "          S     error             names\n",
       "5  0.228863  0.022366       lasso+bayes\n",
       "3  0.229533  0.025361        bayes_poly\n",
       "2  0.230750  0.030794             bayes\n",
       "4  0.231713  0.035099             lasso\n",
       "6  0.232412  0.038220  lasso+bayes_poly\n",
       "1  0.239991  0.072077       baseline_nn\n",
       "0  0.240551  0.074579             dummy"
      ]
     },
     "execution_count": 49,
     "metadata": {},
     "output_type": "execute_result"
    }
   ],
   "source": [
    "pd.DataFrame({'names':names,'S':stopping_powers, 'error':errors}).sort_values('error', ascending=True)"
   ]
  },
  {
   "cell_type": "code",
   "execution_count": 50,
   "metadata": {},
   "outputs": [
    {
     "data": {
      "image/png": "[encoded data removed]",
      "text/plain": [
       "<matplotlib.figure.Figure at 0x7f4e9511e278>"
      ]
     },
     "metadata": {},
     "output_type": "display_data"
    }
   ],
   "source": [
    "fig, ax = plt.subplots()\n",
    "\n",
    "# Plot the ML results\n",
    "ax.bar(list(range(len(names))), stopping_powers)\n",
    "ax.set_xticks(list(range(len(names))))\n",
    "ax.set_xticklabels(names, fontsize=9, rotation=-45);\n",
    "\n",
    "for i,e in enumerate(errors):\n",
    "    ax.text(i, 0.245, '%.1f%%'%(e* 100), ha='center', fontsize=7)#, bbox={'facecolor': 'w', 'edgecolor': 'w'})\n",
    "\n",
    "# Plot the actual result\n",
    "ax.set_xlim(ax.get_xlim())\n",
    "ax.plot(ax.get_xlim(), [actual_stopping_power,] * 2, 'k--')\n",
    "\n",
    "# Make it pretty\n",
    "ax.set_ylim(0.2, 0.25)\n",
    "\n",
    "ax.set_xlabel('Method')\n",
    "ax.set_ylabel('S ($E_H / a_B$)')\n",
    "\n",
    "fig.set_size_inches(3, 2.4)\n",
    "fig.tight_layout()\n",
    "fig.savefig('figures/stopping_power_Al[001].png', dpi=320)\n",
    "fig.savefig('figures/stopping_power_Al[001].pdf', dpi=320)\n"
   ]
  },
  {
   "cell_type": "code",
   "execution_count": 51,
   "metadata": {
    "collapsed": true
   },
   "outputs": [],
   "source": []
  }
 ],
 "metadata": {
  "kernelspec": {
   "display_name": "Python 3",
   "language": "python",
   "name": "python3"
  },
  "language_info": {
   "codemirror_mode": {
    "name": "ipython",
    "version": 3
   },
   "file_extension": ".py",
   "mimetype": "text/x-python",
   "name": "python",
   "nbconvert_exporter": "python",
   "pygments_lexer": "ipython3",
   "version": "3.6.0"
  }
 },
 "nbformat": 4,
 "nbformat_minor": 2
}
