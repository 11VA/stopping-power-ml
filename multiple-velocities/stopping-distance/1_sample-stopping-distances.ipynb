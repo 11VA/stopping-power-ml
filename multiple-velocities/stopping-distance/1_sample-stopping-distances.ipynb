{
 "cells": [
  {
   "cell_type": "markdown",
   "metadata": {},
   "source": [
    "# Sample Stopping Distances\n",
    "The purpose of this notebook is to study how stopping distances varies for projectiles that enter the surface at different locations."
   ]
  },
  {
   "cell_type": "markdown",
   "metadata": {},
   "source": [
    "Set up the multiprocessing environment. Allows multiple processes to use tensorflow, though they will contend for resources."
   ]
  },
  {
   "cell_type": "code",
   "execution_count": 1,
   "metadata": {},
   "outputs": [],
   "source": [
    "from multiprocessing import set_start_method\n",
    "set_start_method('spawn')"
   ]
  },
  {
   "cell_type": "code",
   "execution_count": 2,
   "metadata": {},
   "outputs": [],
   "source": [
    "%matplotlib inline\n",
    "from matplotlib import pyplot as plt\n",
    "from multiprocessing import Pool\n",
    "from functools import partial\n",
    "from tqdm import tqdm\n",
    "import pickle as pkl\n",
    "import numpy as np\n",
    "import os"
   ]
  },
  {
   "cell_type": "markdown",
   "metadata": {},
   "source": [
    "## Load in the Distance Computer\n",
    "That is all we need to run this test"
   ]
  },
  {
   "cell_type": "code",
   "execution_count": 3,
   "metadata": {},
   "outputs": [
    {
     "name": "stderr",
     "output_type": "stream",
     "text": [
      "Using TensorFlow backend.\n"
     ]
    },
    {
     "name": "stdout",
     "output_type": "stream",
     "text": [
      "CPU times: user 4.27 s, sys: 1.2 s, total: 5.48 s\n",
      "Wall time: 4.56 s\n"
     ]
    }
   ],
   "source": [
    "%%time\n",
    "with open('stop_dist_computer.pkl', 'rb') as fp:\n",
    "    stop_comp = pkl.load(fp)"
   ]
  },
  {
   "cell_type": "markdown",
   "metadata": {},
   "source": [
    "## Run a Single Trajectory as Baseline\n",
    "We will run the stopping power along the channel to get an idea for a maximum stopping distance"
   ]
  },
  {
   "cell_type": "code",
   "execution_count": 4,
   "metadata": {},
   "outputs": [
    {
     "name": "stdout",
     "output_type": "stream",
     "text": [
      "Step: 42327 - Time: 42323.27768057986 - Velocity: 0.3999697229897942 - Position: 103304.53086803526\n",
      "CPU times: user 39min 32s, sys: 4.63 s, total: 39min 37s\n",
      "Wall time: 39min 36s\n"
     ]
    }
   ],
   "source": [
    "%%time\n",
    "stop_dist, traj = stop_comp.compute_stopping_distance([0, 0.75, 0.75], [4, 0, 0], output=1000)"
   ]
  },
  {
   "cell_type": "code",
   "execution_count": 5,
   "metadata": {},
   "outputs": [
    {
     "data": {
      "image/png": "[encoded data removed]",
      "text/plain": [
       "<matplotlib.figure.Figure at 0x7f9c9645a9e8>"
      ]
     },
     "metadata": {
      "needs_background": "light"
     },
     "output_type": "display_data"
    }
   ],
   "source": [
    "fig, ax = plt.subplots()\n",
    "\n",
    "ax.plot(traj['displacement'], traj['velocity'])\n",
    "ax.set_xlabel('Displacement ($a_B$)')\n",
    "ax.set_ylabel('Velocity (a.u.)')\n",
    "\n",
    "# Plot the stopping distance and time\n",
    "ax.set_xlim(ax.get_xlim())\n",
    "ax.set_ylim(ax.get_ylim())\n",
    "ax.plot(ax.get_xlim(), [0.4]*2, 'k--', lw=0.5)\n",
    "ax.plot([stop_dist]*2, ax.get_ylim(), 'k--', lw=0.5)\n",
    "\n",
    "\n",
    "fig.set_size_inches(3.5, 2)\n",
    "fig.tight_layout()"
   ]
  },
  {
   "cell_type": "markdown",
   "metadata": {},
   "source": [
    "*Finding*: It does work and we have a standard to compare all of the subsequent calculations."
   ]
  },
  {
   "cell_type": "markdown",
   "metadata": {},
   "source": [
    "## Run Many Trajectories in the $\\left<1 1 1\\right>$ Direction\n",
    "This will simulate the stopping distances for projectiles impinging on a $(111)$ Al surface. The direction does not vary, so we only vary the starting location. For convenience, I just sample points randomly in the unit cell because the stopping distances are so much greater than the size of a unit cell it doesn't really matter if I have them start along the $(111)$ plane."
   ]
  },
  {
   "cell_type": "code",
   "execution_count": 6,
   "metadata": {},
   "outputs": [
    {
     "name": "stdout",
     "output_type": "stream",
     "text": [
      "Starting direction:  [4. 0. 0.]\n"
     ]
    }
   ],
   "source": [
    "traj_dir = [1, 0, 0]\n",
    "traj_dir = np.divide(traj_dir, np.linalg.norm(traj_dir)) * 4\n",
    "print('Starting direction: ', traj_dir)"
   ]
  },
  {
   "cell_type": "code",
   "execution_count": 7,
   "metadata": {},
   "outputs": [
    {
     "name": "stdout",
     "output_type": "stream",
     "text": [
      "Generated 64 starting points\n"
     ]
    }
   ],
   "source": [
    "start_points = np.random.rand(64, 3)\n",
    "print('Generated {} starting points'.format(len(start_points)))"
   ]
  },
  {
   "cell_type": "markdown",
   "metadata": {},
   "source": [
    "Make the function to be executed"
   ]
  },
  {
   "cell_type": "code",
   "execution_count": 8,
   "metadata": {},
   "outputs": [],
   "source": [
    "fun = partial(stop_comp.compute_stopping_distance, output=1000, start_velocity=traj_dir, status=False)"
   ]
  },
  {
   "cell_type": "code",
   "execution_count": 9,
   "metadata": {},
   "outputs": [
    {
     "name": "stdout",
     "output_type": "stream",
     "text": [
      "Step: 23170 - Time: 23166.277680579857 - Velocity: 0.39925058626105453 - Position: 43033.78575339407\n",
      "Step: 35954 - Time: 35950.27768057986 - Velocity: 0.3999172038671868 - Position: 83127.11724886316\n",
      "Step: 41323 - Time: 41319.27768057986 - Velocity: 0.3999263459103731 - Position: 100220.08625449073\n",
      "Step: 41707 - Time: 41703.27768057986 - Velocity: 0.39996706714729874 - Position: 101374.30683392938\n",
      "Step: 41806 - Time: 41802.27768057986 - Velocity: 0.39996887444700435 - Position: 101484.54743280691\n",
      "Step: 42226 - Time: 42222.27768057986 - Velocity: 0.3999758064188685 - Position: 102953.6019563487\n",
      "Step: 32676 - Time: 32672.277680579857 - Velocity: 0.39974449620580743 - Position: 72555.90558607796\n",
      "Step: 27192 - Time: 27188.277680579857 - Velocity: 0.3996183215339811 - Position: 56319.70970719931\n",
      "Step: 39175 - Time: 39171.27768057986 - Velocity: 0.39999771721189026 - Position: 93134.1050223092\n",
      "Step: 35652 - Time: 35648.27768057986 - Velocity: 0.39997912320227025 - Position: 81957.62780093432\n",
      "Step: 41450 - Time: 41446.27768057986 - Velocity: 0.3999929287646133 - Position: 100328.44981222234\n",
      "Step: 31595 - Time: 31591.277680579857 - Velocity: 0.39997809069708024 - Position: 69099.71700538245\n",
      "Step: 38591 - Time: 38587.27768057986 - Velocity: 0.3997560087878791 - Position: 91500.1787674219\n",
      "Step: 42313 - Time: 42309.27768057986 - Velocity: 0.3999946118747861 - Position: 103254.92342114366\n",
      "Step: 35659 - Time: 35655.27768057986 - Velocity: 0.39999129763309177 - Position: 81971.11600671578\n",
      "Step: 37191 - Time: 37187.27768057986 - Velocity: 0.3996441421043772 - Position: 86943.86929903459\n",
      "Step: 41398 - Time: 41394.27768057986 - Velocity: 0.3999440625880095 - Position: 100462.16968314908\n",
      "Step: 41891 - Time: 41887.27768057986 - Velocity: 0.3999470850288113 - Position: 101983.30902962928\n",
      "Step: 28461 - Time: 28457.277680579857 - Velocity: 0.39963496489966505 - Position: 60473.54033443038\n",
      "Step: 34971 - Time: 34967.27768057986 - Velocity: 0.3998199336180862 - Position: 79932.19998788602\n",
      "Step: 41288 - Time: 41284.27768057986 - Velocity: 0.39995784735963674 - Position: 100126.93038900103\n",
      "Step: 41966 - Time: 41962.27768057986 - Velocity: 0.3999234716689625 - Position: 102069.0037929647\n",
      "Step: 41693 - Time: 41689.27768057986 - Velocity: 0.39995125279267846 - Position: 101279.092905414\n",
      "Step: 42139 - Time: 42135.27768057986 - Velocity: 0.3999411326704959 - Position: 102650.52257021166\n",
      "Step: 41988 - Time: 41984.27768057986 - Velocity: 0.3999719181213618 - Position: 102140.65147110859\n",
      "Step: 40450 - Time: 40446.27768057986 - Velocity: 0.3999278808400779 - Position: 97404.64424417424\n",
      "Step: 42197 - Time: 42193.27768057986 - Velocity: 0.3999829576814469 - Position: 102887.71271531221\n",
      "Step: 40966 - Time: 40962.27768057986 - Velocity: 0.3999796078627683 - Position: 98906.06742296516\n",
      "Step: 26321 - Time: 26317.277680579857 - Velocity: 0.39920111728673524 - Position: 53220.98750120592\n",
      "Step: 41781 - Time: 41777.27768057986 - Velocity: 0.3999142048157892 - Position: 101444.952577784\n",
      "Step: 42277 - Time: 42273.27768057986 - Velocity: 0.39995670705903 - Position: 103129.15604176804\n",
      "Step: 21164 - Time: 21160.277680579857 - Velocity: 0.3986042774143597 - Position: 36637.897383016134\n",
      "Step: 40677 - Time: 40673.27768057986 - Velocity: 0.3998581318269716 - Position: 97766.05819473804\n",
      "Step: 42284 - Time: 42280.27768057986 - Velocity: 0.39994733831969115 - Position: 103149.9094636631\n",
      "Step: 38228 - Time: 38224.27768057986 - Velocity: 0.39967559479368814 - Position: 90157.71743485148\n",
      "Step: 42201 - Time: 42197.27768057986 - Velocity: 0.39998928707907516 - Position: 102876.6284908752\n",
      "Step: 41489 - Time: 41485.27768057986 - Velocity: 0.3999808523558579 - Position: 100779.94163302136\n",
      "Step: 41802 - Time: 41798.27768057986 - Velocity: 0.39994638873814153 - Position: 101597.64806275099\n",
      "Step: 24214 - Time: 24210.277680579857 - Velocity: 0.39909570449589005 - Position: 46299.059422519655\n",
      "Step: 37641 - Time: 37637.27768057986 - Velocity: 0.39967316362196353 - Position: 88411.05148735903\n",
      "Step: 32644 - Time: 32640.277680579857 - Velocity: 0.3999995480396199 - Position: 72495.03303628802\n",
      "Step: 23992 - Time: 23988.277680579857 - Velocity: 0.3993091758202975 - Position: 45666.24064388803\n",
      "Step: 42231 - Time: 42227.27768057986 - Velocity: 0.39998213254017717 - Position: 102962.2814949672\n",
      "Step: 26006 - Time: 26002.277680579857 - Velocity: 0.39997299233949296 - Position: 52582.34892544089\n",
      "Step: 40799 - Time: 40795.27768057986 - Velocity: 0.3998905318473567 - Position: 98328.76907472369\n",
      "Step: 41455 - Time: 41451.27768057986 - Velocity: 0.3999519776006535 - Position: 100644.4889779183\n",
      "Step: 41474 - Time: 41470.27768057986 - Velocity: 0.3999649148760617 - Position: 100378.38649892689\n",
      "Step: 40593 - Time: 40589.27768057986 - Velocity: 0.3999605140701802 - Position: 97781.8747580403\n",
      "Step: 40754 - Time: 40750.27768057986 - Velocity: 0.3999299428544167 - Position: 98203.09355294019\n",
      "Step: 42134 - Time: 42130.27768057986 - Velocity: 0.3999783960683796 - Position: 102625.36188281127\n",
      "Step: 40983 - Time: 40979.27768057986 - Velocity: 0.39996507057508135 - Position: 99126.35244923104\n",
      "Step: 38206 - Time: 38202.27768057986 - Velocity: 0.3997078458349349 - Position: 89978.91919598554\n",
      "Step: 35553 - Time: 35549.27768057986 - Velocity: 0.39993082053827045 - Position: 81498.31912437617\n",
      "Step: 36922 - Time: 36918.27768057986 - Velocity: 0.3997167205960712 - Position: 86190.93261131385\n",
      "Step: 24802 - Time: 24798.277680579857 - Velocity: 0.39981278317406277 - Position: 48038.37459157382\n",
      "Step: 22236 - Time: 22232.085214969247 - Velocity: 0.3995674878139713 - Position: 40156.54257527881\n",
      "Step: 41250 - Time: 41246.27768057986 - Velocity: 0.39999197278442505 - Position: 99991.12765508071\n",
      "Step: 28435 - Time: 28431.277680579857 - Velocity: 0.39950076749871977 - Position: 59838.00202924809\n",
      "Step: 41477 - Time: 41473.27768057986 - Velocity: 0.39993656847170983 - Position: 100694.46002342502\n",
      "Step: 41775 - Time: 41771.27768057986 - Velocity: 0.39990797723124205 - Position: 101442.05767346174\n",
      "Step: 23966 - Time: 23962.277680579857 - Velocity: 0.39969224205066434 - Position: 45416.056841218575\n",
      "Step: 42235 - Time: 42231.27768057986 - Velocity: 0.3999601806911464 - Position: 102977.36340086526\n",
      "Step: 41452 - Time: 41448.27768057986 - Velocity: 0.3998921573027737 - Position: 100374.2104361196\n",
      "CPU times: user 1d 14h 33min 50s, sys: 4min 6s, total: 1d 14h 37min 56s\n",
      "Wall time: 1d 14h 37min 17s\n"
     ]
    }
   ],
   "source": [
    "%%time\n",
    "results = []\n",
    "for s in start_points:\n",
    "    try:\n",
    "        results.append(fun(s))\n",
    "    except RuntimeError:\n",
    "        continue\n",
    "stop_dists, stop_trajs = zip(*results)"
   ]
  },
  {
   "cell_type": "code",
   "execution_count": 10,
   "metadata": {},
   "outputs": [
    {
     "data": {
      "image/png": "[encoded data removed]",
      "text/plain": [
       "<matplotlib.figure.Figure at 0x7f9c9634fb00>"
      ]
     },
     "metadata": {
      "needs_background": "light"
     },
     "output_type": "display_data"
    }
   ],
   "source": [
    "fig, ax = plt.subplots()\n",
    "\n",
    "for traj in stop_trajs:\n",
    "    ax.plot(traj['displacement'], traj['velocity'], 'b--')\n",
    "    \n",
    "# Plot the stopping distance and time\n",
    "ax.set_xlim(ax.get_xlim())\n",
    "ax.set_ylim(ax.get_ylim())\n",
    "ax.plot(ax.get_xlim(), [0.4]*2, 'k--', lw=0.5)\n",
    "\n",
    "ax.set_xlabel('Displacement ($a_B$)')\n",
    "ax.set_ylabel('Velocity (a.u.)')\n",
    "\n",
    "fig.set_size_inches(3.5, 2)\n",
    "fig.tight_layout()"
   ]
  },
  {
   "cell_type": "markdown",
   "metadata": {},
   "source": [
    "## Save the Data\n",
    "For later analysis"
   ]
  },
  {
   "cell_type": "code",
   "execution_count": 11,
   "metadata": {},
   "outputs": [],
   "source": [
    "with open('111_results.pkl', 'wb') as fp:\n",
    "    pkl.dump({'start_pos': start_points,\n",
    "             'trajectories': stop_trajs,\n",
    "             'distances': stop_dists}, fp)"
   ]
  },
  {
   "cell_type": "code",
   "execution_count": 12,
   "metadata": {},
   "outputs": [],
   "source": []
  }
 ],
 "metadata": {
  "kernelspec": {
   "display_name": "Python 3",
   "language": "python",
   "name": "python3"
  },
  "language_info": {
   "codemirror_mode": {
    "name": "ipython",
    "version": 3
   },
   "file_extension": ".py",
   "mimetype": "text/x-python",
   "name": "python",
   "nbconvert_exporter": "python",
   "pygments_lexer": "ipython3",
   "version": "3.6.8"
  }
 },
 "nbformat": 4,
 "nbformat_minor": 4
}
