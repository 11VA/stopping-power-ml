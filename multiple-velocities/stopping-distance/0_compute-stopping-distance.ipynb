{
 "cells": [
  {
   "cell_type": "markdown",
   "metadata": {},
   "source": [
    "# Compute the Stopping Distance for a Projectile\n",
    "Compute the stopping distance of a projectile using the multi-velocity machine learning model."
   ]
  },
  {
   "cell_type": "code",
   "execution_count": 1,
   "metadata": {},
   "outputs": [
    {
     "name": "stderr",
     "output_type": "stream",
     "text": [
      "Using TensorFlow backend.\n"
     ]
    }
   ],
   "source": [
    "%matplotlib inline\n",
    "from matplotlib import pyplot as plt\n",
    "from stopping_power_ml.integrator import TrajectoryIntegrator\n",
    "from scipy.integrate import solve_ivp, RK45\n",
    "import pickle as pkl\n",
    "import pandas as pd\n",
    "import numpy as np\n",
    "import keras\n",
    "import os"
   ]
  },
  {
   "cell_type": "markdown",
   "metadata": {},
   "source": [
    "Constants"
   ]
  },
  {
   "cell_type": "code",
   "execution_count": 2,
   "metadata": {},
   "outputs": [],
   "source": [
    "mass_proj = 1837  # Mass of hydrogen in a.u.\n",
    "mean_stopping = 0.2  # Mean stopping power (used to estimate distance)"
   ]
  },
  {
   "cell_type": "markdown",
   "metadata": {},
   "source": [
    "## Load in the Model and Featurizer\n",
    "The model is saved in Keras h5, and the featurizer is in the root directory"
   ]
  },
  {
   "cell_type": "code",
   "execution_count": 3,
   "metadata": {},
   "outputs": [],
   "source": [
    "model = keras.models.load_model(os.path.join('..', 'model.h5'))"
   ]
  },
  {
   "cell_type": "code",
   "execution_count": 4,
   "metadata": {},
   "outputs": [],
   "source": [
    "with open(os.path.join('..', 'featurizer.pkl'), 'rb') as fp:\n",
    "    featurizers = pkl.load(fp)"
   ]
  },
  {
   "cell_type": "code",
   "execution_count": 5,
   "metadata": {},
   "outputs": [],
   "source": [
    "start_frame = pkl.load(open(os.path.join('..', '..', 'al_starting_frame.pkl'), 'rb'))"
   ]
  },
  {
   "cell_type": "markdown",
   "metadata": {},
   "source": [
    "Get the channel data at a single velocity"
   ]
  },
  {
   "cell_type": "code",
   "execution_count": 6,
   "metadata": {},
   "outputs": [],
   "source": [
    "channel_data = pd.read_pickle(os.path.join('..', '..', 'single-velocity', 'data', 'channel_data.pkl.gz')).query('average_range')"
   ]
  },
  {
   "cell_type": "markdown",
   "metadata": {},
   "source": [
    "Get the minimum velocity of all training data"
   ]
  },
  {
   "cell_type": "code",
   "execution_count": 7,
   "metadata": {},
   "outputs": [],
   "source": [
    "min_velocity = pd.read_pickle(os.path.join('..', '..', 'training_data.pkl.gz'))['velocity_mag'].mean()"
   ]
  },
  {
   "cell_type": "markdown",
   "metadata": {},
   "source": [
    "## Make the Trajectory Integration Tool\n",
    "This will black box the annoying parts of computing the force given position and velocity magnitude"
   ]
  },
  {
   "cell_type": "code",
   "execution_count": 8,
   "metadata": {},
   "outputs": [],
   "source": [
    "traj_int = TrajectoryIntegrator(start_frame, model, featurizers)"
   ]
  },
  {
   "cell_type": "code",
   "execution_count": 9,
   "metadata": {},
   "outputs": [],
   "source": [
    "f = traj_int.create_force_calculator_given_displacement([0, 0.75, 0.75], [1, 0, 0])"
   ]
  },
  {
   "cell_type": "markdown",
   "metadata": {},
   "source": [
    "Compare the predictions to the ML model run on the channel data"
   ]
  },
  {
   "cell_type": "code",
   "execution_count": 10,
   "metadata": {},
   "outputs": [
    {
     "data": {
      "image/png": "[encoded data removed]",
      "text/plain": [
       "<matplotlib.figure.Figure at 0x7fee1ae63908>"
      ]
     },
     "metadata": {
      "needs_background": "light"
     },
     "output_type": "display_data"
    }
   ],
   "source": [
    "fig, ax = plt.subplots()\n",
    "\n",
    "X = np.linspace(10, 15, 32)\n",
    "\n",
    "ax.plot(channel_data['displacement'], \n",
    "        model.predict(channel_data[featurizers.feature_labels()]),\n",
    "        'k--')\n",
    "ax.plot(X, [f(x, channel_data['velocity_mag'].mean()) for x in X], label='Force Calculator',\n",
    "       alpha=0.7, color='r', lw=4)\n",
    "\n",
    "ax.set_xlabel('Displacement ($a_B$)')\n",
    "ax.set_ylabel('Force ($E_H / a_B$)')\n",
    "\n",
    "fig.set_size_inches(3.5, 2)\n",
    "fig.tight_layout()"
   ]
  },
  {
   "cell_type": "markdown",
   "metadata": {},
   "source": [
    "*Finding*: The predictions of the trajectory integrator (red) do agree with running the model on the training set. So, my implementation of the force function is correct"
   ]
  },
  {
   "cell_type": "markdown",
   "metadata": {},
   "source": [
    "## Estimate Stopping Distance Along Channel\n",
    "Use an ODE solver to get the stopping distance along a channel"
   ]
  },
  {
   "cell_type": "code",
   "execution_count": 11,
   "metadata": {},
   "outputs": [],
   "source": [
    "def make_ode_function(start_point, start_traj):\n",
    "    \"\"\"Make the function used to run the ODE\n",
    "    \n",
    "    Args:\n",
    "        start_point ([float]*3): Starting point of the run\n",
    "        start_traj ([float]): Staring direction\n",
    "    \"\"\"\n",
    "    \n",
    "    # Make the force calculator\n",
    "    force_calc = traj_int.create_force_calculator_given_displacement(start_point, start_traj)\n",
    "    \n",
    "    def output(t, y):\n",
    "        # Get the velocity and displacement\n",
    "        v, x = y\n",
    "        \n",
    "        # Compute the force\n",
    "        f = force_calc(x, v)\n",
    "        return [-f / mass_proj, v]\n",
    "    return output"
   ]
  },
  {
   "cell_type": "markdown",
   "metadata": {},
   "source": [
    "Estimate stopping distance (TODO: Double-check units!)"
   ]
  },
  {
   "cell_type": "code",
   "execution_count": 12,
   "metadata": {},
   "outputs": [
    {
     "name": "stdout",
     "output_type": "stream",
     "text": [
      "Expected stopping time for v=1.0: 6429.50\n"
     ]
    }
   ],
   "source": [
    "def estimate_stopping(start_velocity, stop_velocity=0.3, average_s=mean_stopping, mass_proj=mass_proj):\n",
    "    \"\"\"Estimate the stopping time given projectile initial conditions\n",
    "    \n",
    "    All units are expected to be atomic units\n",
    "    \n",
    "    Args:\n",
    "        start_velocity (float): Starting velocity\n",
    "        stop_velocity (float): Stopping velocity\n",
    "        average_s (float): Average stopping force\n",
    "        mass_proj (float): Mass of projectile\n",
    "    Returns:\n",
    "        (float) Estimated stopping distance\n",
    "    \"\"\"\n",
    "    \n",
    "    a = average_s / mass_proj\n",
    "    return (start_velocity - stop_velocity) / a\n",
    "print('Expected stopping time for v=1.0: {:.2f}'.format(estimate_stopping(1)))"
   ]
  },
  {
   "cell_type": "markdown",
   "metadata": {},
   "source": [
    "Show how the position changes over time"
   ]
  },
  {
   "cell_type": "code",
   "execution_count": 13,
   "metadata": {},
   "outputs": [],
   "source": [
    "times = np.linspace(0, estimate_stopping(4) * 8, 256)"
   ]
  },
  {
   "cell_type": "code",
   "execution_count": 14,
   "metadata": {},
   "outputs": [
    {
     "name": "stdout",
     "output_type": "stream",
     "text": [
      "CPU times: user 1min 19s, sys: 472 ms, total: 1min 20s\n",
      "Wall time: 2min 36s\n"
     ]
    }
   ],
   "source": [
    "%%time\n",
    "res = solve_ivp(make_ode_function([0, 0.75, 0.75], [1, 0, 0]), (0, times.max()), [4, 0], t_eval=times)"
   ]
  },
  {
   "cell_type": "code",
   "execution_count": 15,
   "metadata": {},
   "outputs": [
    {
     "data": {
      "image/png": "[encoded data removed]",
      "text/plain": [
       "<matplotlib.figure.Figure at 0x7fee11462a90>"
      ]
     },
     "metadata": {
      "needs_background": "light"
     },
     "output_type": "display_data"
    }
   ],
   "source": [
    "fig, ax = plt.subplots()\n",
    "\n",
    "ax.plot(res.y[1, :], res.y[0, :])\n",
    "ax.set_xlabel('Displacement ($a_B$)')\n",
    "ax.set_ylabel('Velocity (a.u.)')\n",
    "ax.set_xlim(ax.get_xlim())\n",
    "\n",
    "ax.plot(ax.get_xlim(), [min_velocity]*2, 'k--')\n",
    "\n",
    "fig.set_size_inches(3.5, 2)\n",
    "fig.tight_layout()"
   ]
  },
  {
   "cell_type": "markdown",
   "metadata": {},
   "source": [
    "*Finding*: The curve has a reasonable shape. More or less linear at the beginning, and then quickly dropping as the particle slows down and the stopping power increases. The long flat tail is an artifact of the stopping power going to zero at non-zero velocity. The black dashed line shows the minimum velocity present in the training set. You'll note that the artifact is outside of our training range, suggesting we would need more training data at this velocity than what we currently have"
   ]
  },
  {
   "cell_type": "markdown",
   "metadata": {},
   "source": [
    "## Check that the tool works for off-channel trajectories\n",
    "These will have sharper changes in force than the on-channel directories. In this version, we also do not attempt to determine a stopping distance"
   ]
  },
  {
   "cell_type": "code",
   "execution_count": 16,
   "metadata": {},
   "outputs": [
    {
     "name": "stdout",
     "output_type": "stream",
     "text": [
      "Step: 18710 - Velocity: 0.3024424781362874 - Position: 79719.19454763478CPU times: user 20min 30s, sys: 10.1 s, total: 20min 40s\n",
      "Wall time: 25min 31s\n"
     ]
    }
   ],
   "source": [
    "%%time\n",
    "state = [4, 0]\n",
    "i = 0\n",
    "states = []\n",
    "rk = RK45(make_ode_function([0, 0.75, 0.75], [4, 2, 1]), 0, [4, 0], 1e8, max_step=2)\n",
    "while rk.y[0] > 0.3:\n",
    "    rk.step()\n",
    "    i += 1\n",
    "    states.append(rk.y)\n",
    "    if i % 10 == 0:\n",
    "        print('\\rStep: {} - Velocity: {} - Position: {}'.format(i, rk.y[0], rk.y[1]), end=\"\")\n",
    "states = pd.DataFrame(dict(zip(['v', 'x'], np.transpose(states))))"
   ]
  },
  {
   "cell_type": "code",
   "execution_count": 17,
   "metadata": {},
   "outputs": [
    {
     "data": {
      "image/png": "[encoded data removed]",
      "text/plain": [
       "<matplotlib.figure.Figure at 0x7fee113d8ac8>"
      ]
     },
     "metadata": {
      "needs_background": "light"
     },
     "output_type": "display_data"
    }
   ],
   "source": [
    "fig, ax = plt.subplots()\n",
    "\n",
    "ax.plot(res.y[1, :], res.y[0, :], label='Channel')\n",
    "ax.plot(states['x'], states['v'], label='Off Channel')\n",
    "\n",
    "ax.legend()\n",
    "\n",
    "ax.set_xlabel('Displacement ($a_B$)')\n",
    "ax.set_ylabel('Velocity (a.u.)')\n",
    "ax.set_xlim(ax.get_xlim())\n",
    "\n",
    "ax.plot(ax.get_xlim(), [min_velocity]*2, 'k--')\n",
    "\n",
    "fig.set_size_inches(3.5, 2)\n",
    "fig.tight_layout()"
   ]
  },
  {
   "cell_type": "markdown",
   "metadata": {},
   "source": [
    "*Finding*: The off-channel projectile does stop in a shorter distance."
   ]
  },
  {
   "cell_type": "markdown",
   "metadata": {},
   "source": [
    "**TODO**: Write an abstract class for holding all of these functions, assess the effect of step size, parallelize"
   ]
  },
  {
   "cell_type": "code",
   "execution_count": null,
   "metadata": {},
   "outputs": [],
   "source": []
  }
 ],
 "metadata": {
  "kernelspec": {
   "display_name": "Python 3",
   "language": "python",
   "name": "python3"
  },
  "language_info": {
   "codemirror_mode": {
    "name": "ipython",
    "version": 3
   },
   "file_extension": ".py",
   "mimetype": "text/x-python",
   "name": "python",
   "nbconvert_exporter": "python",
   "pygments_lexer": "ipython3",
   "version": "3.6.6"
  }
 },
 "nbformat": 4,
 "nbformat_minor": 2
}
