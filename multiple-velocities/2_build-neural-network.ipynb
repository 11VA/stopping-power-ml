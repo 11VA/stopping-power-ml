{
 "cells": [
  {
   "cell_type": "markdown",
   "metadata": {},
   "source": [
    "# Attempt to Model Velocity Dependence _with DNNs_\n",
    "Retry the problem form the previous notebook"
   ]
  },
  {
   "cell_type": "code",
   "execution_count": 1,
   "metadata": {
    "collapsed": true
   },
   "outputs": [
    {
     "name": "stderr",
     "output_type": "stream",
     "text": [
      "Using TensorFlow backend.\n"
     ]
    }
   ],
   "source": [
    "%matplotlib inline\n",
    "from matplotlib import pyplot as plt\n",
    "from stopping_power_ml.io import get_charge_density_interpolator, load_directory\n",
    "from stopping_power_ml.keras import build_fn as build_dense\n",
    "from glob import glob\n",
    "from tqdm import tqdm_notebook as tqdm\n",
    "\n",
    "from keras.layers import Dense, Activation, Input\n",
    "from keras.layers import Concatenate, Multiply, Add\n",
    "from keras.optimizers import Adam\n",
    "from keras.models import Sequential, Model\n",
    "from keras.callbacks import EarlyStopping, ReduceLROnPlateau\n",
    "import pickle as pkl\n",
    "import numpy as np\n",
    "import pandas as pd\n",
    "import os"
   ]
  },
  {
   "cell_type": "markdown",
   "metadata": {},
   "source": [
    "## Load in Data\n",
    "Read in the random trajectories"
   ]
  },
  {
   "cell_type": "code",
   "execution_count": 2,
   "metadata": {},
   "outputs": [],
   "source": [
    "data = pd.read_pickle(os.path.join('data', 'random_traj.pkl'))"
   ]
  },
  {
   "cell_type": "code",
   "execution_count": 46,
   "metadata": {},
   "outputs": [],
   "source": [
    "channel_data = pd.read_pickle(os.path.join('data', 'random_traj.pkl'))"
   ]
  },
  {
   "cell_type": "code",
   "execution_count": 47,
   "metadata": {},
   "outputs": [],
   "source": [
    "with open('featurizer.pkl', 'rb') as fp:\n",
    "    featurizer = pkl.load(fp)"
   ]
  },
  {
   "cell_type": "markdown",
   "metadata": {},
   "source": [
    "Get the features"
   ]
  },
  {
   "cell_type": "code",
   "execution_count": 48,
   "metadata": {},
   "outputs": [],
   "source": [
    "X_cols = featurizer.feature_labels()"
   ]
  },
  {
   "cell_type": "code",
   "execution_count": 49,
   "metadata": {},
   "outputs": [],
   "source": [
    "X_cols_novel = list(X_cols)\n",
    "X_cols_novel.remove(\"velocity_mag\")"
   ]
  },
  {
   "cell_type": "code",
   "execution_count": 6,
   "metadata": {},
   "outputs": [],
   "source": [
    "X_cols_vel = [\"velocity_mag\"]"
   ]
  },
  {
   "cell_type": "code",
   "execution_count": 7,
   "metadata": {},
   "outputs": [],
   "source": [
    "y_col = 'force'"
   ]
  },
  {
   "cell_type": "markdown",
   "metadata": {},
   "source": [
    "## Create Functions for Building Models\n",
    "Create functions for building a Keras model"
   ]
  },
  {
   "cell_type": "code",
   "execution_count": 8,
   "metadata": {},
   "outputs": [],
   "source": [
    "input_shape = (len(X_cols_novel),)\n",
    "v_input_shape = (len(X_cols_vel),)\n",
    "layers = (input_shape[0],16,12,8,4,3)\n",
    "v_layers = (v_input_shape[0],3,3)\n",
    "m_layers = (layers[-1],3)\n",
    "activation = 'elu'"
   ]
  },
  {
   "cell_type": "code",
   "execution_count": 9,
   "metadata": {},
   "outputs": [],
   "source": [
    "optimizer_options = {\n",
    "    'loss': 'mean_absolute_error', \n",
    "    'optimizer': Adam(lr=0.0005),\n",
    "    'metrics': ['mean_absolute_error']\n",
    "}"
   ]
  },
  {
   "cell_type": "code",
   "execution_count": 10,
   "metadata": {},
   "outputs": [],
   "source": [
    "callbacks = [EarlyStopping(monitor='mean_absolute_error', patience=100, verbose=0, mode='auto'),\n",
    "             ReduceLROnPlateau('mean_absolute_error')]"
   ]
  },
  {
   "cell_type": "markdown",
   "metadata": {},
   "source": [
    "### Standard Dense Model\n",
    "Just treat all layers equally"
   ]
  },
  {
   "cell_type": "code",
   "execution_count": 11,
   "metadata": {},
   "outputs": [],
   "source": [
    "model = build_dense(len(X_cols), layers, activation=activation, use_linear_block=False,\n",
    "                   optimizer_options=optimizer_options)"
   ]
  },
  {
   "cell_type": "code",
   "execution_count": 12,
   "metadata": {},
   "outputs": [
    {
     "name": "stdout",
     "output_type": "stream",
     "text": [
      "_________________________________________________________________\n",
      "Layer (type)                 Output Shape              Param #   \n",
      "=================================================================\n",
      "input (InputLayer)           (None, 19)                0         \n",
      "_________________________________________________________________\n",
      "batch_normalization_1 (Batch (None, 19)                76        \n",
      "_________________________________________________________________\n",
      "dense_1 (Dense)              (None, 18)                360       \n",
      "_________________________________________________________________\n",
      "dense_2 (Dense)              (None, 16)                304       \n",
      "_________________________________________________________________\n",
      "dense_3 (Dense)              (None, 12)                204       \n",
      "_________________________________________________________________\n",
      "dense_4 (Dense)              (None, 8)                 104       \n",
      "_________________________________________________________________\n",
      "dense_5 (Dense)              (None, 4)                 36        \n",
      "_________________________________________________________________\n",
      "dense_6 (Dense)              (None, 3)                 15        \n",
      "_________________________________________________________________\n",
      "output (Dense)               (None, 1)                 4         \n",
      "=================================================================\n",
      "Total params: 1,103\n",
      "Trainable params: 1,065\n",
      "Non-trainable params: 38\n",
      "_________________________________________________________________\n"
     ]
    }
   ],
   "source": [
    "model.summary()"
   ]
  },
  {
   "cell_type": "markdown",
   "metadata": {},
   "source": [
    "### Model with Velocity Separate\n",
    "Train two inputs: One based on the features, another based on velocity"
   ]
  },
  {
   "cell_type": "code",
   "execution_count": 50,
   "metadata": {},
   "outputs": [],
   "source": [
    "def build_velocity_merge_model(layers, v_layers, m_layers, input_shape, v_input_shape, activation, merge_type=Multiply, optimizer='adam', loss='mean_absolute_error', summary=False):\n",
    "    \"\"\"Create a model where the velocity input is treated separately, and later merged in with the main model\n",
    "    \n",
    "    Args:\n",
    "        layers ([int]) - layers for the main inputs\n",
    "        v_layers ([int]) - layers for the velocity input\n",
    "        m_layers ([int]]) - layers after the two input networks are merged\n",
    "        input_shape ([int]) - Shape of the main inputs\n",
    "        v_input_shape ([int]) - Shape of the velocity inputs\n",
    "        activation (str) - Type of the activation layer\n",
    "        merge_type (Layer) - Method used to combine the layers\n",
    "        optimizer (str) - Optimization method\n",
    "        loss (str) - Loss metric\n",
    "        summary (bool) - Whether to print summary\n",
    "    Returns:\n",
    "        (Model): Keras model\n",
    "    \"\"\"\n",
    "    \n",
    "    # Make the network for the main features\n",
    "    main_input = Input(shape=input_shape)\n",
    "    l = Dense(layers[0], activation=activation)(main_input)\n",
    "    for layer in layers[1:]:\n",
    "        l = (Dense(layer, activation=activation))(l)\n",
    "        \n",
    "    # Make the network for both\n",
    "    v_input = Input(shape=v_input_shape)\n",
    "    r = Dense(v_layers[0], activation=activation)(v_input)\n",
    "    for v_layer in v_layers[1:]:\n",
    "        r = (Dense(v_layer, activation=activation))(r)\n",
    "        \n",
    "    # Multiple them together\n",
    "    m = merge_type()([l, r])\n",
    "    \n",
    "    # Make the post-merge network\n",
    "    for m_layer in m_layers:\n",
    "        m = (Dense(m_layer, activation=activation))(m)\n",
    "        \n",
    "    output = Dense(1, activation='linear')(m)\n",
    "    \n",
    "    model = Model(inputs=[main_input, v_input], \n",
    "                         outputs=[output])\n",
    "    \n",
    "    model.compile(loss=loss, optimizer=optimizer, metrics=[loss])\n",
    "    if summary:\n",
    "        model.summary()\n",
    "    return model"
   ]
  },
  {
   "cell_type": "markdown",
   "metadata": {},
   "source": [
    "Build an initial model"
   ]
  },
  {
   "cell_type": "code",
   "execution_count": 14,
   "metadata": {},
   "outputs": [],
   "source": [
    "merge_model = build_velocity_merge_model(layers, v_layers, m_layers, input_shape, v_input_shape, activation)"
   ]
  },
  {
   "cell_type": "code",
   "execution_count": 15,
   "metadata": {},
   "outputs": [
    {
     "name": "stdout",
     "output_type": "stream",
     "text": [
      "__________________________________________________________________________________________________\n",
      "Layer (type)                    Output Shape         Param #     Connected to                     \n",
      "==================================================================================================\n",
      "input_1 (InputLayer)            (None, 18)           0                                            \n",
      "__________________________________________________________________________________________________\n",
      "dense_7 (Dense)                 (None, 18)           342         input_1[0][0]                    \n",
      "__________________________________________________________________________________________________\n",
      "dense_8 (Dense)                 (None, 16)           304         dense_7[0][0]                    \n",
      "__________________________________________________________________________________________________\n",
      "dense_9 (Dense)                 (None, 12)           204         dense_8[0][0]                    \n",
      "__________________________________________________________________________________________________\n",
      "input_2 (InputLayer)            (None, 1)            0                                            \n",
      "__________________________________________________________________________________________________\n",
      "dense_10 (Dense)                (None, 8)            104         dense_9[0][0]                    \n",
      "__________________________________________________________________________________________________\n",
      "dense_13 (Dense)                (None, 1)            2           input_2[0][0]                    \n",
      "__________________________________________________________________________________________________\n",
      "dense_11 (Dense)                (None, 4)            36          dense_10[0][0]                   \n",
      "__________________________________________________________________________________________________\n",
      "dense_14 (Dense)                (None, 3)            6           dense_13[0][0]                   \n",
      "__________________________________________________________________________________________________\n",
      "dense_12 (Dense)                (None, 3)            15          dense_11[0][0]                   \n",
      "__________________________________________________________________________________________________\n",
      "dense_15 (Dense)                (None, 3)            12          dense_14[0][0]                   \n",
      "__________________________________________________________________________________________________\n",
      "multiply_1 (Multiply)           (None, 3)            0           dense_12[0][0]                   \n",
      "                                                                 dense_15[0][0]                   \n",
      "__________________________________________________________________________________________________\n",
      "dense_16 (Dense)                (None, 3)            12          multiply_1[0][0]                 \n",
      "__________________________________________________________________________________________________\n",
      "dense_17 (Dense)                (None, 3)            12          dense_16[0][0]                   \n",
      "__________________________________________________________________________________________________\n",
      "dense_18 (Dense)                (None, 1)            4           dense_17[0][0]                   \n",
      "==================================================================================================\n",
      "Total params: 1,053\n",
      "Trainable params: 1,053\n",
      "Non-trainable params: 0\n",
      "__________________________________________________________________________________________________\n"
     ]
    }
   ],
   "source": [
    "merge_model.summary()"
   ]
  },
  {
   "cell_type": "markdown",
   "metadata": {},
   "source": [
    "## Test on the Whole Dataset\n",
    "Fit the model on the whole dataset"
   ]
  },
  {
   "cell_type": "code",
   "execution_count": 16,
   "metadata": {
    "collapsed": true
   },
   "outputs": [],
   "source": [
    "def fit_on_whole_dataset(model, callbacks=[], epochs=1, split_v=False):\n",
    "    \"\"\"Test train a model on the whole dataset\n",
    "    \n",
    "    Args:\n",
    "        model (Model): Model to be trained \n",
    "        callbacks ([List]): List of callbacks used during training\n",
    "        epochs (int): Maximum number of epochs for training\n",
    "    Returns:\n",
    "        history - history from the fit\n",
    "    \"\"\"\n",
    "\n",
    "    # Train the model\n",
    "    if split_v:\n",
    "        return model.fit([data[X_cols_novel], data[X_cols_vel]], data[y_col], epochs=epochs, callbacks=callbacks, verbose=0)\n",
    "    else:\n",
    "        return model.fit(data[X_cols], data[y_col], epochs=epochs, callbacks=callbacks, verbose=0)"
   ]
  },
  {
   "cell_type": "markdown",
   "metadata": {},
   "source": [
    "Fit the whole model"
   ]
  },
  {
   "cell_type": "code",
   "execution_count": 17,
   "metadata": {},
   "outputs": [
    {
     "name": "stdout",
     "output_type": "stream",
     "text": [
      "CPU times: user 34min 28s, sys: 35min 52s, total: 1h 10min 20s\n",
      "Wall time: 12min 17s\n"
     ]
    }
   ],
   "source": [
    "%%time\n",
    "dense_history = fit_on_whole_dataset(model, callbacks, 1000, False)"
   ]
  },
  {
   "cell_type": "code",
   "execution_count": 18,
   "metadata": {},
   "outputs": [
    {
     "name": "stdout",
     "output_type": "stream",
     "text": [
      "CPU times: user 18min 35s, sys: 2min 1s, total: 20min 37s\n",
      "Wall time: 14min 41s\n"
     ]
    }
   ],
   "source": [
    "%%time\n",
    "merge_history = fit_on_whole_dataset(merge_model, callbacks, 1000, True)"
   ]
  },
  {
   "cell_type": "markdown",
   "metadata": {},
   "source": [
    "Plot results"
   ]
  },
  {
   "cell_type": "code",
   "execution_count": 19,
   "metadata": {},
   "outputs": [
    {
     "data": {
      "image/png": "[encoded data removed]",
      "text/plain": [
       "<matplotlib.figure.Figure at 0x7f3e0028c2b0>"
      ]
     },
     "metadata": {
      "needs_background": "light"
     },
     "output_type": "display_data"
    }
   ],
   "source": [
    "fig, ax = plt.subplots()\n",
    "\n",
    "ax.loglog(dense_history.epoch, dense_history.history['mean_absolute_error'], 'k', label='Dense')\n",
    "ax.loglog(merge_history.epoch, merge_history.history['mean_absolute_error'], 'r', label='Merged')\n",
    "\n",
    "ax.set_ylabel('MAE ($E_H$ / $a_B$)')\n",
    "ax.set_xlabel('Epoch')\n",
    "\n",
    "ax.legend()\n",
    "\n",
    "fig.set_size_inches(3.5, 2.1)\n",
    "fig.tight_layout()"
   ]
  },
  {
   "cell_type": "markdown",
   "metadata": {},
   "source": [
    "## Evaluate Model Performance\n",
    "Get the performance of the model on the whole dataset"
   ]
  },
  {
   "cell_type": "code",
   "execution_count": 51,
   "metadata": {},
   "outputs": [],
   "source": [
    "def plot_performance(model, split_v):\n",
    "    \"\"\"Plot the performance of the model on multiple velocities\"\"\"\n",
    "\n",
    "    # Evaluate on the whole dataset\n",
    "    if split_v:\n",
    "        data['force_fit'] = model.predict([data[X_cols_novel], data[X_cols_vel]])\n",
    "    else:\n",
    "        data['force_fit'] = model.predict(data[X_cols])\n",
    "\n",
    "    # Plot results\n",
    "    fig, ax = plt.subplots(1, 3)\n",
    "\n",
    "    velocity = []\n",
    "    stopping_pred = []\n",
    "    stopping_actual = []\n",
    "    for gid, group in data.groupby('directory'):\n",
    "        # Store the velocity\n",
    "        velocity.append(group['velocity_mag'].mean())\n",
    "        \n",
    "        # Plot the performance on a segment of the dataset\n",
    "        label = 'v={:.1f}'.format(group['velocity_mag'].mean())\n",
    "        \n",
    "        for a in ax[:2]:\n",
    "            my_line, = a.plot(group['displacement'], group['force'], linestyle='--',\n",
    "                                  label=label)\n",
    "\n",
    "            a.plot(group['displacement'], group['force_fit'].tolist(), color=my_line.get_color(), lw=3, alpha=0.5)\n",
    "            \n",
    "            a.set_xlabel('Displacement (a.u.)')\n",
    "            a.set_ylabel('Force ($E_H / a_B$)')\n",
    "        \n",
    "        # Select a certain subset\n",
    "        ax[0].set_xlim(40, 60)\n",
    "        #ax[0].set_ylim(-0.3, 0.7)\n",
    "        ax[0].set_yscale('symlog')\n",
    "        #ax[0].legend(ncol=2)\n",
    "        \n",
    "        # Select a certain subset\n",
    "        ax[1].set_xlim(52, 65)\n",
    "        ax[1].set_ylim(-0.5, 0.9)\n",
    "        #ax[1].legend(ncol=2)\n",
    "        \n",
    "        # Store the stopping pwoers\n",
    "        stopping_pred.append(group['force_fit'].mean())\n",
    "        stopping_actual.append(group['force'].mean())\n",
    "        \n",
    "    # Plot the stopping power\n",
    "    ax[2].scatter(velocity, stopping_actual, marker='o', s=80, facecolor='none', edgecolor='k', label='TD-DFT')\n",
    "    ax[2].scatter(velocity, stopping_pred, marker='o', facecolor='crimson', edgecolor='k', label='ML')\n",
    "    \n",
    "    ax[2].set_ylabel('Stopping Power ($E_H / a_B$)')\n",
    "    ax[2].set_xlabel('Velocity (au.)')\n",
    "    ax[2].set_ylim(0, max(ax[2].get_ylim()))\n",
    "    ax[2].set_xlim(0, 4.2)\n",
    "    ax[2].legend()\n",
    "    \n",
    "    fig.set_size_inches(8, 2.5)\n",
    "    fig.tight_layout()\n",
    "    \n",
    "    return fig, ax"
   ]
  },
  {
   "cell_type": "markdown",
   "metadata": {},
   "source": [
    "Plot the dense model"
   ]
  },
  {
   "cell_type": "code",
   "execution_count": 52,
   "metadata": {},
   "outputs": [
    {
     "data": {
      "text/plain": [
       "(<matplotlib.figure.Figure at 0x7f3da3ddbe80>,\n",
       " array([<matplotlib.axes._subplots.AxesSubplot object at 0x7f3e59d428d0>,\n",
       "        <matplotlib.axes._subplots.AxesSubplot object at 0x7f3e59c405f8>,\n",
       "        <matplotlib.axes._subplots.AxesSubplot object at 0x7f3e59b849b0>],\n",
       "       dtype=object))"
      ]
     },
     "execution_count": 52,
     "metadata": {},
     "output_type": "execute_result"
    },
    {
     "data": {
      "image/png": "[encoded data removed]",
      "text/plain": [
       "<matplotlib.figure.Figure at 0x7f3da3ddbe80>"
      ]
     },
     "metadata": {
      "needs_background": "light"
     },
     "output_type": "display_data"
    }
   ],
   "source": [
    "plot_performance(model, False)"
   ]
  },
  {
   "cell_type": "code",
   "execution_count": 53,
   "metadata": {},
   "outputs": [
    {
     "data": {
      "text/plain": [
       "(<matplotlib.figure.Figure at 0x7f3da3b0e6a0>,\n",
       " array([<matplotlib.axes._subplots.AxesSubplot object at 0x7f3da362c048>,\n",
       "        <matplotlib.axes._subplots.AxesSubplot object at 0x7f3da3393978>,\n",
       "        <matplotlib.axes._subplots.AxesSubplot object at 0x7f3da3523080>],\n",
       "       dtype=object))"
      ]
     },
     "execution_count": 53,
     "metadata": {},
     "output_type": "execute_result"
    },
    {
     "data": {
      "image/png": "[encoded data removed]",
      "text/plain": [
       "<matplotlib.figure.Figure at 0x7f3da3b0e6a0>"
      ]
     },
     "metadata": {
      "needs_background": "light"
     },
     "output_type": "display_data"
    }
   ],
   "source": [
    "plot_performance(merge_model, True)"
   ]
  },
  {
   "cell_type": "markdown",
   "metadata": {},
   "source": [
    "*Finding*: The model does interpolate between different velocities decently"
   ]
  },
  {
   "cell_type": "markdown",
   "metadata": {},
   "source": [
    "## Leave-one-velocity-out Cross-Validation\n",
    "Can we interpolate between different velocities?"
   ]
  },
  {
   "cell_type": "markdown",
   "metadata": {},
   "source": [
    "Andre uses 6 $a_B$"
   ]
  },
  {
   "cell_type": "code",
   "execution_count": null,
   "metadata": {},
   "outputs": [],
   "source": [
    "velocity_strs = set(data['velocity_str'])"
   ]
  },
  {
   "cell_type": "code",
   "execution_count": null,
   "metadata": {
    "collapsed": true
   },
   "outputs": [],
   "source": [
    "train_sets = []\n",
    "test_sets = []\n",
    "\n",
    "for vel in velocity_strs:\n",
    "    train_sets.append(data.query(\"velocity_str != '{}'\".format(vel)))\n",
    "    test_sets.append(data.query(\"velocity_str == '{}'\".format(vel)))"
   ]
  },
  {
   "cell_type": "code",
   "execution_count": null,
   "metadata": {},
   "outputs": [],
   "source": []
  },
  {
   "cell_type": "code",
   "execution_count": null,
   "metadata": {},
   "outputs": [],
   "source": [
    "def show_prediction_scatter(test_set):\n",
    "    dirname = test_set['directory'].iloc[0]\n",
    "    plt.figure()\n",
    "    plt.title('{} Force Preds'.format(dirname))\n",
    "    plt.xlabel('Actual Force')\n",
    "    plt.ylabel('Prediction')\n",
    "    plt.scatter(test_set['force'], test_set['force_fit'])\n",
    "    plt.show()"
   ]
  },
  {
   "cell_type": "code",
   "execution_count": null,
   "metadata": {},
   "outputs": [],
   "source": [
    "def fit_and_cross_test(model, train_set, test_set, callbacks=[], epochs=1, split_v=False, verbose=0):\n",
    "\n",
    "    if split_v:\n",
    "        try:\n",
    "            model.fit([train_set[X_cols_orig], train_set[V_cols]], train_set[y_col], epochs=epochs, callbacks=callbacks, verbose=verbose)\n",
    "        except Exception as e:\n",
    "            print(e)\n",
    "            model.fit([train_set[X_cols_orig], train_set[V_cols]], train_set[y_col], verbose=verbose)\n",
    "        \n",
    "    else:\n",
    "        try:\n",
    "            model.fit(train_set[X_cols], train_set[y_col], epochs=epochs, callbacks=callbacks, verbose=verbose)\n",
    "        except Exception as e:\n",
    "            print(e)\n",
    "            model.fit(train_set[X_cols], train_set[y_col], verbose=verbose)\n",
    "            \n",
    "    if split_v:\n",
    "        data['force_fit'] = model.predict([data[X_cols_orig], data[V_cols]])\n",
    "        test_set['force_fit'] = model.predict([test_set[X_cols_orig], test_set[V_cols]])\n",
    "    else:\n",
    "        data['force_fit'] = model.predict(data[X_cols])\n",
    "        test_set['force_fit'] = model.predict(test_set[X_cols])\n",
    "        \n",
    "\n",
    "    fig, ax = plt.subplots(1, 2)\n",
    "\n",
    "    velocity = []\n",
    "    stopping_pred = []\n",
    "    stopping_actual = []\n",
    "    for gid, group in data.groupby('directory'):\n",
    "        velocity.append(float(gid[-3:]))\n",
    "        \n",
    "        # Plot the performance\n",
    "        my_line, = ax[0].plot(group['displacement'], group['force'], linestyle='--', label='v='+gid[-3:])\n",
    "\n",
    "        if split_v:\n",
    "            ax[0].plot(group['displacement'], model.predict([group[X_cols_orig], group[V_cols]]), color=my_line.get_color(), lw=5, alpha=0.3)\n",
    "        else:\n",
    "            ax[0].plot(group['displacement'], model.predict(group[X_cols]), color=my_line.get_color(), lw=5, alpha=0.3)\n",
    "        \n",
    "        ax[0].set_xlim(30, 40)\n",
    "        ax[0].set_ylim(-0.3, 0.7)\n",
    "        ax[0].legend(ncol=2)\n",
    "\n",
    "        ax[0].set_xlabel('Displacement (a.u.)')\n",
    "        ax[0].set_ylabel('Force ($E_H / a_B$)')\n",
    "        \n",
    "        # Plot the mean velocity\n",
    "        stopping_pred.append(group['force_fit'].mean())\n",
    "        stopping_actual.append(group['force'].mean())\n",
    "        \n",
    "    # Plot the stopping power\n",
    "    ax[1].scatter(velocity, stopping_actual, marker='o', s=80, facecolor='none', edgecolor='k', label='TD-DFT')\n",
    "    ax[1].scatter(velocity, stopping_pred, marker='o', facecolor='crimson', edgecolor='k', label='ML')\n",
    "    \n",
    "    ax[1].set_ylabel('Stopping Power ($E_H / a_B$)')\n",
    "    ax[1].set_xlabel('Velocity (au.)')\n",
    "    ax[1].set_ylim(0, max(ax[1].get_ylim()))\n",
    "    ax[1].set_xlim(0, 4.2)\n",
    "    ax[1].legend()\n",
    "    \n",
    "    fig.tight_layout()\n",
    "    \n",
    "    return fig, ax"
   ]
  },
  {
   "cell_type": "code",
   "execution_count": null,
   "metadata": {},
   "outputs": [],
   "source": [
    "input_shape = (21,)\n",
    "layers = (input_shape[0],18,16,12,8,4)\n",
    "activation = 'selu'\n",
    "#optimizer = 'rmsprop'\n",
    "#loss = 'mean_squared_error' \n",
    "epochs = 250\n",
    "i = 3\n",
    "\n",
    "callbacks = [ReduceLROnPlateau(monitor='mean_absolute_error', patience=5, verbose=1, factor=0.5, mode='auto'),\n",
    "            EarlyStopping(monitor='mean_absolute_error', patience=15, verbose=0, mode='auto')]\n",
    "\n",
    "fit_and_cross_test( build_dense_model(layers, input_shape, activation), train_sets[i], test_sets[i],\n",
    "                   callbacks=callbacks, epochs=epochs, verbose=0)\n",
    "show_prediction_scatter(test_sets[i])"
   ]
  },
  {
   "cell_type": "code",
   "execution_count": null,
   "metadata": {},
   "outputs": [],
   "source": [
    "input_shape = (21,)\n",
    "layers = (input_shape[0],18,16,12,8,4)\n",
    "activation = 'selu'\n",
    "#optimizer = 'rmsprop'\n",
    "#loss = 'mean_squared_error' \n",
    "epochs = 250\n",
    "#i = 0\n",
    "\n",
    "\n",
    "\n",
    "for i in range(2, len(train_sets)):\n",
    "    callbacks = [ReduceLROnPlateau(monitor='mean_absolute_error', patience=5, verbose=1, factor=0.5, mode='auto'),\n",
    "            EarlyStopping(monitor='mean_absolute_error', patience=15, verbose=1, mode='auto')]\n",
    "    \n",
    "    fit_and_cross_test( build_dense_model(layers, input_shape, activation), train_sets[i], test_sets[i],\n",
    "                   callbacks=callbacks, epochs=epochs, verbose=1)\n",
    "    show_prediction_scatter(test_sets[i])"
   ]
  },
  {
   "cell_type": "code",
   "execution_count": null,
   "metadata": {},
   "outputs": [],
   "source": []
  }
 ],
 "metadata": {
  "kernelspec": {
   "display_name": "Python 3",
   "language": "python",
   "name": "python3"
  },
  "language_info": {
   "codemirror_mode": {
    "name": "ipython",
    "version": 3
   },
   "file_extension": ".py",
   "mimetype": "text/x-python",
   "name": "python",
   "nbconvert_exporter": "python",
   "pygments_lexer": "ipython3",
   "version": "3.6.6"
  }
 },
 "nbformat": 4,
 "nbformat_minor": 2
}
