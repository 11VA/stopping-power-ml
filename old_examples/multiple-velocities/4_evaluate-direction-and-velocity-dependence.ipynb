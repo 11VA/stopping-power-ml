{
 "cells": [
  {
   "cell_type": "markdown",
   "metadata": {},
   "source": [
    "# Evalaute Velocity and Direction Dependence\n",
    "The goal of this notebook is to explore the velocity and direction dependence of stopping power, as predicted by the ML model"
   ]
  },
  {
   "cell_type": "code",
   "execution_count": 1,
   "metadata": {},
   "outputs": [
    {
     "name": "stderr",
     "output_type": "stream",
     "text": [
      "Using TensorFlow backend.\n",
      "/home/lward/miniconda3/envs/ml_tddft/lib/python3.6/site-packages/tensorflow/python/framework/dtypes.py:526: FutureWarning: Passing (type, 1) or '1type' as a synonym of type is deprecated; in a future version of numpy, it will be understood as (type, (1,)) / '(1,)type'.\n",
      "  _np_qint8 = np.dtype([(\"qint8\", np.int8, 1)])\n",
      "/home/lward/miniconda3/envs/ml_tddft/lib/python3.6/site-packages/tensorflow/python/framework/dtypes.py:527: FutureWarning: Passing (type, 1) or '1type' as a synonym of type is deprecated; in a future version of numpy, it will be understood as (type, (1,)) / '(1,)type'.\n",
      "  _np_quint8 = np.dtype([(\"quint8\", np.uint8, 1)])\n",
      "/home/lward/miniconda3/envs/ml_tddft/lib/python3.6/site-packages/tensorflow/python/framework/dtypes.py:528: FutureWarning: Passing (type, 1) or '1type' as a synonym of type is deprecated; in a future version of numpy, it will be understood as (type, (1,)) / '(1,)type'.\n",
      "  _np_qint16 = np.dtype([(\"qint16\", np.int16, 1)])\n",
      "/home/lward/miniconda3/envs/ml_tddft/lib/python3.6/site-packages/tensorflow/python/framework/dtypes.py:529: FutureWarning: Passing (type, 1) or '1type' as a synonym of type is deprecated; in a future version of numpy, it will be understood as (type, (1,)) / '(1,)type'.\n",
      "  _np_quint16 = np.dtype([(\"quint16\", np.uint16, 1)])\n",
      "/home/lward/miniconda3/envs/ml_tddft/lib/python3.6/site-packages/tensorflow/python/framework/dtypes.py:530: FutureWarning: Passing (type, 1) or '1type' as a synonym of type is deprecated; in a future version of numpy, it will be understood as (type, (1,)) / '(1,)type'.\n",
      "  _np_qint32 = np.dtype([(\"qint32\", np.int32, 1)])\n",
      "/home/lward/miniconda3/envs/ml_tddft/lib/python3.6/site-packages/tensorflow/python/framework/dtypes.py:535: FutureWarning: Passing (type, 1) or '1type' as a synonym of type is deprecated; in a future version of numpy, it will be understood as (type, (1,)) / '(1,)type'.\n",
      "  np_resource = np.dtype([(\"resource\", np.ubyte, 1)])\n"
     ]
    }
   ],
   "source": [
    "%matplotlib inline\n",
    "from matplotlib import pyplot as plt\n",
    "from stopping_power_ml.integrator import TrajectoryIntegrator\n",
    "import pickle as pkl\n",
    "import pandas as pd\n",
    "import numpy as np\n",
    "import keras\n",
    "import os"
   ]
  },
  {
   "cell_type": "markdown",
   "metadata": {},
   "source": [
    "## Load TDDFT Data\n",
    "We need the 100 channel and random direction"
   ]
  },
  {
   "cell_type": "code",
   "execution_count": 2,
   "metadata": {},
   "outputs": [],
   "source": [
    "channel_data = pd.read_pickle(os.path.join('data', 'channel_traj.pkl')).query('average_range')"
   ]
  },
  {
   "cell_type": "code",
   "execution_count": 3,
   "metadata": {},
   "outputs": [],
   "source": [
    "random_data = pd.read_pickle(os.path.join('data', 'random_traj.pkl'))"
   ]
  },
  {
   "cell_type": "markdown",
   "metadata": {},
   "source": [
    "## Load the Model and Featurizer\n",
    "The model is saved in Keras h5, and the featurizer is in the root directory"
   ]
  },
  {
   "cell_type": "code",
   "execution_count": 4,
   "metadata": {},
   "outputs": [
    {
     "name": "stdout",
     "output_type": "stream",
     "text": [
      "WARNING:tensorflow:From /home/lward/miniconda3/envs/ml_tddft/lib/python3.6/site-packages/tensorflow/python/framework/op_def_library.py:263: colocate_with (from tensorflow.python.framework.ops) is deprecated and will be removed in a future version.\n",
      "Instructions for updating:\n",
      "Colocations handled automatically by placer.\n",
      "WARNING:tensorflow:From /home/lward/miniconda3/envs/ml_tddft/lib/python3.6/site-packages/tensorflow/python/ops/math_ops.py:3066: to_int32 (from tensorflow.python.ops.math_ops) is deprecated and will be removed in a future version.\n",
      "Instructions for updating:\n",
      "Use tf.cast instead.\n"
     ]
    }
   ],
   "source": [
    "model = keras.models.load_model('model-random-and-channel.h5')"
   ]
  },
  {
   "cell_type": "code",
   "execution_count": 5,
   "metadata": {},
   "outputs": [],
   "source": [
    "with open('featurizer.pkl', 'rb') as fp:\n",
    "    featurizers = pkl.load(fp)"
   ]
  },
  {
   "cell_type": "code",
   "execution_count": 6,
   "metadata": {},
   "outputs": [],
   "source": [
    "start_frame = pkl.load(open(os.path.join('..', 'al_starting_frame.pkl'), 'rb'))"
   ]
  },
  {
   "cell_type": "code",
   "execution_count": 7,
   "metadata": {},
   "outputs": [
    {
     "name": "stdout",
     "output_type": "stream",
     "text": [
      "_________________________________________________________________\n",
      "Layer (type)                 Output Shape              Param #   \n",
      "=================================================================\n",
      "input (InputLayer)           (None, 19)                0         \n",
      "_________________________________________________________________\n",
      "dense_1 (Dense)              (None, 18)                360       \n",
      "_________________________________________________________________\n",
      "dense_2 (Dense)              (None, 32)                608       \n",
      "_________________________________________________________________\n",
      "dense_3 (Dense)              (None, 24)                792       \n",
      "_________________________________________________________________\n",
      "dense_4 (Dense)              (None, 8)                 200       \n",
      "_________________________________________________________________\n",
      "dense_5 (Dense)              (None, 4)                 36        \n",
      "_________________________________________________________________\n",
      "dense_6 (Dense)              (None, 3)                 15        \n",
      "_________________________________________________________________\n",
      "output (Dense)               (None, 1)                 4         \n",
      "=================================================================\n",
      "Total params: 2,015\n",
      "Trainable params: 2,015\n",
      "Non-trainable params: 0\n",
      "_________________________________________________________________\n"
     ]
    }
   ],
   "source": [
    "model.summary()"
   ]
  },
  {
   "cell_type": "markdown",
   "metadata": {},
   "source": [
    "## Make the Trajectory Integration Tool\n",
    "This will black box the annoying parts of making the trajectories"
   ]
  },
  {
   "cell_type": "code",
   "execution_count": 8,
   "metadata": {},
   "outputs": [],
   "source": [
    "traj_int = TrajectoryIntegrator(start_frame, model, featurizers)"
   ]
  },
  {
   "cell_type": "markdown",
   "metadata": {},
   "source": [
    "## Evaluate $\\left<100\\right>$ at Many Velocities\n",
    "See how smoothly it varies and whether the difference between channel/not channel increases at higher velocities"
   ]
  },
  {
   "cell_type": "code",
   "execution_count": 9,
   "metadata": {},
   "outputs": [],
   "source": [
    "channel_stopping = []\n",
    "for gid, group in channel_data.groupby('directory'):\n",
    "    channel_stopping.append({\n",
    "        'velocity': group['velocity_mag'].mean(),\n",
    "        'stopping': group['force'].mean()\n",
    "    })\n",
    "channel_stopping = pd.DataFrame(channel_stopping)"
   ]
  },
  {
   "cell_type": "code",
   "execution_count": 10,
   "metadata": {},
   "outputs": [
    {
     "name": "stdout",
     "output_type": "stream",
     "text": [
      "CPU times: user 12.1 s, sys: 12.5 s, total: 24.6 s\n",
      "Wall time: 8.16 s\n"
     ]
    }
   ],
   "source": [
    "%%time\n",
    "velocities = np.linspace(0.1, 8, 32)\n",
    "stopping_power = [\n",
    "    traj_int.compute_stopping_power([0, 0.75, 0.75], [1, 0, 0], v)[0]\n",
    "    for v in velocities\n",
    "]"
   ]
  },
  {
   "cell_type": "markdown",
   "metadata": {},
   "source": [
    "## Run the Random Trajectory at Many Velocities\n",
    "We are going to compute the average stopping power by evaluating the stopping force at every position along the trajectory with different speeds"
   ]
  },
  {
   "cell_type": "code",
   "execution_count": 11,
   "metadata": {},
   "outputs": [],
   "source": [
    "random_stopping = []\n",
    "for gid, group in random_data.groupby('directory'):\n",
    "    random_stopping.append({\n",
    "        'velocity': group['velocity_mag'].mean(),\n",
    "        'stopping': group['force'].mean()\n",
    "    })\n",
    "random_stopping = pd.DataFrame(random_stopping)"
   ]
  },
  {
   "cell_type": "code",
   "execution_count": 12,
   "metadata": {},
   "outputs": [],
   "source": [
    "def compute_random_stopping_power(speed: float) -> float:\n",
    "    \"\"\"Compute the stopping power for the random trajectory\n",
    "    \n",
    "    Args:\n",
    "        speed: Magnitude of the velocity\n",
    "    Returns:\n",
    "        Stopping power\n",
    "    \"\"\"\n",
    "    \n",
    "    # Get the positions along the trajectory\n",
    "    random_positions = random_data[random_data['file'].str.contains('Dv1.0')].copy()\n",
    "    \n",
    "    # Update the velocity\n",
    "    random_positions['velocity'] *= speed\n",
    "    \n",
    "    # Run the model\n",
    "    featurizers.set_chunksize(None)\n",
    "    x = featurizers.featurize_many(random_positions[['position', 'velocity']], pbar=False)\n",
    "    forces = model.predict(np.array(x))\n",
    "    return forces.mean()"
   ]
  },
  {
   "cell_type": "code",
   "execution_count": 13,
   "metadata": {},
   "outputs": [
    {
     "name": "stdout",
     "output_type": "stream",
     "text": [
      "CPU times: user 1min 8s, sys: 1min 29s, total: 2min 38s\n",
      "Wall time: 8min 3s\n"
     ]
    }
   ],
   "source": [
    "%%time\n",
    "stopping_power_random = [\n",
    "    compute_random_stopping_power(v)\n",
    "    for v in velocities\n",
    "]"
   ]
  },
  {
   "cell_type": "markdown",
   "metadata": {},
   "source": [
    "## Plot both together\n",
    "Show how the stopping powers on and off channels change differently as a function of velocity"
   ]
  },
  {
   "cell_type": "code",
   "execution_count": 16,
   "metadata": {},
   "outputs": [
    {
     "data": {
      "image/png": "[encoded data removed]",
      "text/plain": [
       "<Figure size 252x144 with 1 Axes>"
      ]
     },
     "metadata": {
      "needs_background": "light"
     },
     "output_type": "display_data"
    }
   ],
   "source": [
    "fig, ax = plt.subplots(figsize=(3.5, 2))\n",
    "\n",
    "ch, = ax.plot(velocities, stopping_power, color='mediumblue', label='Channel')\n",
    "och, = ax.plot(velocities, stopping_power_random, '--', color='crimson', label='Off Channel')\n",
    "\n",
    "# Add in the points for the channel\n",
    "tddft = ax.scatter([], [], marker='x', facecolor='k', edgecolor='k', label='TD-DFT')\n",
    "ax.scatter(channel_stopping['velocity'], channel_stopping['stopping'], marker='x',\n",
    "                   facecolor='mediumblue', edgecolor='mediumblue', label='TD-DFT')\n",
    "ax.scatter(random_stopping['velocity'], random_stopping['stopping'], marker='x',\n",
    "                   facecolor='crimson', edgecolor='crimson', label='TD-DFT')\n",
    "\n",
    "ax.set_xlabel('Velocity (a.u.)')\n",
    "ax.set_ylabel('Stopping Power ($E_H / a_B$)')\n",
    "ax.set_ylim(0, 0.3)\n",
    "ax.set_xlim(0, 5)\n",
    "\n",
    "l1 = ax.legend((ch, och), ('$\\\\left<100\\\\right>$', 'Random'), loc=(0.12, 0.02), ncol=2, fontsize=8)\n",
    "ax.add_artist(l1)\n",
    "ax.legend((tddft,), ('TD-DFT',))\n",
    "\n",
    "fig.tight_layout()\n",
    "fig.savefig(os.path.join('figures', 'on-vs-off-channel-multivelocity.png'), dpi=320)\n",
    "fig.savefig(os.path.join('figures', 'on-vs-off-channel-multivelocity.pdf'))"
   ]
  },
  {
   "cell_type": "markdown",
   "metadata": {},
   "source": [
    "*Finding*: The stopping power doesn't go to (0, 0), and does seem like it will converge to 0. But, the model does capture that the low velocity regime is linear and the difference between the channel and off chanell gets bigger at higher velocities before merging again at very high velocities."
   ]
  },
  {
   "cell_type": "markdown",
   "metadata": {},
   "source": [
    "Save the stopping power for the channels"
   ]
  },
  {
   "cell_type": "code",
   "execution_count": 17,
   "metadata": {},
   "outputs": [],
   "source": [
    "channel_stopping.to_csv('stopping_power-100.csv', index=False)"
   ]
  },
  {
   "cell_type": "code",
   "execution_count": null,
   "metadata": {},
   "outputs": [],
   "source": []
  }
 ],
 "metadata": {
  "kernelspec": {
   "display_name": "Python 3",
   "language": "python",
   "name": "python3"
  },
  "language_info": {
   "codemirror_mode": {
    "name": "ipython",
    "version": 3
   },
   "file_extension": ".py",
   "mimetype": "text/x-python",
   "name": "python",
   "nbconvert_exporter": "python",
   "pygments_lexer": "ipython3",
   "version": "3.6.8"
  }
 },
 "nbformat": 4,
 "nbformat_minor": 4
}
