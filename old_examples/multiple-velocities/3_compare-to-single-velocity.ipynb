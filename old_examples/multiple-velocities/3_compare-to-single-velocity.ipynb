{
 "cells": [
  {
   "cell_type": "markdown",
   "metadata": {},
   "source": [
    "# Compare to Single Velocity Model\n",
    "Assess how well our model trained on separate velocities compares to our previous models trained on only a single velocity"
   ]
  },
  {
   "cell_type": "code",
   "execution_count": 1,
   "metadata": {},
   "outputs": [
    {
     "name": "stderr",
     "output_type": "stream",
     "text": [
      "Using TensorFlow backend.\n",
      "/home/lward/miniconda3/envs/ml_tddft/lib/python3.6/site-packages/tensorflow/python/framework/dtypes.py:526: FutureWarning: Passing (type, 1) or '1type' as a synonym of type is deprecated; in a future version of numpy, it will be understood as (type, (1,)) / '(1,)type'.\n",
      "  _np_qint8 = np.dtype([(\"qint8\", np.int8, 1)])\n",
      "/home/lward/miniconda3/envs/ml_tddft/lib/python3.6/site-packages/tensorflow/python/framework/dtypes.py:527: FutureWarning: Passing (type, 1) or '1type' as a synonym of type is deprecated; in a future version of numpy, it will be understood as (type, (1,)) / '(1,)type'.\n",
      "  _np_quint8 = np.dtype([(\"quint8\", np.uint8, 1)])\n",
      "/home/lward/miniconda3/envs/ml_tddft/lib/python3.6/site-packages/tensorflow/python/framework/dtypes.py:528: FutureWarning: Passing (type, 1) or '1type' as a synonym of type is deprecated; in a future version of numpy, it will be understood as (type, (1,)) / '(1,)type'.\n",
      "  _np_qint16 = np.dtype([(\"qint16\", np.int16, 1)])\n",
      "/home/lward/miniconda3/envs/ml_tddft/lib/python3.6/site-packages/tensorflow/python/framework/dtypes.py:529: FutureWarning: Passing (type, 1) or '1type' as a synonym of type is deprecated; in a future version of numpy, it will be understood as (type, (1,)) / '(1,)type'.\n",
      "  _np_quint16 = np.dtype([(\"quint16\", np.uint16, 1)])\n",
      "/home/lward/miniconda3/envs/ml_tddft/lib/python3.6/site-packages/tensorflow/python/framework/dtypes.py:530: FutureWarning: Passing (type, 1) or '1type' as a synonym of type is deprecated; in a future version of numpy, it will be understood as (type, (1,)) / '(1,)type'.\n",
      "  _np_qint32 = np.dtype([(\"qint32\", np.int32, 1)])\n",
      "/home/lward/miniconda3/envs/ml_tddft/lib/python3.6/site-packages/tensorflow/python/framework/dtypes.py:535: FutureWarning: Passing (type, 1) or '1type' as a synonym of type is deprecated; in a future version of numpy, it will be understood as (type, (1,)) / '(1,)type'.\n",
      "  np_resource = np.dtype([(\"resource\", np.ubyte, 1)])\n"
     ]
    }
   ],
   "source": [
    "%matplotlib inline\n",
    "from matplotlib import pyplot as plt\n",
    "from stopping_power_ml.integrator import TrajectoryIntegrator\n",
    "from sklearn.metrics import mean_absolute_error\n",
    "from scipy.stats import spearmanr\n",
    "import pickle as pkl\n",
    "import pandas as pd\n",
    "import numpy as np\n",
    "import keras\n",
    "import os"
   ]
  },
  {
   "cell_type": "markdown",
   "metadata": {},
   "source": [
    "## Load in the Model and Featurizer\n",
    "The model is saved in Keras h5, and the featurizer is in the root directory"
   ]
  },
  {
   "cell_type": "code",
   "execution_count": 2,
   "metadata": {},
   "outputs": [
    {
     "name": "stdout",
     "output_type": "stream",
     "text": [
      "WARNING:tensorflow:From /home/lward/miniconda3/envs/ml_tddft/lib/python3.6/site-packages/tensorflow/python/framework/op_def_library.py:263: colocate_with (from tensorflow.python.framework.ops) is deprecated and will be removed in a future version.\n",
      "Instructions for updating:\n",
      "Colocations handled automatically by placer.\n",
      "WARNING:tensorflow:From /home/lward/miniconda3/envs/ml_tddft/lib/python3.6/site-packages/tensorflow/python/ops/math_ops.py:3066: to_int32 (from tensorflow.python.ops.math_ops) is deprecated and will be removed in a future version.\n",
      "Instructions for updating:\n",
      "Use tf.cast instead.\n"
     ]
    }
   ],
   "source": [
    "model = keras.models.load_model('model.h5')"
   ]
  },
  {
   "cell_type": "code",
   "execution_count": 3,
   "metadata": {},
   "outputs": [],
   "source": [
    "with open('featurizer.pkl', 'rb') as fp:\n",
    "    featurizers = pkl.load(fp)"
   ]
  },
  {
   "cell_type": "code",
   "execution_count": 4,
   "metadata": {},
   "outputs": [],
   "source": [
    "start_frame = pkl.load(open(os.path.join('..', 'al_starting_frame.pkl'), 'rb'))"
   ]
  },
  {
   "cell_type": "code",
   "execution_count": 5,
   "metadata": {},
   "outputs": [],
   "source": [
    "train_data = pd.concat([\n",
    "    pd.read_pickle(os.path.join('data', 'random_traj.pkl')),\n",
    "    pd.read_pickle(os.path.join('data', 'channel_traj.pkl'))\n",
    "], sort=False)"
   ]
  },
  {
   "cell_type": "code",
   "execution_count": 6,
   "metadata": {},
   "outputs": [],
   "source": [
    "with open(os.path.join('..', 'single-velocity', 'traj_computer.pkl'), 'rb') as fp:\n",
    "    traj_int_single = pkl.load(fp)"
   ]
  },
  {
   "cell_type": "code",
   "execution_count": 7,
   "metadata": {},
   "outputs": [],
   "source": [
    "data = pd.read_pickle(os.path.join('..', 'training_data.pkl.gz'))"
   ]
  },
  {
   "cell_type": "markdown",
   "metadata": {},
   "source": [
    "## Retrain on Both Channel and Random\n",
    "This will give us a direct comparison to the single velocity model. The weights will start from the weights learned from the random trajectory."
   ]
  },
  {
   "cell_type": "code",
   "execution_count": 8,
   "metadata": {},
   "outputs": [],
   "source": [
    "model.compile(loss='mean_absolute_error', optimizer='adam', metrics=['mean_absolute_error'])"
   ]
  },
  {
   "cell_type": "code",
   "execution_count": 9,
   "metadata": {},
   "outputs": [],
   "source": [
    "callbacks = [keras.callbacks.EarlyStopping(monitor='mean_absolute_error', patience=100, verbose=0, mode='auto'),\n",
    "             keras.callbacks.ReduceLROnPlateau('mean_absolute_error', min_delta=1e-6)]"
   ]
  },
  {
   "cell_type": "code",
   "execution_count": 10,
   "metadata": {},
   "outputs": [
    {
     "name": "stdout",
     "output_type": "stream",
     "text": [
      "CPU times: user 18min 21s, sys: 5min 35s, total: 23min 56s\n",
      "Wall time: 7min 22s\n"
     ]
    }
   ],
   "source": [
    "%%time\n",
    "history = model.fit(train_data[featurizers.feature_labels()], train_data['force'], callbacks=callbacks, verbose=0, epochs=1000)"
   ]
  },
  {
   "cell_type": "code",
   "execution_count": 11,
   "metadata": {},
   "outputs": [
    {
     "data": {
      "image/png": "[encoded data removed]",
      "text/plain": [
       "<Figure size 252x151.2 with 1 Axes>"
      ]
     },
     "metadata": {
      "needs_background": "light"
     },
     "output_type": "display_data"
    }
   ],
   "source": [
    "fig, ax = plt.subplots()\n",
    "\n",
    "ax.loglog(history.epoch, history.history['mean_absolute_error'], 'k', label='Dense')\n",
    "\n",
    "ax.set_ylabel('MAE ($E_H$ / $a_B$)')\n",
    "ax.set_xlabel('Epoch')\n",
    "\n",
    "ax.legend()\n",
    "\n",
    "fig.set_size_inches(3.5, 2.1)\n",
    "fig.tight_layout()"
   ]
  },
  {
   "cell_type": "markdown",
   "metadata": {},
   "source": [
    "*Finding*: It does converge in a few hundred epochs"
   ]
  },
  {
   "cell_type": "markdown",
   "metadata": {},
   "source": [
    "Save for later use"
   ]
  },
  {
   "cell_type": "code",
   "execution_count": 12,
   "metadata": {},
   "outputs": [],
   "source": [
    "model.save('model-random-and-channel.h5')"
   ]
  },
  {
   "cell_type": "markdown",
   "metadata": {},
   "source": [
    "## Get Trajectory Integration Tools\n",
    "These black box the annoying parts of making the trajectories. We'll re-use the one for single velocities (imported earlier)"
   ]
  },
  {
   "cell_type": "code",
   "execution_count": 13,
   "metadata": {},
   "outputs": [],
   "source": [
    "traj_int = TrajectoryIntegrator(start_frame, model, featurizers)"
   ]
  },
  {
   "cell_type": "markdown",
   "metadata": {},
   "source": [
    "## Plot the Performance on $v=1.0$ Trajectories\n",
    "This is the trajectories for which we have the most data"
   ]
  },
  {
   "cell_type": "code",
   "execution_count": 14,
   "metadata": {},
   "outputs": [],
   "source": [
    "v1_data = data[np.isclose(data['velocity_mag'], 1.0, atol=1e-3)]"
   ]
  },
  {
   "cell_type": "code",
   "execution_count": 15,
   "metadata": {},
   "outputs": [
    {
     "data": {
      "image/png": "[encoded data removed]",
      "text/plain": [
       "<Figure size 468x252 with 6 Axes>"
      ]
     },
     "metadata": {
      "needs_background": "light"
     },
     "output_type": "display_data"
    }
   ],
   "source": [
    "fig, axs = plt.subplots(2, 3)\n",
    "axs = axs.flatten()\n",
    "\n",
    "acc_scores = []\n",
    "\n",
    "for i, (ax, (d, subset)) in enumerate(zip(axs, v1_data.groupby('directory'))):\n",
    "    subset = subset.query('displacement > 6')\n",
    "    \n",
    "    # Get the values\n",
    "    single_pred = traj_int_single.model.predict(subset[traj_int_single.featurizers.feature_labels()])\n",
    "    multi_pred = traj_int.model.predict(subset[traj_int.featurizers.feature_labels()])\n",
    "    \n",
    "    # Plot them\n",
    "    ax.plot(subset['displacement'], subset['force'], 'k--')\n",
    "    ax.plot(subset['displacement'], single_pred, 'r', lw=1, alpha=0.8)\n",
    "    ax.plot(subset['displacement'], multi_pred, 'b', lw=1, alpha=0.8)\n",
    "    \n",
    "    if subset['force'].max() > 1:\n",
    "        ax.set_yscale('symlog')\n",
    "    \n",
    "    # Make a label for the figure\n",
    "    ax.text(0, 1, os.path.basename(d), bbox={'facecolor': 'w', 'edgecolor': 'k'},\n",
    "           transform=ax.transAxes)\n",
    "    \n",
    "    # Make axes labels\n",
    "    if i >= 3:\n",
    "        ax.set_xlabel('Displacement')\n",
    "    if i % 3 == 0:\n",
    "        ax.set_ylabel('Force ($E_H / a_B$)')\n",
    "        \n",
    "    # Measure the accuracy\n",
    "    acc_scores.append({\n",
    "        'subset': d,\n",
    "        'mae_single': mean_absolute_error(subset['force'], single_pred),\n",
    "        'mae_multi': mean_absolute_error(subset['force'], multi_pred),\n",
    "        'spearman_single': spearmanr(subset['force'], single_pred)[0],\n",
    "        'spearman_multi': spearmanr(subset['force'], multi_pred)[0],\n",
    "        'stopping': subset['force'].mean(),\n",
    "        'stopping_single': single_pred.mean(),\n",
    "        'stopping_multi': multi_pred.mean(),\n",
    "    })\n",
    "        \n",
    "            \n",
    "fig.tight_layout()\n",
    "fig.set_size_inches(6.5, 3.5)\n",
    "fig.savefig(os.path.join('figures', 'validation-set.png'), dpi=320)"
   ]
  },
  {
   "cell_type": "markdown",
   "metadata": {},
   "source": [
    "*Finding*: They look pretty similar"
   ]
  },
  {
   "cell_type": "markdown",
   "metadata": {},
   "source": [
    "### Compare the Scores Quantitatively\n",
    "See if the models just \"appear better\""
   ]
  },
  {
   "cell_type": "code",
   "execution_count": 16,
   "metadata": {},
   "outputs": [],
   "source": [
    "acc_scores = pd.DataFrame(acc_scores)"
   ]
  },
  {
   "cell_type": "code",
   "execution_count": 17,
   "metadata": {},
   "outputs": [
    {
     "data": {
      "text/html": [
       "<div>\n",
       "<style scoped>\n",
       "    .dataframe tbody tr th:only-of-type {\n",
       "        vertical-align: middle;\n",
       "    }\n",
       "\n",
       "    .dataframe tbody tr th {\n",
       "        vertical-align: top;\n",
       "    }\n",
       "\n",
       "    .dataframe thead th {\n",
       "        text-align: right;\n",
       "    }\n",
       "</style>\n",
       "<table border=\"1\" class=\"dataframe\">\n",
       "  <thead>\n",
       "    <tr style=\"text-align: right;\">\n",
       "      <th></th>\n",
       "      <th>subset</th>\n",
       "      <th>mae_single</th>\n",
       "      <th>mae_multi</th>\n",
       "      <th>spearman_single</th>\n",
       "      <th>spearman_multi</th>\n",
       "      <th>stopping</th>\n",
       "      <th>stopping_single</th>\n",
       "      <th>stopping_multi</th>\n",
       "    </tr>\n",
       "  </thead>\n",
       "  <tbody>\n",
       "    <tr>\n",
       "      <th>0</th>\n",
       "      <td>datasets/256_Al/Dv1.0</td>\n",
       "      <td>0.017575</td>\n",
       "      <td>0.008730</td>\n",
       "      <td>0.992617</td>\n",
       "      <td>0.996241</td>\n",
       "      <td>0.240193</td>\n",
       "      <td>0.238360</td>\n",
       "      <td>0.239673</td>\n",
       "    </tr>\n",
       "    <tr>\n",
       "      <th>1</th>\n",
       "      <td>datasets/Al_256_channel/Dv1.0</td>\n",
       "      <td>0.022613</td>\n",
       "      <td>0.022323</td>\n",
       "      <td>0.889739</td>\n",
       "      <td>0.900705</td>\n",
       "      <td>0.221916</td>\n",
       "      <td>0.234292</td>\n",
       "      <td>0.237505</td>\n",
       "    </tr>\n",
       "    <tr>\n",
       "      <th>2</th>\n",
       "      <td>datasets/Al_256_new/Dmin_v1.0</td>\n",
       "      <td>0.021426</td>\n",
       "      <td>0.020122</td>\n",
       "      <td>0.995640</td>\n",
       "      <td>0.994947</td>\n",
       "      <td>0.270083</td>\n",
       "      <td>0.260794</td>\n",
       "      <td>0.268835</td>\n",
       "    </tr>\n",
       "    <tr>\n",
       "      <th>3</th>\n",
       "      <td>datasets/Al_256_new/Dmod_v1.0</td>\n",
       "      <td>0.020603</td>\n",
       "      <td>0.015452</td>\n",
       "      <td>0.947753</td>\n",
       "      <td>0.982411</td>\n",
       "      <td>0.241831</td>\n",
       "      <td>0.237271</td>\n",
       "      <td>0.246258</td>\n",
       "    </tr>\n",
       "    <tr>\n",
       "      <th>4</th>\n",
       "      <td>datasets/Al_256_new/Doptimal_v1.0</td>\n",
       "      <td>0.024529</td>\n",
       "      <td>0.019347</td>\n",
       "      <td>0.994819</td>\n",
       "      <td>0.996772</td>\n",
       "      <td>0.240920</td>\n",
       "      <td>0.242884</td>\n",
       "      <td>0.237956</td>\n",
       "    </tr>\n",
       "    <tr>\n",
       "      <th>5</th>\n",
       "      <td>datasets/Al_256_new/Drnddir2_v1.0</td>\n",
       "      <td>0.018639</td>\n",
       "      <td>0.017076</td>\n",
       "      <td>0.989084</td>\n",
       "      <td>0.993035</td>\n",
       "      <td>0.248845</td>\n",
       "      <td>0.249989</td>\n",
       "      <td>0.251009</td>\n",
       "    </tr>\n",
       "  </tbody>\n",
       "</table>\n",
       "</div>"
      ],
      "text/plain": [
       "                              subset  mae_single  mae_multi  spearman_single  \\\n",
       "0              datasets/256_Al/Dv1.0    0.017575   0.008730         0.992617   \n",
       "1      datasets/Al_256_channel/Dv1.0    0.022613   0.022323         0.889739   \n",
       "2      datasets/Al_256_new/Dmin_v1.0    0.021426   0.020122         0.995640   \n",
       "3      datasets/Al_256_new/Dmod_v1.0    0.020603   0.015452         0.947753   \n",
       "4  datasets/Al_256_new/Doptimal_v1.0    0.024529   0.019347         0.994819   \n",
       "5  datasets/Al_256_new/Drnddir2_v1.0    0.018639   0.017076         0.989084   \n",
       "\n",
       "   spearman_multi  stopping  stopping_single  stopping_multi  \n",
       "0        0.996241  0.240193         0.238360        0.239673  \n",
       "1        0.900705  0.221916         0.234292        0.237505  \n",
       "2        0.994947  0.270083         0.260794        0.268835  \n",
       "3        0.982411  0.241831         0.237271        0.246258  \n",
       "4        0.996772  0.240920         0.242884        0.237956  \n",
       "5        0.993035  0.248845         0.249989        0.251009  "
      ]
     },
     "execution_count": 17,
     "metadata": {},
     "output_type": "execute_result"
    }
   ],
   "source": [
    "acc_scores"
   ]
  },
  {
   "cell_type": "markdown",
   "metadata": {},
   "source": [
    "#### Compare Fitness to Forces\n",
    "This is one metric of success"
   ]
  },
  {
   "cell_type": "code",
   "execution_count": 18,
   "metadata": {},
   "outputs": [
    {
     "data": {
      "image/png": "[encoded data removed]",
      "text/plain": [
       "<Figure size 252x252 with 1 Axes>"
      ]
     },
     "metadata": {
      "needs_background": "light"
     },
     "output_type": "display_data"
    }
   ],
   "source": [
    "fig, ax = plt.subplots()\n",
    "\n",
    "ax.scatter(acc_scores['spearman_single'], acc_scores['spearman_multi'])\n",
    "\n",
    "ax.set_xlim(ax.get_xlim())\n",
    "ax.set_ylim(ax.get_xlim())\n",
    "\n",
    "ax.plot(ax.get_xlim(), ax.get_ylim(), 'k--')\n",
    "\n",
    "ax.set_xlabel('Spearman, Single')\n",
    "ax.set_ylabel('Spearman, Mutli')\n",
    "\n",
    "fig.set_size_inches(3.5, 3.5)"
   ]
  },
  {
   "cell_type": "markdown",
   "metadata": {},
   "source": [
    "*Finding*: The Spearman correlation coefficient for the multi-velocity model is generally better."
   ]
  },
  {
   "cell_type": "markdown",
   "metadata": {},
   "source": [
    "### Compare Stopping Powers\n",
    "Which gives a better stopping power prediction"
   ]
  },
  {
   "cell_type": "code",
   "execution_count": 19,
   "metadata": {},
   "outputs": [
    {
     "name": "stdout",
     "output_type": "stream",
     "text": [
      "Multi-Velocity MAE: 4.485e-03 E_H/a_B\n",
      "Multi-Velocity MAE: 1.94%\n"
     ]
    }
   ],
   "source": [
    "print('Multi-Velocity MAE: {:.3e} E_H/a_B'.format(mean_absolute_error(acc_scores['stopping'], acc_scores['stopping_multi'])))\n",
    "print('Multi-Velocity MAE: {:.2f}%'.format(100 * np.mean(np.abs(acc_scores['stopping'] - acc_scores['stopping_multi']) / acc_scores['stopping'])))"
   ]
  },
  {
   "cell_type": "code",
   "execution_count": 20,
   "metadata": {},
   "outputs": [
    {
     "name": "stdout",
     "output_type": "stream",
     "text": [
      "Single-Velocity MAE: 5.194e-03 E_H/a_B\n",
      "Single-Velocity MAE: 2.16%\n"
     ]
    }
   ],
   "source": [
    "print('Single-Velocity MAE: {:.3e} E_H/a_B'.format(mean_absolute_error(acc_scores['stopping'], acc_scores['stopping_single'])))\n",
    "print('Single-Velocity MAE: {:.2f}%'.format(100 * np.mean(np.abs(acc_scores['stopping'] - acc_scores['stopping_single']) / acc_scores['stopping'])))"
   ]
  },
  {
   "cell_type": "code",
   "execution_count": 21,
   "metadata": {},
   "outputs": [
    {
     "data": {
      "image/png": "[encoded data removed]",
      "text/plain": [
       "<Figure size 252x252 with 1 Axes>"
      ]
     },
     "metadata": {
      "needs_background": "light"
     },
     "output_type": "display_data"
    }
   ],
   "source": [
    "fig, ax = plt.subplots()\n",
    "\n",
    "ax.scatter(acc_scores['stopping'], acc_scores['stopping_multi'], label='Multi', alpha=0.7)\n",
    "ax.scatter(acc_scores['stopping'], acc_scores['stopping_single'], label='Single', alpha=0.7)\n",
    "\n",
    "ax.set_ylim(ax.get_xlim())\n",
    "ax.set_xlim(ax.get_ylim())\n",
    "\n",
    "ax.plot(ax.get_xlim(), ax.get_ylim(), 'k--')\n",
    "\n",
    "ax.set_xlabel('S, TD-DFT ($E_H/a_B$)')\n",
    "ax.set_ylabel('S, ML ($E_H/a_B$)')\n",
    "\n",
    "fig.set_size_inches(3.5, 3.5)\n",
    "fig.tight_layout()"
   ]
  },
  {
   "cell_type": "markdown",
   "metadata": {},
   "source": [
    "*Finding*: The multi-velocity model has *slightly* better stopping power predictions."
   ]
  },
  {
   "cell_type": "code",
   "execution_count": null,
   "metadata": {},
   "outputs": [],
   "source": []
  }
 ],
 "metadata": {
  "kernelspec": {
   "display_name": "Python 3",
   "language": "python",
   "name": "python3"
  },
  "language_info": {
   "codemirror_mode": {
    "name": "ipython",
    "version": 3
   },
   "file_extension": ".py",
   "mimetype": "text/x-python",
   "name": "python",
   "nbconvert_exporter": "python",
   "pygments_lexer": "ipython3",
   "version": "3.6.8"
  }
 },
 "nbformat": 4,
 "nbformat_minor": 4
}
