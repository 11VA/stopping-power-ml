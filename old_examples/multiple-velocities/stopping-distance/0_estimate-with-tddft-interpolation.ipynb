{
 "cells": [
  {
   "cell_type": "markdown",
   "id": "adcaa47f-847d-4ada-b399-144bf9802b20",
   "metadata": {},
   "source": [
    "# Estimate stopping trajectory by interpolating TD-DFT stopping power\n",
    "A simple way to estiamte stopping distnace would be to build a single function that predicts projectile acceleration given the stopping power interpolated from TD-DFT data. It will only represent data along the exact trajectory provided by TD-DFT, but is at least fast to do"
   ]
  },
  {
   "cell_type": "code",
   "execution_count": 1,
   "id": "0787c17d-1695-4d20-b2f5-ef6119aa4103",
   "metadata": {},
   "outputs": [],
   "source": [
    "%matplotlib inline\n",
    "from matplotlib import pyplot as plt\n",
    "from scipy.interpolate import UnivariateSpline\n",
    "from scipy.integrate import RK45\n",
    "import pandas as pd\n",
    "import numpy as np"
   ]
  },
  {
   "cell_type": "markdown",
   "id": "5eed4bc0-868b-4b16-8deb-6cf922232d9c",
   "metadata": {},
   "source": [
    "## Make the interpolator\n",
    "Be able to predict stopping power given an arbitrary velocity by interpolating over the TD-DFT results at different velocities"
   ]
  },
  {
   "cell_type": "code",
   "execution_count": 2,
   "id": "c4e33e4a-9095-4ee3-a2f7-e8dda9703636",
   "metadata": {},
   "outputs": [],
   "source": [
    "stopping_powers_100 = pd.read_csv('../stopping_power-100.csv')"
   ]
  },
  {
   "cell_type": "code",
   "execution_count": 3,
   "id": "837ec725-2c7e-4cef-98ee-752d22753635",
   "metadata": {},
   "outputs": [],
   "source": [
    "stop_pow_fun = UnivariateSpline(stopping_powers_100['velocity'],\n",
    "                                stopping_powers_100['stopping'],\n",
    "                               s=0)"
   ]
  },
  {
   "cell_type": "code",
   "execution_count": 4,
   "id": "8272e62e-7bce-4a33-8df0-0c60a49bd694",
   "metadata": {},
   "outputs": [
    {
     "data": {
      "text/plain": [
       "Text(0, 0.5, 'S $E_h/a_B$')"
      ]
     },
     "execution_count": 4,
     "metadata": {},
     "output_type": "execute_result"
    },
    {
     "data": {
      "image/png": "[encoded data removed]",
      "text/plain": [
       "<Figure size 252x144 with 1 Axes>"
      ]
     },
     "metadata": {
      "needs_background": "light"
     },
     "output_type": "display_data"
    }
   ],
   "source": [
    "fig, ax = plt.subplots(figsize=(3.5, 2.))\n",
    "\n",
    "x = np.linspace(0, 4, 128)\n",
    "ax.plot(x, stop_pow_fun(x))\n",
    "ax.scatter(stopping_powers_100['velocity'],\n",
    "           stopping_powers_100['stopping'], marker='o', color='k')\n",
    "\n",
    "ax.set_ylim(0, 0.25)\n",
    "ax.set_xlabel('Velocity')\n",
    "ax.set_ylabel('S $E_h/a_B$')"
   ]
  },
  {
   "cell_type": "markdown",
   "id": "54ee69f4-bed3-4873-ac12-328850cc2927",
   "metadata": {},
   "source": [
    "The interpolator looks reasonably smooth"
   ]
  },
  {
   "cell_type": "markdown",
   "id": "16f8f0cb-e873-463f-b574-f8d7d614262b",
   "metadata": {},
   "source": [
    "## Make a tool to compute the trajectory\n",
    "Use the same ODE solver we use for the ML model"
   ]
  },
  {
   "cell_type": "code",
   "execution_count": 5,
   "id": "b546c187-b3b1-4692-9d9f-93dec57f2a49",
   "metadata": {},
   "outputs": [],
   "source": [
    "def compute_stopping_trajectory(stopping_fun, v_init: float = 4, v_final: float = 0.4, \n",
    "                                max_time: float = 1e6, output: int = 10):\n",
    "    \"\"\"Compute the trajectory for a projectile moving through a material\n",
    "    \n",
    "    Args:\n",
    "        stopping_fun: Function that predicts the stopping power given velocity\n",
    "        v_init: Starting velocity\n",
    "        v_final: Velocity at end of run\n",
    "        max_time: Maximum allowed run time\n",
    "        output: Frequency at which to output position and state\n",
    "    Returns:\n",
    "        Dataframe containing the projectile history\n",
    "    \"\"\"\n",
    "    \n",
    "    \n",
    "    def fun(t, y):\n",
    "        # Get the velocity and displacement\n",
    "        v, x = y\n",
    "\n",
    "        # Compute the force\n",
    "        f = stop_pow_fun(v)\n",
    "        return [-f / 1837, v]\n",
    "    rk = RK45(fun, 0, [v_init, 0], max_time, max_step=0.1)\n",
    "\n",
    "    # Iterate until velocity slows down enough\n",
    "    i = 0\n",
    "    states = [(0, v_init, 0)]\n",
    "    while rk.y[0] > v_final:\n",
    "        rk.step()\n",
    "        i += 1\n",
    "        if output is not None and i % output == 0:\n",
    "            states.append(np.hstack(([rk.t], rk.y)))\n",
    "            \n",
    "    # Make them into a DataFrame\n",
    "    traj = pd.DataFrame(states, columns=['time', 'velocity', 'displacement'])\n",
    "    return traj"
   ]
  },
  {
   "cell_type": "code",
   "execution_count": 6,
   "id": "4c8e23da-bc02-47b5-9e00-a7f0c17a0451",
   "metadata": {},
   "outputs": [
    {
     "name": "stdout",
     "output_type": "stream",
     "text": [
      "CPU times: user 41.2 s, sys: 97.7 ms, total: 41.3 s\n",
      "Wall time: 41.3 s\n"
     ]
    }
   ],
   "source": [
    "%%time\n",
    "traj = compute_stopping_trajectory(stop_pow_fun)"
   ]
  },
  {
   "cell_type": "code",
   "execution_count": 7,
   "id": "9d2f880a-357c-4c38-97ce-310b715e4d57",
   "metadata": {},
   "outputs": [],
   "source": [
    "traj.to_csv('tddft-interpolated-100.csv', index=False)"
   ]
  },
  {
   "cell_type": "code",
   "execution_count": 8,
   "id": "2d1621d3-45cd-4bce-b690-10829ffb49ee",
   "metadata": {},
   "outputs": [
    {
     "data": {
      "text/plain": [
       "Text(0, 0.5, 'Velocity (a.u.)')"
      ]
     },
     "execution_count": 8,
     "metadata": {},
     "output_type": "execute_result"
    },
    {
     "data": {
      "image/png": "[encoded data removed]",
      "text/plain": [
       "<Figure size 252x151.2 with 1 Axes>"
      ]
     },
     "metadata": {
      "needs_background": "light"
     },
     "output_type": "display_data"
    }
   ],
   "source": [
    "fig, ax = plt.subplots(figsize=(3.5, 2.1))\n",
    "\n",
    "ax.plot(traj['displacement'], traj['velocity'])\n",
    "ax.set_xlabel('Displacement ($a_B$)')\n",
    "ax.set_ylabel('Velocity (a.u.)')"
   ]
  },
  {
   "cell_type": "code",
   "execution_count": null,
   "id": "44e63035-f790-4dbd-b1c7-2978f58b7961",
   "metadata": {},
   "outputs": [],
   "source": []
  }
 ],
 "metadata": {
  "kernelspec": {
   "display_name": "Python 3",
   "language": "python",
   "name": "python3"
  },
  "language_info": {
   "codemirror_mode": {
    "name": "ipython",
    "version": 3
   },
   "file_extension": ".py",
   "mimetype": "text/x-python",
   "name": "python",
   "nbconvert_exporter": "python",
   "pygments_lexer": "ipython3",
   "version": "3.6.8"
  }
 },
 "nbformat": 4,
 "nbformat_minor": 5
}
