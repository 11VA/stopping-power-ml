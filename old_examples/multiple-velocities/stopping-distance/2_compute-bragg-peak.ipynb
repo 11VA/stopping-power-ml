{
 "cells": [
  {
   "cell_type": "markdown",
   "metadata": {},
   "source": [
    "# Compute Bragg Peak Location\n",
    "Get some idea of the variance in the depth of the maximum energy dissipation of a projectile as it penetrates a material -- the so-called [Bragg Peak](https://en.wikipedia.org/wiki/Bragg_peak#:~:text=The%20Bragg%20peak%20is%20a,who%20discovered%20it%20in%201903.).\n",
    "\n",
    "We run the results in a separate script and plot the results here."
   ]
  },
  {
   "cell_type": "code",
   "execution_count": 1,
   "metadata": {
    "execution": {
     "iopub.execute_input": "2023-10-27T13:42:08.050240Z",
     "iopub.status.busy": "2023-10-27T13:42:08.049096Z",
     "iopub.status.idle": "2023-10-27T13:42:08.491275Z",
     "shell.execute_reply": "2023-10-27T13:42:08.490978Z"
    }
   },
   "outputs": [],
   "source": [
    "%matplotlib inline\n",
    "from matplotlib import pyplot as plt\n",
    "from sklearn.neighbors import KernelDensity\n",
    "from scipy.interpolate import UnivariateSpline\n",
    "from scipy.signal import savgol_filter\n",
    "from scipy.optimize import fmin\n",
    "from tqdm import tqdm\n",
    "from glob import glob\n",
    "import pickle as pkl\n",
    "import pandas as pd\n",
    "import numpy as np\n",
    "import json\n",
    "import os"
   ]
  },
  {
   "cell_type": "markdown",
   "metadata": {},
   "source": [
    "## Compute the Bragg Peak for Many Trajectories\n",
    "This will analyze the stopping trajectories for projectiles impinging on a Al surface. The direction does not vary, so we only vary the starting location. "
   ]
  },
  {
   "cell_type": "code",
   "execution_count": 2,
   "metadata": {
    "execution": {
     "iopub.execute_input": "2023-10-27T13:42:08.493462Z",
     "iopub.status.busy": "2023-10-27T13:42:08.493215Z",
     "iopub.status.idle": "2023-10-27T13:42:08.494579Z",
     "shell.execute_reply": "2023-10-27T13:42:08.494354Z"
    }
   },
   "outputs": [],
   "source": [
    "data_dir = 'v=4.00-d=1_1_1'"
   ]
  },
  {
   "cell_type": "markdown",
   "metadata": {},
   "source": [
    "Load in all of the trajectories"
   ]
  },
  {
   "cell_type": "code",
   "execution_count": 3,
   "metadata": {
    "execution": {
     "iopub.execute_input": "2023-10-27T13:42:08.497207Z",
     "iopub.status.busy": "2023-10-27T13:42:08.496662Z",
     "iopub.status.idle": "2023-10-27T13:42:09.131881Z",
     "shell.execute_reply": "2023-10-27T13:42:09.132077Z"
    }
   },
   "outputs": [
    {
     "name": "stdout",
     "output_type": "stream",
     "text": [
      "Loaded 128 trajectories\n"
     ]
    }
   ],
   "source": [
    "stop_trajs_111 = [pd.read_json(x) for x in glob(os.path.join(data_dir, 'traj_*.json'))]\n",
    "print(f'Loaded {len(stop_trajs_111)} trajectories')"
   ]
  },
  {
   "cell_type": "markdown",
   "metadata": {},
   "source": [
    "Compute the acceleration of the projectiles by computing the second derivative of the distance wrt time."
   ]
  },
  {
   "cell_type": "code",
   "execution_count": 4,
   "metadata": {
    "execution": {
     "iopub.execute_input": "2023-10-27T13:42:09.135695Z",
     "iopub.status.busy": "2023-10-27T13:42:09.135353Z",
     "iopub.status.idle": "2023-10-27T13:42:09.136611Z",
     "shell.execute_reply": "2023-10-27T13:42:09.136402Z"
    }
   },
   "outputs": [],
   "source": [
    "def compute_bragg_curve(stop_trajs):\n",
    "    \"\"\"Compute the bragg curve for each trajectory, then return the displacement of the maximum\n",
    "    \n",
    "    Args:\n",
    "        stop_trajs: List of dataframes holding the displacement over time,\n",
    "            will be augmented to include the acceleration and force\n",
    "    Returns:\n",
    "        Positions of bragg maximum for each trajectory\n",
    "    \"\"\"\n",
    "    \n",
    "    # Loop over all trajectories to compute maximum displacement\n",
    "    bragg_max = []\n",
    "    for traj in stop_trajs:\n",
    "        f = UnivariateSpline(traj['time'], traj['displacement'], s=5)\n",
    "        traj['accel'] = f.derivative(2)(traj['time'])  # a = d^2x/dt^2 \n",
    "        traj['force'] = - traj['accel'] * 1837\n",
    "        \n",
    "        # Determine the displacement of the maximum force\n",
    "        x0 = traj['time'][traj['force'].idxmax()]\n",
    "        t_max = fmin(f.derivative(2), x0, disp=False)\n",
    "        d_max = f(t_max)\n",
    "        bragg_max.append(d_max[0])\n",
    "    return bragg_max"
   ]
  },
  {
   "cell_type": "code",
   "execution_count": 5,
   "metadata": {
    "execution": {
     "iopub.execute_input": "2023-10-27T13:42:09.138292Z",
     "iopub.status.busy": "2023-10-27T13:42:09.138043Z",
     "iopub.status.idle": "2023-10-27T13:42:10.398051Z",
     "shell.execute_reply": "2023-10-27T13:42:10.397829Z"
    }
   },
   "outputs": [],
   "source": [
    "bragg_max_111 = compute_bragg_curve(stop_trajs_111)"
   ]
  },
  {
   "cell_type": "code",
   "execution_count": 6,
   "metadata": {
    "execution": {
     "iopub.execute_input": "2023-10-27T13:42:10.401493Z",
     "iopub.status.busy": "2023-10-27T13:42:10.400942Z",
     "iopub.status.idle": "2023-10-27T13:42:10.588836Z",
     "shell.execute_reply": "2023-10-27T13:42:10.589081Z"
    }
   },
   "outputs": [
    {
     "data": {
      "image/png": "[encoded data removed]",
      "text/plain": [
       "<Figure size 252x144 with 1 Axes>"
      ]
     },
     "metadata": {
      "needs_background": "light"
     },
     "output_type": "display_data"
    }
   ],
   "source": [
    "fig, ax = plt.subplots(figsize=(3.5, 2))\n",
    "\n",
    "bins = np.linspace(0, max(bragg_max_111), 32)\n",
    "ax.hist(bragg_max_111, bins=bins)\n",
    "ax.set_xlabel('Displacement of Bragg Max. ($a_B$)')\n",
    "ax.set_ylabel('Frequency')\n",
    "\n",
    "fig.tight_layout()\n",
    "fig.savefig(os.path.join('figures', '111-bragg-max.png'), dpi=320)"
   ]
  },
  {
   "cell_type": "code",
   "execution_count": 7,
   "metadata": {
    "execution": {
     "iopub.execute_input": "2023-10-27T13:42:10.592729Z",
     "iopub.status.busy": "2023-10-27T13:42:10.592417Z",
     "iopub.status.idle": "2023-10-27T13:42:10.593048Z",
     "shell.execute_reply": "2023-10-27T13:42:10.593294Z"
    }
   },
   "outputs": [],
   "source": [
    "def make_bragg_curve(ax, stop_trajs):\n",
    "    \"\"\"Plot the bragg curve for a series of trajectories\n",
    "    \n",
    "    Args:\n",
    "        ax: Axis to plot on\n",
    "        stop_trajs: List of trajecotories\n",
    "    \"\"\"\n",
    "        \n",
    "    \n",
    "    # Plot the trajectories\n",
    "    ax.set_zorder(2)\n",
    "    for traj in stop_trajs:\n",
    "        ax.plot(traj['displacement'], traj['force'], 'b-', lw=0.5, alpha=0.6, color='crimson', zorder=1)\n",
    "    ax.set_facecolor('none')\n",
    "\n",
    "    # Plot the stopping distance and time\n",
    "    ax.set_xlim(ax.get_xlim())\n",
    "    ax.set_ylim(ax.get_ylim())\n",
    "    \n",
    "    ax.set_ylim(0, max(ax.get_ylim()))"
   ]
  },
  {
   "cell_type": "code",
   "execution_count": 8,
   "metadata": {
    "execution": {
     "iopub.execute_input": "2023-10-27T13:42:10.630861Z",
     "iopub.status.busy": "2023-10-27T13:42:10.630557Z",
     "iopub.status.idle": "2023-10-27T13:42:10.988518Z",
     "shell.execute_reply": "2023-10-27T13:42:10.988757Z"
    }
   },
   "outputs": [
    {
     "data": {
      "image/png": "[encoded data removed]",
      "text/plain": [
       "<Figure size 252x144 with 1 Axes>"
      ]
     },
     "metadata": {
      "needs_background": "light"
     },
     "output_type": "display_data"
    }
   ],
   "source": [
    "fig, ax = plt.subplots(figsize=(3.5, 2))\n",
    "\n",
    "make_bragg_curve(ax, stop_trajs_111)\n",
    "ax.set_xlabel('Displacement ($a_B$)')\n",
    "ax.set_ylabel('Force ($E_h/a_B$)')\n",
    "\n",
    "fig.tight_layout()\n",
    "fig.savefig(os.path.join('figures', '111-bragg-curve.png'), dpi=320)"
   ]
  },
  {
   "cell_type": "markdown",
   "metadata": {},
   "source": [
    "## Repeat with the $\\left<100\\right>$ direction\n",
    "The channels here are wider, so I'd expect larger penetration"
   ]
  },
  {
   "cell_type": "code",
   "execution_count": 9,
   "metadata": {
    "execution": {
     "iopub.execute_input": "2023-10-27T13:42:10.990799Z",
     "iopub.status.busy": "2023-10-27T13:42:10.990497Z",
     "iopub.status.idle": "2023-10-27T13:42:10.991860Z",
     "shell.execute_reply": "2023-10-27T13:42:10.991582Z"
    }
   },
   "outputs": [],
   "source": [
    "data_dir = 'v=4.00-d=1_0_0'"
   ]
  },
  {
   "cell_type": "markdown",
   "metadata": {},
   "source": [
    "Load in all of the trajectories"
   ]
  },
  {
   "cell_type": "code",
   "execution_count": 10,
   "metadata": {
    "execution": {
     "iopub.execute_input": "2023-10-27T13:42:10.994021Z",
     "iopub.status.busy": "2023-10-27T13:42:10.993719Z",
     "iopub.status.idle": "2023-10-27T13:42:11.606026Z",
     "shell.execute_reply": "2023-10-27T13:42:11.605545Z"
    }
   },
   "outputs": [
    {
     "name": "stdout",
     "output_type": "stream",
     "text": [
      "Loaded 128 trajectories\n"
     ]
    }
   ],
   "source": [
    "stop_trajs_100 = []\n",
    "for x in glob(os.path.join(data_dir, 'traj_*.json')):\n",
    "    d = pd.read_json(x, orient='split')\n",
    "    stop_trajs_100.append(d)\n",
    "print(f'Loaded {len(stop_trajs_100)} trajectories')"
   ]
  },
  {
   "cell_type": "markdown",
   "metadata": {},
   "source": [
    "Estimate the total number of timesteps"
   ]
  },
  {
   "cell_type": "code",
   "execution_count": 11,
   "metadata": {
    "execution": {
     "iopub.execute_input": "2023-10-27T13:42:11.610075Z",
     "iopub.status.busy": "2023-10-27T13:42:11.609552Z",
     "iopub.status.idle": "2023-10-27T13:42:11.617700Z",
     "shell.execute_reply": "2023-10-27T13:42:11.617329Z"
    }
   },
   "outputs": [
    {
     "name": "stdout",
     "output_type": "stream",
     "text": [
      "Total time simulated: 4.68e+06 a.u. (0.11 ns)\n"
     ]
    }
   ],
   "source": [
    "total_time = sum(s.time.max() for s in stop_trajs_100)\n",
    "print(f'Total time simulated: {total_time:.2e} a.u. ({total_time * 0.02418884254 / 1e6:.2f} ns)')"
   ]
  },
  {
   "cell_type": "code",
   "execution_count": 12,
   "metadata": {
    "execution": {
     "iopub.execute_input": "2023-10-27T13:42:11.619842Z",
     "iopub.status.busy": "2023-10-27T13:42:11.619443Z",
     "iopub.status.idle": "2023-10-27T13:42:11.621095Z",
     "shell.execute_reply": "2023-10-27T13:42:11.621427Z"
    }
   },
   "outputs": [
    {
     "name": "stdout",
     "output_type": "stream",
     "text": [
      "Total number of timesteps: 3.28e+08. Runtime estimate: 6.88e+08 CPU-hrs\n"
     ]
    }
   ],
   "source": [
    "total_timesteps = total_time / 0.014284  # Timestep of v=1.0 simulations\n",
    "total_compute_time = total_timesteps * 2.1\n",
    "print(f'Total number of timesteps: {total_timesteps:.2e}. Runtime estimate: {total_compute_time:.2e} CPU-hrs')"
   ]
  },
  {
   "cell_type": "markdown",
   "metadata": {},
   "source": [
    "Get the compute time for ML modle"
   ]
  },
  {
   "cell_type": "code",
   "execution_count": 13,
   "metadata": {
    "execution": {
     "iopub.execute_input": "2023-10-27T13:42:11.623961Z",
     "iopub.status.busy": "2023-10-27T13:42:11.623660Z",
     "iopub.status.idle": "2023-10-27T13:42:11.631980Z",
     "shell.execute_reply": "2023-10-27T13:42:11.632289Z"
    }
   },
   "outputs": [
    {
     "name": "stdout",
     "output_type": "stream",
     "text": [
      "Compute time for ML: 1.56e+02 CPU-hrs\n"
     ]
    }
   ],
   "source": [
    "ml_compute_time = sum(s.sim_time.max() for s in stop_trajs_100) * 2  # 2 CPUs per run\n",
    "print(f'Compute time for ML: {ml_compute_time / 3600:.2e} CPU-hrs')"
   ]
  },
  {
   "cell_type": "markdown",
   "metadata": {},
   "source": [
    "Load in the trajectory created by interpolating TD-DFT stopping powers"
   ]
  },
  {
   "cell_type": "code",
   "execution_count": 14,
   "metadata": {
    "execution": {
     "iopub.execute_input": "2023-10-27T13:42:11.634604Z",
     "iopub.status.busy": "2023-10-27T13:42:11.634113Z",
     "iopub.status.idle": "2023-10-27T13:42:11.650411Z",
     "shell.execute_reply": "2023-10-27T13:42:11.650093Z"
    }
   },
   "outputs": [],
   "source": [
    "tddft_stop_traj_100 = pd.read_csv('tddft-interpolated-100.csv')"
   ]
  },
  {
   "cell_type": "markdown",
   "metadata": {},
   "source": [
    "Compute the acceleration of the projectiles by computing the second derivative of the distance wrt time."
   ]
  },
  {
   "cell_type": "code",
   "execution_count": 15,
   "metadata": {
    "execution": {
     "iopub.execute_input": "2023-10-27T13:42:11.652564Z",
     "iopub.status.busy": "2023-10-27T13:42:11.652205Z",
     "iopub.status.idle": "2023-10-27T13:42:11.756006Z",
     "shell.execute_reply": "2023-10-27T13:42:11.755663Z"
    }
   },
   "outputs": [],
   "source": [
    "tddft_bragg_max_100 = compute_bragg_curve([tddft_stop_traj_100])[0]"
   ]
  },
  {
   "cell_type": "code",
   "execution_count": 16,
   "metadata": {
    "execution": {
     "iopub.execute_input": "2023-10-27T13:42:11.758020Z",
     "iopub.status.busy": "2023-10-27T13:42:11.757629Z",
     "iopub.status.idle": "2023-10-27T13:42:13.008699Z",
     "shell.execute_reply": "2023-10-27T13:42:13.009023Z"
    }
   },
   "outputs": [],
   "source": [
    "bragg_max_100 = compute_bragg_curve(stop_trajs_100)"
   ]
  },
  {
   "cell_type": "code",
   "execution_count": 17,
   "metadata": {
    "execution": {
     "iopub.execute_input": "2023-10-27T13:42:13.017511Z",
     "iopub.status.busy": "2023-10-27T13:42:13.012907Z",
     "iopub.status.idle": "2023-10-27T13:42:13.125536Z",
     "shell.execute_reply": "2023-10-27T13:42:13.125280Z"
    }
   },
   "outputs": [
    {
     "data": {
      "image/png": "[encoded data removed]",
      "text/plain": [
       "<Figure size 252x144 with 1 Axes>"
      ]
     },
     "metadata": {
      "needs_background": "light"
     },
     "output_type": "display_data"
    }
   ],
   "source": [
    "fig, ax = plt.subplots(figsize=(3.5, 2))\n",
    "\n",
    "bins = np.linspace(0, max(bragg_max_100) * 1.1, 32)\n",
    "ax.hist(bragg_max_100, bins=bins)\n",
    "ax.set_xlabel('Displacement of Bragg Max. ($a_B$)')\n",
    "ax.set_ylabel('Frequency')\n",
    "\n",
    "ax.set_ylim(ax.get_ylim())\n",
    "ax.plot([tddft_bragg_max_100] * 2, ax.get_ylim(), 'k--')\n",
    "\n",
    "fig.tight_layout()\n",
    "fig.savefig(os.path.join('figures', '100-bragg-max.png'), dpi=320)"
   ]
  },
  {
   "cell_type": "code",
   "execution_count": 18,
   "metadata": {
    "execution": {
     "iopub.execute_input": "2023-10-27T13:42:13.127622Z",
     "iopub.status.busy": "2023-10-27T13:42:13.127317Z",
     "iopub.status.idle": "2023-10-27T13:42:13.128903Z",
     "shell.execute_reply": "2023-10-27T13:42:13.128627Z"
    }
   },
   "outputs": [
    {
     "name": "stdout",
     "output_type": "stream",
     "text": [
      "ML predicts a maximum stoppin of 9.76e+04 $a_B$, comapred to the 1.02e+05 from TD-DFT\n",
      "A difference of -4.4%\n"
     ]
    }
   ],
   "source": [
    "ml_bragg_max_100 = np.max(bragg_max_100)\n",
    "print(f'ML predicts a maximum stoppin of {ml_bragg_max_100:.2e} $a_B$, comapred to the {tddft_bragg_max_100:.2e} from TD-DFT')\n",
    "print(f'A difference of {100 * (ml_bragg_max_100 - tddft_bragg_max_100) / tddft_bragg_max_100:.1f}%')"
   ]
  },
  {
   "cell_type": "code",
   "execution_count": 19,
   "metadata": {
    "execution": {
     "iopub.execute_input": "2023-10-27T13:42:13.172982Z",
     "iopub.status.busy": "2023-10-27T13:42:13.169705Z",
     "iopub.status.idle": "2023-10-27T13:42:13.515687Z",
     "shell.execute_reply": "2023-10-27T13:42:13.515931Z"
    }
   },
   "outputs": [
    {
     "data": {
      "image/png": "[encoded data removed]",
      "text/plain": [
       "<Figure size 252x144 with 1 Axes>"
      ]
     },
     "metadata": {
      "needs_background": "light"
     },
     "output_type": "display_data"
    }
   ],
   "source": [
    "fig, ax = plt.subplots(figsize=(3.5, 2))\n",
    "\n",
    "make_bragg_curve(ax, filter(lambda x: x['displacement'].max() > 60000, stop_trajs_100))\n",
    "ax.plot(tddft_stop_traj_100['displacement'], tddft_stop_traj_100['force'], 'k--')\n",
    "ax.set_xlim(0, 120e3)\n",
    "ax.set_xlabel('Displacement ($a_B$)')\n",
    "ax.set_ylabel('Force ($E_h/a_B$)')\n",
    "\n",
    "\n",
    "ax.set_ylim(0, 0.3)\n",
    "\n",
    "fig.tight_layout()\n",
    "fig.savefig(os.path.join('figures', '111-bragg-curve.png'), dpi=320)"
   ]
  },
  {
   "cell_type": "markdown",
   "metadata": {},
   "source": [
    "## Make a combined figure\n",
    "We're going to use a half-column figure in the paper"
   ]
  },
  {
   "cell_type": "code",
   "execution_count": 20,
   "metadata": {
    "execution": {
     "iopub.execute_input": "2023-10-27T13:42:13.534400Z",
     "iopub.status.busy": "2023-10-27T13:42:13.533613Z",
     "iopub.status.idle": "2023-10-27T13:42:14.151830Z",
     "shell.execute_reply": "2023-10-27T13:42:14.152079Z"
    }
   },
   "outputs": [
    {
     "data": {
      "image/png": "[encoded data removed]",
      "text/plain": [
       "<Figure size 252x324 with 3 Axes>"
      ]
     },
     "metadata": {
      "needs_background": "light"
     },
     "output_type": "display_data"
    }
   ],
   "source": [
    "fig, axs = plt.subplots(3, 1, figsize=(3.5, 4.5), sharex=True)\n",
    "\n",
    "# Top panel: Plot of force over displacement\n",
    "ax = axs[0]\n",
    "make_bragg_curve(ax, filter(lambda x: x['displacement'].max() > 60000, stop_trajs_100))\n",
    "#ax.plot(tddft_stop_traj_100['displacement'], tddft_stop_traj_100['force'], 'k--')\n",
    "ax.set_xlim(0, 105e3)\n",
    "ax.set_xlabel('Displacement ($a_B$)')\n",
    "ax.set_ylabel('Force ($E_h/a_B$)')\n",
    "\n",
    "# Middle panel: 100 Bragg maximum\n",
    "ax = axs[1]\n",
    "bins = np.linspace(0, max(bragg_max_100) * 1.1, 32)\n",
    "ax.hist(bragg_max_100, bins=bins)\n",
    "ax.set_xlabel('Displacement of Bragg Max. ($a_B$)')\n",
    "ax.set_ylabel('Frequency')\n",
    "\n",
    "ax.set_ylim(ax.get_ylim())\n",
    "#ax.plot(tddft_bragg_max_100 * 2, ax.get_ylim(), 'k--')\n",
    "\n",
    "# Bottom panel: 111 stopping distnace\n",
    "ax = axs[2]\n",
    "bins = np.linspace(0, max(bragg_max_111), 32)\n",
    "ax.hist(bragg_max_111, bins=bins)\n",
    "ax.set_xlabel('Displacement of Bragg Max. ($a_B$)')\n",
    "ax.set_ylabel('Frequency')\n",
    "\n",
    "\n",
    "# Place figure labels\n",
    "for ax, l in zip(axs, ['(a)', '(b) $\\\\left<100\\\\right>$', '(c) $\\\\left<111\\\\right>$']):\n",
    "    ax.text(0.01, 0.95, l, ha='left', va='top', transform=ax.transAxes)\n",
    "\n",
    "fig.tight_layout()\n",
    "fig.savefig(os.path.join('figures', 'bragg-peak-figure.png'), dpi=320)\n",
    "fig.savefig(os.path.join('figures', 'bragg-peak-figure.pdf'))"
   ]
  },
  {
   "cell_type": "markdown",
   "metadata": {},
   "source": [
    "Quantifying some features seen in the chart.\n",
    "\n",
    "The difference in the spread between peaks"
   ]
  },
  {
   "cell_type": "code",
   "execution_count": 21,
   "metadata": {
    "execution": {
     "iopub.execute_input": "2023-10-27T13:42:14.154559Z",
     "iopub.status.busy": "2023-10-27T13:42:14.154256Z",
     "iopub.status.idle": "2023-10-27T13:42:14.155949Z",
     "shell.execute_reply": "2023-10-27T13:42:14.155692Z"
    }
   },
   "outputs": [
    {
     "name": "stdout",
     "output_type": "stream",
     "text": [
      "The difference between max and 75th percentile in 100 is 2118.8\n",
      "The difference between max and 75th percentile in 111 is 7423.3\n"
     ]
    }
   ],
   "source": [
    "for label, data in zip(('100', '111'), [bragg_max_100, bragg_max_111]):\n",
    "    print(f'The difference between max and 75th percentile in {label} is {np.max(data) - np.percentile(data, 75):.1f}')"
   ]
  },
  {
   "cell_type": "code",
   "execution_count": 22,
   "metadata": {
    "execution": {
     "iopub.execute_input": "2023-10-27T13:42:14.158201Z",
     "iopub.status.busy": "2023-10-27T13:42:14.157902Z",
     "iopub.status.idle": "2023-10-27T13:42:14.159823Z",
     "shell.execute_reply": "2023-10-27T13:42:14.159514Z"
    }
   },
   "outputs": [
    {
     "name": "stdout",
     "output_type": "stream",
     "text": [
      "The IQR of 100 is 37767.1, 43.4% of the median.\n",
      "The IQR of 111 is 56107.6, 70.8% of the median.\n"
     ]
    }
   ],
   "source": [
    "for label, data in zip(('100', '111'), [bragg_max_100, bragg_max_111]):\n",
    "    iqr = np.diff(np.percentile(data, [25, 75]))[0]\n",
    "    print(f'The IQR of {label} is {iqr:.1f}, {iqr / np.percentile(data, 50) * 100:.1f}% of the median.')"
   ]
  },
  {
   "cell_type": "code",
   "execution_count": null,
   "metadata": {},
   "outputs": [],
   "source": []
  }
 ],
 "metadata": {
  "kernelspec": {
   "display_name": "Python 3",
   "language": "python",
   "name": "python3"
  },
  "language_info": {
   "codemirror_mode": {
    "name": "ipython",
    "version": 3
   },
   "file_extension": ".py",
   "mimetype": "text/x-python",
   "name": "python",
   "nbconvert_exporter": "python",
   "pygments_lexer": "ipython3",
   "version": "3.6.8"
  }
 },
 "nbformat": 4,
 "nbformat_minor": 4
}
