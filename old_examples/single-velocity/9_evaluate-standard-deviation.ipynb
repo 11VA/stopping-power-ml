{
 "cells": [
  {
   "cell_type": "markdown",
   "id": "0c758acb",
   "metadata": {},
   "source": [
    "# Establish Error Bars on Stopping Force\n",
    "[Sand et al.](https://www.nature.com/articles/s41524-019-0180-5#Fig4) established that projectiles traveling along a channel oscillate around the center of the channel. Here, we establish the error bar in the stopping power for a channel due to this variation."
   ]
  },
  {
   "cell_type": "code",
   "execution_count": 1,
   "id": "fe89aa4b",
   "metadata": {
    "execution": {
     "iopub.execute_input": "2023-10-27T13:57:24.634425Z",
     "iopub.status.busy": "2023-10-27T13:57:24.633159Z",
     "iopub.status.idle": "2023-10-27T13:57:25.071687Z",
     "shell.execute_reply": "2023-10-27T13:57:25.072095Z"
    }
   },
   "outputs": [],
   "source": [
    "from scipy.integrate import dblquad\n",
    "import pickle as pkl\n",
    "import numpy as np"
   ]
  },
  {
   "cell_type": "markdown",
   "id": "14c089fe",
   "metadata": {},
   "source": [
    "## Load in Trajectory Computer\n",
    "We need the trajectory computer to quickly evaluate the acerage stopping power along a trajectory using adaptive integration."
   ]
  },
  {
   "cell_type": "code",
   "execution_count": 2,
   "id": "adc371e4",
   "metadata": {
    "execution": {
     "iopub.execute_input": "2023-10-27T13:57:25.075315Z",
     "iopub.status.busy": "2023-10-27T13:57:25.074877Z",
     "iopub.status.idle": "2023-10-27T13:57:31.002289Z",
     "shell.execute_reply": "2023-10-27T13:57:31.001771Z"
    }
   },
   "outputs": [],
   "source": [
    "with open('traj_computer.pkl', 'rb') as fp:\n",
    "    traj_computer = pkl.load(fp)"
   ]
  },
  {
   "cell_type": "markdown",
   "id": "df9ad87c",
   "metadata": {},
   "source": [
    "## Set Up Calculator\n",
    "Our goal is to compute the standard deviation of stopping power over samples of different deviations from the original starting point.\n",
    "We will assume that the projectile can be anywhere within a certain distance, $r$, of the center of the channel\n",
    "\n",
    "We do that by computing two integrals: \n",
    "\n",
    "1. $\\mu = \\frac{1}{\\pi r^2 d} \\int_0^r \\int_0^{2\\pi} \\int_0^d F(r\\cos\\theta, r\\sin\\theta, z) r dz d\\theta dr$\n",
    "2. $\\sigma^2 = \\frac{1}{\\pi r^2 d} \\int_0^r \\int_0^{2\\pi} \\int_0^d (F(r\\cos\\theta, r\\sin\\theta, z) - \\mu)^2 r dz d\\theta dr$\n",
    "\n",
    "where $F(x, y, z)$ is the stopping force at a certain Cartesian coordinate, $d$ is the lattice period for the particular trajectory,\n",
    "and the cylindrical coordinate system defined by $(r, \\theta, z)$ is oriented with the z-axis along the projectile's direction of travel.\n",
    "\n",
    "We already have an efficent integrator for inner integral (force along the direction of travel) and can use a similar adaptive integration scheme\n",
    "to integrate over the other two variables ($r$, $\\theta$)\n"
   ]
  },
  {
   "cell_type": "code",
   "execution_count": 3,
   "id": "7a4b2271",
   "metadata": {
    "execution": {
     "iopub.execute_input": "2023-10-27T13:57:31.011512Z",
     "iopub.status.busy": "2023-10-27T13:57:31.011054Z",
     "iopub.status.idle": "2023-10-27T13:57:31.023363Z",
     "shell.execute_reply": "2023-10-27T13:57:31.023730Z"
    }
   },
   "outputs": [],
   "source": [
    "def compute_stopping_distribution(\n",
    "    start_point,\n",
    "    lattice_vector, \n",
    "    velocity,\n",
    "    radius: float,\n",
    "    **kwargs\n",
    "):\n",
    "    \"\"\"Compute the mean and standard deviation of stopping power for a certain channel,\n",
    "    assuming that a projectile can move away from the channel center\n",
    "    \n",
    "    Keyword arguments are passed to `traj_computer.compute_stopping_power`\n",
    "    \n",
    "    Args:\n",
    "        start_point: Starting position for the project\n",
    "        lattice_vector: Direction of travel\n",
    "        velocity: Projectile velocity\n",
    "        radius: How far from the center the projectile can vary in fractional coordinates\n",
    "    \"\"\"\n",
    "\n",
    "    # Determine orthogonal vectors for \"x\" and \"y\"\n",
    "    #  We are using a cubic cell in this study, so I know the axes are aligned with the coordinate system\n",
    "    nonzero_ind = [x != 0 for x in lattice_vector].index(True)\n",
    "    to_swap = (nonzero_ind + 1) % 3\n",
    "    ortho_vector_x = lattice_vector.copy()\n",
    "    ortho_vector_x[nonzero_ind], ortho_vector_x[to_swap] = ortho_vector_x[to_swap], -ortho_vector_x[nonzero_ind]\n",
    "    ortho_vector_y = np.cross(lattice_vector, ortho_vector_x)\n",
    "    assert np.dot(lattice_vector, ortho_vector_x) == 0\n",
    "    assert np.dot(lattice_vector, ortho_vector_y) == 0\n",
    "    \n",
    "    # Make them unit vectors\n",
    "    ortho_vector_x = np.divide(ortho_vector_x, np.linalg.norm(ortho_vector_x))\n",
    "    ortho_vector_y = np.divide(ortho_vector_y, np.linalg.norm(ortho_vector_y))\n",
    "    \n",
    "    # Make a function which computes the stopping power along a perturbed channel\n",
    "    def _perturbed(r, theta):\n",
    "        new_start_point = np.array(start_point)\n",
    "        new_start_point += r * (ortho_vector_x * np.cos(theta) + ortho_vector_y * np.sin(theta))\n",
    "        result = traj_computer.compute_stopping_power(\n",
    "            new_start_point, lattice_vector, velocity, **kwargs\n",
    "        )[0]  # Only the mean\n",
    "        return result\n",
    "    \n",
    "    # Compute the mean and then the standard deviation\n",
    "    mean, _ = dblquad(lambda r, t: r * _perturbed(r, t), 0, 2 * np.pi, 0, radius, epsabs=0.001)\n",
    "    mean /= np.pi * radius ** 2\n",
    "    var, _ = dblquad(lambda y, x: y * np.power(_perturbed(y, x) - mean, 2), 0, 2 * np.pi, 0, radius, epsabs=0.001 ** 2)\n",
    "    var /= np.pi * radius ** 2\n",
    "    stddev = np.sqrt(var)\n",
    "    \n",
    "    return mean, stddev"
   ]
  },
  {
   "cell_type": "markdown",
   "id": "adb70395",
   "metadata": {},
   "source": [
    "Test for the channel"
   ]
  },
  {
   "cell_type": "code",
   "execution_count": 4,
   "id": "19f507b1",
   "metadata": {
    "execution": {
     "iopub.execute_input": "2023-10-27T13:57:31.028091Z",
     "iopub.status.busy": "2023-10-27T13:57:31.027623Z",
     "iopub.status.idle": "2023-10-27T13:57:34.117598Z",
     "shell.execute_reply": "2023-10-27T13:57:34.117908Z"
    }
   },
   "outputs": [
    {
     "name": "stdout",
     "output_type": "stream",
     "text": [
      "CPU times: user 1.59 s, sys: 2.74 s, total: 4.33 s\n",
      "Wall time: 3.07 s\n"
     ]
    },
    {
     "data": {
      "text/plain": [
       "0.23678958527234162"
      ]
     },
     "execution_count": 1,
     "metadata": {},
     "output_type": "execute_result"
    }
   ],
   "source": [
    "%%time\n",
    "center_stopping_power = traj_computer.compute_stopping_power([0,0.75,0.75], [1,0,0], 1.)[0]\n",
    "center_stopping_power"
   ]
  },
  {
   "cell_type": "code",
   "execution_count": 5,
   "id": "29f8c58a",
   "metadata": {
    "execution": {
     "iopub.execute_input": "2023-10-27T13:57:34.121998Z",
     "iopub.status.busy": "2023-10-27T13:57:34.121623Z",
     "iopub.status.idle": "2023-10-27T14:18:47.237572Z",
     "shell.execute_reply": "2023-10-27T14:18:47.237286Z"
    }
   },
   "outputs": [
    {
     "name": "stdout",
     "output_type": "stream",
     "text": [
      "CPU times: user 29min 3s, sys: 33min 42s, total: 1h 2min 45s\n",
      "Wall time: 21min 13s\n"
     ]
    },
    {
     "data": {
      "text/plain": [
       "(0.23680364625218955, 5.689943179304135e-06)"
      ]
     },
     "execution_count": 1,
     "metadata": {},
     "output_type": "execute_result"
    }
   ],
   "source": [
    "%%time\n",
    "channel_mean, channel_std = compute_stopping_distribution([0,0.75,0.75], [1,0,0], 1., 0.03)\n",
    "channel_mean, channel_std"
   ]
  },
  {
   "cell_type": "code",
   "execution_count": null,
   "id": "899acc6d",
   "metadata": {},
   "outputs": [],
   "source": []
  }
 ],
 "metadata": {
  "kernelspec": {
   "display_name": "Python 3",
   "language": "python",
   "name": "python3"
  },
  "language_info": {
   "codemirror_mode": {
    "name": "ipython",
    "version": 3
   },
   "file_extension": ".py",
   "mimetype": "text/x-python",
   "name": "python",
   "nbconvert_exporter": "python",
   "pygments_lexer": "ipython3",
   "version": "3.6.8"
  }
 },
 "nbformat": 4,
 "nbformat_minor": 5
}
