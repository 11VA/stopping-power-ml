{
 "cells": [
  {
   "cell_type": "markdown",
   "metadata": {},
   "source": [
    "# Compute the Confidence Intervals of Stopping Power\n",
    "This notebook was created to explore methods for computing a confidence interval in a stopping power calculation."
   ]
  },
  {
   "cell_type": "code",
   "execution_count": 1,
   "metadata": {
    "collapsed": true
   },
   "outputs": [],
   "source": [
    "%matplotlib inline\n",
    "from matplotlib import pyplot as plt\n",
    "from scipy import stats\n",
    "from sklearn.linear_model import BayesianRidge\n",
    "from stopping_power_ml.util import extend_trajectory\n",
    "from tqdm import tqdm_notebook as tqdm\n",
    "import numpy as np\n",
    "import os\n",
    "import pandas as pd\n",
    "import pickle as pkl"
   ]
  },
  {
   "cell_type": "markdown",
   "metadata": {},
   "source": [
    "## Load the Training Data\n",
    "Use some of the available training data to explore these calculations"
   ]
  },
  {
   "cell_type": "code",
   "execution_count": 2,
   "metadata": {
    "collapsed": true
   },
   "outputs": [],
   "source": [
    "data = pkl.load(open('training_set.pkl', 'rb'))"
   ]
  },
  {
   "cell_type": "code",
   "execution_count": 3,
   "metadata": {
    "collapsed": true
   },
   "outputs": [],
   "source": [
    "data.sort_values('timestep', inplace=True, ascending=True)"
   ]
  },
  {
   "cell_type": "markdown",
   "metadata": {},
   "source": [
    "Determine which columns are inputs/outputs"
   ]
  },
  {
   "cell_type": "code",
   "execution_count": 4,
   "metadata": {
    "collapsed": true
   },
   "outputs": [],
   "source": [
    "featurizers = pkl.load(open('featurizers.pkl', 'rb'))\n",
    "X_cols = sum([f.feature_labels() for f in featurizers], [])"
   ]
  },
  {
   "cell_type": "code",
   "execution_count": 5,
   "metadata": {
    "collapsed": true
   },
   "outputs": [],
   "source": [
    "y_col = 'force'"
   ]
  },
  {
   "cell_type": "markdown",
   "metadata": {},
   "source": [
    "## Compute the CI of Running Average\n",
    "Our first objective is to quantify the uncertainity in the stopping power of a simulation that uses the running average to estimate stopping power"
   ]
  },
  {
   "cell_type": "markdown",
   "metadata": {},
   "source": [
    "### Method 1: Standard Error of the Mean\n",
    "The easiest route is to compute the [standard error of the mean](https://en.wikipedia.org/wiki/Standard_error#Standard_error_of_the_mean): ${SE}_{\\bar{x}} = \\sigma / \\sqrt{N}$ where $\\sigma$ is the standard deviation and $N$ is the number of entries. Conveniently, scipy has a [function for this](https://docs.scipy.org/doc/scipy/reference/generated/scipy.stats.sem.html)."
   ]
  },
  {
   "cell_type": "markdown",
   "metadata": {},
   "source": [
    "Problem: The above formula assumes that points are randomly sampled. This simulation is *not* a random sample. Perhaps that explains why the SE of mean is bad at first"
   ]
  },
  {
   "cell_type": "code",
   "execution_count": 6,
   "metadata": {
    "collapsed": true
   },
   "outputs": [],
   "source": [
    "data['stopping_running-mean'] = [data['force'].iloc[:i].mean() for i in range(len(data))]"
   ]
  },
  {
   "cell_type": "code",
   "execution_count": 7,
   "metadata": {},
   "outputs": [
    {
     "name": "stderr",
     "output_type": "stream",
     "text": [
      "/home/wardlt/software/miniconda3/lib/python3.6/site-packages/numpy/core/_methods.py:135: RuntimeWarning: Degrees of freedom <= 0 for slice\n",
      "  keepdims=keepdims)\n",
      "/home/wardlt/software/miniconda3/lib/python3.6/site-packages/numpy/core/_methods.py:105: RuntimeWarning: invalid value encountered in true_divide\n",
      "  arrmean, rcount, out=arrmean, casting='unsafe', subok=False)\n",
      "/home/wardlt/software/miniconda3/lib/python3.6/site-packages/numpy/core/_methods.py:127: RuntimeWarning: invalid value encountered in double_scalars\n",
      "  ret = ret.dtype.type(ret / rcount)\n"
     ]
    }
   ],
   "source": [
    "data['stopping_running-mean_error'] = [stats.sem(data['force'].iloc[:i]) for i in range(len(data))]"
   ]
  },
  {
   "cell_type": "markdown",
   "metadata": {},
   "source": [
    "Plot results"
   ]
  },
  {
   "cell_type": "code",
   "execution_count": 8,
   "metadata": {},
   "outputs": [
    {
     "data": {
      "text/plain": [
       "<matplotlib.text.Text at 0x7feaec78fb00>"
      ]
     },
     "execution_count": 8,
     "metadata": {},
     "output_type": "execute_result"
    },
    {
     "data": {
      "image/png": "[encoded data removed]",
      "text/plain": [
       "<matplotlib.figure.Figure at 0x7feaec77ec50>"
      ]
     },
     "metadata": {},
     "output_type": "display_data"
    }
   ],
   "source": [
    "fig, ax = plt.subplots()\n",
    "\n",
    "ax.plot(data['timestep'], data['stopping_running-mean'])\n",
    "ax.fill_between(data['timestep'],\n",
    "               data['stopping_running-mean'] + data['stopping_running-mean_error'],\n",
    "               data['stopping_running-mean'] - data['stopping_running-mean_error'],\n",
    "               alpha=0.5)\n",
    "\n",
    "ax.set_ylabel('Stopping Power Estimate ($E_H / a_B$)')\n",
    "ax.set_xlabel('Timestep')"
   ]
  },
  {
   "cell_type": "code",
   "execution_count": 9,
   "metadata": {},
   "outputs": [
    {
     "data": {
      "text/plain": [
       "<matplotlib.text.Text at 0x7feaec66a390>"
      ]
     },
     "execution_count": 9,
     "metadata": {},
     "output_type": "execute_result"
    },
    {
     "data": {
      "image/png": "[encoded data removed]",
      "text/plain": [
       "<matplotlib.figure.Figure at 0x7feaec67e7f0>"
      ]
     },
     "metadata": {},
     "output_type": "display_data"
    }
   ],
   "source": [
    "fig, ax = plt.subplots()\n",
    "\n",
    "ax.plot(data['timestep'], data['stopping_running-mean_error'])\n",
    "\n",
    "ax.set_ylabel('Standard Deviation of S ($E_H / a_B$)')\n",
    "ax.set_xlabel('Timestep')"
   ]
  },
  {
   "cell_type": "markdown",
   "metadata": {},
   "source": [
    "The standard error of the mean works when the data is normally distributed, and (with the expection of the outliers) this data seems pretty normally-distributed.\n",
    "\n",
    "*To do*: Find a quantitative test for normality"
   ]
  },
  {
   "cell_type": "code",
   "execution_count": 10,
   "metadata": {
    "scrolled": true
   },
   "outputs": [
    {
     "data": {
      "text/plain": [
       "<matplotlib.text.Text at 0x7feaec601c88>"
      ]
     },
     "execution_count": 10,
     "metadata": {},
     "output_type": "execute_result"
    },
    {
     "data": {
      "image/png": "[encoded data removed]",
      "text/plain": [
       "<matplotlib.figure.Figure at 0x7feaec5cc860>"
      ]
     },
     "metadata": {},
     "output_type": "display_data"
    }
   ],
   "source": [
    "fig, ax = plt.subplots()\n",
    "\n",
    "ax.hist(data['force'], bins=np.linspace(-10, 10, 100))\n",
    "\n",
    "ax.set_xlabel('Force')\n",
    "ax.set_ylabel('Frequency')"
   ]
  },
  {
   "cell_type": "markdown",
   "metadata": {},
   "source": [
    "## Generate Long Trajectory\n",
    "With ML, we get the ability to run the trajectories for much longer, which is a route for reducing the uncertainity in the predicted stopping power that is a result of the short sample."
   ]
  },
  {
   "cell_type": "code",
   "execution_count": 11,
   "metadata": {
    "collapsed": true
   },
   "outputs": [],
   "source": [
    "n_steps = 100000\n",
    "run_data = pd.DataFrame({\n",
    "    'timestep': list(range(data['timestep'].min(), data['timestep'].min() + n_steps)),\n",
    "    'atoms': extend_trajectory(data['atoms'].tolist(), n_steps)\n",
    "})"
   ]
  },
  {
   "cell_type": "markdown",
   "metadata": {},
   "source": [
    "Featurize the data"
   ]
  },
  {
   "cell_type": "code",
   "execution_count": 12,
   "metadata": {},
   "outputs": [
    {
     "name": "stdout",
     "output_type": "stream",
     "text": [
      "CPU times: user 24.5 s, sys: 8.42 s, total: 32.9 s\n",
      "Wall time: 1h 56min 46s\n"
     ]
    }
   ],
   "source": [
    "%%time\n",
    "for f in featurizers:\n",
    "    run_data = f.featurize_dataframe(run_data, 'atoms', n_jobs=None)"
   ]
  },
  {
   "cell_type": "markdown",
   "metadata": {},
   "source": [
    "Save the trajectory with predicted forces"
   ]
  },
  {
   "cell_type": "code",
   "execution_count": 13,
   "metadata": {},
   "outputs": [],
   "source": [
    "model = pkl.load(open('best_model.pkl', 'rb'))"
   ]
  },
  {
   "cell_type": "code",
   "execution_count": 14,
   "metadata": {},
   "outputs": [],
   "source": [
    "model.fit(data[X_cols], data[y_col])\n",
    "run_data['force'] = model.predict(run_data[X_cols])"
   ]
  },
  {
   "cell_type": "code",
   "execution_count": 15,
   "metadata": {
    "collapsed": true
   },
   "outputs": [],
   "source": [
    "run_data.drop('atoms', axis='columns').to_csv('run-data.csv')\n",
    "run_data.to_pickle('run_data.pkl')"
   ]
  },
  {
   "cell_type": "markdown",
   "metadata": {},
   "source": [
    "## Compute the Confidence Interval of the Bayesian Model\n",
    "Here, our goal is to get an estimate of the confidence interval of the predictions from the Bayesian regression model. However, the fitness of the model is not perfect and we need a way to take the error of the model into account. \n",
    "\n",
    "Here, we assume the error in the stopping power comes from two different sources: finite sampling of the population (see above) and errors resulting from the fitness. Given my limited statistical training, we assume the two errors to be additive \\[this seems to be consistent with the [stats discussed here](http://stla.github.io/stlapblog/posts/ModelReduction.html)\\]. This yields that the variance in the stopping power compute from the ML model is equal to $\\sigma_S^2 = \\frac{1}{N}(Var(f)^2 + \\frac{1}{N}\\sum_i \\sigma_f ^2)$"
   ]
  },
  {
   "cell_type": "markdown",
   "metadata": {},
   "source": [
    "Test out computing uncertainties"
   ]
  },
  {
   "cell_type": "code",
   "execution_count": 16,
   "metadata": {},
   "outputs": [
    {
     "data": {
      "text/plain": [
       "Pipeline(memory=None,\n",
       "     steps=[('poly', PolynomialFeatures(degree=2, include_bias=True, interaction_only=False)), ('lasso_rfe', SelectFromModel(estimator=LassoLars(alpha=1e-10, copy_X=True, eps=2.2204460492503131e-16,\n",
       "     fit_intercept=True, fit_path=True, max_iter=27, normalize=True,\n",
       "     positive=False, precompute='auto...rue, lambda_1=1e-06, lambda_2=1e-06, n_iter=300,\n",
       "       normalize=False, tol=0.001, verbose=False))])"
      ]
     },
     "execution_count": 16,
     "metadata": {},
     "output_type": "execute_result"
    }
   ],
   "source": [
    "model.fit(data[X_cols].iloc[:20], data[y_col].iloc[:20])"
   ]
  },
  {
   "cell_type": "code",
   "execution_count": 17,
   "metadata": {},
   "outputs": [],
   "source": [
    "data['force_ml'], data['force_ml_var'] = model.predict(data[X_cols], return_std=True)"
   ]
  },
  {
   "cell_type": "code",
   "execution_count": 18,
   "metadata": {},
   "outputs": [
    {
     "data": {
      "image/png": "[encoded data removed]",
      "text/plain": [
       "<matplotlib.figure.Figure at 0x7feae801dc88>"
      ]
     },
     "metadata": {},
     "output_type": "display_data"
    }
   ],
   "source": [
    "fig, ax = plt.subplots() \n",
    "\n",
    "ax.plot(data['timestep'], data['force_ml'], 'r-', alpha=0.7)\n",
    "ax.plot(data['timestep'], data['force'], 'k--')\n",
    "ax.fill_between(data['timestep'], data['force_ml'] + data['force_ml_var'],\n",
    "                data['force_ml'] - data['force_ml_var'], alpha=0.5)\n",
    "\n",
    "ax.set_yscale('symlog')\n",
    "ax.set_yscale('symlog')"
   ]
  },
  {
   "cell_type": "code",
   "execution_count": 19,
   "metadata": {
    "collapsed": true
   },
   "outputs": [],
   "source": [
    "def compute_ml_stopping_power(train_data, run_data):\n",
    "    \"\"\"Computes the stopping power using ML, includes uncertainties\n",
    "    \n",
    "    :param train_data: DataFrame, data used to train the model\n",
    "    :param run_data: DataFrame, trajectory over which to evaluate model and, thereby, compute stopping power\n",
    "    :return: \n",
    "        - Mean stopping power\n",
    "        - Standard deviation in stopping power \n",
    "        - Variance in stopping power due to finite sampling\n",
    "        - Variance in stopping power due to model uncertainty\"\"\"\n",
    "    \n",
    "    # Fit the model\n",
    "    model = BayesianRidge(normalize=True).fit(train_data[X_cols], train_data[y_col])\n",
    "    \n",
    "    # Run the model on the run data\n",
    "    force, force_std = model.predict(run_data[X_cols], return_std=True)\n",
    "    \n",
    "    # Compute the mean, error\n",
    "    finite_sample = np.var(force) / len(run_data)\n",
    "    model_error = np.power(force_std / len(run_data), 2).sum()\n",
    "    return force.mean(), np.sqrt(finite_sample + model_error), finite_sample, model_error"
   ]
  },
  {
   "cell_type": "markdown",
   "metadata": {},
   "source": [
    "Measure the effect of using longer simulated trajectories"
   ]
  },
  {
   "cell_type": "code",
   "execution_count": 20,
   "metadata": {},
   "outputs": [
    {
     "name": "stderr",
     "output_type": "stream",
     "text": [
      "Widget Javascript not detected.  It may not be installed or enabled properly.\n"
     ]
    },
    {
     "data": {
      "application/vnd.jupyter.widget-view+json": {
       "model_id": "4f2f50cdd3464752bcfd2ddb47952a45"
      }
     },
     "metadata": {},
     "output_type": "display_data"
    },
    {
     "name": "stdout",
     "output_type": "stream",
     "text": [
      "\n"
     ]
    }
   ],
   "source": [
    "run_size = np.linspace(0, len(run_data), 501, dtype=np.int)[1:]\n",
    "results, results_std, var_fs, var_me = zip(*[ compute_ml_stopping_power(data, run_data.iloc[:i]) for i in tqdm(run_size) ])"
   ]
  },
  {
   "cell_type": "code",
   "execution_count": 21,
   "metadata": {
    "collapsed": true
   },
   "outputs": [],
   "source": [
    "results = np.array(results)\n",
    "results_ci = np.array(results_std)"
   ]
  },
  {
   "cell_type": "code",
   "execution_count": 22,
   "metadata": {},
   "outputs": [
    {
     "data": {
      "image/png": "[encoded data removed]",
      "text/plain": [
       "<matplotlib.figure.Figure at 0x7feae8275da0>"
      ]
     },
     "metadata": {},
     "output_type": "display_data"
    }
   ],
   "source": [
    "fig, ax = plt.subplots()\n",
    "\n",
    "ax.plot(run_size, results, label='ML')\n",
    "ax.fill_between(run_size, results + results_ci, results - results_ci, alpha=0.5)\n",
    "\n",
    "\n",
    "ax.set_ylabel('Stopping Power ($E_H / a_B$)')\n",
    "ax.set_xlabel('Run Size')\n",
    "\n",
    "fig.tight_layout()\n",
    "fig.set_size_inches(3, 2.5)"
   ]
  },
  {
   "cell_type": "markdown",
   "metadata": {},
   "source": [
    "Plot the effect of sample size on uncertainity"
   ]
  },
  {
   "cell_type": "code",
   "execution_count": 23,
   "metadata": {},
   "outputs": [
    {
     "data": {
      "image/png": "[encoded data removed]",
      "text/plain": [
       "<matplotlib.figure.Figure at 0x7feae83582e8>"
      ]
     },
     "metadata": {},
     "output_type": "display_data"
    }
   ],
   "source": [
    "fig, ax = plt.subplots()\n",
    "\n",
    "ax.plot(run_size, results_ci, label='ML')\n",
    "\n",
    "\n",
    "ax.set_ylabel('Stopping Power Variance ($E_H / a_B$)')\n",
    "ax.set_xlabel('Run Size')\n",
    "\n",
    "fig.tight_layout()\n",
    "fig.set_size_inches(3, 2.5)"
   ]
  },
  {
   "cell_type": "markdown",
   "metadata": {},
   "source": [
    "Measure the effect of using more TD-DFT fitting data"
   ]
  },
  {
   "cell_type": "code",
   "execution_count": 24,
   "metadata": {},
   "outputs": [
    {
     "name": "stderr",
     "output_type": "stream",
     "text": [
      "Widget Javascript not detected.  It may not be installed or enabled properly.\n"
     ]
    },
    {
     "data": {
      "application/vnd.jupyter.widget-view+json": {
       "model_id": "3b12d586fee94023b601a62a3900f6b6"
      }
     },
     "metadata": {},
     "output_type": "display_data"
    },
    {
     "name": "stderr",
     "output_type": "stream",
     "text": [
      "/home/wardlt/software/scikit-learn/sklearn/linear_model/bayes.py:165: RuntimeWarning: divide by zero encountered in double_scalars\n",
      "  alpha_ = 1. / np.var(y)\n",
      "/home/wardlt/software/scikit-learn/sklearn/linear_model/bayes.py:197: RuntimeWarning: divide by zero encountered in true_divide\n",
      "  U / (eigen_vals_ + lambda_ / alpha_)[None, :], U.T))\n",
      "/home/wardlt/software/scikit-learn/sklearn/linear_model/bayes.py:211: RuntimeWarning: invalid value encountered in multiply\n",
      "  gamma_ = (np.sum((alpha_ * eigen_vals_) /\n",
      "/home/wardlt/software/scikit-learn/sklearn/linear_model/bayes.py:212: RuntimeWarning: invalid value encountered in multiply\n",
      "  (lambda_ + alpha_ * eigen_vals_)))\n"
     ]
    }
   ],
   "source": [
    "results = [ compute_ml_stopping_power(data[data['timestep'] <= x['timestep']], run_data) for i,x in tqdm(list(data.iterrows())) ]\n",
    "data['stopping_ml'], data['stopping_ml_error'], \\\n",
    "    data['stopping_ml_sampling_var'], data['stopping_ml_model_var'] = list(zip(*results))\n",
    "del results"
   ]
  },
  {
   "cell_type": "markdown",
   "metadata": {},
   "source": [
    "Plot the results"
   ]
  },
  {
   "cell_type": "code",
   "execution_count": 25,
   "metadata": {},
   "outputs": [
    {
     "name": "stdout",
     "output_type": "stream",
     "text": [
      "Error bar on prediction when training on whole set: 0.014 (5.7%)\n"
     ]
    }
   ],
   "source": [
    "print('Error bar on prediction when training on whole set: %.3f (%.1f%%)'%(\n",
    "    data['stopping_ml_error'].iloc[-1], data['stopping_ml_error'].iloc[-1] / data['stopping_ml'].iloc[-1] * 100))"
   ]
  },
  {
   "cell_type": "code",
   "execution_count": 26,
   "metadata": {},
   "outputs": [
    {
     "name": "stdout",
     "output_type": "stream",
     "text": [
      "Force above 1 appears first at timestep=3072\n"
     ]
    }
   ],
   "source": [
    "first_hit = data.query('force > 0.9')['timestep'].min()\n",
    "print('Force above 1 appears first at timestep=%d'%first_hit)"
   ]
  },
  {
   "cell_type": "code",
   "execution_count": 27,
   "metadata": {},
   "outputs": [
    {
     "name": "stdout",
     "output_type": "stream",
     "text": [
      "Negative force appears first at timestep=3155\n"
     ]
    }
   ],
   "source": [
    "first_negative = data.query('force < -0.1')['timestep'].min()\n",
    "print('Negative force appears first at timestep=%d'%first_negative)"
   ]
  },
  {
   "cell_type": "code",
   "execution_count": 28,
   "metadata": {},
   "outputs": [
    {
     "data": {
      "image/png": "[encoded data removed]",
      "text/plain": [
       "<matplotlib.figure.Figure at 0x7feae813bb70>"
      ]
     },
     "metadata": {},
     "output_type": "display_data"
    }
   ],
   "source": [
    "fig, ax = plt.subplots(1,3)\n",
    "\n",
    "plot_max = 5000\n",
    "\n",
    "## Plot the training data\n",
    "ax[0].plot(data['timestep'], data['force'], 'k')\n",
    "\n",
    "ax[0].set_xlim(0, plot_max)\n",
    "ax[0].set_ylim(-1, 1)\n",
    "\n",
    "ax[0].set_xlabel('Timestep')\n",
    "ax[0].set_ylabel('Force ($E_H / a_B$)')\n",
    "\n",
    "# Plot the computed stopping power\n",
    "ax[1].plot(data['timestep'], data['stopping_running-mean'], label='No ML')\n",
    "ax[1].fill_between(data['timestep'],\n",
    "               data['stopping_running-mean'] + data['stopping_running-mean_error'],\n",
    "               data['stopping_running-mean'] - data['stopping_running-mean_error'],\n",
    "               alpha=0.5)\n",
    "\n",
    "ax[1].plot(data['timestep'], data['stopping_ml'], label='ML')\n",
    "ax[1].fill_between(data['timestep'],\n",
    "               data['stopping_ml'] + data['stopping_ml_error'],\n",
    "               data['stopping_ml'] - data['stopping_ml_error'],\n",
    "               alpha=0.5)\n",
    "\n",
    "ax[1].plot([data['timestep'].min(), data['timestep'].max()], [data['stopping_running-mean'].iloc[-1],]*2, 'k--')\n",
    "\n",
    "ax[1].set_xlim(0, plot_max)\n",
    "\n",
    "ax[1].legend(fontsize=8, loc=3, ncol=2)\n",
    "ax[1].set_ylim(0.1,0.45)\n",
    "\n",
    "ax[1].set_ylabel('S ($E_H / a_B$)')\n",
    "ax[1].set_xlabel('Timestep')\n",
    "\n",
    "## The confidence interval\n",
    "ax[2].plot(data['timestep'], data['stopping_running-mean_error'], label='No ML')\n",
    "ax[2].plot(data['timestep'], data['stopping_ml_error'], label='ML')\n",
    "\n",
    "ax[2].set_xlim(0, plot_max)\n",
    "ax[2].set_ylim(0, 0.1)\n",
    "ax[2].legend(fontsize=8, loc=2)\n",
    "\n",
    "ax[2].set_ylabel('$\\sigma_S$ ($E_H / a_B$)')\n",
    "ax[2].set_xlabel('Timestep')\n",
    "\n",
    "# Plot the first \"hit\"\n",
    "for a in ax:\n",
    "    a.plot([first_negative, ] *2, [-1000, 1000], c='k', alpha=0.75)\n",
    "\n",
    "# Plot figure labels\n",
    "for i in range(len(ax)):\n",
    "    fig.text(float(i)/len(ax), 0.9, '(a)')\n",
    "\n",
    "fig.set_size_inches(6.5, 2.3)\n",
    "fig.tight_layout()\n",
    "fig.savefig('figures/confidence-intervals.png', dpi=320)\n",
    "fig.savefig('figures/confidence-intervals.pdf')"
   ]
  },
  {
   "cell_type": "markdown",
   "metadata": {
    "collapsed": true
   },
   "source": [
    "## TBD: Detect how much of run data is \"outside\" training set"
   ]
  },
  {
   "cell_type": "code",
   "execution_count": 29,
   "metadata": {
    "collapsed": true
   },
   "outputs": [],
   "source": []
  }
 ],
 "metadata": {
  "kernelspec": {
   "display_name": "Python 3",
   "language": "python",
   "name": "python3"
  },
  "language_info": {
   "codemirror_mode": {
    "name": "ipython",
    "version": 3
   },
   "file_extension": ".py",
   "mimetype": "text/x-python",
   "name": "python",
   "nbconvert_exporter": "python",
   "pygments_lexer": "ipython3",
   "version": "3.6.0"
  }
 },
 "nbformat": 4,
 "nbformat_minor": 2
}
