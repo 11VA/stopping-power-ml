{
 "cells": [
  {
   "cell_type": "markdown",
   "metadata": {},
   "source": [
    "# Get Data from Single Velocity\n",
    "From all of the Al data, get only that from `v = 1.0`. Also, mark the initial transient"
   ]
  },
  {
   "cell_type": "code",
   "execution_count": 1,
   "metadata": {
    "execution": {
     "iopub.execute_input": "2022-08-18T14:33:28.498834Z",
     "iopub.status.busy": "2022-08-18T14:33:28.497827Z",
     "iopub.status.idle": "2022-08-18T14:33:28.726097Z",
     "shell.execute_reply": "2022-08-18T14:33:28.726350Z"
    }
   },
   "outputs": [],
   "source": [
    "%matplotlib inline\n",
    "from matplotlib import pyplot as plt\n",
    "import pickle as pkl\n",
    "import pandas as pd\n",
    "import numpy as np\n",
    "import os"
   ]
  },
  {
   "cell_type": "markdown",
   "metadata": {},
   "source": [
    "## Load in the Entire Dataset\n",
    "This includes data from all velocities and all trajectories"
   ]
  },
  {
   "cell_type": "code",
   "execution_count": 2,
   "metadata": {
    "execution": {
     "iopub.execute_input": "2022-08-18T14:33:28.728412Z",
     "iopub.status.busy": "2022-08-18T14:33:28.728135Z",
     "iopub.status.idle": "2022-08-18T14:33:28.937696Z",
     "shell.execute_reply": "2022-08-18T14:33:28.938027Z"
    }
   },
   "outputs": [
    {
     "name": "stdout",
     "output_type": "stream",
     "text": [
      "Loaded 82569 entries\n"
     ]
    }
   ],
   "source": [
    "data = pd.read_pickle(os.path.join('..', 'training_data.pkl.gz'))\n",
    "print('Loaded %d entries'%len(data))"
   ]
  },
  {
   "cell_type": "markdown",
   "metadata": {},
   "source": [
    "Add the starting frame"
   ]
  },
  {
   "cell_type": "code",
   "execution_count": 3,
   "metadata": {
    "execution": {
     "iopub.execute_input": "2022-08-18T14:33:28.940725Z",
     "iopub.status.busy": "2022-08-18T14:33:28.940428Z",
     "iopub.status.idle": "2022-08-18T14:33:28.953176Z",
     "shell.execute_reply": "2022-08-18T14:33:28.952936Z"
    }
   },
   "outputs": [],
   "source": [
    "start_frame = pkl.load(open(os.path.join('..', 'al_starting_frame.pkl'), 'rb'))"
   ]
  },
  {
   "cell_type": "markdown",
   "metadata": {},
   "source": [
    "## Get the `v = 1.0` subset\n",
    "Nice and easy query"
   ]
  },
  {
   "cell_type": "code",
   "execution_count": 4,
   "metadata": {
    "execution": {
     "iopub.execute_input": "2022-08-18T14:33:28.956719Z",
     "iopub.status.busy": "2022-08-18T14:33:28.956433Z",
     "iopub.status.idle": "2022-08-18T14:33:29.195638Z",
     "shell.execute_reply": "2022-08-18T14:33:29.195874Z"
    }
   },
   "outputs": [
    {
     "name": "stdout",
     "output_type": "stream",
     "text": [
      "Downselected to 35400 entries\n"
     ]
    }
   ],
   "source": [
    "data = data[np.isclose(data['velocity'].apply(np.linalg.norm), 1.0, atol=1e-3)]\n",
    "print('Downselected to %d entries'%len(data))"
   ]
  },
  {
   "cell_type": "code",
   "execution_count": 5,
   "metadata": {
    "execution": {
     "iopub.execute_input": "2022-08-18T14:33:29.199618Z",
     "iopub.status.busy": "2022-08-18T14:33:29.199320Z",
     "iopub.status.idle": "2022-08-18T14:33:29.200430Z",
     "shell.execute_reply": "2022-08-18T14:33:29.200661Z"
    }
   },
   "outputs": [
    {
     "name": "stdout",
     "output_type": "stream",
     "text": [
      "Number of trajectories: 6\n"
     ]
    }
   ],
   "source": [
    "traj_names = set(data['directory'])\n",
    "print('Number of trajectories:', len(traj_names))\n",
    "assert len(traj_names) == 6"
   ]
  },
  {
   "cell_type": "markdown",
   "metadata": {},
   "source": [
    "## Mark the Initial Transients\n",
    "The forces in the first part of the simulation are too high because the system is still reacting to the introduction of the projectile."
   ]
  },
  {
   "cell_type": "code",
   "execution_count": 6,
   "metadata": {
    "execution": {
     "iopub.execute_input": "2022-08-18T14:33:29.203279Z",
     "iopub.status.busy": "2022-08-18T14:33:29.202988Z",
     "iopub.status.idle": "2022-08-18T14:33:29.204147Z",
     "shell.execute_reply": "2022-08-18T14:33:29.203886Z"
    }
   },
   "outputs": [],
   "source": [
    "data['initial'] = False"
   ]
  },
  {
   "cell_type": "code",
   "execution_count": 7,
   "metadata": {
    "execution": {
     "iopub.execute_input": "2022-08-18T14:33:29.206511Z",
     "iopub.status.busy": "2022-08-18T14:33:29.206224Z",
     "iopub.status.idle": "2022-08-18T14:33:29.208670Z",
     "shell.execute_reply": "2022-08-18T14:33:29.208993Z"
    }
   },
   "outputs": [
    {
     "data": {
      "text/plain": [
       "{'datasets/256_Al/Dv1.0',\n",
       " 'datasets/Al_256_channel/Dv1.0',\n",
       " 'datasets/Al_256_new/Dmin_v1.0',\n",
       " 'datasets/Al_256_new/Dmod_v1.0',\n",
       " 'datasets/Al_256_new/Doptimal_v1.0',\n",
       " 'datasets/Al_256_new/Drnddir2_v1.0'}"
      ]
     },
     "execution_count": 1,
     "metadata": {},
     "output_type": "execute_result"
    }
   ],
   "source": [
    "traj_names"
   ]
  },
  {
   "cell_type": "markdown",
   "metadata": {},
   "source": [
    "### For the Random Trajectory\n",
    "One of the two trajectories we have is along a random path"
   ]
  },
  {
   "cell_type": "code",
   "execution_count": 8,
   "metadata": {
    "execution": {
     "iopub.execute_input": "2022-08-18T14:33:29.211368Z",
     "iopub.status.busy": "2022-08-18T14:33:29.211081Z",
     "iopub.status.idle": "2022-08-18T14:33:29.211673Z",
     "shell.execute_reply": "2022-08-18T14:33:29.211900Z"
    }
   },
   "outputs": [],
   "source": [
    "random_traj = 'datasets/256_Al/Dv1.0'"
   ]
  },
  {
   "cell_type": "code",
   "execution_count": 9,
   "metadata": {
    "execution": {
     "iopub.execute_input": "2022-08-18T14:33:29.213508Z",
     "iopub.status.busy": "2022-08-18T14:33:29.213214Z",
     "iopub.status.idle": "2022-08-18T14:33:29.214477Z",
     "shell.execute_reply": "2022-08-18T14:33:29.214706Z"
    }
   },
   "outputs": [
    {
     "data": {
      "text/plain": [
       "'datasets/256_Al/Dv1.0'"
      ]
     },
     "execution_count": 1,
     "metadata": {},
     "output_type": "execute_result"
    }
   ],
   "source": [
    "random_traj"
   ]
  },
  {
   "cell_type": "code",
   "execution_count": 10,
   "metadata": {
    "execution": {
     "iopub.execute_input": "2022-08-18T14:33:29.217599Z",
     "iopub.status.busy": "2022-08-18T14:33:29.217268Z",
     "iopub.status.idle": "2022-08-18T14:33:29.219950Z",
     "shell.execute_reply": "2022-08-18T14:33:29.219674Z"
    }
   },
   "outputs": [
    {
     "name": "stdout",
     "output_type": "stream",
     "text": [
      "Number of points: 9800\n"
     ]
    }
   ],
   "source": [
    "random_data = data[data['directory'] == random_traj].copy()\n",
    "print('Number of points:', len(random_data))"
   ]
  },
  {
   "cell_type": "markdown",
   "metadata": {},
   "source": [
    "Plot the force as a function of displacement for the beginning part of the trajectory"
   ]
  },
  {
   "cell_type": "code",
   "execution_count": 11,
   "metadata": {
    "execution": {
     "iopub.execute_input": "2022-08-18T14:33:29.222124Z",
     "iopub.status.busy": "2022-08-18T14:33:29.221854Z",
     "iopub.status.idle": "2022-08-18T14:33:29.516694Z",
     "shell.execute_reply": "2022-08-18T14:33:29.516970Z"
    }
   },
   "outputs": [
    {
     "data": {
      "text/plain": [
       "Text(0,0.5,'Force ($E_H/a_B$)')"
      ]
     },
     "execution_count": 1,
     "metadata": {},
     "output_type": "execute_result"
    },
    {
     "data": {
      "image/png": "[encoded data removed]",
      "text/plain": [
       "<Figure size 432x288 with 1 Axes>"
      ]
     },
     "metadata": {
      "needs_background": "light"
     },
     "output_type": "display_data"
    }
   ],
   "source": [
    "fig, ax = plt.subplots()\n",
    "\n",
    "ax.plot(random_data['displacement'], random_data['force'])\n",
    "ax.plot([6,6], [-100,100], 'k--')\n",
    "\n",
    "ax.set_yscale('symlog')\n",
    "\n",
    "#ax.set_xlim(0, 15)\n",
    "ax.set_ylim(-10, 10)\n",
    "\n",
    "ax.set_xlabel('Displacement ($a_B$)')\n",
    "ax.set_ylabel('Force ($E_H/a_B$)')"
   ]
  },
  {
   "cell_type": "code",
   "execution_count": 12,
   "metadata": {
    "execution": {
     "iopub.execute_input": "2022-08-18T14:33:29.519718Z",
     "iopub.status.busy": "2022-08-18T14:33:29.519394Z",
     "iopub.status.idle": "2022-08-18T14:33:29.520669Z",
     "shell.execute_reply": "2022-08-18T14:33:29.520864Z"
    }
   },
   "outputs": [
    {
     "data": {
      "text/plain": [
       "421"
      ]
     },
     "execution_count": 1,
     "metadata": {},
     "output_type": "execute_result"
    }
   ],
   "source": [
    "sum(random_data['displacement'] < 6)"
   ]
  },
  {
   "cell_type": "markdown",
   "metadata": {},
   "source": [
    "*Finding*: The choice of 6 $a_B$ by Schleife *et al* seems reasonable"
   ]
  },
  {
   "cell_type": "code",
   "execution_count": 13,
   "metadata": {
    "execution": {
     "iopub.execute_input": "2022-08-18T14:33:29.522661Z",
     "iopub.status.busy": "2022-08-18T14:33:29.522437Z",
     "iopub.status.idle": "2022-08-18T14:33:29.523621Z",
     "shell.execute_reply": "2022-08-18T14:33:29.523397Z"
    }
   },
   "outputs": [],
   "source": [
    "random_data['initial'] = random_data['displacement'] < 6"
   ]
  },
  {
   "cell_type": "code",
   "execution_count": 14,
   "metadata": {
    "execution": {
     "iopub.execute_input": "2022-08-18T14:33:29.525388Z",
     "iopub.status.busy": "2022-08-18T14:33:29.525171Z",
     "iopub.status.idle": "2022-08-18T14:33:29.526614Z",
     "shell.execute_reply": "2022-08-18T14:33:29.526388Z"
    }
   },
   "outputs": [
    {
     "name": "stdout",
     "output_type": "stream",
     "text": [
      "Total number of points: 9379\n"
     ]
    }
   ],
   "source": [
    "print('Total number of points:', np.logical_not(random_data['initial']).sum())"
   ]
  },
  {
   "cell_type": "markdown",
   "metadata": {},
   "source": [
    "## Channel Trajectory\n",
    "The other trajectory is along a channel in the FCC structure"
   ]
  },
  {
   "cell_type": "code",
   "execution_count": 15,
   "metadata": {
    "execution": {
     "iopub.execute_input": "2022-08-18T14:33:29.528154Z",
     "iopub.status.busy": "2022-08-18T14:33:29.527934Z",
     "iopub.status.idle": "2022-08-18T14:33:29.528945Z",
     "shell.execute_reply": "2022-08-18T14:33:29.529121Z"
    }
   },
   "outputs": [],
   "source": [
    "channel_traj = [x for x in traj_names if 'channel' in x][0]"
   ]
  },
  {
   "cell_type": "code",
   "execution_count": 16,
   "metadata": {
    "execution": {
     "iopub.execute_input": "2022-08-18T14:33:29.530475Z",
     "iopub.status.busy": "2022-08-18T14:33:29.530254Z",
     "iopub.status.idle": "2022-08-18T14:33:29.531686Z",
     "shell.execute_reply": "2022-08-18T14:33:29.531458Z"
    }
   },
   "outputs": [
    {
     "data": {
      "text/plain": [
       "'datasets/Al_256_channel/Dv1.0'"
      ]
     },
     "execution_count": 1,
     "metadata": {},
     "output_type": "execute_result"
    }
   ],
   "source": [
    "channel_traj"
   ]
  },
  {
   "cell_type": "code",
   "execution_count": 17,
   "metadata": {
    "execution": {
     "iopub.execute_input": "2022-08-18T14:33:29.534393Z",
     "iopub.status.busy": "2022-08-18T14:33:29.533938Z",
     "iopub.status.idle": "2022-08-18T14:33:29.535539Z",
     "shell.execute_reply": "2022-08-18T14:33:29.535715Z"
    }
   },
   "outputs": [],
   "source": [
    "channel_data = data[data['directory'] == channel_traj].copy()"
   ]
  },
  {
   "cell_type": "code",
   "execution_count": 18,
   "metadata": {
    "execution": {
     "iopub.execute_input": "2022-08-18T14:33:29.543768Z",
     "iopub.status.busy": "2022-08-18T14:33:29.542407Z",
     "iopub.status.idle": "2022-08-18T14:33:29.604520Z",
     "shell.execute_reply": "2022-08-18T14:33:29.604795Z"
    }
   },
   "outputs": [
    {
     "data": {
      "text/plain": [
       "Text(0,0.5,'Force ($E_H/a_B$)')"
      ]
     },
     "execution_count": 1,
     "metadata": {},
     "output_type": "execute_result"
    },
    {
     "data": {
      "image/png": "[encoded data removed]",
      "text/plain": [
       "<Figure size 432x288 with 1 Axes>"
      ]
     },
     "metadata": {
      "needs_background": "light"
     },
     "output_type": "display_data"
    }
   ],
   "source": [
    "fig, ax = plt.subplots()\n",
    "\n",
    "ax.plot(channel_data['displacement'], channel_data['force'])\n",
    "ax.plot([6,6], [-100,100], 'k--')\n",
    "\n",
    "ax.set_xlim(0, 20)\n",
    "ax.set_ylim(0, 0.4)\n",
    "\n",
    "ax.set_xlabel('Displacement ($a_B$)')\n",
    "ax.set_ylabel('Force ($E_H/a_B$)')"
   ]
  },
  {
   "cell_type": "markdown",
   "metadata": {},
   "source": [
    "*Finding*: The 6 $a_B$ cutoff also seems like a good choce here as well"
   ]
  },
  {
   "cell_type": "code",
   "execution_count": 19,
   "metadata": {
    "execution": {
     "iopub.execute_input": "2022-08-18T14:33:29.607388Z",
     "iopub.status.busy": "2022-08-18T14:33:29.607063Z",
     "iopub.status.idle": "2022-08-18T14:33:29.610260Z",
     "shell.execute_reply": "2022-08-18T14:33:29.609942Z"
    }
   },
   "outputs": [],
   "source": [
    "channel_data['initial'] = channel_data.eval('displacement < 6')"
   ]
  },
  {
   "cell_type": "code",
   "execution_count": 20,
   "metadata": {
    "execution": {
     "iopub.execute_input": "2022-08-18T14:33:29.612641Z",
     "iopub.status.busy": "2022-08-18T14:33:29.612321Z",
     "iopub.status.idle": "2022-08-18T14:33:29.615526Z",
     "shell.execute_reply": "2022-08-18T14:33:29.615233Z"
    }
   },
   "outputs": [
    {
     "data": {
      "text/plain": [
       "False    1579\n",
       "True      421\n",
       "Name: initial, dtype: int64"
      ]
     },
     "execution_count": 1,
     "metadata": {},
     "output_type": "execute_result"
    }
   ],
   "source": [
    "channel_data['initial'].value_counts()"
   ]
  },
  {
   "cell_type": "markdown",
   "metadata": {},
   "source": [
    "Also determine the range to average over, between the 1st and 3rd lattice spacings"
   ]
  },
  {
   "cell_type": "code",
   "execution_count": 21,
   "metadata": {
    "execution": {
     "iopub.execute_input": "2022-08-18T14:33:29.617408Z",
     "iopub.status.busy": "2022-08-18T14:33:29.617089Z",
     "iopub.status.idle": "2022-08-18T14:33:29.618396Z",
     "shell.execute_reply": "2022-08-18T14:33:29.618110Z"
    }
   },
   "outputs": [],
   "source": [
    "lat_spacing = start_frame.cell[0,0] / 4"
   ]
  },
  {
   "cell_type": "code",
   "execution_count": 22,
   "metadata": {
    "execution": {
     "iopub.execute_input": "2022-08-18T14:33:29.620284Z",
     "iopub.status.busy": "2022-08-18T14:33:29.619965Z",
     "iopub.status.idle": "2022-08-18T14:33:29.620984Z",
     "shell.execute_reply": "2022-08-18T14:33:29.621253Z"
    }
   },
   "outputs": [],
   "source": [
    "channel_data['average_range'] = False"
   ]
  },
  {
   "cell_type": "code",
   "execution_count": 23,
   "metadata": {
    "execution": {
     "iopub.execute_input": "2022-08-18T14:33:29.624543Z",
     "iopub.status.busy": "2022-08-18T14:33:29.624224Z",
     "iopub.status.idle": "2022-08-18T14:33:29.625266Z",
     "shell.execute_reply": "2022-08-18T14:33:29.625522Z"
    }
   },
   "outputs": [],
   "source": [
    "channel_data['average_range'] = channel_data.eval('displacement >= {}  and displacement <= {}'.format(lat_spacing, 3 * lat_spacing))"
   ]
  },
  {
   "cell_type": "code",
   "execution_count": 24,
   "metadata": {
    "execution": {
     "iopub.execute_input": "2022-08-18T14:33:29.627452Z",
     "iopub.status.busy": "2022-08-18T14:33:29.627126Z",
     "iopub.status.idle": "2022-08-18T14:33:29.628416Z",
     "shell.execute_reply": "2022-08-18T14:33:29.628686Z"
    }
   },
   "outputs": [
    {
     "name": "stdout",
     "output_type": "stream",
     "text": [
      "Total number of points: 1579\n"
     ]
    }
   ],
   "source": [
    "print('Total number of points:', np.logical_not(channel_data['initial']).sum())"
   ]
  },
  {
   "cell_type": "markdown",
   "metadata": {},
   "source": [
    "## Load in the New Data\n",
    "It is stored in a few different subdirectories, we want to load them in separately and index them by name. For each dataset, we'll use the a cutoff for 'initial' data of 6 $a_B$"
   ]
  },
  {
   "cell_type": "code",
   "execution_count": 25,
   "metadata": {
    "execution": {
     "iopub.execute_input": "2022-08-18T14:33:29.630426Z",
     "iopub.status.busy": "2022-08-18T14:33:29.630064Z",
     "iopub.status.idle": "2022-08-18T14:33:29.631372Z",
     "shell.execute_reply": "2022-08-18T14:33:29.631052Z"
    }
   },
   "outputs": [],
   "source": [
    "new_dirs = traj_names.difference({'datasets/256_Al/Dv1.0', 'datasets/Al_256_channel/Dv1.0'})"
   ]
  },
  {
   "cell_type": "code",
   "execution_count": 26,
   "metadata": {
    "execution": {
     "iopub.execute_input": "2022-08-18T14:33:29.635880Z",
     "iopub.status.busy": "2022-08-18T14:33:29.635557Z",
     "iopub.status.idle": "2022-08-18T14:33:29.642851Z",
     "shell.execute_reply": "2022-08-18T14:33:29.643111Z"
    }
   },
   "outputs": [],
   "source": [
    "new_data = dict((os.path.basename(d), group) for d, group in \n",
    "                data[data['directory'].apply(lambda x: x in new_dirs)].groupby('directory'))\n",
    "assert len(new_data) == 4"
   ]
  },
  {
   "cell_type": "markdown",
   "metadata": {},
   "source": [
    "Plot the new data"
   ]
  },
  {
   "cell_type": "code",
   "execution_count": 27,
   "metadata": {
    "execution": {
     "iopub.execute_input": "2022-08-18T14:33:29.658403Z",
     "iopub.status.busy": "2022-08-18T14:33:29.658070Z",
     "iopub.status.idle": "2022-08-18T14:33:30.227455Z",
     "shell.execute_reply": "2022-08-18T14:33:30.227697Z"
    }
   },
   "outputs": [
    {
     "data": {
      "image/png": "[encoded data removed]",
      "text/plain": [
       "<Figure size 432x288 with 4 Axes>"
      ]
     },
     "metadata": {
      "needs_background": "light"
     },
     "output_type": "display_data"
    }
   ],
   "source": [
    "fig, axs = plt.subplots(2, 2)\n",
    "axs = axs.flatten()\n",
    "\n",
    "for i, (ax, (d, subset)) in enumerate(zip(axs, new_data.items())):\n",
    "    ax.plot(subset['timestep'], subset['force'])\n",
    "    ax.set_yscale('symlog')\n",
    "    \n",
    "    # Make a label for the figure\n",
    "    ax.text(0, 1, d, bbox={'facecolor': 'w', 'edgecolor': 'k'},\n",
    "           transform=ax.transAxes)\n",
    "    \n",
    "    # Make axes labels\n",
    "    ax.set_xlabel('Timestep')\n",
    "    if i == 0:\n",
    "        ax.set_ylabel('Force ($E_H / a_B$)')\n",
    "            \n",
    "fig.tight_layout()"
   ]
  },
  {
   "cell_type": "markdown",
   "metadata": {},
   "source": [
    "Label the cutoff"
   ]
  },
  {
   "cell_type": "code",
   "execution_count": 28,
   "metadata": {
    "execution": {
     "iopub.execute_input": "2022-08-18T14:33:30.230740Z",
     "iopub.status.busy": "2022-08-18T14:33:30.230435Z",
     "iopub.status.idle": "2022-08-18T14:33:30.232167Z",
     "shell.execute_reply": "2022-08-18T14:33:30.231911Z"
    }
   },
   "outputs": [],
   "source": [
    "for subset in new_data.values():\n",
    "    subset['initial'] = subset['displacement'] < 6"
   ]
  },
  {
   "cell_type": "markdown",
   "metadata": {},
   "source": [
    "## Save the Results to Disk\n",
    "For easy use later"
   ]
  },
  {
   "cell_type": "code",
   "execution_count": 29,
   "metadata": {
    "execution": {
     "iopub.execute_input": "2022-08-18T14:33:30.234034Z",
     "iopub.status.busy": "2022-08-18T14:33:30.233731Z",
     "iopub.status.idle": "2022-08-18T14:33:30.234963Z",
     "shell.execute_reply": "2022-08-18T14:33:30.235203Z"
    }
   },
   "outputs": [],
   "source": [
    "if not os.path.isdir('data'):\n",
    "    os.mkdir('data')"
   ]
  },
  {
   "cell_type": "code",
   "execution_count": 30,
   "metadata": {
    "execution": {
     "iopub.execute_input": "2022-08-18T14:33:30.244428Z",
     "iopub.status.busy": "2022-08-18T14:33:30.236851Z",
     "iopub.status.idle": "2022-08-18T14:33:30.288163Z",
     "shell.execute_reply": "2022-08-18T14:33:30.287895Z"
    }
   },
   "outputs": [],
   "source": [
    "channel_data.to_pickle(os.path.join('data', 'channel_data.pkl.gz'))"
   ]
  },
  {
   "cell_type": "code",
   "execution_count": 31,
   "metadata": {
    "execution": {
     "iopub.execute_input": "2022-08-18T14:33:30.290096Z",
     "iopub.status.busy": "2022-08-18T14:33:30.289701Z",
     "iopub.status.idle": "2022-08-18T14:33:30.525946Z",
     "shell.execute_reply": "2022-08-18T14:33:30.525661Z"
    }
   },
   "outputs": [],
   "source": [
    "random_data.to_pickle(os.path.join('data', 'random_data.pkl.gz'))"
   ]
  },
  {
   "cell_type": "code",
   "execution_count": 32,
   "metadata": {
    "execution": {
     "iopub.execute_input": "2022-08-18T14:33:30.534150Z",
     "iopub.status.busy": "2022-08-18T14:33:30.527789Z",
     "iopub.status.idle": "2022-08-18T14:33:30.627687Z",
     "shell.execute_reply": "2022-08-18T14:33:30.627405Z"
    }
   },
   "outputs": [],
   "source": [
    "with open(os.path.join('data', 'new_data.pkl'), 'wb') as fp:\n",
    "    pkl.dump(new_data, fp)"
   ]
  }
 ],
 "metadata": {
  "kernelspec": {
   "display_name": "Python 3",
   "language": "python",
   "name": "python3"
  },
  "language_info": {
   "codemirror_mode": {
    "name": "ipython",
    "version": 3
   },
   "file_extension": ".py",
   "mimetype": "text/x-python",
   "name": "python",
   "nbconvert_exporter": "python",
   "pygments_lexer": "ipython3",
   "version": "3.6.8"
  }
 },
 "nbformat": 4,
 "nbformat_minor": 4
}
