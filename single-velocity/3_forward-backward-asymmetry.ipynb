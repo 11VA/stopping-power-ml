{
 "cells": [
  {
   "cell_type": "markdown",
   "metadata": {},
   "source": [
    "# Assessing Forward/Backward Asymmetry in Stopping Powers\n",
    "Our stopping power model predicts different stopping powers for particles traveling forward than those traveling backwards on some trajectories. The purpose of this notebook is to showcase why this is valid. "
   ]
  },
  {
   "cell_type": "code",
   "execution_count": 1,
   "metadata": {},
   "outputs": [],
   "source": [
    "%matplotlib inline\n",
    "from matplotlib import pyplot as plt\n",
    "from stopping_power_ml.features import LocalChargeDensity\n",
    "import pandas as pd\n",
    "import numpy as np\n",
    "import pickle as pkl\n",
    "import os"
   ]
  },
  {
   "cell_type": "markdown",
   "metadata": {},
   "source": [
    "Configure parsl"
   ]
  },
  {
   "cell_type": "code",
   "execution_count": 2,
   "metadata": {},
   "outputs": [
    {
     "name": "stdout",
     "output_type": "stream",
     "text": [
      "Parsl version :  0.5.0\n"
     ]
    },
    {
     "name": "stderr",
     "output_type": "stream",
     "text": [
      "/home/wardlt/miniconda3/lib/python3.6/site-packages/ipyparallel/client/client.py:458: RuntimeWarning:\n",
      "\n",
      "\n",
      "            Controller appears to be listening on localhost, but not on this machine.\n",
      "            If this is true, you should specify Client(...,sshserver='you@js-168-121.jetstream-cloud.org')\n",
      "            or instruct your controller to listen on an external IP.\n",
      "\n"
     ]
    }
   ],
   "source": [
    "import parsl\n",
    "from parsl import *\n",
    "#from parsl_config import config\n",
    "workers = IPyParallelExecutor()\n",
    "dfk = DataFlowKernel(executors=[workers])\n",
    "print(\"Parsl version : \", parsl.__version__)"
   ]
  },
  {
   "cell_type": "markdown",
   "metadata": {},
   "source": [
    "## Load in the Tools\n",
    "We'll need the trajectory computer, and the charge density so that we can make illustrative plots."
   ]
  },
  {
   "cell_type": "code",
   "execution_count": 3,
   "metadata": {},
   "outputs": [],
   "source": [
    "traj_computer = pkl.load(open('traj_computer.pkl', 'rb'))"
   ]
  },
  {
   "cell_type": "code",
   "execution_count": 4,
   "metadata": {},
   "outputs": [],
   "source": [
    "charge_density = pkl.load(open(os.path.join('..', 'density_interp.pkl'), 'rb'))"
   ]
  },
  {
   "cell_type": "markdown",
   "metadata": {},
   "source": [
    "## Simple Test: Channel\n",
    "Here, we have a particle traveling forward or backwards along the channel of FCC Al"
   ]
  },
  {
   "cell_type": "code",
   "execution_count": 5,
   "metadata": {},
   "outputs": [],
   "source": [
    "@App('python', dfk)\n",
    "def compute_stopping_power(starting_point, direction, traj_computer=traj_computer):\n",
    "    return traj_computer.compute_stopping_power(starting_point, direction, 1)"
   ]
  },
  {
   "cell_type": "code",
   "execution_count": 6,
   "metadata": {},
   "outputs": [],
   "source": [
    "forward = compute_stopping_power([0,0.75,0.75], [1,0,0])"
   ]
  },
  {
   "cell_type": "code",
   "execution_count": 7,
   "metadata": {},
   "outputs": [],
   "source": [
    "backward = compute_stopping_power([0,0.75,0.75], [-1,0,0])"
   ]
  },
  {
   "cell_type": "code",
   "execution_count": 8,
   "metadata": {},
   "outputs": [
    {
     "name": "stdout",
     "output_type": "stream",
     "text": [
      "CPU times: user 4 ms, sys: 4 ms, total: 8 ms\n",
      "Wall time: 530 ms\n"
     ]
    }
   ],
   "source": [
    "%%time\n",
    "forward = forward.result(); backward = backward.result()"
   ]
  },
  {
   "cell_type": "code",
   "execution_count": 9,
   "metadata": {},
   "outputs": [
    {
     "name": "stdout",
     "output_type": "stream",
     "text": [
      "Forward stopping power:  0.2343000208236084\n",
      "Backward stopping power:  0.23431760358559353\n",
      "Difference:  1.758276198512987e-05\n"
     ]
    }
   ],
   "source": [
    "print('Forward stopping power: ', forward[0])\n",
    "print('Backward stopping power: ', backward[0])\n",
    "print('Difference: ', backward[0]-forward[0])"
   ]
  },
  {
   "cell_type": "markdown",
   "metadata": {},
   "source": [
    "Consistent with my initial expectations, they are indeed the same (within numerical tolerances)."
   ]
  },
  {
   "cell_type": "markdown",
   "metadata": {},
   "source": [
    "## Asymmetry: Along an Uneven Channel\n",
    "In computing the stopping powers in the previous notebook, you will note that the shape lacks some symmetries one might expect: the particle moving in the $[4 1 1]$ direction does not equal the particle moving in the opposite, $[\\bar{4} \\bar{1} \\bar{1}]$ direction."
   ]
  },
  {
   "cell_type": "code",
   "execution_count": 10,
   "metadata": {},
   "outputs": [],
   "source": [
    "direction = np.array([4,1,1])\n",
    "starting_point = [0,0.75,0.85]"
   ]
  },
  {
   "cell_type": "code",
   "execution_count": 11,
   "metadata": {},
   "outputs": [],
   "source": [
    "forward = compute_stopping_power(starting_point, direction)"
   ]
  },
  {
   "cell_type": "code",
   "execution_count": 12,
   "metadata": {},
   "outputs": [],
   "source": [
    "backward = compute_stopping_power(starting_point, -direction)"
   ]
  },
  {
   "cell_type": "code",
   "execution_count": 13,
   "metadata": {},
   "outputs": [
    {
     "name": "stdout",
     "output_type": "stream",
     "text": [
      "CPU times: user 12 ms, sys: 8 ms, total: 20 ms\n",
      "Wall time: 10.7 s\n"
     ]
    }
   ],
   "source": [
    "%%time\n",
    "forward = forward.result(); backward = backward.result()"
   ]
  },
  {
   "cell_type": "code",
   "execution_count": 14,
   "metadata": {},
   "outputs": [
    {
     "name": "stdout",
     "output_type": "stream",
     "text": [
      "Forward stopping power:  0.2415985485738395\n",
      "Backward stopping power:  0.24233375370516488\n",
      "Difference:  0.0007352051313253838\n"
     ]
    }
   ],
   "source": [
    "print('Forward stopping power: ', forward[0])\n",
    "print('Backward stopping power: ', backward[0])\n",
    "print('Difference: ', backward[0]-forward[0])"
   ]
  },
  {
   "cell_type": "markdown",
   "metadata": {},
   "source": [
    "### Why is there an asymmetry?\n",
    "Note that here is different: the stopping powers are *unequal*. For a long while, I thought this was a bug in the stopping power code. Then, after some thought, I noticed the forward and backward trajectory are indeed different. Starting from a common reference point - where the trajectories pass closest to an atom - we can observe that the two trajectories have a unique asymmetry."
   ]
  },
  {
   "cell_type": "code",
   "execution_count": 15,
   "metadata": {},
   "outputs": [],
   "source": [
    "# Find the point of nearest pass\n",
    "forward_start = traj_computer._find_near_hits(starting_point, direction, 1)[0]\n",
    "backward_start = traj_computer._find_near_hits(starting_point, -direction, 1)[0]"
   ]
  },
  {
   "cell_type": "code",
   "execution_count": 16,
   "metadata": {},
   "outputs": [],
   "source": [
    "# Compute the features for \n",
    "@App('python', dfk)\n",
    "def compute_features(starting_point, direction, offset, n_points, traj_computer=traj_computer):\n",
    "    import numpy as np\n",
    "    import pandas as pd\n",
    "    X = np.linspace(offset, offset + 2, n_points)\n",
    "    f = traj_computer._create_model_inputs(starting_point, direction, 1)\n",
    "    features = [f(x) for x in X]\n",
    "    labels = sum([f.feature_labels() for f in traj_computer.featurizers], [])\n",
    "    return pd.DataFrame(dict(zip(labels, zip(*features))))"
   ]
  },
  {
   "cell_type": "code",
   "execution_count": 17,
   "metadata": {},
   "outputs": [],
   "source": [
    "forward = compute_features(starting_point, direction, forward_start, 51)"
   ]
  },
  {
   "cell_type": "code",
   "execution_count": 18,
   "metadata": {},
   "outputs": [],
   "source": [
    "backward = compute_features(starting_point, -direction, backward_start, 51)"
   ]
  },
  {
   "cell_type": "code",
   "execution_count": 19,
   "metadata": {},
   "outputs": [
    {
     "name": "stdout",
     "output_type": "stream",
     "text": [
      "CPU times: user 8 ms, sys: 0 ns, total: 8 ms\n",
      "Wall time: 541 ms\n"
     ]
    }
   ],
   "source": [
    "%%time\n",
    "forward = forward.result(); backward = backward.result();"
   ]
  },
  {
   "cell_type": "code",
   "execution_count": 20,
   "metadata": {},
   "outputs": [
    {
     "data": {
      "image/png": "[encoded data removed]",
      "text/plain": [
       "<Figure size 648x288 with 3 Axes>"
      ]
     },
     "metadata": {},
     "output_type": "display_data"
    }
   ],
   "source": [
    "fig, ax = plt.subplots(1, 2, sharey=True)\n",
    "\n",
    "x = np.linspace(0, 2, 51)\n",
    "feature = 'charge density at t=0.00'\n",
    "# Make the plot with both in same direction\n",
    "ax[0].plot(x, forward[feature], 'r', label='Forward')\n",
    "ax[0].plot(x, backward[feature], 'b', label='Backward')\n",
    "\n",
    "ax[0].set_xlabel('Displacement', fontsize=16)\n",
    "ax[0].set_ylabel('log($\\\\rho$)', fontsize=16)\n",
    "\n",
    "ax[0].legend()\n",
    "\n",
    "ax_top = ax[1].twiny()\n",
    "ax[1].plot(x, forward[feature], 'b', label='Backward') # Is plotted over\n",
    "ax[1].plot(x, forward[feature], 'r', label='Forward')\n",
    "ax_top.plot(x, backward[feature], 'b', label='Backward')\n",
    "\n",
    "ax[1].set_xlabel('Forward Displacement', fontsize=16)\n",
    "ax_top.set_xlabel('Backward Displacement', fontsize=16)\n",
    "\n",
    "ax_top.set_xlim(ax[1].get_xlim()[::-1])\n",
    "ax[1].legend()\n",
    "\n",
    "fig.set_size_inches(9, 4)\n",
    "fig.tight_layout()"
   ]
  },
  {
   "cell_type": "markdown",
   "metadata": {},
   "source": [
    "The above chart shows the electron charge density as a function of displacement along the trajectory. `0` is the starting point, `1` is where the pattern repeats itself, and we show two periods of this fnuction. First, as shown in the plot on the left, the forward direction has the lowest charge density just before it experiences the largest peak (when passing closest to an atom). In contrast, the backward direction experiences the lowest density immediately after the close pass to an atom. As shown in the plot on the right, the particles experience the same enviroments (the same charge density), but in reverse order. In short, the particles experience the same events in different orders and we find that this history matters."
   ]
  },
  {
   "cell_type": "code",
   "execution_count": 21,
   "metadata": {},
   "outputs": [
    {
     "data": {
      "image/png": "[encoded data removed]",
      "text/plain": [
       "<Figure size 432x305.47 with 1 Axes>"
      ]
     },
     "metadata": {},
     "output_type": "display_data"
    }
   ],
   "source": [
    "def make_trajectory_plot(ax, origin, vec1, vec2, x_dist, y_dist):\n",
    "    # Compute the normal vectors\n",
    "    unitvec1 = np.array(vec1) / np.linalg.norm(vec1)\n",
    "    unitvec2 = np.array(vec2) / np.linalg.norm(vec2)\n",
    "    \n",
    "    # Make the grid\n",
    "    x_spacing = np.linspace(0, x_dist, int(200 * x_dist / (x_dist + y_dist)))\n",
    "    y_spacing = np.linspace(0, y_dist, int(200 * y_dist / (x_dist + y_dist)))\n",
    "    xs, ys = np.meshgrid(x_spacing, y_spacing)\n",
    "    points = np.array([i * unitvec1 + j * unitvec2 + origin for i,j in zip(xs.flatten(), ys.flatten())])\n",
    "    points = (points / 4) % 1\n",
    "    \n",
    "    # Make the plots\n",
    "    pct = ax.pcolor(xs, ys, np.log(charge_density(points).reshape(xs.shape)), vmin=-3, vmax=1, cmap='Greys')\n",
    "    \n",
    "    ax.set_xticks([])\n",
    "    ax.set_yticks([])\n",
    "    return pct\n",
    "\n",
    "fig, ax = plt.subplots()\n",
    "\n",
    "make_trajectory_plot(ax, [0,0,0], [1,0,0], [0,1,1], 2, 1 * np.sqrt(2))\n",
    "ax.plot([0,2],[0.35 * np.sqrt(2), np.sqrt(2) * 0.85 ], 'r', lw=4)\n",
    "ax.plot([0,2],[0.35 * np.sqrt(2), ] * 2, 'b--')\n",
    "fig.set_size_inches(6, 3 * np.sqrt(2))"
   ]
  },
  {
   "cell_type": "markdown",
   "metadata": {},
   "source": [
    "Another view of the asymmetry. The above plot shows the path of our particle in the $(01\\bar{1})$ plane in the red, solid line. This path corresponds to one period of the function shown above. Note that a particle traveling forward (left-to-right) experiences two near passes between atoms - one closer than another - and two segments between atoms - one longer than another. It goes 'far pass'->'short distance'->'close pass'->'long distance'. The backward direction goes 'long distance'->'close pass'->'short distance'->'far pass'. The order of these events is different, which is the source of our asymmetry."
   ]
  },
  {
   "cell_type": "markdown",
   "metadata": {},
   "source": [
    "### Why was the original path symmetric?\n",
    "The blue, dashed lines shows a hypothetical particle that starts slightly off the center of the $[100]$ channel, and follows the channel direction. This particle only experiences a single close pass to an atom, the forward and backward approaches are symmetric. Therefore, the stopping powers in each direction should be the same."
   ]
  },
  {
   "cell_type": "code",
   "execution_count": 22,
   "metadata": {},
   "outputs": [],
   "source": [
    "starting_point = [0, 0.75, 0.85]\n",
    "direction = np.array([1, 0, 0])"
   ]
  },
  {
   "cell_type": "code",
   "execution_count": 23,
   "metadata": {},
   "outputs": [],
   "source": [
    "forward = compute_stopping_power(starting_point, direction)"
   ]
  },
  {
   "cell_type": "code",
   "execution_count": 24,
   "metadata": {},
   "outputs": [],
   "source": [
    "backward = compute_stopping_power(starting_point, -direction)"
   ]
  },
  {
   "cell_type": "code",
   "execution_count": 25,
   "metadata": {},
   "outputs": [
    {
     "name": "stdout",
     "output_type": "stream",
     "text": [
      "CPU times: user 8 ms, sys: 8 ms, total: 16 ms\n",
      "Wall time: 393 ms\n"
     ]
    }
   ],
   "source": [
    "%%time\n",
    "forward = forward.result(); backward = backward.result()"
   ]
  },
  {
   "cell_type": "code",
   "execution_count": 26,
   "metadata": {},
   "outputs": [
    {
     "name": "stdout",
     "output_type": "stream",
     "text": [
      "Forward stopping power:  0.23452312496256014\n",
      "Backward stopping power:  0.234540663564269\n",
      "Difference:  1.753860170886079e-05\n"
     ]
    }
   ],
   "source": [
    "print('Forward stopping power: ', forward[0])\n",
    "print('Backward stopping power: ', backward[0])\n",
    "print('Difference: ', backward[0]-forward[0])"
   ]
  },
  {
   "cell_type": "markdown",
   "metadata": {},
   "source": [
    "And they are."
   ]
  },
  {
   "cell_type": "markdown",
   "metadata": {},
   "source": [
    "#### A harder example\n",
    "In this section, we test a more complicated trajectory: the $[311]$ direction."
   ]
  },
  {
   "cell_type": "code",
   "execution_count": 27,
   "metadata": {},
   "outputs": [],
   "source": [
    "starting_point = [0, 0.75, 0.75]\n",
    "direction = np.array([3, 1, 1])"
   ]
  },
  {
   "cell_type": "code",
   "execution_count": 28,
   "metadata": {},
   "outputs": [],
   "source": [
    "forward = compute_stopping_power(starting_point, direction)"
   ]
  },
  {
   "cell_type": "code",
   "execution_count": 29,
   "metadata": {},
   "outputs": [],
   "source": [
    "backward = compute_stopping_power(starting_point, -direction)"
   ]
  },
  {
   "cell_type": "code",
   "execution_count": 30,
   "metadata": {},
   "outputs": [
    {
     "name": "stdout",
     "output_type": "stream",
     "text": [
      "CPU times: user 8 ms, sys: 4 ms, total: 12 ms\n",
      "Wall time: 11.2 s\n"
     ]
    }
   ],
   "source": [
    "%%time\n",
    "forward = forward.result(); backward = backward.result()"
   ]
  },
  {
   "cell_type": "code",
   "execution_count": 31,
   "metadata": {},
   "outputs": [
    {
     "name": "stdout",
     "output_type": "stream",
     "text": [
      "Forward stopping power:  0.24468297785955465\n",
      "Backward stopping power:  0.24472435830768746\n",
      "Difference:  4.138044813281616e-05\n"
     ]
    }
   ],
   "source": [
    "print('Forward stopping power: ', forward[0])\n",
    "print('Backward stopping power: ', backward[0])\n",
    "print('Difference: ', backward[0]-forward[0])"
   ]
  },
  {
   "cell_type": "markdown",
   "metadata": {},
   "source": [
    "As expected, the stopping powers are the same."
   ]
  },
  {
   "cell_type": "code",
   "execution_count": 32,
   "metadata": {},
   "outputs": [
    {
     "data": {
      "image/png": "[encoded data removed]",
      "text/plain": [
       "<Figure size 432x305.47 with 1 Axes>"
      ]
     },
     "metadata": {},
     "output_type": "display_data"
    }
   ],
   "source": [
    "fig, ax = plt.subplots()\n",
    "\n",
    "make_trajectory_plot(ax, [0,0,0], [1,0,0], [0,1,1], 3, 1.5 * np.sqrt(2))\n",
    "ax.plot([0,3],[0.25 * np.sqrt(2), np.sqrt(2) * 1.25 ], 'r', lw=4)\n",
    "ax.plot([0,3],[0.3 * np.sqrt(2), np.sqrt(2) * 1.3 ], 'b--')\n",
    "fig.set_size_inches(6, 3 * np.sqrt(2))"
   ]
  },
  {
   "cell_type": "markdown",
   "metadata": {},
   "source": [
    "The above plot shows one period of the $[311]$ trajectory in the solid, red line. Note that the forward and backwards directions are symmetric. If we bump the trajectory slightly up (blue, dashed line), we destroy the forward/backward symmetry (see below)."
   ]
  },
  {
   "cell_type": "code",
   "execution_count": 33,
   "metadata": {},
   "outputs": [],
   "source": [
    "starting_point = [0, 0.75, 0.8]\n",
    "direction = np.array([3, 1, 1])"
   ]
  },
  {
   "cell_type": "code",
   "execution_count": 34,
   "metadata": {},
   "outputs": [],
   "source": [
    "forward = compute_stopping_power(starting_point, direction)"
   ]
  },
  {
   "cell_type": "code",
   "execution_count": 35,
   "metadata": {},
   "outputs": [],
   "source": [
    "backward = compute_stopping_power(starting_point, -direction)"
   ]
  },
  {
   "cell_type": "code",
   "execution_count": 36,
   "metadata": {},
   "outputs": [
    {
     "name": "stdout",
     "output_type": "stream",
     "text": [
      "CPU times: user 16 ms, sys: 0 ns, total: 16 ms\n",
      "Wall time: 23.3 s\n"
     ]
    }
   ],
   "source": [
    "%%time\n",
    "forward = forward.result(); backward = backward.result()"
   ]
  },
  {
   "cell_type": "code",
   "execution_count": 37,
   "metadata": {},
   "outputs": [
    {
     "name": "stdout",
     "output_type": "stream",
     "text": [
      "Forward stopping power:  0.242485579206782\n",
      "Backward stopping power:  0.24233277544828538\n",
      "Difference:  -0.00015280375849660577\n"
     ]
    }
   ],
   "source": [
    "print('Forward stopping power: ', forward[0])\n",
    "print('Backward stopping power: ', backward[0])\n",
    "print('Difference: ', backward[0]-forward[0])"
   ]
  },
  {
   "cell_type": "markdown",
   "metadata": {},
   "source": [
    "The difference is present, but small because the perturbation from symmetrical is small."
   ]
  },
  {
   "cell_type": "code",
   "execution_count": 38,
   "metadata": {},
   "outputs": [],
   "source": []
  }
 ],
 "metadata": {
  "kernelspec": {
   "display_name": "Python 3",
   "language": "python",
   "name": "python3"
  },
  "language_info": {
   "codemirror_mode": {
    "name": "ipython",
    "version": 3
   },
   "file_extension": ".py",
   "mimetype": "text/x-python",
   "name": "python",
   "nbconvert_exporter": "python",
   "pygments_lexer": "ipython3",
   "version": "3.6.4"
  }
 },
 "nbformat": 4,
 "nbformat_minor": 2
}
