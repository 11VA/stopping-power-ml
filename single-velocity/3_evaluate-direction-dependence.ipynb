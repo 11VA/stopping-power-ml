{
 "cells": [
  {
   "cell_type": "markdown",
   "metadata": {},
   "source": [
    "# Compute Direction-Dependent Stopping Power\n",
    "Given our previously-trained model, predict the effect of projectile direction on stopping power."
   ]
  },
  {
   "cell_type": "code",
   "execution_count": 1,
   "metadata": {
    "execution": {
     "iopub.execute_input": "2022-08-18T15:11:39.087878Z",
     "iopub.status.busy": "2022-08-18T15:11:39.086659Z",
     "iopub.status.idle": "2022-08-18T15:11:39.644267Z",
     "shell.execute_reply": "2022-08-18T15:11:39.643987Z"
    }
   },
   "outputs": [],
   "source": [
    "%matplotlib inline\n",
    "import sys\n",
    "from glob import glob\n",
    "from matplotlib import pyplot as plt\n",
    "from matplotlib import cm\n",
    "from stopping_power_ml.integrator import TrajectoryIntegrator\n",
    "from stopping_power_ml.io import get_charge_density_interpolator\n",
    "from math import gcd\n",
    "from ase.io import cube\n",
    "import pandas as pd\n",
    "import pickle as pkl\n",
    "import numpy as np\n",
    "import gzip\n",
    "import itertools\n",
    "import os\n",
    "from copy import deepcopy as copy"
   ]
  },
  {
   "cell_type": "markdown",
   "metadata": {},
   "source": [
    "Set up Parsl"
   ]
  },
  {
   "cell_type": "code",
   "execution_count": 2,
   "metadata": {
    "execution": {
     "iopub.execute_input": "2022-08-18T15:11:39.646795Z",
     "iopub.status.busy": "2022-08-18T15:11:39.646553Z",
     "iopub.status.idle": "2022-08-18T15:11:40.039479Z",
     "shell.execute_reply": "2022-08-18T15:11:40.039730Z"
    }
   },
   "outputs": [],
   "source": [
    "import parsl\n",
    "from parsl.configs.htex_local import config\n",
    "#from parsl.config import Config\n",
    "from parsl.app.app import python_app\n",
    "config.executors[0].cpu_affinity = 'block'\n",
    "dfk = parsl.load(config)"
   ]
  },
  {
   "cell_type": "markdown",
   "metadata": {},
   "source": [
    "## Load in Components for Model\n",
    "Get the data, featurizers, and model"
   ]
  },
  {
   "cell_type": "code",
   "execution_count": 3,
   "metadata": {
    "execution": {
     "iopub.execute_input": "2022-08-18T15:11:40.042666Z",
     "iopub.status.busy": "2022-08-18T15:11:40.042366Z",
     "iopub.status.idle": "2022-08-18T15:11:40.051011Z",
     "shell.execute_reply": "2022-08-18T15:11:40.051248Z"
    }
   },
   "outputs": [],
   "source": [
    "channel_data = pd.read_pickle(os.path.join('data', 'channel_data.pkl.gz'))"
   ]
  },
  {
   "cell_type": "code",
   "execution_count": 4,
   "metadata": {
    "execution": {
     "iopub.execute_input": "2022-08-18T15:11:40.053374Z",
     "iopub.status.busy": "2022-08-18T15:11:40.053070Z",
     "iopub.status.idle": "2022-08-18T15:11:41.429559Z",
     "shell.execute_reply": "2022-08-18T15:11:41.429317Z"
    }
   },
   "outputs": [],
   "source": [
    "featurizers = pkl.load(open(os.path.join('..', 'featurizers.pkl'), 'rb'))"
   ]
  },
  {
   "cell_type": "code",
   "execution_count": 5,
   "metadata": {
    "execution": {
     "iopub.execute_input": "2022-08-18T15:11:41.431699Z",
     "iopub.status.busy": "2022-08-18T15:11:41.431390Z",
     "iopub.status.idle": "2022-08-18T15:11:41.483501Z",
     "shell.execute_reply": "2022-08-18T15:11:41.483215Z"
    }
   },
   "outputs": [],
   "source": [
    "model = pkl.load(open('best_model.pkl', 'rb'))"
   ]
  },
  {
   "cell_type": "code",
   "execution_count": 6,
   "metadata": {
    "execution": {
     "iopub.execute_input": "2022-08-18T15:11:41.485282Z",
     "iopub.status.busy": "2022-08-18T15:11:41.485035Z",
     "iopub.status.idle": "2022-08-18T15:11:41.486799Z",
     "shell.execute_reply": "2022-08-18T15:11:41.486595Z"
    }
   },
   "outputs": [],
   "source": [
    "start_frame = pkl.load(open(os.path.join('..', 'al_starting_frame.pkl'), 'rb'))"
   ]
  },
  {
   "cell_type": "code",
   "execution_count": 7,
   "metadata": {
    "execution": {
     "iopub.execute_input": "2022-08-18T15:11:41.488384Z",
     "iopub.status.busy": "2022-08-18T15:11:41.488139Z",
     "iopub.status.idle": "2022-08-18T15:11:41.489396Z",
     "shell.execute_reply": "2022-08-18T15:11:41.489172Z"
    }
   },
   "outputs": [],
   "source": [
    "X_cols = featurizers.feature_labels()"
   ]
  },
  {
   "cell_type": "markdown",
   "metadata": {},
   "source": [
    "Load charge density. Useful for plots"
   ]
  },
  {
   "cell_type": "code",
   "execution_count": 8,
   "metadata": {
    "execution": {
     "iopub.execute_input": "2022-08-18T15:11:41.491189Z",
     "iopub.status.busy": "2022-08-18T15:11:41.490833Z",
     "iopub.status.idle": "2022-08-18T15:11:42.059362Z",
     "shell.execute_reply": "2022-08-18T15:11:42.059046Z"
    }
   },
   "outputs": [],
   "source": [
    "density, cell = get_charge_density_interpolator(os.path.join('..', 'datasets', '256_Al', 'Al_semi_core_gs.cube'))"
   ]
  },
  {
   "cell_type": "markdown",
   "metadata": {},
   "source": [
    "## Evaluate the Model on a 'Channeling Trajectory'\n",
    "One of our datasets is of the projectile moving along a 'channel' within the Al lattice. This trajectory is where the distance where the projectile travels least near any of the Al atoms, which means it should have the lowest stopping power"
   ]
  },
  {
   "cell_type": "code",
   "execution_count": 9,
   "metadata": {
    "execution": {
     "iopub.execute_input": "2022-08-18T15:11:42.061789Z",
     "iopub.status.busy": "2022-08-18T15:11:42.061487Z",
     "iopub.status.idle": "2022-08-18T15:11:42.065401Z",
     "shell.execute_reply": "2022-08-18T15:11:42.065728Z"
    }
   },
   "outputs": [
    {
     "name": "stdout",
     "output_type": "stream",
     "text": [
      "Test set size: 2000 entries\n"
     ]
    }
   ],
   "source": [
    "print('Test set size: %d entries'%len(channel_data))"
   ]
  },
  {
   "cell_type": "markdown",
   "metadata": {},
   "source": [
    "### Plot the Force Predictions\n",
    "Compare the predicted force as a function of displacement"
   ]
  },
  {
   "cell_type": "code",
   "execution_count": 10,
   "metadata": {
    "execution": {
     "iopub.execute_input": "2022-08-18T15:11:42.067976Z",
     "iopub.status.busy": "2022-08-18T15:11:42.067671Z",
     "iopub.status.idle": "2022-08-18T15:11:42.068987Z",
     "shell.execute_reply": "2022-08-18T15:11:42.068727Z"
    }
   },
   "outputs": [],
   "source": [
    "lat_spacing = start_frame.cell[0,0] / 8"
   ]
  },
  {
   "cell_type": "code",
   "execution_count": 11,
   "metadata": {},
   "outputs": [],
   "source": [
    "channel_data['image'] = np.array(channel_data['displacement'] / lat_spacing, dtype=int)"
   ]
  },
  {
   "cell_type": "code",
   "execution_count": 12,
   "metadata": {
    "execution": {
     "iopub.execute_input": "2022-08-18T15:11:42.081266Z",
     "iopub.status.busy": "2022-08-18T15:11:42.080224Z",
     "iopub.status.idle": "2022-08-18T15:11:42.308272Z",
     "shell.execute_reply": "2022-08-18T15:11:42.308478Z"
    }
   },
   "outputs": [
    {
     "data": {
      "image/png": "[encoded data removed]",
      "text/plain": [
       "<Figure size 864x432 with 1 Axes>"
      ]
     },
     "metadata": {
      "needs_background": "light"
     },
     "output_type": "display_data"
    }
   ],
   "source": [
    "fig, ax = plt.subplots()\n",
    "\n",
    "# Plot the true result\n",
    "ax.plot(channel_data['displacement'], channel_data['force'], 'k--', label='TD-DFT', lw=2)\n",
    "\n",
    "# Plot the ML predictions\n",
    "fmean = model.predict(channel_data[X_cols])\n",
    "channel_data['ml_force'] = fmean\n",
    "# Note: The is a PR for sklearn to include ability to predict standard deviations for this model. \n",
    "#   If you'd like, we can install that development version\n",
    "#ax.fill_between(channel_data['displacement'], fmean + fstd, fmean - fstd, color='r', alpha=0.5)\n",
    "ax.plot(channel_data['displacement'], fmean, 'r-', alpha=0.7, label='ML', lw=3)\n",
    "\n",
    "# Plot the sample range\n",
    "ax.set_ylim(ax.get_ylim())\n",
    "\n",
    "for i in range(8):\n",
    "    ax.plot([lat_spacing * i, ] * 2, ax.get_ylim(), 'k--', lw=1.2)\n",
    "\n",
    "ax.legend(ncol=2, fontsize=18)\n",
    "\n",
    "ax.set_xlabel('Displacement ($a_B$)', fontsize=18)\n",
    "ax.set_ylabel('Force ($E_H / a_B$)', fontsize=18)\n",
    "\n",
    "fig.set_size_inches(12, 6)\n",
    "fig.tight_layout()"
   ]
  },
  {
   "cell_type": "markdown",
   "metadata": {},
   "source": [
    "This chart shows the force calculated via TD-DFT (black dashed line) and the predictions of the ML (red). The vertical black lines show points at which the cycle should repeat due to the periodicity of the crystal. Our ML results agree best with the simulation during the 3rd cycle, but overestimates the stopping force for the lower part of the curve."
   ]
  },
  {
   "cell_type": "markdown",
   "metadata": {},
   "source": [
    "### Add Channel to Training Set\n",
    "Do we get better performance when we add the channel data to the training set?"
   ]
  },
  {
   "cell_type": "markdown",
   "metadata": {},
   "source": [
    "Load the original training set"
   ]
  },
  {
   "cell_type": "code",
   "execution_count": 13,
   "metadata": {
    "execution": {
     "iopub.execute_input": "2022-08-18T15:11:42.310476Z",
     "iopub.status.busy": "2022-08-18T15:11:42.310234Z",
     "iopub.status.idle": "2022-08-18T15:11:42.335119Z",
     "shell.execute_reply": "2022-08-18T15:11:42.334846Z"
    }
   },
   "outputs": [],
   "source": [
    "random_traj = pd.read_pickle(os.path.join('data', 'random_data.pkl.gz'))"
   ]
  },
  {
   "cell_type": "code",
   "execution_count": 14,
   "metadata": {
    "execution": {
     "iopub.execute_input": "2022-08-18T15:11:42.337852Z",
     "iopub.status.busy": "2022-08-18T15:11:42.337562Z",
     "iopub.status.idle": "2022-08-18T15:11:42.350668Z",
     "shell.execute_reply": "2022-08-18T15:11:42.350896Z"
    }
   },
   "outputs": [
    {
     "name": "stderr",
     "output_type": "stream",
     "text": [
      "/home/lward/miniconda3/envs/ml_tddft/lib/python3.6/site-packages/ipykernel_launcher.py:2: FutureWarning:\n",
      "\n",
      "Sorting because non-concatenation axis is not aligned. A future version\n",
      "of pandas will change to not sort by default.\n",
      "\n",
      "To accept the future behavior, pass 'sort=False'.\n",
      "\n",
      "To retain the current behavior and silence the warning, pass 'sort=True'.\n",
      "\n",
      "\n"
     ]
    }
   ],
   "source": [
    "training_set = pd.concat([random_traj, \n",
    "                          channel_data.query('displacement >= %f and displacement <= %f'%(lat_spacing, lat_spacing * 3))])\\\n",
    "                .query('initial == False')"
   ]
  },
  {
   "cell_type": "code",
   "execution_count": 15,
   "metadata": {
    "execution": {
     "iopub.execute_input": "2022-08-18T15:11:42.354150Z",
     "iopub.status.busy": "2022-08-18T15:11:42.353863Z",
     "iopub.status.idle": "2022-08-18T15:11:42.355699Z",
     "shell.execute_reply": "2022-08-18T15:11:42.355900Z"
    }
   },
   "outputs": [
    {
     "data": {
      "text/plain": [
       "datasets/256_Al/Dv1.0            9379\n",
       "datasets/Al_256_channel/Dv1.0     383\n",
       "Name: directory, dtype: int64"
      ]
     },
     "execution_count": 15,
     "metadata": {},
     "output_type": "execute_result"
    }
   ],
   "source": [
    "training_set['directory'].value_counts()"
   ]
  },
  {
   "cell_type": "markdown",
   "metadata": {},
   "source": [
    "Train a new model"
   ]
  },
  {
   "cell_type": "code",
   "execution_count": 16,
   "metadata": {
    "execution": {
     "iopub.execute_input": "2022-08-18T15:11:42.357791Z",
     "iopub.status.busy": "2022-08-18T15:11:42.357561Z",
     "iopub.status.idle": "2022-08-18T15:11:42.358811Z",
     "shell.execute_reply": "2022-08-18T15:11:42.358619Z"
    }
   },
   "outputs": [],
   "source": [
    "new_model = copy(model)"
   ]
  },
  {
   "cell_type": "code",
   "execution_count": 17,
   "metadata": {
    "execution": {
     "iopub.execute_input": "2022-08-18T15:11:42.361457Z",
     "iopub.status.busy": "2022-08-18T15:11:42.361178Z",
     "iopub.status.idle": "2022-08-18T15:11:42.999007Z",
     "shell.execute_reply": "2022-08-18T15:11:42.999291Z"
    }
   },
   "outputs": [
    {
     "data": {
      "text/plain": [
       "GridSearchCV(cv=2, error_score='raise-deprecating',\n",
       "             estimator=Pipeline(memory=None,\n",
       "                                steps=[('poly',\n",
       "                                        PolynomialFeatures(degree=2,\n",
       "                                                           include_bias=False,\n",
       "                                                           interaction_only=False,\n",
       "                                                           order='C')),\n",
       "                                       ('lasso_rfe',\n",
       "                                        SelectFromModel(estimator=LassoLars(alpha=1e-10,\n",
       "                                                                            copy_X=True,\n",
       "                                                                            eps=2.220446049250313e-16,\n",
       "                                                                            fit_intercept=True,\n",
       "                                                                            fit_path=True,\n",
       "                                                                            max_iter=35,\n",
       "                                                                            normalize=True,\n",
       "                                                                            positive=Fals...\n",
       "                                        BayesianRidge(alpha_1=1e-06,\n",
       "                                                      alpha_2=1e-06,\n",
       "                                                      compute_score=False,\n",
       "                                                      copy_X=True,\n",
       "                                                      fit_intercept=True,\n",
       "                                                      lambda_1=1e-06,\n",
       "                                                      lambda_2=1e-06,\n",
       "                                                      n_iter=300,\n",
       "                                                      normalize=True, tol=0.001,\n",
       "                                                      verbose=False))],\n",
       "                                verbose=False),\n",
       "             iid='warn', n_jobs=None,\n",
       "             param_grid={'lasso_rfe__estimator__max_iter': range(40, 50)},\n",
       "             pre_dispatch='2*n_jobs', refit=True, return_train_score=False,\n",
       "             scoring=None, verbose=0)"
      ]
     },
     "execution_count": 17,
     "metadata": {},
     "output_type": "execute_result"
    }
   ],
   "source": [
    "new_model.fit(training_set[X_cols], training_set['force'])"
   ]
  },
  {
   "cell_type": "code",
   "execution_count": 18,
   "metadata": {
    "execution": {
     "iopub.execute_input": "2022-08-18T15:11:43.001024Z",
     "iopub.status.busy": "2022-08-18T15:11:43.000683Z",
     "iopub.status.idle": "2022-08-18T15:11:43.003098Z",
     "shell.execute_reply": "2022-08-18T15:11:43.003429Z"
    }
   },
   "outputs": [
    {
     "data": {
      "text/plain": [
       "{'lasso_rfe__estimator__max_iter': 48}"
      ]
     },
     "execution_count": 18,
     "metadata": {},
     "output_type": "execute_result"
    }
   ],
   "source": [
    "new_model.best_params_"
   ]
  },
  {
   "cell_type": "markdown",
   "metadata": {},
   "source": [
    "Evaluate the channel data"
   ]
  },
  {
   "cell_type": "code",
   "execution_count": 19,
   "metadata": {
    "execution": {
     "iopub.execute_input": "2022-08-18T15:11:43.004891Z",
     "iopub.status.busy": "2022-08-18T15:11:43.004553Z",
     "iopub.status.idle": "2022-08-18T15:11:43.011299Z",
     "shell.execute_reply": "2022-08-18T15:11:43.011634Z"
    }
   },
   "outputs": [],
   "source": [
    "channel_data['ml_force-new'] = new_model.predict(channel_data[X_cols])"
   ]
  },
  {
   "cell_type": "code",
   "execution_count": 20,
   "metadata": {
    "execution": {
     "iopub.execute_input": "2022-08-18T15:11:43.013213Z",
     "iopub.status.busy": "2022-08-18T15:11:43.012709Z",
     "iopub.status.idle": "2022-08-18T15:11:43.188131Z",
     "shell.execute_reply": "2022-08-18T15:11:43.188345Z"
    }
   },
   "outputs": [
    {
     "data": {
      "image/png": "[encoded data removed]",
      "text/plain": [
       "<Figure size 252x180 with 1 Axes>"
      ]
     },
     "metadata": {
      "needs_background": "light"
     },
     "output_type": "display_data"
    }
   ],
   "source": [
    "fig, ax = plt.subplots()\n",
    "\n",
    "# Plot the true result\n",
    "ax.plot(channel_data['displacement'], channel_data['force'].tolist(), 'k-', lw=2)\n",
    "\n",
    "# Plot the ML predictions\n",
    "#ax.fill_between(channel_data['displacement'], fmean + fstd, fmean - fstd, color='r', alpha=0.5)\n",
    "ax.plot(channel_data['displacement'], channel_data['ml_force'], 'r-', color='firebrick', alpha=0.7, label='Random', lw=2)\n",
    "ax.plot(channel_data['displacement'], channel_data['ml_force-new'], 'b--', color='mediumblue', alpha=0.7, label='Random+$\\\\left<100\\\\right>$', lw=2)\n",
    "\n",
    "# Plot the sample range\n",
    "ax.set_ylim(0.08, max(ax.get_ylim()))\n",
    "ax.set_xlim(1.9 * lat_spacing, 6.1*lat_spacing)\n",
    "\n",
    "for i in range(8):\n",
    "    ax.plot([lat_spacing * i, ] * 2, ax.get_ylim(), 'k:', color='gray', lw=0.8)\n",
    "\n",
    "ax.legend(ncol=2, fontsize=8, loc='lower center')#, bbox_to_anchor=(0.5, 1))\n",
    "\n",
    "ax.set_xlabel('Displacement ($a_B$)', fontsize=12)\n",
    "ax.set_ylabel('Force ($E_H / a_B$)', fontsize=12)\n",
    "\n",
    "fig.set_size_inches(3.5, 2.5)\n",
    "fig.tight_layout()\n",
    "fig.savefig(os.path.join('figures', '100_channel_predictions.png'), dpi=320)"
   ]
  },
  {
   "cell_type": "markdown",
   "metadata": {},
   "source": [
    "Adding in this training data has slight benefit to the model. It does not overestimate the stopping force on the top of the curve as significantly"
   ]
  },
  {
   "cell_type": "markdown",
   "metadata": {},
   "source": [
    "### Compare the Stopping Powers\n",
    "Compare the stopping power computed with TD-DFT for this channel, that for the random trajectory"
   ]
  },
  {
   "cell_type": "markdown",
   "metadata": {},
   "source": [
    "Compute the stopping powers"
   ]
  },
  {
   "cell_type": "code",
   "execution_count": 21,
   "metadata": {
    "execution": {
     "iopub.execute_input": "2022-08-18T15:11:43.192727Z",
     "iopub.status.busy": "2022-08-18T15:11:43.192308Z",
     "iopub.status.idle": "2022-08-18T15:11:43.197759Z",
     "shell.execute_reply": "2022-08-18T15:11:43.197979Z"
    }
   },
   "outputs": [],
   "source": [
    "channel_query = 'displacement >= %f and displacement <= %f'%(lat_spacing, 3 * lat_spacing)\n",
    "ml_stopping = channel_data.query(channel_query)['ml_force'].mean()\n",
    "ml_stopping_new = channel_data.query(channel_query)['ml_force-new'].mean()\n",
    "channel_stopping = channel_data.query(channel_query)['force'].mean()\n",
    "random_stopping = random_traj['force'].mean()"
   ]
  },
  {
   "cell_type": "code",
   "execution_count": 22,
   "metadata": {
    "execution": {
     "iopub.execute_input": "2022-08-18T15:11:43.203505Z",
     "iopub.status.busy": "2022-08-18T15:11:43.201676Z",
     "iopub.status.idle": "2022-08-18T15:11:43.260917Z",
     "shell.execute_reply": "2022-08-18T15:11:43.260649Z"
    }
   },
   "outputs": [
    {
     "data": {
      "image/png": "[encoded data removed]",
      "text/plain": [
       "<Figure size 576x432 with 1 Axes>"
      ]
     },
     "metadata": {
      "needs_background": "light"
     },
     "output_type": "display_data"
    }
   ],
   "source": [
    "fig, ax = plt.subplots()\n",
    "\n",
    "ax.bar([1,2], [ml_stopping, ml_stopping_new], color=['crimson','steelblue'])\n",
    "\n",
    "ax.plot([0,4], [random_stopping,]*2, 'k--')\n",
    "ax.text(1.5,random_stopping + 0.005, 'Random Trajectory', bbox={'facecolor':'w'}, ha='center', va='center',\n",
    "       fontsize=18, color='k')\n",
    "ax.plot([0,4], [channel_stopping,]*2, 'k--')\n",
    "ax.text(1.5, channel_stopping - 0.005, 'Channel Trajectory', bbox={'facecolor':'w'}, ha='center', va='center',\n",
    "       fontsize=18, color='k')\n",
    "\n",
    "ax.set_xlim(0.2, 2.8)\n",
    "ax.set_ylim(0.2, 0.25)\n",
    "\n",
    "ax.set_xticks([1,2])\n",
    "ax.set_xticklabels(['Previous\\nModel', 'New\\nModel'], fontsize=18)\n",
    "ax.set_ylabel('Stopping Power ($E_H / a_B$)', fontsize=18)\n",
    "\n",
    "fig.set_size_inches(8, 6)"
   ]
  },
  {
   "cell_type": "markdown",
   "metadata": {},
   "source": [
    "## Compute Direction Dependent Stopping Power\n",
    "With a projectile starting at the same position as the above trajectory, compute the stopping power if the projectile moves in different directions"
   ]
  },
  {
   "cell_type": "markdown",
   "metadata": {},
   "source": [
    "### Make Integration Tool\n",
    "The stopping power a certain trajectory is the average stopping force. In previous steps, we determined this average from many evenly-spaced timesteps. Determining the average stopping power via this method is simple to implement, but has significant disadvantages. If the force is smoothly varying, we may unwittingly sample more points than necessary to determine the average. If the function has large spikes [it does when he projectile passess near a nucleus], many samples are required to determine the average accurately. We will solve both problems by determining the average using aaptive numericla integration techniques.\n",
    "\n",
    "Specifically, we plan to use adaptive Guassian quadrature. Adaptive quadrature determines the value of an integral by sampling a samll number of specially-chosen points that, when summed with appropriate weights, yield exact integrals of polynomial functions. For example, you can determine the exact integral of a linear function over the range $[a,b]$  by computing: $(b-a)f(\\frac{a+b}{2})$. Adaptive quadrature works by iteratively increasing the number of sampling points until the change in the value of the integral is smaller than a desired threshold. Additionally, the particular implementation of this method we use further accelerates integration by intelligently splitting the integration region into separate subregions. The algorithm can then sample quickly-varying regions of th efunction more densely than slowly-varying ones. Overall, adaptive quadrature provides a simple scheme for fast and reliable estimate of stopping powers"
   ]
  },
  {
   "cell_type": "code",
   "execution_count": 23,
   "metadata": {
    "execution": {
     "iopub.execute_input": "2022-08-18T15:11:43.264058Z",
     "iopub.status.busy": "2022-08-18T15:11:43.262652Z",
     "iopub.status.idle": "2022-08-18T15:11:43.424538Z",
     "shell.execute_reply": "2022-08-18T15:11:43.424267Z"
    }
   },
   "outputs": [],
   "source": [
    "traj_computer = TrajectoryIntegrator(atoms=start_frame, model=new_model, featurizers=featurizers)"
   ]
  },
  {
   "cell_type": "markdown",
   "metadata": {},
   "source": [
    "Compute the stopping power using Quadrature"
   ]
  },
  {
   "cell_type": "code",
   "execution_count": 24,
   "metadata": {
    "execution": {
     "iopub.execute_input": "2022-08-18T15:11:43.427354Z",
     "iopub.status.busy": "2022-08-18T15:11:43.426928Z",
     "iopub.status.idle": "2022-08-18T15:11:50.333734Z",
     "shell.execute_reply": "2022-08-18T15:11:50.333934Z"
    }
   },
   "outputs": [
    {
     "name": "stdout",
     "output_type": "stream",
     "text": [
      "CPU times: user 7.32 s, sys: 9.41 s, total: 16.7 s\n",
      "Wall time: 5.09 s\n"
     ]
    }
   ],
   "source": [
    "%%time\n",
    "results = traj_computer.compute_stopping_power([0.2,0.2,0.05], [1, 1, 0], 1.0, full_output=1, hit_threshold=3.5)"
   ]
  },
  {
   "cell_type": "code",
   "execution_count": 25,
   "metadata": {
    "execution": {
     "iopub.execute_input": "2022-08-18T15:11:50.335931Z",
     "iopub.status.busy": "2022-08-18T15:11:50.335682Z",
     "iopub.status.idle": "2022-08-18T15:11:50.336969Z",
     "shell.execute_reply": "2022-08-18T15:11:50.337163Z"
    }
   },
   "outputs": [
    {
     "name": "stdout",
     "output_type": "stream",
     "text": [
      "Stopping power by quadrature: 0.2356316571101011\n"
     ]
    }
   ],
   "source": [
    "print('Stopping power by quadrature:', results[0])"
   ]
  },
  {
   "cell_type": "code",
   "execution_count": 26,
   "metadata": {
    "execution": {
     "iopub.execute_input": "2022-08-18T15:11:50.338722Z",
     "iopub.status.busy": "2022-08-18T15:11:50.338482Z",
     "iopub.status.idle": "2022-08-18T15:11:50.339909Z",
     "shell.execute_reply": "2022-08-18T15:11:50.339707Z"
    }
   },
   "outputs": [
    {
     "name": "stdout",
     "output_type": "stream",
     "text": [
      "Number of iterations: 777\n"
     ]
    }
   ],
   "source": [
    "print('Number of iterations:', results[2]['neval'])"
   ]
  },
  {
   "cell_type": "markdown",
   "metadata": {},
   "source": [
    "Compute the stopping power using standard integration"
   ]
  },
  {
   "cell_type": "code",
   "execution_count": 27,
   "metadata": {
    "execution": {
     "iopub.execute_input": "2022-08-18T15:11:50.343462Z",
     "iopub.status.busy": "2022-08-18T15:11:50.343159Z",
     "iopub.status.idle": "2022-08-18T15:11:50.981564Z",
     "shell.execute_reply": "2022-08-18T15:11:50.981355Z"
    }
   },
   "outputs": [
    {
     "name": "stdout",
     "output_type": "stream",
     "text": [
      "CPU times: user 953 ms, sys: 1.01 s, total: 1.96 s\n",
      "Wall time: 653 ms\n"
     ]
    }
   ],
   "source": [
    "%%time\n",
    "f = traj_computer._create_force_calculator([0.2,0.2,0.03], [1, 1, 0], 1.0)\n",
    "\n",
    "X = np.linspace(0, 1, 101)\n",
    "force = [f(x) for x in X]"
   ]
  },
  {
   "cell_type": "code",
   "execution_count": 28,
   "metadata": {
    "execution": {
     "iopub.execute_input": "2022-08-18T15:11:50.983225Z",
     "iopub.status.busy": "2022-08-18T15:11:50.982972Z",
     "iopub.status.idle": "2022-08-18T15:11:50.984525Z",
     "shell.execute_reply": "2022-08-18T15:11:50.984222Z"
    }
   },
   "outputs": [
    {
     "name": "stdout",
     "output_type": "stream",
     "text": [
      "Stopping power by spacing: 0.23145436216813242\n"
     ]
    }
   ],
   "source": [
    "print('Stopping power by spacing:', np.mean(force))"
   ]
  },
  {
   "cell_type": "code",
   "execution_count": 29,
   "metadata": {
    "execution": {
     "iopub.execute_input": "2022-08-18T15:11:51.136567Z",
     "iopub.status.busy": "2022-08-18T15:11:51.123503Z",
     "iopub.status.idle": "2022-08-18T15:11:51.527849Z",
     "shell.execute_reply": "2022-08-18T15:11:51.527570Z"
    }
   },
   "outputs": [
    {
     "data": {
      "image/png": "[encoded data removed]",
      "text/plain": [
       "<Figure size 252x180 with 1 Axes>"
      ]
     },
     "metadata": {
      "needs_background": "light"
     },
     "output_type": "display_data"
    }
   ],
   "source": [
    "fig, ax = plt.subplots()\n",
    "\n",
    "ax.plot(X, force, 'r', lw=2)\n",
    "\n",
    "ax.set_xlabel('Reaction Coordinate')\n",
    "ax.set_ylabel('Force ($E_H / a_B$)')\n",
    "\n",
    "ax.set_yscale('symlog')\n",
    "ax.set_ylim(ax.get_ylim())\n",
    "\n",
    "mean = np.mean(force)\n",
    "n_intervals = results[2]['last']\n",
    "for a,b in zip(results[2]['alist'][:n_intervals],\n",
    "              results[2]['blist'][:n_intervals]):\n",
    "    ax.plot([a,a], ax.get_ylim(), 'k--', alpha=0.5)\n",
    "    \n",
    "fig.set_size_inches(3.5, 2.5)\n",
    "fig.tight_layout()\n",
    "fig.savefig(os.path.join('figures', 'quad-demonstration.png'), dpi=320)"
   ]
  },
  {
   "cell_type": "markdown",
   "metadata": {},
   "source": [
    "Each of the vertical lines corresponds to a specific subinterval in the integration scheme. Note that they are packed more closely near the fast variations in the force, and less over smoothly-varying regions. "
   ]
  },
  {
   "cell_type": "code",
   "execution_count": 30,
   "metadata": {
    "execution": {
     "iopub.execute_input": "2022-08-18T15:11:51.529889Z",
     "iopub.status.busy": "2022-08-18T15:11:51.529615Z",
     "iopub.status.idle": "2022-08-18T15:11:51.571972Z",
     "shell.execute_reply": "2022-08-18T15:11:51.572191Z"
    }
   },
   "outputs": [],
   "source": [
    "pkl.dump(traj_computer, open('traj_computer.pkl', 'wb'))"
   ]
  },
  {
   "cell_type": "markdown",
   "metadata": {},
   "source": [
    "### Stopping Power Moving out of Channel\n",
    "This simulation models what happens if we gradually move the particle out of the [1 0 0] channel. The stopping power should gradually increase, as the particle is passing closer to the atom cores."
   ]
  },
  {
   "cell_type": "code",
   "execution_count": 31,
   "metadata": {
    "execution": {
     "iopub.execute_input": "2022-08-18T15:11:51.575011Z",
     "iopub.status.busy": "2022-08-18T15:11:51.574660Z",
     "iopub.status.idle": "2022-08-18T15:11:51.577907Z",
     "shell.execute_reply": "2022-08-18T15:11:51.578118Z"
    }
   },
   "outputs": [],
   "source": [
    "@python_app\n",
    "def get_stopping_power(starting_point, traj_computer):\n",
    "    return traj_computer.compute_stopping_power(starting_point, [1, 0, 0], 1.0, abserr=0.0001, full_output=1)"
   ]
  },
  {
   "cell_type": "markdown",
   "metadata": {},
   "source": [
    "Compute stopping power using adaptive integration"
   ]
  },
  {
   "cell_type": "code",
   "execution_count": 32,
   "metadata": {
    "execution": {
     "iopub.execute_input": "2022-08-18T15:11:51.579955Z",
     "iopub.status.busy": "2022-08-18T15:11:51.579691Z",
     "iopub.status.idle": "2022-08-18T15:11:51.581031Z",
     "shell.execute_reply": "2022-08-18T15:11:51.580770Z"
    }
   },
   "outputs": [],
   "source": [
    "disps = np.linspace(0.7, 1.05, 22)"
   ]
  },
  {
   "cell_type": "code",
   "execution_count": 33,
   "metadata": {
    "execution": {
     "iopub.execute_input": "2022-08-18T15:11:51.602757Z",
     "iopub.status.busy": "2022-08-18T15:11:51.582916Z",
     "iopub.status.idle": "2022-08-18T15:11:55.144888Z",
     "shell.execute_reply": "2022-08-18T15:11:55.145349Z"
    }
   },
   "outputs": [],
   "source": [
    "stopping_power_results = [get_stopping_power([0, 0.75, d], traj_computer) for d in disps]"
   ]
  },
  {
   "cell_type": "code",
   "execution_count": 34,
   "metadata": {
    "execution": {
     "iopub.execute_input": "2022-08-18T15:11:55.160018Z",
     "iopub.status.busy": "2022-08-18T15:11:55.159088Z",
     "iopub.status.idle": "2022-08-18T15:11:59.502172Z",
     "shell.execute_reply": "2022-08-18T15:11:59.502571Z"
    },
    "scrolled": true
   },
   "outputs": [
    {
     "name": "stdout",
     "output_type": "stream",
     "text": [
      "CPU times: user 12.6 ms, sys: 22.5 ms, total: 35.1 ms\n",
      "Wall time: 4.84 s\n"
     ]
    }
   ],
   "source": [
    "%%time\n",
    "stopping_power_results = [s.result() for s in stopping_power_results]"
   ]
  },
  {
   "cell_type": "markdown",
   "metadata": {},
   "source": [
    "Plot the stopping power value and number of steps"
   ]
  },
  {
   "cell_type": "code",
   "execution_count": 35,
   "metadata": {
    "execution": {
     "iopub.execute_input": "2022-08-18T15:11:59.506656Z",
     "iopub.status.busy": "2022-08-18T15:11:59.506264Z",
     "iopub.status.idle": "2022-08-18T15:11:59.507749Z",
     "shell.execute_reply": "2022-08-18T15:11:59.507397Z"
    }
   },
   "outputs": [],
   "source": [
    "stopping_power = [s[0] for s in stopping_power_results]\n",
    "stopping_power_err = [s[1] for s in stopping_power_results]"
   ]
  },
  {
   "cell_type": "code",
   "execution_count": 36,
   "metadata": {
    "execution": {
     "iopub.execute_input": "2022-08-18T15:11:59.517845Z",
     "iopub.status.busy": "2022-08-18T15:11:59.516141Z",
     "iopub.status.idle": "2022-08-18T15:11:59.661912Z",
     "shell.execute_reply": "2022-08-18T15:11:59.662120Z"
    }
   },
   "outputs": [
    {
     "data": {
      "image/png": "[encoded data removed]",
      "text/plain": [
       "<Figure size 252x180 with 1 Axes>"
      ]
     },
     "metadata": {
      "needs_background": "light"
     },
     "output_type": "display_data"
    }
   ],
   "source": [
    "fig, ax = plt.subplots()\n",
    "\n",
    "ax.plot(disps, stopping_power, lw=2)\n",
    "\n",
    "ylim = ax.get_ylim()\n",
    "\n",
    "ax.annotate('Center of\\nChannel', xytext=(0.9, ylim[0] + 0.2 * (ylim[1] - ylim[0])),\n",
    "            xy=(0.75, min(stopping_power)), va='center',\n",
    "            bbox={'facecolor': 'w', 'edgecolor': 'w'},\n",
    "            fontsize=12, arrowprops={'color':'k', 'width':1.5, 'headwidth':4})\n",
    "\n",
    "ax.set_ylim(ylim)\n",
    "\n",
    "ax.plot([1,1], ax.get_ylim(), 'k--')\n",
    "ax.annotate('(001) Plane',\n",
    "            xytext=(0.7, ylim[0] + 0.8 * (ylim[1] - ylim[0])),\n",
    "            xy=(1, ylim[0] + 0.8 * (ylim[1] - ylim[0])),\n",
    "            fontsize=12, arrowprops={'color':'k', 'width':1.5, 'headwidth':4})\n",
    "\n",
    "ax.set_xlabel('z Coordinate, fractional', fontsize=12)\n",
    "ax.set_ylabel('Stopping Power ($E_H / a_B$)', fontsize=12)\n",
    "\n",
    "fig.set_size_inches(3.5, 2.5)\n",
    "fig.tight_layout()\n",
    "fig.savefig(os.path.join('figures', 'moving-out-of-channel.png'), dpi=320)"
   ]
  },
  {
   "cell_type": "markdown",
   "metadata": {},
   "source": [
    "Print the number of evaluations"
   ]
  },
  {
   "cell_type": "code",
   "execution_count": 37,
   "metadata": {
    "execution": {
     "iopub.execute_input": "2022-08-18T15:11:59.663915Z",
     "iopub.status.busy": "2022-08-18T15:11:59.663677Z",
     "iopub.status.idle": "2022-08-18T15:11:59.664920Z",
     "shell.execute_reply": "2022-08-18T15:11:59.664721Z"
    }
   },
   "outputs": [],
   "source": [
    "neval = [x[2]['neval'] for x in stopping_power_results]"
   ]
  },
  {
   "cell_type": "code",
   "execution_count": 38,
   "metadata": {
    "execution": {
     "iopub.execute_input": "2022-08-18T15:11:59.667170Z",
     "iopub.status.busy": "2022-08-18T15:11:59.666870Z",
     "iopub.status.idle": "2022-08-18T15:11:59.668543Z",
     "shell.execute_reply": "2022-08-18T15:11:59.668327Z"
    }
   },
   "outputs": [
    {
     "name": "stdout",
     "output_type": "stream",
     "text": [
      "Average number of evaluations: 99.27272727272727\n",
      "Minimum number of evaluations: 21\n",
      "Maximum number of evaluations: 315\n"
     ]
    }
   ],
   "source": [
    "print('Average number of evaluations:', np.mean(neval))\n",
    "print('Minimum number of evaluations:', np.min(neval))\n",
    "print('Maximum number of evaluations:', np.max(neval))"
   ]
  },
  {
   "cell_type": "markdown",
   "metadata": {},
   "source": [
    "This chart shows the stopping power as the trajectory moves from the center of the channel to the top of the channel. The stopping power is lowest in the center of the channel and highest at the top (which is along the [100] plane). "
   ]
  },
  {
   "cell_type": "code",
   "execution_count": 39,
   "metadata": {
    "execution": {
     "iopub.execute_input": "2022-08-18T15:11:59.689287Z",
     "iopub.status.busy": "2022-08-18T15:11:59.688982Z",
     "iopub.status.idle": "2022-08-18T15:12:00.561578Z",
     "shell.execute_reply": "2022-08-18T15:12:00.561804Z"
    }
   },
   "outputs": [
    {
     "data": {
      "image/png": "[encoded data removed]",
      "text/plain": [
       "<Figure size 864x288 with 3 Axes>"
      ]
     },
     "metadata": {},
     "output_type": "display_data"
    }
   ],
   "source": [
    "fig, ax = plt.subplots(1,3)\n",
    "def make_trajectory_plot(ax, center, vec1, vec2, dist=0.4, res=128):\n",
    "    # Compute the normal vectors\n",
    "    vec1 = np.array(vec1) / np.linalg.norm(vec1)\n",
    "    vec2 = np.array(vec2) / np.linalg.norm(vec2)\n",
    "    \n",
    "    # Make the grid\n",
    "    spacings = np.linspace(-dist, dist, res)\n",
    "    xs, ys = np.meshgrid(spacings, spacings)\n",
    "    points = np.array([i * vec1 + j * vec2 + center for i,j in zip(xs.flatten(), ys.flatten())])\n",
    "    points = points % 1\n",
    "    \n",
    "    # Make the plots\n",
    "    pct = ax.pcolor(xs, ys, np.log(density(points).reshape(xs.shape)), vmin=-3, vmax=1, cmap='Greys')\n",
    "    \n",
    "    ax.set_xticks([])\n",
    "    ax.set_yticks([])\n",
    "    return pct\n",
    "\n",
    "make_trajectory_plot(ax[0], [0,0.75/4,0.75/4], [1,0,0], [0,1,1])\n",
    "ax[0].annotate('', xy=(1,0.5), xytext=(0,0.5), xycoords='axes fraction',\n",
    "               textcoords='axes fraction', arrowprops=dict(color='b'))\n",
    "\n",
    "make_trajectory_plot(ax[1], [0,0,0], [1,0,0], [0,1,0])\n",
    "ax[1].set_xlim(ax[1].get_xlim())\n",
    "ax[1].set_ylim(ax[1].get_ylim())\n",
    "ax[1].plot([-1,1],[-1,1],'b--')\n",
    "ax[1].scatter([0.75/4,], [0.75/4,], color='b', s=100, marker='x', lw=4)\n",
    "ax[1].plot([-1,1],[0.25,0.25],'r--')\n",
    "ax[1].scatter([0.75/4,], [1./4,], color='r', s=100, marker='x', lw=4)\n",
    "\n",
    "make_trajectory_plot(ax[2], [0,0.75/4,1./4], [1,0,0], [0,1,0])\n",
    "ax[2].annotate('', xy=(1,0.5), xytext=(0,0.5), xycoords='axes fraction',\n",
    "               textcoords='axes fraction', arrowprops=dict(color='r'))\n",
    "\n",
    "\n",
    "ax[0].text(0.6, 0.9, 'Channel', transform=ax[0].transAxes, ha='center',\n",
    "           bbox={'facecolor':'w', 'edgecolor':'k'}, fontsize=18)\n",
    "ax[2].text(0.6, 0.9, '[100] Plane', transform=ax[2].transAxes, ha='center',\n",
    "           bbox={'facecolor':'w', 'edgecolor':'k'}, fontsize=18)\n",
    "\n",
    "fig.set_size_inches(12, 4)"
   ]
  },
  {
   "cell_type": "markdown",
   "metadata": {},
   "source": [
    "These charts are all plots of the electron density of Aluminum. The center chart shows the locations of the channel trajectory (blue) and the out of channel (red). The channel trajectory passes down a direction that is optimally far from other atoms, as shown in the figure on the right that shows the slice of the 3d space where the projectile passes closest to atoms. Note that the channel trajectory projectile stays consistently farther from atoms than the channel trajectory (right)."
   ]
  },
  {
   "cell_type": "markdown",
   "metadata": {},
   "source": [
    "### Stopping Power, Rotating In Plane\n",
    "Now, we keep the same starting position but rotate the direction of travel. Specifically, we choose the [100] and [011] directions which should sample a wide variety of behavior"
   ]
  },
  {
   "cell_type": "code",
   "execution_count": 40,
   "metadata": {
    "execution": {
     "iopub.execute_input": "2022-08-18T15:12:00.567226Z",
     "iopub.status.busy": "2022-08-18T15:12:00.566912Z",
     "iopub.status.idle": "2022-08-18T15:12:00.568952Z",
     "shell.execute_reply": "2022-08-18T15:12:00.569146Z"
    }
   },
   "outputs": [
    {
     "name": "stdout",
     "output_type": "stream",
     "text": [
      "Generated 40 directions\n"
     ]
    }
   ],
   "source": [
    "def generate_directions(max_length=4, vector1=[1,0,0], vector2=[0,1,1]):\n",
    "    \"\"\"Generate lattice vectors directions to evaluate. Rotating in the xy-plane\n",
    "    \n",
    "    :param max_length: int, maximum length of the lattice vector\n",
    "    :return: \n",
    "        -[tuple of ints], lattice vectors to scan, sorted by angle\n",
    "        -[float], angles with respect to [100]\"\"\"\n",
    "    \n",
    "    # Make the list of directions\n",
    "    dirs = set()\n",
    "    def add_pair(i, j):\n",
    "        d = gcd(i,j)\n",
    "        dirs.add(tuple([int(a*i/d+b*j/d) for a,b in zip(vector1, vector2)]))\n",
    "    for i in range(0, max_length+1): # Iterate up from zero to start with shorter paths ([100] vs [500])\n",
    "        for j in range(0, max_length-i+1):\n",
    "            if i == 0 and j == 0: continue\n",
    "            for x,y in itertools.product([i,-i],[j,-j]):\n",
    "                add_pair(x,y)\n",
    "    \n",
    "    # Compute the angles\n",
    "    angles = [np.arctan2(np.dot(vector2,d)/np.linalg.norm(vector2),\n",
    "                         np.dot(vector1,d)/np.linalg.norm(vector1)) for d in dirs]\n",
    "    return zip(*sorted(zip(dirs,angles), key=lambda x: x[1]))\n",
    "dirs, angles = generate_directions(5)\n",
    "print('Generated {} directions'.format(len(dirs)))"
   ]
  },
  {
   "cell_type": "code",
   "execution_count": 41,
   "metadata": {
    "execution": {
     "iopub.execute_input": "2022-08-18T15:12:00.571250Z",
     "iopub.status.busy": "2022-08-18T15:12:00.570999Z",
     "iopub.status.idle": "2022-08-18T15:12:00.572043Z",
     "shell.execute_reply": "2022-08-18T15:12:00.572240Z"
    }
   },
   "outputs": [],
   "source": [
    "@python_app\n",
    "def get_stopping_power(lattice_vector, traj_computer):\n",
    "    return traj_computer.compute_stopping_power([0,0.75,0.85], lattice_vector, 1.0, abserr=0.0001,\n",
    "                                                hit_threshold=2.5, full_output=1)"
   ]
  },
  {
   "cell_type": "code",
   "execution_count": 42,
   "metadata": {
    "execution": {
     "iopub.execute_input": "2022-08-18T15:12:00.617062Z",
     "iopub.status.busy": "2022-08-18T15:12:00.595011Z",
     "iopub.status.idle": "2022-08-18T15:12:05.794860Z",
     "shell.execute_reply": "2022-08-18T15:12:05.795263Z"
    }
   },
   "outputs": [
    {
     "name": "stdout",
     "output_type": "stream",
     "text": [
      "CPU times: user 1.92 s, sys: 4.12 s, total: 6.04 s\n",
      "Wall time: 6.73 s\n"
     ]
    }
   ],
   "source": [
    "%%time\n",
    "stopping_power_results = []\n",
    "for d in dirs:\n",
    "    stopping_power_results.append(get_stopping_power(d, traj_computer))"
   ]
  },
  {
   "cell_type": "code",
   "execution_count": null,
   "metadata": {
    "execution": {
     "iopub.execute_input": "2022-08-18T15:12:05.800102Z",
     "iopub.status.busy": "2022-08-18T15:12:05.799630Z",
     "iopub.status.idle": "2022-08-18T15:13:21.766890Z",
     "shell.execute_reply": "2022-08-18T15:13:21.767139Z"
    }
   },
   "outputs": [],
   "source": [
    "%%time\n",
    "stopping_power_results = [s.result() for s in stopping_power_results]"
   ]
  },
  {
   "cell_type": "code",
   "execution_count": null,
   "metadata": {
    "execution": {
     "iopub.execute_input": "2022-08-18T15:13:21.771977Z",
     "iopub.status.busy": "2022-08-18T15:13:21.771682Z",
     "iopub.status.idle": "2022-08-18T15:13:21.784086Z",
     "shell.execute_reply": "2022-08-18T15:13:21.783818Z"
    }
   },
   "outputs": [],
   "source": [
    "pkl.dump(stopping_power_results, open('stopping_power_results.pkl', 'wb'))"
   ]
  },
  {
   "cell_type": "code",
   "execution_count": null,
   "metadata": {
    "execution": {
     "iopub.execute_input": "2022-08-18T15:13:21.787699Z",
     "iopub.status.busy": "2022-08-18T15:13:21.787438Z",
     "iopub.status.idle": "2022-08-18T15:13:21.789029Z",
     "shell.execute_reply": "2022-08-18T15:13:21.788681Z"
    }
   },
   "outputs": [],
   "source": [
    "stopping_power = [s[0] for s in stopping_power_results]"
   ]
  },
  {
   "cell_type": "code",
   "execution_count": null,
   "metadata": {
    "execution": {
     "iopub.execute_input": "2022-08-18T15:13:21.810373Z",
     "iopub.status.busy": "2022-08-18T15:13:21.805565Z",
     "iopub.status.idle": "2022-08-18T15:13:21.983014Z",
     "shell.execute_reply": "2022-08-18T15:13:21.983271Z"
    },
    "scrolled": true
   },
   "outputs": [],
   "source": [
    "ax = plt.subplot(111, projection='polar')\n",
    "fig = plt.gcf()\n",
    "\n",
    "ax.plot(angles + angles[:1], stopping_power + stopping_power[:1], marker='o')\n",
    "\n",
    "# Plot the 'channel value'\n",
    "ax.plot(np.linspace(0, 2*np.pi, 100), [random_stopping,]*100, 'k--')\n",
    "ax.set_rmax(0.247)\n",
    "ax.set_rmin(0.22)#min(stopping_power) * 0.99)\n",
    "ax.set_rgrids([0.22, 0.23, 0.24])\n",
    "\n",
    "ax.set_thetagrids(range(0, 360, 45),\n",
    "                       labels=['[100]', '', '[011]', '', '[$\\\\bar1$00]', '', '[0$\\\\bar1\\\\bar1$]'])\n",
    "\n",
    "fig.set_size_inches(4, 4)\n",
    "fig.savefig(os.path.join('figures', 'rotation-in-110-plane.png'), dpi=320)"
   ]
  },
  {
   "cell_type": "markdown",
   "metadata": {},
   "source": [
    "The above plot shows the stopping power as a function of angle where 0 is the channel direction [100] and 90 is a direction that nearly interects atoms [011]. As expected, there is significant variation of the stopping power depending on direction. We find the near lowest stopping powers at 0 degrees, which aligns in the channel direction where the projectile it does not incercept any atoms, as shown in the red line below. The highest stopping powers are along the 90 and 270 degree angles, which nearly intercept many atoms along the path (cyan). Interestingly, we find exceptionally low stopping powers along directions besides the [100] channel (purple). If true, this is a neat finding. If not, it indicates a region where we could add data to our model and to improve its accuracy."
   ]
  },
  {
   "cell_type": "code",
   "execution_count": null,
   "metadata": {
    "execution": {
     "iopub.execute_input": "2022-08-18T15:13:22.000132Z",
     "iopub.status.busy": "2022-08-18T15:13:21.990006Z",
     "iopub.status.idle": "2022-08-18T15:13:22.030927Z",
     "shell.execute_reply": "2022-08-18T15:13:22.030631Z"
    }
   },
   "outputs": [],
   "source": [
    "direction_stopping = pd.DataFrame({'angle':angles, 'S': stopping_power, 'dir': dirs})"
   ]
  },
  {
   "cell_type": "code",
   "execution_count": null,
   "metadata": {
    "execution": {
     "iopub.execute_input": "2022-08-18T15:13:22.041612Z",
     "iopub.status.busy": "2022-08-18T15:13:22.040081Z",
     "iopub.status.idle": "2022-08-18T15:13:22.048121Z",
     "shell.execute_reply": "2022-08-18T15:13:22.047834Z"
    }
   },
   "outputs": [],
   "source": [
    "direction_stopping.to_pickle('direction_stopping.pkl')"
   ]
  },
  {
   "cell_type": "code",
   "execution_count": null,
   "metadata": {
    "execution": {
     "iopub.execute_input": "2022-08-18T15:13:22.070433Z",
     "iopub.status.busy": "2022-08-18T15:13:22.065330Z",
     "iopub.status.idle": "2022-08-18T15:13:22.123921Z",
     "shell.execute_reply": "2022-08-18T15:13:22.123628Z"
    }
   },
   "outputs": [],
   "source": [
    "min_angle = direction_stopping.sort_values(['S','angle'], ascending=True).iloc[0]\n",
    "max_angle = direction_stopping.sort_values(['S','angle'], ascending=False).iloc[0]\n",
    "channel_angle = direction_stopping[direction_stopping['dir'] == (1, 0, 0)].iloc[0]"
   ]
  },
  {
   "cell_type": "code",
   "execution_count": null,
   "metadata": {
    "execution": {
     "iopub.execute_input": "2022-08-18T15:13:22.137794Z",
     "iopub.status.busy": "2022-08-18T15:13:22.130875Z",
     "iopub.status.idle": "2022-08-18T15:13:22.140550Z",
     "shell.execute_reply": "2022-08-18T15:13:22.140794Z"
    }
   },
   "outputs": [],
   "source": [
    "min_angle, max_angle"
   ]
  },
  {
   "cell_type": "code",
   "execution_count": null,
   "metadata": {
    "execution": {
     "iopub.execute_input": "2022-08-18T15:13:22.153651Z",
     "iopub.status.busy": "2022-08-18T15:13:22.150008Z",
     "iopub.status.idle": "2022-08-18T15:13:24.356980Z",
     "shell.execute_reply": "2022-08-18T15:13:24.357243Z"
    }
   },
   "outputs": [],
   "source": [
    "fig, ax = plt.subplots()\n",
    "\n",
    "min_angle_dir = 0.5 + 0.4 * np.array((np.cos(min_angle['angle']), np.sin(min_angle['angle'])))\n",
    "max_angle_dir = 0.5 + 0.4 * np.array((np.cos(max_angle['angle']), np.sin(max_angle['angle'])))\n",
    "\n",
    "make_trajectory_plot(ax, [0,0.75/4,0.85/4], [1,0,0], [0,1,1], 0.6)\n",
    "ax.annotate('', xy=(1,0.5), xytext=(0.5,0.5), xycoords='axes fraction',\n",
    "            textcoords='axes fraction', arrowprops=dict(color='r'))\n",
    "ax.text(0.75, 0.55, 'Channel', color='r', transform=ax.transAxes,\n",
    "       fontsize=18, ha='center', va='center', bbox={'facecolor':'w', 'edgecolor':'red'})\n",
    "ax.annotate('', xy=max_angle_dir, xytext=(0.5,0.5), xycoords='axes fraction',\n",
    "            textcoords='axes fraction', arrowprops=dict(color='blue'))\n",
    "ax.text(max_angle_dir[0] + 0.05, max_angle_dir[1], 'Maximum', color='blue', transform=ax.transAxes,\n",
    "       fontsize=18, va='center', ha='left', bbox={'facecolor':'w', 'edgecolor':'blue'})\n",
    "ax.annotate('', xy=min_angle_dir, xytext=(0.5,0.5), xycoords='axes fraction',\n",
    "            textcoords='axes fraction', arrowprops=dict(color='purple'))\n",
    "ax.text(min_angle_dir[0] - 0.1, min_angle_dir[1], 'Minimum', color='purple', transform=ax.transAxes,\n",
    "       fontsize=18, va='center', ha='right', bbox={'facecolor':'w', 'edgecolor':'purple'})\n",
    "\n",
    "fig.set_size_inches(6, 6)\n",
    "fig.tight_layout()\n",
    "fig.savefig(os.path.join('figures', 'rotation-110-density-plot.png'), dpi=320)"
   ]
  },
  {
   "cell_type": "markdown",
   "metadata": {},
   "source": [
    "Experiencing problems with this figure, but we're not presently using it in the paper. "
   ]
  },
  {
   "cell_type": "code",
   "execution_count": null,
   "metadata": {
    "execution": {
     "iopub.execute_input": "2022-08-18T15:13:24.359506Z",
     "iopub.status.busy": "2022-08-18T15:13:24.359187Z",
     "iopub.status.idle": "2022-08-18T15:13:24.360659Z",
     "shell.execute_reply": "2022-08-18T15:13:24.360400Z"
    }
   },
   "outputs": [],
   "source": [
    "# fig = plt.figure()\n",
    "# fig.set_size_inches(2.5, 2.5)\n",
    "# buffer = 0.12\n",
    "# rect = [buffer]*2 + [1-buffer*2]*2\n",
    "# min_r = 0.21\n",
    "\n",
    "# # Plot the desnity in the backgronud\n",
    "# cart_ax = fig.add_axes(rect)\n",
    "# make_trajectory_plot(cart_ax, [0,0.75/4,0.85/4], [1,0,0], [0,1,1], 0.5)\n",
    "\n",
    "# # Make the polar plot of the stopping powers\n",
    "# ax_polar = fig.add_axes(rect, polar=True, facecolor='none')\n",
    "# ax_polar.spines['polar'].set_color('none')\n",
    "\n",
    "# # Add the arrows in each direction\n",
    "# ax_polar.annotate('', xy=(0,0.245), xytext=(0,min_r), arrowprops=dict(color='crimson'), zorder=-1)\n",
    "# #ax_polar.annotate('', xy=(max_angle['angle'], max_angle['S']), xytext=(max_angle['angle'], 0.2), arrowprops=dict(color='blue'))\n",
    "# #ax_polar.annotate('', xy=(min_angle['angle'], min_angle['S']), xytext=(min_angle['angle'], 0.2), arrowprops=dict(color='purple'))\n",
    "\n",
    "# # Add the annontations last, so they sit on top\n",
    "# ax_polar.text(0, 0.205, 'Channel', color='crimson', fontsize=10,\n",
    "#               ha='left', va='center', bbox={'facecolor':'w', 'edgecolor':'crimson'})\n",
    "\n",
    "# # Plot the data over it\n",
    "# ax_polar.plot(angles + angles[:1], stopping_power + stopping_power[:1], marker='o')\n",
    "\n",
    "# # Plot the maximum and minimum\n",
    "# ax_polar.plot(np.linspace(0, 2*np.pi, 100), [min(stopping_power),]*100, '--', color='gray')\n",
    "# ax_polar.plot(np.linspace(0, 2*np.pi, 100), [max(stopping_power),]*100, ':', color='gray')\n",
    "# ax_polar.set_rmax(0.25)\n",
    "# ax_polar.set_rmin(min_r)#min(stopping_power) * 0.99)\n",
    "# ax_polar.set_rticks([])\n",
    "# ax_polar.set_thetagrids(range(0, 360, 90),\n",
    "#                        labels=['[100]', '[011]', '[$\\\\bar1$00]', '[0$\\\\bar1\\\\bar1$]'])\n",
    "\n",
    "# fig.savefig(os.path.join('figures', 'rotate-in-plane-with-background.png'), dpi=320)"
   ]
  },
  {
   "cell_type": "code",
   "execution_count": null,
   "metadata": {},
   "outputs": [],
   "source": []
  }
 ],
 "metadata": {
  "kernelspec": {
   "display_name": "Python 3",
   "language": "python",
   "name": "python3"
  },
  "language_info": {
   "codemirror_mode": {
    "name": "ipython",
    "version": 3
   },
   "file_extension": ".py",
   "mimetype": "text/x-python",
   "name": "python",
   "nbconvert_exporter": "python",
   "pygments_lexer": "ipython3",
   "version": "3.6.8"
  }
 },
 "nbformat": 4,
 "nbformat_minor": 4
}
