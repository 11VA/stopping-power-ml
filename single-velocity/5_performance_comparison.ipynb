{
 "cells": [
  {
   "cell_type": "markdown",
   "metadata": {},
   "source": [
    "# Evaluate Model Performance\n",
    "We want to compare the speed of the model to that of TD-DFT"
   ]
  },
  {
   "cell_type": "code",
   "execution_count": 1,
   "metadata": {},
   "outputs": [],
   "source": [
    "%matplotlib inline\n",
    "from matplotlib import pyplot as plt\n",
    "from glob import glob\n",
    "import pickle as pkl\n",
    "import pandas as pd\n",
    "import numpy as np\n",
    "import time\n",
    "import os\n",
    "import re"
   ]
  },
  {
   "cell_type": "markdown",
   "metadata": {},
   "source": [
    "Things to change"
   ]
  },
  {
   "cell_type": "code",
   "execution_count": 2,
   "metadata": {},
   "outputs": [],
   "source": [
    "traj_path = os.path.join('..', 'datasets', '256_Al', 'Dv1.0')"
   ]
  },
  {
   "cell_type": "markdown",
   "metadata": {},
   "source": [
    "## Read in Files\n",
    "We need the random trajectory data, and the trajectory computer"
   ]
  },
  {
   "cell_type": "code",
   "execution_count": 3,
   "metadata": {},
   "outputs": [],
   "source": [
    "random_traj = pd.read_pickle(os.path.join('data', 'random_data.pkl.gz'))"
   ]
  },
  {
   "cell_type": "code",
   "execution_count": 4,
   "metadata": {},
   "outputs": [],
   "source": [
    "channel_traj = pd.read_pickle(os.path.join('data', 'channel_data.pkl.gz'))"
   ]
  },
  {
   "cell_type": "code",
   "execution_count": 5,
   "metadata": {},
   "outputs": [],
   "source": [
    "traj_computer = pkl.load(open('traj_computer.pkl', 'rb'))"
   ]
  },
  {
   "cell_type": "markdown",
   "metadata": {},
   "source": [
    "## Get the performance of TD-DFT\n",
    "Get the time per iteration of TD-DFT for the random trajectory"
   ]
  },
  {
   "cell_type": "code",
   "execution_count": 6,
   "metadata": {},
   "outputs": [
    {
     "name": "stdout",
     "output_type": "stream",
     "text": [
      "Found 6 trajectory files\n"
     ]
    }
   ],
   "source": [
    "random_traj_files = glob(os.path.join(traj_path, 'kp*.out'))\n",
    "print('Found {} trajectory files'.format(len(random_traj_files)))"
   ]
  },
  {
   "cell_type": "markdown",
   "metadata": {},
   "source": [
    "Make a function to get the CPU time per iteration"
   ]
  },
  {
   "cell_type": "code",
   "execution_count": 7,
   "metadata": {},
   "outputs": [],
   "source": [
    "cpu_count_re = re.compile('<mpi_processes count=\"(.*)\"')\n",
    "assert cpu_count_re.findall('<mpi_processes count=\"256\"') == ['256']"
   ]
  },
  {
   "cell_type": "code",
   "execution_count": 8,
   "metadata": {},
   "outputs": [],
   "source": [
    "timing_re = re.compile('max=\"(.*)\"')\n",
    "assert timing_re.findall('max=\"5\"') == [\"5\"]"
   ]
  },
  {
   "cell_type": "code",
   "execution_count": 9,
   "metadata": {},
   "outputs": [],
   "source": [
    "def get_iteration_cpu_times(file):\n",
    "    \"\"\"Get the CPU time per iteration\n",
    "    \n",
    "    Args:\n",
    "        file (str): path to file to be evaluated\n",
    "    Returns:\n",
    "        - ([float]) CPU time per iteration\n",
    "        - (int) number of cpus\"\"\"\n",
    "    \n",
    "    with open(file) as fp:\n",
    "        timings = []\n",
    "        for line in fp:\n",
    "            if \"<mpi_processes\" in line:\n",
    "                cpu_count = int(cpu_count_re.findall(line)[0])\n",
    "            if 'timing name=\"iteration\"' in line:\n",
    "                timings += [float(timing_re.findall(line)[0])]\n",
    "    \n",
    "    return np.multiply(timings, cpu_count), cpu_count"
   ]
  },
  {
   "cell_type": "markdown",
   "metadata": {},
   "source": [
    "Make sure it kind of agrees with the total simulation time (17334s, extracted by hand), which includes the startup cost"
   ]
  },
  {
   "cell_type": "code",
   "execution_count": 10,
   "metadata": {},
   "outputs": [],
   "source": [
    "timings, cpu_count = get_iteration_cpu_times(os.path.join(traj_path, 'kpgenlong_sd_psd_combo_r17_111_cutoff_50_4.out'))\n",
    "assert abs(timings.sum() / cpu_count - 17334) / 17334 < 0.10"
   ]
  },
  {
   "cell_type": "markdown",
   "metadata": {},
   "source": [
    "Get the timings for all steps"
   ]
  },
  {
   "cell_type": "code",
   "execution_count": 11,
   "metadata": {},
   "outputs": [
    {
     "name": "stdout",
     "output_type": "stream",
     "text": [
      "CPU times: user 2 s, sys: 400 ms, total: 2.4 s\n",
      "Wall time: 2.39 s\n"
     ]
    }
   ],
   "source": [
    "%%time\n",
    "timings = np.hstack([get_iteration_cpu_times(f)[0] for f in random_traj_files])"
   ]
  },
  {
   "cell_type": "code",
   "execution_count": 12,
   "metadata": {},
   "outputs": [
    {
     "name": "stdout",
     "output_type": "stream",
     "text": [
      "Mean time: 2.01 CPU-hours\n"
     ]
    }
   ],
   "source": [
    "print('Mean time: {:.2f} CPU-hours'.format(timings.mean() / 3600))"
   ]
  },
  {
   "cell_type": "code",
   "execution_count": 13,
   "metadata": {},
   "outputs": [
    {
     "data": {
      "image/png": "[encoded data removed]",
      "text/plain": [
       "<Figure size 252x144 with 1 Axes>"
      ]
     },
     "metadata": {},
     "output_type": "display_data"
    }
   ],
   "source": [
    "fig, ax = plt.subplots()\n",
    "\n",
    "ax.hist(timings / 3600, bins=np.linspace(1.9, 2.5, 32))\n",
    "\n",
    "ax.set_yscale('log')\n",
    "\n",
    "ax.set_xlabel('CPU-Hour / Iteration')\n",
    "ax.set_ylabel('Frequency')\n",
    "\n",
    "fig.set_size_inches(3.5, 2)"
   ]
  },
  {
   "cell_type": "markdown",
   "metadata": {},
   "source": [
    "*Finding*: The iterations reliably take around 2 CPU-hours each"
   ]
  },
  {
   "cell_type": "markdown",
   "metadata": {},
   "source": [
    "### Get the Timing for the Channel\n",
    "The other trajectory for the test"
   ]
  },
  {
   "cell_type": "code",
   "execution_count": 14,
   "metadata": {},
   "outputs": [
    {
     "name": "stdout",
     "output_type": "stream",
     "text": [
      "Found 6 trajectory files\n"
     ]
    }
   ],
   "source": [
    "channel_files = glob(os.path.join(traj_path, '..', '..', 'Al_256_channel', 'kp*.out'))\n",
    "print('Found {} trajectory files'.format(len(random_traj_files)))"
   ]
  },
  {
   "cell_type": "code",
   "execution_count": 15,
   "metadata": {},
   "outputs": [
    {
     "name": "stdout",
     "output_type": "stream",
     "text": [
      "CPU times: user 756 ms, sys: 200 ms, total: 956 ms\n",
      "Wall time: 956 ms\n"
     ]
    }
   ],
   "source": [
    "%%time\n",
    "timings = np.hstack([get_iteration_cpu_times(f)[0] for f in channel_files])"
   ]
  },
  {
   "cell_type": "code",
   "execution_count": 16,
   "metadata": {},
   "outputs": [
    {
     "name": "stdout",
     "output_type": "stream",
     "text": [
      "Average time per iteration: 2.01 CPU-hrs\n"
     ]
    }
   ],
   "source": [
    "print('Average time per iteration: {:.2f} CPU-hrs'.format(np.mean(timings) / 3600))"
   ]
  },
  {
   "cell_type": "code",
   "execution_count": 17,
   "metadata": {},
   "outputs": [
    {
     "name": "stdout",
     "output_type": "stream",
     "text": [
      "Total number of timesteps: 2000\n"
     ]
    }
   ],
   "source": [
    "print('Total number of timesteps:', len(timings))"
   ]
  },
  {
   "cell_type": "code",
   "execution_count": 18,
   "metadata": {},
   "outputs": [
    {
     "name": "stdout",
     "output_type": "stream",
     "text": [
      "Total hours: 4028.67 CPU-hours\n"
     ]
    }
   ],
   "source": [
    "channel_hours = np.sum(timings) / 3600\n",
    "print('Total hours: {:.2f} CPU-hours'.format(channel_hours))"
   ]
  },
  {
   "cell_type": "markdown",
   "metadata": {},
   "source": [
    "## Time the ML Model\n",
    "Measure over the channel trajectory"
   ]
  },
  {
   "cell_type": "code",
   "execution_count": 19,
   "metadata": {},
   "outputs": [
    {
     "name": "stdout",
     "output_type": "stream",
     "text": [
      "CPU times: user 31.8 s, sys: 29.7 s, total: 1min 1s\n",
      "Wall time: 20.8 s\n"
     ]
    }
   ],
   "source": [
    "%%time\n",
    "ml_timings = []\n",
    "for p, v in channel_traj[['position', 'velocity']].values:\n",
    "    start = time.perf_counter()\n",
    "    X = traj_computer.featurizers.featurize(p, v)\n",
    "    f = traj_computer.model.predict([X])\n",
    "    stop = time.perf_counter()\n",
    "    ml_timings.append(stop - start)"
   ]
  },
  {
   "cell_type": "markdown",
   "metadata": {},
   "source": [
    "Compute the average run time"
   ]
  },
  {
   "cell_type": "code",
   "execution_count": 20,
   "metadata": {},
   "outputs": [
    {
     "name": "stdout",
     "output_type": "stream",
     "text": [
      "Total ML time: 20.50 CPU-s\n",
      "Average ML time: 1.03e-02 CPU-s, 2.847e-06 CPU-hr\n"
     ]
    }
   ],
   "source": [
    "print('Total ML time: {:.2f} CPU-s'.format(np.sum(ml_timings)))\n",
    "print('Average ML time: {:.2e} CPU-s, {:.3e} CPU-hr'.format(np.mean(ml_timings), np.mean(ml_timings) / 3600))"
   ]
  },
  {
   "cell_type": "code",
   "execution_count": 21,
   "metadata": {},
   "outputs": [
    {
     "name": "stdout",
     "output_type": "stream",
     "text": [
      "ML speedup: 7.07e+05x\n"
     ]
    }
   ],
   "source": [
    "print('ML speedup: {:.2e}x'.format(channel_hours / np.sum(ml_timings) * 3600))"
   ]
  },
  {
   "cell_type": "code",
   "execution_count": 22,
   "metadata": {},
   "outputs": [
    {
     "data": {
      "image/png": "[encoded data removed]",
      "text/plain": [
       "<Figure size 252x144 with 1 Axes>"
      ]
     },
     "metadata": {},
     "output_type": "display_data"
    }
   ],
   "source": [
    "fig, ax = plt.subplots()\n",
    "\n",
    "ax.hist(ml_timings, bins=np.linspace(0.009, 0.015, 32))\n",
    "\n",
    "ax.set_yscale('log')\n",
    "\n",
    "ax.set_xlabel('CPU-s / Iteration')\n",
    "ax.set_ylabel('Frequency')\n",
    "\n",
    "fig.set_size_inches(3.5, 2)"
   ]
  },
  {
   "cell_type": "markdown",
   "metadata": {},
   "source": [
    "*Finding*: ~0.01 CPU-s per iterations is a good estimate (and this is without pipelining)"
   ]
  },
  {
   "cell_type": "markdown",
   "metadata": {},
   "source": [
    "## Get the time to evaluate the channel\n",
    "How long does it take, accounting for model without the start-up cost and noise."
   ]
  },
  {
   "cell_type": "markdown",
   "metadata": {},
   "source": [
    "Get the minimal length of the channel that must be evaluated"
   ]
  },
  {
   "cell_type": "code",
   "execution_count": 23,
   "metadata": {},
   "outputs": [],
   "source": [
    "traj_length = np.linalg.norm(traj_computer._compute_trajectory([1, 0, 0]))"
   ]
  },
  {
   "cell_type": "code",
   "execution_count": 24,
   "metadata": {},
   "outputs": [
    {
     "name": "stdout",
     "output_type": "stream",
     "text": [
      "Minimal length of [100] trajectory: 7.65595\n"
     ]
    }
   ],
   "source": [
    "print('Minimal length of [100] trajectory:', traj_length)"
   ]
  },
  {
   "cell_type": "markdown",
   "metadata": {},
   "source": [
    "Determine the minimum number of evaluations for evaluating the channel via equal-spaced timesteps"
   ]
  },
  {
   "cell_type": "code",
   "execution_count": 25,
   "metadata": {},
   "outputs": [
    {
     "name": "stdout",
     "output_type": "stream",
     "text": [
      "Step size for the channel trajectory: 0.014282544226903301\n"
     ]
    }
   ],
   "source": [
    "tddft_step_size = (random_traj['displacement'].max() - random_traj['displacement'].min()) / len(random_traj)\n",
    "print('Step size for the channel trajectory:', tddft_step_size)"
   ]
  },
  {
   "cell_type": "code",
   "execution_count": 26,
   "metadata": {},
   "outputs": [
    {
     "name": "stdout",
     "output_type": "stream",
     "text": [
      "Minimum number of steps: 537\n"
     ]
    }
   ],
   "source": [
    "minimum_step_count = int(np.ceil(traj_length / tddft_step_size))\n",
    "print('Minimum number of steps:', minimum_step_count)"
   ]
  },
  {
   "cell_type": "markdown",
   "metadata": {},
   "source": [
    "Get the number with adaptive integration"
   ]
  },
  {
   "cell_type": "code",
   "execution_count": 27,
   "metadata": {},
   "outputs": [],
   "source": [
    "original_force_func = traj_computer._create_force_calculator"
   ]
  },
  {
   "cell_type": "code",
   "execution_count": 28,
   "metadata": {},
   "outputs": [],
   "source": [
    "global eval_count\n",
    "eval_count = 0\n",
    "def tracked_force_func(start_point, lattice_vector, velocity):\n",
    "    f = original_force_func(start_point, lattice_vector, velocity)\n",
    "    def wrapped_f(x):\n",
    "        global eval_count\n",
    "        eval_count += 1\n",
    "        return f(x)\n",
    "    return wrapped_f\n",
    "traj_computer._create_force_calculator = tracked_force_func"
   ]
  },
  {
   "cell_type": "code",
   "execution_count": 29,
   "metadata": {},
   "outputs": [],
   "source": [
    "ml_quad_time = time.perf_counter()\n",
    "traj_computer.compute_stopping_power([0, 0.75, 0.75], [1,0,0], 1)\n",
    "ml_quad_time = time.perf_counter() - ml_quad_time"
   ]
  },
  {
   "cell_type": "code",
   "execution_count": 30,
   "metadata": {},
   "outputs": [
    {
     "name": "stdout",
     "output_type": "stream",
     "text": [
      "Adaptive quadrature converges in 63 steps, requiring 0.66 CPU-s\n"
     ]
    }
   ],
   "source": [
    "print('Adaptive quadrature converges in {} steps, requiring {:.2f} CPU-s'.format(eval_count, ml_quad_time))"
   ]
  },
  {
   "cell_type": "code",
   "execution_count": 31,
   "metadata": {},
   "outputs": [
    {
     "name": "stdout",
     "output_type": "stream",
     "text": [
      "Total speedup of ML: 2.20e+07\n"
     ]
    }
   ],
   "source": [
    "print('Total speedup of ML: {:.2e}'.format(channel_hours / (ml_quad_time / 3600)))"
   ]
  },
  {
   "cell_type": "code",
   "execution_count": null,
   "metadata": {},
   "outputs": [],
   "source": []
  }
 ],
 "metadata": {
  "kernelspec": {
   "display_name": "Python 3",
   "language": "python",
   "name": "python3"
  },
  "language_info": {
   "codemirror_mode": {
    "name": "ipython",
    "version": 3
   },
   "file_extension": ".py",
   "mimetype": "text/x-python",
   "name": "python",
   "nbconvert_exporter": "python",
   "pygments_lexer": "ipython3",
   "version": "3.6.4"
  }
 },
 "nbformat": 4,
 "nbformat_minor": 2
}
