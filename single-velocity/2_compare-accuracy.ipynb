{
 "cells": [
  {
   "cell_type": "markdown",
   "metadata": {},
   "source": [
    "# Quantify \"How Good\" is the model?\n",
    "The stopping force varies between different periodic images of the Al structure, even though the environment is identical. We can use that variation to provide a baseline for the accuracy of our machine learning model. "
   ]
  },
  {
   "cell_type": "code",
   "execution_count": 1,
   "metadata": {},
   "outputs": [],
   "source": [
    "%matplotlib inline\n",
    "from matplotlib import pyplot as plt\n",
    "from matplotlib import cm\n",
    "from scipy.interpolate import interp1d\n",
    "from cycler import cycler\n",
    "import pickle as pkl\n",
    "import pandas as pd\n",
    "import numpy as np\n",
    "import os"
   ]
  },
  {
   "cell_type": "markdown",
   "metadata": {},
   "source": [
    "## Load in the data needed for this notebook\n",
    "We'll need the channel data, and the ability to evaluate the ML model on it"
   ]
  },
  {
   "cell_type": "code",
   "execution_count": 2,
   "metadata": {},
   "outputs": [],
   "source": [
    "channel_data = pd.read_pickle(os.path.join('data', 'channel_data.pkl.gz'))"
   ]
  },
  {
   "cell_type": "code",
   "execution_count": 3,
   "metadata": {},
   "outputs": [],
   "source": [
    "random_data = pd.read_pickle(os.path.join('data', 'random_data.pkl.gz'))"
   ]
  },
  {
   "cell_type": "code",
   "execution_count": 4,
   "metadata": {},
   "outputs": [],
   "source": [
    "featurizers = pkl.load(open(os.path.join('..', 'featurizers.pkl'), 'rb'))"
   ]
  },
  {
   "cell_type": "code",
   "execution_count": 5,
   "metadata": {},
   "outputs": [],
   "source": [
    "model = pkl.load(open('best_model.pkl', 'rb'))"
   ]
  },
  {
   "cell_type": "code",
   "execution_count": 6,
   "metadata": {},
   "outputs": [],
   "source": [
    "X_cols = featurizers.feature_labels()"
   ]
  },
  {
   "cell_type": "markdown",
   "metadata": {},
   "source": [
    "Get the lattice spacing"
   ]
  },
  {
   "cell_type": "code",
   "execution_count": 7,
   "metadata": {},
   "outputs": [],
   "source": [
    "start_frame = pkl.load(open(os.path.join('..', 'al_starting_frame.pkl'), 'rb'))"
   ]
  },
  {
   "cell_type": "code",
   "execution_count": 8,
   "metadata": {},
   "outputs": [],
   "source": [
    "lat_spacing = start_frame.cell[0, 0] / 4"
   ]
  },
  {
   "cell_type": "markdown",
   "metadata": {},
   "source": [
    "## Make an interpolator for the channel data\n",
    "The steps in the each repeat of the structure don't line up perfectly"
   ]
  },
  {
   "cell_type": "code",
   "execution_count": 9,
   "metadata": {},
   "outputs": [],
   "source": [
    "force_inter = interp1d(channel_data['displacement'], channel_data['force'], 'cubic')"
   ]
  },
  {
   "cell_type": "markdown",
   "metadata": {},
   "source": [
    "Show that it works"
   ]
  },
  {
   "cell_type": "code",
   "execution_count": 10,
   "metadata": {},
   "outputs": [
    {
     "data": {
      "image/png": "[encoded data removed]",
      "text/plain": [
       "<matplotlib.figure.Figure at 0x7f5875b53f98>"
      ]
     },
     "metadata": {
      "needs_background": "light"
     },
     "output_type": "display_data"
    }
   ],
   "source": [
    "fig, ax = plt.subplots()\n",
    "\n",
    "disps = np.linspace(0, lat_spacing, 2048) + lat_spacing\n",
    "\n",
    "ax.scatter(channel_data['displacement'], channel_data['force'])\n",
    "ax.plot(disps, force_inter(disps), 'k--')\n",
    "\n",
    "ax.set_xlim(lat_spacing, lat_spacing * 1.03)\n",
    "\n",
    "ax.set_xlabel('Displacement ($a_B$)')\n",
    "ax.set_ylabel('Force ($E_H / a_B$)')\n",
    "\n",
    "fig.set_size_inches(3.5, 2.5)"
   ]
  },
  {
   "cell_type": "markdown",
   "metadata": {},
   "source": [
    "*Finding*: It interpolates between points without much trouble"
   ]
  },
  {
   "cell_type": "markdown",
   "metadata": {},
   "source": [
    "## Identify the repeated portions of the crystal\n",
    "Plot the 4 repeated patterns over the same part of the crystal. We only consider the 2$^{nd}$ and 3<sup>rd</sup> repititions of the pattern, as these are free from the initial transients and projectile interacting with its wake"
   ]
  },
  {
   "cell_type": "markdown",
   "metadata": {},
   "source": [
    "Find the repeated portion"
   ]
  },
  {
   "cell_type": "code",
   "execution_count": 11,
   "metadata": {},
   "outputs": [],
   "source": [
    "spacings = np.arange(lat_spacing, lat_spacing * 3, lat_spacing / 2)"
   ]
  },
  {
   "cell_type": "code",
   "execution_count": 12,
   "metadata": {},
   "outputs": [],
   "source": [
    "subsets = [channel_data.query('displacement > {} and displacement <= {}'.format(s, s + 0.5 * lat_spacing))\n",
    "          for s in spacings]"
   ]
  },
  {
   "cell_type": "code",
   "execution_count": 13,
   "metadata": {},
   "outputs": [
    {
     "data": {
      "image/png": "[encoded data removed]",
      "text/plain": [
       "<matplotlib.figure.Figure at 0x7f587269cb00>"
      ]
     },
     "metadata": {
      "needs_background": "light"
     },
     "output_type": "display_data"
    }
   ],
   "source": [
    "fig, ax = plt.subplots()\n",
    "\n",
    "cmap = cm.get_cmap('Reds')\n",
    "ax.set_prop_cycle(cycler('color', [cmap(x) for x in np.linspace(0.25,0.75,len(subsets))]))\n",
    "for subset in subsets:\n",
    "    ax.plot(subset['displacement'], subset['ion-ion repulsion'])\n",
    "    \n",
    "ax.set_xlabel('Displacement ($a_B$)')\n",
    "ax.set_ylabel('Coulomb Force ($E_H / a_B$)')\n",
    "    \n",
    "fig.set_size_inches(3.5, 2.5)"
   ]
  },
  {
   "cell_type": "markdown",
   "metadata": {},
   "source": [
    "*Finding*: In the middle part of the channel data, the pattern repeats 4 times"
   ]
  },
  {
   "cell_type": "markdown",
   "metadata": {},
   "source": [
    "## Measure differences in TD-DFT over different repeats and ML\n",
    "To quantify, we're going to compute the mean absolute deviation from the mean of all 4 repeats"
   ]
  },
  {
   "cell_type": "markdown",
   "metadata": {},
   "source": [
    "Determine the \"mean\" trajectory"
   ]
  },
  {
   "cell_type": "code",
   "execution_count": 14,
   "metadata": {},
   "outputs": [],
   "source": [
    "eval_points = subsets[0]['displacement'] - subsets[0]['displacement'].min()"
   ]
  },
  {
   "cell_type": "code",
   "execution_count": 15,
   "metadata": {},
   "outputs": [],
   "source": [
    "mean_traj = np.mean([force_inter(eval_points + subset['displacement'].min()) for subset in subsets], axis=0)"
   ]
  },
  {
   "cell_type": "markdown",
   "metadata": {},
   "source": [
    "Plot the differences between TD-DFT and compare to ML"
   ]
  },
  {
   "cell_type": "code",
   "execution_count": 16,
   "metadata": {},
   "outputs": [],
   "source": [
    "noml_force = random_data.query('initial == False')['force'].mean()"
   ]
  },
  {
   "cell_type": "code",
   "execution_count": 17,
   "metadata": {},
   "outputs": [
    {
     "data": {
      "image/png": "[encoded data removed]",
      "text/plain": [
       "<matplotlib.figure.Figure at 0x7f58724ea710>"
      ]
     },
     "metadata": {
      "needs_background": "light"
     },
     "output_type": "display_data"
    }
   ],
   "source": [
    "fig, axs = plt.subplots(1, 2, sharey=True)\n",
    "\n",
    "for ax in axs:\n",
    "    ax.set_prop_cycle(cycler('color', [cmap(x) for x in np.linspace(0.3,1,len(subsets))]))\n",
    "    \n",
    "# Plot all the trajectories\n",
    "for subset in subsets:\n",
    "    axs[0].plot(subset['displacement'], subset['force'])\n",
    "    axs[0].plot(subset['displacement'], model.predict(subset[X_cols]), lw=3, alpha=0.5, color='blue')\n",
    "    axs[0].plot(subset['displacement'], mean_traj, 'k--', lw=2)\n",
    "    axs[1].plot(subset['displacement'] - subset['displacement'].min(), subset['force'])\n",
    "    \n",
    "# Plot the mean and the ML\n",
    "axs[1].plot(subset['displacement'] - subset['displacement'].min(), mean_traj, 'k--', lw=2)\n",
    "axs[1].plot(subset['displacement'] - subset['displacement'].min(), model.predict(subset[X_cols]), lw=3, alpha=0.5, color='blue')\n",
    "\n",
    "# Fix the limits\n",
    "for ax in axs:\n",
    "    ax.set_xlim(ax.get_xlim())\n",
    "    ax.set_ylim(ax.get_ylim())\n",
    "\n",
    "# Plot the \"no ML\" force\n",
    "axs[0].plot(axs[0].get_xlim(), [noml_force]*2, 'g:')\n",
    "axs[1].plot(axs[1].get_xlim(), [noml_force]*2, 'g:')\n",
    "    \n",
    "# Add labels\n",
    "axs[0].set_xlabel('Displacement ($a_B$)')\n",
    "axs[1].set_xlabel('Displacement ($a_B$)')\n",
    "axs[0].set_ylabel('Coulomb Force ($E_H / a_B$)')\n",
    "    \n",
    "fig.set_size_inches(6.5, 2.5)\n",
    "fig.tight_layout()\n",
    "fig.savefig(os.path.join('figures', 'channel-accuracy.png'), dpi=320)"
   ]
  },
  {
   "cell_type": "markdown",
   "metadata": {},
   "source": [
    "*Finding*: The ML model is definitely different, it overestimates the minimum and is a little bit out-of-phase. It is clearly the outlier for the dataset"
   ]
  },
  {
   "cell_type": "code",
   "execution_count": 18,
   "metadata": {},
   "outputs": [],
   "source": [
    "tddft_var = np.mean(np.abs([force_inter(eval_points + subset['displacement'].min()) - mean_traj for subset in subsets]))"
   ]
  },
  {
   "cell_type": "code",
   "execution_count": 19,
   "metadata": {},
   "outputs": [
    {
     "name": "stdout",
     "output_type": "stream",
     "text": [
      "Mean absolute deviation of TD-DFT: 6.32e-03 E_H/a_B\n"
     ]
    }
   ],
   "source": [
    "print('Mean absolute deviation of TD-DFT: {:.2e} E_H/a_B'.format(tddft_var))"
   ]
  },
  {
   "cell_type": "markdown",
   "metadata": {},
   "source": [
    "Compare this to ML"
   ]
  },
  {
   "cell_type": "code",
   "execution_count": 20,
   "metadata": {},
   "outputs": [],
   "source": [
    "ml_var = np.abs([subset['force'] - model.predict(subset[X_cols]) for subset in subsets]).mean()"
   ]
  },
  {
   "cell_type": "code",
   "execution_count": 21,
   "metadata": {},
   "outputs": [
    {
     "name": "stdout",
     "output_type": "stream",
     "text": [
      "Mean absolute error of TD-DFT: 2.52e-02 E_H/a_B (4.0x larger than TD-DFT variation)\n"
     ]
    }
   ],
   "source": [
    "print('Mean absolute error of TD-DFT: {:.2e} E_H/a_B ({:.1f}x larger than TD-DFT variation)'.format(ml_var, ml_var / tddft_var))"
   ]
  },
  {
   "cell_type": "markdown",
   "metadata": {},
   "source": [
    "Compare to \"no ML\", just guess average stopping power of random trajectory"
   ]
  },
  {
   "cell_type": "code",
   "execution_count": 22,
   "metadata": {},
   "outputs": [],
   "source": [
    "noml_var = np.abs([subset['force'] - noml_force]).mean()"
   ]
  },
  {
   "cell_type": "code",
   "execution_count": 23,
   "metadata": {},
   "outputs": [
    {
     "name": "stdout",
     "output_type": "stream",
     "text": [
      "Mean absolute error of \"no ML\" model: 4.99e-02 E_H/a_B (2.0x larger than ML varation)\n"
     ]
    }
   ],
   "source": [
    "print('Mean absolute error of \"no ML\" model: {:.2e} E_H/a_B ({:.1f}x larger than ML varation)'.format(noml_var, noml_var / ml_var))"
   ]
  },
  {
   "cell_type": "markdown",
   "metadata": {},
   "source": [
    "## Measure how well it predicts the mean force\n",
    "Determine if the model captures the stopping power well"
   ]
  },
  {
   "cell_type": "code",
   "execution_count": 24,
   "metadata": {},
   "outputs": [
    {
     "name": "stdout",
     "output_type": "stream",
     "text": [
      "TD-DFT stopping power: 0.218 E_H/a_B\n"
     ]
    }
   ],
   "source": [
    "print('TD-DFT stopping power: {:.3f} E_H/a_B'.format(pd.concat(subsets)['force'].mean()))"
   ]
  },
  {
   "cell_type": "code",
   "execution_count": 25,
   "metadata": {},
   "outputs": [
    {
     "name": "stdout",
     "output_type": "stream",
     "text": [
      "ML stopping power: 0.237 E_H/a_B\n",
      "  Error: 0.023 E_H/a_B\n"
     ]
    }
   ],
   "source": [
    "ml_stopping = model.predict(subset[X_cols]).mean()\n",
    "print('ML stopping power: {:.3f} E_H/a_B'.format(ml_stopping))\n",
    "print('  Error: {:.3f} E_H/a_B'.format(ml_stopping - subset['force'].mean()))"
   ]
  },
  {
   "cell_type": "code",
   "execution_count": 26,
   "metadata": {},
   "outputs": [
    {
     "name": "stdout",
     "output_type": "stream",
     "text": [
      "No ML stopping power: 0.240 E_H/a_B\n"
     ]
    }
   ],
   "source": [
    "noML_stopping = noml_force\n",
    "print('No ML stopping power: {:.3f} E_H/a_B'.format(noML_stopping))"
   ]
  },
  {
   "cell_type": "code",
   "execution_count": null,
   "metadata": {},
   "outputs": [],
   "source": []
  }
 ],
 "metadata": {
  "kernelspec": {
   "display_name": "Python 3",
   "language": "python",
   "name": "python3"
  },
  "language_info": {
   "codemirror_mode": {
    "name": "ipython",
    "version": 3
   },
   "file_extension": ".py",
   "mimetype": "text/x-python",
   "name": "python",
   "nbconvert_exporter": "python",
   "pygments_lexer": "ipython3",
   "version": "3.6.6"
  }
 },
 "nbformat": 4,
 "nbformat_minor": 2
}
