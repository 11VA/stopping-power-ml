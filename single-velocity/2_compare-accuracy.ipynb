{
 "cells": [
  {
   "cell_type": "markdown",
   "metadata": {},
   "source": [
    "# Quantify \"How Good\" is the model?\n",
    "The stopping force varies between different periodic images of the Al structure, even though the environment is identical. We can use that variation to provide a baseline for the accuracy of our machine learning model. "
   ]
  },
  {
   "cell_type": "code",
   "execution_count": 24,
   "metadata": {},
   "outputs": [],
   "source": [
    "%matplotlib inline\n",
    "from matplotlib import pyplot as plt\n",
    "from matplotlib import cm\n",
    "from scipy.interpolate import interp1d\n",
    "from cycler import cycler\n",
    "import pickle as pkl\n",
    "import pandas as pd\n",
    "import numpy as np\n",
    "import os"
   ]
  },
  {
   "cell_type": "markdown",
   "metadata": {},
   "source": [
    "## Load in the data needed for this notebook\n",
    "We'll need the channel data, and the ability to evaluate the ML model on it"
   ]
  },
  {
   "cell_type": "code",
   "execution_count": 25,
   "metadata": {},
   "outputs": [],
   "source": [
    "channel_data = pd.read_pickle(os.path.join('data', 'channel_data.pkl.gz'))"
   ]
  },
  {
   "cell_type": "code",
   "execution_count": 26,
   "metadata": {},
   "outputs": [],
   "source": [
    "random_data = pd.read_pickle(os.path.join('data', 'random_data.pkl.gz'))"
   ]
  },
  {
   "cell_type": "code",
   "execution_count": 27,
   "metadata": {},
   "outputs": [],
   "source": [
    "featurizers = pkl.load(open(os.path.join('..', 'featurizers.pkl'), 'rb'))"
   ]
  },
  {
   "cell_type": "code",
   "execution_count": 28,
   "metadata": {},
   "outputs": [],
   "source": [
    "model = pkl.load(open('best_model.pkl', 'rb'))"
   ]
  },
  {
   "cell_type": "code",
   "execution_count": 29,
   "metadata": {},
   "outputs": [],
   "source": [
    "X_cols = featurizers.feature_labels()"
   ]
  },
  {
   "cell_type": "markdown",
   "metadata": {},
   "source": [
    "Get the lattice spacing"
   ]
  },
  {
   "cell_type": "code",
   "execution_count": 30,
   "metadata": {},
   "outputs": [],
   "source": [
    "start_frame = pkl.load(open(os.path.join('..', 'al_starting_frame.pkl'), 'rb'))"
   ]
  },
  {
   "cell_type": "code",
   "execution_count": 31,
   "metadata": {},
   "outputs": [],
   "source": [
    "lat_spacing = start_frame.cell[0, 0] / 4"
   ]
  },
  {
   "cell_type": "markdown",
   "metadata": {},
   "source": [
    "## Make an interpolator for the channel data\n",
    "The steps in the each repeat of the structure don't line up perfectly"
   ]
  },
  {
   "cell_type": "code",
   "execution_count": 9,
   "metadata": {},
   "outputs": [],
   "source": [
    "force_inter = interp1d(channel_data['displacement'], channel_data['force'], 'cubic')"
   ]
  },
  {
   "cell_type": "markdown",
   "metadata": {},
   "source": [
    "Show that it works"
   ]
  },
  {
   "cell_type": "code",
   "execution_count": 10,
   "metadata": {},
   "outputs": [
    {
     "data": {
      "image/png": "[encoded data removed]",
      "text/plain": [
       "<Figure size 252x180 with 1 Axes>"
      ]
     },
     "metadata": {},
     "output_type": "display_data"
    }
   ],
   "source": [
    "fig, ax = plt.subplots()\n",
    "\n",
    "disps = np.linspace(0, lat_spacing, 2048) + lat_spacing\n",
    "\n",
    "ax.scatter(channel_data['displacement'], channel_data['force'])\n",
    "ax.plot(disps, force_inter(disps), 'k--')\n",
    "\n",
    "ax.set_xlim(lat_spacing, lat_spacing * 1.03)\n",
    "\n",
    "ax.set_xlabel('Displacement ($a_B$)')\n",
    "ax.set_ylabel('Force ($E_H / a_B$)')\n",
    "\n",
    "fig.set_size_inches(3.5, 2.5)"
   ]
  },
  {
   "cell_type": "markdown",
   "metadata": {},
   "source": [
    "*Finding*: It interpolates between points without much trouble"
   ]
  },
  {
   "cell_type": "markdown",
   "metadata": {},
   "source": [
    "## Identify the repeated portions of the crystal\n",
    "Plot the 4 repeated patterns over the same part of the crystal. We only consider the 2$^{nd}$ and 3<sup>rd</sup> repititions of the pattern, as these are free from the initial transients and projectile interacting with its wake"
   ]
  },
  {
   "cell_type": "markdown",
   "metadata": {},
   "source": [
    "Find the repeated portion"
   ]
  },
  {
   "cell_type": "code",
   "execution_count": 32,
   "metadata": {},
   "outputs": [],
   "source": [
    "spacings = np.arange(lat_spacing, lat_spacing * 3, lat_spacing / 2)"
   ]
  },
  {
   "cell_type": "code",
   "execution_count": 33,
   "metadata": {},
   "outputs": [],
   "source": [
    "subsets = [channel_data.query('displacement > {} and displacement <= {}'.format(s, s + 0.5 * lat_spacing))\n",
    "          for s in spacings]"
   ]
  },
  {
   "cell_type": "code",
   "execution_count": 34,
   "metadata": {},
   "outputs": [
    {
     "data": {
      "image/png": "[encoded data removed]",
      "text/plain": [
       "<Figure size 252x180 with 1 Axes>"
      ]
     },
     "metadata": {},
     "output_type": "display_data"
    }
   ],
   "source": [
    "fig, ax = plt.subplots()\n",
    "\n",
    "cmap = cm.get_cmap('Reds')\n",
    "ax.set_prop_cycle(cycler('color', [cmap(x) for x in np.linspace(0.25,0.75,len(subsets))]))\n",
    "for subset in subsets:\n",
    "    ax.plot(subset['displacement'], subset['ion-ion repulsion'])\n",
    "    \n",
    "ax.set_xlabel('Displacement ($a_B$)')\n",
    "ax.set_ylabel('Coulomb Force ($E_H / a_B$)')\n",
    "    \n",
    "fig.set_size_inches(3.5, 2.5)"
   ]
  },
  {
   "cell_type": "markdown",
   "metadata": {},
   "source": [
    "*Finding*: In the middle part of the channel data, the pattern repeats 4 times"
   ]
  },
  {
   "cell_type": "markdown",
   "metadata": {},
   "source": [
    "## Measure differences in TD-DFT over different repeats and ML\n",
    "To quantify, we're going to compute the mean absolute deviation from the mean of all 4 repeats"
   ]
  },
  {
   "cell_type": "markdown",
   "metadata": {},
   "source": [
    "Determine the \"mean\" trajectory"
   ]
  },
  {
   "cell_type": "code",
   "execution_count": 35,
   "metadata": {},
   "outputs": [],
   "source": [
    "eval_points = subsets[0]['displacement'] - subsets[0]['displacement'].min()"
   ]
  },
  {
   "cell_type": "code",
   "execution_count": 36,
   "metadata": {},
   "outputs": [],
   "source": [
    "mean_traj = np.mean([force_inter(eval_points + subset['displacement'].min()) for subset in subsets], axis=0)"
   ]
  },
  {
   "cell_type": "markdown",
   "metadata": {},
   "source": [
    "Plot the differences between TD-DFT and compare to ML"
   ]
  },
  {
   "cell_type": "code",
   "execution_count": 37,
   "metadata": {},
   "outputs": [
    {
     "data": {
      "image/png": "[encoded data removed]",
      "text/plain": [
       "<Figure size 468x180 with 2 Axes>"
      ]
     },
     "metadata": {},
     "output_type": "display_data"
    }
   ],
   "source": [
    "fig, axs = plt.subplots(1, 2, sharey=True)\n",
    "\n",
    "for ax in axs:\n",
    "    ax.set_prop_cycle(cycler('color', [cmap(x) for x in np.linspace(0.3,1,len(subsets))]))\n",
    "    \n",
    "# Plot all the trajectories\n",
    "for subset in subsets:\n",
    "    axs[0].plot(subset['displacement'], subset['force'])\n",
    "    axs[0].plot(subset['displacement'], model.predict(subset[X_cols]), lw=3, alpha=0.5, color='blue')\n",
    "    axs[0].plot(subset['displacement'], mean_traj, 'k--', lw=2)\n",
    "    axs[1].plot(subset['displacement'] - subset['displacement'].min(), subset['force'])\n",
    "    \n",
    "# Plot the mean and the ML\n",
    "axs[1].plot(subset['displacement'] - subset['displacement'].min(), mean_traj, 'k--', lw=2)\n",
    "axs[1].plot(subset['displacement'] - subset['displacement'].min(), model.predict(subset[X_cols]), lw=3, alpha=0.5, color='blue')\n",
    "    \n",
    "axs[0].set_xlabel('Displacement ($a_B$)')\n",
    "axs[1].set_xlabel('Displacement ($a_B$)')\n",
    "axs[0].set_ylabel('Coulomb Force ($E_H / a_B$)')\n",
    "    \n",
    "fig.set_size_inches(6.5, 2.5)\n",
    "fig.tight_layout()"
   ]
  },
  {
   "cell_type": "markdown",
   "metadata": {},
   "source": [
    "*Finding*: The ML model is definitely different, it overestimates the minimum and is a little bit out-of-phase. It is clearly the outlier for the dataset"
   ]
  },
  {
   "cell_type": "code",
   "execution_count": 38,
   "metadata": {},
   "outputs": [],
   "source": [
    "tddft_var = np.mean(np.abs([force_inter(eval_points + subset['displacement'].min()) - mean_traj for subset in subsets]))"
   ]
  },
  {
   "cell_type": "code",
   "execution_count": 39,
   "metadata": {},
   "outputs": [
    {
     "name": "stdout",
     "output_type": "stream",
     "text": [
      "Mean absolute deviation of TD-DFT: 6.32e-03 E_H/a_B\n"
     ]
    }
   ],
   "source": [
    "print('Mean absolute deviation of TD-DFT: {:.2e} E_H/a_B'.format(tddft_var))"
   ]
  },
  {
   "cell_type": "markdown",
   "metadata": {},
   "source": [
    "Compare this to ML"
   ]
  },
  {
   "cell_type": "code",
   "execution_count": 40,
   "metadata": {},
   "outputs": [],
   "source": [
    "ml_var = np.abs([subset['force'] - model.predict(subset[X_cols]) for subset in subsets]).mean()"
   ]
  },
  {
   "cell_type": "code",
   "execution_count": 43,
   "metadata": {},
   "outputs": [
    {
     "name": "stdout",
     "output_type": "stream",
     "text": [
      "Mean absolute error of TD-DFT: 2.52e-02 E_H/a_B (4.0x larger than TD-DFT variation)\n"
     ]
    }
   ],
   "source": [
    "print('Mean absolute error of TD-DFT: {:.2e} E_H/a_B ({:.1f}x larger than TD-DFT variation)'.format(ml_var, ml_var / tddft_var))"
   ]
  },
  {
   "cell_type": "markdown",
   "metadata": {},
   "source": [
    "Compare to \"no ML\", just guess average stopping power of random trajectory"
   ]
  },
  {
   "cell_type": "code",
   "execution_count": 21,
   "metadata": {},
   "outputs": [],
   "source": [
    "noml_force = random_data.query('initial == False')['force'].mean()"
   ]
  },
  {
   "cell_type": "code",
   "execution_count": 22,
   "metadata": {},
   "outputs": [],
   "source": [
    "noml_var = np.abs([subset['force'] - noml_force]).mean()"
   ]
  },
  {
   "cell_type": "code",
   "execution_count": 48,
   "metadata": {},
   "outputs": [
    {
     "name": "stdout",
     "output_type": "stream",
     "text": [
      "Mean absolute error of \"no ML\" model: 4.99e-02 E_H/a_B (2.0x larger than ML varation)\n"
     ]
    }
   ],
   "source": [
    "print('Mean absolute error of \"no ML\" model: {:.2e} E_H/a_B ({:.1f}x larger than ML varation)'.format(noml_var, noml_var / ml_var))"
   ]
  },
  {
   "cell_type": "code",
   "execution_count": null,
   "metadata": {},
   "outputs": [],
   "source": []
  }
 ],
 "metadata": {
  "kernelspec": {
   "display_name": "Python 3",
   "language": "python",
   "name": "python3"
  },
  "language_info": {
   "codemirror_mode": {
    "name": "ipython",
    "version": 3
   },
   "file_extension": ".py",
   "mimetype": "text/x-python",
   "name": "python",
   "nbconvert_exporter": "python",
   "pygments_lexer": "ipython3",
   "version": "3.6.4"
  }
 },
 "nbformat": 4,
 "nbformat_minor": 2
}
