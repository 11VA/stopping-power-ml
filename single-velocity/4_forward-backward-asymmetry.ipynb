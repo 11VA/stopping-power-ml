{
 "cells": [
  {
   "cell_type": "markdown",
   "metadata": {},
   "source": [
    "# Assessing Forward/Backward Asymmetry in Stopping Powers\n",
    "Our stopping power model predicts different stopping powers for particles traveling forward than those traveling backwards on some trajectories. The purpose of this notebook is to showcase why this is valid. "
   ]
  },
  {
   "cell_type": "code",
   "execution_count": 1,
   "metadata": {},
   "outputs": [],
   "source": [
    "%matplotlib inline\n",
    "from matplotlib import pyplot as plt\n",
    "from stopping_power_ml.features import LocalChargeDensity\n",
    "import pandas as pd\n",
    "import numpy as np\n",
    "import pickle as pkl\n",
    "import os"
   ]
  },
  {
   "cell_type": "markdown",
   "metadata": {},
   "source": [
    "Configure parsl"
   ]
  },
  {
   "cell_type": "code",
   "execution_count": 2,
   "metadata": {},
   "outputs": [
    {
     "name": "stderr",
     "output_type": "stream",
     "text": [
      "INFO:parsl.dataflow.memoization:App caching initialized\n"
     ]
    },
    {
     "name": "stdout",
     "output_type": "stream",
     "text": [
      "Parsl version :  0.4.1\n"
     ]
    }
   ],
   "source": [
    "import parsl\n",
    "from parsl import *\n",
    "#from parsl_config import config\n",
    "workers = IPyParallelExecutor()\n",
    "dfk = DataFlowKernel(executors=[workers])\n",
    "print(\"Parsl version : \", parsl.__version__)"
   ]
  },
  {
   "cell_type": "markdown",
   "metadata": {},
   "source": [
    "## Load in the Tools\n",
    "We'll need the trajectory computer, and the charge density so that we can make illustrative plots."
   ]
  },
  {
   "cell_type": "code",
   "execution_count": 3,
   "metadata": {},
   "outputs": [],
   "source": [
    "traj_computer = pkl.load(open('traj_computer.pkl', 'rb'))"
   ]
  },
  {
   "cell_type": "code",
   "execution_count": 4,
   "metadata": {},
   "outputs": [],
   "source": [
    "charge_density = pkl.load(open(os.path.join('..', 'density_interp.pkl'), 'rb'))"
   ]
  },
  {
   "cell_type": "markdown",
   "metadata": {},
   "source": [
    "## Simple Test: Channel\n",
    "Here, we have a particle traveling forward or backwards along the channel of FCC Al"
   ]
  },
  {
   "cell_type": "code",
   "execution_count": 5,
   "metadata": {},
   "outputs": [],
   "source": [
    "@App('python', dfk)\n",
    "def compute_stopping_power(starting_point, direction, traj_computer=traj_computer):\n",
    "    return traj_computer.compute_stopping_power(starting_point, direction, 1)"
   ]
  },
  {
   "cell_type": "code",
   "execution_count": 6,
   "metadata": {},
   "outputs": [
    {
     "name": "stderr",
     "output_type": "stream",
     "text": [
      "INFO:parsl.dataflow.dflow:Task 0 submitted for App compute_stopping_power, waiting on tasks []\n",
      "INFO:parsl.dataflow.dflow:Task 0 launched on site 0\n"
     ]
    }
   ],
   "source": [
    "forward = compute_stopping_power([0,0.75,0.75], [1,0,0])"
   ]
  },
  {
   "cell_type": "code",
   "execution_count": 7,
   "metadata": {},
   "outputs": [
    {
     "name": "stderr",
     "output_type": "stream",
     "text": [
      "INFO:parsl.dataflow.dflow:Task 1 submitted for App compute_stopping_power, waiting on tasks []\n",
      "INFO:parsl.dataflow.dflow:Task 1 launched on site 0\n"
     ]
    }
   ],
   "source": [
    "backward = compute_stopping_power([0,0.75,0.75], [-1,0,0])"
   ]
  },
  {
   "cell_type": "code",
   "execution_count": 8,
   "metadata": {},
   "outputs": [
    {
     "name": "stderr",
     "output_type": "stream",
     "text": [
      "INFO:parsl.dataflow.dflow:Task 0 completed with <AsyncResult: compute_stopping_power:finished>\n"
     ]
    },
    {
     "name": "stdout",
     "output_type": "stream",
     "text": [
      "Wall time: 484 ms\n"
     ]
    },
    {
     "name": "stderr",
     "output_type": "stream",
     "text": [
      "INFO:parsl.dataflow.dflow:Task 1 completed with <AsyncResult: compute_stopping_power:finished>\n"
     ]
    }
   ],
   "source": [
    "%%time\n",
    "forward = forward.result(); backward = backward.result()"
   ]
  },
  {
   "cell_type": "code",
   "execution_count": 9,
   "metadata": {},
   "outputs": [
    {
     "name": "stdout",
     "output_type": "stream",
     "text": [
      "Forward stopping power:  0.2375378301349243\n",
      "Backward stopping power:  0.23753603356590416\n",
      "Difference:  -1.7965690201349194e-06\n"
     ]
    }
   ],
   "source": [
    "print('Forward stopping power: ', forward[0])\n",
    "print('Backward stopping power: ', backward[0])\n",
    "print('Difference: ', backward[0]-forward[0])"
   ]
  },
  {
   "cell_type": "markdown",
   "metadata": {},
   "source": [
    "Consistent with my initial expectations, they are indeed the same (within numerical tolerances)."
   ]
  },
  {
   "cell_type": "markdown",
   "metadata": {},
   "source": [
    "## Asymmetry: Along an Uneven Channel\n",
    "In computing the stopping powers in the previous notebook, you will note that the shape lacks some symmetries one might expect: the particle moving in the $[4 1 1]$ direction does not equal the particle moving in the opposite, $[\\bar{4} \\bar{1} \\bar{1}]$ direction."
   ]
  },
  {
   "cell_type": "code",
   "execution_count": 10,
   "metadata": {},
   "outputs": [],
   "source": [
    "direction = np.array([4,1,1])\n",
    "starting_point = [0,0.75,0.85]"
   ]
  },
  {
   "cell_type": "code",
   "execution_count": 11,
   "metadata": {},
   "outputs": [
    {
     "name": "stderr",
     "output_type": "stream",
     "text": [
      "INFO:parsl.dataflow.dflow:Task 2 submitted for App compute_stopping_power, waiting on tasks []\n",
      "INFO:parsl.dataflow.dflow:Task 2 launched on site 0\n"
     ]
    }
   ],
   "source": [
    "forward = compute_stopping_power(starting_point, direction)"
   ]
  },
  {
   "cell_type": "code",
   "execution_count": 12,
   "metadata": {},
   "outputs": [
    {
     "name": "stderr",
     "output_type": "stream",
     "text": [
      "INFO:parsl.dataflow.dflow:Task 3 submitted for App compute_stopping_power, waiting on tasks []\n",
      "INFO:parsl.dataflow.dflow:Task 3 launched on site 0\n"
     ]
    }
   ],
   "source": [
    "backward = compute_stopping_power(starting_point, -direction)"
   ]
  },
  {
   "cell_type": "code",
   "execution_count": 13,
   "metadata": {},
   "outputs": [
    {
     "name": "stderr",
     "output_type": "stream",
     "text": [
      "INFO:parsl.dataflow.dflow:Task 2 completed with <AsyncResult: compute_stopping_power:finished>\n"
     ]
    },
    {
     "name": "stdout",
     "output_type": "stream",
     "text": [
      "Wall time: 3.89 s\n"
     ]
    },
    {
     "name": "stderr",
     "output_type": "stream",
     "text": [
      "INFO:parsl.dataflow.dflow:Task 3 completed with <AsyncResult: compute_stopping_power:finished>\n"
     ]
    }
   ],
   "source": [
    "%%time\n",
    "forward = forward.result(); backward = backward.result()"
   ]
  },
  {
   "cell_type": "code",
   "execution_count": 14,
   "metadata": {},
   "outputs": [
    {
     "name": "stdout",
     "output_type": "stream",
     "text": [
      "Forward stopping power:  0.24597877528001622\n",
      "Backward stopping power:  0.2443267542170524\n",
      "Difference:  -0.0016520210629638044\n"
     ]
    }
   ],
   "source": [
    "print('Forward stopping power: ', forward[0])\n",
    "print('Backward stopping power: ', backward[0])\n",
    "print('Difference: ', backward[0]-forward[0])"
   ]
  },
  {
   "cell_type": "markdown",
   "metadata": {},
   "source": [
    "### Why is there an asymmetry?\n",
    "Note that here is different: the stopping powers are *unequal*. For a long while, I thought this was a bug in the stopping power code. Then, after some thought, I noticed the forward and backward trajectory are indeed different. Starting from a common reference point - where the trajectories pass closest to an atom - we can observe that the two trajectories have a unique asymmetry."
   ]
  },
  {
   "cell_type": "code",
   "execution_count": 15,
   "metadata": {},
   "outputs": [],
   "source": [
    "# Find the point of nearest pass\n",
    "forward_start = traj_computer._find_near_hits(starting_point, direction, 1)[0]\n",
    "backward_start = traj_computer._find_near_hits(starting_point, -direction, 1)[0]"
   ]
  },
  {
   "cell_type": "code",
   "execution_count": 16,
   "metadata": {},
   "outputs": [],
   "source": [
    "# Compute the features for \n",
    "@App('python', dfk)\n",
    "def compute_features(starting_point, direction, offset, n_points, traj_computer=traj_computer):\n",
    "    import numpy as np\n",
    "    import pandas as pd\n",
    "    X = np.linspace(offset, offset + 2, n_points)\n",
    "    f = traj_computer._create_model_inputs(starting_point, direction, 1)\n",
    "    features = [f(x) for x in X]\n",
    "    labels = sum([f.feature_labels() for f in traj_computer.featurizers], [])\n",
    "    return pd.DataFrame(dict(zip(labels, zip(*features))))"
   ]
  },
  {
   "cell_type": "code",
   "execution_count": 17,
   "metadata": {},
   "outputs": [
    {
     "name": "stderr",
     "output_type": "stream",
     "text": [
      "INFO:parsl.dataflow.dflow:Task 4 submitted for App compute_features, waiting on tasks []\n",
      "INFO:parsl.dataflow.dflow:Task 4 launched on site 0\n"
     ]
    }
   ],
   "source": [
    "forward = compute_features(starting_point, direction, forward_start, 51)"
   ]
  },
  {
   "cell_type": "code",
   "execution_count": 18,
   "metadata": {},
   "outputs": [
    {
     "name": "stderr",
     "output_type": "stream",
     "text": [
      "INFO:parsl.dataflow.dflow:Task 5 submitted for App compute_features, waiting on tasks []\n",
      "INFO:parsl.dataflow.dflow:Task 5 launched on site 0\n"
     ]
    }
   ],
   "source": [
    "backward = compute_features(starting_point, -direction, backward_start, 51)"
   ]
  },
  {
   "cell_type": "code",
   "execution_count": 19,
   "metadata": {},
   "outputs": [
    {
     "name": "stderr",
     "output_type": "stream",
     "text": [
      "INFO:parsl.dataflow.dflow:Task 4 completed with <AsyncResult: compute_features:finished>\n",
      "INFO:parsl.dataflow.dflow:Task 5 completed with <AsyncResult: compute_features:finished>\n"
     ]
    },
    {
     "name": "stdout",
     "output_type": "stream",
     "text": [
      "Wall time: 1.32 s\n"
     ]
    }
   ],
   "source": [
    "%%time\n",
    "forward = forward.result(); backward = backward.result();"
   ]
  },
  {
   "cell_type": "code",
   "execution_count": 20,
   "metadata": {},
   "outputs": [
    {
     "data": {
      "image/png": "[encoded data removed]",
      "text/plain": [
       "<matplotlib.figure.Figure at 0x1b272484a90>"
      ]
     },
     "metadata": {},
     "output_type": "display_data"
    }
   ],
   "source": [
    "fig, ax = plt.subplots(1, 2, sharey=True)\n",
    "\n",
    "x = np.linspace(0, 2, 51)\n",
    "# Make the plot with both in same direction\n",
    "ax[0].plot(x, forward['log density t=0.0'], 'r', label='Forward')\n",
    "ax[0].plot(x, backward['log density t=0.0'], 'b', label='Backward')\n",
    "\n",
    "ax[0].set_xlabel('Displacement', fontsize=16)\n",
    "ax[0].set_ylabel('log($\\\\rho$)', fontsize=16)\n",
    "\n",
    "ax[0].legend()\n",
    "\n",
    "ax_top = ax[1].twiny()\n",
    "ax[1].plot(x, forward['log density t=0.0'], 'b', label='Backward') # Is plotted over\n",
    "ax[1].plot(x, forward['log density t=0.0'], 'r', label='Forward')\n",
    "ax_top.plot(x, backward['log density t=0.0'], 'b', label='Backward')\n",
    "\n",
    "ax[1].set_xlabel('Forward Displacement', fontsize=16)\n",
    "ax_top.set_xlabel('Backward Displacement', fontsize=16)\n",
    "\n",
    "ax_top.set_xlim(ax[1].get_xlim()[::-1])\n",
    "ax[1].legend()\n",
    "\n",
    "fig.set_size_inches(9, 4)\n",
    "fig.tight_layout()"
   ]
  },
  {
   "cell_type": "markdown",
   "metadata": {},
   "source": [
    "The above chart shows the electron charge density as a function of displacement along the trajectory. `0` is the starting point, `1` is where the pattern repeats itself, and we show two periods of this fnuction. First, as shown in the plot on the left, the forward direction has the lowest charge density just before it experiences the largest peak (when passing closest to an atom). In contrast, the backward direction experiences the lowest density immediately after the close pass to an atom. As shown in the plot on the right, the particles experience the same enviroments (the same charge density), but in reverse order. In short, the particles experience the same events in different orders and we find that this history matters."
   ]
  },
  {
   "cell_type": "code",
   "execution_count": 21,
   "metadata": {},
   "outputs": [
    {
     "data": {
      "image/png": "[encoded data removed]",
      "text/plain": [
       "<matplotlib.figure.Figure at 0x1b2724efa20>"
      ]
     },
     "metadata": {},
     "output_type": "display_data"
    }
   ],
   "source": [
    "def make_trajectory_plot(ax, origin, vec1, vec2, x_dist, y_dist):\n",
    "    # Compute the normal vectors\n",
    "    unitvec1 = np.array(vec1) / np.linalg.norm(vec1)\n",
    "    unitvec2 = np.array(vec2) / np.linalg.norm(vec2)\n",
    "    \n",
    "    # Make the grid\n",
    "    x_spacing = np.linspace(0, x_dist, int(200 * x_dist / (x_dist + y_dist)))\n",
    "    y_spacing = np.linspace(0, y_dist, int(200 * y_dist / (x_dist + y_dist)))\n",
    "    xs, ys = np.meshgrid(x_spacing, y_spacing)\n",
    "    points = np.array([i * unitvec1 + j * unitvec2 + origin for i,j in zip(xs.flatten(), ys.flatten())])\n",
    "    points = (points / 4) % 1\n",
    "    \n",
    "    # Make the plots\n",
    "    pct = ax.pcolor(xs, ys, np.log(charge_density(points).reshape(xs.shape)), vmin=-3, vmax=1, cmap='Greys')\n",
    "    \n",
    "    ax.set_xticks([])\n",
    "    ax.set_yticks([])\n",
    "    return pct\n",
    "\n",
    "fig, ax = plt.subplots()\n",
    "\n",
    "make_trajectory_plot(ax, [0,0,0], [1,0,0], [0,1,1], 2, 1 * np.sqrt(2))\n",
    "ax.plot([0,2],[0.35 * np.sqrt(2), np.sqrt(2) * 0.85 ], 'r', lw=4)\n",
    "ax.plot([0,2],[0.35 * np.sqrt(2), ] * 2, 'b--')\n",
    "fig.set_size_inches(6, 3 * np.sqrt(2))"
   ]
  },
  {
   "cell_type": "markdown",
   "metadata": {},
   "source": [
    "Another view of the asymmetry. The above plot shows the path of our particle in the $(01\\bar{1})$ plane in the red, solid line. This path corresponds to one period of the function shown above. Note that a particle traveling forward (left-to-right) experiences two near passes between atoms - one closer than another - and two segments between atoms - one longer than another. It goes 'far pass'->'short distance'->'close pass'->'long distance'. The backward direction goes 'long distance'->'close pass'->'short distance'->'far pass'. The order of these events is different, which is the source of our asymmetry."
   ]
  },
  {
   "cell_type": "markdown",
   "metadata": {},
   "source": [
    "### Why was the original path symmetric?\n",
    "The blue, dashed lines shows a hypothetical particle that starts slightly off the center of the $[100]$ channel, and follows the channel direction. This particle only experiences a single close pass to an atom, the forward and backward approaches are symmetric. Therefore, the stopping powers in each direction should be the same."
   ]
  },
  {
   "cell_type": "code",
   "execution_count": 22,
   "metadata": {},
   "outputs": [],
   "source": [
    "starting_point = [0, 0.75, 0.85]\n",
    "direction = np.array([1, 0, 0])"
   ]
  },
  {
   "cell_type": "code",
   "execution_count": 23,
   "metadata": {},
   "outputs": [
    {
     "name": "stderr",
     "output_type": "stream",
     "text": [
      "INFO:parsl.dataflow.dflow:Task 6 submitted for App compute_stopping_power, waiting on tasks []\n",
      "INFO:parsl.dataflow.dflow:Task 6 launched on site 0\n"
     ]
    }
   ],
   "source": [
    "forward = compute_stopping_power(starting_point, direction)"
   ]
  },
  {
   "cell_type": "code",
   "execution_count": 24,
   "metadata": {},
   "outputs": [
    {
     "name": "stderr",
     "output_type": "stream",
     "text": [
      "INFO:parsl.dataflow.dflow:Task 7 submitted for App compute_stopping_power, waiting on tasks []\n",
      "INFO:parsl.dataflow.dflow:Task 7 launched on site 0\n"
     ]
    }
   ],
   "source": [
    "backward = compute_stopping_power(starting_point, -direction)"
   ]
  },
  {
   "cell_type": "code",
   "execution_count": 25,
   "metadata": {},
   "outputs": [
    {
     "name": "stderr",
     "output_type": "stream",
     "text": [
      "INFO:parsl.dataflow.dflow:Task 6 completed with <AsyncResult: compute_stopping_power:finished>\n"
     ]
    },
    {
     "name": "stdout",
     "output_type": "stream",
     "text": [
      "Wall time: 453 ms\n"
     ]
    },
    {
     "name": "stderr",
     "output_type": "stream",
     "text": [
      "INFO:parsl.dataflow.dflow:Task 7 completed with <AsyncResult: compute_stopping_power:finished>\n"
     ]
    }
   ],
   "source": [
    "%%time\n",
    "forward = forward.result(); backward = backward.result()"
   ]
  },
  {
   "cell_type": "code",
   "execution_count": 26,
   "metadata": {},
   "outputs": [
    {
     "name": "stdout",
     "output_type": "stream",
     "text": [
      "Forward stopping power:  0.23771046487099023\n",
      "Backward stopping power:  0.23770866905582766\n",
      "Difference:  -1.7958151625752095e-06\n"
     ]
    }
   ],
   "source": [
    "print('Forward stopping power: ', forward[0])\n",
    "print('Backward stopping power: ', backward[0])\n",
    "print('Difference: ', backward[0]-forward[0])"
   ]
  },
  {
   "cell_type": "markdown",
   "metadata": {},
   "source": [
    "And they are."
   ]
  },
  {
   "cell_type": "markdown",
   "metadata": {},
   "source": [
    "#### A harder example\n",
    "In this section, we test a more complicated trajectory: the $[311]$ direction."
   ]
  },
  {
   "cell_type": "code",
   "execution_count": 27,
   "metadata": {},
   "outputs": [],
   "source": [
    "starting_point = [0, 0.75, 0.75]\n",
    "direction = np.array([3, 1, 1])"
   ]
  },
  {
   "cell_type": "code",
   "execution_count": 28,
   "metadata": {},
   "outputs": [
    {
     "name": "stderr",
     "output_type": "stream",
     "text": [
      "INFO:parsl.dataflow.dflow:Task 8 submitted for App compute_stopping_power, waiting on tasks []\n",
      "INFO:parsl.dataflow.dflow:Task 8 launched on site 0\n"
     ]
    }
   ],
   "source": [
    "forward = compute_stopping_power(starting_point, direction)"
   ]
  },
  {
   "cell_type": "code",
   "execution_count": 29,
   "metadata": {},
   "outputs": [
    {
     "name": "stderr",
     "output_type": "stream",
     "text": [
      "INFO:parsl.dataflow.dflow:Task 9 submitted for App compute_stopping_power, waiting on tasks []\n",
      "INFO:parsl.dataflow.dflow:Task 9 launched on site 0\n"
     ]
    }
   ],
   "source": [
    "backward = compute_stopping_power(starting_point, -direction)"
   ]
  },
  {
   "cell_type": "code",
   "execution_count": 30,
   "metadata": {},
   "outputs": [
    {
     "name": "stderr",
     "output_type": "stream",
     "text": [
      "INFO:parsl.dataflow.dflow:Task 8 completed with <AsyncResult: compute_stopping_power:finished>\n"
     ]
    },
    {
     "name": "stdout",
     "output_type": "stream",
     "text": [
      "Wall time: 3.74 s\n"
     ]
    },
    {
     "name": "stderr",
     "output_type": "stream",
     "text": [
      "INFO:parsl.dataflow.dflow:Task 9 completed with <AsyncResult: compute_stopping_power:finished>\n"
     ]
    }
   ],
   "source": [
    "%%time\n",
    "forward = forward.result(); backward = backward.result()"
   ]
  },
  {
   "cell_type": "code",
   "execution_count": 31,
   "metadata": {},
   "outputs": [
    {
     "name": "stdout",
     "output_type": "stream",
     "text": [
      "Forward stopping power:  0.24596851146464807\n",
      "Backward stopping power:  0.24595990228372483\n",
      "Difference:  -8.609180923241366e-06\n"
     ]
    }
   ],
   "source": [
    "print('Forward stopping power: ', forward[0])\n",
    "print('Backward stopping power: ', backward[0])\n",
    "print('Difference: ', backward[0]-forward[0])"
   ]
  },
  {
   "cell_type": "markdown",
   "metadata": {},
   "source": [
    "As expected, the stopping powers are the same."
   ]
  },
  {
   "cell_type": "code",
   "execution_count": 32,
   "metadata": {},
   "outputs": [
    {
     "data": {
      "image/png": "[encoded data removed]",
      "text/plain": [
       "<matplotlib.figure.Figure at 0x1b273c60940>"
      ]
     },
     "metadata": {},
     "output_type": "display_data"
    }
   ],
   "source": [
    "fig, ax = plt.subplots()\n",
    "\n",
    "make_trajectory_plot(ax, [0,0,0], [1,0,0], [0,1,1], 3, 1.5 * np.sqrt(2))\n",
    "ax.plot([0,3],[0.25 * np.sqrt(2), np.sqrt(2) * 1.25 ], 'r', lw=4)\n",
    "ax.plot([0,3],[0.3 * np.sqrt(2), np.sqrt(2) * 1.3 ], 'b--')\n",
    "fig.set_size_inches(6, 3 * np.sqrt(2))"
   ]
  },
  {
   "cell_type": "markdown",
   "metadata": {},
   "source": [
    "The above plot shows one period of the $[311]$ trajectory in the solid, red line. Note that the forward and backwards directions are symmetric. If we bump the trajectory slightly up (blue, dashed line), we destroy the forward/backward symmetry (see below)."
   ]
  },
  {
   "cell_type": "code",
   "execution_count": 33,
   "metadata": {},
   "outputs": [],
   "source": [
    "starting_point = [0, 0.75, 0.8]\n",
    "direction = np.array([3, 1, 1])"
   ]
  },
  {
   "cell_type": "code",
   "execution_count": 34,
   "metadata": {},
   "outputs": [
    {
     "name": "stderr",
     "output_type": "stream",
     "text": [
      "INFO:parsl.dataflow.dflow:Task 10 submitted for App compute_stopping_power, waiting on tasks []\n",
      "INFO:parsl.dataflow.dflow:Task 10 launched on site 0\n"
     ]
    }
   ],
   "source": [
    "forward = compute_stopping_power(starting_point, direction)"
   ]
  },
  {
   "cell_type": "code",
   "execution_count": 35,
   "metadata": {},
   "outputs": [
    {
     "name": "stderr",
     "output_type": "stream",
     "text": [
      "INFO:parsl.dataflow.dflow:Task 11 submitted for App compute_stopping_power, waiting on tasks []\n",
      "INFO:parsl.dataflow.dflow:Task 11 launched on site 0\n"
     ]
    }
   ],
   "source": [
    "backward = compute_stopping_power(starting_point, -direction)"
   ]
  },
  {
   "cell_type": "code",
   "execution_count": 36,
   "metadata": {},
   "outputs": [
    {
     "name": "stderr",
     "output_type": "stream",
     "text": [
      "INFO:parsl.dataflow.dflow:Task 10 completed with <AsyncResult: compute_stopping_power:finished>\n"
     ]
    },
    {
     "name": "stdout",
     "output_type": "stream",
     "text": [
      "Wall time: 4.15 s\n"
     ]
    },
    {
     "name": "stderr",
     "output_type": "stream",
     "text": [
      "INFO:parsl.dataflow.dflow:Task 11 completed with <AsyncResult: compute_stopping_power:finished>\n"
     ]
    }
   ],
   "source": [
    "%%time\n",
    "forward = forward.result(); backward = backward.result()"
   ]
  },
  {
   "cell_type": "code",
   "execution_count": 37,
   "metadata": {},
   "outputs": [
    {
     "name": "stdout",
     "output_type": "stream",
     "text": [
      "Forward stopping power:  0.24552076587200175\n",
      "Backward stopping power:  0.2455817091465489\n",
      "Difference:  6.094327454714277e-05\n"
     ]
    }
   ],
   "source": [
    "print('Forward stopping power: ', forward[0])\n",
    "print('Backward stopping power: ', backward[0])\n",
    "print('Difference: ', backward[0]-forward[0])"
   ]
  },
  {
   "cell_type": "markdown",
   "metadata": {},
   "source": [
    "The difference is present, but small because the perturbation from symmetrical is small."
   ]
  },
  {
   "cell_type": "code",
   "execution_count": null,
   "metadata": {},
   "outputs": [],
   "source": []
  }
 ],
 "metadata": {
  "kernelspec": {
   "display_name": "Python 3",
   "language": "python",
   "name": "python3"
  },
  "language_info": {
   "codemirror_mode": {
    "name": "ipython",
    "version": 3
   },
   "file_extension": ".py",
   "mimetype": "text/x-python",
   "name": "python",
   "nbconvert_exporter": "python",
   "pygments_lexer": "ipython3",
   "version": "3.6.3"
  }
 },
 "nbformat": 4,
 "nbformat_minor": 2
}
