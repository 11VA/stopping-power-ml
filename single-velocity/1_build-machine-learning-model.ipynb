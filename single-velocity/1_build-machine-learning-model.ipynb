{
 "cells": [
  {
   "cell_type": "markdown",
   "metadata": {},
   "source": [
    "# Train a Machine Learning Model\n",
    "Determine the optimal machine learning algorithm and train it."
   ]
  },
  {
   "cell_type": "code",
   "execution_count": 1,
   "metadata": {
    "collapsed": true
   },
   "outputs": [],
   "source": [
    "%matplotlib inline\n",
    "import sys\n",
    "from glob import glob\n",
    "sys.path = glob('/projects/CSC249ADCD01/packages/*') + sys.path\n",
    "from copy import deepcopy\n",
    "from glob import glob\n",
    "from matminer.featurizers.function import FunctionFeaturizer\n",
    "from matplotlib import pyplot as plt\n",
    "from matplotlib.animation import FuncAnimation\n",
    "from IPython.display import HTML\n",
    "from scipy import stats\n",
    "from sklearn.dummy import DummyRegressor\n",
    "from sklearn.feature_selection import SelectFromModel\n",
    "from sklearn.model_selection import cross_validate, cross_val_predict, RepeatedKFold, GridSearchCV\n",
    "from sklearn.linear_model import BayesianRidge, LinearRegression, Lasso, LassoLars\n",
    "from sklearn.preprocessing import PolynomialFeatures\n",
    "from sklearn.pipeline import Pipeline\n",
    "from stopping_power_ml.io import load_qbox_data\n",
    "import pandas as pd\n",
    "import numpy as np\n",
    "import pickle as pkl\n",
    "import os"
   ]
  },
  {
   "cell_type": "code",
   "execution_count": 2,
   "metadata": {
    "collapsed": true
   },
   "outputs": [],
   "source": [
    "import warnings; warnings.simplefilter('ignore')"
   ]
  },
  {
   "cell_type": "markdown",
   "metadata": {},
   "source": [
    "Load Parsl"
   ]
  },
  {
   "cell_type": "code",
   "execution_count": 3,
   "metadata": {},
   "outputs": [
    {
     "name": "stdout",
     "output_type": "stream",
     "text": [
      "Parsl version :  0.5.0\n"
     ]
    }
   ],
   "source": [
    "import parsl\n",
    "from parsl import *\n",
    "#from parsl_config import config\n",
    "workers = IPyParallelExecutor()\n",
    "dfk = DataFlowKernel(executors=[workers])\n",
    "print(\"Parsl version : \", parsl.__version__)"
   ]
  },
  {
   "cell_type": "markdown",
   "metadata": {},
   "source": [
    "## Load in the Dataset\n",
    "This was created by a different notebook"
   ]
  },
  {
   "cell_type": "code",
   "execution_count": 4,
   "metadata": {},
   "outputs": [
    {
     "name": "stdout",
     "output_type": "stream",
     "text": [
      "Data set size: 9800\n"
     ]
    }
   ],
   "source": [
    "data = pd.read_pickle(os.path.join('data', 'random_data.pkl.gz'))\n",
    "print('Data set size:', len(data))"
   ]
  },
  {
   "cell_type": "markdown",
   "metadata": {},
   "source": [
    "Remove the initial transient"
   ]
  },
  {
   "cell_type": "code",
   "execution_count": 5,
   "metadata": {},
   "outputs": [
    {
     "name": "stdout",
     "output_type": "stream",
     "text": [
      "Training set size: 7274\n"
     ]
    }
   ],
   "source": [
    "data.query('initial == False', inplace=True)\n",
    "print('Training set size:', len(data))"
   ]
  },
  {
   "cell_type": "markdown",
   "metadata": {},
   "source": [
    "Determine which columns are inputs"
   ]
  },
  {
   "cell_type": "code",
   "execution_count": 6,
   "metadata": {
    "collapsed": true
   },
   "outputs": [],
   "source": [
    "featurizers = pkl.load(open(os.path.join('..', 'featurizers.pkl'), 'rb'))[:-1]"
   ]
  },
  {
   "cell_type": "code",
   "execution_count": 7,
   "metadata": {
    "collapsed": true
   },
   "outputs": [],
   "source": [
    "X_cols = sum([x.feature_labels() for x in featurizers], [])"
   ]
  },
  {
   "cell_type": "code",
   "execution_count": 8,
   "metadata": {
    "collapsed": true
   },
   "outputs": [],
   "source": [
    "y_col = 'force'"
   ]
  },
  {
   "cell_type": "code",
   "execution_count": 9,
   "metadata": {
    "scrolled": true
   },
   "outputs": [
    {
     "data": {
      "text/plain": [
       "time average of charge density, strength=1.00     0.122794\n",
       "time average of charge density, strength=2.00     0.018690\n",
       "time average of charge density, strength=4.00     0.007203\n",
       "time average of charge density, strength=-2.00    0.015033\n",
       "time average of charge density, strength=-4.00    0.007407\n",
       "charge density                                    0.029025\n",
       "AGNI projected eta=8.00e-01                      -0.000008\n",
       "AGNI projected eta=1.23e+00                      -0.004996\n",
       "AGNI projected eta=1.88e+00                      -0.055899\n",
       "AGNI projected eta=2.89e+00                      -0.084698\n",
       "AGNI projected eta=4.43e+00                      -0.066067\n",
       "AGNI projected eta=6.80e+00                      -0.059270\n",
       "AGNI projected eta=1.04e+01                      -0.057636\n",
       "AGNI projected eta=1.60e+01                      -0.057636\n",
       "ion-ion repulsion                                 0.745193\n",
       "Name: 421, dtype: float64"
      ]
     },
     "execution_count": 9,
     "metadata": {},
     "output_type": "execute_result"
    }
   ],
   "source": [
    "data[X_cols].iloc[0]"
   ]
  },
  {
   "cell_type": "markdown",
   "metadata": {},
   "source": [
    "## Test out Some ML Models\n",
    "Trying out various differentiable ML algorithms:\n",
    "\n",
    "- `DummyRegressor`: A model that returns the mean of the training set for all predictions\n",
    "- `BayesianRidge`: Ridge regression that sets the hyperparameters using Bayesian statistics\n",
    "- `Lasso`: Sparse linear model, fast to train\n",
    "- `LinearRegression`: Just Ordinary Least Squares\n",
    "\n",
    "Also throw in some feature expansion and feature selection"
   ]
  },
  {
   "cell_type": "markdown",
   "metadata": {},
   "source": [
    "### Create Testing Routine\n",
    "What we want to know whether a model trained on the beginning of a simulation can successfully predict forces at the end of the simulation."
   ]
  },
  {
   "cell_type": "code",
   "execution_count": 10,
   "metadata": {
    "collapsed": true
   },
   "outputs": [],
   "source": [
    "@App('python', dfk)\n",
    "def test_on_first_part(model, data, max_step, X_cols=X_cols, y_col=y_col):\n",
    "    \"\"\"Train a model only using the first part of a dataset, test it\n",
    "    \n",
    "    :param model: model to be tested\n",
    "    :param data: dataset used for training\n",
    "    :param max_step: int, maximum timestep. All data before this timestep will be used for training\n",
    "    :return:\n",
    "        - train_size: Number of training points\n",
    "        - average_force: Average force \n",
    "        - trajectory: Force as a function of timestep\"\"\"\n",
    "    import numpy as np\n",
    "    # Train model on all timesteps before current\n",
    "    train_data = data.query('timestep <= %d'%max_step)\n",
    "    model.fit(train_data[X_cols], train_data[y_col])\n",
    "\n",
    "    # Predict on all timesteps\n",
    "    traj = model.predict(data[X_cols])\n",
    "\n",
    "    # Store results\n",
    "    return len(train_data), np.mean(traj), traj"
   ]
  },
  {
   "cell_type": "code",
   "execution_count": 11,
   "metadata": {
    "collapsed": true
   },
   "outputs": [],
   "source": [
    "def train_over_time(model, data, steps=None):\n",
    "    \"\"\"Train the model on increasingly-larger amounts of data\n",
    "    \n",
    "    :param model: model to be tested\n",
    "    :param data: training/test data\n",
    "    :param steps: increments to test at. Model is trained at all entries before this timestep\n",
    "    :return: Several lists:\n",
    "        - train_size: Number of training points\n",
    "        - average_force: Average force (i.e., stopping power) \n",
    "        - trajectory: Full trajectory\n",
    "        - step: timestep\n",
    "    \"\"\"\n",
    "    \n",
    "    # Get the default steps\n",
    "    if steps is None:\n",
    "        steps = np.linspace(data['timestep'].min(), data['timestep'].max(), 31, dtype=np.int)[1:]\n",
    "        \n",
    "    # Test the models\n",
    "    futures = [test_on_first_part(deepcopy(model), data, step) for step in steps]\n",
    "    train_size, mean_forces, trajs = zip(*[f.result() for f in futures])    \n",
    "    return train_size, mean_forces, trajs, steps"
   ]
  },
  {
   "cell_type": "code",
   "execution_count": 12,
   "metadata": {
    "collapsed": true
   },
   "outputs": [],
   "source": [
    "test_results = dict()\n",
    "def run_tests(model, name, verbose=False):\n",
    "    \"\"\"Evaluate a model, store results in test_results variable\n",
    "    \n",
    "    :param model: model to test\n",
    "    :param name: name of results to store\"\"\"\n",
    "        \n",
    "    # Increase time CV\n",
    "    step, mean_forces, traj, steps = train_over_time(model, data)\n",
    "    \n",
    "    if verbose:\n",
    "        print('Model: %s - Stopping power after half simulation: predicted=%.2f actual=%.2f'%(name,\n",
    "                                                                                              mean_forces[int(len(mean_forces)/2)],                                                                                 data[y_col].mean()))\n",
    "        \n",
    "    # Train model on whole dataset\n",
    "    model.fit(data[X_cols], data[y_col])\n",
    "    \n",
    "    test_results[name] = {\n",
    "        'over_time': {'training_size': step, 'mean_force': mean_forces, 'traj': traj, 'step':steps},\n",
    "        'model': deepcopy(model)\n",
    "    }"
   ]
  },
  {
   "cell_type": "markdown",
   "metadata": {},
   "source": [
    "### Run a dummy model\n",
    "Get a \"non-ML\" baseline"
   ]
  },
  {
   "cell_type": "code",
   "execution_count": 13,
   "metadata": {
    "collapsed": true
   },
   "outputs": [],
   "source": [
    "model = DummyRegressor()"
   ]
  },
  {
   "cell_type": "code",
   "execution_count": 14,
   "metadata": {},
   "outputs": [
    {
     "name": "stdout",
     "output_type": "stream",
     "text": [
      "Model: dummy - Stopping power after half simulation: predicted=0.25 actual=0.25\n",
      "CPU times: user 1.9 s, sys: 84 ms, total: 1.98 s\n",
      "Wall time: 2.1 s\n"
     ]
    }
   ],
   "source": [
    "%%time\n",
    "run_tests(model, 'dummy', True)"
   ]
  },
  {
   "cell_type": "markdown",
   "metadata": {},
   "source": [
    "### Test Bayesian Ridge\n"
   ]
  },
  {
   "cell_type": "code",
   "execution_count": 15,
   "metadata": {
    "collapsed": true
   },
   "outputs": [],
   "source": [
    "model = BayesianRidge()"
   ]
  },
  {
   "cell_type": "code",
   "execution_count": 16,
   "metadata": {},
   "outputs": [
    {
     "name": "stdout",
     "output_type": "stream",
     "text": [
      "Model: bayes - Stopping power after half simulation: predicted=0.24 actual=0.25\n",
      "CPU times: user 2.02 s, sys: 112 ms, total: 2.13 s\n",
      "Wall time: 2.18 s\n"
     ]
    }
   ],
   "source": [
    "%%time\n",
    "run_tests(model, 'bayes', True)"
   ]
  },
  {
   "cell_type": "markdown",
   "metadata": {},
   "source": [
    "### Test Bayesian Ridge w/ Poly Features"
   ]
  },
  {
   "cell_type": "code",
   "execution_count": 17,
   "metadata": {
    "collapsed": true
   },
   "outputs": [],
   "source": [
    "model = Pipeline([\n",
    "    ('poly', PolynomialFeatures(degree=2, include_bias=False)),\n",
    "    ('model', BayesianRidge())\n",
    "])"
   ]
  },
  {
   "cell_type": "code",
   "execution_count": 18,
   "metadata": {},
   "outputs": [
    {
     "name": "stdout",
     "output_type": "stream",
     "text": [
      "Model: bayes_poly - Stopping power after half simulation: predicted=0.26 actual=0.25\n",
      "CPU times: user 4.98 s, sys: 308 ms, total: 5.28 s\n",
      "Wall time: 2.99 s\n"
     ]
    }
   ],
   "source": [
    "%%time\n",
    "run_tests(model, 'bayes_poly', True)"
   ]
  },
  {
   "cell_type": "markdown",
   "metadata": {},
   "source": [
    "### Lasso"
   ]
  },
  {
   "cell_type": "code",
   "execution_count": 19,
   "metadata": {
    "collapsed": true
   },
   "outputs": [],
   "source": [
    "model = GridSearchCV(Lasso(normalize=True, max_iter=500), {'alpha':np.logspace(-7,-1,20)}, cv=4)"
   ]
  },
  {
   "cell_type": "code",
   "execution_count": 20,
   "metadata": {},
   "outputs": [
    {
     "name": "stdout",
     "output_type": "stream",
     "text": [
      "Model: lasso - Stopping power after half simulation: predicted=0.24 actual=0.25\n",
      "CPU times: user 32.5 s, sys: 1.37 s, total: 33.9 s\n",
      "Wall time: 9.28 s\n"
     ]
    }
   ],
   "source": [
    "%%time\n",
    "run_tests(model, 'lasso', True)"
   ]
  },
  {
   "cell_type": "markdown",
   "metadata": {},
   "source": [
    "### Lasso+BayesianRidge"
   ]
  },
  {
   "cell_type": "code",
   "execution_count": 21,
   "metadata": {
    "collapsed": true
   },
   "outputs": [],
   "source": [
    "model = GridSearchCV(Pipeline([\n",
    "    ('lasso_rfe', SelectFromModel(\n",
    "        LassoLars(normalize=True, max_iter=22, fit_intercept=False, alpha=1e-10))\n",
    "    ),\n",
    "    ('model', BayesianRidge(normalize=True))\n",
    "]), {'lasso_rfe__estimator__max_iter':range(5,30)}, cv=4)"
   ]
  },
  {
   "cell_type": "code",
   "execution_count": 22,
   "metadata": {},
   "outputs": [
    {
     "name": "stdout",
     "output_type": "stream",
     "text": [
      "Model: lasso+bayes - Stopping power after half simulation: predicted=0.25 actual=0.25\n",
      "CPU times: user 14.1 s, sys: 640 ms, total: 14.8 s\n",
      "Wall time: 5.55 s\n"
     ]
    }
   ],
   "source": [
    "%%time\n",
    "run_tests(model, 'lasso+bayes', True)"
   ]
  },
  {
   "cell_type": "markdown",
   "metadata": {},
   "source": [
    "### Test Bayesian Ridge w/ Poly Features"
   ]
  },
  {
   "cell_type": "code",
   "execution_count": 23,
   "metadata": {
    "collapsed": true
   },
   "outputs": [],
   "source": [
    "model = GridSearchCV(Pipeline([\n",
    "    ('poly', PolynomialFeatures(degree=2, include_bias=False)),\n",
    "    ('lasso_rfe', SelectFromModel(\n",
    "        LassoLars(normalize=True, max_iter=35, alpha=1e-10))\n",
    "    ),\n",
    "    ('model', BayesianRidge(normalize=True))\n",
    "]), {'lasso_rfe__estimator__max_iter':range(40,50,1)}, cv=2)"
   ]
  },
  {
   "cell_type": "code",
   "execution_count": 24,
   "metadata": {},
   "outputs": [
    {
     "name": "stdout",
     "output_type": "stream",
     "text": [
      "Model: lasso+bayes_poly - Stopping power after half simulation: predicted=0.25 actual=0.25\n",
      "CPU times: user 14.3 s, sys: 788 ms, total: 15.1 s\n",
      "Wall time: 5.32 s\n"
     ]
    }
   ],
   "source": [
    "%%time\n",
    "run_tests(model, 'lasso+bayes_poly', True)"
   ]
  },
  {
   "cell_type": "markdown",
   "metadata": {},
   "source": [
    "Print the chosen settings"
   ]
  },
  {
   "cell_type": "code",
   "execution_count": 25,
   "metadata": {},
   "outputs": [
    {
     "name": "stdout",
     "output_type": "stream",
     "text": [
      "{'lasso_rfe__estimator__max_iter': 49}\n"
     ]
    }
   ],
   "source": [
    "print(test_results['lasso+bayes_poly']['model'].best_params_)"
   ]
  },
  {
   "cell_type": "markdown",
   "metadata": {},
   "source": [
    "### Test Ordinary Least Squares"
   ]
  },
  {
   "cell_type": "code",
   "execution_count": 26,
   "metadata": {
    "collapsed": true
   },
   "outputs": [],
   "source": [
    "model = LinearRegression(fit_intercept=False)"
   ]
  },
  {
   "cell_type": "code",
   "execution_count": 27,
   "metadata": {},
   "outputs": [
    {
     "name": "stdout",
     "output_type": "stream",
     "text": [
      "Model: ols - Stopping power after half simulation: predicted=0.15 actual=0.25\n",
      "CPU times: user 3.47 s, sys: 140 ms, total: 3.61 s\n",
      "Wall time: 2.18 s\n"
     ]
    }
   ],
   "source": [
    "%%time\n",
    "run_tests(model, 'ols', True)"
   ]
  },
  {
   "cell_type": "markdown",
   "metadata": {},
   "source": [
    "## Determine the best algorithm\n",
    "As the force acting on a particle varies by several orders of magnitude and changes sign, I will use the Spearman's correlation coefficient to determine the optimal algorithm. Usually, I like to use MAE. Given the large range of forces, small variations in the very large forces have a greater impact on the MAE than relatively similar changes on the small forces. I could also use the MRE or fit to the log of the error, but the sign change makes those routes impractical. So, I choose the Spearman's correlation coefficient "
   ]
  },
  {
   "cell_type": "code",
   "execution_count": 28,
   "metadata": {
    "collapsed": true
   },
   "outputs": [],
   "source": [
    "num_tests = len(test_results['ols']['over_time']['traj'])"
   ]
  },
  {
   "cell_type": "code",
   "execution_count": 29,
   "metadata": {},
   "outputs": [
    {
     "name": "stdout",
     "output_type": "stream",
     "text": [
      "Training set size:  3739\n"
     ]
    },
    {
     "data": {
      "text/html": [
       "<div>\n",
       "<style scoped>\n",
       "    .dataframe tbody tr th:only-of-type {\n",
       "        vertical-align: middle;\n",
       "    }\n",
       "\n",
       "    .dataframe tbody tr th {\n",
       "        vertical-align: top;\n",
       "    }\n",
       "\n",
       "    .dataframe thead th {\n",
       "        text-align: right;\n",
       "    }\n",
       "</style>\n",
       "<table border=\"1\" class=\"dataframe\">\n",
       "  <thead>\n",
       "    <tr style=\"text-align: right;\">\n",
       "      <th></th>\n",
       "      <th>force_mae</th>\n",
       "      <th>force_spearman</th>\n",
       "    </tr>\n",
       "  </thead>\n",
       "  <tbody>\n",
       "    <tr>\n",
       "      <th>bayes</th>\n",
       "      <td>0.031066</td>\n",
       "      <td>0.994494</td>\n",
       "    </tr>\n",
       "    <tr>\n",
       "      <th>lasso+bayes_poly</th>\n",
       "      <td>0.045071</td>\n",
       "      <td>0.994275</td>\n",
       "    </tr>\n",
       "    <tr>\n",
       "      <th>lasso+bayes</th>\n",
       "      <td>0.042815</td>\n",
       "      <td>0.989586</td>\n",
       "    </tr>\n",
       "    <tr>\n",
       "      <th>lasso</th>\n",
       "      <td>0.037494</td>\n",
       "      <td>0.986964</td>\n",
       "    </tr>\n",
       "    <tr>\n",
       "      <th>bayes_poly</th>\n",
       "      <td>0.090611</td>\n",
       "      <td>0.960651</td>\n",
       "    </tr>\n",
       "    <tr>\n",
       "      <th>ols</th>\n",
       "      <td>0.256649</td>\n",
       "      <td>0.844944</td>\n",
       "    </tr>\n",
       "  </tbody>\n",
       "</table>\n",
       "</div>"
      ],
      "text/plain": [
       "                  force_mae  force_spearman\n",
       "bayes              0.031066        0.994494\n",
       "lasso+bayes_poly   0.045071        0.994275\n",
       "lasso+bayes        0.042815        0.989586\n",
       "lasso              0.037494        0.986964\n",
       "bayes_poly         0.090611        0.960651\n",
       "ols                0.256649        0.844944"
      ]
     },
     "execution_count": 29,
     "metadata": {},
     "output_type": "execute_result"
    }
   ],
   "source": [
    "experiment_number = int(num_tests * 0.5)\n",
    "\n",
    "train_size = test_results['lasso']['over_time']['training_size'][experiment_number]\n",
    "print('Training set size: ', train_size)\n",
    "results = dict([\n",
    "    (name, {'force_mae': np.abs(data[y_col][train_size:] - my_data['over_time']['traj'][experiment_number][train_size:]).mean(),\n",
    "            'force_spearman': stats.spearmanr(data[y_col][train_size:],\n",
    "                                              my_data['over_time']['traj'][experiment_number][train_size:])[0]})\n",
    "    for name, my_data in test_results.items()\n",
    "])\n",
    "del results['dummy']\n",
    "over_time_results = pd.DataFrame(results).T\n",
    "over_time_results.sort_values('force_spearman', ascending=False, inplace=True)\n",
    "over_time_results"
   ]
  },
  {
   "cell_type": "code",
   "execution_count": 30,
   "metadata": {},
   "outputs": [
    {
     "data": {
      "image/png": "[encoded data removed]",
      "text/plain": [
       "<Figure size 576x360 with 1 Axes>"
      ]
     },
     "metadata": {},
     "output_type": "display_data"
    }
   ],
   "source": [
    "fig, ax = plt.subplots()\n",
    "\n",
    "ax.bar(range(len(over_time_results)), over_time_results['force_spearman'])\n",
    "\n",
    "ax.set_xticks(range(len(over_time_results)))\n",
    "ax.set_xticklabels(list(over_time_results.index), fontsize=14, rotation=-45);\n",
    "\n",
    "ax.set_ylim(0.9, 1)\n",
    "ax.set_ylabel('Spearman Correlation', fontsize=18)\n",
    "ax.set_xlabel('Algorithm', fontsize=18)\n",
    "\n",
    "fig.set_size_inches(8, 5)\n",
    "fig.tight_layout()"
   ]
  },
  {
   "cell_type": "markdown",
   "metadata": {},
   "source": [
    "Select the best model"
   ]
  },
  {
   "cell_type": "code",
   "execution_count": 31,
   "metadata": {},
   "outputs": [
    {
     "name": "stdout",
     "output_type": "stream",
     "text": [
      "Best model: bayes\n"
     ]
    }
   ],
   "source": [
    "best_model = over_time_results.index[0]\n",
    "print('Best model:', best_model)"
   ]
  },
  {
   "cell_type": "markdown",
   "metadata": {},
   "source": [
    "## Plot just the best one\n",
    "Show the model performance"
   ]
  },
  {
   "cell_type": "code",
   "execution_count": 32,
   "metadata": {
    "collapsed": true
   },
   "outputs": [],
   "source": [
    "best_results = test_results['lasso+bayes_poly'] # This fits the data the best at large training set sizes"
   ]
  },
  {
   "cell_type": "code",
   "execution_count": 33,
   "metadata": {
    "collapsed": true
   },
   "outputs": [],
   "source": [
    "pkl.dump(best_results['model'], open('best_model.pkl', 'wb'))"
   ]
  },
  {
   "cell_type": "markdown",
   "metadata": {},
   "source": [
    "Plot how well the algorithm forecasts stopping force"
   ]
  },
  {
   "cell_type": "code",
   "execution_count": 34,
   "metadata": {},
   "outputs": [
    {
     "data": {
      "image/png": "[encoded data removed]",
      "text/plain": [
       "<Figure size 936x432 with 4 Axes>"
      ]
     },
     "metadata": {},
     "output_type": "display_data"
    }
   ],
   "source": [
    "fig, axs = plt.subplots(2, 2, sharex=True, sharey=True)\n",
    "\n",
    "\n",
    "for f,ax in zip([0,int(0.25*num_tests),int(0.5*num_tests),int(0.75*num_tests)],axs.flatten()):\n",
    "    \n",
    "    ax.plot(data['timestep'], data['force'], 'k--', lw=2)\n",
    "    ax.set_ylim(ax.get_ylim()) # Make sure the scales stay appropriate\n",
    "    \n",
    "    traj = best_results['over_time']['traj'][f]\n",
    "    ax.plot(data['timestep'], traj, 'r-', alpha=0.7, lw=2)\n",
    "    traj_error = np.abs(traj - data['force']).mean()\n",
    "    \n",
    "    ax.text(4200, 30, 'MAE: %.3f $E_H/a_B$'%traj_error, fontsize=18,\n",
    "           bbox=dict(edgecolor='k', facecolor='w'))\n",
    "    \n",
    "    ax.text(4000, -80, 'Training size: %d'%best_results['over_time']['training_size'][f],\n",
    "            fontsize=18,\n",
    "           bbox=dict(edgecolor='k', facecolor='w'))\n",
    "    \n",
    "    ax.plot([best_results['over_time']['step'][f],]*2, ax.get_ylim(), 'b--')\n",
    "    \n",
    "    ax.set_yscale('symlog')\n",
    "\n",
    "axs[1,0].set_xlabel('Timestep', fontsize=18)\n",
    "axs[1,1].set_xlabel('Timestep', fontsize=18)\n",
    "axs[0,0].set_ylabel('Force ($E_H/a_B$)', fontsize=18)\n",
    "axs[1,0].set_ylabel('Force ($E_H/a_B$)', fontsize=18)\n",
    "\n",
    "fig.set_size_inches(13,6)\n",
    "fig.tight_layout()\n",
    "\n",
    "fig.savefig(os.path.join('figures', 'random-trajectory-fit.png'), dpi=320)"
   ]
  },
  {
   "cell_type": "code",
   "execution_count": 35,
   "metadata": {},
   "outputs": [
    {
     "data": {
      "image/png": "[encoded data removed]",
      "text/plain": [
       "<Figure size 936x432 with 4 Axes>"
      ]
     },
     "metadata": {},
     "output_type": "display_data"
    }
   ],
   "source": [
    "fig, axs = plt.subplots(2, 2, sharex=True, sharey=True)\n",
    "\n",
    "\n",
    "for f,ax in zip([0,int(0.25*num_tests),int(0.5*num_tests),int(0.75*num_tests)],axs.flatten()):\n",
    "    \n",
    "    ax.plot(data['timestep'], data['force'], 'k--', lw=2)\n",
    "    ax.set_ylim([0,0.4]) # Make sure the scales stay appropriate\n",
    "    ax.set_xlim(4000, 5000)\n",
    "    \n",
    "    traj = best_results['over_time']['traj'][f]\n",
    "    ax.plot(data['timestep'], traj, 'r-', alpha=0.7, lw=2)\n",
    "    traj_error = np.abs(traj - data['force']).mean()\n",
    "    \n",
    "    ax.text(0.6, 0.9, 'MAE: %.3f $E_H/a_B$'%traj_error, fontsize=18,\n",
    "           bbox=dict(edgecolor='k', facecolor='w'), transform=ax.transAxes)\n",
    "    \n",
    "    ax.text(0.6, 0, 'Training size: %d'%best_results['over_time']['training_size'][f],\n",
    "            fontsize=18, bbox=dict(edgecolor='k', facecolor='w'), transform=ax.transAxes)\n",
    "    \n",
    "    ax.plot([best_results['over_time']['step'][f],]*2, ax.get_ylim(), 'b--')\n",
    "\n",
    "axs[1,0].set_xlabel('Timestep', fontsize=18)\n",
    "axs[1,1].set_xlabel('Timestep', fontsize=18)\n",
    "axs[0,0].set_ylabel('Force ($E_H/a_B$)', fontsize=18)\n",
    "axs[1,0].set_ylabel('Force ($E_H/a_B$)', fontsize=18)\n",
    "\n",
    "fig.set_size_inches(13,6)\n",
    "fig.tight_layout()"
   ]
  },
  {
   "cell_type": "markdown",
   "metadata": {},
   "source": [
    "The above figure shows the fitness of the model as a function of training set size. In each frame, the model is trained on the data to the left of the blue, vertical line. The predictions of the model are shown in red and the TD-DFT result in black. After we've trained the model on half of the dataset (bottom left), the model fits the entire trajectory very well. At this point, we could stop the TD-DFT simulation and, instead, use our ML surrogate to compute the stopping power. By using the surrogate instead, we would get the same result as TD-DFT with only half of the computational expense."
   ]
  },
  {
   "cell_type": "markdown",
   "metadata": {},
   "source": [
    "## Make it an animation\n",
    "Show the fitness improving as more training data is added"
   ]
  },
  {
   "cell_type": "code",
   "execution_count": 36,
   "metadata": {},
   "outputs": [],
   "source": [
    "model = best_results['model']"
   ]
  },
  {
   "cell_type": "code",
   "execution_count": 37,
   "metadata": {
    "collapsed": true
   },
   "outputs": [],
   "source": [
    "frames = np.linspace(10, len(data) / 2, 15, dtype=np.int)"
   ]
  },
  {
   "cell_type": "code",
   "execution_count": 38,
   "metadata": {},
   "outputs": [
    {
     "data": {
      "image/png": "[encoded data removed]",
      "text/plain": [
       "<Figure size 576x288 with 1 Axes>"
      ]
     },
     "metadata": {},
     "output_type": "display_data"
    }
   ],
   "source": [
    "fig, ax = plt.subplots()\n",
    "\n",
    "ax.plot(data['timestep'], data['force'], 'k--', lw=2)\n",
    "\n",
    "model.fit(data[X_cols].iloc[:10], data[y_col].iloc[:10])\n",
    "lne, = ax.plot(data['timestep'], model.predict(data[X_cols]), 'r-', alpha=0.7, lw=2)\n",
    "ax.set_ylim(ax.get_ylim())\n",
    "bar, = ax.plot([data['timestep'].iloc[:1].max(),]*2, ax.get_ylim(), 'b--')\n",
    "\n",
    "def update(frame):\n",
    "    size = frames[frame]\n",
    "    model.fit(data[X_cols].iloc[:size], data[y_col].iloc[:size])\n",
    "    lne.set_data(data['timestep'], model.predict(data[X_cols]))\n",
    "    \n",
    "    bar.set_data([data['timestep'].iloc[:size].max(),]*2, ax.get_ylim())\n",
    "    return lne, bar\n",
    "    \n",
    "anim = FuncAnimation(fig, update, frames=len(frames), interval=100, blit=True)\n",
    "\n",
    "ax.set_yscale('symlog')\n",
    "ax.set_xlabel('Timestep', fontsize=18)\n",
    "ax.set_ylabel('Force ($E_H/a_B$)', fontsize=18)\n",
    "fig.tight_layout()\n",
    "fig.set_size_inches(8, 4)"
   ]
  },
  {
   "cell_type": "code",
   "execution_count": 39,
   "metadata": {
    "scrolled": true
   },
   "outputs": [
    {
     "data": {
      "text/html": [
       "<video width=\"576\" height=\"288\" controls autoplay loop>\n",
       "  <source type=\"video/mp4\" src=\"data:video/mp4;base64,AAAAHGZ0eXBNNFYgAAACAGlzb21pc28yYXZjMQAAAAhmcmVlAAC0d21kYXQAAAKuBgX//6rcRem9\n",
       "5tlIt5Ys2CDZI+7veDI2NCAtIGNvcmUgMTQ4IHIyNjQzIDVjNjU3MDQgLSBILjI2NC9NUEVHLTQg\n",
       "QVZDIGNvZGVjIC0gQ29weWxlZnQgMjAwMy0yMDE1IC0gaHR0cDovL3d3dy52aWRlb2xhbi5vcmcv\n",
       "eDI2NC5odG1sIC0gb3B0aW9uczogY2FiYWM9MSByZWY9MyBkZWJsb2NrPTE6MDowIGFuYWx5c2U9\n",
       "MHgzOjB4MTEzIG1lPWhleCBzdWJtZT03IHBzeT0xIHBzeV9yZD0xLjAwOjAuMDAgbWl4ZWRfcmVm\n",
       "PTEgbWVfcmFuZ2U9MTYgY2hyb21hX21lPTEgdHJlbGxpcz0xIDh4OGRjdD0xIGNxbT0wIGRlYWR6\n",
       "b25lPTIxLDExIGZhc3RfcHNraXA9MSBjaHJvbWFfcXBfb2Zmc2V0PS0yIHRocmVhZHM9OSBsb29r\n",
       "YWhlYWRfdGhyZWFkcz0xIHNsaWNlZF90aHJlYWRzPTAgbnI9MCBkZWNpbWF0ZT0xIGludGVybGFj\n",
       "ZWQ9MCBibHVyYXlfY29tcGF0PTAgY29uc3RyYWluZWRfaW50cmE9MCBiZnJhbWVzPTMgYl9weXJh\n",
       "bWlkPTIgYl9hZGFwdD0xIGJfYmlhcz0wIGRpcmVjdD0xIHdlaWdodGI9MSBvcGVuX2dvcD0wIHdl\n",
       "aWdodHA9MiBrZXlpbnQ9MjUwIGtleWludF9taW49MTAgc2NlbmVjdXQ9NDAgaW50cmFfcmVmcmVz\n",
       "aD0wIHJjX2xvb2thaGVhZD00MCByYz1jcmYgbWJ0cmVlPTEgY3JmPTIzLjAgcWNvbXA9MC42MCBx\n",
       "cG1pbj0wIHFwbWF4PTY5IHFwc3RlcD00IGlwX3JhdGlvPTEuNDAgYXE9MToxLjAwAIAAACY+ZYiE\n",
       "ABD//veBvzLLXyK6yXH5530pYfgvNxgAbVAU3kgCgcumgXbObVrPVQydQLbNsHkdbIrFf6dnQw37\n",
       "MJLtm/aOk+HivLoQLgAAAwCWDcwAA2OXl4PRWp4pXrrVGq7xsi3nP2d9bP7h6SZ7UquucKAujagp\n",
       "vQx6j7reVg/ix6tMqWCvU/m0klmiZ88EYHpIVU/7izvVaEx3KZDSDuCO/56BgHGjnfURklaBamxt\n",
       "SccJl42Ape8kDz0Bjllt5KVtpL+ypQ/eSRKvlrxNpkwt8Lx4exJkpigDAXghEGHayYEYnQaA5ypm\n",
       "x4v+NL/PlN6RB8zKbTitx5t5WAAAFK+pewOMTB7CCV/Wz5XzzhpqBXjfHj/c3kmhoVWkyGoC8GFz\n",
       "2jvWXalvu8Qy9L4srUcg+rbkZJMHtDcFmKd8l2v93We38IgkQPh1yrZ4WG0FgHa2htX50xy0h8Hq\n",
       "IaPuaIzst1P2Pk9EKD9vj+/7UOVl5UEmv8CTT+uKYDLFT2njKCy0pRqi+4pFzxTrpjAoMfpqjViT\n",
       "8wY/rY158i2OQ59JHNOGxxxlmIY9oEzexjFv41A5uhsECnI3wQpIIFQqlhzt11stKejglb2kpX0M\n",
       "m8PvujrfR53855maYI2Guw3+VgkzlYzC0OSpzsxRi25c/gy+LZMhsaFTN/K77yKBjMycuREetG7Y\n",
       "EpIqU1OVbTCvhU1QOtOjgeWboCZy8qZGVqd8F9GOcu4mdb1uSTAePNe2rPiX2O0PSoDawKqWsx9V\n",
       "fg1Jh4YFfyYxYhd2LNFVRz/9ALUxC1ZgH2JUNTuHmjlrWuxNGVrZ8RHy35lzw1BTs3KL90odM/iJ\n",
       "szBMWiQ8EUeCngEpnRbuzCc8SSaBFHCAo+KPGu2N3h9Rdqp/tr3flTIwwy+LHbR5NMy74L6HNmyp\n",
       "atGvVuuQBFD/GBd4wHdM1zirPZUI92Wq3e+Qtwv/eMIqzwWGb0Ohk4dnitDPakzO4Id2tXU1XYaw\n",
       "R9duKeqkfGQsR4ij4Ld7OY5rKw9b+8QJjmedPSbyTCszYVgBdYsOBjJeuhUryv5ZnuL3u+fu48GE\n",
       "0jSgPF09+7hU7Eh2NqaAiuwPMfKhAiIp4Q0cAAHr/AYFpbCsgtajQbGJpN3exgcdWyxlV8lRBnyA\n",
       "exgs9ykYKlfuvnvEVztGM28I1Q1MR81Z9aPFET5jAk9mQwOZ57eyuSki6Jv6vPYBL1kiqU9h2hld\n",
       "yuZ2e/baS4D2Aq5SEl9U+F8pa4GBxeKPomrU79SIkQ4uL+Yw+eYLDBi4HrMpEkevEFRP7eLq+YxZ\n",
       "iHx3jbt6h8r+PC8sRXQxkyWSU0Bds/N3LcUEtqfSSOoPZhPOeOzl04SPO9FyHXwRJ8t5C0Ju8Bw5\n",
       "rgtOwmeSkzFW1M6FGUmGCLm2UyBddRD865Z2zEnrfGo5BoJ8dYOCcrE59WuLYrCEkE2vZ1GqAUNl\n",
       "+wCGy4tfP2zfBIgkYBxExvdyo8FjB2U4ANtOikvjxIIPloydOqNqbaQn/idiZaVcjLSZuhMzP1cQ\n",
       "wgF3znyaoIJZBne3P+K5Amstb0lQxZA1H9DodoM0F7izJPHSH2GOiMrjaxnmRMXOQ1RWe+/b7DgP\n",
       "kEs9LBt+ZtorAzEFp4AdjJ1spNkCIlrUZcq3vu980OegpsfI3m9fP8XJpkCyp2I1oQWJRgXtgyou\n",
       "gWUUJY/0537B1DK1XlfMvI+Kd/pxjOIczRGmU0Wb4utcZu6FhmEY8t+I+p8webiyUOS+BqSQTqGs\n",
       "xZnFsYzbGFTGSO0XrSpAti7OJK65AOcpSsiYk3FmIfnaeXbL4UR9WEY4wZlQDM1j7vrVI0C/YQ5C\n",
       "58HOMRfVnC0dFAg/IOsTBsHtKN9IxoTgEcgRHyjJJQRiIXct3IgexdnsQgAlvXnfklzmDLeQQDaL\n",
       "UmPFm/7/vl9To+I7pUnZk+Z7HsPzDisF2mxwolHS/DhSjr//V9ZHmDOFgUujSlhotTs5fQ2VIYzx\n",
       "0oCLPMa3FvYjNSOU0g5dx7iGlA9YzR96Aop1u3nDUWYFhYHjyRYQ02ZZMA5iE83guwL67IYCtdPf\n",
       "yrqZ771aJwhMrOq7XnwbHgFtvXfOcLfA1BHn3JWYDALv3nX/c3b/U3DXi/Dh/QD4Tc/O+6dDRyIf\n",
       "psgLXH7rTVSPT31AFYAkHYK3TP+WBKyFiPBoVR4Kbqpth66oBy0Zj17gKgYha8svYskXMpqihM6z\n",
       "BE1lw5sGYp3ec0HaFCtp6WyEjQz1GOJu5A5ew1Z2Jx37cJPkmo6dRqggNZx79QhdFpKR587pRmUY\n",
       "asLgamBwqbU8gdupzFqVZ4Wzsk0NuPmbd30DRSV0ZVD4tksMC32I6pagyA1JNgALF9ut/IRYxsC7\n",
       "D/rc7lckccA6+K7Xlf0iWfX82LKEWb0y68CK9Nfdtv/fpYo+HSWgwfEJC/mYOUTTPF/GoCAQTMBR\n",
       "36nZYGkJUgCOvsfgaoF8GtDXWjZtcmoa2smxS2+DNITwRylsQNeKwqrgJYPGCxI+OSwFhAwtfuvV\n",
       "gdQnW0M94JpZZnW3wXIymyNdACYVZeGWbPGp/Y/VdaBPqvYJpMFuZLqPOlP+tS7I/kKggjkMiyVE\n",
       "vXDb3TuYmGtPi16ns18A46w2z2ByvYMPaud/F2ydXAQFs6XvBSPRSgkpA7N/rceEAzJRRUOmVLwe\n",
       "03bOEpgmjZKwAYheRttp+GEz0eYYk8szYfqKKheuM2KkHbffn2OcxA0rrHAdFTESXXLnMTYs3daE\n",
       "cZQ6wdoU1lCFAbq3vl/X7FbT+OfB+p+NbNL7mX2Siwh+8+ztRj+OVcO2kmQWEy8Yz59frriS2TWf\n",
       "ahxggkwEitMWzUFW0Aqyt2PGPkjA8iR2ovPxqckVDn0NfirCFaxFHUswYreMDvucJwaaCfa1riX1\n",
       "1rKB4D/umfKfgzOabJd6okjFQfcww7z0/66O5dtcc1dgfCDTVDR/OxSfihMVGVYdtcECSPuOl+05\n",
       "xxEhsWj7jF1UE1qgXFRj3ibZoLy7isxIX3gueMVPTlNEYzeQW5MMBEv/M2gWvTOkF05LLACe31S7\n",
       "cT7HrnCVBhqnxZotjOBcEDEpKMhRQ9Mja/nzece+uKmR9byJM3uCxN+NQSNMKe7Ivv/6aLj50l17\n",
       "4xkZ8R6kjeGooSJBSdm2xx9iGcd0aV3poqEFz4ejwLeHIplRwKzMUdV8qHznyoysb/mR41uEx2aD\n",
       "HL24TCu/NGoz04SYKaOSLxo9wcDBoaWKc4Sy2v/rXvv6mDmIWV8/vDxXI5QPsKlFcyYA03zYgCCX\n",
       "bp+Vh8N8sxP0DOqO5n45TqqTW30KOtqJkA1A6+9nhv7o3X7UBaLPoWYMAPv/3XotF30k/jxPeUd5\n",
       "isD2iJ0FA4ypuwBAdPK+ySgljyQc+CiH3XoCW/hC5beKGvj3PJ8Dc2qUdiLJ/uKgJTxHQhhq+2eP\n",
       "LgfujFo9ekQEOLuF6n1fg8ap5B7xBQ9qgROrUGfsgHwxGPdlVfFRywavHTMt1ieRTygujvavyU/3\n",
       "rNK9Vwe8kdHBmlRPKCMQjGUUsurpmTNmo/FSJleiJs90TP7qz0qh0h7jhUqQUBxMBij/QClt3jQh\n",
       "FZ7MtP0PNmJbwrgk3pvcGIr6FOHfgv/AxHaLnZ9jG7rjQHDvpicIs8/dRbU30b3/sk+CM33T4GNo\n",
       "bHXfqnbJUmgegTS1PO6Do9tylX9osLRFzB8/mSVaaWS9oZ60NmMZM5cXVTPnJp7DXN7iYlfbKy2D\n",
       "B/DaO9wOXzVevdpA5maA5YjBJSrYMeO4IIZqo3Pdf2jYvjB6YrpcqovxF/wzToZieXBTNAMTshVz\n",
       "XSan3xTqDvDZ9VnyLNoLQLv0Y/Hr9aYeFfaE08KbnC0kPyl4+905iBYABme/YrolHP5b6oiCU0fT\n",
       "g/w+SsvGYFChO7kn7UphZhLxfTmKFdjUxo2dMYdYzUJ4QkdSR/sKH9cS+V8m1MSpUwE2pOVqtVEk\n",
       "ZvEtiG1xjKE1euDJo5GM0kvrGJyrUKeej6VsZ0AfVheRf4RuyZabCB2H65lAqxCV711I+oI9Tv96\n",
       "kWXmmRF2bapPauFJ6GxDptlej2tEHBWVpgFG/iZ/M+3dPqFRHwCZ72DPuTEzZGPkm+V569RYYcjt\n",
       "ZgVRXypykmeUN/UUpNd7P0P/1KYRKWx/jwkaPJ1PbRmH+skRsrso+EoriSiaduy7Hz+p6ubwTzI0\n",
       "L/GwUBl4oYj+t/bq3+20dhdykSWataowzbgyxmZOzDxbDoJ2z1ubJnYouabEw+ste8uGTCz7KAi4\n",
       "HJmR/sE7XHjKfMHXk60o/2xSI/vS/PBUQVtyhpjLO8noNK0l0xeoaFO8xk6IHFhnjpQ8wveos6OT\n",
       "9iSisz0O014urAT+Clp8WL9Da4h3tzItxl+FWJ6guXb/Os7R30hMYs7P4xCGOq5JIqnhez3L2vdU\n",
       "8ItYan3YQRZIHauCZSAQpXioSmSX5rGdF5mGQDgdOCNKxx2zv3SjdmtwqcBGdkuqbikvHQ8je0El\n",
       "f8K7CytTgQ8tulkxYRtE67f5oqAfmvzHJw6Uo3DnKrv3e3SmyUBXOqWZE2KQCKdjw0D5auShXDD9\n",
       "UIgXzeD+gptmuN2sJuwmgnw+ypGLISHDdGxgH+49XkoUKmjDTCLCyhZnzjAXu0lvXZI/JKmNgFik\n",
       "24iht85+tOKPp4Tvi90KG/DfhoHvzX6tGD90O7FLVhUTBcoJUD9omwLp7elPY/hydIMDYDYOIxvh\n",
       "oJ3DsuOCAmnzpep2MBTtBP3eKJq+a2n4PVml9WXm/Dit/m57Xs3+YtRiu2JNkd0QT3B/cmBh/Z7V\n",
       "4pdmJKYTwrfKHQ1vRJ4w9rSGN4R8hWj+EZfkUjD7gHO2uuDWEPDsS3bEjTyYAIH6CaOcP6dNeUI7\n",
       "oNwuUtOnb0BFzcdH8H2CLcOSi57C2rwWfACz+C127Op/MYW3IxarhY20Or3OMA0J9PzuI2zpbaZK\n",
       "cYeTB75NFOQ4P/OD+kvwN/7tHWoI8/GAhAOGtOBCcB1t6WGvZlc8UaJJtQKrFc7mFCffMnEDtjj5\n",
       "Ongr68jO1ibMSabMgHRXiXYt4ocS3x3zyexKS6EayE+f+OY0op5S4gItNwhQy7GBBWKNRUxJJl16\n",
       "mukiWhiOeq3oDf9xh0K+RdU4Wrmh0AR5KSxoNfkiB3UCNgV3+/cKsgux9lRBD9g2PVh37dC5fIva\n",
       "R3h6HZzI72zDF5YFct20gksTe3qgApFPF56rC9ZfQoxekcMNUXmNwoo9w/GxXc6G5GtLeU1jMcNX\n",
       "KO/Tsbl8oeO1ZzHdfGnCqS6RwNo7u9qDKAmLaOIu1pcGV5SdCOiju341fprPDVoDLMKqEC24sBhx\n",
       "JKmaZmLdLo+wxxsiqMbfYZItdkne1Rrk2t11VFodE5wfLameVi/+HWbwX0HFhXFNW3f0Pndv41uA\n",
       "lya2NURv3vBD//UNRHjcgDIz319xT6cw2/b0tD6IUhcBKV+p4VxKmx6SHM1+7H84Fs/DNome7DR9\n",
       "4w/qEKYlGXHWD9HI0YEqzFibCA7fw3KMQES5viaDaxS4qDms5deiFNa1TxRoUdgRTtA7C8ZOlLUE\n",
       "B/EIRklQX7E5DhOVNgd0uTWD/BK/n8HmkLQxrpqi0E1zOAEMhKH1ovJzbLHd53f0OrVS4/Xd15Hf\n",
       "1j7w2sUpCbxFCQAfX5lhapCNwATL3vYiA5X4uXTOuz8vWSfUvCf9aRJlCcTzJNF2/Kd79sKGIZnV\n",
       "jRnhmQMSvRnNu7RDbB85ACw/xGbhcUSaw+e8qVrWKEEEZ/Nt5xZiuBTC3gpyIZPfZHmOB7Fmk8tF\n",
       "L5F4w6LAday48J7UpL23o4qVNzT2Ey1jDererF/ZohzB3FFGpag5t/bbM0V7pjItXWQUt3V7/Mz3\n",
       "40c2zAEusoI+RxnZB9xU6wfOtiHHop7wP52cTQOHc9XMaDzmDzrN0MVWtgOBw1LbXt2cZkAR1CK4\n",
       "kCoXYsvtnrbTCaQ9SjA2QfxTzdoh0KLPcCrFJ1sPKj/+19zybeTSjYJ3le6UwBvEyTAIGu6PmmoO\n",
       "5HQdfH4UvuU+MS8Vt7DGYnR5m8fMUIXtV+Low/xatjXmhyYw3/63GXOZrmcvLsNSRKPkLqp1QPCn\n",
       "jjf/vU9/Li/YM1zaKuLtDCbJLFgHqngsh97HrkXNQZcKRlHl1yuvYYEOyUah3l0h2Rd0q11czC3i\n",
       "enfVvNM+tsF0b5Jj0GcHUVY94Lmpd1rlarc2/6DxugRhyKv4e91kRUQ9zpFMnH8Sk92/wAC9WPoU\n",
       "Nu7mgBlHomgPL1Xww8G1zC8yErFbRrLX42ep9Y2Ieqg4knBHhjp0V/ldQwIGQ01+++Ipcy3uvcBg\n",
       "p+hdD/z/Cqj3qZva/2tmSwkaKBB7h5I5oW5eEAbyFwkuSmYn58AVqQOgRmyFxr1Bdi5yDfO8SLLh\n",
       "NRcUL5vF+/5W236j7z+zYN6UgoI5K2ntZ59oVikkoSitDAa7tG63EcQfxyUsGXR3GGqbrGi7HZ4T\n",
       "PymN4X/cLzHOHfPSEo6umLN+DqKqBYlxdKAiIbyDLGa3jo20yVOc1BRr6iKtYZw6lUWaXGKcESKl\n",
       "Z/iNP2jK8zLxlXQHemyJh7K6tS0CGcJzuy4ECXOk6YJSCltSVCM+H0qIb74JXZVQdstDnREXH+r0\n",
       "w8xQgk/vk1F+HkRKpu3fvP5N7OZ7MnPpSh+krv3mi+x7MOPuCM61DZ4ADOxGbpShwCKtgVNxIOnM\n",
       "JckDoDTJJScOzZ/gAlEC4ggqt6SQHdrh6Vt0+nVQna8lSe3uYDhvRhXvX62nT8X/bFrJkqwkHDzu\n",
       "rcU1Zduxc8ZNyKqrj84cuD5k46XPQEamHGOzAZscKzzQm2wtZ359DP79LY1I66GrE6QBhj0VLIOd\n",
       "/rP7OGGU2sl98Te7cA+LlPNwT1B3MWr6zF/vbvSzhSz7I/dtIje77g9Pfzf90BC0YXbSqX5H/xpj\n",
       "aQig6ktB2SX9LEMkq00fi3PShQtUyF2JzjN/FPJjxfjBgLIRvCTst7aJArEjUdePeHXKjnX0vv2Q\n",
       "NfDDRREuoyDf2ykSecn3pDhRLyGaKnPv2iI8lfyYULbbXVpVJLem98FVGyC1rhF7hxU1XTCkWQ4O\n",
       "Pd0RE5y3tH8Gv2ptA0wFLX6v+QbeN3NQ/82O9t7OODByWZ3D7H4FT2WeSijVNs2dYUrX5tEh393+\n",
       "LfOQNJay7oNNgjLrjP3845Bfsxb/GcPbjgsqbUuhlsYDnTuQ6gknXXQQD9dvE+MU2klswCtBDwfH\n",
       "JuEeA+E4n9eYfndvizHv0A3wyq4cHjGPRCDVlSw1fMiT9bB9mz9TfLbB3M0cpildSKhMSFnsYi2j\n",
       "s4geNDSc/maqjrngHtIS0VlkyvRewjXHK/tBIPjGY/l1ivu2eflSWc1ZQF0atMH83ZdH8QOD7LBi\n",
       "Nh4GalVmnuw2Pa6kif5551E9p0IOsQ7lf2HXo/EZVoXvX7ziFPXCGeZl0azpnKFj2iNdhIDuTiZb\n",
       "tKExDSCZp9aiEfw0dVaCa9m+r6uZFJQf5Vtcb4MbeY43QAunXERqn5V9KXEtFpN0DcKLzkEbVxp7\n",
       "J4xiSgfKKbRbJaF6/uxcBEaS1WaCB3ycwtFymK9BTeOTWw0L7AJWS1WtBiquzHuaBfCbmJks3ie9\n",
       "YcNr4SS82PpuVRNAZH9PN/R1jNJmJoe1ubONUabsJjJ71OlRiaQeqYAkltLCp0Ww0wQ9BXdMzgJe\n",
       "0443j99ysSUofsg5m7nJ60jqDTiOb0MWqyHO8CwSkgLHmvC7A1wrlIAARQisTMTXswEUMaoJlUq5\n",
       "vxFxcgnjgG1PpSL5rjQ8EjNgbOINHNCfpkXzDTjZ54s1+xqVQUP3G4SmIInFe7qb/vvcnX/tw5Ei\n",
       "l5LbcizxmytQxhQHfGvzLB/tBDcW8ICaAhBPdiek9Ig3uVU/c8NQumIsKuJHErvFbea2e6S6QfbS\n",
       "G2MxGygQtDYwQvDe0aOb4srgcOume/6LQn7ydnrRQy4xDqLVIl3/mD/Dq/IhuFu35SKh4dkC6Itf\n",
       "lbe4GKfb4b2NEWN7k+nkc4BwuquVNGc3oFRPBg4chtLQxcvsUK3fGKPot6mu9ZILzjZ6d2rpOcaz\n",
       "JvbSNPLahv9J7sQOZrJ4frhUj8EbrcGjo7c9EEeQfZu7JWVoM8oohnQGavmhkl485ob9MKPOCaO+\n",
       "NDlYNJSlICz55t1VlE+veG3B5yy1k//wqqIE5g4+VGkx35+HYU1uKtxC81+opi3I9tuH18OUZZqO\n",
       "ByLO5+b1XC1wojUV0cCmUHV3p/0RKjgqHKSbaMlv+3rGMO89rQcfRwSyMpwsm1UI73kBMRKmO7aV\n",
       "LgM3XwmWWIV/HMpVCrVkE9GtjL5CUmHYcGowOISrBKobHS+nhR4NlujSKN1z9CmSUVrdXsGaVw7p\n",
       "7YOCIcfVIDyw//s2RjRtOWFGBmEkYVqxtxsG7bCqiylNrx21rx6AKifnz1wDyEiVob0uu8/3wojc\n",
       "nf/eXDG4bdS2pTwXAl+roJ/gCISJ6FtSvyVT6zauXvOBfQ0rbDbgAhGpuCez+zpSJiWQCaaBbWJ1\n",
       "yGEy1Oa6CWvd5cGob3t9gz8fKUdJSMwoFc51Hx53xd1BSCVxwFGOvxqwvEAX/HTztAXiVFUYkW5u\n",
       "PHA0d4prq2FjSyAvoNL3rJimOD/gQIMxtTaKiQN0zwOsFjXTB9v1Q0MFbaUIP7e3Z6jyrbrG6Zo1\n",
       "zrh1YDdV8w6/8JzIv0YF9Lo9KI6SzEf3EtruV33qocMoBkBgWLEBH+nWfa8gq1/25ApGSRvh2dNK\n",
       "a3OuClBd/gV78qf+HPlkk0elqaKVRs/JupUAUElDoh4ZiXUOZfQKtMBEO1ABN/xDBWHGdSw+kP2t\n",
       "f4PR3KEvNlXTpkDBmx1XuFaWpHGRSmeu6QtRVIz1Y/bA7EaZtgUjK8dydPESmONxUXnQrK9oTVnK\n",
       "4mTNXY++EL2QDBuOXlEjkQzRrHn/fjQjJqHFfolJhGFoeZhbOcNfcyx8c38HFMMwAM039O9kWZQ8\n",
       "U9yz+68E7E6wUW/WKJWzFfmPTEldfaqMS3Cnfe4tOTvSPRE1XjugzsPikZt6H109sBdMLflAx6Ua\n",
       "JaOWCNxRoxea0SKldVYXt9eOMWWQunwhRcNYrCoeeKAOLDPtEz0Hcq4E0TYwGt1M1mHZfwSONNa1\n",
       "CRxK+eLvXeGWXpDjbhSYjeWuJZFs/iz2xAurnrjdxS3RKwsW2zeIl3zXm5Fe0Uqy59hO92f6vTIZ\n",
       "4m+nAz+w5RYUml+YfhxPHDwOs135Y7h8OrOQamRvuyV5p45W7j0DBp7sgJtu/mv1+bNLK4aqSCHN\n",
       "ZF2jPQILpho6nbep6USQIFJeXVZhlB01DZSuBYOiOHjosM2icDPq6I788LFXTlHBMQDttlxwVY2s\n",
       "8Z3OjL45XVudW+kzECWMG6fuNAku1IzE7G3c9Yc4bqWhU76AtzdZt1GZSL7S2uD9r9U3WtBvkx58\n",
       "+RpmN9oke6yycBhe9n+hOtgAOjuzIquFABmnKnkPa1m2ZLATt3BtfqmFaW7yEtPZ1NvMRCuD4IYm\n",
       "hLdSs4uWYDGx/LMFmtihGs4jTaom3eefbWyERsfFsr+dOczaRzwP6ELIrJ3mx7TgLBYsAut+zKs9\n",
       "qaDpms1PXYRSXnWRL5l8/lxcHIi+vD4OpXVMpCwIvMMVSfF8N2K9pfOKCIuYC7hqcuo5p9a/Z46s\n",
       "ADQIVTl5Rb9zWJVjQdL3oqm5WKV03KljH7lWwUaeIOrGyXHem6h+EJ+Dysb/S5OB+ElgONtRFW5c\n",
       "ao7n7qCkCJVEfBfEumbhVr/G81/TUZEdRGoTb0QVlCPVHqkF0FlAYcMtPGl7Y/hTxkS/ynY/v9DK\n",
       "GCgJrMG5h4+VEz/E2mu8gnItEdDFJ5IIRUVCzQje+/hjIHkOVSGd56eTDoqRGZ7o498sOkJgfafs\n",
       "xOqyi3nD8pxfibcc3R30s0blh1lGHIAy1nJf+6KoiB9x6Bl/6pKdnFVtU1bDZ+ny/Jy5NX8rpeD7\n",
       "jkh7lJH5d4vSJTWCp5x50bagseTpCyb4YIYv9DdUEGxCXBbvFUgW8xrptNVS1FgHwXVrjzuUka7h\n",
       "S37eBArSOsZGstxwzumyeBNjPsQqD/YdsBqlUqeXWqlfF6FGBYd4KZ4wTSRDVVkaUzL4zPCfW15S\n",
       "VHFxpLoA+ocAT5crGetLSq/QP/8OJQI0Y4YgUV41CK4QWOVDfwe6cLNfL7dw79ekRL+wOQXwNJkZ\n",
       "kdvpWWNWcydT5wnJBA8CXGpTc8DS5Z9VbxeCtHmDHxdPOsYNjLeSXbSH8Ve08pfu1FMUPSP9gOyP\n",
       "x3aKiO8kuixwBPcxe8u2frZxKUA1QLsm4vIMDqNh1q1Kz3ea2vZ45RmgyamCtMkWzQirikG6/y3X\n",
       "GqKhbOLQBDU2+qZmc0naf9UpnHC5N/mtz87sIZK/Edf0EoIqCpY2JyWdi5PYlnML8BiuT0WeFMcs\n",
       "xz0dHbRvJILUMndKpsRtplhnuzTJ2rsP+xM9Fd0YQ40iPWRFhMjVKrfC+641kwv4QRF58FHT1a9i\n",
       "R4D+jbihWaJPK+mQ4cVtQ0BY5smR4HVoD/b6ZNx+8Ud+5cZlOxci3HJ4dUwlZ5jM3pYAaBBaZ3ka\n",
       "WrXeCcHT6VAHLNjEChhvzlbeArQSKWdMParXwvabjHTuqFokuvx8Xwj4oMO7WdeJyuH12em4Ytuz\n",
       "wZjh3U/4bMwPu4gjzISdXSFz/DOatuWGF5Px8OtsHegzETo5LSWJib46cle3oeeCOaNFfg41WyO6\n",
       "cNzxFa99zSQk5YfUuFv7qK3kHv4QOEQjiW33jIhqrqvGxtAMw3QDQcNnOu74I71wlllOwRPbkGbb\n",
       "jc58F7ZbZJwYn8nG0tvqFpsDAV35Pd/GO6pORPBYnFu7zTtjmEvnFRKAqEBLRCc/2Saa+KUW0Oac\n",
       "+r9Cckgl0hQxSjFjUAZPrlfprIKCsz8W9VRhXGmLRO26/CP7JxpT3B+mXjFJZsa+aWhhcg8HLh1q\n",
       "2obEpDh2yMAtR49e5qUsAvnq23Pp23gECsJOsJ2NL4j871Rxvs+7eyetrEEomKO2NyLJY7aLlwNm\n",
       "OFjJpD3abW+A7HuMGNq9h9Yce6J6ceO4jpxlLp+jhp2yHzWDmEB5xXQfSD8hTRePAtcaiFfTiH/x\n",
       "Tp8RZwU8MKm9wu0eyuiiol3KE3ZRDGSvqOKWjawg/aayXH53goHT3Ysvhn9Uaghm+FxdgwImEDac\n",
       "+64OheZADfZ+awTT63PxQHxN0a4yR1DPvsD9NToRAEh4B0Tho7F/o6AYghMLGUQP5XIQP4oMgTN6\n",
       "IOYFhw7q+J1V21vnXa+7IbRbuhjZAsLP0oT/kuZmb/O7YN7QCKliwhiYL3t6V1tWpuo/N1xZmij+\n",
       "FAeaxT5T0LqiuR2bhzLT/QrI6oNVgU3ed70XwFLVYq7QtateVrNNXjsUGzTC/oAmuYO9UVf9irER\n",
       "EB0EEj53uQkdY0Ji9BoKv+42AN5hD8fFQbw2n8PJSZLJY4paq0LB4o877wkiTRDPO9u3lp8JOuJj\n",
       "u22xqd8ijwMKadbd9rW7r2hw+ScZTN1pkyBGzVGkD4tpsVAHwU6ty0ZpsFzOlj28ShqMknqXXyJN\n",
       "1oA2MiHOpvpMExoJHYO/TRv0RpAdXJtF/LxKCdqEslvns7cb8gm17o7IktQAvhYrHuoXZpS0/1oP\n",
       "MPQoD/n4CGeyCaHB/6kQiIMP0DE/4nn89E2Uk29Tu/HG7apqvQIFqAkGmDTFiYwvTNVzRDlGufHY\n",
       "f15fOBah4KSK/3SuXPGm4ZIoe/vJF3QVrCUwtNnP+4OZgGYrMCx5/LZo6BvmFRdAL3408xLXNZQq\n",
       "Qth8/S0FY4wOGKsMftxsmF6sT2df6mAB+tZq4O+vt3iuNIzr8CVrODWuJL9eqxDnzzz+EW5Bj/WV\n",
       "bEK9rGvkNifL1L3kC2UVZ4R3/ZfKWXkuERsOpE2gkcSPdL8aZhekwF2bVz32hsELNbI+uUXAzXdJ\n",
       "hdUqootTjVxMV76Qtz7ilM9wn4vdDDFRKCkC4hby5Oz2OlToMPcRrwC/RaRaWnRTofyCET3pMPik\n",
       "n6fFm/23Ljnhlc7EcNtnWob/zMUn1BbyDG196HwFgOWT8gNgcgyZjduplABlApNAAJGVkol63XDy\n",
       "Zl2eekYEVIQ22WCjCyAGz8zzB9jUTwd2DqfUFS7zuhDbBLX/jEz1aSP/BKB/tsJtExJkhNRS5tRk\n",
       "X8fzQbDXb9W4r2rAaFxgQkRFcdK4EJf7BP5AAUAhM0GCeJyDgiLMf4qdJM2uZr47dVaqKn+/VgaJ\n",
       "lshWqMBDZPJIHgMezaU52ElZYZJRT5lIF9SUz+9SRXKvBDciYOFClsw3JkWozO0XNZzV6VGJf3Zs\n",
       "71mcU+R08qRi2cs22wBwpCO2E0uJIssoIGxepe/Lls7vavZQ/dJg5Qz5s4Vhb+aHetfU1CGAm3PL\n",
       "r06/20e+DEa+2dEH+j0ItAfNwwXWvsTweMX4gguPc23xl+pJsxCS79Ywp6ieojV4iaKXPi/5uWGX\n",
       "AGJPfvtCs3iXtvVLnRTero82MfuuPIxe41VLlA1LYlLZjvb721Oy2yKXQO4Hz5PsFjJPAgB8WSQJ\n",
       "WCbyZ1rf0one1hTh4Vt1iU26BaQtXLDMpfVyvIGbKfx1bsspiH9fSCS7+Fs1tMsiUltNVgvSTtkR\n",
       "jMMUzpdpNYSF002/3Sdu45gf9VDlykuBXfJc0mMU60s8claRVyPkK3/dxuuwZuH/lsHRaA9Cp2Ju\n",
       "YNMsvle6bOquxkX+WTXDX3xfIjGgWPEjCbc9Eg9rHnFKhSLOtjFBVzjA2nq4XJZwwJLM4pMAAaaS\n",
       "dTFBDmHYWgbNFW/T5CSZlZNRujpGWlxzoXTIw7aidqRbHHT/nRuEJxRNyYnX/Lcm85xl+8qAgYx7\n",
       "v3Z+hL/8FJo9aoYDBw23UJOjlm5eeyhoZkzfg5gZnYdA5rsUsJ9SdXh5c0lUdLDh/NhnCe114dHu\n",
       "0RYuWelbyVdS3b8cECMpMXmb1z99tZuQDYbcMrX5zAKVDrZJxB9yd+MfpWcBKMbckn8aa+3/m2R/\n",
       "kLAV/K2jfQoxAkFfAXs9BjJPR5lUHZcu/d3TKZOW+RwAac5L+azrWQAAEiNBmiJsQQ/+ppgWpzns\n",
       "QAA0VYbVa3+lsN8OR4Dg6lvuVAyLQUO/QgQiLl0Amc5/sIr1a66YtMFW82znKMRcTRMd/YWxzY31\n",
       "lsCjdx3bAGlKwehAXBModhAlqFSVv02/c3NmmYFYlrNnJ5l9V6h3KsYwlmivwni7YbHFmlDCdmit\n",
       "dhstczlUA5/aV6vZdg1xk9kGIKMJIwkIfdgCxTxbm5za8ms16a6h3+08wE2MALPGj1p7faQsHbcP\n",
       "ARwrqswfYvKLJkRs4ORON43Y761X10dHw0vo/WLlu2bHyCglXcWRVUbSbIPqMQIr7h8LJQrJ3Hhe\n",
       "g4QJjCeXPcFS2Je9dor0khK8C38fRV91G1fZy/odZ8f3XO8zdAv8fjTJEchtV9rPws2mg2UpxkFH\n",
       "8wU6dUmu6CqV2SdnidfxWqv7fvtYasuWju61z0NWNIly94iCHMmH499VHE9I0R7PVxxwMMCzhmKU\n",
       "xczMf0w0f0KxWtmOMyexQlSELMXYuXbeJPer7aXHfGlRLmql40eHUSaEPxna+UkVZaKFiCwq3g2j\n",
       "LKdjNvP3y9Ei6zlUT9T4MrgM7PlfFglP6AmxpKzj+eyPWeE0wjeSZz8sNGISXDVP9Uag/MfoZnhO\n",
       "2VB5dW2USx3UjFxrVoOXREHZ6kD9teaOe4zfubww/eVWPfciEcv/GYvMLGb115Gg58IvRVtNJxi3\n",
       "EvnZsJofcYdIHAZhRsXcHM2yoZ/hj5PD00VOGMKMi/6t44xlKn3ncQIJPoj/12+ITqFRSTm8Cmtd\n",
       "gI3CFFSRXQ5dd87+PnjwujbsUeTeKhorVEIZYsToglnwTmMQLS1c470ns6mVu3awbYz5/RQCCjfJ\n",
       "SgWBczYKcavMcXSzWoEWlMjhgIq1vXjMyP6MxX2OvCMyhb07fInaZkvGMU2pxONk2nE7Y8QM5N9z\n",
       "smrxBGoWeHGl/9QSHL4PzLpW3fhDEkxiwWfZILlFeirYOOB3sebMOXMS2ZwE2CugELBh/FKAYmoF\n",
       "rq4LYZzbn9ujIV2XdDZPVYYNEMToLCMk1PGmDOmj1mgoYdNUAlSSuC9cyjVPWi5hkoFptAc3nKPC\n",
       "9weeRmRCXQyZ+TiP51RvXQWc3wOyrOOj95doIAraO3hxWHuMsZqNGRSTE9NzU8JsSGgPddfZc7Or\n",
       "+6qFEEhvMFh2a2kzWcls0oQvHUC4/f+I4bALktnERgLOlA1gYD1jD8MweJE8jjoMPNMMkF/VGdoM\n",
       "8H55KdiojNKoIalI4R1BlCecR6fKyhWoHD51LaNc9G+EeWp9pCU323T0Rw9Pc30GqwWC1iF1QI0n\n",
       "Ngwdt5i87/LXkIX9mo5vAdA4dS2c0oChR5F8Z640hBItRcE8RHAVMXQTUB47JNKE7sfJA7bNxXda\n",
       "S8Q3HlghEGsiucuFawSfzP4ukxjhSC2XRY6IDhz47/FRQN+Hovax7OiqipTUGwYxgQ2PPoU6HAEf\n",
       "gn70dzs1FJCscgBCfEuLCzh7estopzeJGnnjBXqrMOKoS2FFrNiX15iCAkyG2piVwzkdonvUEGF0\n",
       "OmWcaVjNFfpQkO0FjDb3TA2H+aEFHLcQ9IqTXfnThGq3h1SvnJ1Wjtte1FoCYR2UQySLpo0QWra0\n",
       "g2B0G2WAT8mYecDfoXtdawaWACETjAuFxhMGnSgXP6xOjd20zc8bwgFAkJMeRB0lf2WSVf++kZKL\n",
       "21AJ5V1P8WRLbTAZPEDyBzwwCv8qcAG8qHfY3M4LzNZMFQ8c4QxSt6hRWGgEbhjgDNlUue7Ieji+\n",
       "B1DLfRLpMaejcUKC6X1Yso4rBql+I3L2OJxf6aX31CoAZpTgY6CerxtxVnr+J5X95hSh/HKLTkHv\n",
       "QwochPAIkcpaA3dz2aByFaVHgHpGHwYr5QbZMwuVqexrVA9aG4LhymjMc/ZYgFSkrjSVl98Wiygp\n",
       "RvP2KW/g+0umXLZaq1YvOy10mrEzQYaasQUUVHRs+XxMCFcHuI+lEtDn1wm+xPtpQfRyQ2UjwPIp\n",
       "iV65YUhKZcACNsx0UKcd6GW0riRA7lpmj5rOuypbgpXVutY/PIf0mVPmvJSTlwqgrDmj7DPc+6no\n",
       "m3unLpxdw+Sp5Sy+pgBfemiFr+9Mwo+jnvs4gIYSVbLiPe2aEJOIy5E/X7ELm0bo+Sp5cpmKrYvh\n",
       "tCXh3Gb+Qd7yrKhgL6uCzGIdWr4Oq6gyyKml3PtoF4eyHtzqXEGl0YcpSRAW6X38Vqn+4R2/jQb/\n",
       "rZs9ynWdhP7FXzjOc/kpY/qS2gPIoqAYj3+fCoWJGbk/16C4tJ62GEz9u/C4w9386vd2LZHssrCy\n",
       "0DbRD8UQcX9LwG+kx86JUAOHSDCq3wK6TXx7kL1nzGZEYOmBMfgiQxBzfzWhYcrDz7roMS5jth6Y\n",
       "IN2Q7kZE8Qlhu1sPvIunh+mQKnMp3YnkWFXinSWkmJVLdRmzfuNz2fVmWv8OdF/GAzf1VRriyIAr\n",
       "vynzOTrEYTHLcN6YNATmsKApJP6QAGrGARaAOF1rxWJIJtcCteK7dXlnC5zoYG7Bmf9X+EhrheJm\n",
       "6McK6JoLDRJc1PKG2Se8NqaX2VCC8TxQpDxtT5a0nGRUU7wRiNoj6GqAXJjyxtRMi/+5EBRqSvE8\n",
       "OO/DncL5dTlN2Hctzbf8MsrBn7Cuk/rcd5XL9xuk08POpA0z1jftKZri3NZmn8bJTtTdZj1OII7A\n",
       "heOA/cb2i78neLuWsekxWhizwVRY4holv1w49ozblUB6FBx9C5PSrVSKXNUmkz0FtSTre9JGOzFB\n",
       "FEv3EXKAkmQeZQnX2EQynspsdEHr0AFF9/9PtLiJTCn8APx6HHemsZL72yVvDJa1jnFpDnb3ZynM\n",
       "JFOYvTwd57HcdXOXF+rexRlne9/wdH5zVobPNd9+oSx9Vrbubb+8pRJCk462Lk90awyTYJTc6N1Q\n",
       "tvBHFkOJ3E7OE5973OXEJ1NZPAjObGIcY1d0DvZJ+06SXc0pg6NaQVEtXYa4xxGosQakKK4Qpm+f\n",
       "00Bb0pqBZK+eb6t5v6N8i5FIQIZ0U47NaVz9EnXEQDsBjL6b0iSUpixQO6dKhrlLto69S/EggYjG\n",
       "lUDuc0jeUq4sdRLL42PZp1bCwsr4On8Jj67Vi8rApCWHe4tEp69Dc543uwHt7G1ArGE6MW3n77aN\n",
       "rtrMbdKB4jCEYAKUcT+++dvt8A4xvyXKmd09MEWYxNKQceQYfsOUeAQFkKgZh7WewN2yYpM+ty3i\n",
       "WGjSb6Yfy67rBzfq1DluEOV38KsTSdp4iK6vAbagUDH60BeX1Ll7n/06FSDYpuP4WyOhnzKrgkMe\n",
       "u+s+Ljt2KEl0v83ASefUky9K1rv8cnodaBCn1+s8G2iKZgxYe3S+D4FJkPes0i/jL0maNdIu0/If\n",
       "9Y1AVdeMct4QHgggz1CApsrxGPbFTQacvxrTurL+tLFQmVlHPJjcGRSb7b5xB7VcwOa0Z2GX+qjz\n",
       "etPDI1t53mo6/g9QriNaQGkvwYAZPz1FMMOlaJJC04t2yZWVLZ3lYvvWBCZowk3en8p3DvNpm9pV\n",
       "IP4gnAfddZuAUkADnK+B3QF+d9fxZyF86NTdtOVf1/TgTWQwVQ815XoOFdbXKBRPLusBVazadEDL\n",
       "aWM3/+/fiaKXPlxX7lYotXYgnyS2YzrVZZXP0i5QRI0UHLNsjrhjkVxARpbNtSOoonpYZ9ewpMcH\n",
       "jgxP7zmK7RFexdRVjt7+RtygTXUZzGPKEqKmZ0nvRtPfVP0ASq8ZmI6xNGVtxiRWDkEdqyjIw3kZ\n",
       "SsyM/E4XowzaBhoPRj92nsBWPTXbFHEgqutxHrWdMd0iFtb1oqQpUUaoOVF4i04PKLtkloxuHzoL\n",
       "LpL+R+gqrmubN0DKkYCia3rIwLgBuRtqz1wm++fcKJVYXVA5L7VtgEBoVk2ZOgXhs03YX/2Y5JSG\n",
       "EBqfYB+tJbo8ZjAGLvup7Z9NSUSvqazDQHhKG8ElXfH3J+bbQlA/5GLUixgE9rG9WMtUYJGOrjfx\n",
       "JK5n0Z7M4BBlBztPfOt8JNOUIaxfJkDtNm08D8POBGIIdYUCW+vYfVEZySFuzaB+0Gpx8Jevqt1T\n",
       "/FjwrWxsPdQ4n8PoWb/eX69zmC8hZG1KiM868zBmMgcFcOLnZeXVIDyJKXig/q8jGScREELLKAh5\n",
       "eInquGrNOcXyoe+1zbywTkhlFqq9X02qjU7L9inpDD5gS5oebojlw6fQ0aoRBuRBiXlbkXCjvBqf\n",
       "1KzaG7VVOlkpFBTp9X7fWLGTgMWl9M6uak4Mdg8wpuvgVRPiSxjyLUI+FCW0RWnU7Y9Nu6Dvxj0E\n",
       "oxM8J28Gq0lFgiQ2lHMZyVpyDZAkWKUQOole9fpdrc0V2lVWnYURVRlSCSW/ikhmcJ6PnChVxsRD\n",
       "d3lkJq9+ZP4gxF4pAAIgQLlUAQiD97TrIXABZv90wIM2/VzCysHTRpe+IRUriEYnlnwZxH7lNYZe\n",
       "UEkkF1IB+PL/+NwMPsVIjFVY/XTunSHxQ7gLwZvauuwgJkP7FWJp/pBvp0PYybkf4M8OAZghdmzO\n",
       "YySYCXBRgv5I4FXDt3LCH2TK2Gj87SKAgGs515HJob4jSD3iXNKt4iGlMfg8+ENIq7IWj35hav7u\n",
       "ouad81MEuPQoMVlQrBSt/wEBmR631HuHHnNqECSV0TOMsAncucRaYXlaGp/pznpmvCo3YsY/gSLZ\n",
       "bz9WypJOga7Ehv6Q2xtcyxpzQgfyw/DucxeeQLFR/WfPpWIb2K/1Se37nvDr+mX4/UIYA1GHpyTa\n",
       "jgO4dlyFNuLPZvmBYUMNlO4w9Pxoiq6jMrvLS4AQqU5EEQkc4ZN6HZ+65+9XNBXJp7G62v+kaw9o\n",
       "e3dBeeLHyzZfbDi3uX1zZl6B91UzsczvfXDhBeeKeGz5NsTUw1qY3UTVyFws4lEWF5jVyqVcTJh0\n",
       "b7umxOrd2c+g/kMQyg1pMx5Y1jeakgH4+S7uWXkOfK6Xrj5198khj3yHqmGXA25ufiorBjNRL2rX\n",
       "I19NOEqDRlU+MGHgqAmaCvtUGVskt79y9So+iucgJuiYVRXaqthv3GaOXWFNt1XTu1hYCDl8AyNR\n",
       "sOzSGsDtp/TXUsmsQ9j8T0yoh3/FGP/wOaxiP+TjD2bXvY3xgbLzwPF+khA4popvdXN5i5cYiv52\n",
       "wP1GNbXFvTmsk44Td3TpmKbyq3EaP390jq1E0ty4cM+dscZwl+pu1MDzHyXv7Ev4Q8ryX7mRsCaN\n",
       "g19a56uQmhGKUiitNPTroueIy13DCh7vZc6s8zP5vgQGkWnKCiqIe+4lTbWNr8hJSbqFK5MVRRqa\n",
       "+YsT+UUa2oKYg5Um2O2pvl+kWXdgVStY8kPF0gGpSwNHTHksD0hNDbn4efLOfxQ3wEek4FG7B1WI\n",
       "WShTsS7q6PkkrONfvUvYvIEoUzZXHwQf24IcfDx/871hWRBan4x7gTdzpKorPGEZX0Oc+7FwV2zM\n",
       "4AhXGhWh+yjqiowe15q+/gGSSbOLKog4AlR6ma45AMvI1IY+7gRrnuAnrf9J8H73Dql7MVClSGe9\n",
       "E+xi+m0TOolYPn22YOl2DnDpXRZq8B/2X5nCa1UGp9novlZGYc1AXA0Zk4ryaW8Xz8gVjwRYIM1C\n",
       "gbHNycwovWCTvydxnkBUP3opDARsfcYFnXP1dxEmO/Y41vZvsT9b1gNRV/uQe/Heni753/+wF+qE\n",
       "M1rz/+6w6ujK3S7q4kw/NBL95EHNQD6UKBaipRiD9XiYCfe5WfXmrJQ25WPbFpvS7HWPMv/VJ4av\n",
       "0HrjtMTZV5lW5Rs4ANZDyijcnIG7c8ZuJTZXmpS6oY2iltjmil6xGkXqn9vA0OAHwqssAc3UQCpH\n",
       "MK/rTBSiRbFzbd3G4eRB6dYyFGLk9FS7qRrYhLg/MT9TWazGDYQ32ha6lW0+RMEh9D4KKevAz95n\n",
       "VZvYBQSzoNQIZc7W+nf9gZjl7nTk8bdaN+2c82duIzl9O7VarxczqUEswDWzdlMU6ORHuhn1syJq\n",
       "TJGQ91JtovCSuHyrWUk4LDXR01t5Xgq3EwVNwKFdMpoXOu04DGm+UXkepi++u3Bab7b9dhIQS83F\n",
       "Mp+gO89pn0718jvZ2VS9P9+0v9qSFNFvkUrBAvoY9OCKErZEYGZLTJxXZso8Gp5nLO9oAXdr3GeP\n",
       "NX0o9Ht+m/8cPkrHJ4r/GELK5S1tTgoxzlZfEiAy0s2v3rHzoFBqOmBTtjNds5SMrMxMFCh+g0nu\n",
       "Lmdxb5c7hiOUZwRqiQAAExsBnkF5Df8jHOcQAfz5DngVVKvVackk49Ncr0R7EkS2vuTF8M5cP7WH\n",
       "yu4HsEBSQ6wDV2ZQVIEygiPeDZwekpKdgsFgm2YMZ63WKJsDGkxpRAJ9sEuZPmw6KR7GLYOQrCyY\n",
       "Hu0JDpj/0lFb/XX8XGUbDIDywdZRlzSH5W7TWPFDI1SrRK38qtWKm6CPTBEzelk4Ija3erFDqmXo\n",
       "sNiToNz/fu9piYa0toJmgNmIizs2Vhj7me2Vfy3icxPdKZmLhQJ3hUb8Bo0cTFufBIdAJMBfQfdb\n",
       "3ikgJZWPYb8oj1msharEA9JT4KCvqSrinbbXKsEnr9HbeNc8FnH8WpsU+jm/ejAfZIsu6MKhr34X\n",
       "/Zl0H+eOlz7yZw4txK6ut/XUGoKYxjc/loKEsLlVdhD9nN/+CLaGThAD47Ara54aAjxRh+8hwAiA\n",
       "BXyRVGSjj+n5VQ1I8stQjyiwrfZGEA0+336P2YbrXBFmN9ZPfI1vd33gVI0cjPx1n7sypygTf+v4\n",
       "ER1oLHldX1NNj+gcZLB2NTIC71/GGKwkPFYVJpCW2uZQ9SB6B9Y4sSD32ipauAeF+DeZGMMNljTp\n",
       "kYU+mrJcmPW2MB6xyxH42v2iWhJzFxa70+vHphCR4nYATUdQ5CsnqPggfpneIBRpeVmk9kVZfXtP\n",
       "9mkL0JXAjWEeJ48pdYwoChJ38pCB7CIept+yPvW1bR85ad4Ec7IuCi4+8h1+VXr5cFeS8oGBCtD+\n",
       "ZVSVLXOm3ghmqaTOH9FcXk8Uy0S1LE+2xRg6F3ZsZxat/sIdgvQSeJdLnow5pJ6erPe2S7ZVVjc+\n",
       "7EhgsC8S1yshVJtlmsDI5pFJiwP9JEe9ecAPYEde96Vf/Rqq8FLg3XY8EIqcXNT9TyYUl15jFWz3\n",
       "py3GZqlo1uuQ9mTbbnwNt0XeStyZJ2lPeqCBcP/W3B9vA1BudQ4ukKg5HqtQEE/kFbuXsBNWt68+\n",
       "1rV1NlDhpgULmpqeHFWGE1gbN+gABavFUE3Rqu3rIxzN/1UmIsMN4Ue4P3CRYe03NJkQpMIknbJk\n",
       "ou+4EHsoVOSwJgEVYUszfz3r0V2l5w9ZWkVGYp/1Ul8j5nVPRWTHya/aT2nmm9gCR9alekyN6Rw6\n",
       "BOIfi/a/i577X00h9WYFi0lSPnS+N9aR+qAqQkf1X++YCY8OpNJM8UHemtx56gq9a90Zxz4hHbWq\n",
       "7PQL5LKtGZ3ZtaVips4vCc8US+XI4ezF7EvTXz51w9arIcZ4ZS7JKRShzYTh2icIx4mLw3l+7pHb\n",
       "EBl4BlGVr2jxGGASnjCdJKowlGSwKf/XS+JxOLsRCOsiMESw9o485Bd1V0E/YcEIaF3MM8FytKPy\n",
       "BK6E8W+Usf1yYDGRuGqMO3zyQEtPQbPJ2sxuYJ7DI9MIcCIXnYRSSABRizJFZZrmP9zfB8Qfn2v7\n",
       "XFbn7dRQMzVt/eD7XeKZpsVokLifKFkRzzDHsF35AcznmUx23AQmXphh42cbNZrOsWdwI57NDUpJ\n",
       "PUQrmTosSzy+suuIPoVUIbHgltPZ9lPRRYpbFZDX0acgdk64YThAiD2Shc9OJ8ZHQ7a/LXWLNumt\n",
       "Nf1y0vH/Cs8yG/aVM+XRL9hgaGJaDZUNsTDAEhj2VrfrJOgOi0HrdYjchs/rdA08lg62d0ImQ8tP\n",
       "P/k5NRRRZXUP537/SAvoWb3tsaZdixzD/j+gJBF3hRe+m1fn2XjG88LaXD5pBnnnG2T/0TsS7XAG\n",
       "hcPXuiFFR43Xip8OZU7OdFtbo1CioRITx9DCTkX88IKuycR250dGVwInWtd1DRM5lLjwrCdlW1zP\n",
       "Wc18YuMSysX3kH/xN0RgvYNDPy5neoXpMwJZdZh43Xu942h8XfViTjH9hol4zuUD7c8Ae0eLc7VE\n",
       "RvPIbOIy1XGYsxtv2wB2fOqxIsEvQzV6qG3e54Mzas3zIkEA2i19I7VBYQcNc8fSb3eZ04+IrnpD\n",
       "X/o4uzQ3zBRWo8Ow0PTkznCi0ciEiixtuzWydX86Zd/j+BbMmBMrS2R+trtbPQzzpZrl1fU7CXFg\n",
       "STrS5aeD0BYksJhVRWivP4CDqTvaqqYGBzQrsZG3L3+LcnEIsDv+TOjxmPlGGIYHAlhj8erzofSz\n",
       "/pKHUvF7O89NGYxouZ+GpMhUcIWCOZPRBVICDD8NcBBwPPepYHAVmoE5by3C7KqGmefnkHgkpeBi\n",
       "oMpUrKu0hUwKe+E5hHmzZ4WWXRmv7LK7kU5vt/8FFKZcEaXD9QZK2uW+yKImssHBoXpz06bMaaNR\n",
       "BRv1R+Vzyw3Cry/QNRP4xpP81OGi4aeC/mnZy7kj2tPBrH26V7WUPm7XdLISrXusZX7ZgUa+d1Yn\n",
       "2MxeLOeQLue7JoBiwJV7Xhzsn7ae+KopOEd53h06FmMu7RW3ofDs064VvQgj/DciGb0BSVrezXuk\n",
       "V5K5+Ldn7k/srjWWc+yscV8pqhOnRDvRGJjd1Uis9EfLLf4Hzrl8gY8+FfkO4RHUDmSAIW28CTDb\n",
       "na0kyEsgb/5mml1k1SrlPk8QUFDwrfYCED8I72s6bIPxKp7FlhMZEZVef0/inaLDSGFVRBxZ7au2\n",
       "OetDkKslOImTtvCWE8Y1D2e4z/R95Vw9hiFkMcoVAXSsxAYBrxr646/RY7axgD7QaxjqUGtZ2mRD\n",
       "D9g7e2aaXmIOY3uY5NnrIR90z2Ldl1fdAHECO8Qz44UvaPFc99KyrUOjxuWcYgSVjqoqOtNOzAxz\n",
       "kGSO5F3kFeV2ckkKxEUevpqLRkGQPNGY/qtGcvaQQ/ZigQ5jxHIm61TlX5OMOKR4/tQNRuO2PN+1\n",
       "WPF9eJOlz+wUglJhAJ8IQKx7KcnvGJuasHinoItnP3S1b+B1ctujepmoMFhCUJ9QgKag5fBeLgbG\n",
       "vyergNh05CZm/eouGMSNLVAhl24yQXt+1JyD9gkxWI5wg2vkH8IVm5Pupvt319A+lBxmjyh8IU6Q\n",
       "mITLk/jcd97E0OtXOEP26f35LX/a5Nx2ZTP0iiLVJf7vu2SDdWtcZ5mnqfY0IS6pbVCI5TA9reW8\n",
       "zhHPL+UHr1jPyHCI5Ic73z5tho1xKwPROyiWtArPiBQDjoiOp4wnc3hr2qRbjpkN4HJ2FmtvLbix\n",
       "NVcKixf8AjEs1AwGt0XHQBprE83tZOOUQ8BtGD7xAuytsy1Uk46en0Unjl8XwrE3IzHrjeCkKOfs\n",
       "th7sxir3+Ezby15MrnDhf2+zUOCJz7LYVonzl1YdBNLMsfIKy/XPpTh7vxhekWiMUER37hPriSPd\n",
       "oXU4LNjyNrHxRnWSCV579D3LN+iTOGLre90TatKbCJwnCu1PSaw++B6sc9YfAvHmqxZmdGpq43+Q\n",
       "7QMDNuyZoe7nQ7i/vQkzZ3GeMktbX2FU1CAMbdM1Ez1VGF8bmmOnGXMbeyBWG1WghmxajeGlkFRC\n",
       "ksLXLPqN/TJco6a7d5ACfl5otI0uC3+v1Pz0l3spCDf4FUvPDIZoxyJo0wOyvK6z/Vb64lflzt8X\n",
       "Y55qL4rNRSv4W/oyc47fdRnvklJ41kPYVp3XHAPLhqXiLKDT/q1EaJBPEm+N6RmlriK2ahoYc5wk\n",
       "hluPaOXJ5Gw++tByxXUj/DAiHgV4Lf/e/agI29kG7QEhs6DngSKBLJwnJZy/hnJwUowdp6BQTF0e\n",
       "j3kBykBByac/eBndUebc80MM/SshSIRi9gM4h3wi2za/4laEF4dmKHA/hz4gTcNS6Kcq7RJUkak1\n",
       "9jXMB9eMaKtSg+4nnycyILYGIdSlq3BBXR6viHrrRI1GrJbq+WLTa8FhcWws/OdfVcsHMddLlcNK\n",
       "iprL7ylUQUpYP133NrroJP7rowt6uGAmEv+XX/5XnSzV00yqY05ypyoKjF7d9yPkL52SQ6HT33YI\n",
       "f9wAO4rcyQeB7mERRPwrqVQ3Csk7TCGXXofc5YbCNAKC7ohQI972kW7amuAsW6rBcpSQHAl2vtfA\n",
       "RtGuDxE1rYNe1v1rNfbxCMUSPCLHyx8thpgAcaM7k5jrgO1ivTDSYpJGOfjEq9eBhhU7j9fO2jJi\n",
       "BWNqF+2iPySGnXXf1IKHwdVlRvumrq5HHAdL+8TI5UmSvhz0ZtkDA0ID2hNsm5YQ6jP+zEVpNHkW\n",
       "arEwUrrvIb6rnrPaDejvaIdBR9hAndq61fnsRlWfrwebQwhfrNOSlENAiXkLbKTl2Gq0zZGC1Wre\n",
       "w4pqIPYoLff5gRQ4R/iAsrPkZYm5bFhpnics3cw6M7fany+0qzStU40tnqVa1e76WweVjilFkEld\n",
       "kZo2+q5VYWV3pbZMedVkv/PlPw/nuZSlHpB+08yT6R3WiM+GgWwz/vPFbM+agOsrvv18kBnxeUFN\n",
       "Hl0akR9an0OtXEtmqVHehDTM0PDtmn7hnDvwhC28hxuYetzcp+3e4tTLDI+NZSe0xolVXPBV8CF6\n",
       "Lrk3qQ0qhGhtYFvhbzpTAM2dg/9ngAo/UY2eGA+CM4ZwiIuA1iz6Kq28kUoVfFHszhC/GfqlzVVr\n",
       "SpUFuh/5ZwICgLQqRJr4a08Z1dThk9VgCEad0njOB4qBIA41xZivrbSXEcUJ9ZUwMz5JGDfmBaPE\n",
       "7Eomgi6M7PcfuKKx5kU2J9dGf+bm7p+1gYvfpHN1lI8qMnFQAGnYF/e8N0kHcw4eTEHVUm4V2NlX\n",
       "Rnr7ka4dHyNwRGomaeJFwjucwfL0i7vvXiycxhmy4GDtPmYugfTaDYch6L91IgqcGtFc2ECf9C0l\n",
       "ubu8boZPnWUa1Xh+IYhbsTB597C7cg9JxMtKUMEFhnEpxjyrTDKSES3a+YdSdG2nU3l9pufUZPET\n",
       "jQm2/WHvyqPKltz285eT7gQaOnVYv4OKB+VddEy5c4sjgDXjoESyAXUSUjMP8UUO8r56+Uj6cmgT\n",
       "vQFbbcFVfrh4ezC+ic5sHCay4mkEUjvSQJQ7q0MiSYXoJBzvpsQXJgON9Kb7DPqmhm3H8MybeqHN\n",
       "l8SL8Ue0h4KY/ClYsgJilQcRt4jJe2TByOb8z7rPnct/lYZs1rZLiEZm/xawUi3DFQUbSPgtW7kh\n",
       "B12zQggUc9KQUfJxBhils55o7WaVnMS0lc7Qz0jo9W/EIuIs8mD397fPU0E9sC0CUeYDHKd+zUQ1\n",
       "bLp9rADmOI+n5NsdZFsqgNOQUy+y32qNm5KoFscoShIQg8UFw6MNsrrIXV8ALZoqIB15AdfR+xnN\n",
       "Azug+4bG9IAQAbyuKDQhUocLTA2cz+/PeAAIT9LQrQqtEQCsQzIur7rzEmedzAtPTLdFpBNxzdnF\n",
       "NtQVi9htabdMa6wpE4BUkktp/PToC4QnZxbavg4aLu112x2Voo+w+KSMVLrZhpso1RhNtsxfF0Dk\n",
       "zukdlUAPMr71Z3WPI+62spJIQDj+nkH0g8o/YvkMlQpRhGGAqWYAf2VibLWZPwrGsPmW+K8EWf7y\n",
       "yBOjCIW5qbP10B/Zgmbr0Cx3frmQVChuK0T9kii8dHnAcVGnPQkeOiV/mCpUmbmPlGgMqB/j5TEx\n",
       "GJpQgLCaLO/Doz+XElV+zA2r1G08CCiwT4/D1cfEobFM++NScCLWM03hb7WoH/b2UN3gqe2BDndE\n",
       "uLNHKZE0T7KvHGLxy0mcr1n35RxRfet30N7bC95K8OZqBpY+wYzGbpCrpN+eTEsQF3BhcYF+xp6I\n",
       "q7dgHac/AK2jGzcOKMgE+6boaTz4Kb9xAyOrRmUHR2tPwKDg1A1bk6FziN1VCiQQBfFADnOamCgT\n",
       "ZgBr4dIJpjQNj/tmjMyyJf2PEkvlIqSmy2cfuVldBOjTe2D1Rc1JOM/JSqg9RTyYsfrMT5b/jKpm\n",
       "itfVWlTiyVNN4BUcuucEE78dZzAMBPPXQLTVt68vyBtGqCS5b/hoPo9A6d1NOmHK9G+4nTMk6zqP\n",
       "Q6pBWzDN3RboOPfm+6YSCUUIkKiG4kGmuWafiloqTufdKuOlAb03MX/Yz8ZWKjcASrPy9dXMoRwF\n",
       "+gZIgKYTaNuaHl77ab986JPZf8zWKLYbMHtPtedJgkljHZZ+Sy1RlRvZHNB5lx16TTIvitNjYREK\n",
       "p/xjm921VSmCt++pEO0ecrDWYI/7xoYQhZHB2P8i8RW54C53EB2C6sETzvXtles453bPQCTcnHej\n",
       "HHNxN9/hWEm9xQWjLKP+Y3CQCMFXYJajPJWlFmCUE07yFNApKt/8Z1g/qxUxjfMfpFDLM4pvNnUa\n",
       "2oYlIZqvQCR3/hkh/GE9uXYpOHArTHj5czJpR7TBNm3i60LnhXUJthPN2vAB3cVNpzIyYPUHVGs7\n",
       "DCzJ3WgK/WKT/YLKV7AMSoXHAGnikD+isI28NbK2vWkRgWk05T/XEpnCqHqdAGn+WS9qUa4jwz15\n",
       "vgNtcxmnlQXOYnXl13K0oaROced8e9q6naqhrYbIYguf6abt1COzzrBT6Is80PGMQnLNJwgMkRFe\n",
       "qMWHTVoxgz2CojmsqMjBvdv1ZyrwZ2EY5XdH386TfcssDWE3JzOu6CPq2hOu+j0l5fUMu48+nXH3\n",
       "bGCDYHoqfAES+yPELpzZKw0TwKBbMX0RTrJkoGP0hvTHZYiiukZ7AVVmVR250cTiC87F2pR1XvQb\n",
       "lC/s4qN/AAAPd0GaRDwhkymEEP/+qPBQrSf+AABotrH9Ir/cUgDUwKcOOpna10hCDKg5IxbsRA7D\n",
       "0sL/u45muQQ74lacULXacezHLZeaTAwYCwQAACTVAShX/4Sv7p6Y9ksvHHFgrlxjMfxo8lT9xmRr\n",
       "rH16TIE991khHSpq4mGqsUyEdBYC1H3/04hW7F4pm+8+P+8oEa6TABKFKF+8kP7DcJ7anSad/pn/\n",
       "N8QklfSDobO6CZ0jESV6p6I3P0L5Nf3lIL9NOhGlhsk5kLIOMmC9r3y39Nik70y+A+ox5L6FP+vX\n",
       "G//mOn2oOGace/IpNxF6MBr2yrr0aaR0zYvhjUXNOpzG96H9vJsjz9Zp4PYrf4NQpBUFkpXQNw/i\n",
       "EweNvZyqpKpk0+wgNZgSrUxv3ewzrualQpOtzTNsppCzhhMJmtww/Smb5y3HXHQJ4d/61rSA9ykT\n",
       "gsAVhpDhS5DQm9sOuFEAEIqp/Drg5wXAYvXlcu4Ro+moc47rJDem2UXB1EWGG501Ka8J/psgnDeo\n",
       "XkxCXzFAnO90Qv0NMbQtwnhnM5s4laPO/23EnCowqX3hW2ECe4lkxwrrjL+vQ7L3MgdSs70hvLDh\n",
       "QUBGiqPgMBemmN4MC3gNwSIF+4nBZy/3IdHKqWzzuROq1TAHbah7zflHXdSfxIjT3Ew01oOUCJ4A\n",
       "31PcT0wMtmrKGrmd1jgn1tDztAWQ8+/QGjO5VSsQNMveX8XLq6/UiItO/J5fXZZ7qIN0EmpLQztl\n",
       "Pw/rEtu5CyM2eJnargNMZ55UPWgz0XtAspGLl90rQ0VXePSyIdGByY8/EiH6Oo+FTX5NUaUmLFGt\n",
       "TsCYSyaAHhFBwH4oosTKNp38IfAWk84HSyoBunN0YXyCV35iuhOyiHjQ2hNWGRqU4J8j9ISgeMCw\n",
       "Qqjf4VZmsA9BRxDwAznkpRVHct5rky0ZWyY3u9NeRtZCkG9L/GQatF99FIAcfYNq7DUneTYYLV6n\n",
       "Jnpvaj2TxKFwkmSsILV/AS6S5sVIoX7GTZouIkt4+VCg6/AdDLBt3ijNDD80ABoaXIFRPOkhvACt\n",
       "622LnusA4NUT7VijyA3Ug2XNlWqCAmt57NkANorUnT1na+/ItmSIDutdvl4z+f7feGpLpznIzzoc\n",
       "jTgXs7H13tG2tXtlusz03tndbqBopCN77UKDJ8qLsPjCe0+DTB86hE8kLXewQBe/HIVE4nWsRhlZ\n",
       "cqcFo3OtjjJGGL3p4khQt7RmmwBpv0Vxy0NPB4ChxqKddZjJlNPRVljMbb3PuhWFruRLjFi/Bhch\n",
       "NBAEB1GwAfasMLbmspIsO4KZzLWOmuY41TzdgNOewG+MGN/RYcmr6nUOn31axp2BtkYivQ5y6H1H\n",
       "05qVmKUrcZhto7r9E3Zbvn9DOw0guGLmVPEV4mGsOE7c7wIgE98GfFtI1udu+NsfSWjAev7CuGVP\n",
       "cwfw3UZtpCc/B6s/eV4LkAijR431KFljE7kh4oydqp6bx31TxAy5DcYsgwlbV96X3QA6Iit9d10b\n",
       "ixN8PHRnkzA1MVpHLgHCGBySNayOcguwWHxbK8UrH3ujNXbIT2LQEIqxAsQgDTja/jhuV7Lpf79I\n",
       "ryB1VxzVtleo0MHn0Ji6yybFkYYuypp0Ue32xu2ce/PXF+q2cyrLaQufxRNwvTmt1+ekWukawFmB\n",
       "X7Dt6v0hhIG1GzRMUCsPH2bWigbV/iU18Cp3gs6nf05J/JL1B5PQ8wOFWlS93PcYcz33SpQC0/Id\n",
       "tBND28SJL0NltO7Pra2hyZDF6XcXSGh4HJnsLxbEIH+acPq6m0RINaJ6m4pFG6y1hxF8kb7I3eWv\n",
       "DgVuCUugfoROtzaq2BKAKeCvJk6pzlehDFbiz2LXR6MQJz3wNvNBL7xzsIqkQMDzWCG4W37KOwC0\n",
       "g+kOk5vB8CrQhen6dl6WXBkobg6umk0GVuTuQGreo7cTZGOAcN28VXMs4MAfOEFjLo8NF5WCEE4s\n",
       "sndoE0vJo6oyH7ICeDfR2oT9XLAC+xhmhVUQesj0vRnyZcNWW2cTFny/jo6uF/lbweBqwwzPfuiM\n",
       "NPWrsaR4mU4rQaZqbfnJm4VyL5HQP2urRFTLOujvMdfJiyVGg7Dwyf+hvBD+8XvKDZx2rQP8SnxU\n",
       "ieEHdWpRcYMagC0YsOyqswLgIQpjwEh7BzvgrH42SxFF1UAeZbYvIhWkXsQkSf3rGLkAdSSUJ64C\n",
       "BIb9lZa6J0n8OlwpHqG/BgMAXu0jfBxvnIDAzteUHEYETRH5fOlOGct0ZSfKZYABFXd+4+K6DdWV\n",
       "ituQzUgCkbvjVzFVFjmjZ/oLzF2hH2yUSGDCShJt3NN+ig0pt6kAogMy4YnwHeIpGOvZEocebods\n",
       "0Ejg7cLLJUhgxxiagcnDX3fJLvta/kbvZO7zRKpVJ1tUAgFMsrjpDx7sKws3KD84wHvRD0u7vb12\n",
       "cQURCGnpToRmzw1Ywmhn+hBv6FfX3lnynv13Gp9CYLO0lAzh55Uo88BnoSAINmtU4U1f27WtfOkj\n",
       "amEYRRgQZ8xX6aXcAEQjBdwWZLQFeNzfgI498i6n8WZOO2VSURI3CeHUSg/PgoYWqEGIOlJsumoq\n",
       "YTjnOMCzjVh2vded7hK7dtaMb25M54W1rG94DyklTR94Vwr30OtJHphV3oc1kUXb8pONC0ThtwC5\n",
       "N4oB149FnkMfB7+Mz9NjWEIQjsEpjNf5IX8Lk4pwmFKYrmXUyOoOtzCpZMmQ0TcY7H2nGT72HwZa\n",
       "0ZXj+fuQIdZbiBH1Q164ZBMy+27VYX9MnAUJqvpZod+PmjGWwEQNoBGgs0f7c14SfpcIfrzveHe6\n",
       "FOMR34JJz8k0fhD/VWXUKnvDtLcDnV6tqXCZkC6EV3bHXjg16GOi2zU8sA65RLd1AAM/FG1mVUhE\n",
       "D/osGG+vUmrIM2BlRNVQ2Tcnjz4zuyfH5qXh6PB7Gq+lL86MwyhsGm7hzxKb4YAYMZbkSTv+RZRO\n",
       "uJp6GkUUuB0+oPU7VvnM2bnOI8zjtrDPligrO5P0VR1uiUWHgJVTAB0ML7D/xpVRbQunwLV4idwk\n",
       "4NNs+auJltgXyUbBHJ2R6IhuIWdy5WrcHqo3sEZnneG8Ucvzm+q6KWWnpUjPXCezBZ6r708Rz7K2\n",
       "NLpqtKlE4WguTiWHoHiIU6ctJK9IOsRxuwiaVtfajQ9W6WE87qPe4JwQ0Hd7vqneeWJ/rWrDRge9\n",
       "Az5Hgo9jQtvSZ4lNNmOAn9cQ/jA0A9n2UTpZ0wsPeLZ0v5Vb1JuVZNC8QU4oooDcYQj4SS4fYgQd\n",
       "hY9KHYJxj7YuoeX61vaapQ0kw5lyMJlejNbZCY+VaWOXgn8C1FCHFcKkyh6gAXzl39SrcDvnmsOW\n",
       "e58HdHfOaY9d2Dd8YoRFqhaZWXCI9YDY+OnDcaU2JmqiWapqJ2yCcnguQXaPnzhqBNT9w7ZMu2fi\n",
       "0DHVn0IiS+UIrnDw0U7f8gO2ecfLOwgvAMQLvLTpFnv+NyLpLVjDQhV58PVT6h20wXwUpJ7bC+uV\n",
       "06QtFv88thyyXlAeCevdx5jALXFuqNgL7d2Edz8rA6AB9x31qbvFTorFzNE6eAnfk6EQ8/Jxzjl6\n",
       "FDysMMB3ipmdtXwUduOudbJKWMuTDFAFwBPTRoG6DqlQF6Hc5O6KbZVUpUA/RHpQ1OoZSgqGYjpp\n",
       "61jnwM7RzKC/C24McOu0u1SA+Z8WPlDvI8mXUwz4FB2tGBVX4SbeIOEwaz7CJtfvOIXSaHu+dcOV\n",
       "AhGB8h6vHb7qnxTih/08VMiSU70o5Q3Lyb+PPITt88/mO72kQOFg1+Qi/Uu6Ma8r7zWKwk8HGKT6\n",
       "8UvwwtFoPS2YNMv+vO6/QXjiajyAzKgyhKZBLlWxCYpJR88PqK3H2zi+Ke3ZbboqJQVLWRR2kGFZ\n",
       "4y/sO/BruSBMK9v9a6RLE+58C7sJr1y22NnXYviW/jnZYQxmX4RlppDKalvH4UQ8/fY9oCYovayN\n",
       "I7gJsvgIMBDHG1cEbJyonpwtpseO1NcWax+ZKENVs1Cg4bWu4sxio6EU1gBmx7ikVg4KgLZ0i/uL\n",
       "e1kUl8ZiBojg6fi7b8KbeGuIywS3vgNuO2w7ytjdogDaKcpSXJeafYWotS4pzbtCn+KlxCn/X8lU\n",
       "/5uMqF2oZaTjCZGKnvnBrWrNi6Ko4rSiictKtq0aoRmmUnSxjSz/JCdcqvZh7jEe0hd5eOyXy6T+\n",
       "6mriM8VWwA+5ZsKwmpdJAzieecPfNkztgHHtxaLyWQLFBX5f/+aVlofbIHwr2WlYTmdugF8EgVWs\n",
       "Sw0FG8Bz7Nga43Ib0oIHT6F645uwrgN+k4iWBIfF5GsDNdioXhCacGwte5yUPCXZQNI3XZzMwY2w\n",
       "afu7c0Czurh4i6v+TBxq7swttSr5QiR8T1pHyodfqEgNRGL4RyyaevNNDYLJzKbZIFbWeWm+tI0w\n",
       "QJqRzJGWNiJfsZQjTBKMZWvqStsW7DGO3yZ6tzVAbRPRvdi0CzTBbgo/5xlxnkAQ27waiHbEizCA\n",
       "5sxR7WVo/h5lJfTTCsk3ruNMQ7uXvVg2K+rXdh9bajTwqV/4eYJDX3tLhKj6v17gXg8peU9KT00O\n",
       "umjVm5xWqL5QKpR9Pl/xTMSg0v35VqBZuVo9iZPiUnrMAshWtojUo9FNkRNp9ECWR6moRIZTTo7S\n",
       "JzHdpAH9yM4AG+3bHCddQ7IPznzX7zb+20VlQ+vu3UtuMwPyJByfNQBczrgQXENJnvN9NEf0Vu/y\n",
       "k0PqR0xWoPrQbjx1MdKbkoEcrl8hezlt9t8gpYEjg9crVXMXmGH89Yv5JPLlJsd8cSCdls5F4tO4\n",
       "eMXBWDuOhkfuUO2F4Y5FENGyD/dO28PmtL/FUxZ1z1hKTkcFe0cK4Lw35L7cB7jOScGmFDfHnZwd\n",
       "V9LuXqycJjHr4qXEX4z25CBNy08/u8oOvc7u/+4GyX8GXZd95UFUmhmh3VIDaQ0pkooThQYHdXY7\n",
       "5P1G32/G2RgeEFrx0KysubCKXqOUTNd4ZZWl/JsCNM+y+F6ny8h5chnK9SLYwj8QEPUaLfWSHpVS\n",
       "KlGKKZP6hShpun7taZVhOXiUwnzyA/cEzzxpXGWEb6prpYAqi5PhEVs6JP3qv5z+QAz3rakajXUM\n",
       "7DKMa4YRgwHsY/6ZAerJwX3w2pofOrsoKaC1n5VsIUh9JoEdXhMwudqDgGe6DrMTsL32qiLrh8lC\n",
       "G20aW+MVUyN2jNpRySETMP1NjwTEghOx+fqAjdgTk5JzV+4EMcbKYxbBy54LtdB1KQLC/keZmuJG\n",
       "RLrEHqTRDHDlw0kAMbjSTBf417f2R6q7XauGHeosv1kVZZU1AAAJnAGeY2pDfxxmrb4JAB/SC9CL\n",
       "CWju/a9vhbfE7AOho4biqvIsYkTpcv2HrWuwqMpy82jVMogRStMvbuC8wsAPdQ/Nr7fSuE1eUrEG\n",
       "pDZp6sSwHJGd0c3kxfaPxguPJOe+CaKTSgATOid/ctd2k/9chRR0Sy+kdJ725urMlHWHsqIV/bTd\n",
       "zG67tS6HgrU7BXbzQ7di4LYOxgGYR+R65iVkA4UIJIKTglcfzi8KeUeYchWrZFomeTFjEuvN+4Pk\n",
       "PGtJ9Gid2nYQwwch2KFKehGqHWuCTxQVP1/P287+uIcsYhp3A806uduSyJaxMv4dnzW2nAuBNF+1\n",
       "n3532a+WAi8AJp1cOYpX4L5Xe3OE6R8YEL/D44xfB+DX8SdQ1HGbbUgv3iH7wCmMmJIbiy9ZUzKo\n",
       "nS/sfY3bIUDA0QdOQQMLRebPvKuL1SH/QdkvFuJQ7X+DrsrYEA2yyRc4kb0Yp5h8e/+UQgaNR/Rb\n",
       "3cEMq2PEECjSAavV79WUVNOyfAW7npArdkB4Jq5CNQu3vnZfX+X0UzXrtmrZ7RuAu2fUhktVVO5l\n",
       "E88avON0pGOuEmHXELGcZqkzN0FqBd0gX7HptAMlggajKR8z8Ny12tFpzJz2Ylk9npFyRnLaUxDw\n",
       "iwrO6f6q2aDmNiNenm7XDYfTGgn2CcDLYyAWPIJ7LRFr9BgIcXr3Hf+xZOYLgYMZ0G3Dzw6LAeRh\n",
       "rH7/C6h0fDduFtxaJgzkfs6mIaKee2ZszuUPPhyTMh7Gb5XpBjeS4+IuuOwSpdDSYHWhuM3FWg7u\n",
       "xymyqSlpN6KxJMUP+IAIPGnDNHaPw/rnCQ/sbEzpiD4bULyc9k1V7RpU9dKPAm4YQWCG5EFTBxWr\n",
       "gohIqTn+xQdQnbpId94zDTuHpSrhQVbf5S/Z+eLqXwHzy97sw5p1QFEtpYSjuqIn3MIsE89+JTLB\n",
       "dO7CI3wJmZ17eGT8ZaFBwV2rHyjDBd7YzIBNaG1TxKehU82VO2nBLQn/8KVy317EZvcSfY49qtIP\n",
       "TCpaR6dcsK17HM8KMH3JaEIb26l0I3ieVa9BDyBtq4FzJaHgHQdJTeluSMJUpgRX0atgUcou/YD1\n",
       "sigIDz8/eMn6y0f5VAs222CGRd7zHLKZT/0O5WUBnFWvvzZVGInUDLTmoIEuSM7L0hyOVDxpCnAt\n",
       "HVsl5yodTriSPUht6GJCkwSZAzO3MXEUwLcUz6cLdby2wEt/8cy/C5FR2GrU57teO+0eRjpfWPat\n",
       "MwUBpxg7JJPvHGbA4X2kZbxTXza+d8hoQCmUAy7XNR+WdcwykjQu0G7yUGZ2VCoGe5sqYBtC0QlM\n",
       "OK6fCd3NZpGtnAW3ZsTgIk1AgRQeuhlxLzxfe5/qSaVhj7ac+6xkWaSgQwzZK7hlxnIhT+00CNnh\n",
       "OzZybrex3LDGRfyiochRNklOZUXD1vVsnXLos1TpI4qrNmPukRhtjJv8u1r61/kvq6ONMAxOxEBg\n",
       "Frs+0lcWNUkh+gApVK4dvb43Lw6yarbtEg10mf3kGgS0KSkLMuX1gwD+galfurpUpJKR9BFqanIn\n",
       "ARQQDISdmm3khws/TExbbMlcdFSj66+H5A46PGFKymaZTdeFBPaXDx1Sl5fJ8hRt+lfBYlJNT81i\n",
       "K3r2Qq9/LtAo7XHJJl/vRi+xPzfjCi0wdqLAXFFvEppVg4pVV1sljmo/kMIwQp/tJvlK7flcZ5vr\n",
       "ttLR29aW7KVK6esdAkRf13VNb9f6hW+3iYKjfNSaykcEsiuNXmrEU5okaYhwbTYDMu7pRf5zk2ZU\n",
       "5pP/55HeSIDrcCHtfqfHraiVvkqUfabk6F0b5SRGtJ+WRnoh4HAPhVErKq7a/9KkllBUKbl1qVgK\n",
       "6rm7/cy+M31idugvOEcFAKqTxQx1QElGWUYa4g1jPxN99l/KPEqv27a7U2NXqJcFGKjIGXfzYMo5\n",
       "DJmklx9MQFNG1Kg6nBouwzxVY7R1AsSeHgnJ/ElgiEFCfVGWiawLLDZw6kKvgX7a/tIujeyJZJrh\n",
       "uH5QlamADgdhiS/ri3Qs18Fy9Pln3foyg8PhsDct7pAYhVKImpPBcuQJ8W1Jh06kyKO8tP/vI6P1\n",
       "Fk7V3nr47Ar7rbopku3/eA9vVXdeosPd5zIMz8YTuj4QWFPQDlccqtHBBaiOR/mIofDwgfja5QRV\n",
       "46YnOenKiSextFuxsK3pAn75EJoISh0z/rs0TU/Qk4aeYbAbihp2EPGRHGh8P7aiXj3qLKRrNmFG\n",
       "zFl5zh8Y2HpNROKT0hefQZNvb0y9NvfpNkAFKXvQF3hEmKCC/xgSOc3S0iDWWvpxJmA39BvsNBaY\n",
       "AsTORwiqCMJtoEdL5LYhOvt0oXFGp5IZQQp7sOyDyvLI04whazuyxK6DVXDmnydjoG9wChzGvzQ7\n",
       "hThOf/7H5/k+ow0XbqFd/aCS63suJ94JcRp9Yt7PNKBnf+4JyA5NBAUab0yvlh3kg7ASPmeiohms\n",
       "xkI9w/fW41PEj3mRIWByF6fDv/b0lAWgzlAnCB03eXw0TVNqlh/DJZL0/v3BzwjTwR5a4UZOeaz3\n",
       "XDzQ7zZO6dLs1JFSILGuidGJWz7kkIlAmey0Xs+IRvsNcN9C6wtZZuUczKDDxKYDIrYpgksbv2jp\n",
       "MKlJY8KrHjG6o87MLv9IIy+mZqzcg4mmLLE2eHhnG2+J6oXtIFBbEHpjoTc0rNeAuTR40RaQz/6E\n",
       "tuRPUPGSjEDjblRvAYfzrKyNC04usTZfWbMQvZfqX5PNpV8Fo1O86uFDa0HjiI8HBfkbF2gWoscP\n",
       "qf0KmZLyJeASE45C/G0Hs3NfeMMscO15CKtlNW+O0nv5+abitLHEDYg9m3/ynYrwH9OibzYgUvPr\n",
       "WTe0D7fa2uKjLPPNgFTI1ncHUMZxQ1ovMqOUJN6o/NEig4i0OD0Yxs2OVWZ5mG2uMx5IRW0g2gt/\n",
       "OiIlSum644wc3jmE2MuvqTPNqr169Tcg7ilUj2yFeSr4HYm8gczfVKT/slDG8pt3PGfw2vHGKBMq\n",
       "0kbVQaRyhG9DIJDLeQj11jb83biGF0IjrUcMPv4WyqD56mKR9622neXQLliVD65cGjbyIGAesLZI\n",
       "j3z3yFoLGRijtxQXkbihmMDeZP04ePdxStkCxrf3ZKOZg+Bi1o7k3s77WvNB56li+5Yrn1h+OIIh\n",
       "wuhb9q3UaclcoItRlN1ce4RDIUGgRdp2KxC3hj3epVy2UJQJCnNpIsv/tsnKcwMamM9FMU5ME9n6\n",
       "V0PSinOGNoKdFFwI/vu4GsO8XwZQi+KVfyzuML9PfTMl/J3Ojiv6N+XP/C/KT7X5hwAAEcVBmmVJ\n",
       "4Q8mUwIIf/6qQGLlxABi3PVP5orJ5+B3KGWH/9EFssPSwyqTxkdZndSDA9EAUN1nFTecF5QYowbj\n",
       "J/eh3qmMTthq9sOX8aZUFR0a2FYL5d4H10g7uv8+88HV/CauFzzrhvaNXiOmGuLDa8hxuP+mXyDS\n",
       "sOviAGienZKGYv/UGWKSdSPqUxfLz8Rb1wfXmTGkAiEZgCtsrfkG0yacgpa9PsGe47t50oLvGkq8\n",
       "bQR177O4nSZOZ4IStXFN+gK35rRQylmxuTSW6ftiZ25acELX0NC4+b1W5hBQsbA6/Z44Yw2P3YlP\n",
       "NcXCHXCkUd4wInyVp81RwWMSHwaYv51mfQlJi1Y6w9m8LgS3uuH5fKsaEq9LCz8a6e0I7n+ZgqbO\n",
       "ZbciwVi0hZVC25FLfILNNhThKCkVll4gQPGfzFnAU9sPnjVh1T7qHF6z+3GAoMkSeyy7PC0lHwp3\n",
       "Ux3mTR0uf9q/ql1qJ3Ai/flL55R1L9s3y78kCmYnd20art1FiiQffpHSV9jjud+PV+Sq3xktQhzb\n",
       "/GFu0IWFfrTzu4ZQRVaaBw7f1/szRBfhHy7Z9top52Lv7gf0YwPE2hPypLV1sACYVWGMSQ9YcaOx\n",
       "388qriihpamRxPWFGPllTQFGiKZowNAdzYXMABFeo4S9XC7lAe8xRMb7fxdHY9FodbAwg+H8ahJd\n",
       "/qwuNsykHGi1Kx0ocq1ROlG9C0B2rPSZTcwv6CetscjXqFmsKvnoj5dGXQesIlqEB3XX0Xe1du5d\n",
       "vMZYBc/7jjQyQP0SXcml6w3hSkSgRlfTKS8T60b3sSMPIERLDTHm+O+gcW0k1iIJNBocZvSN04ev\n",
       "3sJY4yTeEw9nlA5LoP67JtZ9vl8XpFQavkmYo9dZ+Gfic/1nI3hR88v0+44SzlwGwyNL3OsVT3HH\n",
       "4xw3uuRCikudS8mt2NhB64/Cdx+ramcpaRO1Kugl16v6FfSHz1kBO2/sCbMuEJILZ4qmhggTUV1X\n",
       "Qwb34awJIGBvBMqq1k5w3z9CfPKAhyafaFsOopOIvmH2ZSeQpItfLz3RZDp40lV04gb2PlZAdw+W\n",
       "/x11gRfCkFKsySQsyBziJNL+nqlmOD8+qWEqRCCtLX4T8A0Tw7QTmkIXoK9i7ysYLjLcVE5LEcRk\n",
       "//wGTJIvW0jxsNWWmZP+XHeF0/Xdtsev7V+jS2JpH42EseWs4ShiGvmRxLjrMAXgir0FEa3AFGUZ\n",
       "Vz3Xzctf7ICPCrXPVkBreZ8wK5Dt27rFJSXlQVJ5A8x1m2LPEiS0/c0oV7Bxzuf6q9gNVbduN+mM\n",
       "edU0WDxDtkBRtAA3b5fgNT1DbCtt9HfmI+GO0owuWF6Ss5EhZd3h3Vhhw4V604KGscQfJFFaSYsU\n",
       "hI+RikuVIlJG2Mz6dTcprAiih8R4DRqgkVntBVcQLTlhbWV2kJkCMdQ0IJt/ezFyaJ2rKdLstV0f\n",
       "WTDvZpWXipU2jULk2nZtY8MIFV3jZ130GQi8XJ3rUj7aII4dex8kkR0oA26T2y9q+QMafeI0yt4E\n",
       "rqRzXd7jQOr9WjLnq96XIwAyC5kF//2QFwmD0xhspLMXuk7LT7hVtTf6Z8ZFW+Ge6KKXFFsbr7Jm\n",
       "IiJjHByX+nkvhrv8bjnmFJxAb+uc02qWMjxXTeVORd1CfJWZlBBlpiwP38eU8leqP7uijJwnxRSd\n",
       "/apDyvIDhp7dOIWqplYb+AyaT2FVU1cyHlDiz0Y+I890R5gfnW+tQWhqhqWfgXBA45h6XcS8dyYo\n",
       "yJYxdVssFPH59vvomAeqNbJWMEVs/p1MGKkYwjXsLMq/aezgj2OskQ3vpeLvMFBpPPDfTBipLIBZ\n",
       "c62jrP6M1qsL2daUKId2wlH8HOoPIek6B68VsfjXQvPOExHC/esmHWgLzfYP6AVO6skzS0DSoAFP\n",
       "/mRAW+TEhx6BriWCOlW+venygRgTOJZVRba+sgSYlRQb8jqlWuSK15M4zS65M8hjGqnYhEt5Mjuh\n",
       "dhu/z/jheMJTE2fxahr8NtK9D5K5LJyHHZNGLg5N0jn6QJQAv01eYVKf38HheN5UZTqf8JA8N2sC\n",
       "5W08ilxoEYXy7Oqbyolaw/IQzCqGpAwOfdh7iMATBPLilJuKosC8ymr9VQOwoWaFZ7w91ppcH0hz\n",
       "8uk4lNTJknwXTBtHVDnl9Xmo8C0k405Q3KYbPW2zLK5CXrun6TusdvVDXfPUZ/ni4QiqLRMbNylK\n",
       "0TxCTLvxUbKGoq0OzW8BgBXYaGp0/Lkd3dQL87obLSncXBcxqCcnC+qy5PNR4/FqR2+OaAJ1gCqX\n",
       "Xe+u0ffx0mwVFy2W3wNk3B/UWwbhn/kzVST0IZDyqVbs3h8C0c8ifFtEtNXbBf3TdplseKPJdFWM\n",
       "+lCeOHy/eB53pxABFOdGGCHlfoo8vHfBrKVGR3pkk52MIRoqg0Cf3GNZim3zWgHT/K1v9D2jc05t\n",
       "npNfvWUEa81G17Dip4g2PaFO77xzYrwLOruCbV3qh6yrfq5eqZvsFvxIsEhoPq8KGva4vYFYI1FP\n",
       "j1s862BiTr/u1/2pFTeHe0KzBlJiCXSdBl74yI0YXNvhQ3zEV44qFvqgqA0AjJT+2UlTBmPEVtpa\n",
       "/gmfSAbVJVPlU4Ec318slokLc3ihk+0IAzak5FRfI/f9PssgR3UZMzze57u4vDt3SU5deIQSjwiS\n",
       "QBJPCmnox/vGSPM5ktotG7aXvQHdxI2GyXNN/ei2jnlqyHawQ+QyLIhIO5sYPT4DiK0P9OrEeWV7\n",
       "UNURSUjkqwIXCMSBbYo5IFcp7ma1RxAKanNvQpLvEjKfOQ/5EY9v+Qq3GDCEh76AONU77GhRvlJS\n",
       "zNzkY/xjaQKkwUaOMQ9r3BFGW4RyZo/xy2GO9bNAPsSB8FlQ4ykSqJS/VZejAG2Fxh2b5qXvwKId\n",
       "CFmr0X/1ODar07F1LeUbKn/BVzBE3nh1Uh+C9KZ8ljUirBbBA9ZG0Xfp2TcNN6dMG36px20gkng9\n",
       "6IFG9w7Nl/jT4H4JY2hBt+TwlIvktKuYJYJlswKXGci5pJ4r70HEhUAfIScIkEL9DdEFjb1UkxMZ\n",
       "PPv5adMpjRMcJjSAAo6+SZdjPtsEA7Ab8n5O1mhqHMR/6W9kzAY/cjGCy/C19JR5GLLqixDXy5mr\n",
       "QUN3x/j2bULK4hAnim5HVItBjyyich1EBV2Lqs74jAqxZCncgDQgEx1ykEeT0SvkQnUTRKKqPr5u\n",
       "Nwgmn2cOyjHzrmsMhXEWGKUF9OuCqvoa8wdc0+ijtcPRSUWrLRDEoFO2rpgH0v+yAWvYVjiooYct\n",
       "VzgtYjdd/uPUqFLVKCfg4RV30nQaIM0fIh63Bu38TyDvAbOpAtrXGcKmRdmjwgeZHc6B9SarCwu2\n",
       "IWt+Nd0Ws2WpIDoRsmpWrMUhBsJlbSTPxf6qzxJExn6crbXVYa4Y4cJijL+7zR4eF2NyAT+WnNqK\n",
       "QhZrb7pDYOMSzFrAiRBqPb9NVjx47XLraylThMeTm1iBv8VISI71YeUBSYS+SCdyc1LTXblR1JtD\n",
       "JY5r7axfzzhpRS4feYSUnoIlp0kJfPMdJvO8Nm2RnM/Wtmf/F+zSFrR7o1GngQqq3+xQXw/iqrod\n",
       "CABh6jKFWLHCLB/HQsAqghshChGP3Wlb8G+JsSM9LCL1lgo3TgrVTbjIOMT+kGwLC+FKOsUCF6FF\n",
       "5Gk2219Ury6l5yt3wKsFW4PG5QMBRtTEzyfxogzQ+nF6nM1GHglwN52TK09EGj4HUx798M16XMvt\n",
       "OcYgL4N+MfK7sUeQFFy6bwPKq5mpGDJ14ar2gE020bLVhuw6plkdZgYeGRp7APhB/AuU4g/Bsspj\n",
       "Lz5Ccc7teeEr2v4+lhdSv5onuGRpISplMnv/3fAPAkPgcm6BOCSxF8H/gJ8LtB5zeVzRRvnXPpze\n",
       "pzxQwJNcEaLgagoJXGeKv5z9I+7dmk64iB5wnrpc5l4L1V+mUvdp8TRFdEZqqJpFnluLJb2Lk+Hd\n",
       "oGvQKvkc6J6GzjTGSW0bnxw06Fln7EyPhhG9NmKZcNrypGl7m0hDPBvEXVUdaj9Hug4ZBua7hRYx\n",
       "SkPpG6QbO9pn7kuWcObZdR3Wirm6E1G4PpNcLgtWH+IoN8V7EERvy2mTJLplyk7nWwv0Y0mB7X9r\n",
       "yUT9apwes3vpCKI1EsmKEjS3WREsl6gex+9qta5qz0ZCY8jZANiZgusGNnc2kjTt+CifNcNiBqfh\n",
       "R3BTLglwKSOdApYLKEiVIYXLjB8WDALeZtLhMg5ySD2H2KIurY1wBxdJcimGbQJY6zmJiHNJ2dZj\n",
       "FnZ13oc3GsJ9eQFq1rtdFxBmmDARGilJrHJEOhjuWO1guhqnSATttEkdI+rUov6fXjLu8tTJ7iY+\n",
       "Zn94QLJpqNhmNmvHbIBlaBwvryaJC1AXcfsxZQNvtjlNWe/sjIo1sYwt6pI4cGVo+adNbDm7GpWJ\n",
       "NicQvmRrKoU6Vucwq4ZFkTcWTcE4OGd3EnJL4ePx7ZXVXSh5pz7Kf0QXvuIf7lgYVQXLkcaxHWwH\n",
       "6VMlQaEWa+G8NozaZIHujlmLR1THeePosckgXlD8Qa+EM7WoOJG26mvUBbjoKSrXzXvrbXW79gQo\n",
       "+EdoUOk2ZKH7VRYKj4aunlFJdZH0DaqOGUAEROCOm3F9AEzDFA65BWgoAoULWUWKYAVI1ap+E4t4\n",
       "uHipE2T4lwrvpys8tJLeuKInytU3qKwfEuIoxbMaSnlWaLWJaBHowNZz93GnvF9JvaCNtYqfTlNN\n",
       "Kesvb1YzlnH+KgojNLY8u/HNUF6mnbCk0xp3b15yGVTw5Aid+arKcxsXtEkfzsRo8n20VJRBWW7M\n",
       "P3IqOlCXDwKgozLZfnp1/eHC2lbnC6uxdz0EL2WjtvoNTbmlRpQEWI4SsgKZCIsw2YkmniM6EMMk\n",
       "nETMIAArL/H3+DQZ4W7B8dg9rJPkoXHXHQERJ8od5nJlifhVTT0/oA+X2D7ro85pTgkopOK2Q+gd\n",
       "++pGlTlKXa7XtbHPzY5KvQGqLweo2GYL0SOLtrrmNhZAvPtFmsRzSo/67PI83uln3gOaOK6iekBi\n",
       "LSQ6YseNCMaJK+27Mzx2mmzqMUPQDDTpqn239MgiXsxjYZgo9weS90wNwaBpx78KQpoo+4pPjJsQ\n",
       "Xap/MAqs1vB5jcM532byvcIouvxneC74yEwZdbphFWWm92sAutcpIo5mOW1Nhx8dNq7I5kNzIBDn\n",
       "PDNRJF5mLsVGv75KyTB2OZ+mIv37lXMTZb2BCEhA8z07qsYk4/XRIVTrjb7EKYPGwadZU8WaavFM\n",
       "P0CsuvGCoZqsUEBxO+FKgETCTO0elWB6qowyYI7KTfTMifmLBljgHWbE6RSSuO4XVbVkC8xT1vW3\n",
       "vr40VkoRIlMZfosJh/zz7Ho96Iut1SMZnZumFyd76DoLAhq4iw+gDLz58VcGM2oy9hAdeMfd6y67\n",
       "Sr1Stm0Fba6eplXCnxMDdyALNshBffCAJ9hAwY5+hZI+PBtwB3U3JDwCl17/IyYhimv7DxytGJv1\n",
       "BnE0TNEgQmbBVbZBoMd9PlPPUBbcpC7s2PUxCcPXftob0+XZ3bF6Hjwj43liPPqNIlqJwbhx07X+\n",
       "wbVSTcmTGalZJsGT0HZSzahC8ArqKMJZsDfegWVZBRiiSpgTl3PpjXFGfxlFX0BVTc3V7hZGYeby\n",
       "nJj+bCOBNIRlp1m57In4WApPDamDgXVu2dU4KbZZH+03Z8SJuL3ErhgOrWGoBB8OK7BwFuunXa9e\n",
       "4WCzIkC+nP48CFTJ53hYk9aHzV0WcvsKjAM1B8dbGWkw+hmKkq6bjCZHhk0Tk8ScXaWJPRAA/xVv\n",
       "yfwQjWdFTUxgnsEM7AOSQSb31qAfq3vtBepBnW3qwAej/fo+1geutZGypRugv9vnHYb5/VrRpnqZ\n",
       "aeYEzWlk74L3OmTdYXRyjdHcwiXJFLwPj+ETm0oUDR1vtm0vt9qHZNMTm2lQpjGBTwpusprge/BC\n",
       "Y6icg+NoiJ0JtUSyjgwXsYOmpZlsupxjUknuAAQS5LdsUuL04MC5ydJ1wHvtssD5f8ygpxVJFkTu\n",
       "jOB1EMgEzyO+pLxNuA3vb3c2dKh39Wk0TkdYPoXfMVGxwZjZ6/20jGdBAAALYkGaiEnhDyZTAgh/\n",
       "/qpUx0OtMb2AAKjWG1Wt/eYlkPQeXV6Auwt3M4T6Kem0O9YvE65TxV47LGdgfYqzIcx49qc9y5+t\n",
       "dc6am8mzZJRkrqhnuTUkXwayPbCrTzQavh1F1kvh1CIxMO6uxuH4uuUtQF/BMBElLMYXfwRt83lM\n",
       "DRMV6XRft2kn5is9ofLjg0SFXO57jgChxwZ2Z1v+/+/jCBnSwhMqSk+rId253UkZUQDz5nTCoyoT\n",
       "nbdg8u7SS1QvudUFvrmIrAmMzq+28d2C9bpGbi3h6hF2HrwXwLbiTjmZ7z/LeFhVwS8fM4FHvicD\n",
       "KKQ24FJ8WvdY10OOpes6odUrxGHTvgJlFrOXPOBGPR1NC2gucCzs9yyGRf/S6V+q2fhfrtlp80IP\n",
       "d3Dka9tE03zmEiZR5s0ygy7GW3dq5pm2KU9eKgVmx6mwhxcx4B1oORay7IJveHda5IbuyNzMnGrN\n",
       "BVmR1ZGpgWmZml0igHEssb2O0Nr3U6nRYHQbKVZCdXbnFGWnG62vBU9UfHKxNqiZnxP5hOIIDwO1\n",
       "VAvC2hDgpsq5OautochlxUk7ns+jbgm1XSLHkyB82tmOFsNSC3gzRKQefNhnXymCtc1X+lkDZXBB\n",
       "AHCjyG5w1MX2EaOYgpQjxNQE1h8uuyR0vTzQaS/9UA9EKUiFcRLa91rvcwj4041RyPTOt4jt/vtg\n",
       "ENoBo07nqVLKFc3RmKyjXWYELkfu2utdjr6qf5AN4SVwAD8cy/23Hb6NZdWFyscygNeezyf1horL\n",
       "hNBS4cjkTBw5C3bnfpwCT+iVg2j+DCN4CpUbKqHYbEWA3d/2rYkkzzs+BkzHhckeOeJweBCLW8q5\n",
       "bWP9uDqY1fh1qlHOekz3c+DEszqeVHYpJXARsOL5Q96Regsqh7+ha8MozU1LYRybAX8FPFm7S5MC\n",
       "G60QSY+dHDS0ZRml0SqjI+wpXt7g56w015lox+c6HlnhZifyD0LUzU9sBFkmIJQMC1QUJIFFyJ6Q\n",
       "LTwutW8fQ9B7KeydrmE8u0QXR2BPQng3a8Q1FXOl+kpMlRnuJ3RsH1yi6WRYpiTu9c5XsUqhHvVx\n",
       "xTr5w+l0tYaytJOEJok45msmjLFSBzeTrVfa4dIbMam59dSe6QO2/3GBOKYV49hkC9iiq+4rLXUk\n",
       "cvxdhTQw8kh59JUjM1EdHvqBqIvPIEptc0GPOX6wJHfqGz+iAiIdoDsHqaihTUbNEBke/SS3HXaE\n",
       "npTEcMSZ/SWEudVPOj3AI5V3nVvuX42paEakDtEdiJYvztFTTv4nqeaTBDYoDbo0WMnB+4M+U2eP\n",
       "Of82z22xWqY+8o7yavXbuAP+7P4dUjzvPY0TBKUvDNNXhPbsNt409LxQNxJOpocKcXO4WFtfIEgS\n",
       "ag72kMEzFsC4uhVUKOnpe6c0cMgqlMhAdgfFylZ0mrytAcxcDLJh9yfdSa0MsJQcirJVgwfP1Qcn\n",
       "cHpc8rxifHT2kNSLvHSxmVMoaoznfWgchlfgWfa8xkdoediDFC+RG8Wvz/4sB/Hfxm4Hp9xbv5r4\n",
       "iSbwRdOed5m3Atv3Z8/RoXDm6bOVNCHRXB8/3m6taotxx9bL4TTKiNqoNsjHpf4qWxtulXnLpAgt\n",
       "JC2pSH1xJVE4JD4DsEWizrrpk9aePAI3kKaIJd+BA8Nr1bgTyYIEtqOwVTtSJhwWkWWffDKUHo7l\n",
       "jw15cl8x9QIt9KuSrdLNGl8Y8GW3R4PmQMbj+AsRtqtKWpO733IJwAkAAtxiGOlNlN4Y41oOsIu1\n",
       "HOuk7OaXra0ZzaW5tyoMZ6zUzz05B8w9plRMI4XvXoXJD9EHzT99y5vsopwH/FFjE1zewWLxOG+U\n",
       "XsTjRWXKsEoNRMuC//MH6gkgtzyFdRuHRwBnxMWmAzqETuloGWkKfxP+p/Y2gcsK6JmfwuJq/vSI\n",
       "6Yp8ofqasUS4gICOWd+NAm43pUtrr5Dcs7dxTZDnD7aBpSExX+enNToMKQKCeGn0qf9W+9Sy+OQA\n",
       "ExYCr/kV8xyevAAVxNJGt4phzDIGpH8JT32t0kCIfFly7s9BalTmFhayxR0rduu3hlHlVt24zsZO\n",
       "jnPaPzA9c1cVyB9yIgXx6GqSBp8exY9ZLUN1JGcirGgMK5y9bSbRbWlGDUi4ekHCL2rEgFyZlcFU\n",
       "ICoW3xFloT2GIWcY41j5LMRUdAZutF1tEte/YReNcfwNIyf8jBwcWRsyMiZ6YdTC/mvWh9tDS+FI\n",
       "Z4V5yJs8ISiQC8kA1pbN4rTL7MGJ+a1222nR/VMDDxbBFmZs+TR3Gsr71VamhMIcs+ct5nG0+raa\n",
       "b3G5To7W1IZ9/QQXVnedtEzXw35OYEIklbtvkBoP3wv++s11LOUyVKXVRsGZVhDZx02TbaX53Xtw\n",
       "tgufyTMm+N/wi6mAmw1ZdicccRuNKeMbaWAv0VO0W5TGkSMagQH8HAN3ev0kVcuVI3FNDk9/kxdk\n",
       "sWJAAh3nJiL/RxmidmZJkgh+h9cZrCxoAWG5lMzIpaMu6LlOnCPfrOKiQsQNIuJzgs0mogMUi51R\n",
       "h2T2QPszhefKka2+s0LK71xgtjfjWMvb0cWuGPrUNH72tMA2YiDgOeLXu64yRT7sitBC/+i88o8H\n",
       "YjHYKwjVYUQ6gAawen+m/adQhndVWo7OKNB0X8SxLfoKM2oDTTIWgDYg0XFuJ0eTP/0yVsYFW/jM\n",
       "62ynPZbFdlNqhJ2MZqM1hLFyPIcLGl0bVvX3EGmnW42+CoF8EylUi+aUi7kLhIrYPZdxwI5xm1Bu\n",
       "M35e/DNxBBEfjZktOo+ELlNcNzI2OK9lfPbS9lAT49F1h92sV+Wpdwcbmqej+T8d7p2T74OzBXbA\n",
       "xrKhPe6cqeoJoKGdHEUz4Pv8NFveI1MvUhvW8+H+NMYuhVJOYSsE4AZJd3OSuIhhpcAJEAQ+oOEi\n",
       "8M0NsLP2qLEg2/39D77rSolwZshlZnF8KTXDyVrh3JrrS/t27w7tdD7q5uRneHTkThnnAufAkoVB\n",
       "V+bZwbrSV/R+Wt/f+TVyGD3IIFyAhQybZn4JivNkGX1SRYNEAn162d/VojvNtm0X9SiEPGx3Hkge\n",
       "bO7s/345GMUSKo94NDc9XN/TobfB2gCebmF8yB/VaMfh6moRLS0RLiob5DqBsFQU7uxrQCvc7kzW\n",
       "yQE2JUsNpW/b6+tbeuss1LBchc7OFlnhYIWeWBY07NPq5Tg/SFxtq1nouviE03sVlGH+MiRky/OW\n",
       "fi9DB1DuFqK/vcXWjp7KCLU7Bpg0JiXrWtFb33sI2naK572eOgThKDoRSK25klni+t8MnTwB7rAX\n",
       "ulGoIFqVIjYylmIiERXflCR31Jr48b9oCScEpQAoywuvXcmiMdSZuDixEkZVdT1xoc7xmZ+g2W+e\n",
       "l7CN+e3OhQ5wbupy7YPzHG+eOupiZbXBrIEtdIjgccyW9yftD/zEP1JuSYgcgRCdlXRI44nZpD6/\n",
       "IBiZPgkMfXeNdoIppPsG8wODf96JjRNwruruo52I0Pe44QbPFf5bTFQkLthxV8jqKJnHIjfMmnsH\n",
       "mkCrrEeJ1hiL4H4hX1Hh2d5NG3dJI93bnkttEVrJe20N2hIrsQc2ke4aeM9ELmuGGSaPtED6O3nn\n",
       "LuLrQ8sdfwSO6csYSbQu6jBO+Ixu8YDz8kdXqnI+MFhxeK/all7htMO1HK+hvcOn9cAtDREpRqOP\n",
       "04fE4wOGeNihZ2SQJM7rlPsJ1Kgrlmyv4uktBDzr138PQU0LFDPX65ykVVFSO/6GcgQ9oojYjg/L\n",
       "qRGvvmf6zchtniXYF/uNUFLP3Ifmp1//4V6/gj6q/UvIyTq9Xn9AxeK2FL2HiwCyS2Ze6eQILcX/\n",
       "YHPygM8rn88ZHaxJ+9DKVORYn5thWxXNLJ7u4lDzJa7orWpUBVyWpA4RKaXf9Xf4SdTVG1sAAAa4\n",
       "QZ6nQhv/Ezta1+ugATtkH8IMKXQFXetc3/sAu8F1vXOcxysO46vJDiK6A1xKLVnn8R1HOifUfrCh\n",
       "18FfXUlNopMiVzzc2XZ3req104xlE1gGWP3wMWmVR15P4qHZEaVYQssXk4DqRJGK2z7vCGvZDvHY\n",
       "G0unZbVeRai+gajj8rBfUlosuFEQDnHoT7YHB8bKUmGwzQVx3Vhs4/WL9ckqI7JOuwbXBu9RNCUa\n",
       "kJxu4R23ChyTkcixhgenxoccl0Kf72yBOh0mz36k3QOdNCL/EolwWh/5FIvybzl4u9fc/1FjCydG\n",
       "kPHho6r6MoZSrtSbqxaG3TkichcaYhommQJVLAeTu3G7QDaN891OWuHt5PBMT+fDgtp0kVUuMES2\n",
       "63dat+7wG6SmRZ0ePyW8gPOh7EXel8Bc5ZX4ZiMs0xdB0h6dL8ox5aGarlH/Z8OD41xaA4C0oigP\n",
       "CbDJTZlI5ql3W83PtEkRQQXMpCiEQ46AjLt6RXcENXTemxbZZwwAUfH5K+nT+1PolIZ8VWUu9+Bh\n",
       "RqPl8ztwOT/c6GejJNRzHhfLFa6y8NpZjTWTt70ueRGZ/NgrznL4BKwxckn5EiliBlAJAiqqzLNs\n",
       "1PoVSwnYEjBNFelC+zpwOQ/FXAfXF+PMwvQBrr1OX52Ylf1i9Mge7kYs6zV6iJBwutAf6AiQ/z4o\n",
       "HurTxntJCxuhV6DjY2DRIJ3ZZQaDWLfdmqzJfLRHTHhdQLOdaLXEqjoB60S8Sf1BB4Zon28NnSfX\n",
       "vN3Zak0rFraUHNA3uW2Nck05CRpgkatMoArsI14W5ufknwziN716OGm98Skkiuq0p8Ea2u7i2+JB\n",
       "63y6baoJLHLKT8zITwaKfDaVVmzZR1tn9VO2MJ5ldNMQ/wSmFY8lN9u/kkouVyzOGxhK+8TUNAws\n",
       "/jDx8pLSZC8NJckl1psU+Acox5bFtG1pMANyL/uE8FAib+YPEjPaEUD4r79mxVGVEjjp05sXPETV\n",
       "ycUypgf/+N3QeFQBo4ri3oe4U5s4Wu/TkAg4/m+MzrDnoDTK9hSnpk5SVuaxrQtBFJ43Zue7AZnY\n",
       "a0xzZ6MYJOlV5UvIBcwxkEBC+fyTsBHKWlscbr77XEOII8+pX1xMT0RCL0b+CXRv8MP4Yvl14zQI\n",
       "1Ig7TDxsbjGvrJLNq4TEujYfXQefnJYK/G9BYT4xOUx13lutDOyxs2Kgr+RexrxqqIzBYZui8gB2\n",
       "HYsGcL6R5GtcV40klFEbUZ9C/K8JW68HeQL5v//lIxq4xMZ5Ai/ljeLmsAuDo3jKLNs1+++EzOjn\n",
       "pCGUDgmWFYJ9tHgiBm/6Rofd63h9+MR5JFHcZutMfCqcwfxuZ7T4uy8yVnezm1ecsahlaun/6md8\n",
       "h++8Ou+Jm1edSuhbdzcSpYvM/yWTyk4UrZL5sCCQ7phpIowR8wAY/WJaerImiwTG3of1963GJ5Gn\n",
       "EJKXuyF1BmxgPO3pWpQI78UPOcPEhFI4I6L9PP1s6mO/epvw5LQXexj406ofzyMn6wyIQwF2bjwA\n",
       "5ZH7V9dKI0mdmxKFiEGgUh+a08Xl6UkcDf/vCtVgvJvmVu4FUBOeKOrF7zjuu0BIXIIPzz3I6HjK\n",
       "wcq+7wQaWFCycN7q2mXpvBS89zh3QFvpIP99ACGoiiS34sStMeDmREXAnpZ+Kasq82Ubwl7zsMk5\n",
       "7S3AXvDITkHrSBXlUINFPFNHyFUXYhcYB4YdWgmqKq/GLyyAdsEVg+eXY2gwSzN/ngpKqDlv6QfQ\n",
       "JriTlLuRD0jVqR4q4yiJtHGqyCVtyaHL0jS44BWwrABlSgZYnFH50NctRBx5xcYTyTeGqvT9sLX+\n",
       "njpvbggV7tMFy5L8BKhv1Fgh6pueMZWHZdanMEhS0/E0Kdrpzb8/UOxYtfLYt4iN8MgybLk+2QYr\n",
       "eHyglLs3uKTemceQgvuCZL81Q2fE1uKXeFJ8Si9wk68FWndKQxNr65bm5PRRm7QUpavQYftuHA6w\n",
       "VQ7SnMgC+lzYkcVmhkdkJ8qU9KohEyueuKWDuexHt9JcqayqzqRA+InAHnKhUZOGsB9bDHo1ivSp\n",
       "ptBLLUHbt275PiDxn8puOF/Rq3BkOZGQAAg1Mmb0O4nUq51vnGePcFc0OuyXmUImWtPzDLWOw/e+\n",
       "wF5bDWLUgQe+x/55iQfiKObOFOHV1JhvzVo5RVLoLfciKEhfeSgZIE8q4UAVWfSJrtdpdjmAyNqz\n",
       "SP9nosDcaMTVYYREWFCgjePUeXCrjNEPS8ckrNrnVjY7oZ1lj4TEEwCjtEc448KI53+GgV+QaQTF\n",
       "LS4qJlqhpjB/gQAABeABnsZpEN8TMT3rN4ACdSccCDN4KJMF3sOTwl1Zs6fKw7q1eSHEV5g1xKLV\n",
       "or+I6jnTtcVRHbk1gH/nS3TnLGl9CXC/FeEBqmBcq5AcvewKoRCyQFioYmuthlsoyYEVcMXayn0E\n",
       "dqi20KO0hrVRsjwDwwOsXaGnNC2h54xT3hkawkH+dCoH0uQlUteYg6NOdCvaBlRxq/fLzQQM6457\n",
       "XPWIN2X9UXoAAfnF9jM13Bf10OMNVxLiVezRBtnhDMBeOn2TPWFt+sz/ibTbGD7UrxI7wihL13mu\n",
       "1HuQrUi4sCh2YdCx3yD50146r5WKenoFA+yyxE5m03mnJ/dAG/qga1HqRMILo7jP+mWoRVdGlZO8\n",
       "D/OU51Ksue75F91psP0FxDfr2dB6EY99h13begdJse/YE3n/tsFjRBTIUt3WnxnG0w1XPtHAqm/j\n",
       "sDNdxq8xnSUuhkJDkGzHcsBh5jU9N3Sev/C6w/+tWOBpI4RWQPbtAg9UMXgAul4PMhfCUNEV99Gx\n",
       "PyubwOtj+g9dXor0Fle5NRPq+unf/sHsES2bgAP1P91J+jPjuKqfLCKUUcx5lpTHTFCmBvc+DcTn\n",
       "jCPYwN26uid3pQNmfWtzwWL9wfw4xxqkbQH8gg7zMzodEgf767c1xrzNAvtr0v7YidYpa2/RdVlK\n",
       "EL/jgLAdJW/QwmzxCjfI4eS2vaMjGN27pchsaSMV90WxYIZPwMerPhVgOcY5y2/7I2WiI8wr0cqR\n",
       "cawmWcTv8tnns6WJ9B8heHzL5xiwhvIYlrimeg8yXrYlDgoORwf3KsFrufvED8dddbIxeGhUK+Dh\n",
       "lv0D+qPOdZ6s+UsPJqh1C8Jvm0C8VZHELY5bAQJrNOzn3d9qHX3vMgw3r85x08Wqp2tVmSwFxopL\n",
       "m3kAt/f055THRjLB60OO7tf8luHmfF/zQeRVspsVK10T/3ITuIZzYP5sK/wPM6G0pH8c5hP7qngF\n",
       "w9hYpQIkGD89g2XkV3Px97MyY4Utk8yhJq6Ji42Gaxgx/rJfmITsd1ma9FaleTSdGyJ88tKA+F6x\n",
       "Jl85V887j9gGPohOIGZZKmZV0lKejDpUKMMmBnH560KEu1RA8ov6AvOucQlkCBARy2n91AlhahWk\n",
       "gjt/P+5tZOwidT/hZ5Edu9VE6nqqlzvpERVfQy/Paw0pRftKA2xeylu2xSr9zgcgtPu/Baa0NijK\n",
       "5TeUc9F0viCygey61K/tm8afw4xKNUC3vnxaEmqNP9N6BRe9NHwm2X0VQRgKN7D0VDj9MgBbv+PB\n",
       "cOD/VrtWAE8onBb3vo7yr13c7iLliHfGoopkHpmDbMw1SMwD/YES8IntPl0s4PS3oRKhvJ5bk3P1\n",
       "rUygZSmLW1AxIVNQ/i82jo08qgVbmjRPKfD5ZEZvXFh6YgjdlB5VDvILf41HVw2mvm8l77nKnVZg\n",
       "QRxjLR/Hc6ScrOvGLZu7190a1xBFtCBhmEEqrmQ/TBv7FODY/Ig6EiP16iLaTbiy176pSvqVEmD4\n",
       "bKiM6RIODJtc5DvuJB+S2nDRxr7+aMJ0giuX7/g7JQFsUifLBXLRar7QCvY768lRg/+gnKxxBZPB\n",
       "2jqDaL4XD2Cs2lPkeWeXwYMZ5Bz0d16/af3QCVkBDriirM70QoJP3bfU+Sht4HCwSbVmBzbsFD4u\n",
       "M2HAgl4Qh20mN/uoqaLXQpPNQ9eM/pa5ye/EVwi3eZhATkt8yoRyhR183Iv32baRDZVOjE8ypGvu\n",
       "3FCpmC9onjTl5/nwwIvtTskmTjeWjKmaGMugqzg90nZGEX+TP19Qqr9i732TFWPHC5FqnMP1YPjh\n",
       "UmosoXP5jUZodEU9fpxROwn+fVD6jvXE845EEkozpq/zhKBH9xXo0omZEJP/UozzpjW5GXXJ0et7\n",
       "E0wwbAQkZG/ZlE9b72jsZrm5mPWspsWeBY7glR8SEUpNsvPwqPOG9YCkM/5olMzwkSJS1NeIRKPL\n",
       "v8vR4PtSH1ATh+TbJyuR+6Ws0aqILYnY1rQ5UKgdwgWg3j0gAAAMgUGazEmoQWiZTAh///6ppo4o\n",
       "VpxsALdCsr4xXOUsJs3bv4bb90Co2lPriaZPFBtjH3E/xB6m+OH4R27uevk55/EITQhqm9/UW6gO\n",
       "I1nA2FwxiBw9KdbJ/kRUeb0fJxSLLM3+EKbLN9zG1Bakxr+p53ZFgARcGbPFfl/gB+QjwaosCEdF\n",
       "C1X2/1ST8ir/dWwK97ykf9CfHhtYBxbO6rLkFYi3AL2HN2qJgFEl0XRHpqtrm8lcAHKFWLDU6CjT\n",
       "pW47Q/CJa5Ngygi/WgwgQMdyellgkmeQaS0Sylg76DEIQzceW1DGsjkFFPWQIatRKKsD2NDbxVXa\n",
       "U/yu9Ajr+RushZqu0sZWBM5wT5Lb3hWsvBU/yotXeFab2kEvc+1tyUHA96yN2LAP3XrFiGBX+AEu\n",
       "cadxDEGk/3dMjI5LrDcmm2PTrq25SAnTfk1kxGs8CQFsiDZxw7s8gTXDNDKC2IKmJGJzaUEXcdyg\n",
       "vkxmhFmoMKO2U4zk5Rd/X0V53WjXWBRAQp5sJg4eT1ZCATFCJtr7uQF4ufmI1beVb91pG06WfG6n\n",
       "hfnOEpLxvbYDTWKq/GQzfhMVQZrd2YgR7bKL2r9jkopu/Eg90QIm6Msx3cwOXDATyTWshH6exmwC\n",
       "Qz6qrb7pKXj8IwYsPEzeebnkGcrAQkm0Et2iby5rd57p1mIwIsi/RsiFdflVv9z+pZb0mD9ORdDq\n",
       "8Q/zNwyAAjgndCWc9y1oM5UliRcYKh3cyeu4NFASJaDiPWZujgdxfXbnCBB9t6cxcDtAdRFtYFMd\n",
       "MVnCsCEB898RYPwQ6hNuehQ8bJffpbRxPZMkVB/Qij8+qEKyaCVmiO/lsInOAbpanO5G20JtB93v\n",
       "SBXApHptT6QSWeVk5Bo/nGDYACIEw3nUEfGdszmDIFuBRW89dnJbQyy+ddOoySXjvjDsaNFedo5e\n",
       "dz7i8VPcWpuP1GkH/YF91vJdP50VwEQFeOgQLjaIAEM0BMQhEwzXSPKnhICwZjcv18PPkXYBerwP\n",
       "6ZpUXz+LeoCDeHobL1HMxjj+9u8jGjbELWTClDP0WJ5UlxmfBhHZatk/0Jic8yEL4I58nRRzCXs3\n",
       "YyvElQa410WN9sxLm9gHYxqz2HpVAz59h2yD3nAr0G80QEDi/+0Qkvnq8s00kaKsoYfTEz75mVRD\n",
       "qTLQCnpx5a2C6v2B7QXrgZdO8DsqcLITTigocBit/1mAt6P0PaUkipW8sKTcx4vpP+LKXe1Ne6tH\n",
       "sxK7hHDD4ufLGrN4iQxv3kZE2QhsqWuqNxRdVwVH+FzlROf/Ua71DmlwpMw1NrpF66ICt6BdCsNE\n",
       "9oR9VekRiVt5GIzrjCqa3PQrCgW+Ljgjy34onaz9eQHNMmm8UhjQ4jYGsTxmaK7vmqfhtmVkbwxo\n",
       "Mrr/3xzFuzh0gUha2SMI2aAL04aBPflhPhClRl7EgUfEPLHLt9T/h/7r9Mqh04szIdvL5LDy3Yke\n",
       "xtWEtIuRaxEWb8Yo+MzYS4ccXWRFXUGiGBHpEmbejwvTJ1K2MsVBlxYANrQOCT8/Trn1N0oQNpTQ\n",
       "S4CBpf7Yh4aKnSupTqpJbjYYaMHaCurBu3pXhHz0JfuzlpS+WWfOTIn6Ksgep7rjR/12LW6ac+EY\n",
       "ZAbRLVu39VNEk7iUFeO65WexBqp/d5aJ4XqIchkYTM7USlrd/vQ9q/l7fTLv2DEKoqbQpV4RqCzf\n",
       "UWH84XWQtjKS/Xrx0awxYjZ8ZjG2w6BFJJRIeNHOCfFIpZGkHdJr+iHk+LEc0CMjBAvdQNDYlFUe\n",
       "uhHL+D59Z2nKwKm9CREfkzOatitMbwJpfV5jeUc6g9TTO9wIMCrrf1PzrixUBDNVob9/oSRhfgqE\n",
       "icxxRHyh+7bfs/9U9GaxMQIwI0n28NPozUrYsztbke+723QqbvY2oCN6/l8rawivQk1tm0WNNunl\n",
       "H2BIbfGCHzvcsmO43Gx6Uee8+llnHZ2BHY1A1wjln47Jq3aJ0TiE+uWpvfnsIdcgnsUoPXxlzg2Y\n",
       "Ju+N4VveXPCqgfJO0sj1lDzNAeMrsahoZe7nwIFJmgLvVFEboeEF549a1B+NxjaERx3lGolV3F5P\n",
       "LBTyz+u/0kmEBbTD3cF4qRh94p662KlN//T5htonMxR1ESD28RVOaUCNobl50jAeYI6IsviPa1aC\n",
       "DT3CauVkFdBkjYTgAa+K1ZMkFWCprSw/lHHOhrRBis9xkLBCtCSnnvXYfkzfERrh3w+Xw8OEJ7nR\n",
       "9LYTkz0y3qzqCw9I1tSd8FWhBMf4QxaHVsuw+hVVEVLCdt456FhguUeX+dkDPhJskqA9jPn/XxUj\n",
       "uSy4HoQnipzGkLlxy2/TjXvZCgI6pmL9MikBxrG8cBttQB+4i2eU47OMEe+GdsMHxOh1snHsSvwE\n",
       "F3OlGBDEsOflkkKABnft3vY3SuXH2d2WNi9ZXFjQ+9j1Nc0t+P3GKb4MtM2AMnErC8Kbdcojd/mc\n",
       "cH7/8GCRnBLSA/wAXa0PZLxxMzPuwqF8G4CnM+enl0WTi92mDyxvIaN7rt8e8xJ9PX5adioh9gxR\n",
       "IT0hFnt4yxx8ML2FlM2ku1wMxZmEGGTdZ1S5UVQJwDS+EMuUYkEugoduIn4XEdrofKQgyKHZV5/r\n",
       "mklcjs5+J81d3Xg72UU8drzQybSQMhgJGtRfN08cOKJpv+0bs9ij1exVINqJ6bokHqe1xbvjnGwu\n",
       "dwrevzgJdKunYSJMLN5m15ekv4FwsFxTZ7p/GmLLQlxK89prsScPRja0vqxm76ZMcq4YsLAmDTRr\n",
       "/fArzJaz1AkF6fvNchQfV0i/bZQeJ1ookeMlV4+aoj3H/d/fCHO31mQXPgR3ZLPgxcCdn/OQTQKh\n",
       "uduMaJ8In4oMkfEY5z9McxVNsKkI8iim2Flbsd1DBwQHZ0GgB1xwSSD2fmZHhwL15fT94jqHUpeZ\n",
       "kNI1PTTXEfta6fLeZU+qGUtMMmEDLgEtL3ct1zkEhidaqnqaVxt9gg51Nm3aqsRn9u80UuL959qH\n",
       "Te6V7fS5YYE1fxE8VEW+dIYLpxviW76Kgm51cZOSjc8g+E/MYHWbvjK6YRH9qZxLHFDoXKxoA0zE\n",
       "GyNvvCEXVdFFmt3HW+4Di0U82qb1W2wpbZ0Fo1xI8B/Ic27LtavwZ2Z5q3iKGApYgZOQqzdjORj4\n",
       "BXhfbZB3pSbXj3gmK5+AcftrHmwRzrpUF7YodiIEnO0A3aXl7R99vtgVA6ayFIlMqOUVTJ7oHZqc\n",
       "7TeK8t1AW/kGmmt0SmX5i2xJuCE64iq8za79x8A7V65MlPfaPJ8JNuc0G3wha/8xivYc6ctWZDQg\n",
       "MsTEyTnO9FTYhxAkVs8+C1eeB3BMx9yDjZgnW07UDLMweTcKEhg1MkPtXiZhvkkmTU9Me2nURxRS\n",
       "MPlCqt8QSNqD2Avg8GdqShz+CG/gxsB183YaTha5iQ9uIEonmKq2r7gQDoz1RmFWbtTfwfzfEIJZ\n",
       "IDwSBD8HgXr9rxA5aMvXFXCYbX+AgfiekurF1WBmmCZW+oC9NfQg22ZtDvq1EL+Uemh1eanc37WU\n",
       "+2Jd7s1ueOzXCM8U0PMVeEDw98c1XVWqDyRVv2ZYgzbGzdyJtSU23bZKv3CAy6wfZpgqtvnfCx4q\n",
       "TXPCFNWWSMFyM9qX0sT0qGu4yaUjt3g1uh7jytWwPx8eU5tg0UYrwVCCcQTGQ9aYWPUs65wUAzWn\n",
       "62HPWWcwwAXYYa7HYWzDZ7cgaTcMqbBr/qHBS4U04PawAHPPZDn0yZDZtGAPexFXarSbOUz8zWhR\n",
       "oEMhwFg2nk0jVKT3DmKsF4w19eGYGY5e87XW2k3w4vo9QCUyxp32uDnALhW4aZcwFhjRTqW4VDo6\n",
       "cRSilgAVFI6tshRCjbXL2iwRl/9te7e+jtLMcuHgFYB8MnAeX4ZzdIxFjGv2WRViZ5JS7RWkTe7g\n",
       "TxoGj1tH279SVQIxkdC0PjMqgn62cn2eVK3agdOsarTyrJO66t1xGE2g90uiihjJdZXFXE8d7NyX\n",
       "bIlk/KhVliRZG1DDMvDy2fb7G+CovkBC8qVgromYPL5XSM21I4JczxvceNWzNqgB3HkWl/mUbbaz\n",
       "662alHPswQGbuHDkZ40XhCQVqAmJpeX/7CgA9cPjcrwfsEiVwOaNg/sDd94N7F260Ua8tJ8Hi1TO\n",
       "DkL54xXSxplM4TJ2PXiB+J2gLbbH6RFcslsEmP4d2hBc0mdmA0UXd3gUUqteYuuuQEWtu6iyNU1s\n",
       "yC7VR5JuMQiJbfohmMKjnybxrFyP/XjAi0tdipOLndd6UDQXzO4OriaSsX5Q9GDP8AAABt5BnupF\n",
       "ESw7/wd9FNs8sVVQAZ7C47z7mXtyDBD6SoMd7Jgjew7QcFqgKl64pA9KL62PbY7ICdFvnAJQ6sya\n",
       "UW8iPyebei6gmycvR0tMhSIHLR36jzsy8gMPMhAzVV0NJmf1FYcs7P6IDsidWKh/Kqvk2MCBanoi\n",
       "qQnSG77Q0FeKY2IhnNDQvDbf9ltAATV3LjWVzGc3UgIgRLn8TaCGF7nJpzKptmMuga0WTPCB6qfh\n",
       "FqZpmjGECyQgH8Gtj/qtgsxosFFcEbJ/JsK2g56nNT/Hp/5BaPUZYKRjaGSeK7xk4iSIySTNUekh\n",
       "LoXthwNLX2qZNSuPhBQc3V+N5qQQpuJzdJ0rfk6dBR5WqvmMTciG8t8kFDTTbCFgznHpWDDdB6Fv\n",
       "298FBiSR5CRORMARt2QBv3JXc5aI0oN3qdvwjxN8SCchVJPFjFZpYPy2OZoAvHU6u3GHKqx46BMB\n",
       "Cw2ZP/d6741cihmHnOHsreD90IoJo421X+SPNKJgSZ8gCnGPdxainR/VZP7R42YSrjE5cMxR0jUH\n",
       "2P6NH/Sw+IuIa9xaoMjxzzKPKJ5SrrVSnn5B7L+xzmyh90WONcwzrTIfmLxtmI8ZxCZLTUE2G7HG\n",
       "BtHbFOqfUO/1ucLS1V5129yg+8/CDOEsjvJJFBNBb5jGJ3UpHlG08Aye/rzOLeqWA7VhW8KvgqzJ\n",
       "+L5m1rQsGS4tJQypHUtNdBg2Ztq5szirdbOna8N4MlZ86rjwBQXP5QgVnSksbtjxyOPkmeKuNUk+\n",
       "m5y1b0++ZAmV1fwPFQ1DQrktd0y/yukPnyp4J01lp/Y8u8bjciWY0TZYF6dpffOpsBtSU21jjNZf\n",
       "A/+0Z2v7r3g1827uS5Hfu/rb8GCfjIWOC0jU9CbPSNiVXDsiQPX18Dw6JLMqIG2FHpKCLMgUtNlP\n",
       "IhcHPkJn9jJWiVDT7uUxq2wpjIwFqm1k+BbUE+ILH/YS8AbUgSTvFll7TkzX0ogKbtHSX1gZTIPt\n",
       "7gRo+9n+5mRJDY8fRsL6NBxg1PxTTVsv0dQze9/02RryrAcPQSWdBNxoOblYAFPyoPEYx2xO4p1h\n",
       "o9AjfbKvEe59xuPI2nCSMOVNfdsJD1vo+L63AsL6CIOSAxXPKCVe6X/+JHoNFo9270FnV9GbslWH\n",
       "l73I2P3IIs4eNoqLCwml0ANakg6NrxkSRUA9ykwO7dP5fCpdP7sHm7zmA60osj1mQJv/oY+cnkA8\n",
       "W6j0yjC6H8E5crZhY2H2F5jY5DggJ5ERaru3hfcptjw2cc/NRL5wFfLIKW7hg5t+AzM6ufgGra6L\n",
       "J1IXZsCitIABV8syrchAFLEcjFmLhFRjyic7k2pmEDKBROdtaJ2Li+ANlnqM+85+Dj5WUKAiPRf6\n",
       "6n0i8en2tEkJ3FuHfjUJLzEKsRH8sX1+DRCtgWXaGnuLHZGUEDEx6FG3frtGxyRDmlONzjt8ptXE\n",
       "lJMEqzPRqITx/jqSqQXq2Zqp+ghZu1G0AqZidAp1I2+q88YP/7B8T70KeN4/px5cisAsOnppAsXL\n",
       "q6iM9I8tmT2rlHPamBDovECCGfEZ7eL/Rot6+wH1yOqsvBG2a/JgAqknjDkUcenBtFhdFgW2ahrL\n",
       "4o9TtXs0eX49OMAODlAUjdFtn+Dvb0qVIPJ5keHUOwt8XPN2myk+kYgjfG7xkY5g4YP3j8cz24gm\n",
       "QgEphDLINZmKZyTVQDOdY75XsK7eK0fjNm2O4fy9Os4McLxwmyAQrLCpq1eCBGcJUaLF3zt+w8Kb\n",
       "FBbz5IgIte2NlvElXnriqOUaCWfL9bqmPjrKUqSYSx7JmfhogcyODVlGikN989VbDdNn4RirJXfG\n",
       "YgZIbEAzpGICo2SM83WXfs8sLHBnEDfoiTsvwt+sR5wqg1TuKj9fOpX8kTqacxgvIjMxNinrJJPI\n",
       "dV8LqqpzUFhBdkrjnuAmy3ocNyezKkOtNFkxOOTcYCA5bBIH3RzL9Yl7WNCUo4edKEPqp1iSzgVh\n",
       "bLtRuM2ZbIFkgCidFqC5r9KBGjBZTE+FyId5aOkpB64vADHYHMhUu90FS06PyMsMw0LGdjU/C6Rr\n",
       "lai5v32CCbNuLi9hGgmg7clt6DY4t6OwMJRO52iZJ3hpjm0lO/DFjSKynmBr/kagaWXoj5PylLez\n",
       "x7V/scZQ1VkCmx6m/FHESRRg3V+97LeAMZYVnj0WKs/p9r9BD60mgW03NnScNwZqyRU2MhQ8Ds5L\n",
       "20LCL8efW6/TweCIXpsolEJnrmraCw6AYRM/ENUYPCrqycC2yDWMs/tzJnaAnbOcyOFSI1TO9Ggw\n",
       "WKUZJ04xdrWfXATROKaC5025ihv6M7Uu4cIGJsx8Dm9XzaJYJNw/RMKwcXEAAAeeAZ8JdEN/Cdij\n",
       "RAAnb3PQiworWRKhSap6BGwx2fon/m6sN4O4X7o+G2Bvn5TzrkQ6AjQzLmi4Kp/FmzS6YU9t2yZi\n",
       "jUiAmdE77O0lZtb95u7PjVPxSqY3YIoojqHbk0YDDu1FNwWQf+CuJxZtuH/LaIfFYXmc9BgqSVIO\n",
       "n/2axTrSyCmEs6mRHgWjnEONGViZfJvz1e3hUDWmytnxONwvi9cxHGXyP4oe/X2t/qTyMigVp5DU\n",
       "IADxfX8pbvGVmO9vrrj2bWI8NSI4LXVz4PyIRQkzaDxDb6YLM452NoOjoTbMrsUgj9Wm4IczFMfm\n",
       "isW0hGdKHKo52BYmaQ1mWoKbHn/7lrAgBGcwyCyWDMONHceHaA3taiqKZcsjTEpyWfkI6UyjiPxd\n",
       "fqJ7ta7N02J7hE6ZLab+FcOK6unpxYoiDcn/dvqRG9LiLrZDiC7iFybzVfWlenXvFGo7/J33LrNT\n",
       "c29ockunuugozR+MVW1DTyD28JTTQWDFYxBkuox8GnpAt6bV+zCPBaNt0/IoiwVeyffrcUK5q+gk\n",
       "c0X5Z2pY3LxBvRE7tY8h0vr8n6lIm1HrEBdNzNigjFWGDc3F0UeZthNnYx3QytZZNYmWlmX7Qk0p\n",
       "MJl9GTXVQrrUCNb3sdRiUaA51+Bmkl7wNKp6Ce+zOYvlufD1OmTr0JRLnUqpzPPgloqP3cMP2eyZ\n",
       "Hj2QcRgWjBRpe1Yvntr0LP8gLjhh6HA+XjQBWUgoWDXDRlfEG2u3KS8Bb84mZv+mY7DscfDSoYLw\n",
       "yZrbzCoGS6vMRbNuTCLxQh1MuiSoW/+Pm5LxkvAnESZP1AD/vHPj85JTvRq/9N+LiQS4pbqy76fZ\n",
       "7bAcX2gBzMcptWquu9jMt3qozIO6WC9kz7Og4veqLZMaUypQCq+eduA0bZvx98z28+jQOYKNYqD6\n",
       "YGI6iHsnOZlR/kVhSD2iAB1msx7ByFQ0/gpHim/Mu+ONBtQmDaxVmxwe3zlDkgGBkzBHWpHo/EPQ\n",
       "ahwdZZDmgX/+OHVHbiIfesplcJliYgMudIlIBfdvH9+TQoQqtFbAI1RJRSrIhL1VLTk7yDYPXe5Z\n",
       "CKpSK6dXu4nTRmv/GMEJ6USSrITuBOMJim60rsEl87p5U+BkF+dxf0baW6J54TFrAjHidqlyOIU7\n",
       "Ya6SLnjz9qk3W0241YEIRJai0AfOv3AWeyfcOr+C09tyQTbgmciQ+CPWnJxCpHz5KWz7Y/xT5Ix8\n",
       "XnhTDgz6X9thdEh92wpqJtG9myCraKPTCpzTuMo0s4gcSHi7StIDWCX6wDj0Re9dlFoJQrD40q6P\n",
       "MflOO60Pp6vJf0+ndu6v5vcTpdR6/AwaoDInbXhs5B6We/fqFnHEbyJ8vR2G8p+Ed3QxzRbjwm9Y\n",
       "eCyL6Yo/7oq7C+UsSdtcu87Y6EypaZhMEKHti8vIWfJTLqCwbp+bAoeNbnuoT7YvYD3IOXBP85PZ\n",
       "ZGzDuZ7Srv/kd2+Eh89b6UM9uKhKKaNkWU01c8lcZAtw06pD+SL9gupyH1SGWwFP3VowD4SuHaLg\n",
       "OZVBlZEg7QBPr0bL8T9FU3CC4XKu48Vp8SU2MYxlz5pWWSOeaoJMt0430Mz3PWQTRg+HkYioj+3B\n",
       "/QUPmDTD+EBTruHy1/6dby8zIGPV+0ihZNC6OBy3q+WuPrOuelY/8ussulXXJf/dNBfmRrCSHzwc\n",
       "1W0LjaUHyNRS5poERJZudA30PKUdcRsshQQA6Tc0ptTpwOTRxOZD+OLP6urrpTPAjJGPAJwGETty\n",
       "Y3E2PT3uaXVhWueymyxOHTPbIunYbS7C+4wXZj4fBfwJxXYOPeYrXb1O8RdV1eaz05H6M7aQY8kg\n",
       "gDYHG1fELQqZwNR2Opop9dyQenBq+xVARoKYlMaGvDM+4FE0OaFwBA/oMqpXTC98dKcKSWAaqM9V\n",
       "88b9i4OZ8oR+lBCFnJ4ORPIq6+plKrOE82QBgpRPIapQtCZr8qTlYnjV1SUH4hU14SbFuU7WlQXD\n",
       "aP1M/RytyTrgxaGRP8FuJAJxKj0i+wpwsBaKYv8QnKr1AQicqqz7eKoPJgLd//naPCFdaUw4Z2gc\n",
       "ylinn8hdq+U136xGSuDobBKsFB0XZWFg8Nc3oo+r1Z9T3LUgQR02sLo5TkYTEac4MgRDC+20WoK3\n",
       "v/TieqEpONI9Rms2kwHkPKuylq1j5oDo4Hthbr6N4fXixu3ikaj+nb2VwelqbLxMkJ4yKLypmd65\n",
       "dhy6VddTsV3LWldUqKqGv3OSozbY85zeP6ZpQ4p5/emuH041MeCelZ1/qSB7ONZ1sbzy3PE1Re47\n",
       "cdV691HJbSck50U4fWkx23tc3V5YjZ89+vzSrcgcEoN3ZQYrxmj/WFj6kEqQItmJj4rvkOD1evFT\n",
       "0DOQk3iRF2aTMFwcM87GrDJK4x5czDMciSUnWC6TPSQS2x/fT86hGe7/oX1wq/2uac1COShoIez7\n",
       "HVykQqvs/qpddJ/IAgVOc8hnR7o6k4goyZ/YGNk0BlTQy8bBnRB+sb96H43k5z3057tbhqZeHyft\n",
       "DTgBsC6cEGCs2HjIUkhC4r/dg8lDdK0x6pm9yYDHkFrga59LDAJOzePSZUHleE3aKGHd3whGTi3Q\n",
       "stncAAAC6wGfC2pDfwhn0t34JAB/SC+qbGDsywTaY6p+EvBTAB2T5eTurfBhfuW7RYM6flN3uZDl\n",
       "JNDKh8Lhhn6keaXiZGYXIl1uE+brxHL7upfqjQ40igFhTCgET/NjEwh/Fs6ZAnFOvuTknhMuyd2o\n",
       "LA8BfymYqX6DR1BKT2hmlGaMbI0AOzffw7tw1CGO67WkO0QEomV/xsBBNWxTsqNbcfkFB4oSpu48\n",
       "g/gq4Nz/bX4K7hK5OJIcqAPEoOXC3ny3RkkNwoQpIjVMQpLEwH9RyXt/+4iCnfCSYyMFiD/p6SPn\n",
       "S1TAQZ3YmB975YHkZ5ijtAtK6JHowil/MoGxvTTYWCQd81sZEof0T4+p0WsJVhPFZVDdW3vHk1Yp\n",
       "QpqN5LtOQjE2jF1/a1LwC7pQJW7m2PqaG4DgxVHTQuwtaju+iYhJ5jQeKgEm4L+sQJeAZyzaBKIj\n",
       "yLUUUQdA76Dyyb7e3Wfr5nZ0k77Ltn7qT+Qy300n2hUatW4WM4MtTdC/nGRgE5OhDgGMwe08yVfE\n",
       "jPhDEYxEi2pIByLSmXAlU79AdH1QsMdxVJFIcYQ+OTfs1R15oPQ+Mhm8EXZoXbVr1s8s/KqyHElW\n",
       "wcYutwsphzXhuFH3OlWkJGLfL5W8n9RzjxU1EelSkcouZnz6tQKQMcxEo/0selY89EAslwdBUztY\n",
       "YSkUGaendcF3uG7C6h5vmKOUDq7v3GioeAJDmtS6urXtAWL8zkubkTWIDqlCClLx1/Hj/xGtUFwq\n",
       "guhYT/PR7VDLUC3y0aIbIi/ajnQENTXr2t038dNBgYPsdeity2bEHyftK7tpxzH2mLAVYBfUAwMJ\n",
       "MIaKNts5MAYG446KRDW/XrAk1FTHb7JlPLyyL3NSwO/IHFAP5vX6O3O4CSR9G2oBpa5Wud3LQdxC\n",
       "zED1cITgP0oSDI7QNqBA/vD6QI5ZBWA2ozcsRPvyBAoaM47LuxlcAXFsDRsv496sRvFBbLpZbZaz\n",
       "+wN/xT+atIySLrxM/QAAAs5Bmw5JqEFsmUwUTDf//qeIbfPKqSqgA9K+oEPI7W0ixBQUBfA7Bn7s\n",
       "dr29XAL8xO5yTbebejkWqg7dLgSbaLUSYnL/0m0o0yoKjo1xUgZMJl8OhN51zbOQcDvrJ1zffKFb\n",
       "KJGRb1wfXmTGibM20YDIrMg1ctg45BS16fYhbWpvKbW9pYzNNAtLLjIWxwg5aUn8SCiAbzQFhxns\n",
       "+el28vo8tR0h8GmL+dZmWBvRYL/WRlWHOpDjHD8vlWm4K4MaEC5pimYc1n/W/g8Hoprl2KJz+inf\n",
       "tbRJpFPOxd/cD+itOpUCPtT+wRgR7+P1YYxJD1jt7d1CNJKhKb013vSV1utCXHBUPX72EscZJu/w\n",
       "Og13z5F4cbBPF8CL4vSKjpvj/PEolfqpS9/u2bylXVI+Bh4aDKc0/zWxtYq2Dyar97jF6CV3nDR2\n",
       "JsGM97cmcT9MeUk5Pl7wSP7FPq7/btJmp1igSbViYvT6pOWsdYHI67SLYGqN3d4uHgkc64TCeChV\n",
       "BTMn3bY2hn9Hi27kEKIAbsoQJ/ENAj1KeeGSRRGVM3aodFCUCpF4Ip52g6J3gXNm1mBpBGkSRkc5\n",
       "yOpcgI49+zTwc666x7elxEQ0RtImxACVqPEMnPjPPa+eAleOU8mf/3MaUe7ojTO3s8VYYtRD1qcq\n",
       "j8pqYy0pnsVH/KfoWdDxa7EbGbhd3xRlEKk6iPecGXp4F0NU6QESGRsvICHCtVBSIOuoYIlVVAxl\n",
       "XBP9A+Og/1RDDwU3OBufxLfYkC3oK1rFY4WeHjSldPq7l/a09Eakv4URCq4PcbZguEUCmY6Yy6vO\n",
       "CxwCBL7c8yxLBiRoa4kWXelkvBS5ZOrcJe/vQbFlk6bY+Um01Rb6eBQbWcr7kse61ieQdBXJYser\n",
       "DdiZ5x1p9dNjIuFuTw2JPsJXgvCVgZhl4HMdpWyu8IsvaDkrkbIOnDBYa8nh2aELi7xhAAACfQGf\n",
       "LWpDfwWa1u0210ACdawzTtfRfeX2nmO+CrXCxhzdWG8HeauipFtgcAawnHORDoC2hmXNFwVnrUjz\n",
       "S8TYhKnnZtwon2RxDUPiiiZelMS3i/dbItx/BvbFC4hxhfResc8zn1gplT+PFSqKcBgHS9iX6I12\n",
       "BK1GvR2Jc7ZPR83CCo78a7HQ8vc1PpNuAgZqUGPhjrutLHgMlJMoMwQ6eKSNlhZMrXaILlKa7nKI\n",
       "rmQG+iqJspsYKGU0fMpO5mBKd86wl2zBD/JsBlF3SaL6vmglBl3f0rybWU9NoT3P/6xYKOt3gucL\n",
       "OLTEbI2nNvBtRp81t3r220tUBIYW7oryADBHXWcC0e/O0TzIs9CC4B0YA8bQ1VW1yzpNx3knVQch\n",
       "JUoEAh52Ev931hfLcQtVnhmxbIu1IYtqUsAZ8XLrie3k7l1PFHbwLcN/GsH+zCATnSabVlRevzHK\n",
       "k1CDM6xp9sFafMJ2E+HT3Rzhbravoxmt8UbmpHugWWaVNuNTtAnIlkaKIAhdB3vlweSDO8Uan1XG\n",
       "52JWkilF2JKV99JdUinml12W2v98TiSLS1hBebCukoKu6gkSCgAeacGgbraUNeoAZVxVCShhAXX7\n",
       "ZZ+4xpuLWN6fWsR1im87ipr3E/ZVXjAZKpn+q9GzQ7hqbDAILmdmxO/pHuy0DwtrOpbZpzZCaRdq\n",
       "KEcnV95I746IU6A95YnbkvAuSb9Xo2N16B1OtF8ls/WYtr2sbP4SB8VIR/IGUjhQDyYyNduOG8oV\n",
       "TkECIc/RQG8dPKAwYr+bBrEBLmvwPHU7a6Q/ojn73Zi6fW4FeAViny0IIX1EcEyHp/CEEx/AHwZt\n",
       "8U6F3yQw9mEAAAPibW9vdgAAAGxtdmhkAAAAAAAAAAAAAAAAAAAD6AAABdwAAQAAAQAAAAAAAAAA\n",
       "AAAAAAEAAAAAAAAAAAAAAAAAAAABAAAAAAAAAAAAAAAAAABAAAAAAAAAAAAAAAAAAAAAAAAAAAAA\n",
       "AAAAAAAAAAAAAgAAAwx0cmFrAAAAXHRraGQAAAADAAAAAAAAAAAAAAABAAAAAAAABdwAAAAAAAAA\n",
       "AAAAAAAAAAAAAAEAAAAAAAAAAAAAAAAAAAABAAAAAAAAAAAAAAAAAABAAAAAAkAAAAEgAAAAAAAk\n",
       "ZWR0cwAAABxlbHN0AAAAAAAAAAEAAAXcAAAIAAABAAAAAAKEbWRpYQAAACBtZGhkAAAAAAAAAAAA\n",
       "AAAAAAAoAAAAPABVxAAAAAAALWhkbHIAAAAAAAAAAHZpZGUAAAAAAAAAAAAAAABWaWRlb0hhbmRs\n",
       "ZXIAAAACL21pbmYAAAAUdm1oZAAAAAEAAAAAAAAAAAAAACRkaW5mAAAAHGRyZWYAAAAAAAAAAQAA\n",
       "AAx1cmwgAAAAAQAAAe9zdGJsAAAAs3N0c2QAAAAAAAAAAQAAAKNhdmMxAAAAAAAAAAEAAAAAAAAA\n",
       "AAAAAAAAAAAAAkABIABIAAAASAAAAAAAAAABAAAAAAAAAAAAAAAAAAAAAAAAAAAAAAAAAAAAAAAA\n",
       "AAAAGP//AAAAMWF2Y0MBZAAV/+EAGGdkABWs2UCQJaEAAAMAAQAAAwAUDxYtlgEABmjr48siwAAA\n",
       "ABx1dWlka2hA8l8kT8W6OaUbzwMj8wAAAAAAAAAYc3R0cwAAAAAAAAABAAAADwAABAAAAAAUc3Rz\n",
       "cwAAAAAAAAABAAAAAQAAAIhjdHRzAAAAAAAAAA8AAAABAAAIAAAAAAEAAAwAAAAAAQAABAAAAAAB\n",
       "AAAMAAAAAAEAAAQAAAAAAQAACAAAAAABAAAQAAAAAAEAAAgAAAAAAQAAAAAAAAABAAAUAAAAAAEA\n",
       "AAgAAAAAAQAAAAAAAAABAAAEAAAAAAEAAAwAAAAAAQAABAAAAAAcc3RzYwAAAAAAAAABAAAAAQAA\n",
       "AA8AAAABAAAAUHN0c3oAAAAAAAAAAAAAAA8AACj0AAASJwAAEx8AAA97AAAJoAAAEckAAAtmAAAG\n",
       "vAAABeQAAAyFAAAG4gAAB6IAAALvAAAC0gAAAoEAAAAUc3RjbwAAAAAAAAABAAAALAAAAGJ1ZHRh\n",
       "AAAAWm1ldGEAAAAAAAAAIWhkbHIAAAAAAAAAAG1kaXJhcHBsAAAAAAAAAAAAAAAALWlsc3QAAAAl\n",
       "qXRvbwAAAB1kYXRhAAAAAQAAAABMYXZmNTYuNDAuMTAx\n",
       "\">\n",
       "  Your browser does not support the video tag.\n",
       "</video>"
      ],
      "text/plain": [
       "<IPython.core.display.HTML object>"
      ]
     },
     "execution_count": 39,
     "metadata": {},
     "output_type": "execute_result"
    }
   ],
   "source": [
    "HTML(anim.to_html5_video())"
   ]
  },
  {
   "cell_type": "markdown",
   "metadata": {},
   "source": [
    "This video shows the changes in the fitness of the model as we add new training data. In each frame, the model is trained using all of the data to the left of the blue bar. The black line is the TD-DFT result and the red line in the ML prediction. Notice how the model first starts to accurately predict the stopping power in low-force region and then accurately models the high force regions. After we gather about half of the training data, our model predictions no longer fluctuate with adding more data. "
   ]
  },
  {
   "cell_type": "code",
   "execution_count": 40,
   "metadata": {
    "collapsed": true
   },
   "outputs": [],
   "source": [
    "anim.save(os.path.join('figures', 'training-animation.mp4'), dpi=330, writer='ffmpeg')"
   ]
  },
  {
   "cell_type": "code",
   "execution_count": 41,
   "metadata": {
    "collapsed": true
   },
   "outputs": [],
   "source": [
    "dfk.cleanup()"
   ]
  },
  {
   "cell_type": "code",
   "execution_count": 42,
   "metadata": {
    "collapsed": true
   },
   "outputs": [],
   "source": []
  }
 ],
 "metadata": {
  "kernelspec": {
   "display_name": "Python 3",
   "language": "python",
   "name": "python3"
  },
  "language_info": {
   "codemirror_mode": {
    "name": "ipython",
    "version": 3
   },
   "file_extension": ".py",
   "mimetype": "text/x-python",
   "name": "python",
   "nbconvert_exporter": "python",
   "pygments_lexer": "ipython3",
   "version": "3.6.4"
  }
 },
 "nbformat": 4,
 "nbformat_minor": 2
}
