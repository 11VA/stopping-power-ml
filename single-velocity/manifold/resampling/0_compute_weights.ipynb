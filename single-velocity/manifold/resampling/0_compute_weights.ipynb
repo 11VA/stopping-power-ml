{
 "cells": [
  {
   "cell_type": "markdown",
   "metadata": {},
   "source": [
    "# Explore Re-weighting Schemes\n",
    "Our TD-DFT data is heavily biased. We only have a small amount of it, and it is collected along fixed vectors in the search space. As a result, our model is biased. In these notebooks, we explore whether we can re-weight the training data according to this bias in order to make a less-biased model.\n",
    "\n",
    "For this notebook, our goal is to implement a few strategies for re-weighting the data and will test the weightings in a different notebook"
   ]
  },
  {
   "cell_type": "code",
   "execution_count": 1,
   "metadata": {},
   "outputs": [],
   "source": [
    "%matplotlib inline\n",
    "from matplotlib import pyplot as plt\n",
    "from sklearn.neighbors import KernelDensity, NearestNeighbors\n",
    "import pickle as pkl\n",
    "import pandas as pd\n",
    "import numpy as np\n",
    "import gzip\n",
    "import os"
   ]
  },
  {
   "cell_type": "markdown",
   "metadata": {},
   "source": [
    "## Load in the Target Space and Training Data\n",
    "The sample space produced in the manifold task can be used to describe out search space"
   ]
  },
  {
   "cell_type": "code",
   "execution_count": 2,
   "metadata": {},
   "outputs": [
    {
     "name": "stdout",
     "output_type": "stream",
     "text": [
      "Imported a target space of 16384 entries\n"
     ]
    }
   ],
   "source": [
    "target_space = pd.read_pickle(os.path.join('..', 'sampled_space.pkl.gz'))\n",
    "print('Imported a target space of {} entries'.format(len(target_space)))"
   ]
  },
  {
   "cell_type": "code",
   "execution_count": 3,
   "metadata": {},
   "outputs": [
    {
     "name": "stdout",
     "output_type": "stream",
     "text": [
      "Imported a training set of 9379 entries\n"
     ]
    }
   ],
   "source": [
    "train_data = pd.read_pickle(os.path.join('..', '..', 'data', 'random_data.pkl.gz')).query('not initial')\n",
    "print('Imported a training set of {} entries'.format(len(train_data)))"
   ]
  },
  {
   "cell_type": "code",
   "execution_count": 4,
   "metadata": {},
   "outputs": [],
   "source": [
    "with open(os.path.join('..', 'manifold_features.pkl'), 'rb') as fp:\n",
    "    manifold_features = pkl.load(fp)"
   ]
  },
  {
   "cell_type": "code",
   "execution_count": 5,
   "metadata": {},
   "outputs": [],
   "source": [
    "with gzip.open(os.path.join('..', 'manifold.pkl.gz')) as fp:\n",
    "    manifold = pkl.load(fp)"
   ]
  },
  {
   "cell_type": "markdown",
   "metadata": {},
   "source": [
    "## Reweight Based on Sample Density Estimates\n",
    "We can use Kernel Density Measurements to develop a probability distribution of the sampled and training data. Then, the optimal weight for the training data is the ratio between the new probability distribution at that point"
   ]
  },
  {
   "cell_type": "code",
   "execution_count": 6,
   "metadata": {},
   "outputs": [],
   "source": [
    "def get_average_nn_dist(dataset, n=10):\n",
    "    \"\"\"Get the average nearest neighbor distance for a dataset\n",
    "    \n",
    "    Args:\n",
    "        dataset (pd.DataFrame): Dataset in question\n",
    "    Returns:\n",
    "        (float) The average NN distance\n",
    "    \"\"\"\n",
    "    return NearestNeighbors(n_neighbors=2).fit(dataset).kneighbors(dataset)[0].max(axis=1).mean()"
   ]
  },
  {
   "cell_type": "markdown",
   "metadata": {},
   "source": [
    "Train the kernel density estimator for the training set and target space. Use the average NN distance as the bandwidth for the kernel"
   ]
  },
  {
   "cell_type": "code",
   "execution_count": 7,
   "metadata": {},
   "outputs": [],
   "source": [
    "train_kde = KernelDensity(bandwidth=get_average_nn_dist(train_data[manifold_features]) * 2).fit(train_data[manifold_features])"
   ]
  },
  {
   "cell_type": "code",
   "execution_count": 8,
   "metadata": {},
   "outputs": [],
   "source": [
    "target_kde = KernelDensity(bandwidth=get_average_nn_dist(target_space[manifold_features]) * 2).fit(target_space[manifold_features])"
   ]
  },
  {
   "cell_type": "markdown",
   "metadata": {},
   "source": [
    "Score each entry in the training dataset with both distributions"
   ]
  },
  {
   "cell_type": "code",
   "execution_count": 9,
   "metadata": {},
   "outputs": [
    {
     "name": "stdout",
     "output_type": "stream",
     "text": [
      "CPU times: user 4.53 s, sys: 19.6 ms, total: 4.54 s\n",
      "Wall time: 4.52 s\n"
     ]
    }
   ],
   "source": [
    "%%time\n",
    "train_scores = train_kde.score_samples(train_data[manifold_features])"
   ]
  },
  {
   "cell_type": "code",
   "execution_count": 10,
   "metadata": {},
   "outputs": [
    {
     "name": "stdout",
     "output_type": "stream",
     "text": [
      "CPU times: user 14.2 s, sys: 109 ms, total: 14.3 s\n",
      "Wall time: 14.1 s\n"
     ]
    }
   ],
   "source": [
    "%%time\n",
    "target_scores = target_kde.score_samples(train_data[manifold_features])"
   ]
  },
  {
   "cell_type": "markdown",
   "metadata": {},
   "source": [
    "The desired weight is $Target(X)/Train(X)$. The score samples use the log values. So, the weight is equal to $e^{log(Target) - log(Train)}$"
   ]
  },
  {
   "cell_type": "code",
   "execution_count": 11,
   "metadata": {},
   "outputs": [],
   "source": [
    "train_data['kde_weight'] = np.exp(target_scores - train_scores)"
   ]
  },
  {
   "cell_type": "code",
   "execution_count": 12,
   "metadata": {},
   "outputs": [
    {
     "data": {
      "image/png": "[encoded data removed]",
      "text/plain": [
       "<matplotlib.figure.Figure at 0x7ff91e7a3080>"
      ]
     },
     "metadata": {
      "needs_background": "light"
     },
     "output_type": "display_data"
    }
   ],
   "source": [
    "fig, ax = plt.subplots()\n",
    "\n",
    "ax.hist(np.log10(train_data['kde_weight']), bins=64)\n",
    "\n",
    "ax.set_xlabel('Log(Weight)')\n",
    "ax.set_ylabel('Frequency')\n",
    "\n",
    "fig.set_size_inches(3.5, 2)\n",
    "fig.tight_layout()"
   ]
  },
  {
   "cell_type": "markdown",
   "metadata": {},
   "source": [
    "*Note*: Setting the kernel width was an iterative process. I adjusted it until I had somehwat smooth points on the plot below. The thought was I did not want the Kernel to be too small"
   ]
  },
  {
   "cell_type": "markdown",
   "metadata": {},
   "source": [
    "### Analyze Weights\n",
    "What kind of entries are we weighing higher?"
   ]
  },
  {
   "cell_type": "code",
   "execution_count": 15,
   "metadata": {},
   "outputs": [
    {
     "data": {
      "image/png": "[encoded data removed]",
      "text/plain": [
       "<matplotlib.figure.Figure at 0x7ff91e40bc18>"
      ]
     },
     "metadata": {
      "needs_background": "light"
     },
     "output_type": "display_data"
    }
   ],
   "source": [
    "fig, ax = plt.subplots()\n",
    "\n",
    "line = ax.scatter(train_data['displacement'], train_data['force'], c=np.log10(train_data['kde_weight']), s=5)\n",
    "\n",
    "ax.set_yscale('symlog')\n",
    "\n",
    "ax.set_ylabel('Force ($E_H / a_B$)')\n",
    "ax.set_xlabel('Displacement ($E_H$)')\n",
    "\n",
    "cax = fig.colorbar(line)\n",
    "cax.set_label('Log(Weight)')\n",
    "fig.set_size_inches(3.5, 2)\n",
    "fig.savefig(os.path.join('figures', 'random-traj-kde-weights.png'), dpi=320)"
   ]
  },
  {
   "cell_type": "markdown",
   "metadata": {},
   "source": [
    "*Finding*: We weight the channel portions higher than the impacts"
   ]
  },
  {
   "cell_type": "markdown",
   "metadata": {},
   "source": [
    "## Save the Weights\n",
    "Our next notebook will be to use them to train a model"
   ]
  },
  {
   "cell_type": "code",
   "execution_count": 14,
   "metadata": {},
   "outputs": [],
   "source": [
    "train_data.to_pickle(os.path.join('data', 'random_data.pkl.gz'))"
   ]
  },
  {
   "cell_type": "code",
   "execution_count": null,
   "metadata": {},
   "outputs": [],
   "source": []
  }
 ],
 "metadata": {
  "kernelspec": {
   "display_name": "Python 3",
   "language": "python",
   "name": "python3"
  },
  "language_info": {
   "codemirror_mode": {
    "name": "ipython",
    "version": 3
   },
   "file_extension": ".py",
   "mimetype": "text/x-python",
   "name": "python",
   "nbconvert_exporter": "python",
   "pygments_lexer": "ipython3",
   "version": "3.6.6"
  }
 },
 "nbformat": 4,
 "nbformat_minor": 2
}
