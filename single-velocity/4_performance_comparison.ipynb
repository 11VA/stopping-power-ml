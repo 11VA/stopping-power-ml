{
 "cells": [
  {
   "cell_type": "markdown",
   "metadata": {},
   "source": [
    "# Evaluate Model Performance\n",
    "We want to compare the speed of the model to that of TD-DFT"
   ]
  },
  {
   "cell_type": "code",
   "execution_count": 1,
   "metadata": {},
   "outputs": [],
   "source": [
    "%matplotlib inline\n",
    "from matplotlib import pyplot as plt\n",
    "from glob import glob\n",
    "import pickle as pkl\n",
    "import pandas as pd\n",
    "import numpy as np\n",
    "import time\n",
    "import os\n",
    "import re"
   ]
  },
  {
   "cell_type": "markdown",
   "metadata": {},
   "source": [
    "Things to change"
   ]
  },
  {
   "cell_type": "code",
   "execution_count": 2,
   "metadata": {},
   "outputs": [],
   "source": [
    "traj_path = os.path.join('..', 'datasets', '256_Al', 'Dv1.0')"
   ]
  },
  {
   "cell_type": "markdown",
   "metadata": {},
   "source": [
    "## Read in Files\n",
    "We need the random trajectory data, and the trajectory computer"
   ]
  },
  {
   "cell_type": "code",
   "execution_count": 3,
   "metadata": {},
   "outputs": [],
   "source": [
    "random_traj = pd.read_pickle(os.path.join('data', 'random_data.pkl.gz'))"
   ]
  },
  {
   "cell_type": "code",
   "execution_count": 4,
   "metadata": {},
   "outputs": [],
   "source": [
    "traj_computer = pkl.load(open('traj_computer.pkl', 'rb'))"
   ]
  },
  {
   "cell_type": "markdown",
   "metadata": {},
   "source": [
    "## Get the performance of TD-DFT\n",
    "Get the time per iteration of TD-DFT for the random trajectory"
   ]
  },
  {
   "cell_type": "code",
   "execution_count": 5,
   "metadata": {},
   "outputs": [
    {
     "name": "stdout",
     "output_type": "stream",
     "text": [
      "Found 6 trajectory files\n"
     ]
    }
   ],
   "source": [
    "random_traj_files = glob(os.path.join(traj_path, 'kp*.out'))\n",
    "print('Found {} trajectory files'.format(len(random_traj_files)))"
   ]
  },
  {
   "cell_type": "markdown",
   "metadata": {},
   "source": [
    "Make a function to get the CPU time per iteration"
   ]
  },
  {
   "cell_type": "code",
   "execution_count": 6,
   "metadata": {},
   "outputs": [],
   "source": [
    "cpu_count_re = re.compile('<mpi_processes count=\"(.*)\"')\n",
    "assert cpu_count_re.findall('<mpi_processes count=\"256\"') == ['256']"
   ]
  },
  {
   "cell_type": "code",
   "execution_count": 7,
   "metadata": {},
   "outputs": [],
   "source": [
    "timing_re = re.compile('max=\"(.*)\"')\n",
    "assert timing_re.findall('max=\"5\"') == [\"5\"]"
   ]
  },
  {
   "cell_type": "code",
   "execution_count": 8,
   "metadata": {},
   "outputs": [],
   "source": [
    "def get_iteration_cpu_times(file):\n",
    "    \"\"\"Get the CPU time per iteration\n",
    "    \n",
    "    Args:\n",
    "        file (str): path to file to be evaluated\n",
    "    Returns:\n",
    "        - ([float]) CPU time per iteration\n",
    "        - (int) number of cpus\"\"\"\n",
    "    \n",
    "    with open(file) as fp:\n",
    "        timings = []\n",
    "        for line in fp:\n",
    "            if \"<mpi_processes\" in line:\n",
    "                cpu_count = int(cpu_count_re.findall(line)[0])\n",
    "            if 'timing name=\"iteration\"' in line:\n",
    "                timings += [float(timing_re.findall(line)[0])]\n",
    "    \n",
    "    return np.multiply(timings, cpu_count), cpu_count"
   ]
  },
  {
   "cell_type": "markdown",
   "metadata": {},
   "source": [
    "Make sure it kind of agrees with the total simulation time, which includes the startup cost"
   ]
  },
  {
   "cell_type": "code",
   "execution_count": 9,
   "metadata": {},
   "outputs": [],
   "source": [
    "timings, cpu_count = get_iteration_cpu_times(os.path.join(traj_path, 'kpgenlong_sd_psd_combo_r17_111_cutoff_50_4.out'))\n",
    "assert abs(timings.sum() / cpu_count - 17334) / 17334 < 0.10"
   ]
  },
  {
   "cell_type": "markdown",
   "metadata": {},
   "source": [
    "Get the timings for all steps"
   ]
  },
  {
   "cell_type": "code",
   "execution_count": 10,
   "metadata": {},
   "outputs": [
    {
     "name": "stdout",
     "output_type": "stream",
     "text": [
      "CPU times: user 2.07 s, sys: 648 ms, total: 2.72 s\n",
      "Wall time: 2.7 s\n"
     ]
    }
   ],
   "source": [
    "%%time\n",
    "timings = np.hstack([get_iteration_cpu_times(f)[0] for f in random_traj_files])"
   ]
  },
  {
   "cell_type": "code",
   "execution_count": 11,
   "metadata": {},
   "outputs": [
    {
     "name": "stdout",
     "output_type": "stream",
     "text": [
      "Mean time: 2.01 CPU-hours\n"
     ]
    }
   ],
   "source": [
    "print('Mean time: {:.2f} CPU-hours'.format(timings.mean() / 3600))"
   ]
  },
  {
   "cell_type": "code",
   "execution_count": 12,
   "metadata": {},
   "outputs": [
    {
     "data": {
      "image/png": "[encoded data removed]",
      "text/plain": [
       "<Figure size 252x144 with 1 Axes>"
      ]
     },
     "metadata": {},
     "output_type": "display_data"
    }
   ],
   "source": [
    "fig, ax = plt.subplots()\n",
    "\n",
    "ax.hist(timings / 3600, bins=np.linspace(1.9, 2.5, 32))\n",
    "\n",
    "ax.set_yscale('log')\n",
    "\n",
    "ax.set_xlabel('CPU-Hour / Iteration')\n",
    "ax.set_ylabel('Frequency')\n",
    "\n",
    "fig.set_size_inches(3.5, 2)"
   ]
  },
  {
   "cell_type": "markdown",
   "metadata": {},
   "source": [
    "*Finding*: The iterations reliably take around 2 CPU-hours each"
   ]
  },
  {
   "cell_type": "markdown",
   "metadata": {},
   "source": [
    "### Get the Timing for the Channel\n",
    "The other trajectory for the test"
   ]
  },
  {
   "cell_type": "code",
   "execution_count": 13,
   "metadata": {},
   "outputs": [
    {
     "name": "stdout",
     "output_type": "stream",
     "text": [
      "Found 6 trajectory files\n"
     ]
    }
   ],
   "source": [
    "channel_files = glob(os.path.join(traj_path, '..', '..', 'Al_256_channel', 'kp*.out'))\n",
    "print('Found {} trajectory files'.format(len(random_traj_files)))"
   ]
  },
  {
   "cell_type": "code",
   "execution_count": 14,
   "metadata": {},
   "outputs": [
    {
     "name": "stdout",
     "output_type": "stream",
     "text": [
      "CPU times: user 792 ms, sys: 328 ms, total: 1.12 s\n",
      "Wall time: 1.12 s\n"
     ]
    }
   ],
   "source": [
    "%%time\n",
    "timings = np.hstack([get_iteration_cpu_times(f)[0] for f in channel_files])"
   ]
  },
  {
   "cell_type": "code",
   "execution_count": 15,
   "metadata": {},
   "outputs": [
    {
     "name": "stdout",
     "output_type": "stream",
     "text": [
      "Total hours: 4028.67 CPU-hours\n"
     ]
    }
   ],
   "source": [
    "print('Total hours: {:.2f} CPU-hours'.format(np.sum(timings) / 3600))"
   ]
  },
  {
   "cell_type": "markdown",
   "metadata": {},
   "source": [
    "## Time the ML Model\n",
    "Measure over the same trajectory"
   ]
  },
  {
   "cell_type": "code",
   "execution_count": 16,
   "metadata": {},
   "outputs": [
    {
     "name": "stdout",
     "output_type": "stream",
     "text": [
      "CPU times: user 1min 38s, sys: 16 ms, total: 1min 38s\n",
      "Wall time: 1min 38s\n"
     ]
    }
   ],
   "source": [
    "%%time\n",
    "ml_timings = []\n",
    "for p, v in random_traj[['position', 'velocity']].values:\n",
    "    start = time.perf_counter()\n",
    "    X = traj_computer.featurizers.featurize(p, v)\n",
    "    f = traj_computer.model.predict([X])\n",
    "    stop = time.perf_counter()\n",
    "    ml_timings.append(stop - start)"
   ]
  },
  {
   "cell_type": "markdown",
   "metadata": {},
   "source": [
    "Compute the average run time"
   ]
  },
  {
   "cell_type": "code",
   "execution_count": 17,
   "metadata": {},
   "outputs": [
    {
     "name": "stdout",
     "output_type": "stream",
     "text": [
      "Average ML time: 1.01e-02 CPU-s, 2.801e-06 CPU-hr\n"
     ]
    }
   ],
   "source": [
    "print('Average ML time: {:.2e} CPU-s, {:.3e} CPU-hr'.format(np.mean(ml_timings), np.mean(ml_timings) / 3600))"
   ]
  },
  {
   "cell_type": "code",
   "execution_count": 18,
   "metadata": {},
   "outputs": [
    {
     "data": {
      "image/png": "[encoded data removed]",
      "text/plain": [
       "<Figure size 252x144 with 1 Axes>"
      ]
     },
     "metadata": {},
     "output_type": "display_data"
    }
   ],
   "source": [
    "fig, ax = plt.subplots()\n",
    "\n",
    "ax.hist(ml_timings, bins=np.linspace(0.009, 0.015, 32))\n",
    "\n",
    "ax.set_yscale('log')\n",
    "\n",
    "ax.set_xlabel('CPU-s / Iteration')\n",
    "ax.set_ylabel('Frequency')\n",
    "\n",
    "fig.set_size_inches(3.5, 2)"
   ]
  },
  {
   "cell_type": "markdown",
   "metadata": {},
   "source": [
    "*Finding*: ~0.01 CPU-s per iterations is a good estimate (and this is without pipelining)"
   ]
  },
  {
   "cell_type": "code",
   "execution_count": null,
   "metadata": {},
   "outputs": [],
   "source": []
  }
 ],
 "metadata": {
  "kernelspec": {
   "display_name": "Python 3",
   "language": "python",
   "name": "python3"
  },
  "language_info": {
   "codemirror_mode": {
    "name": "ipython",
    "version": 3
   },
   "file_extension": ".py",
   "mimetype": "text/x-python",
   "name": "python",
   "nbconvert_exporter": "python",
   "pygments_lexer": "ipython3",
   "version": "3.6.4"
  }
 },
 "nbformat": 4,
 "nbformat_minor": 2
}
