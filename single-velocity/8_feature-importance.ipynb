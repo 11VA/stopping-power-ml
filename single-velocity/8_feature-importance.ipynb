{
 "cells": [
  {
   "cell_type": "markdown",
   "id": "1eaf1a7e",
   "metadata": {},
   "source": [
    "# Assess Feature Importance\n",
    "See what the most-important features in our model are"
   ]
  },
  {
   "cell_type": "code",
   "execution_count": 1,
   "id": "3e3f6dfc",
   "metadata": {},
   "outputs": [],
   "source": [
    "from matplotlib import pyplot as plt\n",
    "import pickle as pkl\n",
    "import pandas as pd\n",
    "import numpy as np"
   ]
  },
  {
   "cell_type": "markdown",
   "id": "b40f4409",
   "metadata": {},
   "source": [
    "## Load in the Model, Featurizer, and Data\n",
    "Get the model from disk, which we'll use to get the selected features, and the featurizer which we'll use to get feature names.\n",
    "\n",
    "We also need the data to assess the influence of the figures on the "
   ]
  },
  {
   "cell_type": "code",
   "execution_count": 2,
   "id": "f9375cb8",
   "metadata": {},
   "outputs": [],
   "source": [
    "with open('best_model.pkl', 'rb') as fp:\n",
    "    model = pkl.load(fp).best_estimator_  # Go ahead and get the best model out of the GridSearchCV"
   ]
  },
  {
   "cell_type": "code",
   "execution_count": 3,
   "id": "6ee6d483",
   "metadata": {},
   "outputs": [],
   "source": [
    "with open('../featurizers.pkl', 'rb') as fp:\n",
    "    featurizer = pkl.load(fp)"
   ]
  },
  {
   "cell_type": "code",
   "execution_count": 4,
   "id": "f8d3a377",
   "metadata": {},
   "outputs": [],
   "source": [
    "data = pd.read_pickle('data/random_data.pkl.gz').query('not initial')"
   ]
  },
  {
   "cell_type": "markdown",
   "id": "340b6e53",
   "metadata": {},
   "source": [
    "## Get the Names of the Selected Features\n",
    "There are two processes we need to pass the feature names through: going from base features to polynomial expansion, and from polynomial expansion to LASSO-selected features"
   ]
  },
  {
   "cell_type": "code",
   "execution_count": 5,
   "id": "e0a851fb",
   "metadata": {},
   "outputs": [
    {
     "name": "stdout",
     "output_type": "stream",
     "text": [
      "Starting with 18 initial features: charge density at t=-4.00, charge density at t=-3.00, charge density at t=-2.00, ...\n"
     ]
    }
   ],
   "source": [
    "features = featurizer.feature_labels()\n",
    "print(f'Starting with {len(features)} initial features: {\", \".join(features[:3])}, ...')"
   ]
  },
  {
   "cell_type": "markdown",
   "id": "c2b589db",
   "metadata": {},
   "source": [
    "Get the polynomial features"
   ]
  },
  {
   "cell_type": "code",
   "execution_count": 6,
   "id": "4951eb68",
   "metadata": {},
   "outputs": [],
   "source": [
    "expander = model.steps[0][1]"
   ]
  },
  {
   "cell_type": "code",
   "execution_count": 7,
   "id": "1780a01f",
   "metadata": {},
   "outputs": [
    {
     "name": "stdout",
     "output_type": "stream",
     "text": [
      "Got a set of 189 polynomial features\n"
     ]
    }
   ],
   "source": [
    "expanded_features = expander.get_feature_names(features)\n",
    "print(f'Got a set of {len(expanded_features)} polynomial features')"
   ]
  },
  {
   "cell_type": "markdown",
   "id": "3b2aa8e0",
   "metadata": {},
   "source": [
    "Get the ones that were selected"
   ]
  },
  {
   "cell_type": "code",
   "execution_count": 8,
   "id": "882f6b8c",
   "metadata": {},
   "outputs": [],
   "source": [
    "selector = model.steps[1][1]\n",
    "selected_features = np.array(expanded_features)[selector.get_support()]"
   ]
  },
  {
   "cell_type": "code",
   "execution_count": 9,
   "id": "5c1c5056",
   "metadata": {},
   "outputs": [
    {
     "name": "stdout",
     "output_type": "stream",
     "text": [
      "Selected down to 25 features by first LASSO pass\n"
     ]
    }
   ],
   "source": [
    "print(f'Selected down to {len(selected_features)} features by first LASSO pass')"
   ]
  },
  {
   "cell_type": "markdown",
   "id": "6fd82f4a",
   "metadata": {},
   "source": [
    "Get the ones that are most important from the bayesian model"
   ]
  },
  {
   "cell_type": "code",
   "execution_count": 10,
   "id": "6ada9768",
   "metadata": {},
   "outputs": [],
   "source": [
    "lr = model.steps[-1][1]"
   ]
  },
  {
   "cell_type": "code",
   "execution_count": 11,
   "id": "f33b0c89",
   "metadata": {},
   "outputs": [],
   "source": [
    "feature_by_coefs = pd.DataFrame({'name': selected_features, 'coef': lr.coef_})"
   ]
  },
  {
   "cell_type": "code",
   "execution_count": 12,
   "id": "64c758bb",
   "metadata": {},
   "outputs": [],
   "source": [
    "feature_by_coefs['coef_mag'] = feature_by_coefs['coef'].abs()"
   ]
  },
  {
   "cell_type": "code",
   "execution_count": 13,
   "id": "551abe8f",
   "metadata": {},
   "outputs": [
    {
     "data": {
      "text/html": [
       "<div>\n",
       "<style scoped>\n",
       "    .dataframe tbody tr th:only-of-type {\n",
       "        vertical-align: middle;\n",
       "    }\n",
       "\n",
       "    .dataframe tbody tr th {\n",
       "        vertical-align: top;\n",
       "    }\n",
       "\n",
       "    .dataframe thead th {\n",
       "        text-align: right;\n",
       "    }\n",
       "</style>\n",
       "<table border=\"1\" class=\"dataframe\">\n",
       "  <thead>\n",
       "    <tr style=\"text-align: right;\">\n",
       "      <th></th>\n",
       "      <th>name</th>\n",
       "      <th>coef</th>\n",
       "      <th>coef_mag</th>\n",
       "    </tr>\n",
       "  </thead>\n",
       "  <tbody>\n",
       "    <tr>\n",
       "      <th>17</th>\n",
       "      <td>charge density at t=0.00 AGNI projected eta=1....</td>\n",
       "      <td>3.265077</td>\n",
       "      <td>3.265077</td>\n",
       "    </tr>\n",
       "    <tr>\n",
       "      <th>20</th>\n",
       "      <td>charge density at t=0.00 AGNI projected eta=1....</td>\n",
       "      <td>1.486059</td>\n",
       "      <td>1.486059</td>\n",
       "    </tr>\n",
       "    <tr>\n",
       "      <th>12</th>\n",
       "      <td>charge density at t=-2.00 AGNI projected eta=1...</td>\n",
       "      <td>-0.954772</td>\n",
       "      <td>0.954772</td>\n",
       "    </tr>\n",
       "    <tr>\n",
       "      <th>3</th>\n",
       "      <td>AGNI projected eta=1.23e+00</td>\n",
       "      <td>0.304534</td>\n",
       "      <td>0.304534</td>\n",
       "    </tr>\n",
       "    <tr>\n",
       "      <th>19</th>\n",
       "      <td>charge density at t=0.00 AGNI projected eta=2....</td>\n",
       "      <td>-0.253301</td>\n",
       "      <td>0.253301</td>\n",
       "    </tr>\n",
       "    <tr>\n",
       "      <th>4</th>\n",
       "      <td>ion-ion repulsion</td>\n",
       "      <td>0.200313</td>\n",
       "      <td>0.200313</td>\n",
       "    </tr>\n",
       "    <tr>\n",
       "      <th>18</th>\n",
       "      <td>charge density at t=0.00 AGNI projected eta=1....</td>\n",
       "      <td>0.186531</td>\n",
       "      <td>0.186531</td>\n",
       "    </tr>\n",
       "    <tr>\n",
       "      <th>21</th>\n",
       "      <td>charge density at t=0.00 ion-ion repulsion</td>\n",
       "      <td>0.166924</td>\n",
       "      <td>0.166924</td>\n",
       "    </tr>\n",
       "    <tr>\n",
       "      <th>10</th>\n",
       "      <td>charge density at t=-3.00 AGNI projected eta=1...</td>\n",
       "      <td>0.133569</td>\n",
       "      <td>0.133569</td>\n",
       "    </tr>\n",
       "    <tr>\n",
       "      <th>22</th>\n",
       "      <td>charge density at t=0.50 AGNI projected eta=8....</td>\n",
       "      <td>-0.032593</td>\n",
       "      <td>0.032593</td>\n",
       "    </tr>\n",
       "    <tr>\n",
       "      <th>7</th>\n",
       "      <td>charge density at t=-4.00 AGNI projected eta=1...</td>\n",
       "      <td>-0.028067</td>\n",
       "      <td>0.028067</td>\n",
       "    </tr>\n",
       "    <tr>\n",
       "      <th>13</th>\n",
       "      <td>charge density at t=-2.00 ion-ion repulsion</td>\n",
       "      <td>-0.020278</td>\n",
       "      <td>0.020278</td>\n",
       "    </tr>\n",
       "    <tr>\n",
       "      <th>14</th>\n",
       "      <td>charge density at t=-1.00 charge density at t=...</td>\n",
       "      <td>0.019694</td>\n",
       "      <td>0.019694</td>\n",
       "    </tr>\n",
       "    <tr>\n",
       "      <th>16</th>\n",
       "      <td>charge density at t=0.00 charge density at t=0.50</td>\n",
       "      <td>-0.018238</td>\n",
       "      <td>0.018238</td>\n",
       "    </tr>\n",
       "    <tr>\n",
       "      <th>0</th>\n",
       "      <td>charge density at t=0.50</td>\n",
       "      <td>-0.014947</td>\n",
       "      <td>0.014947</td>\n",
       "    </tr>\n",
       "    <tr>\n",
       "      <th>2</th>\n",
       "      <td>charge density at t=2.00</td>\n",
       "      <td>0.014885</td>\n",
       "      <td>0.014885</td>\n",
       "    </tr>\n",
       "    <tr>\n",
       "      <th>8</th>\n",
       "      <td>charge density at t=-3.00 charge density at t=...</td>\n",
       "      <td>-0.009342</td>\n",
       "      <td>0.009342</td>\n",
       "    </tr>\n",
       "    <tr>\n",
       "      <th>1</th>\n",
       "      <td>charge density at t=1.00</td>\n",
       "      <td>0.006274</td>\n",
       "      <td>0.006274</td>\n",
       "    </tr>\n",
       "    <tr>\n",
       "      <th>11</th>\n",
       "      <td>charge density at t=-2.00 charge density at t=...</td>\n",
       "      <td>0.004913</td>\n",
       "      <td>0.004913</td>\n",
       "    </tr>\n",
       "    <tr>\n",
       "      <th>9</th>\n",
       "      <td>charge density at t=-3.00 charge density at t=...</td>\n",
       "      <td>0.003182</td>\n",
       "      <td>0.003182</td>\n",
       "    </tr>\n",
       "    <tr>\n",
       "      <th>23</th>\n",
       "      <td>charge density at t=0.50 ion-ion repulsion</td>\n",
       "      <td>-0.002586</td>\n",
       "      <td>0.002586</td>\n",
       "    </tr>\n",
       "    <tr>\n",
       "      <th>6</th>\n",
       "      <td>charge density at t=-4.00 charge density at t=...</td>\n",
       "      <td>-0.002088</td>\n",
       "      <td>0.002088</td>\n",
       "    </tr>\n",
       "    <tr>\n",
       "      <th>5</th>\n",
       "      <td>charge density at t=-4.00^2</td>\n",
       "      <td>-0.000568</td>\n",
       "      <td>0.000568</td>\n",
       "    </tr>\n",
       "    <tr>\n",
       "      <th>15</th>\n",
       "      <td>charge density at t=-0.50 ion-ion repulsion</td>\n",
       "      <td>0.000557</td>\n",
       "      <td>0.000557</td>\n",
       "    </tr>\n",
       "    <tr>\n",
       "      <th>24</th>\n",
       "      <td>charge density at t=2.00 ion-ion repulsion</td>\n",
       "      <td>0.000019</td>\n",
       "      <td>0.000019</td>\n",
       "    </tr>\n",
       "  </tbody>\n",
       "</table>\n",
       "</div>"
      ],
      "text/plain": [
       "                                                 name      coef  coef_mag\n",
       "17  charge density at t=0.00 AGNI projected eta=1....  3.265077  3.265077\n",
       "20  charge density at t=0.00 AGNI projected eta=1....  1.486059  1.486059\n",
       "12  charge density at t=-2.00 AGNI projected eta=1... -0.954772  0.954772\n",
       "3                         AGNI projected eta=1.23e+00  0.304534  0.304534\n",
       "19  charge density at t=0.00 AGNI projected eta=2.... -0.253301  0.253301\n",
       "4                                   ion-ion repulsion  0.200313  0.200313\n",
       "18  charge density at t=0.00 AGNI projected eta=1....  0.186531  0.186531\n",
       "21         charge density at t=0.00 ion-ion repulsion  0.166924  0.166924\n",
       "10  charge density at t=-3.00 AGNI projected eta=1...  0.133569  0.133569\n",
       "22  charge density at t=0.50 AGNI projected eta=8.... -0.032593  0.032593\n",
       "7   charge density at t=-4.00 AGNI projected eta=1... -0.028067  0.028067\n",
       "13        charge density at t=-2.00 ion-ion repulsion -0.020278  0.020278\n",
       "14  charge density at t=-1.00 charge density at t=...  0.019694  0.019694\n",
       "16  charge density at t=0.00 charge density at t=0.50 -0.018238  0.018238\n",
       "0                            charge density at t=0.50 -0.014947  0.014947\n",
       "2                            charge density at t=2.00  0.014885  0.014885\n",
       "8   charge density at t=-3.00 charge density at t=... -0.009342  0.009342\n",
       "1                            charge density at t=1.00  0.006274  0.006274\n",
       "11  charge density at t=-2.00 charge density at t=...  0.004913  0.004913\n",
       "9   charge density at t=-3.00 charge density at t=...  0.003182  0.003182\n",
       "23         charge density at t=0.50 ion-ion repulsion -0.002586  0.002586\n",
       "6   charge density at t=-4.00 charge density at t=... -0.002088  0.002088\n",
       "5                         charge density at t=-4.00^2 -0.000568  0.000568\n",
       "15        charge density at t=-0.50 ion-ion repulsion  0.000557  0.000557\n",
       "24         charge density at t=2.00 ion-ion repulsion  0.000019  0.000019"
      ]
     },
     "execution_count": 13,
     "metadata": {},
     "output_type": "execute_result"
    }
   ],
   "source": [
    "feature_by_coefs.sort_values('coef_mag', ascending=False)"
   ]
  },
  {
   "cell_type": "markdown",
   "id": "8759a170",
   "metadata": {},
   "source": [
    "**TODO**: Make a plot where we group the importance of charge density features where I group them by their time relative to present. May have to train a separate model where we do not use polynomial features and feature selection. The goal is to verify that importance decreases as you get farther from the present position."
   ]
  },
  {
   "cell_type": "markdown",
   "id": "0730aff3",
   "metadata": {},
   "source": [
    "Coefficients must be normalized to be useful and we trained our model without normalization. Interpreting these directly wouldn't be particularly useful."
   ]
  },
  {
   "cell_type": "code",
   "execution_count": 14,
   "id": "b9a2f5da",
   "metadata": {},
   "outputs": [
    {
     "data": {
      "text/plain": [
       "['charge density at t=0.50',\n",
       " 'charge density at t=1.00',\n",
       " 'charge density at t=2.00',\n",
       " 'AGNI projected eta=1.23e+00',\n",
       " 'ion-ion repulsion',\n",
       " 'charge density at t=-4.00^2',\n",
       " 'charge density at t=-4.00 charge density at t=2.00',\n",
       " 'charge density at t=-4.00 AGNI projected eta=1.23e+00',\n",
       " 'charge density at t=-3.00 charge density at t=-1.00',\n",
       " 'charge density at t=-3.00 charge density at t=2.00',\n",
       " 'charge density at t=-3.00 AGNI projected eta=1.23e+00',\n",
       " 'charge density at t=-2.00 charge density at t=1.00',\n",
       " 'charge density at t=-2.00 AGNI projected eta=1.23e+00',\n",
       " 'charge density at t=-2.00 ion-ion repulsion',\n",
       " 'charge density at t=-1.00 charge density at t=-0.50',\n",
       " 'charge density at t=-0.50 ion-ion repulsion',\n",
       " 'charge density at t=0.00 charge density at t=0.50',\n",
       " 'charge density at t=0.00 AGNI projected eta=1.23e+00',\n",
       " 'charge density at t=0.00 AGNI projected eta=1.88e+00',\n",
       " 'charge density at t=0.00 AGNI projected eta=2.89e+00',\n",
       " 'charge density at t=0.00 AGNI projected eta=1.60e+01',\n",
       " 'charge density at t=0.00 ion-ion repulsion',\n",
       " 'charge density at t=0.50 AGNI projected eta=8.00e-01',\n",
       " 'charge density at t=0.50 ion-ion repulsion',\n",
       " 'charge density at t=2.00 ion-ion repulsion']"
      ]
     },
     "execution_count": 14,
     "metadata": {},
     "output_type": "execute_result"
    }
   ],
   "source": [
    "feature_by_coefs['name'].tolist()"
   ]
  },
  {
   "cell_type": "markdown",
   "id": "f23047a2",
   "metadata": {},
   "source": [
    "Ignoring the coefficients, we see at least a few key categories:\n",
    "1. Ion-ion repulsion. Things that include the Coulomb repulsion\n",
    "2. Charge density ahead. Dealing with the charge density ahead of the projectile\n",
    "3. Charge density behind"
   ]
  },
  {
   "cell_type": "code",
   "execution_count": 15,
   "id": "676adf40",
   "metadata": {},
   "outputs": [],
   "source": [
    "feature_by_coefs['category'] = 'other'"
   ]
  },
  {
   "cell_type": "code",
   "execution_count": 16,
   "id": "e7410878",
   "metadata": {},
   "outputs": [],
   "source": [
    "feature_by_coefs.loc[feature_by_coefs.name.str.contains('AGNI'), 'category'] = 'atomic'"
   ]
  },
  {
   "cell_type": "code",
   "execution_count": 17,
   "id": "036bbbaa",
   "metadata": {},
   "outputs": [],
   "source": [
    "feature_by_coefs.loc[feature_by_coefs.name.str.contains('charge density at t='), 'category'] = 'ahead'"
   ]
  },
  {
   "cell_type": "code",
   "execution_count": 18,
   "id": "1d50e4cb",
   "metadata": {},
   "outputs": [],
   "source": [
    "feature_by_coefs.loc[feature_by_coefs.name.str.contains('t=-'), 'category'] = 'behind'"
   ]
  },
  {
   "cell_type": "code",
   "execution_count": 19,
   "id": "86b6f65b",
   "metadata": {},
   "outputs": [],
   "source": [
    "feature_by_coefs.loc[feature_by_coefs.name.str.contains('ion-ion'), 'category'] = 'coulomb'"
   ]
  },
  {
   "cell_type": "code",
   "execution_count": 20,
   "id": "a62d6e8a",
   "metadata": {},
   "outputs": [
    {
     "data": {
      "text/html": [
       "<div>\n",
       "<style scoped>\n",
       "    .dataframe tbody tr th:only-of-type {\n",
       "        vertical-align: middle;\n",
       "    }\n",
       "\n",
       "    .dataframe tbody tr th {\n",
       "        vertical-align: top;\n",
       "    }\n",
       "\n",
       "    .dataframe thead th {\n",
       "        text-align: right;\n",
       "    }\n",
       "</style>\n",
       "<table border=\"1\" class=\"dataframe\">\n",
       "  <thead>\n",
       "    <tr style=\"text-align: right;\">\n",
       "      <th></th>\n",
       "      <th>name</th>\n",
       "      <th>category</th>\n",
       "    </tr>\n",
       "  </thead>\n",
       "  <tbody>\n",
       "    <tr>\n",
       "      <th>0</th>\n",
       "      <td>charge density at t=0.50</td>\n",
       "      <td>ahead</td>\n",
       "    </tr>\n",
       "    <tr>\n",
       "      <th>1</th>\n",
       "      <td>charge density at t=1.00</td>\n",
       "      <td>ahead</td>\n",
       "    </tr>\n",
       "    <tr>\n",
       "      <th>2</th>\n",
       "      <td>charge density at t=2.00</td>\n",
       "      <td>ahead</td>\n",
       "    </tr>\n",
       "    <tr>\n",
       "      <th>3</th>\n",
       "      <td>AGNI projected eta=1.23e+00</td>\n",
       "      <td>atomic</td>\n",
       "    </tr>\n",
       "    <tr>\n",
       "      <th>4</th>\n",
       "      <td>ion-ion repulsion</td>\n",
       "      <td>coulomb</td>\n",
       "    </tr>\n",
       "    <tr>\n",
       "      <th>5</th>\n",
       "      <td>charge density at t=-4.00^2</td>\n",
       "      <td>behind</td>\n",
       "    </tr>\n",
       "    <tr>\n",
       "      <th>6</th>\n",
       "      <td>charge density at t=-4.00 charge density at t=...</td>\n",
       "      <td>behind</td>\n",
       "    </tr>\n",
       "    <tr>\n",
       "      <th>7</th>\n",
       "      <td>charge density at t=-4.00 AGNI projected eta=1...</td>\n",
       "      <td>behind</td>\n",
       "    </tr>\n",
       "    <tr>\n",
       "      <th>8</th>\n",
       "      <td>charge density at t=-3.00 charge density at t=...</td>\n",
       "      <td>behind</td>\n",
       "    </tr>\n",
       "    <tr>\n",
       "      <th>9</th>\n",
       "      <td>charge density at t=-3.00 charge density at t=...</td>\n",
       "      <td>behind</td>\n",
       "    </tr>\n",
       "    <tr>\n",
       "      <th>10</th>\n",
       "      <td>charge density at t=-3.00 AGNI projected eta=1...</td>\n",
       "      <td>behind</td>\n",
       "    </tr>\n",
       "    <tr>\n",
       "      <th>11</th>\n",
       "      <td>charge density at t=-2.00 charge density at t=...</td>\n",
       "      <td>behind</td>\n",
       "    </tr>\n",
       "    <tr>\n",
       "      <th>12</th>\n",
       "      <td>charge density at t=-2.00 AGNI projected eta=1...</td>\n",
       "      <td>behind</td>\n",
       "    </tr>\n",
       "    <tr>\n",
       "      <th>13</th>\n",
       "      <td>charge density at t=-2.00 ion-ion repulsion</td>\n",
       "      <td>coulomb</td>\n",
       "    </tr>\n",
       "    <tr>\n",
       "      <th>14</th>\n",
       "      <td>charge density at t=-1.00 charge density at t=...</td>\n",
       "      <td>behind</td>\n",
       "    </tr>\n",
       "    <tr>\n",
       "      <th>15</th>\n",
       "      <td>charge density at t=-0.50 ion-ion repulsion</td>\n",
       "      <td>coulomb</td>\n",
       "    </tr>\n",
       "    <tr>\n",
       "      <th>16</th>\n",
       "      <td>charge density at t=0.00 charge density at t=0.50</td>\n",
       "      <td>ahead</td>\n",
       "    </tr>\n",
       "    <tr>\n",
       "      <th>17</th>\n",
       "      <td>charge density at t=0.00 AGNI projected eta=1....</td>\n",
       "      <td>ahead</td>\n",
       "    </tr>\n",
       "    <tr>\n",
       "      <th>18</th>\n",
       "      <td>charge density at t=0.00 AGNI projected eta=1....</td>\n",
       "      <td>ahead</td>\n",
       "    </tr>\n",
       "    <tr>\n",
       "      <th>19</th>\n",
       "      <td>charge density at t=0.00 AGNI projected eta=2....</td>\n",
       "      <td>ahead</td>\n",
       "    </tr>\n",
       "    <tr>\n",
       "      <th>20</th>\n",
       "      <td>charge density at t=0.00 AGNI projected eta=1....</td>\n",
       "      <td>ahead</td>\n",
       "    </tr>\n",
       "    <tr>\n",
       "      <th>21</th>\n",
       "      <td>charge density at t=0.00 ion-ion repulsion</td>\n",
       "      <td>coulomb</td>\n",
       "    </tr>\n",
       "    <tr>\n",
       "      <th>22</th>\n",
       "      <td>charge density at t=0.50 AGNI projected eta=8....</td>\n",
       "      <td>ahead</td>\n",
       "    </tr>\n",
       "    <tr>\n",
       "      <th>23</th>\n",
       "      <td>charge density at t=0.50 ion-ion repulsion</td>\n",
       "      <td>coulomb</td>\n",
       "    </tr>\n",
       "    <tr>\n",
       "      <th>24</th>\n",
       "      <td>charge density at t=2.00 ion-ion repulsion</td>\n",
       "      <td>coulomb</td>\n",
       "    </tr>\n",
       "  </tbody>\n",
       "</table>\n",
       "</div>"
      ],
      "text/plain": [
       "                                                 name category\n",
       "0                            charge density at t=0.50    ahead\n",
       "1                            charge density at t=1.00    ahead\n",
       "2                            charge density at t=2.00    ahead\n",
       "3                         AGNI projected eta=1.23e+00   atomic\n",
       "4                                   ion-ion repulsion  coulomb\n",
       "5                         charge density at t=-4.00^2   behind\n",
       "6   charge density at t=-4.00 charge density at t=...   behind\n",
       "7   charge density at t=-4.00 AGNI projected eta=1...   behind\n",
       "8   charge density at t=-3.00 charge density at t=...   behind\n",
       "9   charge density at t=-3.00 charge density at t=...   behind\n",
       "10  charge density at t=-3.00 AGNI projected eta=1...   behind\n",
       "11  charge density at t=-2.00 charge density at t=...   behind\n",
       "12  charge density at t=-2.00 AGNI projected eta=1...   behind\n",
       "13        charge density at t=-2.00 ion-ion repulsion  coulomb\n",
       "14  charge density at t=-1.00 charge density at t=...   behind\n",
       "15        charge density at t=-0.50 ion-ion repulsion  coulomb\n",
       "16  charge density at t=0.00 charge density at t=0.50    ahead\n",
       "17  charge density at t=0.00 AGNI projected eta=1....    ahead\n",
       "18  charge density at t=0.00 AGNI projected eta=1....    ahead\n",
       "19  charge density at t=0.00 AGNI projected eta=2....    ahead\n",
       "20  charge density at t=0.00 AGNI projected eta=1....    ahead\n",
       "21         charge density at t=0.00 ion-ion repulsion  coulomb\n",
       "22  charge density at t=0.50 AGNI projected eta=8....    ahead\n",
       "23         charge density at t=0.50 ion-ion repulsion  coulomb\n",
       "24         charge density at t=2.00 ion-ion repulsion  coulomb"
      ]
     },
     "execution_count": 20,
     "metadata": {},
     "output_type": "execute_result"
    }
   ],
   "source": [
    "feature_by_coefs[['name', 'category']]"
   ]
  },
  {
   "cell_type": "markdown",
   "id": "5635fabf",
   "metadata": {},
   "source": [
    "## Get the influence on predictions\n",
    "We are going to study the importance of features by assessing their impact on the force outcome as a function of position "
   ]
  },
  {
   "cell_type": "code",
   "execution_count": 21,
   "id": "0490940a",
   "metadata": {},
   "outputs": [],
   "source": [
    "X = data[featurizer.feature_labels()]"
   ]
  },
  {
   "cell_type": "markdown",
   "id": "04175f6d",
   "metadata": {},
   "source": [
    "Expand then select them"
   ]
  },
  {
   "cell_type": "code",
   "execution_count": 22,
   "id": "0d9778a6",
   "metadata": {},
   "outputs": [],
   "source": [
    "X_inputs = selector.transform(expander.transform(X))"
   ]
  },
  {
   "cell_type": "markdown",
   "id": "31db5411",
   "metadata": {},
   "source": [
    "We can now get the contribution of each point to the force prediction"
   ]
  },
  {
   "cell_type": "code",
   "execution_count": 23,
   "id": "6fa221a1",
   "metadata": {},
   "outputs": [],
   "source": [
    "contributions = np.multiply(X_inputs, lr.coef_)  # The coefficients work with unnormalized values\n",
    "contributions = pd.DataFrame(contributions, columns=selected_features)"
   ]
  },
  {
   "cell_type": "markdown",
   "id": "c35d99af",
   "metadata": {},
   "source": [
    "Get the single features with the most prominent contribution at each stage"
   ]
  },
  {
   "cell_type": "code",
   "execution_count": 24,
   "id": "dc1d0888",
   "metadata": {},
   "outputs": [
    {
     "name": "stdout",
     "output_type": "stream",
     "text": [
      "Only 6 features are ever the most important\n"
     ]
    },
    {
     "data": {
      "text/plain": [
       "{'charge density at t=-1.00 charge density at t=-0.50',\n",
       " 'charge density at t=-3.00 charge density at t=-1.00',\n",
       " 'charge density at t=0.00 charge density at t=0.50',\n",
       " 'charge density at t=0.00 ion-ion repulsion',\n",
       " 'charge density at t=2.00',\n",
       " 'ion-ion repulsion'}"
      ]
     },
     "execution_count": 24,
     "metadata": {},
     "output_type": "execute_result"
    }
   ],
   "source": [
    "most_influential = contributions.abs().idxmax(axis=1)\n",
    "print(f'Only {len(set(most_influential))} features are ever the most important')\n",
    "set(most_influential)"
   ]
  },
  {
   "cell_type": "markdown",
   "id": "7382f763",
   "metadata": {},
   "source": [
    "Grouping by category"
   ]
  },
  {
   "cell_type": "code",
   "execution_count": 25,
   "id": "645aed1f",
   "metadata": {},
   "outputs": [],
   "source": [
    "contrib_by_category = {}\n",
    "for gid, group in feature_by_coefs.groupby('category'):\n",
    "    contrib_by_category[gid] = contributions[group['name']].sum(axis=1).values\n",
    "contrib_by_category = pd.DataFrame(contrib_by_category)"
   ]
  },
  {
   "cell_type": "code",
   "execution_count": 26,
   "id": "cb6a38b1",
   "metadata": {},
   "outputs": [
    {
     "data": {
      "text/plain": [
       "ahead      0.651136\n",
       "coulomb    0.188400\n",
       "behind     0.160465\n",
       "dtype: float64"
      ]
     },
     "execution_count": 26,
     "metadata": {},
     "output_type": "execute_result"
    }
   ],
   "source": [
    "contrib_by_category.abs().idxmax(axis=1).value_counts() / len(contrib_by_category)"
   ]
  },
  {
   "cell_type": "markdown",
   "id": "dd6552cb",
   "metadata": {},
   "source": [
    "The atomic features are generally the most important followed by the amorphous \"other\""
   ]
  },
  {
   "cell_type": "markdown",
   "id": "67edac9e",
   "metadata": {},
   "source": [
    "Plot which is dominant in different regions"
   ]
  },
  {
   "cell_type": "code",
   "execution_count": 27,
   "id": "170d68af",
   "metadata": {},
   "outputs": [],
   "source": [
    "relative_contribution = np.divide(contrib_by_category.abs(), contrib_by_category.abs().sum(axis=1).values[:, None])\n",
    "relative_contribution['largest'] = contrib_by_category.abs().idxmax(axis=1)"
   ]
  },
  {
   "cell_type": "code",
   "execution_count": 28,
   "id": "f2d19fee",
   "metadata": {},
   "outputs": [
    {
     "data": {
      "text/html": [
       "<div>\n",
       "<style scoped>\n",
       "    .dataframe tbody tr th:only-of-type {\n",
       "        vertical-align: middle;\n",
       "    }\n",
       "\n",
       "    .dataframe tbody tr th {\n",
       "        vertical-align: top;\n",
       "    }\n",
       "\n",
       "    .dataframe thead th {\n",
       "        text-align: right;\n",
       "    }\n",
       "</style>\n",
       "<table border=\"1\" class=\"dataframe\">\n",
       "  <thead>\n",
       "    <tr style=\"text-align: right;\">\n",
       "      <th></th>\n",
       "      <th>ahead</th>\n",
       "      <th>atomic</th>\n",
       "      <th>behind</th>\n",
       "      <th>coulomb</th>\n",
       "    </tr>\n",
       "  </thead>\n",
       "  <tbody>\n",
       "    <tr>\n",
       "      <th>count</th>\n",
       "      <td>937900.000000</td>\n",
       "      <td>937900.000000</td>\n",
       "      <td>937900.000000</td>\n",
       "      <td>937900.000000</td>\n",
       "    </tr>\n",
       "    <tr>\n",
       "      <th>mean</th>\n",
       "      <td>44.649033</td>\n",
       "      <td>0.418276</td>\n",
       "      <td>24.924974</td>\n",
       "      <td>30.007717</td>\n",
       "    </tr>\n",
       "    <tr>\n",
       "      <th>std</th>\n",
       "      <td>17.073201</td>\n",
       "      <td>0.475781</td>\n",
       "      <td>15.215292</td>\n",
       "      <td>15.852081</td>\n",
       "    </tr>\n",
       "    <tr>\n",
       "      <th>min</th>\n",
       "      <td>0.069275</td>\n",
       "      <td>0.000053</td>\n",
       "      <td>0.008079</td>\n",
       "      <td>0.018625</td>\n",
       "    </tr>\n",
       "    <tr>\n",
       "      <th>25%</th>\n",
       "      <td>33.792435</td>\n",
       "      <td>0.108055</td>\n",
       "      <td>12.550998</td>\n",
       "      <td>18.957468</td>\n",
       "    </tr>\n",
       "    <tr>\n",
       "      <th>50%</th>\n",
       "      <td>55.339427</td>\n",
       "      <td>0.279834</td>\n",
       "      <td>21.613096</td>\n",
       "      <td>29.401102</td>\n",
       "    </tr>\n",
       "    <tr>\n",
       "      <th>75%</th>\n",
       "      <td>56.561252</td>\n",
       "      <td>0.561426</td>\n",
       "      <td>39.128841</td>\n",
       "      <td>42.050774</td>\n",
       "    </tr>\n",
       "    <tr>\n",
       "      <th>max</th>\n",
       "      <td>92.150121</td>\n",
       "      <td>4.079392</td>\n",
       "      <td>76.333957</td>\n",
       "      <td>97.938940</td>\n",
       "    </tr>\n",
       "  </tbody>\n",
       "</table>\n",
       "</div>"
      ],
      "text/plain": [
       "               ahead         atomic         behind        coulomb\n",
       "count  937900.000000  937900.000000  937900.000000  937900.000000\n",
       "mean       44.649033       0.418276      24.924974      30.007717\n",
       "std        17.073201       0.475781      15.215292      15.852081\n",
       "min         0.069275       0.000053       0.008079       0.018625\n",
       "25%        33.792435       0.108055      12.550998      18.957468\n",
       "50%        55.339427       0.279834      21.613096      29.401102\n",
       "75%        56.561252       0.561426      39.128841      42.050774\n",
       "max        92.150121       4.079392      76.333957      97.938940"
      ]
     },
     "execution_count": 28,
     "metadata": {},
     "output_type": "execute_result"
    }
   ],
   "source": [
    "relative_contribution.describe() * 100"
   ]
  },
  {
   "cell_type": "code",
   "execution_count": 29,
   "id": "96d7eb4c",
   "metadata": {},
   "outputs": [],
   "source": [
    "relative_contribution['timestep'] = data['timestep'].values\n",
    "relative_contribution['displacement'] = data['displacement'].values"
   ]
  },
  {
   "cell_type": "markdown",
   "id": "6b2d5589",
   "metadata": {},
   "source": [
    "We see that the atomic changes never contribute more than 4% of the total force prediction."
   ]
  },
  {
   "cell_type": "code",
   "execution_count": 30,
   "id": "64d6276e",
   "metadata": {},
   "outputs": [],
   "source": [
    "change_points = relative_contribution[(relative_contribution.largest != relative_contribution.shift(1).largest) | (relative_contribution.largest != relative_contribution.shift(-1).largest)]"
   ]
  },
  {
   "cell_type": "code",
   "execution_count": 31,
   "id": "263dad04",
   "metadata": {},
   "outputs": [
    {
     "data": {
      "image/png": "[encoded data removed]",
      "text/plain": [
       "<Figure size 252x126 with 2 Axes>"
      ]
     },
     "metadata": {
      "needs_background": "light"
     },
     "output_type": "display_data"
    }
   ],
   "source": [
    "fig, ax = plt.subplots(figsize=(3.5, 1.75))\n",
    "\n",
    "# Colors for each type\n",
    "colors = {\n",
    "    'coulomb': 'darkgoldenrod',\n",
    "    'ahead': 'purple',\n",
    "    'behind': 'darkcyan'\n",
    "}\n",
    "\n",
    "# Plot the regions where different features dominate\n",
    "ax2 = ax.twinx()\n",
    "ax2.set_ylim([0, 1])\n",
    "widths = change_points.displacement.diff()[1::2].values\n",
    "labels = change_points.largest[::2].values\n",
    "starts = change_points.displacement[::2].values\n",
    "for label, color in colors.items():\n",
    "    label_text = label.capitalize()\n",
    "    if label_text != \"Coulomb\":\n",
    "        label_text = \"$\\\\rho$ \" + label_text\n",
    "    ax2.fill_between(data.displacement, 0, 1, where=relative_contribution.largest == label,\n",
    "                     color=color, alpha=0.5, label=label_text, lw=0)\n",
    "    \n",
    "\n",
    "# Plot the force for a background\n",
    "ax.plot(data.displacement, data['charge density at t=0.00'].values, color='k', lw=1.)\n",
    "#ax.set_yscale('symlog')\n",
    "ax.set_ylabel('Charge Density')\n",
    "ax.set_yticklabels([])\n",
    "    \n",
    "ax2.legend(ncol=1, fontsize=8, loc='upper right', framealpha=0.9)\n",
    "ax2.set_yticks([])\n",
    "\n",
    "# Plot only a major region\n",
    "ax.set_xlim(40, 70)\n",
    "ax.set_xlabel('Displacement ($a_B$)')\n",
    "\n",
    "fig.tight_layout()\n",
    "fig.savefig('figures/dominant-features-vs-density.png', dpi=320)\n",
    "fig.savefig('figures/dominant-features-vs-density.pdf')"
   ]
  },
  {
   "cell_type": "code",
   "execution_count": 32,
   "id": "7fd53a25",
   "metadata": {},
   "outputs": [
    {
     "data": {
      "image/png": "[encoded data removed]",
      "text/plain": [
       "<Figure size 252x126 with 2 Axes>"
      ]
     },
     "metadata": {
      "needs_background": "light"
     },
     "output_type": "display_data"
    }
   ],
   "source": [
    "fig, ax = plt.subplots(figsize=(3.5, 1.75))\n",
    "\n",
    "# Plot the force for a background\n",
    "ax.plot(data.timestep, data['force'].values, 'k--', lw=1.)\n",
    "ax.set_yscale('symlog')\n",
    "ax.set_ylabel('Force ($E_H/a_B$)')\n",
    "\n",
    "# Plot the regions where different features dominate\n",
    "ax2 = ax.twinx()\n",
    "ax2.set_ylim([0, 1])\n",
    "for c in relative_contribution.columns[:4]:\n",
    "    ax2.plot(relative_contribution.timestep, relative_contribution[c], label=c, lw=1)\n",
    "    \n",
    "ax2.legend(ncol=3, fontsize=8)\n",
    "ax2.set_yticks([])\n",
    "\n",
    "# Plot only a major region\n",
    "ax.set_xlim(3000, 4000)\n",
    "\n",
    "fig.savefig('figures/dominant-features-line.png', dpi=320)"
   ]
  },
  {
   "cell_type": "markdown",
   "id": "2c01e278",
   "metadata": {},
   "source": [
    "Let's see how they change over time"
   ]
  },
  {
   "cell_type": "markdown",
   "id": "c01973dc",
   "metadata": {},
   "source": [
    "**TODO**: Quantify the correlation between different feature sets. Specifically, are the \"before\" features strongly correlated with the \"coulomb\"\n",
    "- Longer-term: Assess the feature importance using an \"ablation\" technique"
   ]
  },
  {
   "cell_type": "code",
   "execution_count": null,
   "id": "6bfc455e",
   "metadata": {},
   "outputs": [],
   "source": []
  }
 ],
 "metadata": {
  "kernelspec": {
   "display_name": "Python 3",
   "language": "python",
   "name": "python3"
  },
  "language_info": {
   "codemirror_mode": {
    "name": "ipython",
    "version": 3
   },
   "file_extension": ".py",
   "mimetype": "text/x-python",
   "name": "python",
   "nbconvert_exporter": "python",
   "pygments_lexer": "ipython3",
   "version": "3.6.8"
  }
 },
 "nbformat": 4,
 "nbformat_minor": 5
}
