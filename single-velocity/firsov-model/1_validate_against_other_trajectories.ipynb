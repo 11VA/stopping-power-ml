{
 "cells": [
  {
   "cell_type": "markdown",
   "metadata": {},
   "source": [
    "# Evaluate the Performance of Firsov on Other Trajectories\n",
    "The goal here is to compare against our ML model"
   ]
  },
  {
   "cell_type": "code",
   "execution_count": 1,
   "metadata": {},
   "outputs": [],
   "source": [
    "%matplotlib inline\n",
    "from matplotlib import pyplot as plt\n",
    "from stopping_power_ml.integrator import TrajectoryIntegrator\n",
    "from sklearn.linear_model import LinearRegression\n",
    "import pickle as pkl\n",
    "import pandas as pd\n",
    "import numpy as np\n",
    "import os"
   ]
  },
  {
   "cell_type": "markdown",
   "metadata": {},
   "source": [
    "## Load in the Tools\n",
    "We'll need the data for these trajectories and a new model"
   ]
  },
  {
   "cell_type": "code",
   "execution_count": 2,
   "metadata": {},
   "outputs": [],
   "source": [
    "with open(os.path.join('..', 'data', 'new_data.pkl'), 'rb') as fp:\n",
    "    new_data = pkl.load(fp)"
   ]
  },
  {
   "cell_type": "code",
   "execution_count": 3,
   "metadata": {},
   "outputs": [],
   "source": [
    "start_frame = pkl.load(open(os.path.join('..', '..', 'al_starting_frame.pkl'), 'rb'))"
   ]
  },
  {
   "cell_type": "code",
   "execution_count": 4,
   "metadata": {},
   "outputs": [],
   "source": [
    "with open(os.path.join('..', 'traj_computer.pkl'), 'rb') as fp:\n",
    "    traj_computer = pkl.load(fp)"
   ]
  },
  {
   "cell_type": "code",
   "execution_count": 5,
   "metadata": {},
   "outputs": [],
   "source": [
    "with open('firsov.pkl', 'rb') as fp:\n",
    "    firsov = pkl.load(fp)"
   ]
  },
  {
   "cell_type": "code",
   "execution_count": 6,
   "metadata": {},
   "outputs": [],
   "source": [
    "new_data['channel'] = pd.read_pickle(os.path.join('..', 'data', 'channel_data.pkl.gz'))"
   ]
  },
  {
   "cell_type": "code",
   "execution_count": 7,
   "metadata": {},
   "outputs": [],
   "source": [
    "new_data['random'] = pd.read_pickle(os.path.join('..', 'data', 'random_data.pkl.gz'))"
   ]
  },
  {
   "cell_type": "markdown",
   "metadata": {},
   "source": [
    "## Run the Model on Each Trajectory\n",
    "Use the model stored with the trajectory computer, which was trained on the random and channel trajectories"
   ]
  },
  {
   "cell_type": "code",
   "execution_count": null,
   "metadata": {},
   "outputs": [],
   "source": [
    "%%time\n",
    "for subset in new_data.values():\n",
    "    subset['force_pred_ml'] = traj_computer.model.predict(subset[traj_computer.featurizers.feature_labels()])\n",
    "    subset['force_pred_firsov'] = np.squeeze(firsov.featurize_many(subset[['position', 'velocity']], pbar=False))"
   ]
  },
  {
   "cell_type": "markdown",
   "metadata": {},
   "source": [
    "## Compare the Model Accuracy\n",
    "Get a sense for how well this model performed"
   ]
  },
  {
   "cell_type": "code",
   "execution_count": null,
   "metadata": {},
   "outputs": [],
   "source": [
    "fig, axs = plt.subplots(2, 3)\n",
    "\n",
    "for i, (ax, (d, subset)) in enumerate(zip(axs.flatten(), new_data.items())):\n",
    "    subset = subset[~ subset['initial']]\n",
    "    ax.plot(subset['displacement'], subset['force'], 'k--')\n",
    "    ax.plot(subset['displacement'], subset['force_pred_ml'], 'r', lw=1, alpha=0.8)\n",
    "    ax.plot(subset['displacement'], subset['force_pred_firsov'], 'b', lw=1, alpha=0.8)\n",
    "    \n",
    "    if subset['force'].max() > 1:\n",
    "        ax.set_yscale('symlog')\n",
    "    \n",
    "    # Make a label for the figure\n",
    "    ax.text(0, 1, d, bbox={'facecolor': 'w', 'edgecolor': 'k'},\n",
    "           transform=ax.transAxes)\n",
    "    \n",
    "# Make axes labels\n",
    "for ax in axs[-1, :]:\n",
    "    ax.set_xlabel('Displacement ($a_B$)')\n",
    "for ax in axs[:, 0]:\n",
    "    ax.set_ylabel('Force ($E_H / a_B$)')\n",
    "\n",
    "fig.tight_layout()\n",
    "fig.set_size_inches(6.5, 3.5)\n",
    "fig.savefig(os.path.join('figures', 'validation-set.png'), dpi=320)"
   ]
  },
  {
   "cell_type": "markdown",
   "metadata": {},
   "source": [
    "*Finding*: Storng qualitative agreement with the stopping forces"
   ]
  },
  {
   "cell_type": "markdown",
   "metadata": {},
   "source": [
    "# Compute Stopping Power for Channels\n",
    "Two of the calculations are aligned along crystallographic axes. As such, we need to determine the stopping power along one repeat of the unit cell"
   ]
  },
  {
   "cell_type": "markdown",
   "metadata": {},
   "source": [
    "## Make a Trajectory Computer for the Firsov Model\n",
    "The TrajecotryIntegrator class has some useful utilities, and needs an ML model to work. As the output from the Firsov model is our desired force, we'll just make a $f(x) = x$ model using sklearn's linear model"
   ]
  },
  {
   "cell_type": "code",
   "execution_count": null,
   "metadata": {},
   "outputs": [],
   "source": [
    "firsov_linreg = LinearRegression()\n",
    "firsov_linreg.coef_ = np.array([1])\n",
    "firsov_linreg.intercept_ = 0"
   ]
  },
  {
   "cell_type": "code",
   "execution_count": null,
   "metadata": {},
   "outputs": [],
   "source": [
    "traj_computer_firsov = TrajectoryIntegrator(start_frame, firsov_linreg, firsov)"
   ]
  },
  {
   "cell_type": "code",
   "execution_count": null,
   "metadata": {},
   "outputs": [],
   "source": [
    "def get_channel_stopping_power(data, direction, traj_computer):\n",
    "    \"\"\"Get the stopping power along a channel\n",
    "    \n",
    "    Args:\n",
    "        data (DataFrame): TD-DFT data for a certain channel trajectory\n",
    "        direction ([int]): Directions in lattice coordinates\n",
    "        traj_computer (TrajectoryIntegrator): Tool used to compute the stopping force\n",
    "    Returns:\n",
    "        - (float) Stopping power from TD-DFT\n",
    "        - (float) Stopping power from the trajecotry computer\n",
    "    \"\"\"\n",
    "    \n",
    "    # Get the length of the channel\n",
    "    length = np.linalg.norm(traj_computer._compute_trajectory(direction))\n",
    "    \n",
    "    # Average over all possible choices\n",
    "    max_distance = data['displacement'].max() - length\n",
    "    stops = [\n",
    "        data.query('displacement >= {} and displacement <= {}'.format(x['displacement'], x['displacement'] + length))['force'].mean()\n",
    "        for i, x in data.query('displacement < {}'.format(max_distance)).iterrows()\n",
    "    ]\n",
    "    return np.median(stops), traj_computer.compute_stopping_power(data.iloc[0]['position'], direction, 1, abserr=1e-4)"
   ]
  },
  {
   "cell_type": "markdown",
   "metadata": {},
   "source": [
    "Print out the results of each channel direction"
   ]
  },
  {
   "cell_type": "code",
   "execution_count": null,
   "metadata": {},
   "outputs": [],
   "source": [
    "channels = {\n",
    "    'Dmod_v1.0': [2, 1, 1],\n",
    "    'Dmin_v1.0': [1, 2, 2],\n",
    "    'channel': [1, 0, 0]\n",
    "}"
   ]
  },
  {
   "cell_type": "code",
   "execution_count": null,
   "metadata": {},
   "outputs": [],
   "source": [
    "for key, direct in channels.items():\n",
    "    tddft, (ml, ml_err) = get_channel_stopping_power(new_data[key], direct, traj_computer)\n",
    "    tddft, (firsov, firsov_err) = get_channel_stopping_power(new_data[key], direct, traj_computer_firsov)\n",
    "    \n",
    "    print('{}: TD-DFT: {:.3f} - ML {:.3f} - Firsov {:.3f}'.format(key, tddft, ml, firsov))"
   ]
  },
  {
   "cell_type": "markdown",
   "metadata": {},
   "source": [
    "*Finding*: We overestimate the channel, and under estimate the random directions"
   ]
  },
  {
   "cell_type": "markdown",
   "metadata": {},
   "source": [
    "## Compare the Ordering of Stopping Powers\n",
    "See how well ML and TD-DFT match up"
   ]
  },
  {
   "cell_type": "code",
   "execution_count": null,
   "metadata": {},
   "outputs": [],
   "source": [
    "results = []\n",
    "for key, subset in new_data.items():\n",
    "    subset = subset[~ subset['initial']]\n",
    "    results.append({'name': key, \n",
    "                    'tddft': subset['force'].mean(),\n",
    "                    'ml': subset['force_pred_ml'].mean(),\n",
    "                    'firsov': subset['force_pred_firsov'].mean()})\n",
    "results = pd.DataFrame(results)"
   ]
  },
  {
   "cell_type": "code",
   "execution_count": null,
   "metadata": {},
   "outputs": [],
   "source": [
    "results"
   ]
  },
  {
   "cell_type": "code",
   "execution_count": null,
   "metadata": {},
   "outputs": [],
   "source": [
    "fig, ax = plt.subplots()\n",
    "\n",
    "ax.scatter(results['tddft'], results['ml'], label='ML')\n",
    "ax.scatter(results['tddft'], results['firsov'], label='Firsov')\n",
    "\n",
    "min_value = results.drop(['name', 'firsov'], axis=1).min().min() * 0.98\n",
    "max_value = results.drop(['name', 'firsov'], axis=1).max().max() * 1.02\n",
    "\n",
    "ax.set_xlim([min_value, max_value])\n",
    "ax.set_ylim([min_value, max_value * 10])\n",
    "\n",
    "ax.plot(ax.get_xlim(), ax.get_xlim(), 'k--')\n",
    "\n",
    "ax.set_xlabel('$S$, TD-DFT ($E_H / a_B$)')\n",
    "ax.set_ylabel('$S$, Predicted ($E_H / a_B$)')\n",
    "\n",
    "ax.set_yscale('log')\n",
    "\n",
    "fig.set_size_inches(3.5, 2.5)\n",
    "fig.tight_layout()\n",
    "fig.savefig(os.path.join('figures', 'stopping-power-comparison.png'), dpi=320)"
   ]
  },
  {
   "cell_type": "markdown",
   "metadata": {},
   "source": [
    "*Finding*: Firsov model is terrible compared to ML"
   ]
  },
  {
   "cell_type": "code",
   "execution_count": null,
   "metadata": {},
   "outputs": [],
   "source": []
  }
 ],
 "metadata": {
  "kernelspec": {
   "display_name": "Python 3",
   "language": "python",
   "name": "python3"
  },
  "language_info": {
   "codemirror_mode": {
    "name": "ipython",
    "version": 3
   },
   "file_extension": ".py",
   "mimetype": "text/x-python",
   "name": "python",
   "nbconvert_exporter": "python",
   "pygments_lexer": "ipython3",
   "version": "3.6.6"
  }
 },
 "nbformat": 4,
 "nbformat_minor": 2
}
