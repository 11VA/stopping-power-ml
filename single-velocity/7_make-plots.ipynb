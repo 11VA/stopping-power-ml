{
 "cells": [
  {
   "cell_type": "markdown",
   "id": "a44d0751",
   "metadata": {},
   "source": [
    "# Make Plots\n",
    "A notebook to make the figures for our paper without needing to re-run experiments"
   ]
  },
  {
   "cell_type": "code",
   "execution_count": 1,
   "id": "2d095cd2",
   "metadata": {
    "execution": {
     "iopub.execute_input": "2022-08-18T15:24:04.803645Z",
     "iopub.status.busy": "2022-08-18T15:24:04.802282Z",
     "iopub.status.idle": "2022-08-18T15:24:05.167009Z",
     "shell.execute_reply": "2022-08-18T15:24:05.166746Z"
    }
   },
   "outputs": [],
   "source": [
    "%matplotlib inline\n",
    "from mpl_toolkits.axes_grid1.inset_locator import inset_axes, mark_inset\n",
    "from matplotlib import patches\n",
    "from matplotlib import pyplot as plt\n",
    "from scipy import stats\n",
    "import pickle as pkl\n",
    "import pandas as pd\n",
    "import numpy as np\n",
    "import os"
   ]
  },
  {
   "cell_type": "markdown",
   "id": "98d8edbc",
   "metadata": {},
   "source": [
    "## Load the Data\n",
    "We need the results of fitting on the random channel"
   ]
  },
  {
   "cell_type": "code",
   "execution_count": 2,
   "id": "34db1b02",
   "metadata": {
    "execution": {
     "iopub.execute_input": "2022-08-18T15:24:05.169370Z",
     "iopub.status.busy": "2022-08-18T15:24:05.169068Z",
     "iopub.status.idle": "2022-08-18T15:24:05.196265Z",
     "shell.execute_reply": "2022-08-18T15:24:05.196506Z"
    }
   },
   "outputs": [
    {
     "name": "stdout",
     "output_type": "stream",
     "text": [
      "Data set size: 9379\n"
     ]
    }
   ],
   "source": [
    "data = pd.read_pickle(os.path.join('data', 'random_data.pkl.gz')).query('not initial')\n",
    "print('Data set size:', len(data))"
   ]
  },
  {
   "cell_type": "code",
   "execution_count": 3,
   "id": "321e8601",
   "metadata": {
    "execution": {
     "iopub.execute_input": "2022-08-18T15:24:05.198557Z",
     "iopub.status.busy": "2022-08-18T15:24:05.198164Z",
     "iopub.status.idle": "2022-08-18T15:24:05.257428Z",
     "shell.execute_reply": "2022-08-18T15:24:05.257665Z"
    }
   },
   "outputs": [],
   "source": [
    "with open('model-comparision-results.pkl', 'rb') as fp:\n",
    "    test_results = pkl.load(fp)"
   ]
  },
  {
   "cell_type": "markdown",
   "id": "2334a5b0",
   "metadata": {},
   "source": [
    "## Plot the Spearman vs MAE Model\n",
    "We use this figure to show model accuracy and illustrate how we used physics to interpret the model performance."
   ]
  },
  {
   "cell_type": "code",
   "execution_count": 4,
   "id": "f4ce8121",
   "metadata": {
    "execution": {
     "iopub.execute_input": "2022-08-18T15:24:05.259989Z",
     "iopub.status.busy": "2022-08-18T15:24:05.259596Z",
     "iopub.status.idle": "2022-08-18T15:24:05.261014Z",
     "shell.execute_reply": "2022-08-18T15:24:05.260719Z"
    }
   },
   "outputs": [],
   "source": [
    "experiment_number = len(test_results['bayes_poly']['over_time']['training_size']) // 2"
   ]
  },
  {
   "cell_type": "code",
   "execution_count": 5,
   "id": "9b8efa75",
   "metadata": {
    "execution": {
     "iopub.execute_input": "2022-08-18T15:24:05.266137Z",
     "iopub.status.busy": "2022-08-18T15:24:05.265728Z",
     "iopub.status.idle": "2022-08-18T15:24:05.291533Z",
     "shell.execute_reply": "2022-08-18T15:24:05.291774Z"
    }
   },
   "outputs": [
    {
     "name": "stdout",
     "output_type": "stream",
     "text": [
      "Training set size:  4690\n"
     ]
    },
    {
     "name": "stderr",
     "output_type": "stream",
     "text": [
      "/home/lward/miniconda3/envs/ml_tddft/lib/python3.6/site-packages/scipy/stats/stats.py:4196: SpearmanRConstantInputWarning: An input array is constant; the correlation coefficent is not defined.\n",
      "  warnings.warn(SpearmanRConstantInputWarning())\n"
     ]
    },
    {
     "data": {
      "text/html": [
       "<div>\n",
       "<style scoped>\n",
       "    .dataframe tbody tr th:only-of-type {\n",
       "        vertical-align: middle;\n",
       "    }\n",
       "\n",
       "    .dataframe tbody tr th {\n",
       "        vertical-align: top;\n",
       "    }\n",
       "\n",
       "    .dataframe thead th {\n",
       "        text-align: right;\n",
       "    }\n",
       "</style>\n",
       "<table border=\"1\" class=\"dataframe\">\n",
       "  <thead>\n",
       "    <tr style=\"text-align: right;\">\n",
       "      <th></th>\n",
       "      <th>force_mae</th>\n",
       "      <th>small_force_mae</th>\n",
       "      <th>force_spearman</th>\n",
       "    </tr>\n",
       "  </thead>\n",
       "  <tbody>\n",
       "    <tr>\n",
       "      <th>lasso+bayes_poly</th>\n",
       "      <td>0.025193</td>\n",
       "      <td>0.014376</td>\n",
       "      <td>0.993427</td>\n",
       "    </tr>\n",
       "    <tr>\n",
       "      <th>lasso_poly</th>\n",
       "      <td>0.030833</td>\n",
       "      <td>0.014682</td>\n",
       "      <td>0.992950</td>\n",
       "    </tr>\n",
       "    <tr>\n",
       "      <th>bayes</th>\n",
       "      <td>0.021878</td>\n",
       "      <td>0.017652</td>\n",
       "      <td>0.989804</td>\n",
       "    </tr>\n",
       "    <tr>\n",
       "      <th>lasso</th>\n",
       "      <td>0.039481</td>\n",
       "      <td>0.017298</td>\n",
       "      <td>0.989301</td>\n",
       "    </tr>\n",
       "    <tr>\n",
       "      <th>lasso+bayes</th>\n",
       "      <td>0.040101</td>\n",
       "      <td>0.019366</td>\n",
       "      <td>0.987726</td>\n",
       "    </tr>\n",
       "    <tr>\n",
       "      <th>bayes_poly</th>\n",
       "      <td>0.040411</td>\n",
       "      <td>0.013328</td>\n",
       "      <td>0.985654</td>\n",
       "    </tr>\n",
       "    <tr>\n",
       "      <th>ols</th>\n",
       "      <td>0.031191</td>\n",
       "      <td>0.023094</td>\n",
       "      <td>0.980189</td>\n",
       "    </tr>\n",
       "    <tr>\n",
       "      <th>pca+bayes_poly</th>\n",
       "      <td>0.047424</td>\n",
       "      <td>0.020076</td>\n",
       "      <td>0.973367</td>\n",
       "    </tr>\n",
       "  </tbody>\n",
       "</table>\n",
       "</div>"
      ],
      "text/plain": [
       "                  force_mae  small_force_mae  force_spearman\n",
       "lasso+bayes_poly   0.025193         0.014376        0.993427\n",
       "lasso_poly         0.030833         0.014682        0.992950\n",
       "bayes              0.021878         0.017652        0.989804\n",
       "lasso              0.039481         0.017298        0.989301\n",
       "lasso+bayes        0.040101         0.019366        0.987726\n",
       "bayes_poly         0.040411         0.013328        0.985654\n",
       "ols                0.031191         0.023094        0.980189\n",
       "pca+bayes_poly     0.047424         0.020076        0.973367"
      ]
     },
     "execution_count": 1,
     "metadata": {},
     "output_type": "execute_result"
    }
   ],
   "source": [
    "small_forces = np.logical_and(data['force'] > 0, data['force'] < 0.4)\n",
    "train_size = test_results['lasso']['over_time']['training_size'][experiment_number]\n",
    "print('Training set size: ', train_size)\n",
    "results = dict([\n",
    "    (name, {'force_mae': np.abs(data['force'] - my_data['over_time']['traj'][experiment_number]).mean(),\n",
    "            'small_force_mae': np.abs(data['force'][small_forces] - \\\n",
    "                                my_data['over_time']['traj'][experiment_number][small_forces]).mean(),\n",
    "            'force_spearman': stats.spearmanr(data['force'],\n",
    "                                              my_data['over_time']['traj'][experiment_number])[0]})\n",
    "    for name, my_data in test_results.items()\n",
    "])\n",
    "del results['dummy']\n",
    "over_time_results = pd.DataFrame(results).T\n",
    "over_time_results.sort_values('force_spearman', ascending=False, inplace=True)\n",
    "over_time_results"
   ]
  },
  {
   "cell_type": "code",
   "execution_count": 6,
   "id": "fa54b86b",
   "metadata": {
    "execution": {
     "iopub.execute_input": "2022-08-18T15:24:05.302047Z",
     "iopub.status.busy": "2022-08-18T15:24:05.296008Z",
     "iopub.status.idle": "2022-08-18T15:24:05.549280Z",
     "shell.execute_reply": "2022-08-18T15:24:05.548972Z"
    }
   },
   "outputs": [
    {
     "name": "stdout",
     "output_type": "stream",
     "text": [
      "Test/test cutoff at timestep: 5110\n"
     ]
    },
    {
     "data": {
      "image/png": "[encoded data removed]",
      "text/plain": [
       "<Figure size 252x180 with 1 Axes>"
      ]
     },
     "metadata": {
      "needs_background": "light"
     },
     "output_type": "display_data"
    }
   ],
   "source": [
    "fig, ax = plt.subplots(figsize=(3.5, 2.5))\n",
    "\n",
    "print(f\"Test/test cutoff at timestep: {test_results['bayes_poly']['over_time']['step'][experiment_number]}\")\n",
    "\n",
    "# Plot the best MAE vs Best SCC\n",
    "best_mae = 'bayes'\n",
    "best_scc = 'lasso+bayes_poly'\n",
    "\n",
    "tddft, = ax.plot(data['timestep'], data['force'], 'k:', lw=1.5, label='TD-DFT')\n",
    "#tddft.set_label(None)\n",
    "ax.set_ylim([0.02,0.4]) # Make sure the scales stay appropriate\n",
    "ax.set_xlim(4590, 5500)\n",
    "\n",
    "traj = test_results[best_mae]['over_time']['traj'][experiment_number]\n",
    "ax.plot(data['timestep'], traj, 'r-', alpha=0.7, lw=2, label='Best MAE')\n",
    "\n",
    "traj = test_results[best_scc]['over_time']['traj'][experiment_number]\n",
    "ax.plot(data['timestep'], traj, 'b--', alpha=0.7, lw=2, label='Best Spearman')\n",
    "\n",
    "ax.set_xlabel('Timestep')\n",
    "ax.set_ylabel('Force ($E_h/a_B$)')\n",
    "ax.legend(ncol=1, loc='lower right', framealpha=0.9)\n",
    "\n",
    "#axs[1].text(0.0, 0.99, '(b)', va='top', transform=axs[1].transAxes)\n",
    "\n",
    "fig.tight_layout()\n",
    "fig.savefig(os.path.join('figures', 'mae-vs-spearman.png'), dpi=320)\n",
    "fig.savefig(os.path.join('figures', 'mae-vs-spearman.pdf'))"
   ]
  },
  {
   "cell_type": "markdown",
   "id": "c5cad80a",
   "metadata": {},
   "source": [
    "Get the percent error in the stopping power"
   ]
  },
  {
   "cell_type": "code",
   "execution_count": 7,
   "id": "8aa60667",
   "metadata": {
    "execution": {
     "iopub.execute_input": "2022-08-18T15:24:05.551567Z",
     "iopub.status.busy": "2022-08-18T15:24:05.551260Z",
     "iopub.status.idle": "2022-08-18T15:24:05.553369Z",
     "shell.execute_reply": "2022-08-18T15:24:05.553063Z"
    }
   },
   "outputs": [
    {
     "name": "stdout",
     "output_type": "stream",
     "text": [
      "APE: -0.20%\n"
     ]
    }
   ],
   "source": [
    "ape = (data['force'].mean() - test_results['bayes_poly']['over_time']['traj'][experiment_number].mean()) / data['force'].mean()\n",
    "print(f'APE: {ape * 100:.2f}%')"
   ]
  },
  {
   "cell_type": "markdown",
   "id": "0a83efb5",
   "metadata": {},
   "source": [
    "## Show the increase in fitting performance over time\n",
    "The idea is to illustate how we need at least one near pass for the model to fit the random trajectory well."
   ]
  },
  {
   "cell_type": "code",
   "execution_count": 8,
   "id": "beed1bc2",
   "metadata": {
    "execution": {
     "iopub.execute_input": "2022-08-18T15:24:05.569553Z",
     "iopub.status.busy": "2022-08-18T15:24:05.559626Z",
     "iopub.status.idle": "2022-08-18T15:24:06.864547Z",
     "shell.execute_reply": "2022-08-18T15:24:06.864235Z"
    }
   },
   "outputs": [
    {
     "name": "stderr",
     "output_type": "stream",
     "text": [
      "/home/lward/miniconda3/envs/ml_tddft/lib/python3.6/site-packages/matplotlib/figure.py:2299: UserWarning: This figure includes Axes that are not compatible with tight_layout, so results might be incorrect.\n",
      "  warnings.warn(\"This figure includes Axes that are not compatible \"\n"
     ]
    },
    {
     "data": {
      "image/png": "[encoded data removed]",
      "text/plain": [
       "<Figure size 468x252 with 5 Axes>"
      ]
     },
     "metadata": {
      "needs_background": "light"
     },
     "output_type": "display_data"
    }
   ],
   "source": [
    "fig, axs = plt.subplots(2, 2, sharex=True, sharey=True, figsize=(6.5, 3.5))\n",
    "\n",
    "best_results = test_results[best_scc]\n",
    "\n",
    "axs[0, 0].set_xlim(0, 10000)\n",
    "axs[0, 0].set_ylim(-400, 400)\n",
    "\n",
    "for f,ax in zip([250, 2500, 5000, 7000],axs.flatten()):\n",
    "    # Determine the index of the desired test\n",
    "    f = test_results[best_scc]['over_time']['training_size'].index(f)\n",
    "    \n",
    "    ax.plot(data['timestep'], data['force'], 'k--', lw=.8)\n",
    "    \n",
    "    traj = test_results[best_scc]['over_time']['traj'][f]\n",
    "    ax.plot(data['timestep'], traj, '-', color='firebrick', alpha=0.8, lw=1.2)\n",
    "    traj_error = np.abs(traj - data['force']).mean()\n",
    "    \n",
    "    ax.text(0.5, 0, \n",
    "            '$N$: %d  MAE: %.3f $E_H/a_B$'%(best_results['over_time']['training_size'][f], traj_error),\n",
    "            transform=ax.transAxes,\n",
    "            ha='center', va='bottom',\n",
    "            fontsize=7.5,\n",
    "            bbox=dict(edgecolor='k', facecolor='w', alpha=0.95))\n",
    "    \n",
    "    ax.fill_between([-1, best_results['over_time']['step'][f]], -1000, 1000, color='gray', alpha=0.5,\n",
    "                   edgecolor='none')\n",
    "    \n",
    "    ax.set_yscale('symlog')\n",
    "    \n",
    "    \n",
    "# Plot a zoom-in for the bottom left. With both the SCC and otherwise\n",
    "ax = axs[1, 0]\n",
    "inset_ax = inset_axes(ax, 0.7, 0.7, loc='upper left')\n",
    "best_mae = 'bayes'\n",
    "best_scc = 'lasso+bayes_poly'\n",
    "\n",
    "#   Determine the place where we are plotting \n",
    "tddft, = inset_ax.plot(data['timestep'], data['force'], 'k:', lw=0.8, label='TD-DFT')\n",
    "inset_ax.set_ylim([0.19,0.29]) # Make sure the scales stay appropriate\n",
    "inset_ax.set_xlim(5000, 5300)\n",
    "inset_ax.set_xticks([])\n",
    "inset_ax.set_yticks([])\n",
    "\n",
    "traj = test_results[best_mae]['over_time']['traj'][experiment_number]\n",
    "mae, = inset_ax.plot(data['timestep'], traj, '--', alpha=0.9, lw=1.2, label='Best MAE', color='steelblue')\n",
    "\n",
    "traj = test_results[best_scc]['over_time']['traj'][experiment_number]\n",
    "rho, = inset_ax.plot(data['timestep'], traj, 'b-', alpha=0.9, lw=1.2, label='Best $\\\\rho$',\n",
    "             color='firebrick')\n",
    "\n",
    "#   Make a box that shows the region\n",
    "xy = (\n",
    "    inset_ax.get_xlim()[0],\n",
    "    inset_ax.get_ylim()[0]\n",
    ")\n",
    "height = inset_ax.get_ylim()[1] - inset_ax.get_ylim()[0]\n",
    "width = inset_ax.get_xlim()[1] - inset_ax.get_xlim()[0]\n",
    "box = patches.Rectangle(xy=xy, width=width, height=height,\n",
    "                 edgecolor='k', fill=False)\n",
    "axs[1, 0].add_patch(box)\n",
    "\n",
    "\n",
    "#    Link our display box to the region\n",
    "mark_inset(ax, inset_ax, 1, 4, alpha=0.5)\n",
    "\n",
    "\n",
    "\n",
    "fig.legend(*inset_ax.get_legend_handles_labels(),\n",
    "          ncol=3, fontsize=7, loc='upper center')\n",
    "\n",
    "# Format the main axes\n",
    "axs[1,0].set_xlabel('Timestep', fontsize=9)\n",
    "axs[1,1].set_xlabel('Timestep', fontsize=9)\n",
    "axs[0,0].set_ylabel('Force ($E_H/a_B$)', fontsize=9)\n",
    "axs[1,0].set_ylabel('Force ($E_H/a_B$)', fontsize=9)\n",
    "\n",
    "for ax in axs.flatten():\n",
    "    ax.tick_params(axis='both', which='major', labelsize=7)\n",
    "\n",
    "fig.tight_layout()\n",
    "\n",
    "fig.savefig(os.path.join('figures', 'random-trajectory-fit.png'), dpi=320)\n",
    "fig.savefig(os.path.join('figures', 'random-trajectory-fit.pdf'))"
   ]
  },
  {
   "cell_type": "code",
   "execution_count": null,
   "id": "bd499f98",
   "metadata": {},
   "outputs": [],
   "source": []
  }
 ],
 "metadata": {
  "kernelspec": {
   "display_name": "Python 3",
   "language": "python",
   "name": "python3"
  },
  "language_info": {
   "codemirror_mode": {
    "name": "ipython",
    "version": 3
   },
   "file_extension": ".py",
   "mimetype": "text/x-python",
   "name": "python",
   "nbconvert_exporter": "python",
   "pygments_lexer": "ipython3",
   "version": "3.6.8"
  }
 },
 "nbformat": 4,
 "nbformat_minor": 5
}
