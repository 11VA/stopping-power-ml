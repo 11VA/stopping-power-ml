{
 "cells": [
  {
   "cell_type": "markdown",
   "id": "4335a072",
   "metadata": {},
   "source": [
    "# Energy Loss of a Projectile\n",
    "Illustrate how muhc energy is lost by projectile over time"
   ]
  },
  {
   "cell_type": "code",
   "execution_count": 1,
   "id": "1f3a2dc9",
   "metadata": {},
   "outputs": [
    {
     "name": "stdout",
     "output_type": "stream",
     "text": [
      "The history saving thread hit an unexpected error (DatabaseError('database disk image is malformed',)).History will not be written to the database.\n"
     ]
    }
   ],
   "source": [
    "%matplotlib inline\n",
    "from matplotlib import pyplot as plt\n",
    "import pandas as pd"
   ]
  },
  {
   "cell_type": "markdown",
   "id": "9f6fdd9a",
   "metadata": {},
   "source": [
    "## Get the Energy Data\n",
    "We have a plot from multi-velocity experiments"
   ]
  },
  {
   "cell_type": "code",
   "execution_count": 2,
   "id": "83fbd1f6",
   "metadata": {},
   "outputs": [],
   "source": [
    "data = pd.read_csv('../multiple-velocities/stopping-distance/tddft-interpolated-100.csv')"
   ]
  },
  {
   "cell_type": "code",
   "execution_count": 3,
   "id": "202ab72f",
   "metadata": {},
   "outputs": [],
   "source": [
    "data['energy'] = data['velocity'] ** 2\n",
    "data['energy_lost'] = data['energy'].max() - data['energy']"
   ]
  },
  {
   "cell_type": "markdown",
   "id": "0e0fe324",
   "metadata": {},
   "source": [
    "## Plot it over time\n",
    "Give an idea about how much energy is lost, and illustrate how electronic stopping dominetes"
   ]
  },
  {
   "cell_type": "code",
   "execution_count": 4,
   "id": "c598b2d6",
   "metadata": {},
   "outputs": [
    {
     "data": {
      "image/png": "[encoded data removed]",
      "text/plain": [
       "<Figure size 93.6x57.6 with 1 Axes>"
      ]
     },
     "metadata": {
      "needs_background": "light"
     },
     "output_type": "display_data"
    }
   ],
   "source": [
    "fig, ax = plt.subplots(figsize=(1.3, 0.8))\n",
    "\n",
    "ax.plot(data['time'], data['energy'])\n",
    "\n",
    "ax.set_ylim([0, data['energy'].max()])\n",
    "ax.set_xlim([0, data['time'].max()])\n",
    "ax.fill_between([0, 35000], [data['energy'].max()] * 2, alpha=0.3, color='k', edgecolor='none')\n",
    "ax.set_yticklabels([])\n",
    "ax.set_xticklabels([])\n",
    "\n",
    "ax.set_ylabel('$E_{kin}$', fontsize=8)\n",
    "ax.set_xlabel('$t$', labelpad=0, fontsize=8)\n",
    "\n",
    "fig.tight_layout(pad=0)\n",
    "fig.savefig('figures/kinetic-energy.svg')"
   ]
  },
  {
   "cell_type": "code",
   "execution_count": null,
   "id": "7d439683",
   "metadata": {},
   "outputs": [],
   "source": []
  }
 ],
 "metadata": {
  "kernelspec": {
   "display_name": "Python 3",
   "language": "python",
   "name": "python3"
  },
  "language_info": {
   "codemirror_mode": {
    "name": "ipython",
    "version": 3
   },
   "file_extension": ".py",
   "mimetype": "text/x-python",
   "name": "python",
   "nbconvert_exporter": "python",
   "pygments_lexer": "ipython3",
   "version": "3.6.8"
  }
 },
 "nbformat": 4,
 "nbformat_minor": 5
}
