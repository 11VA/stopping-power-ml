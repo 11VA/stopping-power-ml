{
 "cells": [
  {
   "cell_type": "markdown",
   "id": "5603a627",
   "metadata": {},
   "source": [
    "# Explain Features with 2D Projections\n",
    "Part of our introduction figure is to explain how we extract information about a particle given its local environment. Lets do this with graphics about a particle moving thorugh a 2D lattice"
   ]
  },
  {
   "cell_type": "code",
   "execution_count": 1,
   "id": "edff1ab8",
   "metadata": {},
   "outputs": [
    {
     "name": "stdout",
     "output_type": "stream",
     "text": [
      "The history saving thread hit an unexpected error (DatabaseError('database disk image is malformed',)).History will not be written to the database.\n"
     ]
    }
   ],
   "source": [
    "%matplotlib inline\n",
    "from matplotlib import pyplot as plt\n",
    "from matplotlib import colors\n",
    "from scipy.stats import multivariate_normal\n",
    "from typing import Tuple\n",
    "import numpy as np"
   ]
  },
  {
   "cell_type": "markdown",
   "id": "3a371314",
   "metadata": {},
   "source": [
    "Configuration"
   ]
  },
  {
   "cell_type": "code",
   "execution_count": 2,
   "id": "6fcd06aa",
   "metadata": {},
   "outputs": [],
   "source": [
    "particle = np.array([1.0, 1.35])\n",
    "particle_x, particle_y = particle\n",
    "velocity = np.array([0.55, 0.03])\n",
    "velocity_orth = [-velocity[1], velocity[0]]\n",
    "lattice = [-0.6, 3.6]\n",
    "small_figsize = (0.9, 0.6)"
   ]
  },
  {
   "cell_type": "markdown",
   "id": "a1162e65",
   "metadata": {},
   "source": [
    "## Functions for Making a Background Lattice and Projectile\n",
    "Many of my figures are going to use a lattice of atoms with a projectile moving through it. \n",
    "Let's make a function that will allow us to change that easily"
   ]
  },
  {
   "cell_type": "code",
   "execution_count": 3,
   "id": "9fdd1b95",
   "metadata": {},
   "outputs": [],
   "source": [
    "def plot_lattice(ax: plt.Axes, unit_cell: Tuple[float, float], atom_color: str = 'darkslategray'):\n",
    "    \"\"\"Plot a lattice of atoms on the graph\n",
    "    \n",
    "    Args:\n",
    "        ax: Axes on which to plot\n",
    "        unit_cell: x- and y-spacing of atoms\n",
    "        atom_size: Width of an atom\n",
    "        atom_color: Color of the atom\n",
    "    \"\"\"    \n",
    "    # Compute the locations of each atom\n",
    "    end_x = np.ceil(ax.get_xlim()).max()\n",
    "    atom_pos_x = np.arange(0, end_x + 1, unit_cell[0])\n",
    "    \n",
    "    end_y = np.ceil(ax.get_ylim()).max()\n",
    "    atom_pos_y = np.arange(0, end_y + 1, unit_cell[1])\n",
    "    \n",
    "    # Place it on the axis\n",
    "    atom_pos_xx, atom_pos_yy = np.meshgrid(atom_pos_x, atom_pos_y)\n",
    "    col = ax.scatter(atom_pos_xx, atom_pos_yy, color=atom_color, s=75, edgecolor='none')\n",
    "    \n",
    "    # Make the atom coordinates\n",
    "    return np.stack((atom_pos_xx, atom_pos_yy), axis=2).reshape((-1, 2))"
   ]
  },
  {
   "cell_type": "markdown",
   "id": "403a22d8",
   "metadata": {},
   "source": [
    "# One showing the particle movement\n",
    "With the disturbed electron cloud"
   ]
  },
  {
   "cell_type": "code",
   "execution_count": 4,
   "id": "7eb0e9f6",
   "metadata": {},
   "outputs": [
    {
     "data": {
      "image/png": "[encoded data removed]",
      "text/plain": [
       "<Figure size 64.8x43.2 with 1 Axes>"
      ]
     },
     "metadata": {
      "needs_background": "light"
     },
     "output_type": "display_data"
    }
   ],
   "source": [
    "fig, ax = plt.subplots(figsize=small_figsize)\n",
    "\n",
    "ratio = fig.get_size_inches()[1] / fig.get_size_inches()[0]\n",
    "ax.set_xlim(*lattice)\n",
    "ax.set_ylim(*np.multiply(lattice, ratio))\n",
    "ax.axison = False\n",
    "\n",
    "# Make a smear along the direction of travel\n",
    "xx, yy = np.meshgrid(*[np.linspace(*x, 512) for x in [ax.get_xlim(), ax.get_ylim()]])\n",
    "coords = np.stack([xx, yy], axis=2)\n",
    "disp = coords - [particle_x, particle_y]\n",
    "\n",
    "disp_forward = np.dot(disp, velocity / np.linalg.norm(velocity))\n",
    "disp_forward[disp_forward > 0] *= 3\n",
    "disp_ortho = np.dot(disp, velocity_orth / np.linalg.norm(velocity))\n",
    "\n",
    "mv = np.exp(- (disp_forward ** 2 + (disp_ortho * 4) ** 2))\n",
    "ax.matshow(mv, vmin=0, vmax=1, cmap='Blues',\n",
    "          extent=ax.get_xlim() + ax.get_ylim(), origin='bottom', zorder=-10, alpha=0.9)\n",
    "\n",
    "# Put the lattice down\n",
    "plot_lattice(ax, unit_cell=[1.5, 1.])\n",
    "\n",
    "# Put the particle in it\n",
    "ax.scatter([particle_x], [particle_y], color='crimson', s=10)\n",
    "\n",
    "# Show the velocity\n",
    "ax.arrow(particle_x, particle_y, dx=velocity[0], dy=velocity[1],\n",
    "         lw=2, head_width=0.05, zorder=-1, color='k')\n",
    "ax.text(particle_x + velocity[0] * 1.4, particle_y + velocity[1] * 1.4,\n",
    "        '$v$', fontsize=10, va='center', fontweight='bold')\n",
    "\n",
    "ax.arrow(particle_x, particle_y, dx=-0.5 * velocity[0], dy=-0.5 * velocity[1],\n",
    "         lw=2, head_width=0.05, zorder=-1, color='gray')\n",
    "ax.text(particle_x - 1.4 * velocity[0], particle_y - 1.4 * velocity[1],\n",
    "        '$F$', fontsize=10, va='center', fontweight='bold')\n",
    "\n",
    "ax.set_position((0, 0, 1, 1))\n",
    "fig.savefig('figures/just-particle.svg', dpi=320, pad_inches=0)"
   ]
  },
  {
   "cell_type": "markdown",
   "id": "c5e6d078",
   "metadata": {},
   "source": [
    "## Make the Charge Density\n",
    "Show the local density at points along the path"
   ]
  },
  {
   "cell_type": "code",
   "execution_count": 5,
   "id": "02e7b8fc",
   "metadata": {},
   "outputs": [
    {
     "data": {
      "image/png": "[encoded data removed]",
      "text/plain": [
       "<Figure size 64.8x43.2 with 1 Axes>"
      ]
     },
     "metadata": {
      "needs_background": "light"
     },
     "output_type": "display_data"
    }
   ],
   "source": [
    "fig, ax = plt.subplots(figsize=small_figsize)\n",
    "\n",
    "ratio = fig.get_size_inches()[1] / fig.get_size_inches()[0]\n",
    "ax.set_xlim(*lattice)\n",
    "ax.set_ylim(*np.multiply(lattice, ratio))\n",
    "ax.axison = False\n",
    "\n",
    "# Put the lattice down\n",
    "atom_coords = plot_lattice(ax, unit_cell=[1.5, 1.])\n",
    "\n",
    "\n",
    "# Make a fake electron density\n",
    "xx, yy = np.meshgrid(*[np.linspace(*x, 512) for x in [ax.get_xlim(), ax.get_ylim()]])\n",
    "coords = np.stack([xx, yy], axis=2)  # Grid points\n",
    "\n",
    "dist_from_atoms = np.linalg.norm(coords[:, :, None, :] - atom_coords, axis=-1)\n",
    "rho = np.exp(- 3 * dist_from_atoms ** 2).sum(axis=-1) ** 2\n",
    "\n",
    "ax.matshow(rho, vmin=0, vmax=1.5, cmap='Greys',\n",
    "          extent=ax.get_xlim() + ax.get_ylim(), origin='bottom',\n",
    "           zorder=1, alpha=0.7)\n",
    "\n",
    "# Put the particle in it\n",
    "ax.scatter([particle_x], [particle_y], color='crimson', s=10, alpha=.7)\n",
    "\n",
    "# Plot a line with a few points along the axis\n",
    "t = [-2, -1, 0, 1]\n",
    "points = np.add([particle_x, particle_y], \n",
    "               np.multiply(np.array(velocity)[:, None], t).T)\n",
    "ax.plot(points[:, 0], points[:, 1], 'ko', lw=1, fillstyle='none')\n",
    "\n",
    "ax.plot(particle_x + np.multiply([-10, 10], velocity[0]),\n",
    "        particle_y + np.multiply([-10, 10], velocity[1]),\n",
    "        ':', zorder=-1, lw=1, color='gray')\n",
    "\n",
    "# ax.text(1.75, 1.1,\n",
    "#         '$\\\\rho(\\overrightarrow{R}(t))$', fontsize=12, \n",
    "#         va='center', ha='left', fontweight='bold')\n",
    "\n",
    "ax.set_position((0, 0, 1, 1))\n",
    "fig.savefig('figures/electron-density.svg', dpi=320, pad_inches=0)"
   ]
  },
  {
   "cell_type": "markdown",
   "id": "a7d6855c",
   "metadata": {},
   "source": [
    "## Make the Coulomb Repulsion\n",
    "Show force vectors"
   ]
  },
  {
   "cell_type": "code",
   "execution_count": 6,
   "id": "2204f640",
   "metadata": {},
   "outputs": [
    {
     "data": {
      "image/png": "[encoded data removed]",
      "text/plain": [
       "<Figure size 64.8x43.2 with 1 Axes>"
      ]
     },
     "metadata": {
      "needs_background": "light"
     },
     "output_type": "display_data"
    }
   ],
   "source": [
    "fig, ax = plt.subplots(figsize=small_figsize)\n",
    "\n",
    "ratio = fig.get_size_inches()[1] / fig.get_size_inches()[0]\n",
    "ax.set_xlim(*lattice)\n",
    "ax.set_ylim(*np.multiply(lattice, ratio))\n",
    "ax.axison = False\n",
    "\n",
    "# Put the lattice down\n",
    "atom_coords = plot_lattice(ax, unit_cell=[1.5, 1.])\n",
    "\n",
    "# Ge the direction and magnitude Coulomb force between the projectile and the atoms\n",
    "disp = np.subtract(atom_coords, (particle_x, particle_y))\n",
    "dist = np.linalg.norm(disp, axis=1)\n",
    "forces = np.divide(disp, dist[:, None] ** 3)\n",
    "forces = forces[np.argsort(np.linalg.norm(forces, axis=1))]\n",
    "\n",
    "# Plot the total force\n",
    "total_force = forces.sum(axis=0)\n",
    "total_force = np.multiply(np.dot(total_force, velocity[:, None]), velocity) / np.linalg.norm(velocity) ** 2\n",
    "total_force *= -0.2\n",
    "ax.arrow(particle_x, particle_y, dx=total_force[0], dy=total_force[1],\n",
    "         lw=2, head_width=0.05, color='k', zorder=2)\n",
    "\n",
    "for force in forces[-4:]:\n",
    "    force = -force * 0.2\n",
    "    ax.arrow(particle_x, particle_y, dx=force[0], dy=force[1],\n",
    "             lw=2, head_width=0.05, color='lightgray', zorder=0)  # Coulomb force\n",
    "    proj_force = np.multiply(np.dot(force, velocity), velocity) / np.linalg.norm(velocity) ** 2\n",
    "    ax.arrow(particle_x, particle_y, dx=proj_force[0], dy=proj_force[1],\n",
    "             lw=2, head_width=0.05, color='gray', zorder=1)  # Projected force\n",
    "    off_axis = force - proj_force\n",
    "    ax.plot([particle_x + proj_force[0], particle_x + force[0]],\n",
    "            [particle_y + proj_force[1], particle_y + force[1]],\n",
    "            lw=0.5, color='gray', zorder=1)\n",
    "\n",
    "# Put the particle and its path \n",
    "ax.scatter([particle_x], [particle_y], color='crimson', s=10, zorder=4)\n",
    "ax.plot(particle_x + np.multiply([-10, 10], velocity[0]),\n",
    "        particle_y + np.multiply([-10, 10], velocity[1]),\n",
    "        ':', zorder=-1, lw=1, color='gray')\n",
    "\n",
    "# Put an equation on here\n",
    "#ax.text(0.45, 0.4, '$\\\\left|F\\\\right|=\\\\sum_i\\\\frac{r_i\\\\cdot\\\\hat{v}}{\\\\left|r_i\\\\right|^2}$')\n",
    "\n",
    "\n",
    "ax.set_position((0, 0, 1, 1))\n",
    "fig.savefig('figures/coulomb-replusion.svg', dpi=320, pad_inches=0)"
   ]
  },
  {
   "cell_type": "markdown",
   "id": "3719ac67",
   "metadata": {},
   "source": [
    "## Make the Force\n",
    "Show force vectors"
   ]
  },
  {
   "cell_type": "code",
   "execution_count": 7,
   "id": "7c8b2ada",
   "metadata": {},
   "outputs": [
    {
     "data": {
      "image/png": "[encoded data removed]",
      "text/plain": [
       "<Figure size 64.8x43.2 with 1 Axes>"
      ]
     },
     "metadata": {
      "needs_background": "light"
     },
     "output_type": "display_data"
    }
   ],
   "source": [
    "fig, ax = plt.subplots(figsize=small_figsize)\n",
    "\n",
    "ratio = fig.get_size_inches()[1] / fig.get_size_inches()[0]\n",
    "ax.set_xlim(*lattice)\n",
    "ax.set_ylim(*np.multiply(lattice, ratio))\n",
    "ax.axison = False\n",
    "\n",
    "# Put the lattice down\n",
    "atom_coords = plot_lattice(ax, unit_cell=[1.5, 1.])\n",
    "\n",
    "# Get the direction and magnitude Coulomb force between the projectile and the atoms\n",
    "disps = np.subtract(atom_coords, (particle_x, particle_y))\n",
    "dists = np.linalg.norm(disps, axis=1)\n",
    "atom_inds = np.argsort(dists)  # Nearest to farthest\n",
    "proj = np.dot(disps, velocity) / np.linalg.norm(velocity)\n",
    "\n",
    "# Place a line from the atom to the trajectory\n",
    "for i, (eta, color) in enumerate(zip((1, 2, 16), ['darkmagenta', 'cyan', 'gold'])):\n",
    "    i -= 1\n",
    "    for ind in atom_inds[:4]:\n",
    "        # Get the direction vector\n",
    "        disp = disps[ind, :]\n",
    "        coords = atom_coords[ind]\n",
    "        atom_to_traj = np.add((particle_x, particle_y), np.multiply(np.dot(disp, velocity), velocity) / np.linalg.norm(velocity) ** 2)\n",
    "        \n",
    "        # We will shift it by a certain amount for difference etas\n",
    "        shift = np.multiply(0.03 * i, velocity) / np.linalg.norm(velocity)\n",
    "        \n",
    "        # Make the alpha based on the distance\n",
    "        alpha = np.exp(-1 * (dists[ind] / eta) ** 2)\n",
    "        ax.plot(*zip(coords + shift, atom_to_traj + shift), color=color, alpha=alpha)\n",
    "        \n",
    "    # Get a total contribution\n",
    "    value = np.power((np.exp(-1 * (dists / eta) ** 2) * proj).sum(), 1./4)\n",
    "    \n",
    "    shift = np.multiply(0.03 * i, velocity_orth) / np.linalg.norm(velocity)\n",
    "    direction = np.multiply(value, velocity)\n",
    "    ax.arrow(*(particle + shift), *direction, width=0.05,\n",
    "            lw=0.3, facecolor=color, zorder=2)\n",
    "    \n",
    "# Plot a density around the projectile\n",
    "xx, yy = np.meshgrid(*[np.linspace(*x, 512) for x in [ax.get_xlim(), ax.get_ylim()]])\n",
    "coords = np.stack([xx, yy], axis=2)  # Grid points\n",
    "\n",
    "\n",
    "# Put the particle and its path \n",
    "ax.scatter([particle_x], [particle_y], color='crimson', s=10, zorder=2)\n",
    "ax.plot(particle_x + np.multiply([-10, 10], velocity[0]),\n",
    "        particle_y + np.multiply([-10, 10], velocity[1]),\n",
    "        ':', zorder=-1, lw=1, color='gray')\n",
    "\n",
    "ax.set_position((0, 0, 1, 1))\n",
    "\n",
    "fig.savefig('figures/atomic-enviroment-multivector.svg', dpi=320, pad_inches=0)"
   ]
  },
  {
   "cell_type": "code",
   "execution_count": 8,
   "id": "861f3133",
   "metadata": {},
   "outputs": [
    {
     "data": {
      "image/png": "[encoded data removed]",
      "text/plain": [
       "<Figure size 64.8x43.2 with 1 Axes>"
      ]
     },
     "metadata": {
      "needs_background": "light"
     },
     "output_type": "display_data"
    }
   ],
   "source": [
    "fig, ax = plt.subplots(figsize=small_figsize)\n",
    "\n",
    "ratio = fig.get_size_inches()[1] / fig.get_size_inches()[0]\n",
    "ax.set_xlim(*lattice)\n",
    "ax.set_ylim(*np.multiply(lattice, ratio))\n",
    "ax.axison = False\n",
    "\n",
    "# Put the lattice down\n",
    "atom_coords = plot_lattice(ax, unit_cell=[1.5, 1.])\n",
    "\n",
    "# Get the direction and magnitude Coulomb force between the projectile and the atoms\n",
    "disps = np.subtract(atom_coords, (particle_x, particle_y))\n",
    "dists = np.linalg.norm(disps, axis=1)\n",
    "atom_inds = np.argsort(dists)  # Nearest to farthest\n",
    "proj = np.dot(disps, velocity) / np.linalg.norm(velocity)\n",
    "\n",
    "# Place a line from the atom to the trajectory\n",
    "eta = 1\n",
    "color = 'black'\n",
    "for ind in atom_inds[:4]:\n",
    "    # Get the direction vector\n",
    "    disp = disps[ind, :]\n",
    "    coords = atom_coords[ind]\n",
    "    atom_to_traj = np.add((particle_x, particle_y), np.multiply(np.dot(disp, velocity), velocity) / np.linalg.norm(velocity) ** 2)\n",
    "\n",
    "    # Make the alpha based on the distance\n",
    "    alpha = np.exp(-1 * (dists[ind] / eta) ** 2)\n",
    "    ax.plot(*zip(coords, atom_to_traj), color=color, alpha=alpha)\n",
    "    \n",
    "# Plot the background\n",
    "xx, yy = np.meshgrid(*[np.linspace(*x, 512) for x in [ax.get_xlim(), ax.get_ylim()]])\n",
    "coords = np.stack([xx, yy], axis=2)  # Grid points\n",
    "\n",
    "zz = np.exp(-(np.linalg.norm(coords - particle, axis=2) / eta) ** 2)\n",
    "ax.matshow(zz, vmin=0, vmax=1.5, cmap='Greys',\n",
    "          extent=ax.get_xlim() + ax.get_ylim(), origin='bottom',\n",
    "           zorder=-1, alpha=0.7)\n",
    "\n",
    "        \n",
    "# Put the particle and its path \n",
    "ax.scatter([particle_x], [particle_y], color='crimson', s=10, zorder=2)\n",
    "ax.plot(particle_x + np.multiply([-10, 10], velocity[0]),\n",
    "        particle_y + np.multiply([-10, 10], velocity[1]),\n",
    "        ':', zorder=0, lw=1, color='gray')\n",
    "\n",
    "ax.set_position((0, 0, 1, 1))\n",
    "\n",
    "fig.savefig('figures/atomic-enviroment-density.svg', dpi=320, pad_inches=0)"
   ]
  },
  {
   "cell_type": "code",
   "execution_count": null,
   "id": "983c4bf0",
   "metadata": {},
   "outputs": [],
   "source": []
  }
 ],
 "metadata": {
  "kernelspec": {
   "display_name": "Python 3",
   "language": "python",
   "name": "python3"
  },
  "language_info": {
   "codemirror_mode": {
    "name": "ipython",
    "version": 3
   },
   "file_extension": ".py",
   "mimetype": "text/x-python",
   "name": "python",
   "nbconvert_exporter": "python",
   "pygments_lexer": "ipython3",
   "version": "3.6.8"
  }
 },
 "nbformat": 4,
 "nbformat_minor": 5
}
