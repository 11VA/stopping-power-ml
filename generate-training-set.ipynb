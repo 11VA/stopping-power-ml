{
 "cells": [
  {
   "cell_type": "markdown",
   "metadata": {
    "deletable": true,
    "editable": true
   },
   "source": [
    "# Example ML Model\n",
    "First attempt at a ML model to predict the stopping power on a particle using the ground-state DFT formation enthalpy"
   ]
  },
  {
   "cell_type": "code",
   "execution_count": 21,
   "metadata": {
    "collapsed": false,
    "deletable": true,
    "editable": true
   },
   "outputs": [],
   "source": [
    "%matplotlib inline\n",
    "from matplotlib import pyplot as plt\n",
    "import os\n",
    "import pandas as pd\n",
    "import numpy as np\n",
    "from glob import glob\n",
    "from ase.io import qbox\n",
    "from sklearn.linear_model import LinearRegression\n",
    "from sklearn.kernel_ridge import KernelRidge\n",
    "from sklearn.model_selection import LeavePGroupsOut\n",
    "from stopping_power import get_charge_density_interpolator, compute_ewald_force\n",
    "from scipy import stats\n",
    "from tqdm import tqdm_notebook as tqdm\n",
    "from pymatgen.io.ase import AseAtomsAdaptor\n",
    "from multiprocessing import Pool\n",
    "from matminer.featurizers.site import AGNIFingerprints"
   ]
  },
  {
   "cell_type": "markdown",
   "metadata": {
    "deletable": true,
    "editable": true
   },
   "source": [
    "## Load in Example Dataset\n",
    "Parse a QBox output, get the particle position and force acting on it for each frame"
   ]
  },
  {
   "cell_type": "code",
   "execution_count": 3,
   "metadata": {
    "collapsed": true,
    "deletable": true,
    "editable": true
   },
   "outputs": [],
   "source": [
    "def project_force(force, velocity):\n",
    "    \"\"\"Get the projection of the force acting against the direction of travel\n",
    "    \n",
    "    :param force: ndarray, force acting on particle\n",
    "    :param velocity: ndarray, velocity of particle\n",
    "    :return: float, magnitude of force in direction of travel\"\"\"\n",
    "    \n",
    "    return -1 * np.dot(force, velocity) / np.linalg.norm(velocity)"
   ]
  },
  {
   "cell_type": "code",
   "execution_count": 4,
   "metadata": {
    "collapsed": true,
    "deletable": true,
    "editable": true
   },
   "outputs": [],
   "source": [
    "def load_qbox_data(path):\n",
    "    \"\"\"Load in QBox data, compute forces\n",
    "    \n",
    "    :param path: str, path to output file\n",
    "    :return: DataFrame\"\"\"\n",
    "    \n",
    "    qbox_data = qbox.read_out(path, slice(None))\n",
    "    return pd.DataFrame({\n",
    "        'atoms': qbox_data,\n",
    "        'frame_id': list(range(len(qbox_data))),\n",
    "        'force': [project_force(frame.get_forces()[-1], frame.get_velocities()[-1]) for frame in qbox_data],\n",
    "        'position': [frame.get_positions()[-1] for frame in qbox_data],\n",
    "        'velocity': [frame.get_velocities()[-1] for frame in qbox_data],\n",
    "        'energy': [frame.get_potential_energy() for frame in qbox_data],\n",
    "        'file_id': [int(path[:-4].split(\"_\")[-1]),]*len(qbox_data)\n",
    "    })"
   ]
  },
  {
   "cell_type": "markdown",
   "metadata": {
    "deletable": true,
    "editable": true
   },
   "source": [
    "Read all the files"
   ]
  },
  {
   "cell_type": "code",
   "execution_count": 5,
   "metadata": {
    "collapsed": false,
    "deletable": true,
    "editable": true
   },
   "outputs": [
    {
     "data": {
      "application/vnd.jupyter.widget-view+json": {
       "model_id": "ce212298dc074092b1f3b308847711bd"
      }
     },
     "metadata": {},
     "output_type": "display_data"
    },
    {
     "name": "stdout",
     "output_type": "stream",
     "text": [
      "\n",
      "Read in 9800 training points\n"
     ]
    }
   ],
   "source": [
    "data = []\n",
    "for file in tqdm(glob('256_Al/kpg*.out')):\n",
    "    try:\n",
    "        frame = load_qbox_data(file)\n",
    "    except Exception as exc:\n",
    "        print(exc)\n",
    "        continue\n",
    "    frame['file'] = file\n",
    "    data.append(frame)\n",
    "data = pd.concat(data)\n",
    "print('Read in %d training points'%len(data))"
   ]
  },
  {
   "cell_type": "markdown",
   "metadata": {
    "deletable": true,
    "editable": true
   },
   "source": [
    "Compute the timestep"
   ]
  },
  {
   "cell_type": "code",
   "execution_count": 6,
   "metadata": {
    "collapsed": true,
    "deletable": true,
    "editable": true
   },
   "outputs": [],
   "source": [
    "data.sort_values(['file_id', 'frame_id'], ascending=True, inplace=True)"
   ]
  },
  {
   "cell_type": "code",
   "execution_count": 7,
   "metadata": {
    "collapsed": true,
    "deletable": true,
    "editable": true
   },
   "outputs": [],
   "source": [
    "data['timestep'] = list(range(len(data)))"
   ]
  },
  {
   "cell_type": "code",
   "execution_count": 8,
   "metadata": {
    "collapsed": false,
    "deletable": true,
    "editable": true
   },
   "outputs": [],
   "source": [
    "data.set_index('timestep', inplace=True, drop=False)"
   ]
  },
  {
   "cell_type": "markdown",
   "metadata": {
    "deletable": true,
    "editable": true
   },
   "source": [
    "Compute the displacement"
   ]
  },
  {
   "cell_type": "code",
   "execution_count": 9,
   "metadata": {
    "collapsed": false,
    "deletable": true,
    "editable": true
   },
   "outputs": [],
   "source": [
    "data['displacement'] = (data['position'] - data['position'][0]).apply(np.linalg.norm)"
   ]
  },
  {
   "cell_type": "markdown",
   "metadata": {
    "deletable": true,
    "editable": true
   },
   "source": [
    "## Plot it\n",
    "Make sure nothing looks stupid wrong, and that it matches with up Andre's paper."
   ]
  },
  {
   "cell_type": "code",
   "execution_count": 10,
   "metadata": {
    "collapsed": false,
    "deletable": true,
    "editable": true
   },
   "outputs": [
    {
     "data": {
      "text/plain": [
       "<matplotlib.text.Text at 0x1a7c11148d0>"
      ]
     },
     "execution_count": 10,
     "metadata": {},
     "output_type": "execute_result"
    },
    {
     "data": {
      "image/png": "[encoded data removed]",
      "text/plain": [
       "<matplotlib.figure.Figure at 0x1a7c21fae48>"
      ]
     },
     "metadata": {},
     "output_type": "display_data"
    }
   ],
   "source": [
    "fig, ax = plt.subplots()\n",
    "\n",
    "ax.plot(data['displacement'], data['force'])\n",
    "\n",
    "ax.set_xlabel('Timestep')\n",
    "ax.set_ylabel('Force')"
   ]
  },
  {
   "cell_type": "markdown",
   "metadata": {
    "deletable": true,
    "editable": true
   },
   "source": [
    "## Determine the Start Point\n",
    "These simulations have an initial transient, which should not be used to fit the model"
   ]
  },
  {
   "cell_type": "markdown",
   "metadata": {
    "deletable": true,
    "editable": true
   },
   "source": [
    "Plot the energy. Note the peak at the beginning. This peak is due to adding the particle"
   ]
  },
  {
   "cell_type": "code",
   "execution_count": 11,
   "metadata": {
    "collapsed": false,
    "deletable": true,
    "editable": true
   },
   "outputs": [
    {
     "data": {
      "text/plain": [
       "<matplotlib.text.Text at 0x1a7c3ad5a58>"
      ]
     },
     "execution_count": 11,
     "metadata": {},
     "output_type": "execute_result"
    },
    {
     "data": {
      "image/png": "[encoded data removed]",
      "text/plain": [
       "<matplotlib.figure.Figure at 0x1a7c21fae10>"
      ]
     },
     "metadata": {},
     "output_type": "display_data"
    }
   ],
   "source": [
    "fig, ax = plt.subplots()\n",
    "\n",
    "ax.plot(data['timestep'], data['energy'])\n",
    "\n",
    "ax.set_xlabel('Timestep')\n",
    "ax.set_ylabel('Energy ($E_H$)')"
   ]
  },
  {
   "cell_type": "markdown",
   "metadata": {
    "deletable": true,
    "editable": true
   },
   "source": [
    "Plot the force over the beginning. Figure out when the first peak goes away"
   ]
  },
  {
   "cell_type": "code",
   "execution_count": 12,
   "metadata": {
    "collapsed": false,
    "deletable": true,
    "editable": true
   },
   "outputs": [
    {
     "data": {
      "text/plain": [
       "<matplotlib.text.Text at 0x1a7c731ec88>"
      ]
     },
     "execution_count": 12,
     "metadata": {},
     "output_type": "execute_result"
    },
    {
     "data": {
      "image/png": "[encoded data removed]",
      "text/plain": [
       "<matplotlib.figure.Figure at 0x1a7c21fa7b8>"
      ]
     },
     "metadata": {},
     "output_type": "display_data"
    }
   ],
   "source": [
    "fig, ax = plt.subplots()\n",
    "\n",
    "ax.plot(data['displacement'][:1000], data['force'][:1000])\n",
    "\n",
    "ax.set_xlabel('Timestep')\n",
    "ax.set_ylabel('Force')"
   ]
  },
  {
   "cell_type": "markdown",
   "metadata": {
    "deletable": true,
    "editable": true
   },
   "source": [
    "Remote the transient (greater than 5 should be good)"
   ]
  },
  {
   "cell_type": "code",
   "execution_count": 13,
   "metadata": {
    "collapsed": true,
    "deletable": true,
    "editable": true
   },
   "outputs": [],
   "source": [
    "data.query('displacement >= 5', inplace=True)"
   ]
  },
  {
   "cell_type": "markdown",
   "metadata": {
    "deletable": true,
    "editable": true
   },
   "source": [
    "## Compute the Density \n",
    "Get it both at the current frame and the previous"
   ]
  },
  {
   "cell_type": "code",
   "execution_count": 14,
   "metadata": {
    "collapsed": false,
    "deletable": true,
    "editable": true
   },
   "outputs": [],
   "source": [
    "charge, cell = get_charge_density_interpolator(os.path.join('256_Al', 'Al_semi_core_gs.cube'))"
   ]
  },
  {
   "cell_type": "code",
   "execution_count": 15,
   "metadata": {
    "collapsed": false,
    "deletable": true,
    "editable": true
   },
   "outputs": [],
   "source": [
    "def get_density(position, velocity, time=0):\n",
    "    \"\"\"Get the density as a function of particle position and time\n",
    "    \n",
    "    :param position: Series, current particle position\n",
    "    :param velocity: Series, particle velocity\n",
    "    :param time: float, time (relative to present)\n",
    "    :return: charge density\"\"\"\n",
    "    \n",
    "    # Compute the position\n",
    "    cur_pos = np.array(position.tolist()) + time * np.array(velocity.tolist())\n",
    "    \n",
    "    # Convert it to reduced coordinates\n",
    "    cur_pos = np.linalg.solve(cell, cur_pos.T) % 1\n",
    "    return charge(cur_pos.T)"
   ]
  },
  {
   "cell_type": "markdown",
   "metadata": {
    "deletable": true,
    "editable": true
   },
   "source": [
    "Compute the inputs: charge density at different times"
   ]
  },
  {
   "cell_type": "code",
   "execution_count": 16,
   "metadata": {
    "collapsed": false,
    "deletable": true,
    "editable": true
   },
   "outputs": [
    {
     "data": {
      "application/vnd.jupyter.widget-view+json": {
       "model_id": "dcb19821fc8b4c3ea7b65f5f6d895e3d"
      }
     },
     "metadata": {},
     "output_type": "display_data"
    },
    {
     "name": "stdout",
     "output_type": "stream",
     "text": [
      "\n"
     ]
    }
   ],
   "source": [
    "for t in tqdm(np.linspace(1, -5, 7)):\n",
    "    data['charge_t=%.2f'%t] = get_density(data['position'], data['velocity'], t)"
   ]
  },
  {
   "cell_type": "code",
   "execution_count": 17,
   "metadata": {
    "collapsed": true,
    "deletable": true,
    "editable": true
   },
   "outputs": [],
   "source": [
    "X_cols = [x for x in data.columns if x.startswith('charge')]\n",
    "y_col = 'force'"
   ]
  },
  {
   "cell_type": "markdown",
   "metadata": {
    "deletable": true,
    "editable": true
   },
   "source": [
    "Plot charge as a function of time"
   ]
  },
  {
   "cell_type": "code",
   "execution_count": 18,
   "metadata": {
    "collapsed": false,
    "deletable": true,
    "editable": true
   },
   "outputs": [
    {
     "data": {
      "text/plain": [
       "<matplotlib.text.Text at 0x1a7cd0ef668>"
      ]
     },
     "execution_count": 18,
     "metadata": {},
     "output_type": "execute_result"
    },
    {
     "data": {
      "image/png": "[encoded data removed]",
      "text/plain": [
       "<matplotlib.figure.Figure at 0x1a7c80ba7f0>"
      ]
     },
     "metadata": {},
     "output_type": "display_data"
    }
   ],
   "source": [
    "fig, ax = plt.subplots()\n",
    "\n",
    "for col in X_cols:\n",
    "    time = col.split(\"_\")[1]\n",
    "    ax.plot(data['timestep'], data[col], label=time)\n",
    "\n",
    "ax.legend()\n",
    "    \n",
    "ax.set_xlabel('Timestep')\n",
    "ax.set_ylabel('Charge')"
   ]
  },
  {
   "cell_type": "markdown",
   "metadata": {
    "deletable": true,
    "editable": true
   },
   "source": [
    "Plot the Charge densities"
   ]
  },
  {
   "cell_type": "code",
   "execution_count": 19,
   "metadata": {
    "collapsed": false,
    "deletable": true,
    "editable": true
   },
   "outputs": [
    {
     "data": {
      "image/png": "[encoded data removed]",
      "text/plain": [
       "<matplotlib.figure.Figure at 0x1a7bf7c69b0>"
      ]
     },
     "metadata": {},
     "output_type": "display_data"
    }
   ],
   "source": [
    "fig, axs = plt.subplots(1,2)\n",
    "\n",
    "for col in X_cols:\n",
    "    time = col.split(\"_\")[1]\n",
    "    for ax in axs:\n",
    "        ax.scatter(data[col], data['force'], label=time)\n",
    "\n",
    "for ax in axs:\n",
    "    ax.legend()\n",
    "\n",
    "axs[0].set_ylim([-1, 1])\n",
    "    \n",
    "for ax in axs:\n",
    "    ax.set_xlabel('Charge')\n",
    "    ax.set_ylabel('Force')\n",
    "    \n",
    "fig.set_size_inches(8,3)\n",
    "fig.tight_layout()"
   ]
  },
  {
   "cell_type": "markdown",
   "metadata": {
    "deletable": true,
    "editable": true
   },
   "source": [
    "## Compute AGNI Fingerprints\n",
    "Use these to describe the local enviroment around a particle"
   ]
  },
  {
   "cell_type": "code",
   "execution_count": 22,
   "metadata": {
    "collapsed": false,
    "deletable": true,
    "editable": true
   },
   "outputs": [],
   "source": [
    "agni = AGNIFingerprints(directions=['x','y','z'])"
   ]
  },
  {
   "cell_type": "code",
   "execution_count": 23,
   "metadata": {
    "collapsed": false,
    "deletable": true,
    "editable": true
   },
   "outputs": [],
   "source": [
    "def get_agni_fingerprints(atoms):\n",
    "    \"\"\"Get the AGNI fingerprints projected in the direction of travel\n",
    "    \n",
    "    :param atoms: ase.Atoms, structure\n",
    "    :return: ndarray, fingerprints projected in the direction of travel\"\"\"\n",
    "    \n",
    "    # Compute the AGNI fingerprints [i,j] where i is fingerprint, and j is direction\n",
    "    fingerprints = agni.featurize(AseAtomsAdaptor.get_structure(atoms), -1).reshape((3, -1)).T\n",
    "    \n",
    "    # Project into direction of travel\n",
    "    my_velocity = atoms.get_velocities()[-1,:]\n",
    "    fingerprints = np.dot(\n",
    "        fingerprints,\n",
    "        my_velocity\n",
    "    ) / np.linalg.norm(my_velocity)\n",
    "    \n",
    "    return fingerprints\n",
    "get_agni_fingerprints(data['atoms'].iloc[0]);"
   ]
  },
  {
   "cell_type": "code",
   "execution_count": 24,
   "metadata": {
    "collapsed": true,
    "deletable": true,
    "editable": true
   },
   "outputs": [],
   "source": [
    "labels = ['AGNI_eta=%.2e'%x for x in agni.etas]"
   ]
  },
  {
   "cell_type": "code",
   "execution_count": 25,
   "metadata": {
    "collapsed": false,
    "deletable": true,
    "editable": true
   },
   "outputs": [
    {
     "data": {
      "application/vnd.jupyter.widget-view+json": {
       "model_id": "3165ea6b6b5c458d8d9f4a0b7d12425f"
      }
     },
     "metadata": {},
     "output_type": "display_data"
    },
    {
     "name": "stdout",
     "output_type": "stream",
     "text": [
      "\n"
     ]
    }
   ],
   "source": [
    "data = data.assign(**dict(zip(labels,zip(*[get_agni_fingerprints(x) for x in tqdm(data['atoms'])]))))"
   ]
  },
  {
   "cell_type": "markdown",
   "metadata": {
    "deletable": true,
    "editable": true
   },
   "source": [
    "## Compute Ewald Forces\n",
    "Get the nucleus-nucleus repulsion force acting on the particle in the direction of travel"
   ]
  },
  {
   "cell_type": "code",
   "execution_count": 26,
   "metadata": {
    "collapsed": false,
    "deletable": true,
    "editable": true
   },
   "outputs": [
    {
     "data": {
      "application/vnd.jupyter.widget-view+json": {
       "model_id": "abcecaaf34ed4a2d85192457f0125d11"
      }
     },
     "metadata": {},
     "output_type": "display_data"
    },
    {
     "name": "stdout",
     "output_type": "stream",
     "text": [
      "\n"
     ]
    }
   ],
   "source": [
    "data['ewald_force'] = [compute_ewald_force(x, acc=2) for x in tqdm(data['atoms'])]"
   ]
  },
  {
   "cell_type": "markdown",
   "metadata": {
    "deletable": true,
    "editable": true
   },
   "source": [
    "Plot the Coulomb repulsion against observed force"
   ]
  },
  {
   "cell_type": "code",
   "execution_count": 27,
   "metadata": {
    "collapsed": false,
    "deletable": true,
    "editable": true
   },
   "outputs": [
    {
     "data": {
      "text/plain": [
       "<matplotlib.text.Text at 0x1a7dab071d0>"
      ]
     },
     "execution_count": 27,
     "metadata": {},
     "output_type": "execute_result"
    },
    {
     "data": {
      "image/png": "[encoded data removed]",
      "text/plain": [
       "<matplotlib.figure.Figure at 0x1a7c6b26080>"
      ]
     },
     "metadata": {},
     "output_type": "display_data"
    }
   ],
   "source": [
    "fig, ax = plt.subplots()\n",
    "\n",
    "ax.scatter(data['ewald_force'], data['force'])\n",
    "\n",
    "ax.set_xlabel('Nuclei Repulsion Force')\n",
    "ax.set_ylabel('Drag Force')"
   ]
  },
  {
   "cell_type": "markdown",
   "metadata": {
    "deletable": true,
    "editable": true
   },
   "source": [
    "Compute scaling between nuclei repulsion force and the \"drag\" force, which could account for the effect of screening\n",
    "Only consdier this at large forces (e.g., where the nucleus-nuclues repulsion dominants)"
   ]
  },
  {
   "cell_type": "code",
   "execution_count": 28,
   "metadata": {
    "collapsed": false,
    "deletable": true,
    "editable": true
   },
   "outputs": [],
   "source": [
    "force_cutoff = np.percentile(data['ewald_force'], 99)"
   ]
  },
  {
   "cell_type": "code",
   "execution_count": 29,
   "metadata": {
    "collapsed": false,
    "deletable": true,
    "editable": true
   },
   "outputs": [
    {
     "name": "stdout",
     "output_type": "stream",
     "text": [
      "Scale factor: 0.405559823865\n"
     ]
    }
   ],
   "source": [
    "fit_data = data.query('ewald_force > %f'%force_cutoff)\n",
    "force_scaling = LinearRegression(fit_intercept=False).fit(fit_data['ewald_force'].values[:,np.newaxis],\n",
    "                                                          fit_data['force']).coef_[0]\n",
    "data['ewald_scaled'] = force_scaling * data['ewald_force']\n",
    "del fit_data\n",
    "print('Scale factor:', force_scaling)"
   ]
  },
  {
   "cell_type": "code",
   "execution_count": 30,
   "metadata": {
    "collapsed": false,
    "deletable": true,
    "editable": true
   },
   "outputs": [
    {
     "data": {
      "text/plain": [
       "<matplotlib.text.Text at 0x1a7c66ec898>"
      ]
     },
     "execution_count": 30,
     "metadata": {},
     "output_type": "execute_result"
    },
    {
     "data": {
      "image/png": "[encoded data removed]",
      "text/plain": [
       "<matplotlib.figure.Figure at 0x1a7ca826cf8>"
      ]
     },
     "metadata": {},
     "output_type": "display_data"
    }
   ],
   "source": [
    "fig, ax = plt.subplots()\n",
    "\n",
    "ax.scatter(data['ewald_scaled'], data['force'])\n",
    "\n",
    "ax.set_xlim(ax.get_xlim())\n",
    "ax.set_ylim(ax.get_ylim())\n",
    "\n",
    "ax.plot(ax.get_xlim(), ax.get_ylim(), 'k--')\n",
    "\n",
    "ax.set_xlabel('Nuclei Repulsion Force, Scaled')\n",
    "ax.set_ylabel('Drag Force ($E_H / a_H$)')"
   ]
  },
  {
   "cell_type": "markdown",
   "metadata": {
    "deletable": true,
    "editable": true
   },
   "source": [
    "## Compute the Drag Force without the Ion-Ion Repulsion\n",
    "This might be easier to fit to"
   ]
  },
  {
   "cell_type": "code",
   "execution_count": 31,
   "metadata": {
    "collapsed": true,
    "deletable": true,
    "editable": true
   },
   "outputs": [],
   "source": [
    "data['force_noion'] = data['force'] - data['ewald_scaled']"
   ]
  },
  {
   "cell_type": "code",
   "execution_count": 32,
   "metadata": {
    "collapsed": false,
    "deletable": true,
    "editable": true
   },
   "outputs": [
    {
     "data": {
      "text/plain": [
       "<matplotlib.text.Text at 0x1a7cd3c45f8>"
      ]
     },
     "execution_count": 32,
     "metadata": {},
     "output_type": "execute_result"
    },
    {
     "data": {
      "image/png": "[encoded data removed]",
      "text/plain": [
       "<matplotlib.figure.Figure at 0x1a7cdff41d0>"
      ]
     },
     "metadata": {},
     "output_type": "display_data"
    }
   ],
   "source": [
    "fig, ax = plt.subplots()\n",
    "\n",
    "ax.plot(data['timestep'], data['force_noion'])\n",
    "\n",
    "ax.set_xlabel('Nuclei Repulsion Force')\n",
    "ax.set_ylabel('Drag Force')"
   ]
  },
  {
   "cell_type": "markdown",
   "metadata": {
    "deletable": true,
    "editable": true
   },
   "source": [
    "## Save everything to disk\n",
    "Except `Atoms` objects"
   ]
  },
  {
   "cell_type": "code",
   "execution_count": 33,
   "metadata": {
    "collapsed": false,
    "deletable": true,
    "editable": true
   },
   "outputs": [],
   "source": [
    "data.drop('atoms', axis='columns').to_csv('training_set.csv', index=False)"
   ]
  },
  {
   "cell_type": "code",
   "execution_count": null,
   "metadata": {
    "collapsed": true,
    "deletable": true,
    "editable": true
   },
   "outputs": [],
   "source": []
  }
 ],
 "metadata": {
  "kernelspec": {
   "display_name": "Python 3",
   "language": "python",
   "name": "python3"
  },
  "language_info": {
   "codemirror_mode": {
    "name": "ipython",
    "version": 3
   },
   "file_extension": ".py",
   "mimetype": "text/x-python",
   "name": "python",
   "nbconvert_exporter": "python",
   "pygments_lexer": "ipython3",
   "version": "3.6.0"
  }
 },
 "nbformat": 4,
 "nbformat_minor": 2
}
