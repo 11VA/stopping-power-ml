{
 "cells": [
  {
   "cell_type": "code",
   "execution_count": 42,
   "metadata": {},
   "outputs": [],
   "source": [
    "import pandas as pd\n",
    "import numpy as np\n",
    "import seaborn as sns\n",
    "import matplotlib.pyplot as plt\n",
    "from sklearn.metrics import mean_absolute_error\n",
    "\n",
    "\n",
    "\n",
    "from keras.layers import Dense, SimpleRNN\n",
    "from keras.models import Sequential\n",
    "\n",
    "sns.set_style(\"white\")\n",
    "%matplotlib inline"
   ]
  },
  {
   "cell_type": "markdown",
   "metadata": {},
   "source": [
    "# Read Data"
   ]
  },
  {
   "cell_type": "code",
   "execution_count": 43,
   "metadata": {},
   "outputs": [],
   "source": [
    "data = pd.read_csv('training_set.csv')\n",
    "charge_attrs = [x for x in data.columns if x.startswith('density')]\n",
    "agni_attrs = [x for x in data.columns if x.startswith('AGNI')]\n",
    "ewald_attrs = ['ion-ion repulsion',]\n",
    "\n",
    "y_col = 'force'\n",
    "X_cols = charge_attrs + agni_attrs + ewald_attrs\n",
    "X = data[X_cols].values\n",
    "y = data[y_col].values"
   ]
  },
  {
   "cell_type": "markdown",
   "metadata": {},
   "source": [
    "# Base Dense Multilayer NN\n",
    "Note: Worth running this more epochs on GPU"
   ]
  },
  {
   "cell_type": "code",
   "execution_count": 70,
   "metadata": {},
   "outputs": [],
   "source": [
    "def time_split(X, y, split):\n",
    "    X_train = X[0:split]\n",
    "    X_test = X[split:]\n",
    "\n",
    "    y_train = y[0:split]\n",
    "    y_test = y[split:]\n",
    "    \n",
    "    return X_train, X_test, y_train, y_test\n",
    "\n",
    "def composite_predict(models, X):\n",
    "    preds = []\n",
    "    for i in range(0, len(models)):\n",
    "         preds.append(models[i].predict(X))\n",
    "    composite_pred = np.mean(preds, axis=0) \n",
    "    return composite_pred\n",
    "\n",
    "def keras_rnn_reshape(data, n_pre, n_post):\n",
    "    dX, dY = [], []\n",
    "    for i in range(len(data)-n_pre-n_post):\n",
    "        dX.append(data[i:i+n_pre])\n",
    "        dY.append(data[i+n_pre:i+n_pre+n_post])\n",
    "        \n",
    "    dataX = np.array(dX)\n",
    "    dataY = np.array(dY)\n",
    "    return dataX, dataY"
   ]
  },
  {
   "cell_type": "markdown",
   "metadata": {},
   "source": [
    "## Train-test split data"
   ]
  },
  {
   "cell_type": "code",
   "execution_count": 45,
   "metadata": {},
   "outputs": [],
   "source": [
    "split = 4725\n",
    "X_train, X_test, y_train, y_test = time_split(X,y, split)"
   ]
  },
  {
   "cell_type": "code",
   "execution_count": 17,
   "metadata": {},
   "outputs": [
    {
     "name": "stdout",
     "output_type": "stream",
     "text": [
      "Epoch 1/50\n",
      "4725/4725 [==============================] - 0s - loss: 1.5018 - mean_absolute_error: 1.5018     \n",
      "Epoch 2/50\n",
      "4725/4725 [==============================] - 0s - loss: 0.9932 - mean_absolute_error: 0.9932     \n",
      "Epoch 3/50\n",
      "4725/4725 [==============================] - 0s - loss: 0.5080 - mean_absolute_error: 0.5080     \n",
      "Epoch 4/50\n",
      "4725/4725 [==============================] - 0s - loss: 0.3818 - mean_absolute_error: 0.3818     \n",
      "Epoch 5/50\n",
      "4725/4725 [==============================] - 0s - loss: 0.2384 - mean_absolute_error: 0.2384     \n",
      "Epoch 6/50\n",
      "4725/4725 [==============================] - 0s - loss: 0.1717 - mean_absolute_error: 0.1717     \n",
      "Epoch 7/50\n",
      "4725/4725 [==============================] - 0s - loss: 0.1209 - mean_absolute_error: 0.1209     \n",
      "Epoch 8/50\n",
      "4725/4725 [==============================] - 0s - loss: 0.1134 - mean_absolute_error: 0.1134     \n",
      "Epoch 9/50\n",
      "4725/4725 [==============================] - 0s - loss: 0.1216 - mean_absolute_error: 0.1216     \n",
      "Epoch 10/50\n",
      "4725/4725 [==============================] - 0s - loss: 0.1255 - mean_absolute_error: 0.1255     \n",
      "Epoch 11/50\n",
      "4725/4725 [==============================] - 0s - loss: 0.1242 - mean_absolute_error: 0.1242     \n",
      "Epoch 12/50\n",
      "4725/4725 [==============================] - 0s - loss: 0.1473 - mean_absolute_error: 0.1473     \n",
      "Epoch 13/50\n",
      "4725/4725 [==============================] - 0s - loss: 0.1097 - mean_absolute_error: 0.1097     \n",
      "Epoch 14/50\n",
      "4725/4725 [==============================] - 0s - loss: 0.0935 - mean_absolute_error: 0.0935     \n",
      "Epoch 15/50\n",
      "4725/4725 [==============================] - 0s - loss: 0.1084 - mean_absolute_error: 0.1084     \n",
      "Epoch 16/50\n",
      "4725/4725 [==============================] - 0s - loss: 0.1451 - mean_absolute_error: 0.1451     \n",
      "Epoch 17/50\n",
      "4725/4725 [==============================] - 0s - loss: 0.1410 - mean_absolute_error: 0.1410     \n",
      "Epoch 18/50\n",
      "4725/4725 [==============================] - 0s - loss: 0.1165 - mean_absolute_error: 0.1165     \n",
      "Epoch 19/50\n",
      "4725/4725 [==============================] - 0s - loss: 0.0984 - mean_absolute_error: 0.0984     \n",
      "Epoch 20/50\n",
      "4725/4725 [==============================] - 0s - loss: 0.0971 - mean_absolute_error: 0.0971     \n",
      "Epoch 21/50\n",
      "4725/4725 [==============================] - 0s - loss: 0.0900 - mean_absolute_error: 0.0900     - ETA: 0s - loss: 0.0901 - mean_absolute_error: 0.09\n",
      "Epoch 22/50\n",
      "4725/4725 [==============================] - 0s - loss: 0.1189 - mean_absolute_error: 0.1189     \n",
      "Epoch 23/50\n",
      "4725/4725 [==============================] - 0s - loss: 0.1150 - mean_absolute_error: 0.1150     \n",
      "Epoch 24/50\n",
      "4725/4725 [==============================] - 0s - loss: 0.1279 - mean_absolute_error: 0.1279     \n",
      "Epoch 25/50\n",
      "4725/4725 [==============================] - 0s - loss: 0.0919 - mean_absolute_error: 0.0919     \n",
      "Epoch 26/50\n",
      "4725/4725 [==============================] - 0s - loss: 0.0878 - mean_absolute_error: 0.0878     \n",
      "Epoch 27/50\n",
      "4725/4725 [==============================] - 0s - loss: 0.0929 - mean_absolute_error: 0.0929     \n",
      "Epoch 28/50\n",
      "4725/4725 [==============================] - 0s - loss: 0.0778 - mean_absolute_error: 0.0778     \n",
      "Epoch 29/50\n",
      "4725/4725 [==============================] - 0s - loss: 0.0795 - mean_absolute_error: 0.0795     \n",
      "Epoch 30/50\n",
      "4725/4725 [==============================] - 0s - loss: 0.1014 - mean_absolute_error: 0.1014     \n",
      "Epoch 31/50\n",
      "4725/4725 [==============================] - 0s - loss: 0.0973 - mean_absolute_error: 0.0973     \n",
      "Epoch 32/50\n",
      "4725/4725 [==============================] - 0s - loss: 0.1042 - mean_absolute_error: 0.1042     \n",
      "Epoch 33/50\n",
      "4725/4725 [==============================] - 0s - loss: 0.0737 - mean_absolute_error: 0.0737     \n",
      "Epoch 34/50\n",
      "4725/4725 [==============================] - 0s - loss: 0.0638 - mean_absolute_error: 0.0638     \n",
      "Epoch 35/50\n",
      "4725/4725 [==============================] - 0s - loss: 0.0677 - mean_absolute_error: 0.0677     \n",
      "Epoch 36/50\n",
      "4725/4725 [==============================] - 0s - loss: 0.0906 - mean_absolute_error: 0.0906     \n",
      "Epoch 37/50\n",
      "4725/4725 [==============================] - 0s - loss: 0.0697 - mean_absolute_error: 0.0697     \n",
      "Epoch 38/50\n",
      "4725/4725 [==============================] - 0s - loss: 0.0589 - mean_absolute_error: 0.0589     \n",
      "Epoch 39/50\n",
      "4725/4725 [==============================] - 0s - loss: 0.0609 - mean_absolute_error: 0.0609     \n",
      "Epoch 40/50\n",
      "4725/4725 [==============================] - 0s - loss: 0.0829 - mean_absolute_error: 0.0829     \n",
      "Epoch 41/50\n",
      "4725/4725 [==============================] - 0s - loss: 0.0636 - mean_absolute_error: 0.0636     \n",
      "Epoch 42/50\n",
      "4725/4725 [==============================] - 0s - loss: 0.0611 - mean_absolute_error: 0.0611     \n",
      "Epoch 43/50\n",
      "4725/4725 [==============================] - 0s - loss: 0.0767 - mean_absolute_error: 0.0767     \n",
      "Epoch 44/50\n",
      "4725/4725 [==============================] - 0s - loss: 0.0630 - mean_absolute_error: 0.0630     \n",
      "Epoch 45/50\n",
      "4725/4725 [==============================] - 0s - loss: 0.1224 - mean_absolute_error: 0.1224     \n",
      "Epoch 46/50\n",
      "4725/4725 [==============================] - 0s - loss: 0.1014 - mean_absolute_error: 0.1014     \n",
      "Epoch 47/50\n",
      "4725/4725 [==============================] - 0s - loss: 0.0706 - mean_absolute_error: 0.0706     \n",
      "Epoch 48/50\n",
      "4725/4725 [==============================] - 0s - loss: 0.1052 - mean_absolute_error: 0.1052     \n",
      "Epoch 49/50\n",
      "4725/4725 [==============================] - 0s - loss: 0.0709 - mean_absolute_error: 0.0709     \n",
      "Epoch 50/50\n",
      "4725/4725 [==============================] - 0s - loss: 0.0708 - mean_absolute_error: 0.0708     \n"
     ]
    }
   ],
   "source": [
    "activation = \"linear\"\n",
    "\n",
    "def get_mlp_model(activation=\"linear\"):\n",
    "    model = Sequential()\n",
    "    model.add(Dense(512, input_shape=(X.shape[1],), activation=activation))\n",
    "    model.add(Dense(256, activation=activation))\n",
    "    model.add(Dense(128, activation=activation))\n",
    "    model.add(Dense(1, activation=activation))\n",
    "    model.compile(loss='mae', optimizer='adam', metrics=['mae'])\n",
    "    return model\n",
    "\n",
    "n_models = 1\n",
    "mlp_models = []\n",
    "for i in range(0,n_models):\n",
    "    model = get_mlp_model()\n",
    "    hist = model.fit(X_train, y_train,epochs=50, batch_size=500, verbose=1)\n",
    "    mlp_models.append(model)"
   ]
  },
  {
   "cell_type": "code",
   "execution_count": 46,
   "metadata": {},
   "outputs": [
    {
     "name": "stdout",
     "output_type": "stream",
     "text": [
      "Stopping Power: 0.23159240186214447 \n",
      "MAE: 0.07683790061285214\n"
     ]
    }
   ],
   "source": [
    "preds = composite_predict(mlp_models,X)\n",
    "mlp_mae = mean_absolute_error(preds,y)\n",
    "stopping_power = np.mean(preds)\n",
    "print(\"Stopping Power: {} \\nMAE: {}\".format(stopping_power,mlp_mae))"
   ]
  },
  {
   "cell_type": "code",
   "execution_count": 47,
   "metadata": {},
   "outputs": [],
   "source": [
    "def summary_plots(pred_y, y):\n",
    "    # Two subplots, unpack the axes array immediately\n",
    "    f, (ax1, ax2, ax3) = plt.subplots(1, 3)\n",
    "    ax1.plot(range(0, len(pred_y)), pred_y)\n",
    "    ax1.plot(range(0, len(pred_y)), y)\n",
    "    ax1.set_yscale(\"symlog\")\n",
    "    \n",
    "    ax2.plot(range(0, len(pred_y)), pred_y)\n",
    "    ax2.plot(range(0, len(pred_y)), y)\n",
    "    ax2.set_xlim(7000,9500)\n",
    "    ax2.set_ylim(-.5,0.9)\n",
    "    \n",
    "    sns.despine()\n",
    "    "
   ]
  },
  {
   "cell_type": "code",
   "execution_count": 48,
   "metadata": {},
   "outputs": [
    {
     "data": {
      "image/png": "[encoded data removed]",
      "text/plain": [
       "<matplotlib.figure.Figure at 0x129902630>"
      ]
     },
     "metadata": {},
     "output_type": "display_data"
    }
   ],
   "source": [
    "summary_plots(preds, y)"
   ]
  },
  {
   "cell_type": "code",
   "execution_count": 54,
   "metadata": {},
   "outputs": [
    {
     "data": {
      "image/png": "[encoded data removed]",
      "text/plain": [
       "<matplotlib.figure.Figure at 0x12aeceb70>"
      ]
     },
     "metadata": {},
     "output_type": "display_data"
    }
   ],
   "source": [
    "f,ax = plt.subplots()\n",
    "ax = plt.plot(hist.history['loss'])\n",
    "sns.despine()"
   ]
  },
  {
   "cell_type": "code",
   "execution_count": 18,
   "metadata": {
    "collapsed": true
   },
   "outputs": [],
   "source": [
    "def create_sample_dataset(t, n_dim=2):\n",
    "    sin = np.sin(2 * np.pi * t)\n",
    "    cos = np.cos(2 * np.pi * t)\n",
    "    \n",
    "    #Stack data into feature columns\n",
    "    combined = np.column_stack([sin, cos])\n",
    "    \n",
    "    #Reshape the data to be\n",
    "    return combined.reshape((combined.shape[0],n_dim))\n",
    "\n",
    "def create_lstm_model(steps_before, steps_after, feature_count, hidden_neurons=300):\n",
    "    \"\"\" \n",
    "        creates, compiles and returns a RNN model \n",
    "        @param steps_before: the number of previous time steps (input)\n",
    "        @param steps_after: the number of posterior time steps (output or predictions)\n",
    "        @param feature_count: the number of features in the model\n",
    "        @param hidden_neurons: the number of hidden neurons per LSTM layer\n",
    "    \"\"\"\n",
    "    model = Sequential()\n",
    "    model.add(LSTM(input_dim=feature_count, output_dim=hidden_neurons, return_sequences=False))\n",
    "    model.add(RepeatVector(steps_after))\n",
    "    model.add(LSTM(output_dim=hidden_neurons, return_sequences=True))\n",
    "    model.add(TimeDistributed(Dense(feature_count)))\n",
    "    model.add(Activation('linear'))  \n",
    "    \n",
    "    model.compile(loss='mean_squared_error', optimizer='rmsprop', metrics=['accuracy'])  \n",
    "    return model\n",
    "\n",
    "def create_gru_model(steps_before, steps_after, feature_count, hidden_neurons=300):\n",
    "    \"\"\" \n",
    "        creates, compiles and returns a RNN model \n",
    "        @param steps_before: the number of previous time steps (input)\n",
    "        @param steps_after: the number of posterior time steps (output or predictions)\n",
    "        @param feature_count: the number of features in the model\n",
    "        @param hidden_neurons: the number of hidden neurons per LSTM layer\n",
    "    \"\"\"\n",
    "    model = Sequential()\n",
    "    model.add(GRU(input_dim=feature_count, output_dim=hidden_neurons, return_sequences=False))\n",
    "    model.add(RepeatVector(steps_after))\n",
    "    model.add(GRU(output_dim=hidden_neurons, return_sequences=True))\n",
    "    model.add(TimeDistributed(Dense(feature_count)))\n",
    "    model.add(Activation('linear'))  \n",
    "    \n",
    "    model.compile(loss='mean_squared_error', optimizer='rmsprop', metrics=['accuracy'])  \n",
    "    return model"
   ]
  },
  {
   "cell_type": "code",
   "execution_count": 19,
   "metadata": {
    "collapsed": true
   },
   "outputs": [],
   "source": [
    "def train_model(model, dataX, dataY, epoch_count):\n",
    "    \"\"\" \n",
    "        trains only the sinus model\n",
    "    \"\"\"\n",
    "    history = model.fit(dataX, dataY, batch_size=10, epochs=epoch_count, validation_split=0.10)\n",
    "    return history"
   ]
  },
  {
   "cell_type": "code",
   "execution_count": 28,
   "metadata": {},
   "outputs": [
    {
     "name": "stdout",
     "output_type": "stream",
     "text": [
      "creating model...\n",
      "=== Model -- 0 ===\n"
     ]
    },
    {
     "name": "stderr",
     "output_type": "stream",
     "text": [
      "/home/ubuntu/miniconda3/lib/python3.6/site-packages/ipykernel_launcher.py:20: UserWarning: The `input_dim` and `input_length` arguments in recurrent layers are deprecated. Use `input_shape` instead.\n",
      "/home/ubuntu/miniconda3/lib/python3.6/site-packages/ipykernel_launcher.py:20: UserWarning: Update your `LSTM` call to the Keras 2 API: `LSTM(return_sequences=False, input_shape=(None, 2), units=300)`\n",
      "/home/ubuntu/miniconda3/lib/python3.6/site-packages/ipykernel_launcher.py:22: UserWarning: Update your `LSTM` call to the Keras 2 API: `LSTM(return_sequences=True, units=300)`\n"
     ]
    },
    {
     "name": "stdout",
     "output_type": "stream",
     "text": [
      "Train on 472 samples, validate on 53 samples\n",
      "Epoch 1/10\n",
      "472/472 [==============================] - 8s - loss: 0.1627 - acc: 0.8666 - val_loss: 0.0790 - val_acc: 0.9509\n",
      "Epoch 2/10\n",
      "472/472 [==============================] - 7s - loss: 0.0754 - acc: 0.9302 - val_loss: 0.0536 - val_acc: 0.9381\n",
      "Epoch 3/10\n",
      "472/472 [==============================] - 7s - loss: 0.0554 - acc: 0.9374 - val_loss: 0.0346 - val_acc: 0.9608\n",
      "Epoch 4/10\n",
      "472/472 [==============================] - 7s - loss: 0.0501 - acc: 0.9401 - val_loss: 0.0958 - val_acc: 0.9283\n",
      "Epoch 5/10\n",
      "472/472 [==============================] - 7s - loss: 0.0434 - acc: 0.9397 - val_loss: 0.0244 - val_acc: 0.9494\n",
      "Epoch 6/10\n",
      "472/472 [==============================] - 7s - loss: 0.0330 - acc: 0.9495 - val_loss: 0.0776 - val_acc: 0.9479\n",
      "Epoch 7/10\n",
      "472/472 [==============================] - 7s - loss: 0.0328 - acc: 0.9547 - val_loss: 0.0348 - val_acc: 0.9321\n",
      "Epoch 8/10\n",
      "472/472 [==============================] - 7s - loss: 0.0258 - acc: 0.9539 - val_loss: 0.0156 - val_acc: 0.9525\n",
      "Epoch 9/10\n",
      "472/472 [==============================] - 7s - loss: 0.0226 - acc: 0.9576 - val_loss: 0.0597 - val_acc: 0.8951\n",
      "Epoch 10/10\n",
      "472/472 [==============================] - 7s - loss: 0.0229 - acc: 0.9581 - val_loss: 0.0405 - val_acc: 0.9449\n",
      "=== Model -- 1 ===\n",
      "Train on 472 samples, validate on 53 samples\n",
      "Epoch 1/10\n",
      "472/472 [==============================] - 8s - loss: 0.1553 - acc: 0.8652 - val_loss: 0.0585 - val_acc: 0.9411\n",
      "Epoch 2/10\n",
      "472/472 [==============================] - 7s - loss: 0.0721 - acc: 0.9340 - val_loss: 0.0772 - val_acc: 0.9691\n",
      "Epoch 3/10\n",
      "472/472 [==============================] - 7s - loss: 0.0581 - acc: 0.9355 - val_loss: 0.1199 - val_acc: 0.9155\n",
      "Epoch 4/10\n",
      "472/472 [==============================] - 7s - loss: 0.0514 - acc: 0.9414 - val_loss: 0.0813 - val_acc: 0.8875\n",
      "Epoch 5/10\n",
      "472/472 [==============================] - 7s - loss: 0.0408 - acc: 0.9436 - val_loss: 0.0361 - val_acc: 0.9706\n",
      "Epoch 6/10\n",
      "472/472 [==============================] - 7s - loss: 0.0349 - acc: 0.9483 - val_loss: 0.0643 - val_acc: 0.9472\n",
      "Epoch 7/10\n",
      "472/472 [==============================] - 7s - loss: 0.0289 - acc: 0.9516 - val_loss: 0.0850 - val_acc: 0.9691\n",
      "Epoch 8/10\n",
      "472/472 [==============================] - 7s - loss: 0.0262 - acc: 0.9498 - val_loss: 0.0289 - val_acc: 0.9494\n",
      "Epoch 9/10\n",
      "472/472 [==============================] - 7s - loss: 0.0228 - acc: 0.9549 - val_loss: 0.0071 - val_acc: 0.9857\n",
      "Epoch 10/10\n",
      "472/472 [==============================] - 7s - loss: 0.0205 - acc: 0.9596 - val_loss: 0.0593 - val_acc: 0.9072\n",
      "=== Model -- 2 ===\n",
      "Train on 472 samples, validate on 53 samples\n",
      "Epoch 1/10\n",
      "472/472 [==============================] - 9s - loss: 0.1632 - acc: 0.8578 - val_loss: 0.2063 - val_acc: 0.8853\n",
      "Epoch 2/10\n",
      "472/472 [==============================] - 7s - loss: 0.0800 - acc: 0.9253 - val_loss: 0.1301 - val_acc: 0.9525\n",
      "Epoch 3/10\n",
      "472/472 [==============================] - 7s - loss: 0.0599 - acc: 0.9340 - val_loss: 0.1486 - val_acc: 0.8385\n",
      "Epoch 4/10\n",
      "472/472 [==============================] - 7s - loss: 0.0511 - acc: 0.9399 - val_loss: 0.0320 - val_acc: 0.9442\n",
      "Epoch 5/10\n",
      "472/472 [==============================] - 7s - loss: 0.0441 - acc: 0.9434 - val_loss: 0.0927 - val_acc: 0.8702\n",
      "Epoch 6/10\n",
      "472/472 [==============================] - 7s - loss: 0.0302 - acc: 0.9512 - val_loss: 0.1429 - val_acc: 0.9532\n",
      "Epoch 7/10\n",
      "472/472 [==============================] - 7s - loss: 0.0325 - acc: 0.9524 - val_loss: 0.0583 - val_acc: 0.9140\n",
      "Epoch 8/10\n",
      "472/472 [==============================] - 7s - loss: 0.0287 - acc: 0.9498 - val_loss: 0.0431 - val_acc: 0.9774\n",
      "Epoch 9/10\n",
      "472/472 [==============================] - 7s - loss: 0.0241 - acc: 0.9558 - val_loss: 0.0688 - val_acc: 0.8747\n",
      "Epoch 10/10\n",
      "472/472 [==============================] - 7s - loss: 0.0213 - acc: 0.9573 - val_loss: 0.0437 - val_acc: 0.9623\n"
     ]
    }
   ],
   "source": [
    "import numpy as np\n",
    "import matplotlib.pyplot as plt\n",
    "from keras.models import Sequential\n",
    "from keras.layers import Dense, TimeDistributed, LSTM, GRU, RepeatVector, Activation\n",
    "\n",
    "# n_pre = 50\n",
    "# n_post = 10\n",
    "\n",
    "n_pre= 50\n",
    "n_post = 25\n",
    "\n",
    "n_dim = 2\n",
    "data = create_sample_dataset(np.arange(0.0, 12.0, 0.02),2)\n",
    "X,y = keras_rnn_reshape(data, n_pre, n_post)\n",
    "\n",
    "# # # create and fit the LSTM network\n",
    "print('creating model...')\n",
    "models = []\n",
    "n_models = 3\n",
    "n_epochs = 10\n",
    "for i in range(0,n_models):\n",
    "    print(\"=== Model -- {} ===\".format(i))\n",
    "    tmp_model = create_lstm_model(n_pre, n_post, 2, 300)\n",
    "    h = train_model(tmp_model, X, y, n_epochs)\n",
    "    models.append(tmp_model)"
   ]
  },
  {
   "cell_type": "code",
   "execution_count": 29,
   "metadata": {},
   "outputs": [
    {
     "name": "stdout",
     "output_type": "stream",
     "text": [
      "0\n",
      "1\n",
      "2\n"
     ]
    }
   ],
   "source": [
    "data_test = create_sample_dataset(np.arange(12, 18, 0.02),2)\n",
    "X_test,y_test = keras_rnn_reshape(data_test, n_pre, n_post)\n",
    "preds = []\n",
    "for i in range(0,n_models):\n",
    "    print(i)\n",
    "    preds.append(models[i].predict(X_test))\n",
    "composite_pred = np.mean(preds, axis=0) "
   ]
  },
  {
   "cell_type": "code",
   "execution_count": 30,
   "metadata": {},
   "outputs": [
    {
     "data": {
      "image/png": "[encoded data removed]",
      "text/plain": [
       "<matplotlib.figure.Figure at 0x7f5c73c84128>"
      ]
     },
     "metadata": {},
     "output_type": "display_data"
    }
   ],
   "source": [
    "# now plot\n",
    "nan_array = np.empty((n_pre - 1))\n",
    "nan_array.fill(np.nan)\n",
    "nan_array2 = np.empty(n_post)\n",
    "nan_array2.fill(np.nan)\n",
    "ind = np.arange(n_pre + n_post)\n",
    "\n",
    "fig, ax = plt.subplots()\n",
    "for i in range(0, 50, 50):\n",
    "    forecasts = np.concatenate((nan_array, X_test[i, -1:, 1], composite_pred[i, :, 1]))\n",
    "    ground_truth = np.concatenate((nan_array, X_test[i, -1:, 1], y_test[i, :, 1]))\n",
    "    network_input = np.concatenate((X_test[i, :, 1], nan_array2))\n",
    "\n",
    "    ax.plot(ind, network_input, 'b-x', label='Network input')\n",
    "    ax.plot(ind, forecasts, 'r-x', label='Many to many model forecast')\n",
    "    ax.plot(ind, ground_truth, 'g-x', label = 'Ground truth')"
   ]
  },
  {
   "cell_type": "code",
   "execution_count": 31,
   "metadata": {},
   "outputs": [
    {
     "data": {
      "image/png": "[encoded data removed]",
      "text/plain": [
       "<matplotlib.figure.Figure at 0x7f5c7ad497b8>"
      ]
     },
     "metadata": {},
     "output_type": "display_data"
    }
   ],
   "source": [
    "fig, ax = plt.subplots()\n",
    "for i in range(0, 50, 50):\n",
    "    forecasts = np.concatenate((nan_array, X_test[i, -1:, 0], composite_pred[i, :, 0]))\n",
    "    ground_truth = np.concatenate((nan_array, X_test[i, -1:, 0], y_test[i, :, 0]))\n",
    "    network_input = np.concatenate((X_test[i, :, 0], nan_array2))\n",
    "\n",
    "    ax.plot(ind, network_input, 'b-x', label='Network input')\n",
    "    ax.plot(ind, forecasts, 'r-x', label='Many to many model forecast')\n",
    "    ax.plot(ind, ground_truth, 'g-x', label = 'Ground truth')"
   ]
  },
  {
   "cell_type": "code",
   "execution_count": 21,
   "metadata": {
    "collapsed": true
   },
   "outputs": [],
   "source": [
    "from keras.layers import SimpleRNN"
   ]
  },
  {
   "cell_type": "code",
   "execution_count": 56,
   "metadata": {},
   "outputs": [],
   "source": [
    "data = pd.read_csv('training_set.csv')\n",
    "charge_attrs = [x for x in data.columns if x.startswith('density')]\n",
    "agni_attrs = [x for x in data.columns if x.startswith('AGNI')]\n",
    "ewald_attrs = ['ion-ion repulsion',]\n",
    "y_col = 'force'\n",
    "X_cols = charge_attrs + agni_attrs + ewald_attrs"
   ]
  },
  {
   "cell_type": "code",
   "execution_count": 57,
   "metadata": {},
   "outputs": [
    {
     "data": {
      "text/plain": [
       "(9449,)"
      ]
     },
     "execution_count": 57,
     "metadata": {},
     "output_type": "execute_result"
    }
   ],
   "source": [
    "data[y_col].as_matrix().shape"
   ]
  },
  {
   "cell_type": "code",
   "execution_count": 58,
   "metadata": {},
   "outputs": [
    {
     "data": {
      "text/plain": [
       "(9449, 16)"
      ]
     },
     "execution_count": 58,
     "metadata": {},
     "output_type": "execute_result"
    }
   ],
   "source": [
    "data[X_cols].as_matrix().shape"
   ]
  },
  {
   "cell_type": "code",
   "execution_count": 59,
   "metadata": {},
   "outputs": [
    {
     "data": {
      "text/plain": [
       "16"
      ]
     },
     "execution_count": 59,
     "metadata": {},
     "output_type": "execute_result"
    }
   ],
   "source": [
    "len(X_cols)"
   ]
  },
  {
   "cell_type": "code",
   "execution_count": 60,
   "metadata": {},
   "outputs": [],
   "source": [
    "def create_schleife_model(steps_before, steps_after, hidden_neurons, feature_count):\n",
    "    \"\"\" \n",
    "        creates, compiles and returns a RNN model \n",
    "        @param steps_before: the number of previous time steps (input)\n",
    "        @param steps_after: the number of posterior time steps (output or predictions)\n",
    "        @param feature_count: the number of features in the model\n",
    "        @param hidden_neurons: the number of hidden neurons per LSTM layer\n",
    "    \"\"\"\n",
    "    out_neurons = 1\n",
    "    \n",
    "    model = Sequential()\n",
    "    model.add(LSTM(input_dim=feature_count, output_dim=hidden_neurons, return_sequences=False))\n",
    "    model.add(RepeatVector(steps_after))\n",
    "    #model.add(LSTM(output_dim=hidden_neurons, return_sequences=True))\n",
    "    model.add(LSTM(output_dim=hidden_neurons, return_sequences=False))\n",
    "    model.add(Dense(1))\n",
    "    model.add(Activation('linear'))  \n",
    "    \n",
    "    model.compile(loss='mean_squared_error', optimizer='rmsprop', metrics=['accuracy']) \n",
    "    print(model.summary())\n",
    "    return model\n",
    "\n",
    "def create_schleife_single_lstm_model(steps_before, steps_after, hidden_neurons, feature_count):\n",
    "    \"\"\" \n",
    "        creates, compiles and returns a RNN model \n",
    "        @param steps_before: the number of previous time steps (input)\n",
    "        @param steps_after: the number of posterior time steps (output or predictions)\n",
    "        @param feature_count: the number of features in the model\n",
    "        @param hidden_neurons: the number of hidden neurons per LSTM layer\n",
    "    \"\"\"\n",
    "    out_neurons = 1\n",
    "    \n",
    "    model = Sequential()\n",
    "    model.add(LSTM(input_dim=feature_count, output_dim=hidden_neurons, return_sequences=False))\n",
    "    model.add(RepeatVector(steps_after))\n",
    "    model.add(Dense(1))\n",
    "    model.add(Activation('linear'))  \n",
    "    \n",
    "    model.compile(loss='mean_squared_error', optimizer='rmsprop', metrics=['accuracy']) \n",
    "    print(model.summary())\n",
    "    return model\n",
    "\n",
    "def create_schleife_simple_rnn_model2(hidden_neurons, feature_count, activation=\"relu\", steps_after=1):\n",
    "    \"\"\" \n",
    "        creates, compiles and returns a RNN model \n",
    "        @param steps_before: the number of previous time steps (input)\n",
    "        @param steps_after: the number of posterior time steps (output or predictions)\n",
    "        @param feature_count: the number of features in the model\n",
    "        @param hidden_neurons: the number of hidden neurons per LSTM layer\n",
    "    \"\"\"\n",
    "    out_neurons = 1\n",
    "    \n",
    "    model = Sequential()\n",
    "    model.add(SimpleRNN(units=hidden_neurons, input_dim=feature_count, return_sequences=False, activation=activation))\n",
    "    model.add(RepeatVector(steps_after))\n",
    "    model.add(SimpleRNN(units=hidden_neurons, input_dim=feature_count, return_sequences=False, activation=activation))\n",
    "    model.add(Dense(1))\n",
    "    \n",
    "    model.compile(loss='mae', optimizer='rmsprop', metrics=['mae']) \n",
    "    print(model.summary())\n",
    "    return model\n",
    "\n",
    "def create_schleife_simple_rnn_model(hidden_neurons, feature_count, activation=\"relu\"):\n",
    "    \"\"\" \n",
    "        creates, compiles and returns a RNN model \n",
    "        @param steps_before: the number of previous time steps (input)\n",
    "        @param steps_after: the number of posterior time steps (output or predictions)\n",
    "        @param feature_count: the number of features in the model\n",
    "        @param hidden_neurons: the number of hidden neurons per LSTM layer\n",
    "    \"\"\"\n",
    "    out_neurons = 1\n",
    "    \n",
    "    model = Sequential()\n",
    "    model.add(SimpleRNN(units=hidden_neurons, input_dim=feature_count, return_sequences=False, activation=activation))\n",
    "    model.add(Dense(1))\n",
    "    \n",
    "    model.compile(loss='mae', optimizer='rmsprop', metrics=['mae']) \n",
    "    print(model.summary())\n",
    "    return model\n",
    "\n",
    "def keras_schleife_reshape(data_x,data_y, n_pre, n_post):\n",
    "    dX, dY = [], []\n",
    "    for i in range(len(data_x)-n_pre-n_post):\n",
    "        dX.append(data_x[i:i+n_pre])\n",
    "        dY.append(data_y[i+n_pre:i+n_pre+n_post])\n",
    "\n",
    "    dataX = np.array(dX)\n",
    "    dataY = np.array(dY)\n",
    "    return dataX, dataY\n",
    "\n",
    "def train_schleife_model(model, dataX, dataY, epoch_count,validation_split=0.1, verbose=False):\n",
    "    \"\"\" \n",
    "        trains only the sinus model\n",
    "    \"\"\"\n",
    "    history = model.fit(dataX, dataY, batch_size=200, epochs=epoch_count, validation_split=validation_split, verbose=verbose)\n",
    "    return history"
   ]
  },
  {
   "cell_type": "code",
   "execution_count": 61,
   "metadata": {},
   "outputs": [],
   "source": [
    "n_pre= 5\n",
    "n_post = 1\n",
    "\n",
    "n_dim = 16\n",
    "\n",
    "X_ = data[X_cols].as_matrix()\n",
    "y_ = data[y_col].as_matrix()\n",
    "\n",
    "X,y = keras_schleife_reshape(X_,y_, n_pre, n_post)"
   ]
  },
  {
   "cell_type": "code",
   "execution_count": 62,
   "metadata": {},
   "outputs": [
    {
     "data": {
      "text/plain": [
       "(9443, 5, 16)"
      ]
     },
     "execution_count": 62,
     "metadata": {},
     "output_type": "execute_result"
    }
   ],
   "source": [
    "X.shape"
   ]
  },
  {
   "cell_type": "code",
   "execution_count": 63,
   "metadata": {},
   "outputs": [
    {
     "data": {
      "text/plain": [
       "(9443, 1)"
      ]
     },
     "execution_count": 63,
     "metadata": {},
     "output_type": "execute_result"
    }
   ],
   "source": [
    "y.shape"
   ]
  },
  {
   "cell_type": "code",
   "execution_count": 84,
   "metadata": {},
   "outputs": [
    {
     "name": "stdout",
     "output_type": "stream",
     "text": [
      "creating model...\n",
      "=== Model -- 0 ===\n"
     ]
    },
    {
     "ename": "NameError",
     "evalue": "name 'LSTM' is not defined",
     "output_type": "error",
     "traceback": [
      "\u001b[0;31m---------------------------------------------------------------------------\u001b[0m",
      "\u001b[0;31mNameError\u001b[0m                                 Traceback (most recent call last)",
      "\u001b[0;32m<ipython-input-84-98e309531626>\u001b[0m in \u001b[0;36m<module>\u001b[0;34m()\u001b[0m\n\u001b[1;32m      6\u001b[0m \u001b[0;32mfor\u001b[0m \u001b[0mi\u001b[0m \u001b[0;32min\u001b[0m \u001b[0mrange\u001b[0m\u001b[0;34m(\u001b[0m\u001b[0;36m0\u001b[0m\u001b[0;34m,\u001b[0m\u001b[0mn_models\u001b[0m\u001b[0;34m)\u001b[0m\u001b[0;34m:\u001b[0m\u001b[0;34m\u001b[0m\u001b[0m\n\u001b[1;32m      7\u001b[0m     \u001b[0mprint\u001b[0m\u001b[0;34m(\u001b[0m\u001b[0;34m\"=== Model -- {} ===\"\u001b[0m\u001b[0;34m.\u001b[0m\u001b[0mformat\u001b[0m\u001b[0;34m(\u001b[0m\u001b[0mi\u001b[0m\u001b[0;34m)\u001b[0m\u001b[0;34m)\u001b[0m\u001b[0;34m\u001b[0m\u001b[0m\n\u001b[0;32m----> 8\u001b[0;31m     \u001b[0mtmp_model\u001b[0m \u001b[0;34m=\u001b[0m \u001b[0mcreate_schleife_model\u001b[0m\u001b[0;34m(\u001b[0m\u001b[0mn_pre\u001b[0m\u001b[0;34m,\u001b[0m \u001b[0mn_post\u001b[0m\u001b[0;34m,\u001b[0m \u001b[0;36m100\u001b[0m\u001b[0;34m,\u001b[0m \u001b[0;36m16\u001b[0m\u001b[0;34m)\u001b[0m\u001b[0;34m\u001b[0m\u001b[0m\n\u001b[0m\u001b[1;32m      9\u001b[0m     \u001b[0mh\u001b[0m \u001b[0;34m=\u001b[0m \u001b[0mtrain_schleife_model\u001b[0m\u001b[0;34m(\u001b[0m\u001b[0mtmp_model\u001b[0m\u001b[0;34m,\u001b[0m \u001b[0mX\u001b[0m\u001b[0;34m,\u001b[0m \u001b[0my\u001b[0m\u001b[0;34m,\u001b[0m \u001b[0mn_epochs\u001b[0m\u001b[0;34m)\u001b[0m\u001b[0;34m\u001b[0m\u001b[0m\n\u001b[1;32m     10\u001b[0m     \u001b[0mmodels\u001b[0m\u001b[0;34m.\u001b[0m\u001b[0mappend\u001b[0m\u001b[0;34m(\u001b[0m\u001b[0mtmp_model\u001b[0m\u001b[0;34m)\u001b[0m\u001b[0;34m\u001b[0m\u001b[0m\n",
      "\u001b[0;32m<ipython-input-80-32dc5e92b4ea>\u001b[0m in \u001b[0;36mcreate_schleife_model\u001b[0;34m(steps_before, steps_after, hidden_neurons, feature_count)\u001b[0m\n\u001b[1;32m     10\u001b[0m \u001b[0;34m\u001b[0m\u001b[0m\n\u001b[1;32m     11\u001b[0m     \u001b[0mmodel\u001b[0m \u001b[0;34m=\u001b[0m \u001b[0mSequential\u001b[0m\u001b[0;34m(\u001b[0m\u001b[0;34m)\u001b[0m\u001b[0;34m\u001b[0m\u001b[0m\n\u001b[0;32m---> 12\u001b[0;31m     \u001b[0mmodel\u001b[0m\u001b[0;34m.\u001b[0m\u001b[0madd\u001b[0m\u001b[0;34m(\u001b[0m\u001b[0mLSTM\u001b[0m\u001b[0;34m(\u001b[0m\u001b[0minput_dim\u001b[0m\u001b[0;34m=\u001b[0m\u001b[0mfeature_count\u001b[0m\u001b[0;34m,\u001b[0m \u001b[0moutput_dim\u001b[0m\u001b[0;34m=\u001b[0m\u001b[0mhidden_neurons\u001b[0m\u001b[0;34m,\u001b[0m \u001b[0mreturn_sequences\u001b[0m\u001b[0;34m=\u001b[0m\u001b[0;32mFalse\u001b[0m\u001b[0;34m)\u001b[0m\u001b[0;34m)\u001b[0m\u001b[0;34m\u001b[0m\u001b[0m\n\u001b[0m\u001b[1;32m     13\u001b[0m     \u001b[0mmodel\u001b[0m\u001b[0;34m.\u001b[0m\u001b[0madd\u001b[0m\u001b[0;34m(\u001b[0m\u001b[0mRepeatVector\u001b[0m\u001b[0;34m(\u001b[0m\u001b[0msteps_after\u001b[0m\u001b[0;34m)\u001b[0m\u001b[0;34m)\u001b[0m\u001b[0;34m\u001b[0m\u001b[0m\n\u001b[1;32m     14\u001b[0m     \u001b[0;31m#model.add(LSTM(output_dim=hidden_neurons, return_sequences=True))\u001b[0m\u001b[0;34m\u001b[0m\u001b[0;34m\u001b[0m\u001b[0m\n",
      "\u001b[0;31mNameError\u001b[0m: name 'LSTM' is not defined"
     ]
    }
   ],
   "source": [
    "# # # create and fit the LSTM network\n",
    "print('creating model...')\n",
    "models = []\n",
    "n_models = 3\n",
    "n_epochs = 20\n",
    "for i in range(0,n_models):\n",
    "    print(\"=== Model -- {} ===\".format(i))\n",
    "    tmp_model = create_schleife_model(n_pre, n_post, 100, 16)\n",
    "    h = train_schleife_model(tmp_model, X, y, n_epochs)\n",
    "    models.append(tmp_model)"
   ]
  },
  {
   "cell_type": "code",
   "execution_count": 65,
   "metadata": {},
   "outputs": [
    {
     "name": "stdout",
     "output_type": "stream",
     "text": [
      "creating model...\n",
      "=== Model -- 0 ===\n"
     ]
    },
    {
     "name": "stderr",
     "output_type": "stream",
     "text": [
      "/anaconda/lib/python3.6/site-packages/ipykernel_launcher.py:54: UserWarning: The `input_dim` and `input_length` arguments in recurrent layers are deprecated. Use `input_shape` instead.\n",
      "/anaconda/lib/python3.6/site-packages/ipykernel_launcher.py:54: UserWarning: Update your `SimpleRNN` call to the Keras 2 API: `SimpleRNN(units=10, return_sequences=False, activation=\"linear\", input_shape=(None, 16))`\n",
      "/anaconda/lib/python3.6/site-packages/ipykernel_launcher.py:56: UserWarning: The `input_dim` and `input_length` arguments in recurrent layers are deprecated. Use `input_shape` instead.\n",
      "/anaconda/lib/python3.6/site-packages/ipykernel_launcher.py:56: UserWarning: Update your `SimpleRNN` call to the Keras 2 API: `SimpleRNN(units=10, return_sequences=False, activation=\"linear\", input_shape=(None, 16))`\n"
     ]
    },
    {
     "name": "stdout",
     "output_type": "stream",
     "text": [
      "_________________________________________________________________\n",
      "Layer (type)                 Output Shape              Param #   \n",
      "=================================================================\n",
      "simple_rnn_3 (SimpleRNN)     (None, 10)                270       \n",
      "_________________________________________________________________\n",
      "repeat_vector_2 (RepeatVecto (None, 1, 10)             0         \n",
      "_________________________________________________________________\n",
      "simple_rnn_4 (SimpleRNN)     (None, 10)                210       \n",
      "_________________________________________________________________\n",
      "dense_6 (Dense)              (None, 1)                 11        \n",
      "=================================================================\n",
      "Total params: 491\n",
      "Trainable params: 491\n",
      "Non-trainable params: 0\n",
      "_________________________________________________________________\n",
      "None\n",
      "Epoch 1/20\n",
      "4725/4725 [==============================] - 2s - loss: 0.9940 - mean_absolute_error: 0.9940     \n",
      "Epoch 2/20\n",
      "4725/4725 [==============================] - 0s - loss: 0.4866 - mean_absolute_error: 0.4866     \n",
      "Epoch 3/20\n",
      "4725/4725 [==============================] - 0s - loss: 0.4056 - mean_absolute_error: 0.4056     \n",
      "Epoch 4/20\n",
      "4725/4725 [==============================] - 0s - loss: 0.3670 - mean_absolute_error: 0.3670     \n",
      "Epoch 5/20\n",
      "4725/4725 [==============================] - 0s - loss: 0.3170 - mean_absolute_error: 0.3170     \n",
      "Epoch 6/20\n",
      "4725/4725 [==============================] - 0s - loss: 0.2864 - mean_absolute_error: 0.2864     \n",
      "Epoch 7/20\n",
      "4725/4725 [==============================] - 0s - loss: 0.2331 - mean_absolute_error: 0.2331     \n",
      "Epoch 8/20\n",
      "4725/4725 [==============================] - 0s - loss: 0.2187 - mean_absolute_error: 0.2187     \n",
      "Epoch 9/20\n",
      "4725/4725 [==============================] - 0s - loss: 0.1930 - mean_absolute_error: 0.1930     \n",
      "Epoch 10/20\n",
      "4725/4725 [==============================] - 0s - loss: 0.1690 - mean_absolute_error: 0.1690     \n",
      "Epoch 11/20\n",
      "4725/4725 [==============================] - 0s - loss: 0.1542 - mean_absolute_error: 0.1542     \n",
      "Epoch 12/20\n",
      "4725/4725 [==============================] - 0s - loss: 0.1529 - mean_absolute_error: 0.1529     \n",
      "Epoch 13/20\n",
      "4725/4725 [==============================] - 0s - loss: 0.1424 - mean_absolute_error: 0.1424     \n",
      "Epoch 14/20\n",
      "4725/4725 [==============================] - 0s - loss: 0.1347 - mean_absolute_error: 0.1347     \n",
      "Epoch 15/20\n",
      "4725/4725 [==============================] - 0s - loss: 0.1369 - mean_absolute_error: 0.1369     \n",
      "Epoch 16/20\n",
      "4725/4725 [==============================] - 0s - loss: 0.1311 - mean_absolute_error: 0.1311     \n",
      "Epoch 17/20\n",
      "4725/4725 [==============================] - 0s - loss: 0.1355 - mean_absolute_error: 0.1355     \n",
      "Epoch 18/20\n",
      "4725/4725 [==============================] - 0s - loss: 0.1157 - mean_absolute_error: 0.1157     \n",
      "Epoch 19/20\n",
      "4725/4725 [==============================] - 0s - loss: 0.1324 - mean_absolute_error: 0.1324     \n",
      "Epoch 20/20\n",
      "4725/4725 [==============================] - 0s - loss: 0.1254 - mean_absolute_error: 0.1254     \n"
     ]
    }
   ],
   "source": [
    "from keras.models import Sequential\n",
    "from keras.layers import Dense, RepeatVector, SimpleRNN\n",
    "\n",
    "\n",
    "split = 4725\n",
    "\n",
    "X_train = X[0:split]\n",
    "X_test = X[split:]\n",
    "\n",
    "y_train = y[0:split]\n",
    "y_test = y[split:]\n",
    "\n",
    "activation = \"linear\"\n",
    "\n",
    "print('creating model...')\n",
    "models = []\n",
    "n_models = 1\n",
    "n_epochs = 20\n",
    "for i in range(0,n_models):\n",
    "    print(\"=== Model -- {} ===\".format(i))\n",
    "    tmp_model = create_schleife_simple_rnn_model2(10, 16, activation=\"linear\")\n",
    "    h = train_schleife_model(tmp_model, X_train, y_train, n_epochs, validation_split=0.0, verbose=True)\n",
    "    models.append(tmp_model)"
   ]
  },
  {
   "cell_type": "code",
   "execution_count": 71,
   "metadata": {},
   "outputs": [],
   "source": [
    "preds = composite_predict(models, X)\n",
    "\n",
    "# preds = []\n",
    "# for i in range(0,n_models):\n",
    "#     print(i)\n",
    "#     preds.append(models[i].predict(X))\n",
    "# composite_pred = np.mean(preds, axis=0) "
   ]
  },
  {
   "cell_type": "code",
   "execution_count": 109,
   "metadata": {},
   "outputs": [
    {
     "data": {
      "text/plain": [
       "0.036689993726125726"
      ]
     },
     "execution_count": 109,
     "metadata": {},
     "output_type": "execute_result"
    }
   ],
   "source": [
    "mean_absolute_error(composite_pred, y)"
   ]
  },
  {
   "cell_type": "code",
   "execution_count": 73,
   "metadata": {},
   "outputs": [
    {
     "data": {
      "image/png": "[encoded data removed]",
      "text/plain": [
       "<matplotlib.figure.Figure at 0x1271140b8>"
      ]
     },
     "metadata": {},
     "output_type": "display_data"
    }
   ],
   "source": [
    "summary_plots(preds, y)"
   ]
  },
  {
   "cell_type": "code",
   "execution_count": 75,
   "metadata": {},
   "outputs": [
    {
     "name": "stdout",
     "output_type": "stream",
     "text": [
      "Stopping Power: 0.23045514523983002 \n",
      "MAE: 0.09728391782097477\n"
     ]
    }
   ],
   "source": [
    "preds = composite_predict(models,X)\n",
    "mlp_mae = mean_absolute_error(preds,y)\n",
    "stopping_power = np.mean(preds)\n",
    "print(\"Stopping Power: {} \\nMAE: {}\".format(stopping_power,mlp_mae))"
   ]
  },
  {
   "cell_type": "code",
   "execution_count": 76,
   "metadata": {},
   "outputs": [
    {
     "data": {
      "text/plain": [
       "(0, 0.2)"
      ]
     },
     "execution_count": 76,
     "metadata": {},
     "output_type": "execute_result"
    },
    {
     "data": {
      "image/png": "[encoded data removed]",
      "text/plain": [
       "<matplotlib.figure.Figure at 0x1273e2eb8>"
      ]
     },
     "metadata": {},
     "output_type": "display_data"
    }
   ],
   "source": [
    "fig, ax = plt.subplots()\n",
    "ax.plot(h.history['loss'])\n",
    "ax.set_xlim(0,300)\n",
    "ax.set_ylim(0,0.2)"
   ]
  },
  {
   "cell_type": "code",
   "execution_count": 175,
   "metadata": {},
   "outputs": [
    {
     "name": "stdout",
     "output_type": "stream",
     "text": [
      "creating model...\n",
      "=== Model -- 0 ===\n"
     ]
    },
    {
     "ename": "NameError",
     "evalue": "name 'LSTM' is not defined",
     "output_type": "error",
     "traceback": [
      "\u001b[0;31m---------------------------------------------------------------------------\u001b[0m",
      "\u001b[0;31mNameError\u001b[0m                                 Traceback (most recent call last)",
      "\u001b[0;32m<ipython-input-175-5ab8cc691062>\u001b[0m in \u001b[0;36m<module>\u001b[0;34m()\u001b[0m\n\u001b[1;32m      6\u001b[0m \u001b[0;32mfor\u001b[0m \u001b[0mi\u001b[0m \u001b[0;32min\u001b[0m \u001b[0mrange\u001b[0m\u001b[0;34m(\u001b[0m\u001b[0;36m0\u001b[0m\u001b[0;34m,\u001b[0m\u001b[0mn_models\u001b[0m\u001b[0;34m)\u001b[0m\u001b[0;34m:\u001b[0m\u001b[0;34m\u001b[0m\u001b[0m\n\u001b[1;32m      7\u001b[0m     \u001b[0mprint\u001b[0m\u001b[0;34m(\u001b[0m\u001b[0;34m\"=== Model -- {} ===\"\u001b[0m\u001b[0;34m.\u001b[0m\u001b[0mformat\u001b[0m\u001b[0;34m(\u001b[0m\u001b[0mi\u001b[0m\u001b[0;34m)\u001b[0m\u001b[0;34m)\u001b[0m\u001b[0;34m\u001b[0m\u001b[0m\n\u001b[0;32m----> 8\u001b[0;31m     \u001b[0mtmp_model\u001b[0m \u001b[0;34m=\u001b[0m \u001b[0mcreate_schleife_single_lstm_model\u001b[0m\u001b[0;34m(\u001b[0m\u001b[0mn_pre\u001b[0m\u001b[0;34m,\u001b[0m \u001b[0mn_post\u001b[0m\u001b[0;34m,\u001b[0m \u001b[0;36m500\u001b[0m\u001b[0;34m,\u001b[0m \u001b[0;36m16\u001b[0m\u001b[0;34m)\u001b[0m\u001b[0;34m\u001b[0m\u001b[0m\n\u001b[0m\u001b[1;32m      9\u001b[0m     \u001b[0mh\u001b[0m \u001b[0;34m=\u001b[0m \u001b[0mtrain_schleife_model\u001b[0m\u001b[0;34m(\u001b[0m\u001b[0mtmp_model\u001b[0m\u001b[0;34m,\u001b[0m \u001b[0mX\u001b[0m\u001b[0;34m,\u001b[0m \u001b[0my\u001b[0m\u001b[0;34m,\u001b[0m \u001b[0mn_epochs\u001b[0m\u001b[0;34m)\u001b[0m\u001b[0;34m\u001b[0m\u001b[0m\n\u001b[1;32m     10\u001b[0m     \u001b[0mmodels\u001b[0m\u001b[0;34m.\u001b[0m\u001b[0mappend\u001b[0m\u001b[0;34m(\u001b[0m\u001b[0mtmp_model\u001b[0m\u001b[0;34m)\u001b[0m\u001b[0;34m\u001b[0m\u001b[0m\n",
      "\u001b[0;32m<ipython-input-129-46f193b7d6bd>\u001b[0m in \u001b[0;36mcreate_schleife_single_lstm_model\u001b[0;34m(steps_before, steps_after, hidden_neurons, feature_count)\u001b[0m\n\u001b[1;32m     32\u001b[0m \u001b[0;34m\u001b[0m\u001b[0m\n\u001b[1;32m     33\u001b[0m     \u001b[0mmodel\u001b[0m \u001b[0;34m=\u001b[0m \u001b[0mSequential\u001b[0m\u001b[0;34m(\u001b[0m\u001b[0;34m)\u001b[0m\u001b[0;34m\u001b[0m\u001b[0m\n\u001b[0;32m---> 34\u001b[0;31m     \u001b[0mmodel\u001b[0m\u001b[0;34m.\u001b[0m\u001b[0madd\u001b[0m\u001b[0;34m(\u001b[0m\u001b[0mLSTM\u001b[0m\u001b[0;34m(\u001b[0m\u001b[0minput_dim\u001b[0m\u001b[0;34m=\u001b[0m\u001b[0mfeature_count\u001b[0m\u001b[0;34m,\u001b[0m \u001b[0moutput_dim\u001b[0m\u001b[0;34m=\u001b[0m\u001b[0mhidden_neurons\u001b[0m\u001b[0;34m,\u001b[0m \u001b[0mreturn_sequences\u001b[0m\u001b[0;34m=\u001b[0m\u001b[0;32mFalse\u001b[0m\u001b[0;34m)\u001b[0m\u001b[0;34m)\u001b[0m\u001b[0;34m\u001b[0m\u001b[0m\n\u001b[0m\u001b[1;32m     35\u001b[0m     \u001b[0mmodel\u001b[0m\u001b[0;34m.\u001b[0m\u001b[0madd\u001b[0m\u001b[0;34m(\u001b[0m\u001b[0mRepeatVector\u001b[0m\u001b[0;34m(\u001b[0m\u001b[0msteps_after\u001b[0m\u001b[0;34m)\u001b[0m\u001b[0;34m)\u001b[0m\u001b[0;34m\u001b[0m\u001b[0m\n\u001b[1;32m     36\u001b[0m     \u001b[0mmodel\u001b[0m\u001b[0;34m.\u001b[0m\u001b[0madd\u001b[0m\u001b[0;34m(\u001b[0m\u001b[0mDense\u001b[0m\u001b[0;34m(\u001b[0m\u001b[0;36m1\u001b[0m\u001b[0;34m)\u001b[0m\u001b[0;34m)\u001b[0m\u001b[0;34m\u001b[0m\u001b[0m\n",
      "\u001b[0;31mNameError\u001b[0m: name 'LSTM' is not defined"
     ]
    }
   ],
   "source": [
    "# # # create and fit the LSTM network\n",
    "print('creating model...')\n",
    "models = []\n",
    "n_models = 1\n",
    "n_epochs = 10\n",
    "for i in range(0,n_models):\n",
    "    print(\"=== Model -- {} ===\".format(i))\n",
    "    tmp_model = create_schleife_single_lstm_model(n_pre, n_post, 500, 16)\n",
    "    h = train_schleife_model(tmp_model, X, y, n_epochs)\n",
    "    models.append(tmp_model)"
   ]
  },
  {
   "cell_type": "code",
   "execution_count": 202,
   "metadata": {},
   "outputs": [
    {
     "data": {
      "text/plain": [
       "(0, 0.2)"
      ]
     },
     "execution_count": 202,
     "metadata": {},
     "output_type": "execute_result"
    },
    {
     "data": {
      "image/png": "[encoded data removed]",
      "text/plain": [
       "<matplotlib.figure.Figure at 0x7f23f7b63780>"
      ]
     },
     "metadata": {},
     "output_type": "display_data"
    }
   ],
   "source": []
  },
  {
   "cell_type": "code",
   "execution_count": null,
   "metadata": {
    "collapsed": true
   },
   "outputs": [],
   "source": []
  }
 ],
 "metadata": {
  "kernelspec": {
   "display_name": "Python 3",
   "language": "python",
   "name": "python3"
  },
  "language_info": {
   "codemirror_mode": {
    "name": "ipython",
    "version": 3
   },
   "file_extension": ".py",
   "mimetype": "text/x-python",
   "name": "python",
   "nbconvert_exporter": "python",
   "pygments_lexer": "ipython3",
   "version": "3.6.1"
  }
 },
 "nbformat": 4,
 "nbformat_minor": 2
}
